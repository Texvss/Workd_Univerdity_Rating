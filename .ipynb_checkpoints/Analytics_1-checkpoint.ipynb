{
 "cells": [
  {
   "cell_type": "code",
   "execution_count": 1,
   "metadata": {},
   "outputs": [
    {
     "data": {
      "application/javascript": [
       "\n",
       "            setTimeout(function() {\n",
       "                var nbb_cell_id = 1;\n",
       "                var nbb_unformatted_code = \"%load_ext nb_black\";\n",
       "                var nbb_formatted_code = \"%load_ext nb_black\";\n",
       "                var nbb_cells = Jupyter.notebook.get_cells();\n",
       "                for (var i = 0; i < nbb_cells.length; ++i) {\n",
       "                    if (nbb_cells[i].input_prompt_number == nbb_cell_id) {\n",
       "                        if (nbb_cells[i].get_text() == nbb_unformatted_code) {\n",
       "                             nbb_cells[i].set_text(nbb_formatted_code);\n",
       "                        }\n",
       "                        break;\n",
       "                    }\n",
       "                }\n",
       "            }, 500);\n",
       "            "
      ],
      "text/plain": [
       "<IPython.core.display.Javascript object>"
      ]
     },
     "metadata": {},
     "output_type": "display_data"
    }
   ],
   "source": [
    "%load_ext nb_black"
   ]
  },
  {
   "cell_type": "code",
   "execution_count": 2,
   "metadata": {},
   "outputs": [
    {
     "data": {
      "application/javascript": [
       "\n",
       "            setTimeout(function() {\n",
       "                var nbb_cell_id = 2;\n",
       "                var nbb_unformatted_code = \"import pandas as pd\";\n",
       "                var nbb_formatted_code = \"import pandas as pd\";\n",
       "                var nbb_cells = Jupyter.notebook.get_cells();\n",
       "                for (var i = 0; i < nbb_cells.length; ++i) {\n",
       "                    if (nbb_cells[i].input_prompt_number == nbb_cell_id) {\n",
       "                        if (nbb_cells[i].get_text() == nbb_unformatted_code) {\n",
       "                             nbb_cells[i].set_text(nbb_formatted_code);\n",
       "                        }\n",
       "                        break;\n",
       "                    }\n",
       "                }\n",
       "            }, 500);\n",
       "            "
      ],
      "text/plain": [
       "<IPython.core.display.Javascript object>"
      ]
     },
     "metadata": {},
     "output_type": "display_data"
    }
   ],
   "source": [
    "import pandas as pd"
   ]
  },
  {
   "cell_type": "code",
   "execution_count": 60,
   "metadata": {},
   "outputs": [
    {
     "data": {
      "text/html": [
       "<div>\n",
       "<style scoped>\n",
       "    .dataframe tbody tr th:only-of-type {\n",
       "        vertical-align: middle;\n",
       "    }\n",
       "\n",
       "    .dataframe tbody tr th {\n",
       "        vertical-align: top;\n",
       "    }\n",
       "\n",
       "    .dataframe thead th {\n",
       "        text-align: right;\n",
       "    }\n",
       "</style>\n",
       "<table border=\"1\" class=\"dataframe\">\n",
       "  <thead>\n",
       "    <tr style=\"text-align: right;\">\n",
       "      <th></th>\n",
       "      <th>playlist_url</th>\n",
       "      <th>year</th>\n",
       "      <th>track_id</th>\n",
       "      <th>track_name</th>\n",
       "      <th>track_popularity</th>\n",
       "      <th>album</th>\n",
       "      <th>artist_id</th>\n",
       "      <th>artist_name</th>\n",
       "      <th>artist_genres</th>\n",
       "      <th>artist_popularity</th>\n",
       "      <th>...</th>\n",
       "      <th>loudness</th>\n",
       "      <th>mode</th>\n",
       "      <th>speechiness</th>\n",
       "      <th>acousticness</th>\n",
       "      <th>instrumentalness</th>\n",
       "      <th>liveness</th>\n",
       "      <th>valence</th>\n",
       "      <th>tempo</th>\n",
       "      <th>duration_ms</th>\n",
       "      <th>time_signature</th>\n",
       "    </tr>\n",
       "  </thead>\n",
       "  <tbody>\n",
       "    <tr>\n",
       "      <th>0</th>\n",
       "      <td>https://open.spotify.com/playlist/37i9dQZF1DWU...</td>\n",
       "      <td>2000</td>\n",
       "      <td>3AJwUDP919kvQ9QcozQPxg</td>\n",
       "      <td>Yellow</td>\n",
       "      <td>91</td>\n",
       "      <td>Parachutes</td>\n",
       "      <td>4gzpq5DPGxSnKTe4SA8HAU</td>\n",
       "      <td>Coldplay</td>\n",
       "      <td>['permanent wave', 'pop']</td>\n",
       "      <td>86</td>\n",
       "      <td>...</td>\n",
       "      <td>-7.227</td>\n",
       "      <td>1.0</td>\n",
       "      <td>0.0281</td>\n",
       "      <td>0.00239</td>\n",
       "      <td>0.000121</td>\n",
       "      <td>0.2340</td>\n",
       "      <td>0.285</td>\n",
       "      <td>173.372</td>\n",
       "      <td>266773.0</td>\n",
       "      <td>4.0</td>\n",
       "    </tr>\n",
       "    <tr>\n",
       "      <th>1</th>\n",
       "      <td>https://open.spotify.com/playlist/37i9dQZF1DWU...</td>\n",
       "      <td>2000</td>\n",
       "      <td>2m1hi0nfMR9vdGC8UcrnwU</td>\n",
       "      <td>All The Small Things</td>\n",
       "      <td>84</td>\n",
       "      <td>Enema Of The State</td>\n",
       "      <td>6FBDaR13swtiWwGhX1WQsP</td>\n",
       "      <td>blink-182</td>\n",
       "      <td>['alternative metal', 'modern rock', 'pop punk...</td>\n",
       "      <td>75</td>\n",
       "      <td>...</td>\n",
       "      <td>-4.918</td>\n",
       "      <td>1.0</td>\n",
       "      <td>0.0488</td>\n",
       "      <td>0.01030</td>\n",
       "      <td>0.000000</td>\n",
       "      <td>0.6120</td>\n",
       "      <td>0.684</td>\n",
       "      <td>148.726</td>\n",
       "      <td>167067.0</td>\n",
       "      <td>4.0</td>\n",
       "    </tr>\n",
       "    <tr>\n",
       "      <th>2</th>\n",
       "      <td>https://open.spotify.com/playlist/37i9dQZF1DWU...</td>\n",
       "      <td>2000</td>\n",
       "      <td>3y4LxiYMgDl4RethdzpmNe</td>\n",
       "      <td>Breathe</td>\n",
       "      <td>69</td>\n",
       "      <td>Breathe</td>\n",
       "      <td>25NQNriVT2YbSW80ILRWJa</td>\n",
       "      <td>Faith Hill</td>\n",
       "      <td>['contemporary country', 'country', 'country d...</td>\n",
       "      <td>61</td>\n",
       "      <td>...</td>\n",
       "      <td>-9.007</td>\n",
       "      <td>1.0</td>\n",
       "      <td>0.0290</td>\n",
       "      <td>0.17300</td>\n",
       "      <td>0.000000</td>\n",
       "      <td>0.2510</td>\n",
       "      <td>0.278</td>\n",
       "      <td>136.859</td>\n",
       "      <td>250547.0</td>\n",
       "      <td>4.0</td>\n",
       "    </tr>\n",
       "    <tr>\n",
       "      <th>3</th>\n",
       "      <td>https://open.spotify.com/playlist/37i9dQZF1DWU...</td>\n",
       "      <td>2000</td>\n",
       "      <td>60a0Rd6pjrkxjPbaKzXjfq</td>\n",
       "      <td>In the End</td>\n",
       "      <td>88</td>\n",
       "      <td>Hybrid Theory (Bonus Edition)</td>\n",
       "      <td>6XyY86QOPPrYVGvF9ch6wz</td>\n",
       "      <td>Linkin Park</td>\n",
       "      <td>['alternative metal', 'nu metal', 'post-grunge...</td>\n",
       "      <td>83</td>\n",
       "      <td>...</td>\n",
       "      <td>-5.870</td>\n",
       "      <td>0.0</td>\n",
       "      <td>0.0584</td>\n",
       "      <td>0.00958</td>\n",
       "      <td>0.000000</td>\n",
       "      <td>0.2090</td>\n",
       "      <td>0.400</td>\n",
       "      <td>105.143</td>\n",
       "      <td>216880.0</td>\n",
       "      <td>4.0</td>\n",
       "    </tr>\n",
       "    <tr>\n",
       "      <th>4</th>\n",
       "      <td>https://open.spotify.com/playlist/37i9dQZF1DWU...</td>\n",
       "      <td>2000</td>\n",
       "      <td>62bOmKYxYg7dhrC6gH9vFn</td>\n",
       "      <td>Bye Bye Bye</td>\n",
       "      <td>74</td>\n",
       "      <td>No Strings Attached</td>\n",
       "      <td>6Ff53KvcvAj5U7Z1vojB5o</td>\n",
       "      <td>*NSYNC</td>\n",
       "      <td>['boy band', 'dance pop', 'pop']</td>\n",
       "      <td>65</td>\n",
       "      <td>...</td>\n",
       "      <td>-4.843</td>\n",
       "      <td>0.0</td>\n",
       "      <td>0.0479</td>\n",
       "      <td>0.03100</td>\n",
       "      <td>0.001200</td>\n",
       "      <td>0.0821</td>\n",
       "      <td>0.861</td>\n",
       "      <td>172.638</td>\n",
       "      <td>200400.0</td>\n",
       "      <td>4.0</td>\n",
       "    </tr>\n",
       "  </tbody>\n",
       "</table>\n",
       "<p>5 rows × 23 columns</p>\n",
       "</div>"
      ],
      "text/plain": [
       "                                        playlist_url  year  \\\n",
       "0  https://open.spotify.com/playlist/37i9dQZF1DWU...  2000   \n",
       "1  https://open.spotify.com/playlist/37i9dQZF1DWU...  2000   \n",
       "2  https://open.spotify.com/playlist/37i9dQZF1DWU...  2000   \n",
       "3  https://open.spotify.com/playlist/37i9dQZF1DWU...  2000   \n",
       "4  https://open.spotify.com/playlist/37i9dQZF1DWU...  2000   \n",
       "\n",
       "                 track_id            track_name  track_popularity  \\\n",
       "0  3AJwUDP919kvQ9QcozQPxg                Yellow                91   \n",
       "1  2m1hi0nfMR9vdGC8UcrnwU  All The Small Things                84   \n",
       "2  3y4LxiYMgDl4RethdzpmNe               Breathe                69   \n",
       "3  60a0Rd6pjrkxjPbaKzXjfq            In the End                88   \n",
       "4  62bOmKYxYg7dhrC6gH9vFn           Bye Bye Bye                74   \n",
       "\n",
       "                           album               artist_id  artist_name  \\\n",
       "0                     Parachutes  4gzpq5DPGxSnKTe4SA8HAU     Coldplay   \n",
       "1             Enema Of The State  6FBDaR13swtiWwGhX1WQsP    blink-182   \n",
       "2                        Breathe  25NQNriVT2YbSW80ILRWJa   Faith Hill   \n",
       "3  Hybrid Theory (Bonus Edition)  6XyY86QOPPrYVGvF9ch6wz  Linkin Park   \n",
       "4            No Strings Attached  6Ff53KvcvAj5U7Z1vojB5o       *NSYNC   \n",
       "\n",
       "                                       artist_genres  artist_popularity  ...  \\\n",
       "0                          ['permanent wave', 'pop']                 86  ...   \n",
       "1  ['alternative metal', 'modern rock', 'pop punk...                 75  ...   \n",
       "2  ['contemporary country', 'country', 'country d...                 61  ...   \n",
       "3  ['alternative metal', 'nu metal', 'post-grunge...                 83  ...   \n",
       "4                   ['boy band', 'dance pop', 'pop']                 65  ...   \n",
       "\n",
       "   loudness  mode  speechiness  acousticness  instrumentalness  liveness  \\\n",
       "0    -7.227   1.0       0.0281       0.00239          0.000121    0.2340   \n",
       "1    -4.918   1.0       0.0488       0.01030          0.000000    0.6120   \n",
       "2    -9.007   1.0       0.0290       0.17300          0.000000    0.2510   \n",
       "3    -5.870   0.0       0.0584       0.00958          0.000000    0.2090   \n",
       "4    -4.843   0.0       0.0479       0.03100          0.001200    0.0821   \n",
       "\n",
       "   valence    tempo  duration_ms  time_signature  \n",
       "0    0.285  173.372     266773.0             4.0  \n",
       "1    0.684  148.726     167067.0             4.0  \n",
       "2    0.278  136.859     250547.0             4.0  \n",
       "3    0.400  105.143     216880.0             4.0  \n",
       "4    0.861  172.638     200400.0             4.0  \n",
       "\n",
       "[5 rows x 23 columns]"
      ]
     },
     "execution_count": 60,
     "metadata": {},
     "output_type": "execute_result"
    },
    {
     "data": {
      "application/javascript": [
       "\n",
       "            setTimeout(function() {\n",
       "                var nbb_cell_id = 60;\n",
       "                var nbb_unformatted_code = \"df = pd.read_csv(\\\"./data/playlist_2010to2022.csv\\\")\\ndf.head()\";\n",
       "                var nbb_formatted_code = \"df = pd.read_csv(\\\"./data/playlist_2010to2022.csv\\\")\\ndf.head()\";\n",
       "                var nbb_cells = Jupyter.notebook.get_cells();\n",
       "                for (var i = 0; i < nbb_cells.length; ++i) {\n",
       "                    if (nbb_cells[i].input_prompt_number == nbb_cell_id) {\n",
       "                        if (nbb_cells[i].get_text() == nbb_unformatted_code) {\n",
       "                             nbb_cells[i].set_text(nbb_formatted_code);\n",
       "                        }\n",
       "                        break;\n",
       "                    }\n",
       "                }\n",
       "            }, 500);\n",
       "            "
      ],
      "text/plain": [
       "<IPython.core.display.Javascript object>"
      ]
     },
     "metadata": {},
     "output_type": "display_data"
    }
   ],
   "source": [
    "df = pd.read_csv(\"./data/playlist_2010to2022.csv\")\n",
    "df.head()"
   ]
  },
  {
   "cell_type": "code",
   "execution_count": 6,
   "metadata": {},
   "outputs": [
    {
     "data": {
      "text/html": [
       "<div>\n",
       "<style scoped>\n",
       "    .dataframe tbody tr th:only-of-type {\n",
       "        vertical-align: middle;\n",
       "    }\n",
       "\n",
       "    .dataframe tbody tr th {\n",
       "        vertical-align: top;\n",
       "    }\n",
       "\n",
       "    .dataframe thead th {\n",
       "        text-align: right;\n",
       "    }\n",
       "</style>\n",
       "<table border=\"1\" class=\"dataframe\">\n",
       "  <thead>\n",
       "    <tr style=\"text-align: right;\">\n",
       "      <th></th>\n",
       "      <th>playlist_url</th>\n",
       "      <th>year</th>\n",
       "      <th>track_id</th>\n",
       "      <th>track_name</th>\n",
       "      <th>track_popularity</th>\n",
       "      <th>album</th>\n",
       "      <th>artist_id</th>\n",
       "      <th>artist_name</th>\n",
       "      <th>artist_genres</th>\n",
       "      <th>artist_popularity</th>\n",
       "      <th>...</th>\n",
       "      <th>loudness</th>\n",
       "      <th>mode</th>\n",
       "      <th>speechiness</th>\n",
       "      <th>acousticness</th>\n",
       "      <th>instrumentalness</th>\n",
       "      <th>liveness</th>\n",
       "      <th>valence</th>\n",
       "      <th>tempo</th>\n",
       "      <th>duration_ms</th>\n",
       "      <th>time_signature</th>\n",
       "    </tr>\n",
       "  </thead>\n",
       "  <tbody>\n",
       "    <tr>\n",
       "      <th>2295</th>\n",
       "      <td>https://open.spotify.com/playlist/56r5qRUv3jSx...</td>\n",
       "      <td>2022</td>\n",
       "      <td>2g6tReTlM2Akp41g0HaeXN</td>\n",
       "      <td>Die Hard</td>\n",
       "      <td>79</td>\n",
       "      <td>Mr. Morale &amp; The Big Steppers</td>\n",
       "      <td>2YZyLoL8N0Wb9xBt1NhZWg</td>\n",
       "      <td>Kendrick Lamar</td>\n",
       "      <td>['conscious hip hop', 'hip hop', 'rap', 'west ...</td>\n",
       "      <td>86</td>\n",
       "      <td>...</td>\n",
       "      <td>-8.072</td>\n",
       "      <td>0.0</td>\n",
       "      <td>0.2470</td>\n",
       "      <td>0.31900</td>\n",
       "      <td>0.00116</td>\n",
       "      <td>0.1270</td>\n",
       "      <td>0.362</td>\n",
       "      <td>100.988</td>\n",
       "      <td>239027.0</td>\n",
       "      <td>4.0</td>\n",
       "    </tr>\n",
       "    <tr>\n",
       "      <th>2296</th>\n",
       "      <td>https://open.spotify.com/playlist/56r5qRUv3jSx...</td>\n",
       "      <td>2022</td>\n",
       "      <td>4pi1G1x8tl9VfdD9bL3maT</td>\n",
       "      <td>Big Energy</td>\n",
       "      <td>69</td>\n",
       "      <td>777</td>\n",
       "      <td>3MdXrJWsbVzdn6fe5JYkSQ</td>\n",
       "      <td>Latto</td>\n",
       "      <td>['trap queen']</td>\n",
       "      <td>85</td>\n",
       "      <td>...</td>\n",
       "      <td>-4.431</td>\n",
       "      <td>0.0</td>\n",
       "      <td>0.1150</td>\n",
       "      <td>0.04530</td>\n",
       "      <td>0.00000</td>\n",
       "      <td>0.3410</td>\n",
       "      <td>0.794</td>\n",
       "      <td>106.022</td>\n",
       "      <td>172540.0</td>\n",
       "      <td>4.0</td>\n",
       "    </tr>\n",
       "    <tr>\n",
       "      <th>2297</th>\n",
       "      <td>https://open.spotify.com/playlist/56r5qRUv3jSx...</td>\n",
       "      <td>2022</td>\n",
       "      <td>3LtpKP5abr2qqjunvjlX5i</td>\n",
       "      <td>Doja</td>\n",
       "      <td>86</td>\n",
       "      <td>Doja</td>\n",
       "      <td>5H4yInM5zmHqpKIoMNAx4r</td>\n",
       "      <td>Central Cee</td>\n",
       "      <td>['melodic drill']</td>\n",
       "      <td>82</td>\n",
       "      <td>...</td>\n",
       "      <td>-7.430</td>\n",
       "      <td>1.0</td>\n",
       "      <td>0.2880</td>\n",
       "      <td>0.38000</td>\n",
       "      <td>0.00000</td>\n",
       "      <td>0.4030</td>\n",
       "      <td>0.972</td>\n",
       "      <td>140.040</td>\n",
       "      <td>97393.0</td>\n",
       "      <td>4.0</td>\n",
       "    </tr>\n",
       "    <tr>\n",
       "      <th>2298</th>\n",
       "      <td>https://open.spotify.com/playlist/56r5qRUv3jSx...</td>\n",
       "      <td>2022</td>\n",
       "      <td>3XOalgusokruzA5ZBA2Qcb</td>\n",
       "      <td>pushin P (feat. Young Thug)</td>\n",
       "      <td>77</td>\n",
       "      <td>DS4EVER</td>\n",
       "      <td>2hlmm7s2ICUX0LVIhVFlZQ</td>\n",
       "      <td>Gunna</td>\n",
       "      <td>['atl hip hop', 'melodic rap', 'rap', 'trap']</td>\n",
       "      <td>84</td>\n",
       "      <td>...</td>\n",
       "      <td>-4.572</td>\n",
       "      <td>0.0</td>\n",
       "      <td>0.1870</td>\n",
       "      <td>0.00783</td>\n",
       "      <td>0.00693</td>\n",
       "      <td>0.1290</td>\n",
       "      <td>0.488</td>\n",
       "      <td>77.502</td>\n",
       "      <td>136267.0</td>\n",
       "      <td>1.0</td>\n",
       "    </tr>\n",
       "    <tr>\n",
       "      <th>2299</th>\n",
       "      <td>https://open.spotify.com/playlist/56r5qRUv3jSx...</td>\n",
       "      <td>2022</td>\n",
       "      <td>1r8ZCjfrQxoy2wVaBUbpwg</td>\n",
       "      <td>Thousand Miles</td>\n",
       "      <td>77</td>\n",
       "      <td>Thousand Miles</td>\n",
       "      <td>2tIP7SsRs7vjIcLrU85W8J</td>\n",
       "      <td>The Kid LAROI</td>\n",
       "      <td>['australian hip hop']</td>\n",
       "      <td>78</td>\n",
       "      <td>...</td>\n",
       "      <td>-4.658</td>\n",
       "      <td>1.0</td>\n",
       "      <td>0.0768</td>\n",
       "      <td>0.08580</td>\n",
       "      <td>0.00000</td>\n",
       "      <td>0.0884</td>\n",
       "      <td>0.203</td>\n",
       "      <td>80.565</td>\n",
       "      <td>164782.0</td>\n",
       "      <td>4.0</td>\n",
       "    </tr>\n",
       "  </tbody>\n",
       "</table>\n",
       "<p>5 rows × 23 columns</p>\n",
       "</div>"
      ],
      "text/plain": [
       "                                           playlist_url  year  \\\n",
       "2295  https://open.spotify.com/playlist/56r5qRUv3jSx...  2022   \n",
       "2296  https://open.spotify.com/playlist/56r5qRUv3jSx...  2022   \n",
       "2297  https://open.spotify.com/playlist/56r5qRUv3jSx...  2022   \n",
       "2298  https://open.spotify.com/playlist/56r5qRUv3jSx...  2022   \n",
       "2299  https://open.spotify.com/playlist/56r5qRUv3jSx...  2022   \n",
       "\n",
       "                    track_id                   track_name  track_popularity  \\\n",
       "2295  2g6tReTlM2Akp41g0HaeXN                     Die Hard                79   \n",
       "2296  4pi1G1x8tl9VfdD9bL3maT                   Big Energy                69   \n",
       "2297  3LtpKP5abr2qqjunvjlX5i                         Doja                86   \n",
       "2298  3XOalgusokruzA5ZBA2Qcb  pushin P (feat. Young Thug)                77   \n",
       "2299  1r8ZCjfrQxoy2wVaBUbpwg               Thousand Miles                77   \n",
       "\n",
       "                              album               artist_id     artist_name  \\\n",
       "2295  Mr. Morale & The Big Steppers  2YZyLoL8N0Wb9xBt1NhZWg  Kendrick Lamar   \n",
       "2296                            777  3MdXrJWsbVzdn6fe5JYkSQ           Latto   \n",
       "2297                           Doja  5H4yInM5zmHqpKIoMNAx4r     Central Cee   \n",
       "2298                        DS4EVER  2hlmm7s2ICUX0LVIhVFlZQ           Gunna   \n",
       "2299                 Thousand Miles  2tIP7SsRs7vjIcLrU85W8J   The Kid LAROI   \n",
       "\n",
       "                                          artist_genres  artist_popularity  \\\n",
       "2295  ['conscious hip hop', 'hip hop', 'rap', 'west ...                 86   \n",
       "2296                                     ['trap queen']                 85   \n",
       "2297                                  ['melodic drill']                 82   \n",
       "2298      ['atl hip hop', 'melodic rap', 'rap', 'trap']                 84   \n",
       "2299                             ['australian hip hop']                 78   \n",
       "\n",
       "      ...  loudness  mode  speechiness  acousticness  instrumentalness  \\\n",
       "2295  ...    -8.072   0.0       0.2470       0.31900           0.00116   \n",
       "2296  ...    -4.431   0.0       0.1150       0.04530           0.00000   \n",
       "2297  ...    -7.430   1.0       0.2880       0.38000           0.00000   \n",
       "2298  ...    -4.572   0.0       0.1870       0.00783           0.00693   \n",
       "2299  ...    -4.658   1.0       0.0768       0.08580           0.00000   \n",
       "\n",
       "      liveness  valence    tempo  duration_ms  time_signature  \n",
       "2295    0.1270    0.362  100.988     239027.0             4.0  \n",
       "2296    0.3410    0.794  106.022     172540.0             4.0  \n",
       "2297    0.4030    0.972  140.040      97393.0             4.0  \n",
       "2298    0.1290    0.488   77.502     136267.0             1.0  \n",
       "2299    0.0884    0.203   80.565     164782.0             4.0  \n",
       "\n",
       "[5 rows x 23 columns]"
      ]
     },
     "execution_count": 6,
     "metadata": {},
     "output_type": "execute_result"
    },
    {
     "data": {
      "application/javascript": [
       "\n",
       "            setTimeout(function() {\n",
       "                var nbb_cell_id = 6;\n",
       "                var nbb_unformatted_code = \"df.tail()\";\n",
       "                var nbb_formatted_code = \"df.tail()\";\n",
       "                var nbb_cells = Jupyter.notebook.get_cells();\n",
       "                for (var i = 0; i < nbb_cells.length; ++i) {\n",
       "                    if (nbb_cells[i].input_prompt_number == nbb_cell_id) {\n",
       "                        if (nbb_cells[i].get_text() == nbb_unformatted_code) {\n",
       "                             nbb_cells[i].set_text(nbb_formatted_code);\n",
       "                        }\n",
       "                        break;\n",
       "                    }\n",
       "                }\n",
       "            }, 500);\n",
       "            "
      ],
      "text/plain": [
       "<IPython.core.display.Javascript object>"
      ]
     },
     "metadata": {},
     "output_type": "display_data"
    }
   ],
   "source": [
    "df.tail()"
   ]
  },
  {
   "cell_type": "code",
   "execution_count": 10,
   "metadata": {},
   "outputs": [
    {
     "name": "stdout",
     "output_type": "stream",
     "text": [
      "<class 'pandas.core.frame.DataFrame'>\n",
      "RangeIndex: 2300 entries, 0 to 2299\n",
      "Data columns (total 23 columns):\n",
      " #   Column             Non-Null Count  Dtype  \n",
      "---  ------             --------------  -----  \n",
      " 0   playlist_url       2300 non-null   object \n",
      " 1   year               2300 non-null   int64  \n",
      " 2   track_id           2300 non-null   object \n",
      " 3   track_name         2300 non-null   object \n",
      " 4   track_popularity   2300 non-null   int64  \n",
      " 5   album              2300 non-null   object \n",
      " 6   artist_id          2300 non-null   object \n",
      " 7   artist_name        2300 non-null   object \n",
      " 8   artist_genres      2300 non-null   object \n",
      " 9   artist_popularity  2300 non-null   int64  \n",
      " 10  danceability       2299 non-null   float64\n",
      " 11  energy             2299 non-null   float64\n",
      " 12  key                2299 non-null   float64\n",
      " 13  loudness           2299 non-null   float64\n",
      " 14  mode               2299 non-null   float64\n",
      " 15  speechiness        2299 non-null   float64\n",
      " 16  acousticness       2299 non-null   float64\n",
      " 17  instrumentalness   2299 non-null   float64\n",
      " 18  liveness           2299 non-null   float64\n",
      " 19  valence            2299 non-null   float64\n",
      " 20  tempo              2299 non-null   float64\n",
      " 21  duration_ms        2299 non-null   float64\n",
      " 22  time_signature     2299 non-null   float64\n",
      "dtypes: float64(13), int64(3), object(7)\n",
      "memory usage: 413.4+ KB\n"
     ]
    },
    {
     "data": {
      "application/javascript": [
       "\n",
       "            setTimeout(function() {\n",
       "                var nbb_cell_id = 10;\n",
       "                var nbb_unformatted_code = \"df.info() # Print a concise summary of a DataFrame\";\n",
       "                var nbb_formatted_code = \"df.info()  # Print a concise summary of a DataFrame\";\n",
       "                var nbb_cells = Jupyter.notebook.get_cells();\n",
       "                for (var i = 0; i < nbb_cells.length; ++i) {\n",
       "                    if (nbb_cells[i].input_prompt_number == nbb_cell_id) {\n",
       "                        if (nbb_cells[i].get_text() == nbb_unformatted_code) {\n",
       "                             nbb_cells[i].set_text(nbb_formatted_code);\n",
       "                        }\n",
       "                        break;\n",
       "                    }\n",
       "                }\n",
       "            }, 500);\n",
       "            "
      ],
      "text/plain": [
       "<IPython.core.display.Javascript object>"
      ]
     },
     "metadata": {},
     "output_type": "display_data"
    }
   ],
   "source": [
    "df.info()  # Print a concise summary of a DataFrame"
   ]
  },
  {
   "cell_type": "code",
   "execution_count": 11,
   "metadata": {},
   "outputs": [
    {
     "data": {
      "text/html": [
       "<div>\n",
       "<style scoped>\n",
       "    .dataframe tbody tr th:only-of-type {\n",
       "        vertical-align: middle;\n",
       "    }\n",
       "\n",
       "    .dataframe tbody tr th {\n",
       "        vertical-align: top;\n",
       "    }\n",
       "\n",
       "    .dataframe thead th {\n",
       "        text-align: right;\n",
       "    }\n",
       "</style>\n",
       "<table border=\"1\" class=\"dataframe\">\n",
       "  <thead>\n",
       "    <tr style=\"text-align: right;\">\n",
       "      <th></th>\n",
       "      <th>playlist_url</th>\n",
       "      <th>year</th>\n",
       "      <th>track_id</th>\n",
       "      <th>track_name</th>\n",
       "      <th>track_popularity</th>\n",
       "      <th>album</th>\n",
       "      <th>artist_id</th>\n",
       "      <th>artist_name</th>\n",
       "      <th>artist_genres</th>\n",
       "      <th>artist_popularity</th>\n",
       "      <th>...</th>\n",
       "      <th>loudness</th>\n",
       "      <th>mode</th>\n",
       "      <th>speechiness</th>\n",
       "      <th>acousticness</th>\n",
       "      <th>instrumentalness</th>\n",
       "      <th>liveness</th>\n",
       "      <th>valence</th>\n",
       "      <th>tempo</th>\n",
       "      <th>duration_ms</th>\n",
       "      <th>time_signature</th>\n",
       "    </tr>\n",
       "  </thead>\n",
       "  <tbody>\n",
       "    <tr>\n",
       "      <th>count</th>\n",
       "      <td>2300</td>\n",
       "      <td>2300.000000</td>\n",
       "      <td>2300</td>\n",
       "      <td>2300</td>\n",
       "      <td>2300.000000</td>\n",
       "      <td>2300</td>\n",
       "      <td>2300</td>\n",
       "      <td>2300</td>\n",
       "      <td>2300</td>\n",
       "      <td>2300.000000</td>\n",
       "      <td>...</td>\n",
       "      <td>2299.000000</td>\n",
       "      <td>2299.000000</td>\n",
       "      <td>2299.000000</td>\n",
       "      <td>2299.000000</td>\n",
       "      <td>2299.000000</td>\n",
       "      <td>2299.000000</td>\n",
       "      <td>2299.000000</td>\n",
       "      <td>2299.000000</td>\n",
       "      <td>2299.000000</td>\n",
       "      <td>2299.000000</td>\n",
       "    </tr>\n",
       "    <tr>\n",
       "      <th>unique</th>\n",
       "      <td>23</td>\n",
       "      <td>NaN</td>\n",
       "      <td>2202</td>\n",
       "      <td>2121</td>\n",
       "      <td>NaN</td>\n",
       "      <td>1663</td>\n",
       "      <td>891</td>\n",
       "      <td>891</td>\n",
       "      <td>698</td>\n",
       "      <td>NaN</td>\n",
       "      <td>...</td>\n",
       "      <td>NaN</td>\n",
       "      <td>NaN</td>\n",
       "      <td>NaN</td>\n",
       "      <td>NaN</td>\n",
       "      <td>NaN</td>\n",
       "      <td>NaN</td>\n",
       "      <td>NaN</td>\n",
       "      <td>NaN</td>\n",
       "      <td>NaN</td>\n",
       "      <td>NaN</td>\n",
       "    </tr>\n",
       "    <tr>\n",
       "      <th>top</th>\n",
       "      <td>https://open.spotify.com/playlist/37i9dQZF1DX9...</td>\n",
       "      <td>NaN</td>\n",
       "      <td>6lanRgr6wXibZr8KgzXxBl</td>\n",
       "      <td>Home</td>\n",
       "      <td>NaN</td>\n",
       "      <td>18 Months</td>\n",
       "      <td>3TVXtAsR1Inumwj472S9r4</td>\n",
       "      <td>Drake</td>\n",
       "      <td>['pop']</td>\n",
       "      <td>NaN</td>\n",
       "      <td>...</td>\n",
       "      <td>NaN</td>\n",
       "      <td>NaN</td>\n",
       "      <td>NaN</td>\n",
       "      <td>NaN</td>\n",
       "      <td>NaN</td>\n",
       "      <td>NaN</td>\n",
       "      <td>NaN</td>\n",
       "      <td>NaN</td>\n",
       "      <td>NaN</td>\n",
       "      <td>NaN</td>\n",
       "    </tr>\n",
       "    <tr>\n",
       "      <th>freq</th>\n",
       "      <td>100</td>\n",
       "      <td>NaN</td>\n",
       "      <td>3</td>\n",
       "      <td>5</td>\n",
       "      <td>NaN</td>\n",
       "      <td>8</td>\n",
       "      <td>32</td>\n",
       "      <td>32</td>\n",
       "      <td>135</td>\n",
       "      <td>NaN</td>\n",
       "      <td>...</td>\n",
       "      <td>NaN</td>\n",
       "      <td>NaN</td>\n",
       "      <td>NaN</td>\n",
       "      <td>NaN</td>\n",
       "      <td>NaN</td>\n",
       "      <td>NaN</td>\n",
       "      <td>NaN</td>\n",
       "      <td>NaN</td>\n",
       "      <td>NaN</td>\n",
       "      <td>NaN</td>\n",
       "    </tr>\n",
       "    <tr>\n",
       "      <th>mean</th>\n",
       "      <td>NaN</td>\n",
       "      <td>2011.000000</td>\n",
       "      <td>NaN</td>\n",
       "      <td>NaN</td>\n",
       "      <td>70.943478</td>\n",
       "      <td>NaN</td>\n",
       "      <td>NaN</td>\n",
       "      <td>NaN</td>\n",
       "      <td>NaN</td>\n",
       "      <td>72.869565</td>\n",
       "      <td>...</td>\n",
       "      <td>-5.784040</td>\n",
       "      <td>0.598521</td>\n",
       "      <td>0.097795</td>\n",
       "      <td>0.157689</td>\n",
       "      <td>0.013766</td>\n",
       "      <td>0.172618</td>\n",
       "      <td>0.535110</td>\n",
       "      <td>120.512450</td>\n",
       "      <td>226033.494128</td>\n",
       "      <td>3.982166</td>\n",
       "    </tr>\n",
       "    <tr>\n",
       "      <th>std</th>\n",
       "      <td>NaN</td>\n",
       "      <td>6.634692</td>\n",
       "      <td>NaN</td>\n",
       "      <td>NaN</td>\n",
       "      <td>12.291526</td>\n",
       "      <td>NaN</td>\n",
       "      <td>NaN</td>\n",
       "      <td>NaN</td>\n",
       "      <td>NaN</td>\n",
       "      <td>12.179263</td>\n",
       "      <td>...</td>\n",
       "      <td>2.080853</td>\n",
       "      <td>0.490304</td>\n",
       "      <td>0.092445</td>\n",
       "      <td>0.203844</td>\n",
       "      <td>0.083990</td>\n",
       "      <td>0.131620</td>\n",
       "      <td>0.227821</td>\n",
       "      <td>27.617729</td>\n",
       "      <td>42063.678588</td>\n",
       "      <td>0.219054</td>\n",
       "    </tr>\n",
       "    <tr>\n",
       "      <th>min</th>\n",
       "      <td>NaN</td>\n",
       "      <td>2000.000000</td>\n",
       "      <td>NaN</td>\n",
       "      <td>NaN</td>\n",
       "      <td>0.000000</td>\n",
       "      <td>NaN</td>\n",
       "      <td>NaN</td>\n",
       "      <td>NaN</td>\n",
       "      <td>NaN</td>\n",
       "      <td>29.000000</td>\n",
       "      <td>...</td>\n",
       "      <td>-21.107000</td>\n",
       "      <td>0.000000</td>\n",
       "      <td>0.022500</td>\n",
       "      <td>0.000013</td>\n",
       "      <td>0.000000</td>\n",
       "      <td>0.021000</td>\n",
       "      <td>0.037700</td>\n",
       "      <td>60.019000</td>\n",
       "      <td>97393.000000</td>\n",
       "      <td>1.000000</td>\n",
       "    </tr>\n",
       "    <tr>\n",
       "      <th>25%</th>\n",
       "      <td>NaN</td>\n",
       "      <td>2005.000000</td>\n",
       "      <td>NaN</td>\n",
       "      <td>NaN</td>\n",
       "      <td>66.000000</td>\n",
       "      <td>NaN</td>\n",
       "      <td>NaN</td>\n",
       "      <td>NaN</td>\n",
       "      <td>NaN</td>\n",
       "      <td>65.000000</td>\n",
       "      <td>...</td>\n",
       "      <td>-6.823500</td>\n",
       "      <td>0.000000</td>\n",
       "      <td>0.038000</td>\n",
       "      <td>0.016500</td>\n",
       "      <td>0.000000</td>\n",
       "      <td>0.089950</td>\n",
       "      <td>0.360500</td>\n",
       "      <td>98.569500</td>\n",
       "      <td>200179.500000</td>\n",
       "      <td>4.000000</td>\n",
       "    </tr>\n",
       "    <tr>\n",
       "      <th>50%</th>\n",
       "      <td>NaN</td>\n",
       "      <td>2011.000000</td>\n",
       "      <td>NaN</td>\n",
       "      <td>NaN</td>\n",
       "      <td>72.000000</td>\n",
       "      <td>NaN</td>\n",
       "      <td>NaN</td>\n",
       "      <td>NaN</td>\n",
       "      <td>NaN</td>\n",
       "      <td>74.000000</td>\n",
       "      <td>...</td>\n",
       "      <td>-5.511000</td>\n",
       "      <td>1.000000</td>\n",
       "      <td>0.056800</td>\n",
       "      <td>0.068900</td>\n",
       "      <td>0.000000</td>\n",
       "      <td>0.119000</td>\n",
       "      <td>0.540000</td>\n",
       "      <td>120.000000</td>\n",
       "      <td>221653.000000</td>\n",
       "      <td>4.000000</td>\n",
       "    </tr>\n",
       "    <tr>\n",
       "      <th>75%</th>\n",
       "      <td>NaN</td>\n",
       "      <td>2017.000000</td>\n",
       "      <td>NaN</td>\n",
       "      <td>NaN</td>\n",
       "      <td>79.000000</td>\n",
       "      <td>NaN</td>\n",
       "      <td>NaN</td>\n",
       "      <td>NaN</td>\n",
       "      <td>NaN</td>\n",
       "      <td>82.000000</td>\n",
       "      <td>...</td>\n",
       "      <td>-4.364500</td>\n",
       "      <td>1.000000</td>\n",
       "      <td>0.115500</td>\n",
       "      <td>0.223000</td>\n",
       "      <td>0.000054</td>\n",
       "      <td>0.220000</td>\n",
       "      <td>0.722000</td>\n",
       "      <td>137.028000</td>\n",
       "      <td>245950.000000</td>\n",
       "      <td>4.000000</td>\n",
       "    </tr>\n",
       "    <tr>\n",
       "      <th>max</th>\n",
       "      <td>NaN</td>\n",
       "      <td>2022.000000</td>\n",
       "      <td>NaN</td>\n",
       "      <td>NaN</td>\n",
       "      <td>100.000000</td>\n",
       "      <td>NaN</td>\n",
       "      <td>NaN</td>\n",
       "      <td>NaN</td>\n",
       "      <td>NaN</td>\n",
       "      <td>100.000000</td>\n",
       "      <td>...</td>\n",
       "      <td>-0.276000</td>\n",
       "      <td>1.000000</td>\n",
       "      <td>0.576000</td>\n",
       "      <td>0.978000</td>\n",
       "      <td>0.985000</td>\n",
       "      <td>0.843000</td>\n",
       "      <td>0.974000</td>\n",
       "      <td>210.857000</td>\n",
       "      <td>688453.000000</td>\n",
       "      <td>5.000000</td>\n",
       "    </tr>\n",
       "  </tbody>\n",
       "</table>\n",
       "<p>11 rows × 23 columns</p>\n",
       "</div>"
      ],
      "text/plain": [
       "                                             playlist_url         year  \\\n",
       "count                                                2300  2300.000000   \n",
       "unique                                                 23          NaN   \n",
       "top     https://open.spotify.com/playlist/37i9dQZF1DX9...          NaN   \n",
       "freq                                                  100          NaN   \n",
       "mean                                                  NaN  2011.000000   \n",
       "std                                                   NaN     6.634692   \n",
       "min                                                   NaN  2000.000000   \n",
       "25%                                                   NaN  2005.000000   \n",
       "50%                                                   NaN  2011.000000   \n",
       "75%                                                   NaN  2017.000000   \n",
       "max                                                   NaN  2022.000000   \n",
       "\n",
       "                      track_id track_name  track_popularity      album  \\\n",
       "count                     2300       2300       2300.000000       2300   \n",
       "unique                    2202       2121               NaN       1663   \n",
       "top     6lanRgr6wXibZr8KgzXxBl       Home               NaN  18 Months   \n",
       "freq                         3          5               NaN          8   \n",
       "mean                       NaN        NaN         70.943478        NaN   \n",
       "std                        NaN        NaN         12.291526        NaN   \n",
       "min                        NaN        NaN          0.000000        NaN   \n",
       "25%                        NaN        NaN         66.000000        NaN   \n",
       "50%                        NaN        NaN         72.000000        NaN   \n",
       "75%                        NaN        NaN         79.000000        NaN   \n",
       "max                        NaN        NaN        100.000000        NaN   \n",
       "\n",
       "                     artist_id artist_name artist_genres  artist_popularity  \\\n",
       "count                     2300        2300          2300        2300.000000   \n",
       "unique                     891         891           698                NaN   \n",
       "top     3TVXtAsR1Inumwj472S9r4       Drake       ['pop']                NaN   \n",
       "freq                        32          32           135                NaN   \n",
       "mean                       NaN         NaN           NaN          72.869565   \n",
       "std                        NaN         NaN           NaN          12.179263   \n",
       "min                        NaN         NaN           NaN          29.000000   \n",
       "25%                        NaN         NaN           NaN          65.000000   \n",
       "50%                        NaN         NaN           NaN          74.000000   \n",
       "75%                        NaN         NaN           NaN          82.000000   \n",
       "max                        NaN         NaN           NaN         100.000000   \n",
       "\n",
       "        ...     loudness         mode  speechiness  acousticness  \\\n",
       "count   ...  2299.000000  2299.000000  2299.000000   2299.000000   \n",
       "unique  ...          NaN          NaN          NaN           NaN   \n",
       "top     ...          NaN          NaN          NaN           NaN   \n",
       "freq    ...          NaN          NaN          NaN           NaN   \n",
       "mean    ...    -5.784040     0.598521     0.097795      0.157689   \n",
       "std     ...     2.080853     0.490304     0.092445      0.203844   \n",
       "min     ...   -21.107000     0.000000     0.022500      0.000013   \n",
       "25%     ...    -6.823500     0.000000     0.038000      0.016500   \n",
       "50%     ...    -5.511000     1.000000     0.056800      0.068900   \n",
       "75%     ...    -4.364500     1.000000     0.115500      0.223000   \n",
       "max     ...    -0.276000     1.000000     0.576000      0.978000   \n",
       "\n",
       "        instrumentalness     liveness      valence        tempo  \\\n",
       "count        2299.000000  2299.000000  2299.000000  2299.000000   \n",
       "unique               NaN          NaN          NaN          NaN   \n",
       "top                  NaN          NaN          NaN          NaN   \n",
       "freq                 NaN          NaN          NaN          NaN   \n",
       "mean            0.013766     0.172618     0.535110   120.512450   \n",
       "std             0.083990     0.131620     0.227821    27.617729   \n",
       "min             0.000000     0.021000     0.037700    60.019000   \n",
       "25%             0.000000     0.089950     0.360500    98.569500   \n",
       "50%             0.000000     0.119000     0.540000   120.000000   \n",
       "75%             0.000054     0.220000     0.722000   137.028000   \n",
       "max             0.985000     0.843000     0.974000   210.857000   \n",
       "\n",
       "          duration_ms  time_signature  \n",
       "count     2299.000000     2299.000000  \n",
       "unique            NaN             NaN  \n",
       "top               NaN             NaN  \n",
       "freq              NaN             NaN  \n",
       "mean    226033.494128        3.982166  \n",
       "std      42063.678588        0.219054  \n",
       "min      97393.000000        1.000000  \n",
       "25%     200179.500000        4.000000  \n",
       "50%     221653.000000        4.000000  \n",
       "75%     245950.000000        4.000000  \n",
       "max     688453.000000        5.000000  \n",
       "\n",
       "[11 rows x 23 columns]"
      ]
     },
     "execution_count": 11,
     "metadata": {},
     "output_type": "execute_result"
    },
    {
     "data": {
      "application/javascript": [
       "\n",
       "            setTimeout(function() {\n",
       "                var nbb_cell_id = 11;\n",
       "                var nbb_unformatted_code = \"df.describe(include=\\\"all\\\")\";\n",
       "                var nbb_formatted_code = \"df.describe(include=\\\"all\\\")\";\n",
       "                var nbb_cells = Jupyter.notebook.get_cells();\n",
       "                for (var i = 0; i < nbb_cells.length; ++i) {\n",
       "                    if (nbb_cells[i].input_prompt_number == nbb_cell_id) {\n",
       "                        if (nbb_cells[i].get_text() == nbb_unformatted_code) {\n",
       "                             nbb_cells[i].set_text(nbb_formatted_code);\n",
       "                        }\n",
       "                        break;\n",
       "                    }\n",
       "                }\n",
       "            }, 500);\n",
       "            "
      ],
      "text/plain": [
       "<IPython.core.display.Javascript object>"
      ]
     },
     "metadata": {},
     "output_type": "display_data"
    }
   ],
   "source": [
    "df.describe(include=\"all\")"
   ]
  },
  {
   "cell_type": "code",
   "execution_count": 17,
   "metadata": {},
   "outputs": [
    {
     "data": {
      "text/plain": [
       "0             Coldplay\n",
       "1            blink-182\n",
       "2           Faith Hill\n",
       "3          Linkin Park\n",
       "4               *NSYNC\n",
       "             ...      \n",
       "2295    Kendrick Lamar\n",
       "2296             Latto\n",
       "2297       Central Cee\n",
       "2298             Gunna\n",
       "2299     The Kid LAROI\n",
       "Name: artist_name, Length: 2300, dtype: object"
      ]
     },
     "execution_count": 17,
     "metadata": {},
     "output_type": "execute_result"
    },
    {
     "data": {
      "application/javascript": [
       "\n",
       "            setTimeout(function() {\n",
       "                var nbb_cell_id = 17;\n",
       "                var nbb_unformatted_code = \"df.artist_name  # or df['artist_name'] -- get 1 column\";\n",
       "                var nbb_formatted_code = \"df.artist_name  # or df['artist_name'] -- get 1 column\";\n",
       "                var nbb_cells = Jupyter.notebook.get_cells();\n",
       "                for (var i = 0; i < nbb_cells.length; ++i) {\n",
       "                    if (nbb_cells[i].input_prompt_number == nbb_cell_id) {\n",
       "                        if (nbb_cells[i].get_text() == nbb_unformatted_code) {\n",
       "                             nbb_cells[i].set_text(nbb_formatted_code);\n",
       "                        }\n",
       "                        break;\n",
       "                    }\n",
       "                }\n",
       "            }, 500);\n",
       "            "
      ],
      "text/plain": [
       "<IPython.core.display.Javascript object>"
      ]
     },
     "metadata": {},
     "output_type": "display_data"
    }
   ],
   "source": [
    "df.artist_name  # or df['artist_name'] -- get 1 column"
   ]
  },
  {
   "cell_type": "code",
   "execution_count": 35,
   "metadata": {},
   "outputs": [
    {
     "data": {
      "text/plain": [
       "891"
      ]
     },
     "execution_count": 35,
     "metadata": {},
     "output_type": "execute_result"
    },
    {
     "data": {
      "application/javascript": [
       "\n",
       "            setTimeout(function() {\n",
       "                var nbb_cell_id = 35;\n",
       "                var nbb_unformatted_code = \"df.artist_name.unique().size  # count unique artists\";\n",
       "                var nbb_formatted_code = \"df.artist_name.unique().size  # count unique artists\";\n",
       "                var nbb_cells = Jupyter.notebook.get_cells();\n",
       "                for (var i = 0; i < nbb_cells.length; ++i) {\n",
       "                    if (nbb_cells[i].input_prompt_number == nbb_cell_id) {\n",
       "                        if (nbb_cells[i].get_text() == nbb_unformatted_code) {\n",
       "                             nbb_cells[i].set_text(nbb_formatted_code);\n",
       "                        }\n",
       "                        break;\n",
       "                    }\n",
       "                }\n",
       "            }, 500);\n",
       "            "
      ],
      "text/plain": [
       "<IPython.core.display.Javascript object>"
      ]
     },
     "metadata": {},
     "output_type": "display_data"
    }
   ],
   "source": [
    "df.artist_name.unique().size  # count unique artists"
   ]
  },
  {
   "cell_type": "code",
   "execution_count": 26,
   "metadata": {},
   "outputs": [
    {
     "data": {
      "text/plain": [
       "Drake            32\n",
       "Taylor Swift     31\n",
       "Rihanna          27\n",
       "Ariana Grande    22\n",
       "BeyoncÃ©         22\n",
       "Name: artist_name, dtype: int64"
      ]
     },
     "execution_count": 26,
     "metadata": {},
     "output_type": "execute_result"
    },
    {
     "data": {
      "application/javascript": [
       "\n",
       "            setTimeout(function() {\n",
       "                var nbb_cell_id = 26;\n",
       "                var nbb_unformatted_code = \"df.artist_name.value_counts()[:5]  # top-5 artist by entries in the dataset\";\n",
       "                var nbb_formatted_code = \"df.artist_name.value_counts()[:5]  # top-5 artist by entries in the dataset\";\n",
       "                var nbb_cells = Jupyter.notebook.get_cells();\n",
       "                for (var i = 0; i < nbb_cells.length; ++i) {\n",
       "                    if (nbb_cells[i].input_prompt_number == nbb_cell_id) {\n",
       "                        if (nbb_cells[i].get_text() == nbb_unformatted_code) {\n",
       "                             nbb_cells[i].set_text(nbb_formatted_code);\n",
       "                        }\n",
       "                        break;\n",
       "                    }\n",
       "                }\n",
       "            }, 500);\n",
       "            "
      ],
      "text/plain": [
       "<IPython.core.display.Javascript object>"
      ]
     },
     "metadata": {},
     "output_type": "display_data"
    }
   ],
   "source": [
    "df.artist_name.value_counts()[:5]  # top-5 artist by entries in the dataset"
   ]
  },
  {
   "cell_type": "code",
   "execution_count": 38,
   "metadata": {},
   "outputs": [
    {
     "data": {
      "text/plain": [
       "302"
      ]
     },
     "execution_count": 38,
     "metadata": {},
     "output_type": "execute_result"
    },
    {
     "data": {
      "application/javascript": [
       "\n",
       "            setTimeout(function() {\n",
       "                var nbb_cell_id = 38;\n",
       "                var nbb_unformatted_code = \"df[df.track_name.str.contains(\\\"feat.\\\")].shape[0] # how many feats in the dataset\";\n",
       "                var nbb_formatted_code = \"df[df.track_name.str.contains(\\\"feat.\\\")].shape[0]  # how many feats in the dataset\";\n",
       "                var nbb_cells = Jupyter.notebook.get_cells();\n",
       "                for (var i = 0; i < nbb_cells.length; ++i) {\n",
       "                    if (nbb_cells[i].input_prompt_number == nbb_cell_id) {\n",
       "                        if (nbb_cells[i].get_text() == nbb_unformatted_code) {\n",
       "                             nbb_cells[i].set_text(nbb_formatted_code);\n",
       "                        }\n",
       "                        break;\n",
       "                    }\n",
       "                }\n",
       "            }, 500);\n",
       "            "
      ],
      "text/plain": [
       "<IPython.core.display.Javascript object>"
      ]
     },
     "metadata": {},
     "output_type": "display_data"
    }
   ],
   "source": [
    "df[df.track_name.str.contains(\"feat.\")].shape[0]  # how many feats in the dataset"
   ]
  },
  {
   "cell_type": "code",
   "execution_count": 61,
   "metadata": {},
   "outputs": [
    {
     "data": {
      "text/plain": [
       "pop                   994\n",
       "dance pop             538\n",
       "rap                   383\n",
       "pop rap               305\n",
       "hip hop               250\n",
       "r&b                   231\n",
       "urban contemporary    214\n",
       "trap                  134\n",
       "southern hip hop      132\n",
       "modern rock           128\n",
       "rock                  127\n",
       "canadian pop          112\n",
       "edm                   110\n",
       "hip pop                98\n",
       "pop dance              92\n",
       "dtype: int64"
      ]
     },
     "execution_count": 61,
     "metadata": {},
     "output_type": "execute_result"
    },
    {
     "data": {
      "application/javascript": [
       "\n",
       "            setTimeout(function() {\n",
       "                var nbb_cell_id = 61;\n",
       "                var nbb_unformatted_code = \"df.artist_genres = df.artist_genres.apply(lambda x: eval(x))\\ngenre_popularity = pd.Series(df.artist_genres.sum()).value_counts()\\ngenre_popularity[:15]  # top-15 genres\";\n",
       "                var nbb_formatted_code = \"df.artist_genres = df.artist_genres.apply(lambda x: eval(x))\\ngenre_popularity = pd.Series(df.artist_genres.sum()).value_counts()\\ngenre_popularity[:15]  # top-15 genres\";\n",
       "                var nbb_cells = Jupyter.notebook.get_cells();\n",
       "                for (var i = 0; i < nbb_cells.length; ++i) {\n",
       "                    if (nbb_cells[i].input_prompt_number == nbb_cell_id) {\n",
       "                        if (nbb_cells[i].get_text() == nbb_unformatted_code) {\n",
       "                             nbb_cells[i].set_text(nbb_formatted_code);\n",
       "                        }\n",
       "                        break;\n",
       "                    }\n",
       "                }\n",
       "            }, 500);\n",
       "            "
      ],
      "text/plain": [
       "<IPython.core.display.Javascript object>"
      ]
     },
     "metadata": {},
     "output_type": "display_data"
    }
   ],
   "source": [
    "df.artist_genres = df.artist_genres.apply(lambda x: eval(x))\n",
    "genre_popularity = pd.Series(df.artist_genres.sum()).value_counts()\n",
    "genre_popularity[:15]  # top-15 genres"
   ]
  },
  {
   "cell_type": "code",
   "execution_count": 66,
   "metadata": {},
   "outputs": [
    {
     "name": "stdout",
     "output_type": "stream",
     "text": [
      "['permanent wave', 'pop']\n"
     ]
    },
    {
     "data": {
      "text/plain": [
       "'pop'"
      ]
     },
     "execution_count": 66,
     "metadata": {},
     "output_type": "execute_result"
    },
    {
     "data": {
      "application/javascript": [
       "\n",
       "            setTimeout(function() {\n",
       "                var nbb_cell_id = 66;\n",
       "                var nbb_unformatted_code = \"# take most popular genre in list\\ndef take_most_pop(genres):\\n    return sorted(genres, key=lambda x: genre_popularity.loc[x], reverse=True)[0]\\n\\nprint(df.loc[0, \\\"artist_genres\\\"])\\ntake_most_pop(df.loc[0, \\\"artist_genres\\\"])\";\n",
       "                var nbb_formatted_code = \"# take most popular genre in list\\ndef take_most_pop(genres):\\n    return sorted(genres, key=lambda x: genre_popularity.loc[x], reverse=True)[0]\\n\\n\\nprint(df.loc[0, \\\"artist_genres\\\"])\\ntake_most_pop(df.loc[0, \\\"artist_genres\\\"])\";\n",
       "                var nbb_cells = Jupyter.notebook.get_cells();\n",
       "                for (var i = 0; i < nbb_cells.length; ++i) {\n",
       "                    if (nbb_cells[i].input_prompt_number == nbb_cell_id) {\n",
       "                        if (nbb_cells[i].get_text() == nbb_unformatted_code) {\n",
       "                             nbb_cells[i].set_text(nbb_formatted_code);\n",
       "                        }\n",
       "                        break;\n",
       "                    }\n",
       "                }\n",
       "            }, 500);\n",
       "            "
      ],
      "text/plain": [
       "<IPython.core.display.Javascript object>"
      ]
     },
     "metadata": {},
     "output_type": "display_data"
    }
   ],
   "source": [
    "# take most popular genre in list\n",
    "def take_most_pop(genres):\n",
    "    return sorted(genres, key=lambda x: genre_popularity.loc[x], reverse=True)[0]\n",
    "\n",
    "\n",
    "print(df.loc[0, \"artist_genres\"])\n",
    "take_most_pop(df.loc[0, \"artist_genres\"])"
   ]
  },
  {
   "cell_type": "code",
   "execution_count": 68,
   "metadata": {},
   "outputs": [
    {
     "data": {
      "text/html": [
       "<div>\n",
       "<style scoped>\n",
       "    .dataframe tbody tr th:only-of-type {\n",
       "        vertical-align: middle;\n",
       "    }\n",
       "\n",
       "    .dataframe tbody tr th {\n",
       "        vertical-align: top;\n",
       "    }\n",
       "\n",
       "    .dataframe thead th {\n",
       "        text-align: right;\n",
       "    }\n",
       "</style>\n",
       "<table border=\"1\" class=\"dataframe\">\n",
       "  <thead>\n",
       "    <tr style=\"text-align: right;\">\n",
       "      <th></th>\n",
       "      <th>artist_genres</th>\n",
       "      <th>only_one_genre</th>\n",
       "    </tr>\n",
       "  </thead>\n",
       "  <tbody>\n",
       "    <tr>\n",
       "      <th>0</th>\n",
       "      <td>[permanent wave, pop]</td>\n",
       "      <td>pop</td>\n",
       "    </tr>\n",
       "    <tr>\n",
       "      <th>1</th>\n",
       "      <td>[alternative metal, modern rock, pop punk, pun...</td>\n",
       "      <td>modern rock</td>\n",
       "    </tr>\n",
       "    <tr>\n",
       "      <th>2</th>\n",
       "      <td>[contemporary country, country, country dawn, ...</td>\n",
       "      <td>country</td>\n",
       "    </tr>\n",
       "    <tr>\n",
       "      <th>3</th>\n",
       "      <td>[alternative metal, nu metal, post-grunge, rap...</td>\n",
       "      <td>rock</td>\n",
       "    </tr>\n",
       "    <tr>\n",
       "      <th>4</th>\n",
       "      <td>[boy band, dance pop, pop]</td>\n",
       "      <td>pop</td>\n",
       "    </tr>\n",
       "  </tbody>\n",
       "</table>\n",
       "</div>"
      ],
      "text/plain": [
       "                                       artist_genres only_one_genre\n",
       "0                              [permanent wave, pop]            pop\n",
       "1  [alternative metal, modern rock, pop punk, pun...    modern rock\n",
       "2  [contemporary country, country, country dawn, ...        country\n",
       "3  [alternative metal, nu metal, post-grunge, rap...           rock\n",
       "4                         [boy band, dance pop, pop]            pop"
      ]
     },
     "execution_count": 68,
     "metadata": {},
     "output_type": "execute_result"
    },
    {
     "data": {
      "application/javascript": [
       "\n",
       "            setTimeout(function() {\n",
       "                var nbb_cell_id = 68;\n",
       "                var nbb_unformatted_code = \"df[\\\"only_one_genre\\\"] = df.artist_genres.apply(\\n    lambda x: take_most_pop(x) if x else \\\"no genre\\\"\\n)\\n\\ndf[[\\\"artist_genres\\\",\\\"only_one_genre\\\"]].head()\";\n",
       "                var nbb_formatted_code = \"df[\\\"only_one_genre\\\"] = df.artist_genres.apply(\\n    lambda x: take_most_pop(x) if x else \\\"no genre\\\"\\n)\\n\\ndf[[\\\"artist_genres\\\", \\\"only_one_genre\\\"]].head()\";\n",
       "                var nbb_cells = Jupyter.notebook.get_cells();\n",
       "                for (var i = 0; i < nbb_cells.length; ++i) {\n",
       "                    if (nbb_cells[i].input_prompt_number == nbb_cell_id) {\n",
       "                        if (nbb_cells[i].get_text() == nbb_unformatted_code) {\n",
       "                             nbb_cells[i].set_text(nbb_formatted_code);\n",
       "                        }\n",
       "                        break;\n",
       "                    }\n",
       "                }\n",
       "            }, 500);\n",
       "            "
      ],
      "text/plain": [
       "<IPython.core.display.Javascript object>"
      ]
     },
     "metadata": {},
     "output_type": "display_data"
    }
   ],
   "source": [
    "df[\"only_one_genre\"] = df.artist_genres.apply(\n",
    "    lambda x: take_most_pop(x) if x else \"no genre\"\n",
    ")\n",
    "\n",
    "df[[\"artist_genres\", \"only_one_genre\"]].head()"
   ]
  },
  {
   "cell_type": "code",
   "execution_count": 72,
   "metadata": {},
   "outputs": [
    {
     "data": {
      "text/html": [
       "<div>\n",
       "<style scoped>\n",
       "    .dataframe tbody tr th:only-of-type {\n",
       "        vertical-align: middle;\n",
       "    }\n",
       "\n",
       "    .dataframe tbody tr th {\n",
       "        vertical-align: top;\n",
       "    }\n",
       "\n",
       "    .dataframe thead th {\n",
       "        text-align: right;\n",
       "    }\n",
       "</style>\n",
       "<table border=\"1\" class=\"dataframe\">\n",
       "  <thead>\n",
       "    <tr style=\"text-align: right;\">\n",
       "      <th></th>\n",
       "      <th>artist_name</th>\n",
       "      <th>track_name</th>\n",
       "      <th>track_popularity</th>\n",
       "      <th>year</th>\n",
       "    </tr>\n",
       "  </thead>\n",
       "  <tbody>\n",
       "    <tr>\n",
       "      <th>1801</th>\n",
       "      <td>Billie Eilish</td>\n",
       "      <td>lovely (with Khalid)</td>\n",
       "      <td>90</td>\n",
       "      <td>2018</td>\n",
       "    </tr>\n",
       "    <tr>\n",
       "      <th>1802</th>\n",
       "      <td>Calvin Harris</td>\n",
       "      <td>One Kiss (with Dua Lipa)</td>\n",
       "      <td>87</td>\n",
       "      <td>2018</td>\n",
       "    </tr>\n",
       "    <tr>\n",
       "      <th>1803</th>\n",
       "      <td>Taylor Swift</td>\n",
       "      <td>Delicate</td>\n",
       "      <td>87</td>\n",
       "      <td>2018</td>\n",
       "    </tr>\n",
       "    <tr>\n",
       "      <th>1805</th>\n",
       "      <td>Drake</td>\n",
       "      <td>God's Plan</td>\n",
       "      <td>87</td>\n",
       "      <td>2018</td>\n",
       "    </tr>\n",
       "    <tr>\n",
       "      <th>1903</th>\n",
       "      <td>Taylor Swift</td>\n",
       "      <td>Cruel Summer</td>\n",
       "      <td>100</td>\n",
       "      <td>2019</td>\n",
       "    </tr>\n",
       "  </tbody>\n",
       "</table>\n",
       "</div>"
      ],
      "text/plain": [
       "        artist_name                track_name  track_popularity  year\n",
       "1801  Billie Eilish      lovely (with Khalid)                90  2018\n",
       "1802  Calvin Harris  One Kiss (with Dua Lipa)                87  2018\n",
       "1803   Taylor Swift                  Delicate                87  2018\n",
       "1805          Drake                God's Plan                87  2018\n",
       "1903   Taylor Swift              Cruel Summer               100  2019"
      ]
     },
     "execution_count": 72,
     "metadata": {},
     "output_type": "execute_result"
    },
    {
     "data": {
      "application/javascript": [
       "\n",
       "            setTimeout(function() {\n",
       "                var nbb_cell_id = 72;\n",
       "                var nbb_unformatted_code = \"# get at least top 5% of songs from 2018\\nQ95_VALUE = df.track_popularity.quantile(0.95)\\nTARGET_YEAR = 2018\\n\\ntop_5_per_songs = df[(df.track_popularity > Q95_VALUE) & (df.year >= TARGET_YEAR)][\\n    [\\\"artist_name\\\", \\\"track_name\\\", \\\"track_popularity\\\", \\\"year\\\"]\\n]\\ntop_5_per_songs.head()\";\n",
       "                var nbb_formatted_code = \"# get at least top 5% of songs from 2018\\nQ95_VALUE = df.track_popularity.quantile(0.95)\\nTARGET_YEAR = 2018\\n\\ntop_5_per_songs = df[(df.track_popularity > Q95_VALUE) & (df.year >= TARGET_YEAR)][\\n    [\\\"artist_name\\\", \\\"track_name\\\", \\\"track_popularity\\\", \\\"year\\\"]\\n]\\ntop_5_per_songs.head()\";\n",
       "                var nbb_cells = Jupyter.notebook.get_cells();\n",
       "                for (var i = 0; i < nbb_cells.length; ++i) {\n",
       "                    if (nbb_cells[i].input_prompt_number == nbb_cell_id) {\n",
       "                        if (nbb_cells[i].get_text() == nbb_unformatted_code) {\n",
       "                             nbb_cells[i].set_text(nbb_formatted_code);\n",
       "                        }\n",
       "                        break;\n",
       "                    }\n",
       "                }\n",
       "            }, 500);\n",
       "            "
      ],
      "text/plain": [
       "<IPython.core.display.Javascript object>"
      ]
     },
     "metadata": {},
     "output_type": "display_data"
    }
   ],
   "source": [
    "# get at least top 5% of songs from 2018\n",
    "Q95_VALUE = df.track_popularity.quantile(0.95)\n",
    "TARGET_YEAR = 2018\n",
    "\n",
    "top_5_per_songs = df[(df.track_popularity > Q95_VALUE) & (df.year >= TARGET_YEAR)][\n",
    "    [\"artist_name\", \"track_name\", \"track_popularity\", \"year\"]\n",
    "]\n",
    "top_5_per_songs.head()"
   ]
  },
  {
   "cell_type": "code",
   "execution_count": 77,
   "metadata": {},
   "outputs": [
    {
     "data": {
      "text/html": [
       "<div>\n",
       "<style scoped>\n",
       "    .dataframe tbody tr th:only-of-type {\n",
       "        vertical-align: middle;\n",
       "    }\n",
       "\n",
       "    .dataframe tbody tr th {\n",
       "        vertical-align: top;\n",
       "    }\n",
       "\n",
       "    .dataframe thead th {\n",
       "        text-align: right;\n",
       "    }\n",
       "</style>\n",
       "<table border=\"1\" class=\"dataframe\">\n",
       "  <thead>\n",
       "    <tr style=\"text-align: right;\">\n",
       "      <th></th>\n",
       "      <th>artist_name</th>\n",
       "      <th>track_name</th>\n",
       "      <th>track_popularity</th>\n",
       "      <th>year</th>\n",
       "    </tr>\n",
       "  </thead>\n",
       "  <tbody>\n",
       "    <tr>\n",
       "      <th>1903</th>\n",
       "      <td>Taylor Swift</td>\n",
       "      <td>Cruel Summer</td>\n",
       "      <td>100</td>\n",
       "      <td>2019</td>\n",
       "    </tr>\n",
       "    <tr>\n",
       "      <th>2202</th>\n",
       "      <td>Taylor Swift</td>\n",
       "      <td>Anti-Hero</td>\n",
       "      <td>93</td>\n",
       "      <td>2022</td>\n",
       "    </tr>\n",
       "    <tr>\n",
       "      <th>2286</th>\n",
       "      <td>David Guetta</td>\n",
       "      <td>I'm Good (Blue)</td>\n",
       "      <td>93</td>\n",
       "      <td>2022</td>\n",
       "    </tr>\n",
       "    <tr>\n",
       "      <th>2012</th>\n",
       "      <td>Taylor Swift</td>\n",
       "      <td>august</td>\n",
       "      <td>93</td>\n",
       "      <td>2020</td>\n",
       "    </tr>\n",
       "    <tr>\n",
       "      <th>2227</th>\n",
       "      <td>OneRepublic</td>\n",
       "      <td>I Ain't Worried</td>\n",
       "      <td>92</td>\n",
       "      <td>2022</td>\n",
       "    </tr>\n",
       "    <tr>\n",
       "      <th>2289</th>\n",
       "      <td>Rema</td>\n",
       "      <td>Calm Down (with Selena Gomez)</td>\n",
       "      <td>92</td>\n",
       "      <td>2022</td>\n",
       "    </tr>\n",
       "    <tr>\n",
       "      <th>2162</th>\n",
       "      <td>The Weeknd</td>\n",
       "      <td>Blinding Lights</td>\n",
       "      <td>92</td>\n",
       "      <td>2021</td>\n",
       "    </tr>\n",
       "    <tr>\n",
       "      <th>2218</th>\n",
       "      <td>Bizarrap</td>\n",
       "      <td>Quevedo: Bzrp Music Sessions, Vol. 52</td>\n",
       "      <td>91</td>\n",
       "      <td>2022</td>\n",
       "    </tr>\n",
       "    <tr>\n",
       "      <th>2127</th>\n",
       "      <td>Glass Animals</td>\n",
       "      <td>Heat Waves</td>\n",
       "      <td>91</td>\n",
       "      <td>2021</td>\n",
       "    </tr>\n",
       "    <tr>\n",
       "      <th>1913</th>\n",
       "      <td>Taylor Swift</td>\n",
       "      <td>Lover</td>\n",
       "      <td>91</td>\n",
       "      <td>2019</td>\n",
       "    </tr>\n",
       "  </tbody>\n",
       "</table>\n",
       "</div>"
      ],
      "text/plain": [
       "        artist_name                             track_name  track_popularity  \\\n",
       "1903   Taylor Swift                           Cruel Summer               100   \n",
       "2202   Taylor Swift                              Anti-Hero                93   \n",
       "2286   David Guetta                        I'm Good (Blue)                93   \n",
       "2012   Taylor Swift                                 august                93   \n",
       "2227    OneRepublic                        I Ain't Worried                92   \n",
       "2289           Rema          Calm Down (with Selena Gomez)                92   \n",
       "2162     The Weeknd                        Blinding Lights                92   \n",
       "2218       Bizarrap  Quevedo: Bzrp Music Sessions, Vol. 52                91   \n",
       "2127  Glass Animals                             Heat Waves                91   \n",
       "1913   Taylor Swift                                  Lover                91   \n",
       "\n",
       "      year  \n",
       "1903  2019  \n",
       "2202  2022  \n",
       "2286  2022  \n",
       "2012  2020  \n",
       "2227  2022  \n",
       "2289  2022  \n",
       "2162  2021  \n",
       "2218  2022  \n",
       "2127  2021  \n",
       "1913  2019  "
      ]
     },
     "execution_count": 77,
     "metadata": {},
     "output_type": "execute_result"
    },
    {
     "data": {
      "application/javascript": [
       "\n",
       "            setTimeout(function() {\n",
       "                var nbb_cell_id = 77;\n",
       "                var nbb_unformatted_code = \"# sort by track_popularity and year\\ntop_5_per_songs.sort_values(by=[\\\"track_popularity\\\", \\\"year\\\"], ascending=False).head(\\n    10\\n)  \";\n",
       "                var nbb_formatted_code = \"# sort by track_popularity and year\\ntop_5_per_songs.sort_values(by=[\\\"track_popularity\\\", \\\"year\\\"], ascending=False).head(10)\";\n",
       "                var nbb_cells = Jupyter.notebook.get_cells();\n",
       "                for (var i = 0; i < nbb_cells.length; ++i) {\n",
       "                    if (nbb_cells[i].input_prompt_number == nbb_cell_id) {\n",
       "                        if (nbb_cells[i].get_text() == nbb_unformatted_code) {\n",
       "                             nbb_cells[i].set_text(nbb_formatted_code);\n",
       "                        }\n",
       "                        break;\n",
       "                    }\n",
       "                }\n",
       "            }, 500);\n",
       "            "
      ],
      "text/plain": [
       "<IPython.core.display.Javascript object>"
      ]
     },
     "metadata": {},
     "output_type": "display_data"
    }
   ],
   "source": [
    "# sort by track_popularity and year\n",
    "top_5_per_songs.sort_values(by=[\"track_popularity\", \"year\"], ascending=False).head(10)"
   ]
  },
  {
   "cell_type": "code",
   "execution_count": null,
   "metadata": {},
   "outputs": [],
   "source": [
    "from matplotlib import colormaps\n",
    "\n",
    "list(colormaps) # look at available colormaps"
   ]
  },
  {
   "cell_type": "code",
   "execution_count": 85,
   "metadata": {},
   "outputs": [
    {
     "data": {
      "text/html": [
       "<style  type=\"text/css\" >\n",
       "#T_bad75_row0_col2{\n",
       "            background-color:  #004529;\n",
       "            color:  #f1f1f1;\n",
       "        }#T_bad75_row1_col2,#T_bad75_row2_col2,#T_bad75_row3_col2{\n",
       "            background-color:  #88cd7f;\n",
       "            color:  #000000;\n",
       "        }#T_bad75_row4_col2,#T_bad75_row5_col2,#T_bad75_row6_col2{\n",
       "            background-color:  #a9db8c;\n",
       "            color:  #000000;\n",
       "        }#T_bad75_row7_col2,#T_bad75_row8_col2,#T_bad75_row9_col2{\n",
       "            background-color:  #c5e89a;\n",
       "            color:  #000000;\n",
       "        }#T_bad75_row10_col2,#T_bad75_row11_col2,#T_bad75_row12_col2,#T_bad75_row13_col2,#T_bad75_row14_col2,#T_bad75_row15_col2,#T_bad75_row16_col2,#T_bad75_row17_col2{\n",
       "            background-color:  #ddf2a6;\n",
       "            color:  #000000;\n",
       "        }#T_bad75_row18_col2,#T_bad75_row19_col2,#T_bad75_row20_col2,#T_bad75_row21_col2,#T_bad75_row22_col2,#T_bad75_row23_col2{\n",
       "            background-color:  #f0f9b4;\n",
       "            color:  #000000;\n",
       "        }#T_bad75_row24_col2,#T_bad75_row25_col2,#T_bad75_row26_col2,#T_bad75_row27_col2,#T_bad75_row28_col2{\n",
       "            background-color:  #fafdcb;\n",
       "            color:  #000000;\n",
       "        }#T_bad75_row29_col2,#T_bad75_row30_col2,#T_bad75_row31_col2,#T_bad75_row32_col2,#T_bad75_row33_col2,#T_bad75_row34_col2,#T_bad75_row35_col2,#T_bad75_row36_col2,#T_bad75_row37_col2,#T_bad75_row38_col2,#T_bad75_row39_col2,#T_bad75_row40_col2,#T_bad75_row41_col2,#T_bad75_row42_col2,#T_bad75_row43_col2,#T_bad75_row44_col2,#T_bad75_row45_col2,#T_bad75_row46_col2,#T_bad75_row47_col2{\n",
       "            background-color:  #ffffe5;\n",
       "            color:  #000000;\n",
       "        }</style><table id=\"T_bad75_\" ><thead>    <tr>        <th class=\"blank level0\" ></th>        <th class=\"col_heading level0 col0\" >artist_name</th>        <th class=\"col_heading level0 col1\" >track_name</th>        <th class=\"col_heading level0 col2\" >track_popularity</th>        <th class=\"col_heading level0 col3\" >year</th>    </tr></thead><tbody>\n",
       "                <tr>\n",
       "                        <th id=\"T_bad75_level0_row0\" class=\"row_heading level0 row0\" >1903</th>\n",
       "                        <td id=\"T_bad75_row0_col0\" class=\"data row0 col0\" >Taylor Swift</td>\n",
       "                        <td id=\"T_bad75_row0_col1\" class=\"data row0 col1\" >Cruel Summer</td>\n",
       "                        <td id=\"T_bad75_row0_col2\" class=\"data row0 col2\" >100</td>\n",
       "                        <td id=\"T_bad75_row0_col3\" class=\"data row0 col3\" >2019</td>\n",
       "            </tr>\n",
       "            <tr>\n",
       "                        <th id=\"T_bad75_level0_row1\" class=\"row_heading level0 row1\" >2202</th>\n",
       "                        <td id=\"T_bad75_row1_col0\" class=\"data row1 col0\" >Taylor Swift</td>\n",
       "                        <td id=\"T_bad75_row1_col1\" class=\"data row1 col1\" >Anti-Hero</td>\n",
       "                        <td id=\"T_bad75_row1_col2\" class=\"data row1 col2\" >93</td>\n",
       "                        <td id=\"T_bad75_row1_col3\" class=\"data row1 col3\" >2022</td>\n",
       "            </tr>\n",
       "            <tr>\n",
       "                        <th id=\"T_bad75_level0_row2\" class=\"row_heading level0 row2\" >2286</th>\n",
       "                        <td id=\"T_bad75_row2_col0\" class=\"data row2 col0\" >David Guetta</td>\n",
       "                        <td id=\"T_bad75_row2_col1\" class=\"data row2 col1\" >I'm Good (Blue)</td>\n",
       "                        <td id=\"T_bad75_row2_col2\" class=\"data row2 col2\" >93</td>\n",
       "                        <td id=\"T_bad75_row2_col3\" class=\"data row2 col3\" >2022</td>\n",
       "            </tr>\n",
       "            <tr>\n",
       "                        <th id=\"T_bad75_level0_row3\" class=\"row_heading level0 row3\" >2012</th>\n",
       "                        <td id=\"T_bad75_row3_col0\" class=\"data row3 col0\" >Taylor Swift</td>\n",
       "                        <td id=\"T_bad75_row3_col1\" class=\"data row3 col1\" >august</td>\n",
       "                        <td id=\"T_bad75_row3_col2\" class=\"data row3 col2\" >93</td>\n",
       "                        <td id=\"T_bad75_row3_col3\" class=\"data row3 col3\" >2020</td>\n",
       "            </tr>\n",
       "            <tr>\n",
       "                        <th id=\"T_bad75_level0_row4\" class=\"row_heading level0 row4\" >2227</th>\n",
       "                        <td id=\"T_bad75_row4_col0\" class=\"data row4 col0\" >OneRepublic</td>\n",
       "                        <td id=\"T_bad75_row4_col1\" class=\"data row4 col1\" >I Ain't Worried</td>\n",
       "                        <td id=\"T_bad75_row4_col2\" class=\"data row4 col2\" >92</td>\n",
       "                        <td id=\"T_bad75_row4_col3\" class=\"data row4 col3\" >2022</td>\n",
       "            </tr>\n",
       "            <tr>\n",
       "                        <th id=\"T_bad75_level0_row5\" class=\"row_heading level0 row5\" >2289</th>\n",
       "                        <td id=\"T_bad75_row5_col0\" class=\"data row5 col0\" >Rema</td>\n",
       "                        <td id=\"T_bad75_row5_col1\" class=\"data row5 col1\" >Calm Down (with Selena Gomez)</td>\n",
       "                        <td id=\"T_bad75_row5_col2\" class=\"data row5 col2\" >92</td>\n",
       "                        <td id=\"T_bad75_row5_col3\" class=\"data row5 col3\" >2022</td>\n",
       "            </tr>\n",
       "            <tr>\n",
       "                        <th id=\"T_bad75_level0_row6\" class=\"row_heading level0 row6\" >2162</th>\n",
       "                        <td id=\"T_bad75_row6_col0\" class=\"data row6 col0\" >The Weeknd</td>\n",
       "                        <td id=\"T_bad75_row6_col1\" class=\"data row6 col1\" >Blinding Lights</td>\n",
       "                        <td id=\"T_bad75_row6_col2\" class=\"data row6 col2\" >92</td>\n",
       "                        <td id=\"T_bad75_row6_col3\" class=\"data row6 col3\" >2021</td>\n",
       "            </tr>\n",
       "            <tr>\n",
       "                        <th id=\"T_bad75_level0_row7\" class=\"row_heading level0 row7\" >2218</th>\n",
       "                        <td id=\"T_bad75_row7_col0\" class=\"data row7 col0\" >Bizarrap</td>\n",
       "                        <td id=\"T_bad75_row7_col1\" class=\"data row7 col1\" >Quevedo: Bzrp Music Sessions, Vol. 52</td>\n",
       "                        <td id=\"T_bad75_row7_col2\" class=\"data row7 col2\" >91</td>\n",
       "                        <td id=\"T_bad75_row7_col3\" class=\"data row7 col3\" >2022</td>\n",
       "            </tr>\n",
       "            <tr>\n",
       "                        <th id=\"T_bad75_level0_row8\" class=\"row_heading level0 row8\" >2127</th>\n",
       "                        <td id=\"T_bad75_row8_col0\" class=\"data row8 col0\" >Glass Animals</td>\n",
       "                        <td id=\"T_bad75_row8_col1\" class=\"data row8 col1\" >Heat Waves</td>\n",
       "                        <td id=\"T_bad75_row8_col2\" class=\"data row8 col2\" >91</td>\n",
       "                        <td id=\"T_bad75_row8_col3\" class=\"data row8 col3\" >2021</td>\n",
       "            </tr>\n",
       "            <tr>\n",
       "                        <th id=\"T_bad75_level0_row9\" class=\"row_heading level0 row9\" >1913</th>\n",
       "                        <td id=\"T_bad75_row9_col0\" class=\"data row9 col0\" >Taylor Swift</td>\n",
       "                        <td id=\"T_bad75_row9_col1\" class=\"data row9 col1\" >Lover</td>\n",
       "                        <td id=\"T_bad75_row9_col2\" class=\"data row9 col2\" >91</td>\n",
       "                        <td id=\"T_bad75_row9_col3\" class=\"data row9 col3\" >2019</td>\n",
       "            </tr>\n",
       "            <tr>\n",
       "                        <th id=\"T_bad75_level0_row10\" class=\"row_heading level0 row10\" >2200</th>\n",
       "                        <td id=\"T_bad75_row10_col0\" class=\"data row10 col0\" >Harry Styles</td>\n",
       "                        <td id=\"T_bad75_row10_col1\" class=\"data row10 col1\" >As It Was</td>\n",
       "                        <td id=\"T_bad75_row10_col2\" class=\"data row10 col2\" >90</td>\n",
       "                        <td id=\"T_bad75_row10_col3\" class=\"data row10 col3\" >2022</td>\n",
       "            </tr>\n",
       "            <tr>\n",
       "                        <th id=\"T_bad75_level0_row11\" class=\"row_heading level0 row11\" >2214</th>\n",
       "                        <td id=\"T_bad75_row11_col0\" class=\"data row11 col0\" >Bad Bunny</td>\n",
       "                        <td id=\"T_bad75_row11_col1\" class=\"data row11 col1\" >Me Porto Bonito</td>\n",
       "                        <td id=\"T_bad75_row11_col2\" class=\"data row11 col2\" >90</td>\n",
       "                        <td id=\"T_bad75_row11_col3\" class=\"data row11 col3\" >2022</td>\n",
       "            </tr>\n",
       "            <tr>\n",
       "                        <th id=\"T_bad75_level0_row12\" class=\"row_heading level0 row12\" >2167</th>\n",
       "                        <td id=\"T_bad75_row12_col0\" class=\"data row12 col0\" >Harry Styles</td>\n",
       "                        <td id=\"T_bad75_row12_col1\" class=\"data row12 col1\" >Watermelon Sugar</td>\n",
       "                        <td id=\"T_bad75_row12_col2\" class=\"data row12 col2\" >90</td>\n",
       "                        <td id=\"T_bad75_row12_col3\" class=\"data row12 col3\" >2021</td>\n",
       "            </tr>\n",
       "            <tr>\n",
       "                        <th id=\"T_bad75_level0_row13\" class=\"row_heading level0 row13\" >2003</th>\n",
       "                        <td id=\"T_bad75_row13_col0\" class=\"data row13 col0\" >Harry Styles</td>\n",
       "                        <td id=\"T_bad75_row13_col1\" class=\"data row13 col1\" >Watermelon Sugar</td>\n",
       "                        <td id=\"T_bad75_row13_col2\" class=\"data row13 col2\" >90</td>\n",
       "                        <td id=\"T_bad75_row13_col3\" class=\"data row13 col3\" >2020</td>\n",
       "            </tr>\n",
       "            <tr>\n",
       "                        <th id=\"T_bad75_level0_row14\" class=\"row_heading level0 row14\" >2075</th>\n",
       "                        <td id=\"T_bad75_row14_col0\" class=\"data row14 col0\" >Lewis Capaldi</td>\n",
       "                        <td id=\"T_bad75_row14_col1\" class=\"data row14 col1\" >Someone You Loved</td>\n",
       "                        <td id=\"T_bad75_row14_col2\" class=\"data row14 col2\" >90</td>\n",
       "                        <td id=\"T_bad75_row14_col3\" class=\"data row14 col3\" >2020</td>\n",
       "            </tr>\n",
       "            <tr>\n",
       "                        <th id=\"T_bad75_level0_row15\" class=\"row_heading level0 row15\" >1907</th>\n",
       "                        <td id=\"T_bad75_row15_col0\" class=\"data row15 col0\" >Billie Eilish</td>\n",
       "                        <td id=\"T_bad75_row15_col1\" class=\"data row15 col1\" >lovely (with Khalid)</td>\n",
       "                        <td id=\"T_bad75_row15_col2\" class=\"data row15 col2\" >90</td>\n",
       "                        <td id=\"T_bad75_row15_col3\" class=\"data row15 col3\" >2019</td>\n",
       "            </tr>\n",
       "            <tr>\n",
       "                        <th id=\"T_bad75_level0_row16\" class=\"row_heading level0 row16\" >1910</th>\n",
       "                        <td id=\"T_bad75_row16_col0\" class=\"data row16 col0\" >Lewis Capaldi</td>\n",
       "                        <td id=\"T_bad75_row16_col1\" class=\"data row16 col1\" >Someone You Loved</td>\n",
       "                        <td id=\"T_bad75_row16_col2\" class=\"data row16 col2\" >90</td>\n",
       "                        <td id=\"T_bad75_row16_col3\" class=\"data row16 col3\" >2019</td>\n",
       "            </tr>\n",
       "            <tr>\n",
       "                        <th id=\"T_bad75_level0_row17\" class=\"row_heading level0 row17\" >1801</th>\n",
       "                        <td id=\"T_bad75_row17_col0\" class=\"data row17 col0\" >Billie Eilish</td>\n",
       "                        <td id=\"T_bad75_row17_col1\" class=\"data row17 col1\" >lovely (with Khalid)</td>\n",
       "                        <td id=\"T_bad75_row17_col2\" class=\"data row17 col2\" >90</td>\n",
       "                        <td id=\"T_bad75_row17_col3\" class=\"data row17 col3\" >2018</td>\n",
       "            </tr>\n",
       "            <tr>\n",
       "                        <th id=\"T_bad75_level0_row18\" class=\"row_heading level0 row18\" >2221</th>\n",
       "                        <td id=\"T_bad75_row18_col0\" class=\"data row18 col0\" >Chris Brown</td>\n",
       "                        <td id=\"T_bad75_row18_col1\" class=\"data row18 col1\" >Under The Influence</td>\n",
       "                        <td id=\"T_bad75_row18_col2\" class=\"data row18 col2\" >89</td>\n",
       "                        <td id=\"T_bad75_row18_col3\" class=\"data row18 col3\" >2022</td>\n",
       "            </tr>\n",
       "            <tr>\n",
       "                        <th id=\"T_bad75_level0_row19\" class=\"row_heading level0 row19\" >2252</th>\n",
       "                        <td id=\"T_bad75_row19_col0\" class=\"data row19 col0\" >Drake</td>\n",
       "                        <td id=\"T_bad75_row19_col1\" class=\"data row19 col1\" >Jimmy Cooks (feat. 21 Savage)</td>\n",
       "                        <td id=\"T_bad75_row19_col2\" class=\"data row19 col2\" >89</td>\n",
       "                        <td id=\"T_bad75_row19_col3\" class=\"data row19 col3\" >2022</td>\n",
       "            </tr>\n",
       "            <tr>\n",
       "                        <th id=\"T_bad75_level0_row20\" class=\"row_heading level0 row20\" >2284</th>\n",
       "                        <td id=\"T_bad75_row20_col0\" class=\"data row20 col0\" >Bad Bunny</td>\n",
       "                        <td id=\"T_bad75_row20_col1\" class=\"data row20 col1\" >Ojitos Lindos</td>\n",
       "                        <td id=\"T_bad75_row20_col2\" class=\"data row20 col2\" >89</td>\n",
       "                        <td id=\"T_bad75_row20_col3\" class=\"data row20 col3\" >2022</td>\n",
       "            </tr>\n",
       "            <tr>\n",
       "                        <th id=\"T_bad75_level0_row21\" class=\"row_heading level0 row21\" >2173</th>\n",
       "                        <td id=\"T_bad75_row21_col0\" class=\"data row21 col0\" >The Weeknd</td>\n",
       "                        <td id=\"T_bad75_row21_col1\" class=\"data row21 col1\" >Save Your Tears</td>\n",
       "                        <td id=\"T_bad75_row21_col2\" class=\"data row21 col2\" >89</td>\n",
       "                        <td id=\"T_bad75_row21_col3\" class=\"data row21 col3\" >2021</td>\n",
       "            </tr>\n",
       "            <tr>\n",
       "                        <th id=\"T_bad75_level0_row22\" class=\"row_heading level0 row22\" >2055</th>\n",
       "                        <td id=\"T_bad75_row22_col0\" class=\"data row22 col0\" >Post Malone</td>\n",
       "                        <td id=\"T_bad75_row22_col1\" class=\"data row22 col1\" >Circles</td>\n",
       "                        <td id=\"T_bad75_row22_col2\" class=\"data row22 col2\" >89</td>\n",
       "                        <td id=\"T_bad75_row22_col3\" class=\"data row22 col3\" >2020</td>\n",
       "            </tr>\n",
       "            <tr>\n",
       "                        <th id=\"T_bad75_level0_row23\" class=\"row_heading level0 row23\" >1904</th>\n",
       "                        <td id=\"T_bad75_row23_col0\" class=\"data row23 col0\" >Post Malone</td>\n",
       "                        <td id=\"T_bad75_row23_col1\" class=\"data row23 col1\" >Circles</td>\n",
       "                        <td id=\"T_bad75_row23_col2\" class=\"data row23 col2\" >89</td>\n",
       "                        <td id=\"T_bad75_row23_col3\" class=\"data row23 col3\" >2019</td>\n",
       "            </tr>\n",
       "            <tr>\n",
       "                        <th id=\"T_bad75_level0_row24\" class=\"row_heading level0 row24\" >2201</th>\n",
       "                        <td id=\"T_bad75_row24_col0\" class=\"data row24 col0\" >Bad Bunny</td>\n",
       "                        <td id=\"T_bad75_row24_col1\" class=\"data row24 col1\" >TitÃ­ Me PreguntÃ³</td>\n",
       "                        <td id=\"T_bad75_row24_col2\" class=\"data row24 col2\" >88</td>\n",
       "                        <td id=\"T_bad75_row24_col3\" class=\"data row24 col3\" >2022</td>\n",
       "            </tr>\n",
       "            <tr>\n",
       "                        <th id=\"T_bad75_level0_row25\" class=\"row_heading level0 row25\" >2213</th>\n",
       "                        <td id=\"T_bad75_row25_col0\" class=\"data row25 col0\" >Olivia Rodrigo</td>\n",
       "                        <td id=\"T_bad75_row25_col1\" class=\"data row25 col1\" >traitor</td>\n",
       "                        <td id=\"T_bad75_row25_col2\" class=\"data row25 col2\" >88</td>\n",
       "                        <td id=\"T_bad75_row25_col3\" class=\"data row25 col3\" >2022</td>\n",
       "            </tr>\n",
       "            <tr>\n",
       "                        <th id=\"T_bad75_level0_row26\" class=\"row_heading level0 row26\" >2291</th>\n",
       "                        <td id=\"T_bad75_row26_col0\" class=\"data row26 col0\" >Manuel Turizo</td>\n",
       "                        <td id=\"T_bad75_row26_col1\" class=\"data row26 col1\" >La Bachata</td>\n",
       "                        <td id=\"T_bad75_row26_col2\" class=\"data row26 col2\" >88</td>\n",
       "                        <td id=\"T_bad75_row26_col3\" class=\"data row26 col3\" >2022</td>\n",
       "            </tr>\n",
       "            <tr>\n",
       "                        <th id=\"T_bad75_level0_row27\" class=\"row_heading level0 row27\" >2116</th>\n",
       "                        <td id=\"T_bad75_row27_col0\" class=\"data row27 col0\" >Billie Eilish</td>\n",
       "                        <td id=\"T_bad75_row27_col1\" class=\"data row27 col1\" >Happier Than Ever</td>\n",
       "                        <td id=\"T_bad75_row27_col2\" class=\"data row27 col2\" >88</td>\n",
       "                        <td id=\"T_bad75_row27_col3\" class=\"data row27 col3\" >2021</td>\n",
       "            </tr>\n",
       "            <tr>\n",
       "                        <th id=\"T_bad75_level0_row28\" class=\"row_heading level0 row28\" >2136</th>\n",
       "                        <td id=\"T_bad75_row28_col0\" class=\"data row28 col0\" >Olivia Rodrigo</td>\n",
       "                        <td id=\"T_bad75_row28_col1\" class=\"data row28 col1\" >traitor</td>\n",
       "                        <td id=\"T_bad75_row28_col2\" class=\"data row28 col2\" >88</td>\n",
       "                        <td id=\"T_bad75_row28_col3\" class=\"data row28 col3\" >2021</td>\n",
       "            </tr>\n",
       "            <tr>\n",
       "                        <th id=\"T_bad75_level0_row29\" class=\"row_heading level0 row29\" >2203</th>\n",
       "                        <td id=\"T_bad75_row29_col0\" class=\"data row29 col0\" >Sam Smith</td>\n",
       "                        <td id=\"T_bad75_row29_col1\" class=\"data row29 col1\" >Unholy (feat. Kim Petras)</td>\n",
       "                        <td id=\"T_bad75_row29_col2\" class=\"data row29 col2\" >87</td>\n",
       "                        <td id=\"T_bad75_row29_col3\" class=\"data row29 col3\" >2022</td>\n",
       "            </tr>\n",
       "            <tr>\n",
       "                        <th id=\"T_bad75_level0_row30\" class=\"row_heading level0 row30\" >2206</th>\n",
       "                        <td id=\"T_bad75_row30_col0\" class=\"data row30 col0\" >BeyoncÃ©</td>\n",
       "                        <td id=\"T_bad75_row30_col1\" class=\"data row30 col1\" >CUFF IT</td>\n",
       "                        <td id=\"T_bad75_row30_col2\" class=\"data row30 col2\" >87</td>\n",
       "                        <td id=\"T_bad75_row30_col3\" class=\"data row30 col3\" >2022</td>\n",
       "            </tr>\n",
       "            <tr>\n",
       "                        <th id=\"T_bad75_level0_row31\" class=\"row_heading level0 row31\" >2210</th>\n",
       "                        <td id=\"T_bad75_row31_col0\" class=\"data row31 col0\" >Justin Bieber</td>\n",
       "                        <td id=\"T_bad75_row31_col1\" class=\"data row31 col1\" >Ghost</td>\n",
       "                        <td id=\"T_bad75_row31_col2\" class=\"data row31 col2\" >87</td>\n",
       "                        <td id=\"T_bad75_row31_col3\" class=\"data row31 col3\" >2022</td>\n",
       "            </tr>\n",
       "            <tr>\n",
       "                        <th id=\"T_bad75_level0_row32\" class=\"row_heading level0 row32\" >2212</th>\n",
       "                        <td id=\"T_bad75_row32_col0\" class=\"data row32 col0\" >Harry Styles</td>\n",
       "                        <td id=\"T_bad75_row32_col1\" class=\"data row32 col1\" >Late Night Talking</td>\n",
       "                        <td id=\"T_bad75_row32_col2\" class=\"data row32 col2\" >87</td>\n",
       "                        <td id=\"T_bad75_row32_col3\" class=\"data row32 col3\" >2022</td>\n",
       "            </tr>\n",
       "            <tr>\n",
       "                        <th id=\"T_bad75_level0_row33\" class=\"row_heading level0 row33\" >2233</th>\n",
       "                        <td id=\"T_bad75_row33_col0\" class=\"data row33 col0\" >Post Malone</td>\n",
       "                        <td id=\"T_bad75_row33_col1\" class=\"data row33 col1\" >I Like You (A Happier Song) (with Doja Cat)</td>\n",
       "                        <td id=\"T_bad75_row33_col2\" class=\"data row33 col2\" >87</td>\n",
       "                        <td id=\"T_bad75_row33_col3\" class=\"data row33 col3\" >2022</td>\n",
       "            </tr>\n",
       "            <tr>\n",
       "                        <th id=\"T_bad75_level0_row34\" class=\"row_heading level0 row34\" >2234</th>\n",
       "                        <td id=\"T_bad75_row34_col0\" class=\"data row34 col0\" >Ed Sheeran</td>\n",
       "                        <td id=\"T_bad75_row34_col1\" class=\"data row34 col1\" >Shivers</td>\n",
       "                        <td id=\"T_bad75_row34_col2\" class=\"data row34 col2\" >87</td>\n",
       "                        <td id=\"T_bad75_row34_col3\" class=\"data row34 col3\" >2022</td>\n",
       "            </tr>\n",
       "            <tr>\n",
       "                        <th id=\"T_bad75_level0_row35\" class=\"row_heading level0 row35\" >2235</th>\n",
       "                        <td id=\"T_bad75_row35_col0\" class=\"data row35 col0\" >Lost Frequencies</td>\n",
       "                        <td id=\"T_bad75_row35_col1\" class=\"data row35 col1\" >Where Are You Now</td>\n",
       "                        <td id=\"T_bad75_row35_col2\" class=\"data row35 col2\" >87</td>\n",
       "                        <td id=\"T_bad75_row35_col3\" class=\"data row35 col3\" >2022</td>\n",
       "            </tr>\n",
       "            <tr>\n",
       "                        <th id=\"T_bad75_level0_row36\" class=\"row_heading level0 row36\" >2236</th>\n",
       "                        <td id=\"T_bad75_row36_col0\" class=\"data row36 col0\" >Olivia Rodrigo</td>\n",
       "                        <td id=\"T_bad75_row36_col1\" class=\"data row36 col1\" >good 4 u</td>\n",
       "                        <td id=\"T_bad75_row36_col2\" class=\"data row36 col2\" >87</td>\n",
       "                        <td id=\"T_bad75_row36_col3\" class=\"data row36 col3\" >2022</td>\n",
       "            </tr>\n",
       "            <tr>\n",
       "                        <th id=\"T_bad75_level0_row37\" class=\"row_heading level0 row37\" >2243</th>\n",
       "                        <td id=\"T_bad75_row37_col0\" class=\"data row37 col0\" >Doja Cat</td>\n",
       "                        <td id=\"T_bad75_row37_col1\" class=\"data row37 col1\" >Woman</td>\n",
       "                        <td id=\"T_bad75_row37_col2\" class=\"data row37 col2\" >87</td>\n",
       "                        <td id=\"T_bad75_row37_col3\" class=\"data row37 col3\" >2022</td>\n",
       "            </tr>\n",
       "            <tr>\n",
       "                        <th id=\"T_bad75_level0_row38\" class=\"row_heading level0 row38\" >2269</th>\n",
       "                        <td id=\"T_bad75_row38_col0\" class=\"data row38 col0\" >Billie Eilish</td>\n",
       "                        <td id=\"T_bad75_row38_col1\" class=\"data row38 col1\" >TV</td>\n",
       "                        <td id=\"T_bad75_row38_col2\" class=\"data row38 col2\" >87</td>\n",
       "                        <td id=\"T_bad75_row38_col3\" class=\"data row38 col3\" >2022</td>\n",
       "            </tr>\n",
       "            <tr>\n",
       "                        <th id=\"T_bad75_level0_row39\" class=\"row_heading level0 row39\" >2115</th>\n",
       "                        <td id=\"T_bad75_row39_col0\" class=\"data row39 col0\" >Taylor Swift</td>\n",
       "                        <td id=\"T_bad75_row39_col1\" class=\"data row39 col1\" >All Too Well (10 Minute Version) (Taylor's Version) (From The Vault)</td>\n",
       "                        <td id=\"T_bad75_row39_col2\" class=\"data row39 col2\" >87</td>\n",
       "                        <td id=\"T_bad75_row39_col3\" class=\"data row39 col3\" >2021</td>\n",
       "            </tr>\n",
       "            <tr>\n",
       "                        <th id=\"T_bad75_level0_row40\" class=\"row_heading level0 row40\" >2118</th>\n",
       "                        <td id=\"T_bad75_row40_col0\" class=\"data row40 col0\" >Doja Cat</td>\n",
       "                        <td id=\"T_bad75_row40_col1\" class=\"data row40 col1\" >Woman</td>\n",
       "                        <td id=\"T_bad75_row40_col2\" class=\"data row40 col2\" >87</td>\n",
       "                        <td id=\"T_bad75_row40_col3\" class=\"data row40 col3\" >2021</td>\n",
       "            </tr>\n",
       "            <tr>\n",
       "                        <th id=\"T_bad75_level0_row41\" class=\"row_heading level0 row41\" >2020</th>\n",
       "                        <td id=\"T_bad75_row41_col0\" class=\"data row41 col0\" >Conan Gray</td>\n",
       "                        <td id=\"T_bad75_row41_col1\" class=\"data row41 col1\" >Heather</td>\n",
       "                        <td id=\"T_bad75_row41_col2\" class=\"data row41 col2\" >87</td>\n",
       "                        <td id=\"T_bad75_row41_col3\" class=\"data row41 col3\" >2020</td>\n",
       "            </tr>\n",
       "            <tr>\n",
       "                        <th id=\"T_bad75_level0_row42\" class=\"row_heading level0 row42\" >2049</th>\n",
       "                        <td id=\"T_bad75_row42_col0\" class=\"data row42 col0\" >The Weeknd</td>\n",
       "                        <td id=\"T_bad75_row42_col1\" class=\"data row42 col1\" >After Hours</td>\n",
       "                        <td id=\"T_bad75_row42_col2\" class=\"data row42 col2\" >87</td>\n",
       "                        <td id=\"T_bad75_row42_col3\" class=\"data row42 col3\" >2020</td>\n",
       "            </tr>\n",
       "            <tr>\n",
       "                        <th id=\"T_bad75_level0_row43\" class=\"row_heading level0 row43\" >2086</th>\n",
       "                        <td id=\"T_bad75_row43_col0\" class=\"data row43 col0\" >Post Malone</td>\n",
       "                        <td id=\"T_bad75_row43_col1\" class=\"data row43 col1\" >Sunflower - Spider-Man: Into the Spider-Verse</td>\n",
       "                        <td id=\"T_bad75_row43_col2\" class=\"data row43 col2\" >87</td>\n",
       "                        <td id=\"T_bad75_row43_col3\" class=\"data row43 col3\" >2020</td>\n",
       "            </tr>\n",
       "            <tr>\n",
       "                        <th id=\"T_bad75_level0_row44\" class=\"row_heading level0 row44\" >1905</th>\n",
       "                        <td id=\"T_bad75_row44_col0\" class=\"data row44 col0\" >Alec Benjamin</td>\n",
       "                        <td id=\"T_bad75_row44_col1\" class=\"data row44 col1\" >Let Me Down Slowly</td>\n",
       "                        <td id=\"T_bad75_row44_col2\" class=\"data row44 col2\" >87</td>\n",
       "                        <td id=\"T_bad75_row44_col3\" class=\"data row44 col3\" >2019</td>\n",
       "            </tr>\n",
       "            <tr>\n",
       "                        <th id=\"T_bad75_level0_row45\" class=\"row_heading level0 row45\" >1802</th>\n",
       "                        <td id=\"T_bad75_row45_col0\" class=\"data row45 col0\" >Calvin Harris</td>\n",
       "                        <td id=\"T_bad75_row45_col1\" class=\"data row45 col1\" >One Kiss (with Dua Lipa)</td>\n",
       "                        <td id=\"T_bad75_row45_col2\" class=\"data row45 col2\" >87</td>\n",
       "                        <td id=\"T_bad75_row45_col3\" class=\"data row45 col3\" >2018</td>\n",
       "            </tr>\n",
       "            <tr>\n",
       "                        <th id=\"T_bad75_level0_row46\" class=\"row_heading level0 row46\" >1803</th>\n",
       "                        <td id=\"T_bad75_row46_col0\" class=\"data row46 col0\" >Taylor Swift</td>\n",
       "                        <td id=\"T_bad75_row46_col1\" class=\"data row46 col1\" >Delicate</td>\n",
       "                        <td id=\"T_bad75_row46_col2\" class=\"data row46 col2\" >87</td>\n",
       "                        <td id=\"T_bad75_row46_col3\" class=\"data row46 col3\" >2018</td>\n",
       "            </tr>\n",
       "            <tr>\n",
       "                        <th id=\"T_bad75_level0_row47\" class=\"row_heading level0 row47\" >1805</th>\n",
       "                        <td id=\"T_bad75_row47_col0\" class=\"data row47 col0\" >Drake</td>\n",
       "                        <td id=\"T_bad75_row47_col1\" class=\"data row47 col1\" >God's Plan</td>\n",
       "                        <td id=\"T_bad75_row47_col2\" class=\"data row47 col2\" >87</td>\n",
       "                        <td id=\"T_bad75_row47_col3\" class=\"data row47 col3\" >2018</td>\n",
       "            </tr>\n",
       "    </tbody></table>"
      ],
      "text/plain": [
       "<pandas.io.formats.style.Styler at 0x7f9d13765390>"
      ]
     },
     "execution_count": 85,
     "metadata": {},
     "output_type": "execute_result"
    },
    {
     "data": {
      "application/javascript": [
       "\n",
       "            setTimeout(function() {\n",
       "                var nbb_cell_id = 85;\n",
       "                var nbb_unformatted_code = \"top_5_per_songs.sort_values(\\n    by=[\\\"track_popularity\\\", \\\"year\\\"], ascending=False\\n).style.background_gradient(axis=None, cmap=\\\"YlGn\\\", subset=[\\\"track_popularity\\\"])\";\n",
       "                var nbb_formatted_code = \"top_5_per_songs.sort_values(\\n    by=[\\\"track_popularity\\\", \\\"year\\\"], ascending=False\\n).style.background_gradient(axis=None, cmap=\\\"YlGn\\\", subset=[\\\"track_popularity\\\"])\";\n",
       "                var nbb_cells = Jupyter.notebook.get_cells();\n",
       "                for (var i = 0; i < nbb_cells.length; ++i) {\n",
       "                    if (nbb_cells[i].input_prompt_number == nbb_cell_id) {\n",
       "                        if (nbb_cells[i].get_text() == nbb_unformatted_code) {\n",
       "                             nbb_cells[i].set_text(nbb_formatted_code);\n",
       "                        }\n",
       "                        break;\n",
       "                    }\n",
       "                }\n",
       "            }, 500);\n",
       "            "
      ],
      "text/plain": [
       "<IPython.core.display.Javascript object>"
      ]
     },
     "metadata": {},
     "output_type": "display_data"
    }
   ],
   "source": [
    "# let's color them\n",
    "top_5_per_songs.sort_values(\n",
    "    by=[\"track_popularity\", \"year\"], ascending=False\n",
    ").style.background_gradient(axis=None, cmap=\"YlGn\", subset=[\"track_popularity\"])"
   ]
  },
  {
   "cell_type": "code",
   "execution_count": 87,
   "metadata": {},
   "outputs": [
    {
     "data": {
      "application/javascript": [
       "\n",
       "            setTimeout(function() {\n",
       "                var nbb_cell_id = 87;\n",
       "                var nbb_unformatted_code = \"# or by hands\\ndef to_color_year(year):\\n    if year == 2018:\\n        color = \\\"#50a85e\\\"\\n    elif year == 2019:\\n        color = \\\"#067084\\\"\\n    elif year == 2020:\\n        color = \\\"#ffa6c9\\\"\\n    elif year == 2021:\\n        color = \\\"#ffe135\\\"\\n    else:\\n        color = \\\"#9966cc\\\"\\n\\n    return f\\\"color: {color}\\\"\";\n",
       "                var nbb_formatted_code = \"# or by hands\\ndef to_color_year(year):\\n    if year == 2018:\\n        color = \\\"#50a85e\\\"\\n    elif year == 2019:\\n        color = \\\"#067084\\\"\\n    elif year == 2020:\\n        color = \\\"#ffa6c9\\\"\\n    elif year == 2021:\\n        color = \\\"#ffe135\\\"\\n    else:\\n        color = \\\"#9966cc\\\"\\n\\n    return f\\\"color: {color}\\\"\";\n",
       "                var nbb_cells = Jupyter.notebook.get_cells();\n",
       "                for (var i = 0; i < nbb_cells.length; ++i) {\n",
       "                    if (nbb_cells[i].input_prompt_number == nbb_cell_id) {\n",
       "                        if (nbb_cells[i].get_text() == nbb_unformatted_code) {\n",
       "                             nbb_cells[i].set_text(nbb_formatted_code);\n",
       "                        }\n",
       "                        break;\n",
       "                    }\n",
       "                }\n",
       "            }, 500);\n",
       "            "
      ],
      "text/plain": [
       "<IPython.core.display.Javascript object>"
      ]
     },
     "metadata": {},
     "output_type": "display_data"
    }
   ],
   "source": [
    "# or by hands\n",
    "def to_color_year(year):\n",
    "    if year == 2018:\n",
    "        color = \"#50a85e\"\n",
    "    elif year == 2019:\n",
    "        color = \"#067084\"\n",
    "    elif year == 2020:\n",
    "        color = \"#ffa6c9\"\n",
    "    elif year == 2021:\n",
    "        color = \"#ffe135\"\n",
    "    else:\n",
    "        color = \"#9966cc\"\n",
    "\n",
    "    return f\"color: {color}\""
   ]
  },
  {
   "cell_type": "code",
   "execution_count": 88,
   "metadata": {},
   "outputs": [
    {
     "data": {
      "text/html": [
       "<style  type=\"text/css\" >\n",
       "#T_daf48_row0_col3,#T_daf48_row1_col3,#T_daf48_row2_col3,#T_daf48_row3_col3{\n",
       "            color:  #50a85e;\n",
       "        }#T_daf48_row4_col3,#T_daf48_row5_col3,#T_daf48_row6_col3,#T_daf48_row7_col3,#T_daf48_row8_col3,#T_daf48_row9_col3{\n",
       "            color:  #067084;\n",
       "        }#T_daf48_row10_col3,#T_daf48_row11_col3,#T_daf48_row12_col3,#T_daf48_row13_col3,#T_daf48_row14_col3,#T_daf48_row15_col3,#T_daf48_row16_col3{\n",
       "            color:  #ffa6c9;\n",
       "        }#T_daf48_row17_col3,#T_daf48_row18_col3,#T_daf48_row19_col3,#T_daf48_row20_col3,#T_daf48_row21_col3,#T_daf48_row22_col3,#T_daf48_row23_col3,#T_daf48_row24_col3{\n",
       "            color:  #ffe135;\n",
       "        }#T_daf48_row25_col3,#T_daf48_row26_col3,#T_daf48_row27_col3,#T_daf48_row28_col3,#T_daf48_row29_col3,#T_daf48_row30_col3,#T_daf48_row31_col3,#T_daf48_row32_col3,#T_daf48_row33_col3,#T_daf48_row34_col3,#T_daf48_row35_col3,#T_daf48_row36_col3,#T_daf48_row37_col3,#T_daf48_row38_col3,#T_daf48_row39_col3,#T_daf48_row40_col3,#T_daf48_row41_col3,#T_daf48_row42_col3,#T_daf48_row43_col3,#T_daf48_row44_col3,#T_daf48_row45_col3,#T_daf48_row46_col3,#T_daf48_row47_col3{\n",
       "            color:  #9966cc;\n",
       "        }</style><table id=\"T_daf48_\" ><thead>    <tr>        <th class=\"blank level0\" ></th>        <th class=\"col_heading level0 col0\" >artist_name</th>        <th class=\"col_heading level0 col1\" >track_name</th>        <th class=\"col_heading level0 col2\" >track_popularity</th>        <th class=\"col_heading level0 col3\" >year</th>    </tr></thead><tbody>\n",
       "                <tr>\n",
       "                        <th id=\"T_daf48_level0_row0\" class=\"row_heading level0 row0\" >1801</th>\n",
       "                        <td id=\"T_daf48_row0_col0\" class=\"data row0 col0\" >Billie Eilish</td>\n",
       "                        <td id=\"T_daf48_row0_col1\" class=\"data row0 col1\" >lovely (with Khalid)</td>\n",
       "                        <td id=\"T_daf48_row0_col2\" class=\"data row0 col2\" >90</td>\n",
       "                        <td id=\"T_daf48_row0_col3\" class=\"data row0 col3\" >2018</td>\n",
       "            </tr>\n",
       "            <tr>\n",
       "                        <th id=\"T_daf48_level0_row1\" class=\"row_heading level0 row1\" >1802</th>\n",
       "                        <td id=\"T_daf48_row1_col0\" class=\"data row1 col0\" >Calvin Harris</td>\n",
       "                        <td id=\"T_daf48_row1_col1\" class=\"data row1 col1\" >One Kiss (with Dua Lipa)</td>\n",
       "                        <td id=\"T_daf48_row1_col2\" class=\"data row1 col2\" >87</td>\n",
       "                        <td id=\"T_daf48_row1_col3\" class=\"data row1 col3\" >2018</td>\n",
       "            </tr>\n",
       "            <tr>\n",
       "                        <th id=\"T_daf48_level0_row2\" class=\"row_heading level0 row2\" >1803</th>\n",
       "                        <td id=\"T_daf48_row2_col0\" class=\"data row2 col0\" >Taylor Swift</td>\n",
       "                        <td id=\"T_daf48_row2_col1\" class=\"data row2 col1\" >Delicate</td>\n",
       "                        <td id=\"T_daf48_row2_col2\" class=\"data row2 col2\" >87</td>\n",
       "                        <td id=\"T_daf48_row2_col3\" class=\"data row2 col3\" >2018</td>\n",
       "            </tr>\n",
       "            <tr>\n",
       "                        <th id=\"T_daf48_level0_row3\" class=\"row_heading level0 row3\" >1805</th>\n",
       "                        <td id=\"T_daf48_row3_col0\" class=\"data row3 col0\" >Drake</td>\n",
       "                        <td id=\"T_daf48_row3_col1\" class=\"data row3 col1\" >God's Plan</td>\n",
       "                        <td id=\"T_daf48_row3_col2\" class=\"data row3 col2\" >87</td>\n",
       "                        <td id=\"T_daf48_row3_col3\" class=\"data row3 col3\" >2018</td>\n",
       "            </tr>\n",
       "            <tr>\n",
       "                        <th id=\"T_daf48_level0_row4\" class=\"row_heading level0 row4\" >1903</th>\n",
       "                        <td id=\"T_daf48_row4_col0\" class=\"data row4 col0\" >Taylor Swift</td>\n",
       "                        <td id=\"T_daf48_row4_col1\" class=\"data row4 col1\" >Cruel Summer</td>\n",
       "                        <td id=\"T_daf48_row4_col2\" class=\"data row4 col2\" >100</td>\n",
       "                        <td id=\"T_daf48_row4_col3\" class=\"data row4 col3\" >2019</td>\n",
       "            </tr>\n",
       "            <tr>\n",
       "                        <th id=\"T_daf48_level0_row5\" class=\"row_heading level0 row5\" >1904</th>\n",
       "                        <td id=\"T_daf48_row5_col0\" class=\"data row5 col0\" >Post Malone</td>\n",
       "                        <td id=\"T_daf48_row5_col1\" class=\"data row5 col1\" >Circles</td>\n",
       "                        <td id=\"T_daf48_row5_col2\" class=\"data row5 col2\" >89</td>\n",
       "                        <td id=\"T_daf48_row5_col3\" class=\"data row5 col3\" >2019</td>\n",
       "            </tr>\n",
       "            <tr>\n",
       "                        <th id=\"T_daf48_level0_row6\" class=\"row_heading level0 row6\" >1905</th>\n",
       "                        <td id=\"T_daf48_row6_col0\" class=\"data row6 col0\" >Alec Benjamin</td>\n",
       "                        <td id=\"T_daf48_row6_col1\" class=\"data row6 col1\" >Let Me Down Slowly</td>\n",
       "                        <td id=\"T_daf48_row6_col2\" class=\"data row6 col2\" >87</td>\n",
       "                        <td id=\"T_daf48_row6_col3\" class=\"data row6 col3\" >2019</td>\n",
       "            </tr>\n",
       "            <tr>\n",
       "                        <th id=\"T_daf48_level0_row7\" class=\"row_heading level0 row7\" >1907</th>\n",
       "                        <td id=\"T_daf48_row7_col0\" class=\"data row7 col0\" >Billie Eilish</td>\n",
       "                        <td id=\"T_daf48_row7_col1\" class=\"data row7 col1\" >lovely (with Khalid)</td>\n",
       "                        <td id=\"T_daf48_row7_col2\" class=\"data row7 col2\" >90</td>\n",
       "                        <td id=\"T_daf48_row7_col3\" class=\"data row7 col3\" >2019</td>\n",
       "            </tr>\n",
       "            <tr>\n",
       "                        <th id=\"T_daf48_level0_row8\" class=\"row_heading level0 row8\" >1910</th>\n",
       "                        <td id=\"T_daf48_row8_col0\" class=\"data row8 col0\" >Lewis Capaldi</td>\n",
       "                        <td id=\"T_daf48_row8_col1\" class=\"data row8 col1\" >Someone You Loved</td>\n",
       "                        <td id=\"T_daf48_row8_col2\" class=\"data row8 col2\" >90</td>\n",
       "                        <td id=\"T_daf48_row8_col3\" class=\"data row8 col3\" >2019</td>\n",
       "            </tr>\n",
       "            <tr>\n",
       "                        <th id=\"T_daf48_level0_row9\" class=\"row_heading level0 row9\" >1913</th>\n",
       "                        <td id=\"T_daf48_row9_col0\" class=\"data row9 col0\" >Taylor Swift</td>\n",
       "                        <td id=\"T_daf48_row9_col1\" class=\"data row9 col1\" >Lover</td>\n",
       "                        <td id=\"T_daf48_row9_col2\" class=\"data row9 col2\" >91</td>\n",
       "                        <td id=\"T_daf48_row9_col3\" class=\"data row9 col3\" >2019</td>\n",
       "            </tr>\n",
       "            <tr>\n",
       "                        <th id=\"T_daf48_level0_row10\" class=\"row_heading level0 row10\" >2003</th>\n",
       "                        <td id=\"T_daf48_row10_col0\" class=\"data row10 col0\" >Harry Styles</td>\n",
       "                        <td id=\"T_daf48_row10_col1\" class=\"data row10 col1\" >Watermelon Sugar</td>\n",
       "                        <td id=\"T_daf48_row10_col2\" class=\"data row10 col2\" >90</td>\n",
       "                        <td id=\"T_daf48_row10_col3\" class=\"data row10 col3\" >2020</td>\n",
       "            </tr>\n",
       "            <tr>\n",
       "                        <th id=\"T_daf48_level0_row11\" class=\"row_heading level0 row11\" >2012</th>\n",
       "                        <td id=\"T_daf48_row11_col0\" class=\"data row11 col0\" >Taylor Swift</td>\n",
       "                        <td id=\"T_daf48_row11_col1\" class=\"data row11 col1\" >august</td>\n",
       "                        <td id=\"T_daf48_row11_col2\" class=\"data row11 col2\" >93</td>\n",
       "                        <td id=\"T_daf48_row11_col3\" class=\"data row11 col3\" >2020</td>\n",
       "            </tr>\n",
       "            <tr>\n",
       "                        <th id=\"T_daf48_level0_row12\" class=\"row_heading level0 row12\" >2020</th>\n",
       "                        <td id=\"T_daf48_row12_col0\" class=\"data row12 col0\" >Conan Gray</td>\n",
       "                        <td id=\"T_daf48_row12_col1\" class=\"data row12 col1\" >Heather</td>\n",
       "                        <td id=\"T_daf48_row12_col2\" class=\"data row12 col2\" >87</td>\n",
       "                        <td id=\"T_daf48_row12_col3\" class=\"data row12 col3\" >2020</td>\n",
       "            </tr>\n",
       "            <tr>\n",
       "                        <th id=\"T_daf48_level0_row13\" class=\"row_heading level0 row13\" >2049</th>\n",
       "                        <td id=\"T_daf48_row13_col0\" class=\"data row13 col0\" >The Weeknd</td>\n",
       "                        <td id=\"T_daf48_row13_col1\" class=\"data row13 col1\" >After Hours</td>\n",
       "                        <td id=\"T_daf48_row13_col2\" class=\"data row13 col2\" >87</td>\n",
       "                        <td id=\"T_daf48_row13_col3\" class=\"data row13 col3\" >2020</td>\n",
       "            </tr>\n",
       "            <tr>\n",
       "                        <th id=\"T_daf48_level0_row14\" class=\"row_heading level0 row14\" >2055</th>\n",
       "                        <td id=\"T_daf48_row14_col0\" class=\"data row14 col0\" >Post Malone</td>\n",
       "                        <td id=\"T_daf48_row14_col1\" class=\"data row14 col1\" >Circles</td>\n",
       "                        <td id=\"T_daf48_row14_col2\" class=\"data row14 col2\" >89</td>\n",
       "                        <td id=\"T_daf48_row14_col3\" class=\"data row14 col3\" >2020</td>\n",
       "            </tr>\n",
       "            <tr>\n",
       "                        <th id=\"T_daf48_level0_row15\" class=\"row_heading level0 row15\" >2075</th>\n",
       "                        <td id=\"T_daf48_row15_col0\" class=\"data row15 col0\" >Lewis Capaldi</td>\n",
       "                        <td id=\"T_daf48_row15_col1\" class=\"data row15 col1\" >Someone You Loved</td>\n",
       "                        <td id=\"T_daf48_row15_col2\" class=\"data row15 col2\" >90</td>\n",
       "                        <td id=\"T_daf48_row15_col3\" class=\"data row15 col3\" >2020</td>\n",
       "            </tr>\n",
       "            <tr>\n",
       "                        <th id=\"T_daf48_level0_row16\" class=\"row_heading level0 row16\" >2086</th>\n",
       "                        <td id=\"T_daf48_row16_col0\" class=\"data row16 col0\" >Post Malone</td>\n",
       "                        <td id=\"T_daf48_row16_col1\" class=\"data row16 col1\" >Sunflower - Spider-Man: Into the Spider-Verse</td>\n",
       "                        <td id=\"T_daf48_row16_col2\" class=\"data row16 col2\" >87</td>\n",
       "                        <td id=\"T_daf48_row16_col3\" class=\"data row16 col3\" >2020</td>\n",
       "            </tr>\n",
       "            <tr>\n",
       "                        <th id=\"T_daf48_level0_row17\" class=\"row_heading level0 row17\" >2115</th>\n",
       "                        <td id=\"T_daf48_row17_col0\" class=\"data row17 col0\" >Taylor Swift</td>\n",
       "                        <td id=\"T_daf48_row17_col1\" class=\"data row17 col1\" >All Too Well (10 Minute Version) (Taylor's Version) (From The Vault)</td>\n",
       "                        <td id=\"T_daf48_row17_col2\" class=\"data row17 col2\" >87</td>\n",
       "                        <td id=\"T_daf48_row17_col3\" class=\"data row17 col3\" >2021</td>\n",
       "            </tr>\n",
       "            <tr>\n",
       "                        <th id=\"T_daf48_level0_row18\" class=\"row_heading level0 row18\" >2116</th>\n",
       "                        <td id=\"T_daf48_row18_col0\" class=\"data row18 col0\" >Billie Eilish</td>\n",
       "                        <td id=\"T_daf48_row18_col1\" class=\"data row18 col1\" >Happier Than Ever</td>\n",
       "                        <td id=\"T_daf48_row18_col2\" class=\"data row18 col2\" >88</td>\n",
       "                        <td id=\"T_daf48_row18_col3\" class=\"data row18 col3\" >2021</td>\n",
       "            </tr>\n",
       "            <tr>\n",
       "                        <th id=\"T_daf48_level0_row19\" class=\"row_heading level0 row19\" >2118</th>\n",
       "                        <td id=\"T_daf48_row19_col0\" class=\"data row19 col0\" >Doja Cat</td>\n",
       "                        <td id=\"T_daf48_row19_col1\" class=\"data row19 col1\" >Woman</td>\n",
       "                        <td id=\"T_daf48_row19_col2\" class=\"data row19 col2\" >87</td>\n",
       "                        <td id=\"T_daf48_row19_col3\" class=\"data row19 col3\" >2021</td>\n",
       "            </tr>\n",
       "            <tr>\n",
       "                        <th id=\"T_daf48_level0_row20\" class=\"row_heading level0 row20\" >2127</th>\n",
       "                        <td id=\"T_daf48_row20_col0\" class=\"data row20 col0\" >Glass Animals</td>\n",
       "                        <td id=\"T_daf48_row20_col1\" class=\"data row20 col1\" >Heat Waves</td>\n",
       "                        <td id=\"T_daf48_row20_col2\" class=\"data row20 col2\" >91</td>\n",
       "                        <td id=\"T_daf48_row20_col3\" class=\"data row20 col3\" >2021</td>\n",
       "            </tr>\n",
       "            <tr>\n",
       "                        <th id=\"T_daf48_level0_row21\" class=\"row_heading level0 row21\" >2136</th>\n",
       "                        <td id=\"T_daf48_row21_col0\" class=\"data row21 col0\" >Olivia Rodrigo</td>\n",
       "                        <td id=\"T_daf48_row21_col1\" class=\"data row21 col1\" >traitor</td>\n",
       "                        <td id=\"T_daf48_row21_col2\" class=\"data row21 col2\" >88</td>\n",
       "                        <td id=\"T_daf48_row21_col3\" class=\"data row21 col3\" >2021</td>\n",
       "            </tr>\n",
       "            <tr>\n",
       "                        <th id=\"T_daf48_level0_row22\" class=\"row_heading level0 row22\" >2162</th>\n",
       "                        <td id=\"T_daf48_row22_col0\" class=\"data row22 col0\" >The Weeknd</td>\n",
       "                        <td id=\"T_daf48_row22_col1\" class=\"data row22 col1\" >Blinding Lights</td>\n",
       "                        <td id=\"T_daf48_row22_col2\" class=\"data row22 col2\" >92</td>\n",
       "                        <td id=\"T_daf48_row22_col3\" class=\"data row22 col3\" >2021</td>\n",
       "            </tr>\n",
       "            <tr>\n",
       "                        <th id=\"T_daf48_level0_row23\" class=\"row_heading level0 row23\" >2167</th>\n",
       "                        <td id=\"T_daf48_row23_col0\" class=\"data row23 col0\" >Harry Styles</td>\n",
       "                        <td id=\"T_daf48_row23_col1\" class=\"data row23 col1\" >Watermelon Sugar</td>\n",
       "                        <td id=\"T_daf48_row23_col2\" class=\"data row23 col2\" >90</td>\n",
       "                        <td id=\"T_daf48_row23_col3\" class=\"data row23 col3\" >2021</td>\n",
       "            </tr>\n",
       "            <tr>\n",
       "                        <th id=\"T_daf48_level0_row24\" class=\"row_heading level0 row24\" >2173</th>\n",
       "                        <td id=\"T_daf48_row24_col0\" class=\"data row24 col0\" >The Weeknd</td>\n",
       "                        <td id=\"T_daf48_row24_col1\" class=\"data row24 col1\" >Save Your Tears</td>\n",
       "                        <td id=\"T_daf48_row24_col2\" class=\"data row24 col2\" >89</td>\n",
       "                        <td id=\"T_daf48_row24_col3\" class=\"data row24 col3\" >2021</td>\n",
       "            </tr>\n",
       "            <tr>\n",
       "                        <th id=\"T_daf48_level0_row25\" class=\"row_heading level0 row25\" >2200</th>\n",
       "                        <td id=\"T_daf48_row25_col0\" class=\"data row25 col0\" >Harry Styles</td>\n",
       "                        <td id=\"T_daf48_row25_col1\" class=\"data row25 col1\" >As It Was</td>\n",
       "                        <td id=\"T_daf48_row25_col2\" class=\"data row25 col2\" >90</td>\n",
       "                        <td id=\"T_daf48_row25_col3\" class=\"data row25 col3\" >2022</td>\n",
       "            </tr>\n",
       "            <tr>\n",
       "                        <th id=\"T_daf48_level0_row26\" class=\"row_heading level0 row26\" >2201</th>\n",
       "                        <td id=\"T_daf48_row26_col0\" class=\"data row26 col0\" >Bad Bunny</td>\n",
       "                        <td id=\"T_daf48_row26_col1\" class=\"data row26 col1\" >TitÃ­ Me PreguntÃ³</td>\n",
       "                        <td id=\"T_daf48_row26_col2\" class=\"data row26 col2\" >88</td>\n",
       "                        <td id=\"T_daf48_row26_col3\" class=\"data row26 col3\" >2022</td>\n",
       "            </tr>\n",
       "            <tr>\n",
       "                        <th id=\"T_daf48_level0_row27\" class=\"row_heading level0 row27\" >2202</th>\n",
       "                        <td id=\"T_daf48_row27_col0\" class=\"data row27 col0\" >Taylor Swift</td>\n",
       "                        <td id=\"T_daf48_row27_col1\" class=\"data row27 col1\" >Anti-Hero</td>\n",
       "                        <td id=\"T_daf48_row27_col2\" class=\"data row27 col2\" >93</td>\n",
       "                        <td id=\"T_daf48_row27_col3\" class=\"data row27 col3\" >2022</td>\n",
       "            </tr>\n",
       "            <tr>\n",
       "                        <th id=\"T_daf48_level0_row28\" class=\"row_heading level0 row28\" >2203</th>\n",
       "                        <td id=\"T_daf48_row28_col0\" class=\"data row28 col0\" >Sam Smith</td>\n",
       "                        <td id=\"T_daf48_row28_col1\" class=\"data row28 col1\" >Unholy (feat. Kim Petras)</td>\n",
       "                        <td id=\"T_daf48_row28_col2\" class=\"data row28 col2\" >87</td>\n",
       "                        <td id=\"T_daf48_row28_col3\" class=\"data row28 col3\" >2022</td>\n",
       "            </tr>\n",
       "            <tr>\n",
       "                        <th id=\"T_daf48_level0_row29\" class=\"row_heading level0 row29\" >2206</th>\n",
       "                        <td id=\"T_daf48_row29_col0\" class=\"data row29 col0\" >BeyoncÃ©</td>\n",
       "                        <td id=\"T_daf48_row29_col1\" class=\"data row29 col1\" >CUFF IT</td>\n",
       "                        <td id=\"T_daf48_row29_col2\" class=\"data row29 col2\" >87</td>\n",
       "                        <td id=\"T_daf48_row29_col3\" class=\"data row29 col3\" >2022</td>\n",
       "            </tr>\n",
       "            <tr>\n",
       "                        <th id=\"T_daf48_level0_row30\" class=\"row_heading level0 row30\" >2210</th>\n",
       "                        <td id=\"T_daf48_row30_col0\" class=\"data row30 col0\" >Justin Bieber</td>\n",
       "                        <td id=\"T_daf48_row30_col1\" class=\"data row30 col1\" >Ghost</td>\n",
       "                        <td id=\"T_daf48_row30_col2\" class=\"data row30 col2\" >87</td>\n",
       "                        <td id=\"T_daf48_row30_col3\" class=\"data row30 col3\" >2022</td>\n",
       "            </tr>\n",
       "            <tr>\n",
       "                        <th id=\"T_daf48_level0_row31\" class=\"row_heading level0 row31\" >2212</th>\n",
       "                        <td id=\"T_daf48_row31_col0\" class=\"data row31 col0\" >Harry Styles</td>\n",
       "                        <td id=\"T_daf48_row31_col1\" class=\"data row31 col1\" >Late Night Talking</td>\n",
       "                        <td id=\"T_daf48_row31_col2\" class=\"data row31 col2\" >87</td>\n",
       "                        <td id=\"T_daf48_row31_col3\" class=\"data row31 col3\" >2022</td>\n",
       "            </tr>\n",
       "            <tr>\n",
       "                        <th id=\"T_daf48_level0_row32\" class=\"row_heading level0 row32\" >2213</th>\n",
       "                        <td id=\"T_daf48_row32_col0\" class=\"data row32 col0\" >Olivia Rodrigo</td>\n",
       "                        <td id=\"T_daf48_row32_col1\" class=\"data row32 col1\" >traitor</td>\n",
       "                        <td id=\"T_daf48_row32_col2\" class=\"data row32 col2\" >88</td>\n",
       "                        <td id=\"T_daf48_row32_col3\" class=\"data row32 col3\" >2022</td>\n",
       "            </tr>\n",
       "            <tr>\n",
       "                        <th id=\"T_daf48_level0_row33\" class=\"row_heading level0 row33\" >2214</th>\n",
       "                        <td id=\"T_daf48_row33_col0\" class=\"data row33 col0\" >Bad Bunny</td>\n",
       "                        <td id=\"T_daf48_row33_col1\" class=\"data row33 col1\" >Me Porto Bonito</td>\n",
       "                        <td id=\"T_daf48_row33_col2\" class=\"data row33 col2\" >90</td>\n",
       "                        <td id=\"T_daf48_row33_col3\" class=\"data row33 col3\" >2022</td>\n",
       "            </tr>\n",
       "            <tr>\n",
       "                        <th id=\"T_daf48_level0_row34\" class=\"row_heading level0 row34\" >2218</th>\n",
       "                        <td id=\"T_daf48_row34_col0\" class=\"data row34 col0\" >Bizarrap</td>\n",
       "                        <td id=\"T_daf48_row34_col1\" class=\"data row34 col1\" >Quevedo: Bzrp Music Sessions, Vol. 52</td>\n",
       "                        <td id=\"T_daf48_row34_col2\" class=\"data row34 col2\" >91</td>\n",
       "                        <td id=\"T_daf48_row34_col3\" class=\"data row34 col3\" >2022</td>\n",
       "            </tr>\n",
       "            <tr>\n",
       "                        <th id=\"T_daf48_level0_row35\" class=\"row_heading level0 row35\" >2221</th>\n",
       "                        <td id=\"T_daf48_row35_col0\" class=\"data row35 col0\" >Chris Brown</td>\n",
       "                        <td id=\"T_daf48_row35_col1\" class=\"data row35 col1\" >Under The Influence</td>\n",
       "                        <td id=\"T_daf48_row35_col2\" class=\"data row35 col2\" >89</td>\n",
       "                        <td id=\"T_daf48_row35_col3\" class=\"data row35 col3\" >2022</td>\n",
       "            </tr>\n",
       "            <tr>\n",
       "                        <th id=\"T_daf48_level0_row36\" class=\"row_heading level0 row36\" >2227</th>\n",
       "                        <td id=\"T_daf48_row36_col0\" class=\"data row36 col0\" >OneRepublic</td>\n",
       "                        <td id=\"T_daf48_row36_col1\" class=\"data row36 col1\" >I Ain't Worried</td>\n",
       "                        <td id=\"T_daf48_row36_col2\" class=\"data row36 col2\" >92</td>\n",
       "                        <td id=\"T_daf48_row36_col3\" class=\"data row36 col3\" >2022</td>\n",
       "            </tr>\n",
       "            <tr>\n",
       "                        <th id=\"T_daf48_level0_row37\" class=\"row_heading level0 row37\" >2233</th>\n",
       "                        <td id=\"T_daf48_row37_col0\" class=\"data row37 col0\" >Post Malone</td>\n",
       "                        <td id=\"T_daf48_row37_col1\" class=\"data row37 col1\" >I Like You (A Happier Song) (with Doja Cat)</td>\n",
       "                        <td id=\"T_daf48_row37_col2\" class=\"data row37 col2\" >87</td>\n",
       "                        <td id=\"T_daf48_row37_col3\" class=\"data row37 col3\" >2022</td>\n",
       "            </tr>\n",
       "            <tr>\n",
       "                        <th id=\"T_daf48_level0_row38\" class=\"row_heading level0 row38\" >2234</th>\n",
       "                        <td id=\"T_daf48_row38_col0\" class=\"data row38 col0\" >Ed Sheeran</td>\n",
       "                        <td id=\"T_daf48_row38_col1\" class=\"data row38 col1\" >Shivers</td>\n",
       "                        <td id=\"T_daf48_row38_col2\" class=\"data row38 col2\" >87</td>\n",
       "                        <td id=\"T_daf48_row38_col3\" class=\"data row38 col3\" >2022</td>\n",
       "            </tr>\n",
       "            <tr>\n",
       "                        <th id=\"T_daf48_level0_row39\" class=\"row_heading level0 row39\" >2235</th>\n",
       "                        <td id=\"T_daf48_row39_col0\" class=\"data row39 col0\" >Lost Frequencies</td>\n",
       "                        <td id=\"T_daf48_row39_col1\" class=\"data row39 col1\" >Where Are You Now</td>\n",
       "                        <td id=\"T_daf48_row39_col2\" class=\"data row39 col2\" >87</td>\n",
       "                        <td id=\"T_daf48_row39_col3\" class=\"data row39 col3\" >2022</td>\n",
       "            </tr>\n",
       "            <tr>\n",
       "                        <th id=\"T_daf48_level0_row40\" class=\"row_heading level0 row40\" >2236</th>\n",
       "                        <td id=\"T_daf48_row40_col0\" class=\"data row40 col0\" >Olivia Rodrigo</td>\n",
       "                        <td id=\"T_daf48_row40_col1\" class=\"data row40 col1\" >good 4 u</td>\n",
       "                        <td id=\"T_daf48_row40_col2\" class=\"data row40 col2\" >87</td>\n",
       "                        <td id=\"T_daf48_row40_col3\" class=\"data row40 col3\" >2022</td>\n",
       "            </tr>\n",
       "            <tr>\n",
       "                        <th id=\"T_daf48_level0_row41\" class=\"row_heading level0 row41\" >2243</th>\n",
       "                        <td id=\"T_daf48_row41_col0\" class=\"data row41 col0\" >Doja Cat</td>\n",
       "                        <td id=\"T_daf48_row41_col1\" class=\"data row41 col1\" >Woman</td>\n",
       "                        <td id=\"T_daf48_row41_col2\" class=\"data row41 col2\" >87</td>\n",
       "                        <td id=\"T_daf48_row41_col3\" class=\"data row41 col3\" >2022</td>\n",
       "            </tr>\n",
       "            <tr>\n",
       "                        <th id=\"T_daf48_level0_row42\" class=\"row_heading level0 row42\" >2252</th>\n",
       "                        <td id=\"T_daf48_row42_col0\" class=\"data row42 col0\" >Drake</td>\n",
       "                        <td id=\"T_daf48_row42_col1\" class=\"data row42 col1\" >Jimmy Cooks (feat. 21 Savage)</td>\n",
       "                        <td id=\"T_daf48_row42_col2\" class=\"data row42 col2\" >89</td>\n",
       "                        <td id=\"T_daf48_row42_col3\" class=\"data row42 col3\" >2022</td>\n",
       "            </tr>\n",
       "            <tr>\n",
       "                        <th id=\"T_daf48_level0_row43\" class=\"row_heading level0 row43\" >2269</th>\n",
       "                        <td id=\"T_daf48_row43_col0\" class=\"data row43 col0\" >Billie Eilish</td>\n",
       "                        <td id=\"T_daf48_row43_col1\" class=\"data row43 col1\" >TV</td>\n",
       "                        <td id=\"T_daf48_row43_col2\" class=\"data row43 col2\" >87</td>\n",
       "                        <td id=\"T_daf48_row43_col3\" class=\"data row43 col3\" >2022</td>\n",
       "            </tr>\n",
       "            <tr>\n",
       "                        <th id=\"T_daf48_level0_row44\" class=\"row_heading level0 row44\" >2284</th>\n",
       "                        <td id=\"T_daf48_row44_col0\" class=\"data row44 col0\" >Bad Bunny</td>\n",
       "                        <td id=\"T_daf48_row44_col1\" class=\"data row44 col1\" >Ojitos Lindos</td>\n",
       "                        <td id=\"T_daf48_row44_col2\" class=\"data row44 col2\" >89</td>\n",
       "                        <td id=\"T_daf48_row44_col3\" class=\"data row44 col3\" >2022</td>\n",
       "            </tr>\n",
       "            <tr>\n",
       "                        <th id=\"T_daf48_level0_row45\" class=\"row_heading level0 row45\" >2286</th>\n",
       "                        <td id=\"T_daf48_row45_col0\" class=\"data row45 col0\" >David Guetta</td>\n",
       "                        <td id=\"T_daf48_row45_col1\" class=\"data row45 col1\" >I'm Good (Blue)</td>\n",
       "                        <td id=\"T_daf48_row45_col2\" class=\"data row45 col2\" >93</td>\n",
       "                        <td id=\"T_daf48_row45_col3\" class=\"data row45 col3\" >2022</td>\n",
       "            </tr>\n",
       "            <tr>\n",
       "                        <th id=\"T_daf48_level0_row46\" class=\"row_heading level0 row46\" >2289</th>\n",
       "                        <td id=\"T_daf48_row46_col0\" class=\"data row46 col0\" >Rema</td>\n",
       "                        <td id=\"T_daf48_row46_col1\" class=\"data row46 col1\" >Calm Down (with Selena Gomez)</td>\n",
       "                        <td id=\"T_daf48_row46_col2\" class=\"data row46 col2\" >92</td>\n",
       "                        <td id=\"T_daf48_row46_col3\" class=\"data row46 col3\" >2022</td>\n",
       "            </tr>\n",
       "            <tr>\n",
       "                        <th id=\"T_daf48_level0_row47\" class=\"row_heading level0 row47\" >2291</th>\n",
       "                        <td id=\"T_daf48_row47_col0\" class=\"data row47 col0\" >Manuel Turizo</td>\n",
       "                        <td id=\"T_daf48_row47_col1\" class=\"data row47 col1\" >La Bachata</td>\n",
       "                        <td id=\"T_daf48_row47_col2\" class=\"data row47 col2\" >88</td>\n",
       "                        <td id=\"T_daf48_row47_col3\" class=\"data row47 col3\" >2022</td>\n",
       "            </tr>\n",
       "    </tbody></table>"
      ],
      "text/plain": [
       "<pandas.io.formats.style.Styler at 0x7f9d137b8c50>"
      ]
     },
     "execution_count": 88,
     "metadata": {},
     "output_type": "execute_result"
    },
    {
     "data": {
      "application/javascript": [
       "\n",
       "            setTimeout(function() {\n",
       "                var nbb_cell_id = 88;\n",
       "                var nbb_unformatted_code = \"top_5_per_songs.style.applymap(to_color_year,subset=[\\\"year\\\"])\";\n",
       "                var nbb_formatted_code = \"top_5_per_songs.style.applymap(to_color_year, subset=[\\\"year\\\"])\";\n",
       "                var nbb_cells = Jupyter.notebook.get_cells();\n",
       "                for (var i = 0; i < nbb_cells.length; ++i) {\n",
       "                    if (nbb_cells[i].input_prompt_number == nbb_cell_id) {\n",
       "                        if (nbb_cells[i].get_text() == nbb_unformatted_code) {\n",
       "                             nbb_cells[i].set_text(nbb_formatted_code);\n",
       "                        }\n",
       "                        break;\n",
       "                    }\n",
       "                }\n",
       "            }, 500);\n",
       "            "
      ],
      "text/plain": [
       "<IPython.core.display.Javascript object>"
      ]
     },
     "metadata": {},
     "output_type": "display_data"
    }
   ],
   "source": [
    "top_5_per_songs.style.applymap(to_color_year, subset=[\"year\"])"
   ]
  },
  {
   "cell_type": "code",
   "execution_count": 93,
   "metadata": {},
   "outputs": [
    {
     "data": {
      "application/javascript": [
       "\n",
       "            setTimeout(function() {\n",
       "                var nbb_cell_id = 93;\n",
       "                var nbb_unformatted_code = \"# Grouping\\ndef own_max_value(column):\\n    return column.max()\";\n",
       "                var nbb_formatted_code = \"# Grouping\\ndef own_max_value(column):\\n    return column.max()\";\n",
       "                var nbb_cells = Jupyter.notebook.get_cells();\n",
       "                for (var i = 0; i < nbb_cells.length; ++i) {\n",
       "                    if (nbb_cells[i].input_prompt_number == nbb_cell_id) {\n",
       "                        if (nbb_cells[i].get_text() == nbb_unformatted_code) {\n",
       "                             nbb_cells[i].set_text(nbb_formatted_code);\n",
       "                        }\n",
       "                        break;\n",
       "                    }\n",
       "                }\n",
       "            }, 500);\n",
       "            "
      ],
      "text/plain": [
       "<IPython.core.display.Javascript object>"
      ]
     },
     "metadata": {},
     "output_type": "display_data"
    }
   ],
   "source": [
    "\n"
   ]
  },
  {
   "cell_type": "code",
   "execution_count": 109,
   "metadata": {},
   "outputs": [
    {
     "data": {
      "text/html": [
       "<div>\n",
       "<style scoped>\n",
       "    .dataframe tbody tr th:only-of-type {\n",
       "        vertical-align: middle;\n",
       "    }\n",
       "\n",
       "    .dataframe tbody tr th {\n",
       "        vertical-align: top;\n",
       "    }\n",
       "\n",
       "    .dataframe thead tr th {\n",
       "        text-align: left;\n",
       "    }\n",
       "\n",
       "    .dataframe thead tr:last-of-type th {\n",
       "        text-align: right;\n",
       "    }\n",
       "</style>\n",
       "<table border=\"1\" class=\"dataframe\">\n",
       "  <thead>\n",
       "    <tr>\n",
       "      <th></th>\n",
       "      <th></th>\n",
       "      <th colspan=\"3\" halign=\"left\">track_popularity</th>\n",
       "    </tr>\n",
       "    <tr>\n",
       "      <th></th>\n",
       "      <th></th>\n",
       "      <th>count</th>\n",
       "      <th>mean</th>\n",
       "      <th>own_max_value</th>\n",
       "    </tr>\n",
       "    <tr>\n",
       "      <th>artist_name</th>\n",
       "      <th>year</th>\n",
       "      <th></th>\n",
       "      <th></th>\n",
       "      <th></th>\n",
       "    </tr>\n",
       "  </thead>\n",
       "  <tbody>\n",
       "    <tr>\n",
       "      <th rowspan=\"3\" valign=\"top\">*NSYNC</th>\n",
       "      <th>2000</th>\n",
       "      <td>3</td>\n",
       "      <td>71.0</td>\n",
       "      <td>74</td>\n",
       "    </tr>\n",
       "    <tr>\n",
       "      <th>2001</th>\n",
       "      <td>2</td>\n",
       "      <td>61.5</td>\n",
       "      <td>68</td>\n",
       "    </tr>\n",
       "    <tr>\n",
       "      <th>2002</th>\n",
       "      <td>1</td>\n",
       "      <td>53.0</td>\n",
       "      <td>53</td>\n",
       "    </tr>\n",
       "    <tr>\n",
       "      <th>112</th>\n",
       "      <th>2001</th>\n",
       "      <td>2</td>\n",
       "      <td>62.0</td>\n",
       "      <td>66</td>\n",
       "    </tr>\n",
       "    <tr>\n",
       "      <th>2 Chainz</th>\n",
       "      <th>2013</th>\n",
       "      <td>1</td>\n",
       "      <td>72.0</td>\n",
       "      <td>72</td>\n",
       "    </tr>\n",
       "  </tbody>\n",
       "</table>\n",
       "</div>"
      ],
      "text/plain": [
       "                 track_popularity                    \n",
       "                            count  mean own_max_value\n",
       "artist_name year                                     \n",
       "*NSYNC      2000                3  71.0            74\n",
       "            2001                2  61.5            68\n",
       "            2002                1  53.0            53\n",
       "112         2001                2  62.0            66\n",
       "2 Chainz    2013                1  72.0            72"
      ]
     },
     "execution_count": 109,
     "metadata": {},
     "output_type": "execute_result"
    },
    {
     "data": {
      "application/javascript": [
       "\n",
       "            setTimeout(function() {\n",
       "                var nbb_cell_id = 109;\n",
       "                var nbb_unformatted_code = \"# Grouping\\n\\n\\ndef own_max_value(column):\\n    return column.max()\\n\\n\\ntarget_cols = [\\\"artist_name\\\", \\\"year\\\", \\\"track_popularity\\\"]\\ngdf = (\\n    df[target_cols]\\n    .groupby(by=[\\\"artist_name\\\", \\\"year\\\"])\\n    .agg({\\\"track_popularity\\\":{\\\"mean\\\", \\\"count\\\", own_max_value}})\\n)\\ngdf.head()\";\n",
       "                var nbb_formatted_code = \"# Grouping\\n\\n\\ndef own_max_value(column):\\n    return column.max()\\n\\n\\ntarget_cols = [\\\"artist_name\\\", \\\"year\\\", \\\"track_popularity\\\"]\\ngdf = (\\n    df[target_cols]\\n    .groupby(by=[\\\"artist_name\\\", \\\"year\\\"])\\n    .agg({\\\"track_popularity\\\": {\\\"mean\\\", \\\"count\\\", own_max_value}})\\n)\\ngdf.head()\";\n",
       "                var nbb_cells = Jupyter.notebook.get_cells();\n",
       "                for (var i = 0; i < nbb_cells.length; ++i) {\n",
       "                    if (nbb_cells[i].input_prompt_number == nbb_cell_id) {\n",
       "                        if (nbb_cells[i].get_text() == nbb_unformatted_code) {\n",
       "                             nbb_cells[i].set_text(nbb_formatted_code);\n",
       "                        }\n",
       "                        break;\n",
       "                    }\n",
       "                }\n",
       "            }, 500);\n",
       "            "
      ],
      "text/plain": [
       "<IPython.core.display.Javascript object>"
      ]
     },
     "metadata": {},
     "output_type": "display_data"
    }
   ],
   "source": [
    "# Grouping\n",
    "\n",
    "\n",
    "def own_max_value(column):\n",
    "    return column.max()\n",
    "\n",
    "\n",
    "target_cols = [\"artist_name\", \"year\", \"track_popularity\"]\n",
    "gdf = (\n",
    "    df[target_cols]\n",
    "    .groupby(by=[\"artist_name\", \"year\"])\n",
    "    .agg({\"track_popularity\": {\"mean\", \"count\", own_max_value}})\n",
    ")\n",
    "gdf.head()"
   ]
  },
  {
   "cell_type": "code",
   "execution_count": 120,
   "metadata": {},
   "outputs": [
    {
     "data": {
      "text/html": [
       "<div>\n",
       "<style scoped>\n",
       "    .dataframe tbody tr th:only-of-type {\n",
       "        vertical-align: middle;\n",
       "    }\n",
       "\n",
       "    .dataframe tbody tr th {\n",
       "        vertical-align: top;\n",
       "    }\n",
       "\n",
       "    .dataframe thead tr th {\n",
       "        text-align: left;\n",
       "    }\n",
       "\n",
       "    .dataframe thead tr:last-of-type th {\n",
       "        text-align: right;\n",
       "    }\n",
       "</style>\n",
       "<table border=\"1\" class=\"dataframe\">\n",
       "  <thead>\n",
       "    <tr>\n",
       "      <th></th>\n",
       "      <th></th>\n",
       "      <th colspan=\"3\" halign=\"left\">track_popularity</th>\n",
       "    </tr>\n",
       "    <tr>\n",
       "      <th></th>\n",
       "      <th></th>\n",
       "      <th>count</th>\n",
       "      <th>mean</th>\n",
       "      <th>own_max_value</th>\n",
       "    </tr>\n",
       "    <tr>\n",
       "      <th>artist_name</th>\n",
       "      <th>year</th>\n",
       "      <th></th>\n",
       "      <th></th>\n",
       "      <th></th>\n",
       "    </tr>\n",
       "  </thead>\n",
       "  <tbody>\n",
       "    <tr>\n",
       "      <th>Bad Bunny</th>\n",
       "      <th>2022</th>\n",
       "      <td>4</td>\n",
       "      <td>88.250000</td>\n",
       "      <td>90</td>\n",
       "    </tr>\n",
       "    <tr>\n",
       "      <th>Bruno Mars</th>\n",
       "      <th>2013</th>\n",
       "      <td>3</td>\n",
       "      <td>87.333333</td>\n",
       "      <td>90</td>\n",
       "    </tr>\n",
       "    <tr>\n",
       "      <th>Imagine Dragons</th>\n",
       "      <th>2017</th>\n",
       "      <td>3</td>\n",
       "      <td>87.333333</td>\n",
       "      <td>90</td>\n",
       "    </tr>\n",
       "    <tr>\n",
       "      <th rowspan=\"2\" valign=\"top\">Taylor Swift</th>\n",
       "      <th>2019</th>\n",
       "      <td>3</td>\n",
       "      <td>91.666667</td>\n",
       "      <td>100</td>\n",
       "    </tr>\n",
       "    <tr>\n",
       "      <th>2022</th>\n",
       "      <td>4</td>\n",
       "      <td>86.250000</td>\n",
       "      <td>93</td>\n",
       "    </tr>\n",
       "    <tr>\n",
       "      <th>The Weeknd</th>\n",
       "      <th>2021</th>\n",
       "      <td>3</td>\n",
       "      <td>88.000000</td>\n",
       "      <td>92</td>\n",
       "    </tr>\n",
       "  </tbody>\n",
       "</table>\n",
       "</div>"
      ],
      "text/plain": [
       "                     track_popularity                         \n",
       "                                count       mean own_max_value\n",
       "artist_name     year                                          \n",
       "Bad Bunny       2022                4  88.250000            90\n",
       "Bruno Mars      2013                3  87.333333            90\n",
       "Imagine Dragons 2017                3  87.333333            90\n",
       "Taylor Swift    2019                3  91.666667           100\n",
       "                2022                4  86.250000            93\n",
       "The Weeknd      2021                3  88.000000            92"
      ]
     },
     "execution_count": 120,
     "metadata": {},
     "output_type": "execute_result"
    },
    {
     "data": {
      "application/javascript": [
       "\n",
       "            setTimeout(function() {\n",
       "                var nbb_cell_id = 120;\n",
       "                var nbb_unformatted_code = \"MIN_COUNT = 2\\nMIN_POPULARITY = 85.\\n\\ngdf[(gdf[\\\"track_popularity\\\"][\\\"count\\\"] > MIN_COUNT) & (gdf[\\\"track_popularity\\\"][\\\"mean\\\"] > MIN_POPULARITY)]\";\n",
       "                var nbb_formatted_code = \"MIN_COUNT = 2\\nMIN_POPULARITY = 85.0\\n\\ngdf[\\n    (gdf[\\\"track_popularity\\\"][\\\"count\\\"] > MIN_COUNT)\\n    & (gdf[\\\"track_popularity\\\"][\\\"mean\\\"] > MIN_POPULARITY)\\n]\";\n",
       "                var nbb_cells = Jupyter.notebook.get_cells();\n",
       "                for (var i = 0; i < nbb_cells.length; ++i) {\n",
       "                    if (nbb_cells[i].input_prompt_number == nbb_cell_id) {\n",
       "                        if (nbb_cells[i].get_text() == nbb_unformatted_code) {\n",
       "                             nbb_cells[i].set_text(nbb_formatted_code);\n",
       "                        }\n",
       "                        break;\n",
       "                    }\n",
       "                }\n",
       "            }, 500);\n",
       "            "
      ],
      "text/plain": [
       "<IPython.core.display.Javascript object>"
      ]
     },
     "metadata": {},
     "output_type": "display_data"
    }
   ],
   "source": [
    "MIN_COUNT = 2\n",
    "MIN_POPULARITY = 85.0\n",
    "\n",
    "gdf[\n",
    "    (gdf[\"track_popularity\"][\"count\"] > MIN_COUNT)\n",
    "    & (gdf[\"track_popularity\"][\"mean\"] > MIN_POPULARITY)\n",
    "]"
   ]
  },
  {
   "cell_type": "code",
   "execution_count": 125,
   "metadata": {},
   "outputs": [
    {
     "data": {
      "text/plain": [
       "track_popularity  count             4.00\n",
       "                  mean             86.25\n",
       "                  own_max_value    93.00\n",
       "Name: (Taylor Swift, 2022), dtype: float64"
      ]
     },
     "execution_count": 125,
     "metadata": {},
     "output_type": "execute_result"
    },
    {
     "data": {
      "application/javascript": [
       "\n",
       "            setTimeout(function() {\n",
       "                var nbb_cell_id = 125;\n",
       "                var nbb_unformatted_code = \"gdf.loc[(\\\"Taylor Swift\\\", 2022)] # get value by multiindex \";\n",
       "                var nbb_formatted_code = \"gdf.loc[(\\\"Taylor Swift\\\", 2022)]  # get value by multiindex\";\n",
       "                var nbb_cells = Jupyter.notebook.get_cells();\n",
       "                for (var i = 0; i < nbb_cells.length; ++i) {\n",
       "                    if (nbb_cells[i].input_prompt_number == nbb_cell_id) {\n",
       "                        if (nbb_cells[i].get_text() == nbb_unformatted_code) {\n",
       "                             nbb_cells[i].set_text(nbb_formatted_code);\n",
       "                        }\n",
       "                        break;\n",
       "                    }\n",
       "                }\n",
       "            }, 500);\n",
       "            "
      ],
      "text/plain": [
       "<IPython.core.display.Javascript object>"
      ]
     },
     "metadata": {},
     "output_type": "display_data"
    }
   ],
   "source": [
    "gdf.loc[(\"Taylor Swift\", 2022)]  # get value by multiindex"
   ]
  },
  {
   "cell_type": "code",
   "execution_count": 136,
   "metadata": {},
   "outputs": [
    {
     "data": {
      "text/plain": [
       "pop    55\n",
       "rap    32\n",
       "Name: only_one_genre, dtype: int64"
      ]
     },
     "execution_count": 136,
     "metadata": {},
     "output_type": "execute_result"
    },
    {
     "data": {
      "application/javascript": [
       "\n",
       "            setTimeout(function() {\n",
       "                var nbb_cell_id = 136;\n",
       "                var nbb_unformatted_code = \"df[df.artist_name.isin(artists_list)].only_one_genre.value_counts()\";\n",
       "                var nbb_formatted_code = \"df[df.artist_name.isin(artists_list)].only_one_genre.value_counts()\";\n",
       "                var nbb_cells = Jupyter.notebook.get_cells();\n",
       "                for (var i = 0; i < nbb_cells.length; ++i) {\n",
       "                    if (nbb_cells[i].input_prompt_number == nbb_cell_id) {\n",
       "                        if (nbb_cells[i].get_text() == nbb_unformatted_code) {\n",
       "                             nbb_cells[i].set_text(nbb_formatted_code);\n",
       "                        }\n",
       "                        break;\n",
       "                    }\n",
       "                }\n",
       "            }, 500);\n",
       "            "
      ],
      "text/plain": [
       "<IPython.core.display.Javascript object>"
      ]
     },
     "metadata": {},
     "output_type": "display_data"
    }
   ],
   "source": [
    "df[df.artist_name.isin(artists_list)].only_one_genre.value_counts()"
   ]
  },
  {
   "cell_type": "code",
   "execution_count": 143,
   "metadata": {},
   "outputs": [
    {
     "data": {
      "text/html": [
       "<style  type=\"text/css\" >\n",
       "#T_79a71_row0_col0{\n",
       "            background-color:  #b2d866;\n",
       "            color:  #000000;\n",
       "        }#T_79a71_row0_col1{\n",
       "            background-color:  #a2d066;\n",
       "            color:  #000000;\n",
       "        }#T_79a71_row0_col2{\n",
       "            background-color:  #afd766;\n",
       "            color:  #000000;\n",
       "        }#T_79a71_row0_col3{\n",
       "            background-color:  #abd566;\n",
       "            color:  #000000;\n",
       "        }#T_79a71_row0_col4{\n",
       "            background-color:  #99cc66;\n",
       "            color:  #000000;\n",
       "        }#T_79a71_row0_col5,#T_79a71_row1_col8{\n",
       "            background-color:  #a7d366;\n",
       "            color:  #000000;\n",
       "        }#T_79a71_row0_col6,#T_79a71_row0_col8,#T_79a71_row3_col9{\n",
       "            background-color:  #8cc666;\n",
       "            color:  #000000;\n",
       "        }#T_79a71_row0_col7{\n",
       "            background-color:  #84c266;\n",
       "            color:  #000000;\n",
       "        }#T_79a71_row0_col9,#T_79a71_row0_col10{\n",
       "            background-color:  #92c866;\n",
       "            color:  #000000;\n",
       "        }#T_79a71_row0_col11{\n",
       "            background-color:  #85c266;\n",
       "            color:  #000000;\n",
       "        }#T_79a71_row0_col12{\n",
       "            background-color:  #7cbe66;\n",
       "            color:  #000000;\n",
       "        }#T_79a71_row0_col13{\n",
       "            background-color:  #79bc66;\n",
       "            color:  #000000;\n",
       "        }#T_79a71_row0_col14{\n",
       "            background-color:  #72b866;\n",
       "            color:  #000000;\n",
       "        }#T_79a71_row0_col15,#T_79a71_row0_col18{\n",
       "            background-color:  #60b066;\n",
       "            color:  #000000;\n",
       "        }#T_79a71_row0_col16{\n",
       "            background-color:  #68b366;\n",
       "            color:  #000000;\n",
       "        }#T_79a71_row0_col17{\n",
       "            background-color:  #4ba566;\n",
       "            color:  #000000;\n",
       "        }#T_79a71_row0_col19{\n",
       "            background-color:  #56ab66;\n",
       "            color:  #000000;\n",
       "        }#T_79a71_row0_col20{\n",
       "            background-color:  #c0e066;\n",
       "            color:  #000000;\n",
       "        }#T_79a71_row0_col21{\n",
       "            background-color:  #e4f266;\n",
       "            color:  #000000;\n",
       "        }#T_79a71_row0_col22,#T_79a71_row2_col19{\n",
       "            background-color:  #5bad66;\n",
       "            color:  #000000;\n",
       "        }#T_79a71_row1_col0{\n",
       "            background-color:  #eef666;\n",
       "            color:  #000000;\n",
       "        }#T_79a71_row1_col1{\n",
       "            background-color:  #d9ec66;\n",
       "            color:  #000000;\n",
       "        }#T_79a71_row1_col2{\n",
       "            background-color:  #ecf666;\n",
       "            color:  #000000;\n",
       "        }#T_79a71_row1_col3{\n",
       "            background-color:  #ffff66;\n",
       "            color:  #000000;\n",
       "        }#T_79a71_row1_col4{\n",
       "            background-color:  #e3f166;\n",
       "            color:  #000000;\n",
       "        }#T_79a71_row1_col5,#T_79a71_row2_col22{\n",
       "            background-color:  #c3e166;\n",
       "            color:  #000000;\n",
       "        }#T_79a71_row1_col6,#T_79a71_row1_col17,#T_79a71_row3_col7{\n",
       "            background-color:  #7bbd66;\n",
       "            color:  #000000;\n",
       "        }#T_79a71_row1_col7{\n",
       "            background-color:  #bcde66;\n",
       "            color:  #000000;\n",
       "        }#T_79a71_row1_col9{\n",
       "            background-color:  #c2e066;\n",
       "            color:  #000000;\n",
       "        }#T_79a71_row1_col10,#T_79a71_row2_col3{\n",
       "            background-color:  #a5d266;\n",
       "            color:  #000000;\n",
       "        }#T_79a71_row1_col11{\n",
       "            background-color:  #008066;\n",
       "            color:  #f1f1f1;\n",
       "        }#T_79a71_row1_col12{\n",
       "            background-color:  #94ca66;\n",
       "            color:  #000000;\n",
       "        }#T_79a71_row1_col13,#T_79a71_row1_col15,#T_79a71_row1_col19,#T_79a71_row1_col20,#T_79a71_row1_col22,#T_79a71_row3_col10,#T_79a71_row3_col14,#T_79a71_row3_col15,#T_79a71_row3_col16,#T_79a71_row3_col17,#T_79a71_row3_col18,#T_79a71_row3_col20{\n",
       "            background-color:  #000000;\n",
       "            color:  #f1f1f1;\n",
       "        }#T_79a71_row1_col14{\n",
       "            background-color:  #eff766;\n",
       "            color:  #000000;\n",
       "        }#T_79a71_row1_col16{\n",
       "            background-color:  #9cce66;\n",
       "            color:  #000000;\n",
       "        }#T_79a71_row1_col18{\n",
       "            background-color:  #c6e266;\n",
       "            color:  #000000;\n",
       "        }#T_79a71_row1_col21{\n",
       "            background-color:  #399c66;\n",
       "            color:  #000000;\n",
       "        }#T_79a71_row2_col0,#T_79a71_row2_col15,#T_79a71_row2_col18{\n",
       "            background-color:  #6bb566;\n",
       "            color:  #000000;\n",
       "        }#T_79a71_row2_col1{\n",
       "            background-color:  #8ac466;\n",
       "            color:  #000000;\n",
       "        }#T_79a71_row2_col2,#T_79a71_row2_col4,#T_79a71_row2_col10{\n",
       "            background-color:  #96cb66;\n",
       "            color:  #000000;\n",
       "        }#T_79a71_row2_col5{\n",
       "            background-color:  #7fbf66;\n",
       "            color:  #000000;\n",
       "        }#T_79a71_row2_col6{\n",
       "            background-color:  #badc66;\n",
       "            color:  #000000;\n",
       "        }#T_79a71_row2_col7{\n",
       "            background-color:  #98cc66;\n",
       "            color:  #000000;\n",
       "        }#T_79a71_row2_col8,#T_79a71_row2_col12{\n",
       "            background-color:  #88c366;\n",
       "            color:  #000000;\n",
       "        }#T_79a71_row2_col9{\n",
       "            background-color:  #7abc66;\n",
       "            color:  #000000;\n",
       "        }#T_79a71_row2_col11,#T_79a71_row3_col8{\n",
       "            background-color:  #86c266;\n",
       "            color:  #000000;\n",
       "        }#T_79a71_row2_col13{\n",
       "            background-color:  #81c066;\n",
       "            color:  #000000;\n",
       "        }#T_79a71_row2_col14{\n",
       "            background-color:  #7dbe66;\n",
       "            color:  #000000;\n",
       "        }#T_79a71_row2_col16,#T_79a71_row3_col3{\n",
       "            background-color:  #61b066;\n",
       "            color:  #000000;\n",
       "        }#T_79a71_row2_col17{\n",
       "            background-color:  #51a866;\n",
       "            color:  #000000;\n",
       "        }#T_79a71_row2_col20{\n",
       "            background-color:  #a4d266;\n",
       "            color:  #000000;\n",
       "        }#T_79a71_row2_col21{\n",
       "            background-color:  #daec66;\n",
       "            color:  #000000;\n",
       "        }#T_79a71_row3_col0{\n",
       "            background-color:  #80c066;\n",
       "            color:  #000000;\n",
       "        }#T_79a71_row3_col1{\n",
       "            background-color:  #76bb66;\n",
       "            color:  #000000;\n",
       "        }#T_79a71_row3_col2{\n",
       "            background-color:  #82c066;\n",
       "            color:  #000000;\n",
       "        }#T_79a71_row3_col4{\n",
       "            background-color:  #71b866;\n",
       "            color:  #000000;\n",
       "        }#T_79a71_row3_col5{\n",
       "            background-color:  #f7fb66;\n",
       "            color:  #000000;\n",
       "        }#T_79a71_row3_col6{\n",
       "            background-color:  #4aa466;\n",
       "            color:  #000000;\n",
       "        }#T_79a71_row3_col11{\n",
       "            background-color:  #add666;\n",
       "            color:  #000000;\n",
       "        }#T_79a71_row3_col12{\n",
       "            background-color:  #63b166;\n",
       "            color:  #000000;\n",
       "        }#T_79a71_row3_col13{\n",
       "            background-color:  #67b366;\n",
       "            color:  #000000;\n",
       "        }#T_79a71_row3_col19{\n",
       "            background-color:  #73b966;\n",
       "            color:  #000000;\n",
       "        }#T_79a71_row3_col21{\n",
       "            background-color:  #188c66;\n",
       "            color:  #000000;\n",
       "        }#T_79a71_row3_col22{\n",
       "            background-color:  #6fb766;\n",
       "            color:  #000000;\n",
       "        }</style><table id=\"T_79a71_\" ><thead>    <tr>        <th class=\"index_name level0\" >year</th>        <th class=\"col_heading level0 col0\" >2000</th>        <th class=\"col_heading level0 col1\" >2001</th>        <th class=\"col_heading level0 col2\" >2002</th>        <th class=\"col_heading level0 col3\" >2003</th>        <th class=\"col_heading level0 col4\" >2004</th>        <th class=\"col_heading level0 col5\" >2005</th>        <th class=\"col_heading level0 col6\" >2006</th>        <th class=\"col_heading level0 col7\" >2007</th>        <th class=\"col_heading level0 col8\" >2008</th>        <th class=\"col_heading level0 col9\" >2009</th>        <th class=\"col_heading level0 col10\" >2010</th>        <th class=\"col_heading level0 col11\" >2011</th>        <th class=\"col_heading level0 col12\" >2012</th>        <th class=\"col_heading level0 col13\" >2013</th>        <th class=\"col_heading level0 col14\" >2014</th>        <th class=\"col_heading level0 col15\" >2015</th>        <th class=\"col_heading level0 col16\" >2016</th>        <th class=\"col_heading level0 col17\" >2017</th>        <th class=\"col_heading level0 col18\" >2018</th>        <th class=\"col_heading level0 col19\" >2019</th>        <th class=\"col_heading level0 col20\" >2020</th>        <th class=\"col_heading level0 col21\" >2021</th>        <th class=\"col_heading level0 col22\" >2022</th>    </tr>    <tr>        <th class=\"index_name level0\" >only_one_genre</th>        <th class=\"blank\" ></th>        <th class=\"blank\" ></th>        <th class=\"blank\" ></th>        <th class=\"blank\" ></th>        <th class=\"blank\" ></th>        <th class=\"blank\" ></th>        <th class=\"blank\" ></th>        <th class=\"blank\" ></th>        <th class=\"blank\" ></th>        <th class=\"blank\" ></th>        <th class=\"blank\" ></th>        <th class=\"blank\" ></th>        <th class=\"blank\" ></th>        <th class=\"blank\" ></th>        <th class=\"blank\" ></th>        <th class=\"blank\" ></th>        <th class=\"blank\" ></th>        <th class=\"blank\" ></th>        <th class=\"blank\" ></th>        <th class=\"blank\" ></th>        <th class=\"blank\" ></th>        <th class=\"blank\" ></th>        <th class=\"blank\" ></th>    </tr></thead><tbody>\n",
       "                <tr>\n",
       "                        <th id=\"T_79a71_level0_row0\" class=\"row_heading level0 row0\" >pop</th>\n",
       "                        <td id=\"T_79a71_row0_col0\" class=\"data row0 col0\" >67.333333</td>\n",
       "                        <td id=\"T_79a71_row0_col1\" class=\"data row0 col1\" >69.294118</td>\n",
       "                        <td id=\"T_79a71_row0_col2\" class=\"data row0 col2\" >67.714286</td>\n",
       "                        <td id=\"T_79a71_row0_col3\" class=\"data row0 col3\" >68.187500</td>\n",
       "                        <td id=\"T_79a71_row0_col4\" class=\"data row0 col4\" >70.391304</td>\n",
       "                        <td id=\"T_79a71_row0_col5\" class=\"data row0 col5\" >68.766667</td>\n",
       "                        <td id=\"T_79a71_row0_col6\" class=\"data row0 col6\" >71.931034</td>\n",
       "                        <td id=\"T_79a71_row0_col7\" class=\"data row0 col7\" >72.937500</td>\n",
       "                        <td id=\"T_79a71_row0_col8\" class=\"data row0 col8\" >71.945946</td>\n",
       "                        <td id=\"T_79a71_row0_col9\" class=\"data row0 col9\" >71.318182</td>\n",
       "                        <td id=\"T_79a71_row0_col10\" class=\"data row0 col10\" >71.297872</td>\n",
       "                        <td id=\"T_79a71_row0_col11\" class=\"data row0 col11\" >72.843137</td>\n",
       "                        <td id=\"T_79a71_row0_col12\" class=\"data row0 col12\" >73.951613</td>\n",
       "                        <td id=\"T_79a71_row0_col13\" class=\"data row0 col13\" >74.344828</td>\n",
       "                        <td id=\"T_79a71_row0_col14\" class=\"data row0 col14\" >75.136364</td>\n",
       "                        <td id=\"T_79a71_row0_col15\" class=\"data row0 col15\" >77.300000</td>\n",
       "                        <td id=\"T_79a71_row0_col16\" class=\"data row0 col16\" >76.365079</td>\n",
       "                        <td id=\"T_79a71_row0_col17\" class=\"data row0 col17\" >79.854545</td>\n",
       "                        <td id=\"T_79a71_row0_col18\" class=\"data row0 col18\" >77.288889</td>\n",
       "                        <td id=\"T_79a71_row0_col19\" class=\"data row0 col19\" >78.480769</td>\n",
       "                        <td id=\"T_79a71_row0_col20\" class=\"data row0 col20\" >65.654545</td>\n",
       "                        <td id=\"T_79a71_row0_col21\" class=\"data row0 col21\" >61.288136</td>\n",
       "                        <td id=\"T_79a71_row0_col22\" class=\"data row0 col22\" >77.962963</td>\n",
       "            </tr>\n",
       "            <tr>\n",
       "                        <th id=\"T_79a71_level0_row1\" class=\"row_heading level0 row1\" >r&b</th>\n",
       "                        <td id=\"T_79a71_row1_col0\" class=\"data row1 col0\" >60.066667</td>\n",
       "                        <td id=\"T_79a71_row1_col1\" class=\"data row1 col1\" >62.636364</td>\n",
       "                        <td id=\"T_79a71_row1_col2\" class=\"data row1 col2\" >60.333333</td>\n",
       "                        <td id=\"T_79a71_row1_col3\" class=\"data row1 col3\" >58.000000</td>\n",
       "                        <td id=\"T_79a71_row1_col4\" class=\"data row1 col4\" >61.500000</td>\n",
       "                        <td id=\"T_79a71_row1_col5\" class=\"data row1 col5\" >65.333333</td>\n",
       "                        <td id=\"T_79a71_row1_col6\" class=\"data row1 col6\" >74.000000</td>\n",
       "                        <td id=\"T_79a71_row1_col7\" class=\"data row1 col7\" >66.200000</td>\n",
       "                        <td id=\"T_79a71_row1_col8\" class=\"data row1 col8\" >68.666667</td>\n",
       "                        <td id=\"T_79a71_row1_col9\" class=\"data row1 col9\" >65.500000</td>\n",
       "                        <td id=\"T_79a71_row1_col10\" class=\"data row1 col10\" >69.000000</td>\n",
       "                        <td id=\"T_79a71_row1_col11\" class=\"data row1 col11\" >89.000000</td>\n",
       "                        <td id=\"T_79a71_row1_col12\" class=\"data row1 col12\" >71.000000</td>\n",
       "                        <td id=\"T_79a71_row1_col13\" class=\"data row1 col13\" >nan</td>\n",
       "                        <td id=\"T_79a71_row1_col14\" class=\"data row1 col14\" >60.000000</td>\n",
       "                        <td id=\"T_79a71_row1_col15\" class=\"data row1 col15\" >nan</td>\n",
       "                        <td id=\"T_79a71_row1_col16\" class=\"data row1 col16\" >70.000000</td>\n",
       "                        <td id=\"T_79a71_row1_col17\" class=\"data row1 col17\" >74.000000</td>\n",
       "                        <td id=\"T_79a71_row1_col18\" class=\"data row1 col18\" >65.000000</td>\n",
       "                        <td id=\"T_79a71_row1_col19\" class=\"data row1 col19\" >nan</td>\n",
       "                        <td id=\"T_79a71_row1_col20\" class=\"data row1 col20\" >nan</td>\n",
       "                        <td id=\"T_79a71_row1_col21\" class=\"data row1 col21\" >82.000000</td>\n",
       "                        <td id=\"T_79a71_row1_col22\" class=\"data row1 col22\" >nan</td>\n",
       "            </tr>\n",
       "            <tr>\n",
       "                        <th id=\"T_79a71_level0_row2\" class=\"row_heading level0 row2\" >rap</th>\n",
       "                        <td id=\"T_79a71_row2_col0\" class=\"data row2 col0\" >76.000000</td>\n",
       "                        <td id=\"T_79a71_row2_col1\" class=\"data row2 col1\" >72.250000</td>\n",
       "                        <td id=\"T_79a71_row2_col2\" class=\"data row2 col2\" >70.750000</td>\n",
       "                        <td id=\"T_79a71_row2_col3\" class=\"data row2 col3\" >69.000000</td>\n",
       "                        <td id=\"T_79a71_row2_col4\" class=\"data row2 col4\" >70.750000</td>\n",
       "                        <td id=\"T_79a71_row2_col5\" class=\"data row2 col5\" >73.500000</td>\n",
       "                        <td id=\"T_79a71_row2_col6\" class=\"data row2 col6\" >66.444444</td>\n",
       "                        <td id=\"T_79a71_row2_col7\" class=\"data row2 col7\" >70.500000</td>\n",
       "                        <td id=\"T_79a71_row2_col8\" class=\"data row2 col8\" >72.500000</td>\n",
       "                        <td id=\"T_79a71_row2_col9\" class=\"data row2 col9\" >74.200000</td>\n",
       "                        <td id=\"T_79a71_row2_col10\" class=\"data row2 col10\" >70.800000</td>\n",
       "                        <td id=\"T_79a71_row2_col11\" class=\"data row2 col11\" >72.692308</td>\n",
       "                        <td id=\"T_79a71_row2_col12\" class=\"data row2 col12\" >72.500000</td>\n",
       "                        <td id=\"T_79a71_row2_col13\" class=\"data row2 col13\" >73.307692</td>\n",
       "                        <td id=\"T_79a71_row2_col14\" class=\"data row2 col14\" >73.800000</td>\n",
       "                        <td id=\"T_79a71_row2_col15\" class=\"data row2 col15\" >76.000000</td>\n",
       "                        <td id=\"T_79a71_row2_col16\" class=\"data row2 col16\" >77.142857</td>\n",
       "                        <td id=\"T_79a71_row2_col17\" class=\"data row2 col17\" >79.076923</td>\n",
       "                        <td id=\"T_79a71_row2_col18\" class=\"data row2 col18\" >76.038462</td>\n",
       "                        <td id=\"T_79a71_row2_col19\" class=\"data row2 col19\" >77.875000</td>\n",
       "                        <td id=\"T_79a71_row2_col20\" class=\"data row2 col20\" >69.052632</td>\n",
       "                        <td id=\"T_79a71_row2_col21\" class=\"data row2 col21\" >62.600000</td>\n",
       "                        <td id=\"T_79a71_row2_col22\" class=\"data row2 col22\" >65.272727</td>\n",
       "            </tr>\n",
       "            <tr>\n",
       "                        <th id=\"T_79a71_level0_row3\" class=\"row_heading level0 row3\" >rock</th>\n",
       "                        <td id=\"T_79a71_row3_col0\" class=\"data row3 col0\" >73.428571</td>\n",
       "                        <td id=\"T_79a71_row3_col1\" class=\"data row3 col1\" >74.600000</td>\n",
       "                        <td id=\"T_79a71_row3_col2\" class=\"data row3 col2\" >73.142857</td>\n",
       "                        <td id=\"T_79a71_row3_col3\" class=\"data row3 col3\" >77.142857</td>\n",
       "                        <td id=\"T_79a71_row3_col4\" class=\"data row3 col4\" >75.250000</td>\n",
       "                        <td id=\"T_79a71_row3_col5\" class=\"data row3 col5\" >59.000000</td>\n",
       "                        <td id=\"T_79a71_row3_col6\" class=\"data row3 col6\" >80.000000</td>\n",
       "                        <td id=\"T_79a71_row3_col7\" class=\"data row3 col7\" >74.000000</td>\n",
       "                        <td id=\"T_79a71_row3_col8\" class=\"data row3 col8\" >72.666667</td>\n",
       "                        <td id=\"T_79a71_row3_col9\" class=\"data row3 col9\" >72.000000</td>\n",
       "                        <td id=\"T_79a71_row3_col10\" class=\"data row3 col10\" >nan</td>\n",
       "                        <td id=\"T_79a71_row3_col11\" class=\"data row3 col11\" >68.000000</td>\n",
       "                        <td id=\"T_79a71_row3_col12\" class=\"data row3 col12\" >77.000000</td>\n",
       "                        <td id=\"T_79a71_row3_col13\" class=\"data row3 col13\" >76.500000</td>\n",
       "                        <td id=\"T_79a71_row3_col14\" class=\"data row3 col14\" >nan</td>\n",
       "                        <td id=\"T_79a71_row3_col15\" class=\"data row3 col15\" >nan</td>\n",
       "                        <td id=\"T_79a71_row3_col16\" class=\"data row3 col16\" >nan</td>\n",
       "                        <td id=\"T_79a71_row3_col17\" class=\"data row3 col17\" >nan</td>\n",
       "                        <td id=\"T_79a71_row3_col18\" class=\"data row3 col18\" >nan</td>\n",
       "                        <td id=\"T_79a71_row3_col19\" class=\"data row3 col19\" >75.000000</td>\n",
       "                        <td id=\"T_79a71_row3_col20\" class=\"data row3 col20\" >nan</td>\n",
       "                        <td id=\"T_79a71_row3_col21\" class=\"data row3 col21\" >86.000000</td>\n",
       "                        <td id=\"T_79a71_row3_col22\" class=\"data row3 col22\" >75.500000</td>\n",
       "            </tr>\n",
       "    </tbody></table>"
      ],
      "text/plain": [
       "<pandas.io.formats.style.Styler at 0x7f9d137a8290>"
      ]
     },
     "execution_count": 143,
     "metadata": {},
     "output_type": "execute_result"
    },
    {
     "data": {
      "application/javascript": [
       "\n",
       "            setTimeout(function() {\n",
       "                var nbb_cell_id = 143;\n",
       "                var nbb_unformatted_code = \"# pivot table by genre and years\\ngenre_list = [\\\"pop\\\", \\\"rap\\\", \\\"rock\\\", \\\"r&b\\\"]\\npd.pivot_table(\\n    df[df.only_one_genre.isin(genre_list)],\\n    index=\\\"only_one_genre\\\",\\n    columns=\\\"year\\\",\\n    values=\\\"track_popularity\\\",\\n    aggfunc=\\\"mean\\\",\\n).style.background_gradient(axis=None, cmap=\\\"summer_r\\\")\";\n",
       "                var nbb_formatted_code = \"# pivot table by genre and years\\ngenre_list = [\\\"pop\\\", \\\"rap\\\", \\\"rock\\\", \\\"r&b\\\"]\\npd.pivot_table(\\n    df[df.only_one_genre.isin(genre_list)],\\n    index=\\\"only_one_genre\\\",\\n    columns=\\\"year\\\",\\n    values=\\\"track_popularity\\\",\\n    aggfunc=\\\"mean\\\",\\n).style.background_gradient(axis=None, cmap=\\\"summer_r\\\")\";\n",
       "                var nbb_cells = Jupyter.notebook.get_cells();\n",
       "                for (var i = 0; i < nbb_cells.length; ++i) {\n",
       "                    if (nbb_cells[i].input_prompt_number == nbb_cell_id) {\n",
       "                        if (nbb_cells[i].get_text() == nbb_unformatted_code) {\n",
       "                             nbb_cells[i].set_text(nbb_formatted_code);\n",
       "                        }\n",
       "                        break;\n",
       "                    }\n",
       "                }\n",
       "            }, 500);\n",
       "            "
      ],
      "text/plain": [
       "<IPython.core.display.Javascript object>"
      ]
     },
     "metadata": {},
     "output_type": "display_data"
    }
   ],
   "source": [
    "# pivot table by genre and years\n",
    "genre_list = [\"pop\", \"rap\", \"rock\", \"r&b\"]\n",
    "pd.pivot_table(\n",
    "    df[df.only_one_genre.isin(genre_list)],\n",
    "    index=\"only_one_genre\",\n",
    "    columns=\"year\",\n",
    "    values=\"track_popularity\",\n",
    "    aggfunc=\"mean\",\n",
    ").style.background_gradient(axis=None, cmap=\"summer_r\")"
   ]
  },
  {
   "cell_type": "markdown",
   "metadata": {},
   "source": [
    "## Visualisation"
   ]
  },
  {
   "cell_type": "code",
   "execution_count": 275,
   "metadata": {},
   "outputs": [
    {
     "data": {
      "text/html": [
       "<div>\n",
       "<style scoped>\n",
       "    .dataframe tbody tr th:only-of-type {\n",
       "        vertical-align: middle;\n",
       "    }\n",
       "\n",
       "    .dataframe tbody tr th {\n",
       "        vertical-align: top;\n",
       "    }\n",
       "\n",
       "    .dataframe thead th {\n",
       "        text-align: right;\n",
       "    }\n",
       "</style>\n",
       "<table border=\"1\" class=\"dataframe\">\n",
       "  <thead>\n",
       "    <tr style=\"text-align: right;\">\n",
       "      <th></th>\n",
       "      <th>playlist_url</th>\n",
       "      <th>year</th>\n",
       "      <th>track_id</th>\n",
       "      <th>track_name</th>\n",
       "      <th>track_popularity</th>\n",
       "      <th>album</th>\n",
       "      <th>artist_id</th>\n",
       "      <th>artist_name</th>\n",
       "      <th>artist_genres</th>\n",
       "      <th>artist_popularity</th>\n",
       "      <th>...</th>\n",
       "      <th>acousticness</th>\n",
       "      <th>instrumentalness</th>\n",
       "      <th>liveness</th>\n",
       "      <th>valence</th>\n",
       "      <th>tempo</th>\n",
       "      <th>duration_ms</th>\n",
       "      <th>time_signature</th>\n",
       "      <th>only_one_genre</th>\n",
       "      <th>duration_min</th>\n",
       "      <th>decade</th>\n",
       "    </tr>\n",
       "  </thead>\n",
       "  <tbody>\n",
       "    <tr>\n",
       "      <th>0</th>\n",
       "      <td>https://open.spotify.com/playlist/37i9dQZF1DWU...</td>\n",
       "      <td>2000</td>\n",
       "      <td>3AJwUDP919kvQ9QcozQPxg</td>\n",
       "      <td>Yellow</td>\n",
       "      <td>91</td>\n",
       "      <td>Parachutes</td>\n",
       "      <td>4gzpq5DPGxSnKTe4SA8HAU</td>\n",
       "      <td>Coldplay</td>\n",
       "      <td>[permanent wave, pop]</td>\n",
       "      <td>86</td>\n",
       "      <td>...</td>\n",
       "      <td>0.00239</td>\n",
       "      <td>0.000121</td>\n",
       "      <td>0.2340</td>\n",
       "      <td>0.285</td>\n",
       "      <td>173.372</td>\n",
       "      <td>266773.0</td>\n",
       "      <td>4.0</td>\n",
       "      <td>pop</td>\n",
       "      <td>4.4</td>\n",
       "      <td>0</td>\n",
       "    </tr>\n",
       "    <tr>\n",
       "      <th>1</th>\n",
       "      <td>https://open.spotify.com/playlist/37i9dQZF1DWU...</td>\n",
       "      <td>2000</td>\n",
       "      <td>2m1hi0nfMR9vdGC8UcrnwU</td>\n",
       "      <td>All The Small Things</td>\n",
       "      <td>84</td>\n",
       "      <td>Enema Of The State</td>\n",
       "      <td>6FBDaR13swtiWwGhX1WQsP</td>\n",
       "      <td>blink-182</td>\n",
       "      <td>[alternative metal, modern rock, pop punk, pun...</td>\n",
       "      <td>75</td>\n",
       "      <td>...</td>\n",
       "      <td>0.01030</td>\n",
       "      <td>0.000000</td>\n",
       "      <td>0.6120</td>\n",
       "      <td>0.684</td>\n",
       "      <td>148.726</td>\n",
       "      <td>167067.0</td>\n",
       "      <td>4.0</td>\n",
       "      <td>modern rock</td>\n",
       "      <td>2.8</td>\n",
       "      <td>0</td>\n",
       "    </tr>\n",
       "    <tr>\n",
       "      <th>2</th>\n",
       "      <td>https://open.spotify.com/playlist/37i9dQZF1DWU...</td>\n",
       "      <td>2000</td>\n",
       "      <td>3y4LxiYMgDl4RethdzpmNe</td>\n",
       "      <td>Breathe</td>\n",
       "      <td>69</td>\n",
       "      <td>Breathe</td>\n",
       "      <td>25NQNriVT2YbSW80ILRWJa</td>\n",
       "      <td>Faith Hill</td>\n",
       "      <td>[contemporary country, country, country dawn, ...</td>\n",
       "      <td>61</td>\n",
       "      <td>...</td>\n",
       "      <td>0.17300</td>\n",
       "      <td>0.000000</td>\n",
       "      <td>0.2510</td>\n",
       "      <td>0.278</td>\n",
       "      <td>136.859</td>\n",
       "      <td>250547.0</td>\n",
       "      <td>4.0</td>\n",
       "      <td>country</td>\n",
       "      <td>4.2</td>\n",
       "      <td>0</td>\n",
       "    </tr>\n",
       "    <tr>\n",
       "      <th>3</th>\n",
       "      <td>https://open.spotify.com/playlist/37i9dQZF1DWU...</td>\n",
       "      <td>2000</td>\n",
       "      <td>60a0Rd6pjrkxjPbaKzXjfq</td>\n",
       "      <td>In the End</td>\n",
       "      <td>88</td>\n",
       "      <td>Hybrid Theory (Bonus Edition)</td>\n",
       "      <td>6XyY86QOPPrYVGvF9ch6wz</td>\n",
       "      <td>Linkin Park</td>\n",
       "      <td>[alternative metal, nu metal, post-grunge, rap...</td>\n",
       "      <td>83</td>\n",
       "      <td>...</td>\n",
       "      <td>0.00958</td>\n",
       "      <td>0.000000</td>\n",
       "      <td>0.2090</td>\n",
       "      <td>0.400</td>\n",
       "      <td>105.143</td>\n",
       "      <td>216880.0</td>\n",
       "      <td>4.0</td>\n",
       "      <td>rock</td>\n",
       "      <td>3.6</td>\n",
       "      <td>0</td>\n",
       "    </tr>\n",
       "    <tr>\n",
       "      <th>4</th>\n",
       "      <td>https://open.spotify.com/playlist/37i9dQZF1DWU...</td>\n",
       "      <td>2000</td>\n",
       "      <td>62bOmKYxYg7dhrC6gH9vFn</td>\n",
       "      <td>Bye Bye Bye</td>\n",
       "      <td>74</td>\n",
       "      <td>No Strings Attached</td>\n",
       "      <td>6Ff53KvcvAj5U7Z1vojB5o</td>\n",
       "      <td>*NSYNC</td>\n",
       "      <td>[boy band, dance pop, pop]</td>\n",
       "      <td>65</td>\n",
       "      <td>...</td>\n",
       "      <td>0.03100</td>\n",
       "      <td>0.001200</td>\n",
       "      <td>0.0821</td>\n",
       "      <td>0.861</td>\n",
       "      <td>172.638</td>\n",
       "      <td>200400.0</td>\n",
       "      <td>4.0</td>\n",
       "      <td>pop</td>\n",
       "      <td>3.3</td>\n",
       "      <td>0</td>\n",
       "    </tr>\n",
       "  </tbody>\n",
       "</table>\n",
       "<p>5 rows × 26 columns</p>\n",
       "</div>"
      ],
      "text/plain": [
       "                                        playlist_url  year  \\\n",
       "0  https://open.spotify.com/playlist/37i9dQZF1DWU...  2000   \n",
       "1  https://open.spotify.com/playlist/37i9dQZF1DWU...  2000   \n",
       "2  https://open.spotify.com/playlist/37i9dQZF1DWU...  2000   \n",
       "3  https://open.spotify.com/playlist/37i9dQZF1DWU...  2000   \n",
       "4  https://open.spotify.com/playlist/37i9dQZF1DWU...  2000   \n",
       "\n",
       "                 track_id            track_name  track_popularity  \\\n",
       "0  3AJwUDP919kvQ9QcozQPxg                Yellow                91   \n",
       "1  2m1hi0nfMR9vdGC8UcrnwU  All The Small Things                84   \n",
       "2  3y4LxiYMgDl4RethdzpmNe               Breathe                69   \n",
       "3  60a0Rd6pjrkxjPbaKzXjfq            In the End                88   \n",
       "4  62bOmKYxYg7dhrC6gH9vFn           Bye Bye Bye                74   \n",
       "\n",
       "                           album               artist_id  artist_name  \\\n",
       "0                     Parachutes  4gzpq5DPGxSnKTe4SA8HAU     Coldplay   \n",
       "1             Enema Of The State  6FBDaR13swtiWwGhX1WQsP    blink-182   \n",
       "2                        Breathe  25NQNriVT2YbSW80ILRWJa   Faith Hill   \n",
       "3  Hybrid Theory (Bonus Edition)  6XyY86QOPPrYVGvF9ch6wz  Linkin Park   \n",
       "4            No Strings Attached  6Ff53KvcvAj5U7Z1vojB5o       *NSYNC   \n",
       "\n",
       "                                       artist_genres  artist_popularity  ...  \\\n",
       "0                              [permanent wave, pop]                 86  ...   \n",
       "1  [alternative metal, modern rock, pop punk, pun...                 75  ...   \n",
       "2  [contemporary country, country, country dawn, ...                 61  ...   \n",
       "3  [alternative metal, nu metal, post-grunge, rap...                 83  ...   \n",
       "4                         [boy band, dance pop, pop]                 65  ...   \n",
       "\n",
       "   acousticness  instrumentalness  liveness  valence    tempo  duration_ms  \\\n",
       "0       0.00239          0.000121    0.2340    0.285  173.372     266773.0   \n",
       "1       0.01030          0.000000    0.6120    0.684  148.726     167067.0   \n",
       "2       0.17300          0.000000    0.2510    0.278  136.859     250547.0   \n",
       "3       0.00958          0.000000    0.2090    0.400  105.143     216880.0   \n",
       "4       0.03100          0.001200    0.0821    0.861  172.638     200400.0   \n",
       "\n",
       "   time_signature  only_one_genre  duration_min  decade  \n",
       "0             4.0             pop           4.4       0  \n",
       "1             4.0     modern rock           2.8       0  \n",
       "2             4.0         country           4.2       0  \n",
       "3             4.0            rock           3.6       0  \n",
       "4             4.0             pop           3.3       0  \n",
       "\n",
       "[5 rows x 26 columns]"
      ]
     },
     "execution_count": 275,
     "metadata": {},
     "output_type": "execute_result"
    },
    {
     "data": {
      "application/javascript": [
       "\n",
       "            setTimeout(function() {\n",
       "                var nbb_cell_id = 275;\n",
       "                var nbb_unformatted_code = \"df.head()\";\n",
       "                var nbb_formatted_code = \"df.head()\";\n",
       "                var nbb_cells = Jupyter.notebook.get_cells();\n",
       "                for (var i = 0; i < nbb_cells.length; ++i) {\n",
       "                    if (nbb_cells[i].input_prompt_number == nbb_cell_id) {\n",
       "                        if (nbb_cells[i].get_text() == nbb_unformatted_code) {\n",
       "                             nbb_cells[i].set_text(nbb_formatted_code);\n",
       "                        }\n",
       "                        break;\n",
       "                    }\n",
       "                }\n",
       "            }, 500);\n",
       "            "
      ],
      "text/plain": [
       "<IPython.core.display.Javascript object>"
      ]
     },
     "metadata": {},
     "output_type": "display_data"
    }
   ],
   "source": [
    "df.head()"
   ]
  },
  {
   "cell_type": "code",
   "execution_count": 268,
   "metadata": {},
   "outputs": [
    {
     "data": {
      "application/javascript": [
       "\n",
       "            setTimeout(function() {\n",
       "                var nbb_cell_id = 268;\n",
       "                var nbb_unformatted_code = \"import plotly.express as px\";\n",
       "                var nbb_formatted_code = \"import plotly.express as px\";\n",
       "                var nbb_cells = Jupyter.notebook.get_cells();\n",
       "                for (var i = 0; i < nbb_cells.length; ++i) {\n",
       "                    if (nbb_cells[i].input_prompt_number == nbb_cell_id) {\n",
       "                        if (nbb_cells[i].get_text() == nbb_unformatted_code) {\n",
       "                             nbb_cells[i].set_text(nbb_formatted_code);\n",
       "                        }\n",
       "                        break;\n",
       "                    }\n",
       "                }\n",
       "            }, 500);\n",
       "            "
      ],
      "text/plain": [
       "<IPython.core.display.Javascript object>"
      ]
     },
     "metadata": {},
     "output_type": "display_data"
    }
   ],
   "source": [
    "import plotly.express as px"
   ]
  },
  {
   "cell_type": "markdown",
   "metadata": {},
   "source": [
    "### Histogram"
   ]
  },
  {
   "cell_type": "code",
   "execution_count": 192,
   "metadata": {},
   "outputs": [
    {
     "data": {
      "application/javascript": [
       "\n",
       "            setTimeout(function() {\n",
       "                var nbb_cell_id = 192;\n",
       "                var nbb_unformatted_code = \"df[\\\"decade\\\"] = df.year.apply(lambda x: int(str(x)[-2]))\";\n",
       "                var nbb_formatted_code = \"df[\\\"decade\\\"] = df.year.apply(lambda x: int(str(x)[-2]))\";\n",
       "                var nbb_cells = Jupyter.notebook.get_cells();\n",
       "                for (var i = 0; i < nbb_cells.length; ++i) {\n",
       "                    if (nbb_cells[i].input_prompt_number == nbb_cell_id) {\n",
       "                        if (nbb_cells[i].get_text() == nbb_unformatted_code) {\n",
       "                             nbb_cells[i].set_text(nbb_formatted_code);\n",
       "                        }\n",
       "                        break;\n",
       "                    }\n",
       "                }\n",
       "            }, 500);\n",
       "            "
      ],
      "text/plain": [
       "<IPython.core.display.Javascript object>"
      ]
     },
     "metadata": {},
     "output_type": "display_data"
    }
   ],
   "source": [
    "df[\"decade\"] = df.year.apply(lambda x: int(str(x)[-2]))"
   ]
  },
  {
   "cell_type": "code",
   "execution_count": 204,
   "metadata": {},
   "outputs": [
    {
     "data": {
      "application/vnd.plotly.v1+json": {
       "config": {
        "plotlyServerURL": "https://plot.ly"
       },
       "data": [
        {
         "alignmentgroup": "True",
         "bingroup": "x",
         "hovertemplate": "decade=0<br>track_popularity=%{x}<br>count=%{y}<extra></extra>",
         "legendgroup": "0",
         "marker": {
          "color": "#636efa",
          "opacity": 0.5
         },
         "name": "0",
         "nbinsx": 50,
         "offsetgroup": "0",
         "orientation": "v",
         "showlegend": true,
         "type": "histogram",
         "x": [
          91,
          84,
          69,
          88,
          74,
          73,
          88,
          57,
          80,
          83,
          82,
          82,
          79,
          79,
          77,
          77,
          76,
          74,
          74,
          73,
          73,
          73,
          73,
          72,
          72,
          72,
          72,
          71,
          71,
          70,
          70,
          69,
          69,
          69,
          68,
          68,
          68,
          68,
          68,
          68,
          68,
          67,
          67,
          67,
          67,
          66,
          66,
          66,
          66,
          65,
          65,
          64,
          63,
          63,
          63,
          63,
          63,
          63,
          62,
          62,
          61,
          61,
          60,
          61,
          60,
          60,
          60,
          60,
          59,
          59,
          59,
          59,
          59,
          59,
          59,
          59,
          58,
          58,
          58,
          58,
          58,
          58,
          58,
          58,
          58,
          57,
          57,
          57,
          57,
          56,
          56,
          56,
          55,
          55,
          55,
          55,
          53,
          53,
          52,
          50,
          81,
          73,
          84,
          80,
          70,
          75,
          81,
          84,
          81,
          83,
          83,
          81,
          80,
          79,
          79,
          79,
          79,
          78,
          77,
          77,
          77,
          77,
          76,
          76,
          75,
          74,
          76,
          74,
          73,
          72,
          72,
          72,
          71,
          71,
          71,
          71,
          71,
          71,
          71,
          70,
          70,
          70,
          70,
          69,
          69,
          69,
          69,
          69,
          69,
          69,
          68,
          68,
          67,
          67,
          67,
          67,
          66,
          65,
          64,
          67,
          64,
          64,
          64,
          63,
          63,
          63,
          62,
          62,
          63,
          62,
          61,
          61,
          61,
          60,
          60,
          60,
          60,
          60,
          59,
          59,
          59,
          59,
          59,
          58,
          58,
          58,
          58,
          58,
          58,
          57,
          57,
          57,
          57,
          57,
          57,
          57,
          57,
          56,
          56,
          55,
          80,
          89,
          81,
          79,
          78,
          67,
          65,
          88,
          86,
          86,
          84,
          79,
          79,
          78,
          76,
          76,
          78,
          84,
          75,
          74,
          74,
          73,
          76,
          73,
          73,
          72,
          70,
          70,
          70,
          70,
          69,
          71,
          69,
          68,
          67,
          67,
          67,
          67,
          67,
          67,
          67,
          67,
          66,
          65,
          65,
          65,
          65,
          65,
          65,
          64,
          64,
          64,
          64,
          65,
          64,
          64,
          64,
          63,
          63,
          63,
          63,
          63,
          63,
          62,
          62,
          61,
          61,
          61,
          61,
          61,
          60,
          60,
          60,
          60,
          59,
          59,
          59,
          58,
          57,
          57,
          57,
          56,
          56,
          55,
          55,
          55,
          55,
          55,
          55,
          55,
          54,
          54,
          53,
          53,
          53,
          53,
          52,
          52,
          52,
          53,
          77,
          86,
          85,
          81,
          79,
          82,
          84,
          82,
          81,
          80,
          79,
          78,
          78,
          78,
          78,
          77,
          76,
          76,
          77,
          76,
          75,
          75,
          74,
          74,
          74,
          73,
          72,
          72,
          72,
          72,
          72,
          71,
          71,
          71,
          71,
          70,
          70,
          69,
          69,
          69,
          68,
          68,
          68,
          68,
          66,
          66,
          66,
          65,
          65,
          65,
          65,
          65,
          63,
          63,
          63,
          63,
          62,
          62,
          62,
          62,
          62,
          61,
          61,
          61,
          61,
          60,
          60,
          59,
          59,
          59,
          59,
          59,
          59,
          58,
          58,
          58,
          57,
          57,
          57,
          56,
          55,
          55,
          54,
          54,
          54,
          54,
          53,
          56,
          53,
          53,
          51,
          51,
          51,
          49,
          49,
          48,
          45,
          34,
          1,
          0,
          84,
          82,
          84,
          84,
          84,
          87,
          87,
          87,
          82,
          82,
          82,
          80,
          78,
          78,
          78,
          78,
          77,
          77,
          77,
          76,
          75,
          74,
          73,
          73,
          73,
          73,
          73,
          72,
          72,
          72,
          71,
          71,
          71,
          71,
          72,
          70,
          70,
          70,
          70,
          70,
          69,
          69,
          69,
          69,
          69,
          68,
          68,
          68,
          68,
          68,
          68,
          68,
          67,
          67,
          67,
          66,
          66,
          65,
          65,
          65,
          65,
          64,
          64,
          64,
          64,
          63,
          63,
          63,
          62,
          61,
          61,
          61,
          61,
          61,
          61,
          61,
          60,
          60,
          60,
          60,
          59,
          59,
          59,
          58,
          58,
          58,
          58,
          58,
          58,
          57,
          57,
          57,
          57,
          56,
          56,
          56,
          55,
          54,
          53,
          51,
          73,
          76,
          82,
          81,
          90,
          78,
          80,
          70,
          77,
          85,
          85,
          83,
          81,
          81,
          80,
          80,
          79,
          79,
          79,
          78,
          78,
          78,
          77,
          77,
          77,
          77,
          76,
          76,
          76,
          76,
          75,
          74,
          74,
          74,
          73,
          73,
          73,
          73,
          73,
          72,
          72,
          72,
          71,
          71,
          70,
          70,
          70,
          70,
          69,
          69,
          69,
          68,
          68,
          68,
          67,
          67,
          67,
          67,
          67,
          67,
          66,
          66,
          66,
          65,
          65,
          65,
          65,
          64,
          64,
          64,
          63,
          63,
          63,
          63,
          63,
          62,
          62,
          62,
          61,
          61,
          61,
          61,
          60,
          60,
          60,
          60,
          60,
          60,
          59,
          59,
          58,
          58,
          58,
          58,
          57,
          57,
          56,
          56,
          55,
          55,
          86,
          83,
          86,
          81,
          73,
          83,
          75,
          82,
          82,
          82,
          81,
          83,
          80,
          80,
          80,
          80,
          79,
          79,
          76,
          77,
          76,
          76,
          76,
          76,
          75,
          75,
          75,
          75,
          74,
          74,
          74,
          73,
          73,
          73,
          72,
          72,
          72,
          72,
          71,
          71,
          71,
          71,
          71,
          70,
          70,
          70,
          69,
          68,
          71,
          68,
          67,
          67,
          67,
          67,
          67,
          67,
          66,
          66,
          66,
          65,
          65,
          65,
          64,
          64,
          64,
          64,
          64,
          64,
          63,
          63,
          63,
          63,
          63,
          63,
          62,
          62,
          61,
          61,
          60,
          60,
          60,
          59,
          59,
          59,
          59,
          59,
          57,
          56,
          56,
          54,
          53,
          53,
          51,
          51,
          50,
          49,
          47,
          43,
          43,
          43,
          78,
          86,
          84,
          68,
          79,
          81,
          74,
          75,
          84,
          83,
          83,
          83,
          82,
          82,
          82,
          82,
          81,
          82,
          81,
          81,
          81,
          80,
          78,
          78,
          78,
          78,
          78,
          78,
          77,
          77,
          77,
          77,
          77,
          76,
          76,
          76,
          75,
          75,
          75,
          73,
          73,
          73,
          75,
          73,
          72,
          72,
          71,
          71,
          71,
          72,
          70,
          70,
          70,
          72,
          69,
          68,
          68,
          68,
          67,
          67,
          67,
          67,
          66,
          65,
          65,
          64,
          64,
          63,
          63,
          63,
          63,
          63,
          63,
          62,
          62,
          61,
          61,
          60,
          60,
          60,
          60,
          59,
          59,
          59,
          59,
          59,
          59,
          58,
          58,
          57,
          57,
          55,
          54,
          52,
          52,
          52,
          52,
          51,
          48,
          47,
          83,
          72,
          77,
          75,
          74,
          79,
          76,
          68,
          88,
          88,
          84,
          84,
          82,
          80,
          80,
          79,
          83,
          79,
          79,
          79,
          78,
          80,
          78,
          78,
          78,
          77,
          77,
          77,
          77,
          77,
          77,
          76,
          76,
          75,
          75,
          74,
          74,
          74,
          74,
          74,
          76,
          74,
          73,
          73,
          73,
          73,
          73,
          72,
          72,
          71,
          71,
          73,
          71,
          71,
          70,
          70,
          69,
          69,
          69,
          68,
          68,
          68,
          68,
          68,
          68,
          68,
          68,
          68,
          67,
          68,
          67,
          67,
          67,
          66,
          66,
          66,
          65,
          65,
          64,
          64,
          64,
          64,
          63,
          63,
          62,
          63,
          62,
          62,
          62,
          62,
          62,
          61,
          61,
          61,
          61,
          60,
          60,
          60,
          60,
          59,
          78,
          79,
          78,
          69,
          78,
          81,
          88,
          84,
          82,
          82,
          80,
          80,
          80,
          80,
          80,
          80,
          79,
          79,
          77,
          77,
          77,
          77,
          77,
          76,
          76,
          76,
          75,
          74,
          76,
          74,
          74,
          74,
          74,
          73,
          73,
          73,
          72,
          72,
          72,
          72,
          71,
          71,
          71,
          71,
          71,
          71,
          71,
          71,
          70,
          70,
          70,
          70,
          70,
          70,
          69,
          69,
          69,
          69,
          69,
          68,
          68,
          68,
          68,
          68,
          68,
          68,
          68,
          68,
          68,
          67,
          67,
          67,
          67,
          67,
          66,
          66,
          66,
          66,
          65,
          65,
          64,
          63,
          63,
          64,
          63,
          62,
          61,
          61,
          61,
          60,
          60,
          60,
          59,
          58,
          57,
          57,
          57,
          55,
          52,
          52
         ],
         "xaxis": "x",
         "yaxis": "y"
        },
        {
         "alignmentgroup": "True",
         "hovertemplate": "decade=0<br>track_popularity=%{x}<extra></extra>",
         "legendgroup": "0",
         "marker": {
          "color": "#636efa"
         },
         "name": "0",
         "notched": true,
         "offsetgroup": "0",
         "showlegend": false,
         "type": "box",
         "x": [
          91,
          84,
          69,
          88,
          74,
          73,
          88,
          57,
          80,
          83,
          82,
          82,
          79,
          79,
          77,
          77,
          76,
          74,
          74,
          73,
          73,
          73,
          73,
          72,
          72,
          72,
          72,
          71,
          71,
          70,
          70,
          69,
          69,
          69,
          68,
          68,
          68,
          68,
          68,
          68,
          68,
          67,
          67,
          67,
          67,
          66,
          66,
          66,
          66,
          65,
          65,
          64,
          63,
          63,
          63,
          63,
          63,
          63,
          62,
          62,
          61,
          61,
          60,
          61,
          60,
          60,
          60,
          60,
          59,
          59,
          59,
          59,
          59,
          59,
          59,
          59,
          58,
          58,
          58,
          58,
          58,
          58,
          58,
          58,
          58,
          57,
          57,
          57,
          57,
          56,
          56,
          56,
          55,
          55,
          55,
          55,
          53,
          53,
          52,
          50,
          81,
          73,
          84,
          80,
          70,
          75,
          81,
          84,
          81,
          83,
          83,
          81,
          80,
          79,
          79,
          79,
          79,
          78,
          77,
          77,
          77,
          77,
          76,
          76,
          75,
          74,
          76,
          74,
          73,
          72,
          72,
          72,
          71,
          71,
          71,
          71,
          71,
          71,
          71,
          70,
          70,
          70,
          70,
          69,
          69,
          69,
          69,
          69,
          69,
          69,
          68,
          68,
          67,
          67,
          67,
          67,
          66,
          65,
          64,
          67,
          64,
          64,
          64,
          63,
          63,
          63,
          62,
          62,
          63,
          62,
          61,
          61,
          61,
          60,
          60,
          60,
          60,
          60,
          59,
          59,
          59,
          59,
          59,
          58,
          58,
          58,
          58,
          58,
          58,
          57,
          57,
          57,
          57,
          57,
          57,
          57,
          57,
          56,
          56,
          55,
          80,
          89,
          81,
          79,
          78,
          67,
          65,
          88,
          86,
          86,
          84,
          79,
          79,
          78,
          76,
          76,
          78,
          84,
          75,
          74,
          74,
          73,
          76,
          73,
          73,
          72,
          70,
          70,
          70,
          70,
          69,
          71,
          69,
          68,
          67,
          67,
          67,
          67,
          67,
          67,
          67,
          67,
          66,
          65,
          65,
          65,
          65,
          65,
          65,
          64,
          64,
          64,
          64,
          65,
          64,
          64,
          64,
          63,
          63,
          63,
          63,
          63,
          63,
          62,
          62,
          61,
          61,
          61,
          61,
          61,
          60,
          60,
          60,
          60,
          59,
          59,
          59,
          58,
          57,
          57,
          57,
          56,
          56,
          55,
          55,
          55,
          55,
          55,
          55,
          55,
          54,
          54,
          53,
          53,
          53,
          53,
          52,
          52,
          52,
          53,
          77,
          86,
          85,
          81,
          79,
          82,
          84,
          82,
          81,
          80,
          79,
          78,
          78,
          78,
          78,
          77,
          76,
          76,
          77,
          76,
          75,
          75,
          74,
          74,
          74,
          73,
          72,
          72,
          72,
          72,
          72,
          71,
          71,
          71,
          71,
          70,
          70,
          69,
          69,
          69,
          68,
          68,
          68,
          68,
          66,
          66,
          66,
          65,
          65,
          65,
          65,
          65,
          63,
          63,
          63,
          63,
          62,
          62,
          62,
          62,
          62,
          61,
          61,
          61,
          61,
          60,
          60,
          59,
          59,
          59,
          59,
          59,
          59,
          58,
          58,
          58,
          57,
          57,
          57,
          56,
          55,
          55,
          54,
          54,
          54,
          54,
          53,
          56,
          53,
          53,
          51,
          51,
          51,
          49,
          49,
          48,
          45,
          34,
          1,
          0,
          84,
          82,
          84,
          84,
          84,
          87,
          87,
          87,
          82,
          82,
          82,
          80,
          78,
          78,
          78,
          78,
          77,
          77,
          77,
          76,
          75,
          74,
          73,
          73,
          73,
          73,
          73,
          72,
          72,
          72,
          71,
          71,
          71,
          71,
          72,
          70,
          70,
          70,
          70,
          70,
          69,
          69,
          69,
          69,
          69,
          68,
          68,
          68,
          68,
          68,
          68,
          68,
          67,
          67,
          67,
          66,
          66,
          65,
          65,
          65,
          65,
          64,
          64,
          64,
          64,
          63,
          63,
          63,
          62,
          61,
          61,
          61,
          61,
          61,
          61,
          61,
          60,
          60,
          60,
          60,
          59,
          59,
          59,
          58,
          58,
          58,
          58,
          58,
          58,
          57,
          57,
          57,
          57,
          56,
          56,
          56,
          55,
          54,
          53,
          51,
          73,
          76,
          82,
          81,
          90,
          78,
          80,
          70,
          77,
          85,
          85,
          83,
          81,
          81,
          80,
          80,
          79,
          79,
          79,
          78,
          78,
          78,
          77,
          77,
          77,
          77,
          76,
          76,
          76,
          76,
          75,
          74,
          74,
          74,
          73,
          73,
          73,
          73,
          73,
          72,
          72,
          72,
          71,
          71,
          70,
          70,
          70,
          70,
          69,
          69,
          69,
          68,
          68,
          68,
          67,
          67,
          67,
          67,
          67,
          67,
          66,
          66,
          66,
          65,
          65,
          65,
          65,
          64,
          64,
          64,
          63,
          63,
          63,
          63,
          63,
          62,
          62,
          62,
          61,
          61,
          61,
          61,
          60,
          60,
          60,
          60,
          60,
          60,
          59,
          59,
          58,
          58,
          58,
          58,
          57,
          57,
          56,
          56,
          55,
          55,
          86,
          83,
          86,
          81,
          73,
          83,
          75,
          82,
          82,
          82,
          81,
          83,
          80,
          80,
          80,
          80,
          79,
          79,
          76,
          77,
          76,
          76,
          76,
          76,
          75,
          75,
          75,
          75,
          74,
          74,
          74,
          73,
          73,
          73,
          72,
          72,
          72,
          72,
          71,
          71,
          71,
          71,
          71,
          70,
          70,
          70,
          69,
          68,
          71,
          68,
          67,
          67,
          67,
          67,
          67,
          67,
          66,
          66,
          66,
          65,
          65,
          65,
          64,
          64,
          64,
          64,
          64,
          64,
          63,
          63,
          63,
          63,
          63,
          63,
          62,
          62,
          61,
          61,
          60,
          60,
          60,
          59,
          59,
          59,
          59,
          59,
          57,
          56,
          56,
          54,
          53,
          53,
          51,
          51,
          50,
          49,
          47,
          43,
          43,
          43,
          78,
          86,
          84,
          68,
          79,
          81,
          74,
          75,
          84,
          83,
          83,
          83,
          82,
          82,
          82,
          82,
          81,
          82,
          81,
          81,
          81,
          80,
          78,
          78,
          78,
          78,
          78,
          78,
          77,
          77,
          77,
          77,
          77,
          76,
          76,
          76,
          75,
          75,
          75,
          73,
          73,
          73,
          75,
          73,
          72,
          72,
          71,
          71,
          71,
          72,
          70,
          70,
          70,
          72,
          69,
          68,
          68,
          68,
          67,
          67,
          67,
          67,
          66,
          65,
          65,
          64,
          64,
          63,
          63,
          63,
          63,
          63,
          63,
          62,
          62,
          61,
          61,
          60,
          60,
          60,
          60,
          59,
          59,
          59,
          59,
          59,
          59,
          58,
          58,
          57,
          57,
          55,
          54,
          52,
          52,
          52,
          52,
          51,
          48,
          47,
          83,
          72,
          77,
          75,
          74,
          79,
          76,
          68,
          88,
          88,
          84,
          84,
          82,
          80,
          80,
          79,
          83,
          79,
          79,
          79,
          78,
          80,
          78,
          78,
          78,
          77,
          77,
          77,
          77,
          77,
          77,
          76,
          76,
          75,
          75,
          74,
          74,
          74,
          74,
          74,
          76,
          74,
          73,
          73,
          73,
          73,
          73,
          72,
          72,
          71,
          71,
          73,
          71,
          71,
          70,
          70,
          69,
          69,
          69,
          68,
          68,
          68,
          68,
          68,
          68,
          68,
          68,
          68,
          67,
          68,
          67,
          67,
          67,
          66,
          66,
          66,
          65,
          65,
          64,
          64,
          64,
          64,
          63,
          63,
          62,
          63,
          62,
          62,
          62,
          62,
          62,
          61,
          61,
          61,
          61,
          60,
          60,
          60,
          60,
          59,
          78,
          79,
          78,
          69,
          78,
          81,
          88,
          84,
          82,
          82,
          80,
          80,
          80,
          80,
          80,
          80,
          79,
          79,
          77,
          77,
          77,
          77,
          77,
          76,
          76,
          76,
          75,
          74,
          76,
          74,
          74,
          74,
          74,
          73,
          73,
          73,
          72,
          72,
          72,
          72,
          71,
          71,
          71,
          71,
          71,
          71,
          71,
          71,
          70,
          70,
          70,
          70,
          70,
          70,
          69,
          69,
          69,
          69,
          69,
          68,
          68,
          68,
          68,
          68,
          68,
          68,
          68,
          68,
          68,
          67,
          67,
          67,
          67,
          67,
          66,
          66,
          66,
          66,
          65,
          65,
          64,
          63,
          63,
          64,
          63,
          62,
          61,
          61,
          61,
          60,
          60,
          60,
          59,
          58,
          57,
          57,
          57,
          55,
          52,
          52
         ],
         "xaxis": "x2",
         "yaxis": "y2"
        },
        {
         "alignmentgroup": "True",
         "bingroup": "x",
         "hovertemplate": "decade=1<br>track_popularity=%{x}<br>count=%{y}<extra></extra>",
         "legendgroup": "1",
         "marker": {
          "color": "#EF553B",
          "opacity": 0.5
         },
         "name": "1",
         "nbinsx": 50,
         "offsetgroup": "1",
         "orientation": "v",
         "showlegend": true,
         "type": "histogram",
         "x": [
          86,
          85,
          85,
          80,
          84,
          70,
          79,
          84,
          77,
          83,
          83,
          83,
          82,
          82,
          80,
          80,
          79,
          79,
          79,
          78,
          77,
          76,
          76,
          75,
          76,
          75,
          74,
          78,
          74,
          74,
          74,
          73,
          73,
          73,
          72,
          72,
          72,
          72,
          72,
          72,
          71,
          71,
          71,
          70,
          70,
          70,
          70,
          69,
          69,
          69,
          69,
          69,
          69,
          68,
          68,
          68,
          67,
          67,
          67,
          67,
          67,
          67,
          66,
          66,
          66,
          66,
          65,
          66,
          65,
          65,
          65,
          64,
          64,
          64,
          64,
          63,
          63,
          63,
          62,
          62,
          61,
          61,
          61,
          60,
          59,
          58,
          57,
          56,
          56,
          55,
          54,
          53,
          53,
          51,
          49,
          48,
          48,
          46,
          46,
          44,
          82,
          74,
          71,
          73,
          80,
          89,
          86,
          85,
          85,
          83,
          83,
          83,
          83,
          82,
          82,
          81,
          81,
          81,
          81,
          80,
          79,
          79,
          81,
          79,
          78,
          78,
          78,
          78,
          77,
          76,
          76,
          76,
          76,
          76,
          75,
          75,
          75,
          75,
          74,
          74,
          74,
          74,
          74,
          74,
          74,
          73,
          73,
          72,
          72,
          72,
          72,
          72,
          71,
          71,
          71,
          70,
          70,
          70,
          69,
          69,
          69,
          69,
          69,
          69,
          68,
          68,
          68,
          67,
          67,
          67,
          66,
          66,
          66,
          66,
          66,
          66,
          66,
          66,
          65,
          65,
          64,
          64,
          64,
          64,
          63,
          63,
          63,
          62,
          60,
          60,
          59,
          59,
          58,
          55,
          49,
          49,
          49,
          48,
          40,
          33,
          90,
          76,
          76,
          77,
          86,
          86,
          84,
          83,
          83,
          83,
          82,
          81,
          81,
          82,
          80,
          80,
          80,
          80,
          80,
          80,
          80,
          79,
          78,
          78,
          78,
          79,
          78,
          77,
          77,
          77,
          77,
          77,
          77,
          76,
          76,
          76,
          75,
          74,
          74,
          74,
          76,
          74,
          73,
          73,
          73,
          73,
          73,
          73,
          72,
          72,
          72,
          72,
          71,
          71,
          71,
          71,
          71,
          71,
          71,
          71,
          71,
          70,
          70,
          70,
          70,
          70,
          70,
          70,
          70,
          69,
          69,
          69,
          69,
          69,
          69,
          69,
          69,
          69,
          69,
          69,
          69,
          68,
          68,
          68,
          68,
          67,
          67,
          67,
          67,
          66,
          66,
          66,
          66,
          66,
          66,
          65,
          65,
          65,
          65,
          65,
          81,
          58,
          82,
          91,
          91,
          90,
          88,
          89,
          85,
          75,
          89,
          84,
          84,
          83,
          83,
          83,
          89,
          83,
          83,
          82,
          83,
          82,
          82,
          81,
          81,
          80,
          81,
          80,
          80,
          80,
          80,
          80,
          80,
          80,
          79,
          79,
          78,
          78,
          77,
          77,
          77,
          77,
          77,
          76,
          76,
          76,
          76,
          75,
          75,
          75,
          74,
          73,
          73,
          73,
          73,
          73,
          74,
          72,
          72,
          72,
          72,
          72,
          71,
          71,
          70,
          70,
          70,
          70,
          69,
          69,
          69,
          68,
          68,
          68,
          68,
          68,
          68,
          67,
          67,
          67,
          66,
          66,
          66,
          65,
          65,
          64,
          64,
          64,
          64,
          63,
          63,
          62,
          62,
          61,
          61,
          61,
          61,
          60,
          60,
          59,
          89,
          88,
          87,
          87,
          87,
          86,
          86,
          85,
          84,
          84,
          84,
          83,
          85,
          85,
          83,
          83,
          83,
          82,
          82,
          82,
          81,
          81,
          80,
          80,
          80,
          82,
          80,
          80,
          79,
          79,
          79,
          79,
          78,
          78,
          77,
          77,
          77,
          77,
          76,
          76,
          76,
          77,
          76,
          75,
          75,
          75,
          75,
          75,
          75,
          75,
          75,
          75,
          74,
          73,
          73,
          73,
          73,
          73,
          73,
          72,
          71,
          71,
          73,
          71,
          70,
          70,
          70,
          70,
          69,
          69,
          69,
          69,
          69,
          68,
          68,
          68,
          68,
          67,
          67,
          67,
          67,
          66,
          65,
          65,
          65,
          65,
          64,
          64,
          64,
          64,
          63,
          62,
          62,
          62,
          61,
          60,
          58,
          58,
          57,
          56,
          85,
          85,
          85,
          80,
          77,
          77,
          80,
          88,
          87,
          86,
          86,
          85,
          85,
          85,
          85,
          88,
          83,
          83,
          83,
          83,
          82,
          81,
          81,
          81,
          85,
          81,
          80,
          80,
          81,
          80,
          80,
          80,
          80,
          80,
          79,
          79,
          79,
          79,
          78,
          78,
          78,
          78,
          78,
          77,
          78,
          77,
          76,
          76,
          76,
          76,
          76,
          76,
          76,
          76,
          76,
          75,
          75,
          76,
          75,
          75,
          75,
          75,
          74,
          74,
          73,
          73,
          73,
          75,
          73,
          73,
          73,
          73,
          72,
          72,
          72,
          72,
          72,
          72,
          72,
          71,
          71,
          71,
          71,
          71,
          71,
          71,
          71,
          70,
          70,
          70,
          70,
          69,
          69,
          69,
          68,
          68,
          68,
          68,
          68,
          68,
          92,
          89,
          86,
          86,
          75,
          90,
          87,
          69,
          86,
          79,
          85,
          83,
          85,
          85,
          85,
          85,
          84,
          83,
          82,
          83,
          82,
          82,
          82,
          81,
          81,
          81,
          81,
          81,
          81,
          80,
          80,
          80,
          79,
          79,
          79,
          79,
          78,
          78,
          78,
          78,
          78,
          78,
          78,
          78,
          78,
          77,
          77,
          77,
          76,
          76,
          76,
          75,
          75,
          75,
          75,
          76,
          75,
          74,
          74,
          73,
          73,
          73,
          73,
          73,
          73,
          73,
          73,
          72,
          72,
          72,
          72,
          71,
          71,
          71,
          71,
          71,
          71,
          70,
          70,
          70,
          70,
          70,
          70,
          69,
          69,
          69,
          69,
          68,
          68,
          68,
          68,
          68,
          68,
          68,
          67,
          67,
          66,
          66,
          66,
          66,
          89,
          90,
          82,
          73,
          77,
          82,
          88,
          65,
          88,
          90,
          87,
          87,
          87,
          87,
          86,
          86,
          86,
          86,
          86,
          85,
          85,
          85,
          85,
          85,
          84,
          84,
          84,
          84,
          83,
          83,
          83,
          83,
          83,
          82,
          82,
          82,
          82,
          82,
          82,
          82,
          82,
          82,
          81,
          81,
          81,
          81,
          80,
          79,
          81,
          79,
          79,
          79,
          78,
          78,
          78,
          80,
          78,
          78,
          78,
          78,
          78,
          78,
          78,
          77,
          77,
          77,
          77,
          77,
          77,
          76,
          76,
          76,
          76,
          76,
          76,
          75,
          75,
          75,
          74,
          74,
          74,
          74,
          73,
          73,
          73,
          73,
          73,
          73,
          72,
          72,
          72,
          72,
          71,
          71,
          71,
          71,
          71,
          71,
          70,
          70,
          79,
          90,
          87,
          87,
          79,
          87,
          86,
          86,
          86,
          86,
          84,
          84,
          84,
          83,
          83,
          83,
          83,
          85,
          82,
          82,
          82,
          81,
          81,
          81,
          81,
          80,
          80,
          80,
          80,
          80,
          80,
          80,
          79,
          79,
          79,
          79,
          78,
          78,
          78,
          78,
          77,
          77,
          77,
          77,
          76,
          76,
          76,
          76,
          76,
          76,
          75,
          76,
          75,
          75,
          75,
          74,
          74,
          74,
          74,
          74,
          74,
          73,
          73,
          73,
          73,
          73,
          73,
          73,
          73,
          73,
          72,
          72,
          72,
          72,
          72,
          72,
          72,
          72,
          72,
          72,
          71,
          71,
          71,
          71,
          70,
          70,
          70,
          70,
          70,
          69,
          69,
          69,
          68,
          67,
          67,
          66,
          66,
          66,
          65,
          65,
          79,
          85,
          82,
          100,
          89,
          87,
          76,
          90,
          86,
          85,
          90,
          84,
          84,
          91,
          85,
          84,
          83,
          83,
          82,
          82,
          84,
          83,
          82,
          82,
          82,
          82,
          82,
          82,
          81,
          81,
          82,
          81,
          80,
          80,
          80,
          79,
          79,
          79,
          79,
          79,
          79,
          78,
          78,
          78,
          78,
          78,
          78,
          78,
          77,
          77,
          77,
          77,
          77,
          77,
          77,
          76,
          76,
          76,
          76,
          76,
          75,
          75,
          75,
          75,
          75,
          75,
          75,
          75,
          74,
          74,
          74,
          74,
          73,
          73,
          73,
          72,
          72,
          72,
          72,
          72,
          71,
          71,
          71,
          71,
          71,
          70,
          70,
          70,
          70,
          70,
          69,
          69,
          68,
          68,
          67,
          67,
          67,
          67,
          66,
          66
         ],
         "xaxis": "x",
         "yaxis": "y"
        },
        {
         "alignmentgroup": "True",
         "hovertemplate": "decade=1<br>track_popularity=%{x}<extra></extra>",
         "legendgroup": "1",
         "marker": {
          "color": "#EF553B"
         },
         "name": "1",
         "notched": true,
         "offsetgroup": "1",
         "showlegend": false,
         "type": "box",
         "x": [
          86,
          85,
          85,
          80,
          84,
          70,
          79,
          84,
          77,
          83,
          83,
          83,
          82,
          82,
          80,
          80,
          79,
          79,
          79,
          78,
          77,
          76,
          76,
          75,
          76,
          75,
          74,
          78,
          74,
          74,
          74,
          73,
          73,
          73,
          72,
          72,
          72,
          72,
          72,
          72,
          71,
          71,
          71,
          70,
          70,
          70,
          70,
          69,
          69,
          69,
          69,
          69,
          69,
          68,
          68,
          68,
          67,
          67,
          67,
          67,
          67,
          67,
          66,
          66,
          66,
          66,
          65,
          66,
          65,
          65,
          65,
          64,
          64,
          64,
          64,
          63,
          63,
          63,
          62,
          62,
          61,
          61,
          61,
          60,
          59,
          58,
          57,
          56,
          56,
          55,
          54,
          53,
          53,
          51,
          49,
          48,
          48,
          46,
          46,
          44,
          82,
          74,
          71,
          73,
          80,
          89,
          86,
          85,
          85,
          83,
          83,
          83,
          83,
          82,
          82,
          81,
          81,
          81,
          81,
          80,
          79,
          79,
          81,
          79,
          78,
          78,
          78,
          78,
          77,
          76,
          76,
          76,
          76,
          76,
          75,
          75,
          75,
          75,
          74,
          74,
          74,
          74,
          74,
          74,
          74,
          73,
          73,
          72,
          72,
          72,
          72,
          72,
          71,
          71,
          71,
          70,
          70,
          70,
          69,
          69,
          69,
          69,
          69,
          69,
          68,
          68,
          68,
          67,
          67,
          67,
          66,
          66,
          66,
          66,
          66,
          66,
          66,
          66,
          65,
          65,
          64,
          64,
          64,
          64,
          63,
          63,
          63,
          62,
          60,
          60,
          59,
          59,
          58,
          55,
          49,
          49,
          49,
          48,
          40,
          33,
          90,
          76,
          76,
          77,
          86,
          86,
          84,
          83,
          83,
          83,
          82,
          81,
          81,
          82,
          80,
          80,
          80,
          80,
          80,
          80,
          80,
          79,
          78,
          78,
          78,
          79,
          78,
          77,
          77,
          77,
          77,
          77,
          77,
          76,
          76,
          76,
          75,
          74,
          74,
          74,
          76,
          74,
          73,
          73,
          73,
          73,
          73,
          73,
          72,
          72,
          72,
          72,
          71,
          71,
          71,
          71,
          71,
          71,
          71,
          71,
          71,
          70,
          70,
          70,
          70,
          70,
          70,
          70,
          70,
          69,
          69,
          69,
          69,
          69,
          69,
          69,
          69,
          69,
          69,
          69,
          69,
          68,
          68,
          68,
          68,
          67,
          67,
          67,
          67,
          66,
          66,
          66,
          66,
          66,
          66,
          65,
          65,
          65,
          65,
          65,
          81,
          58,
          82,
          91,
          91,
          90,
          88,
          89,
          85,
          75,
          89,
          84,
          84,
          83,
          83,
          83,
          89,
          83,
          83,
          82,
          83,
          82,
          82,
          81,
          81,
          80,
          81,
          80,
          80,
          80,
          80,
          80,
          80,
          80,
          79,
          79,
          78,
          78,
          77,
          77,
          77,
          77,
          77,
          76,
          76,
          76,
          76,
          75,
          75,
          75,
          74,
          73,
          73,
          73,
          73,
          73,
          74,
          72,
          72,
          72,
          72,
          72,
          71,
          71,
          70,
          70,
          70,
          70,
          69,
          69,
          69,
          68,
          68,
          68,
          68,
          68,
          68,
          67,
          67,
          67,
          66,
          66,
          66,
          65,
          65,
          64,
          64,
          64,
          64,
          63,
          63,
          62,
          62,
          61,
          61,
          61,
          61,
          60,
          60,
          59,
          89,
          88,
          87,
          87,
          87,
          86,
          86,
          85,
          84,
          84,
          84,
          83,
          85,
          85,
          83,
          83,
          83,
          82,
          82,
          82,
          81,
          81,
          80,
          80,
          80,
          82,
          80,
          80,
          79,
          79,
          79,
          79,
          78,
          78,
          77,
          77,
          77,
          77,
          76,
          76,
          76,
          77,
          76,
          75,
          75,
          75,
          75,
          75,
          75,
          75,
          75,
          75,
          74,
          73,
          73,
          73,
          73,
          73,
          73,
          72,
          71,
          71,
          73,
          71,
          70,
          70,
          70,
          70,
          69,
          69,
          69,
          69,
          69,
          68,
          68,
          68,
          68,
          67,
          67,
          67,
          67,
          66,
          65,
          65,
          65,
          65,
          64,
          64,
          64,
          64,
          63,
          62,
          62,
          62,
          61,
          60,
          58,
          58,
          57,
          56,
          85,
          85,
          85,
          80,
          77,
          77,
          80,
          88,
          87,
          86,
          86,
          85,
          85,
          85,
          85,
          88,
          83,
          83,
          83,
          83,
          82,
          81,
          81,
          81,
          85,
          81,
          80,
          80,
          81,
          80,
          80,
          80,
          80,
          80,
          79,
          79,
          79,
          79,
          78,
          78,
          78,
          78,
          78,
          77,
          78,
          77,
          76,
          76,
          76,
          76,
          76,
          76,
          76,
          76,
          76,
          75,
          75,
          76,
          75,
          75,
          75,
          75,
          74,
          74,
          73,
          73,
          73,
          75,
          73,
          73,
          73,
          73,
          72,
          72,
          72,
          72,
          72,
          72,
          72,
          71,
          71,
          71,
          71,
          71,
          71,
          71,
          71,
          70,
          70,
          70,
          70,
          69,
          69,
          69,
          68,
          68,
          68,
          68,
          68,
          68,
          92,
          89,
          86,
          86,
          75,
          90,
          87,
          69,
          86,
          79,
          85,
          83,
          85,
          85,
          85,
          85,
          84,
          83,
          82,
          83,
          82,
          82,
          82,
          81,
          81,
          81,
          81,
          81,
          81,
          80,
          80,
          80,
          79,
          79,
          79,
          79,
          78,
          78,
          78,
          78,
          78,
          78,
          78,
          78,
          78,
          77,
          77,
          77,
          76,
          76,
          76,
          75,
          75,
          75,
          75,
          76,
          75,
          74,
          74,
          73,
          73,
          73,
          73,
          73,
          73,
          73,
          73,
          72,
          72,
          72,
          72,
          71,
          71,
          71,
          71,
          71,
          71,
          70,
          70,
          70,
          70,
          70,
          70,
          69,
          69,
          69,
          69,
          68,
          68,
          68,
          68,
          68,
          68,
          68,
          67,
          67,
          66,
          66,
          66,
          66,
          89,
          90,
          82,
          73,
          77,
          82,
          88,
          65,
          88,
          90,
          87,
          87,
          87,
          87,
          86,
          86,
          86,
          86,
          86,
          85,
          85,
          85,
          85,
          85,
          84,
          84,
          84,
          84,
          83,
          83,
          83,
          83,
          83,
          82,
          82,
          82,
          82,
          82,
          82,
          82,
          82,
          82,
          81,
          81,
          81,
          81,
          80,
          79,
          81,
          79,
          79,
          79,
          78,
          78,
          78,
          80,
          78,
          78,
          78,
          78,
          78,
          78,
          78,
          77,
          77,
          77,
          77,
          77,
          77,
          76,
          76,
          76,
          76,
          76,
          76,
          75,
          75,
          75,
          74,
          74,
          74,
          74,
          73,
          73,
          73,
          73,
          73,
          73,
          72,
          72,
          72,
          72,
          71,
          71,
          71,
          71,
          71,
          71,
          70,
          70,
          79,
          90,
          87,
          87,
          79,
          87,
          86,
          86,
          86,
          86,
          84,
          84,
          84,
          83,
          83,
          83,
          83,
          85,
          82,
          82,
          82,
          81,
          81,
          81,
          81,
          80,
          80,
          80,
          80,
          80,
          80,
          80,
          79,
          79,
          79,
          79,
          78,
          78,
          78,
          78,
          77,
          77,
          77,
          77,
          76,
          76,
          76,
          76,
          76,
          76,
          75,
          76,
          75,
          75,
          75,
          74,
          74,
          74,
          74,
          74,
          74,
          73,
          73,
          73,
          73,
          73,
          73,
          73,
          73,
          73,
          72,
          72,
          72,
          72,
          72,
          72,
          72,
          72,
          72,
          72,
          71,
          71,
          71,
          71,
          70,
          70,
          70,
          70,
          70,
          69,
          69,
          69,
          68,
          67,
          67,
          66,
          66,
          66,
          65,
          65,
          79,
          85,
          82,
          100,
          89,
          87,
          76,
          90,
          86,
          85,
          90,
          84,
          84,
          91,
          85,
          84,
          83,
          83,
          82,
          82,
          84,
          83,
          82,
          82,
          82,
          82,
          82,
          82,
          81,
          81,
          82,
          81,
          80,
          80,
          80,
          79,
          79,
          79,
          79,
          79,
          79,
          78,
          78,
          78,
          78,
          78,
          78,
          78,
          77,
          77,
          77,
          77,
          77,
          77,
          77,
          76,
          76,
          76,
          76,
          76,
          75,
          75,
          75,
          75,
          75,
          75,
          75,
          75,
          74,
          74,
          74,
          74,
          73,
          73,
          73,
          72,
          72,
          72,
          72,
          72,
          71,
          71,
          71,
          71,
          71,
          70,
          70,
          70,
          70,
          70,
          69,
          69,
          68,
          68,
          67,
          67,
          67,
          67,
          66,
          66
         ],
         "xaxis": "x2",
         "yaxis": "y2"
        },
        {
         "alignmentgroup": "True",
         "bingroup": "x",
         "hovertemplate": "decade=2<br>track_popularity=%{x}<br>count=%{y}<extra></extra>",
         "legendgroup": "2",
         "marker": {
          "color": "#00cc96",
          "opacity": 0.5
         },
         "name": "2",
         "nbinsx": 50,
         "offsetgroup": "2",
         "orientation": "v",
         "showlegend": true,
         "type": "histogram",
         "x": [
          19,
          53,
          0,
          90,
          76,
          83,
          74,
          73,
          80,
          82,
          78,
          2,
          93,
          82,
          83,
          78,
          74,
          79,
          82,
          79,
          87,
          86,
          80,
          0,
          6,
          80,
          59,
          77,
          86,
          80,
          71,
          77,
          76,
          53,
          84,
          84,
          81,
          63,
          59,
          74,
          84,
          67,
          82,
          78,
          65,
          73,
          76,
          4,
          68,
          87,
          74,
          0,
          3,
          68,
          79,
          89,
          86,
          73,
          64,
          30,
          75,
          63,
          80,
          75,
          77,
          74,
          78,
          81,
          79,
          80,
          0,
          0,
          69,
          78,
          76,
          90,
          64,
          72,
          77,
          81,
          80,
          48,
          69,
          3,
          79,
          70,
          87,
          67,
          85,
          77,
          72,
          73,
          4,
          75,
          75,
          32,
          78,
          77,
          74,
          73,
          28,
          76,
          85,
          83,
          84,
          12,
          17,
          81,
          18,
          86,
          79,
          79,
          24,
          82,
          84,
          87,
          88,
          86,
          87,
          77,
          81,
          9,
          75,
          79,
          80,
          85,
          83,
          91,
          71,
          81,
          80,
          63,
          83,
          84,
          83,
          84,
          88,
          82,
          82,
          76,
          75,
          72,
          80,
          72,
          60,
          0,
          76,
          72,
          66,
          81,
          81,
          78,
          73,
          83,
          82,
          73,
          85,
          73,
          74,
          74,
          75,
          4,
          92,
          29,
          75,
          65,
          74,
          90,
          1,
          61,
          0,
          6,
          81,
          89,
          71,
          74,
          65,
          74,
          72,
          66,
          60,
          80,
          1,
          3,
          76,
          2,
          84,
          84,
          68,
          6,
          65,
          86,
          84,
          62,
          68,
          77,
          78,
          77,
          71,
          78,
          90,
          88,
          93,
          87,
          28,
          85,
          87,
          24,
          40,
          84,
          87,
          83,
          87,
          88,
          90,
          78,
          80,
          82,
          91,
          82,
          72,
          89,
          82,
          86,
          76,
          73,
          84,
          92,
          81,
          78,
          86,
          81,
          75,
          87,
          87,
          87,
          87,
          81,
          83,
          77,
          78,
          77,
          72,
          87,
          81,
          83,
          86,
          76,
          78,
          74,
          82,
          73,
          89,
          28,
          80,
          81,
          71,
          67,
          78,
          83,
          12,
          77,
          65,
          4,
          69,
          86,
          68,
          83,
          3,
          87,
          73,
          80,
          79,
          76,
          81,
          82,
          80,
          62,
          80,
          76,
          48,
          74,
          30,
          74,
          89,
          60,
          93,
          47,
          79,
          92,
          3,
          88,
          84,
          86,
          86,
          79,
          69,
          86,
          77,
          77
         ],
         "xaxis": "x",
         "yaxis": "y"
        },
        {
         "alignmentgroup": "True",
         "hovertemplate": "decade=2<br>track_popularity=%{x}<extra></extra>",
         "legendgroup": "2",
         "marker": {
          "color": "#00cc96"
         },
         "name": "2",
         "notched": true,
         "offsetgroup": "2",
         "showlegend": false,
         "type": "box",
         "x": [
          19,
          53,
          0,
          90,
          76,
          83,
          74,
          73,
          80,
          82,
          78,
          2,
          93,
          82,
          83,
          78,
          74,
          79,
          82,
          79,
          87,
          86,
          80,
          0,
          6,
          80,
          59,
          77,
          86,
          80,
          71,
          77,
          76,
          53,
          84,
          84,
          81,
          63,
          59,
          74,
          84,
          67,
          82,
          78,
          65,
          73,
          76,
          4,
          68,
          87,
          74,
          0,
          3,
          68,
          79,
          89,
          86,
          73,
          64,
          30,
          75,
          63,
          80,
          75,
          77,
          74,
          78,
          81,
          79,
          80,
          0,
          0,
          69,
          78,
          76,
          90,
          64,
          72,
          77,
          81,
          80,
          48,
          69,
          3,
          79,
          70,
          87,
          67,
          85,
          77,
          72,
          73,
          4,
          75,
          75,
          32,
          78,
          77,
          74,
          73,
          28,
          76,
          85,
          83,
          84,
          12,
          17,
          81,
          18,
          86,
          79,
          79,
          24,
          82,
          84,
          87,
          88,
          86,
          87,
          77,
          81,
          9,
          75,
          79,
          80,
          85,
          83,
          91,
          71,
          81,
          80,
          63,
          83,
          84,
          83,
          84,
          88,
          82,
          82,
          76,
          75,
          72,
          80,
          72,
          60,
          0,
          76,
          72,
          66,
          81,
          81,
          78,
          73,
          83,
          82,
          73,
          85,
          73,
          74,
          74,
          75,
          4,
          92,
          29,
          75,
          65,
          74,
          90,
          1,
          61,
          0,
          6,
          81,
          89,
          71,
          74,
          65,
          74,
          72,
          66,
          60,
          80,
          1,
          3,
          76,
          2,
          84,
          84,
          68,
          6,
          65,
          86,
          84,
          62,
          68,
          77,
          78,
          77,
          71,
          78,
          90,
          88,
          93,
          87,
          28,
          85,
          87,
          24,
          40,
          84,
          87,
          83,
          87,
          88,
          90,
          78,
          80,
          82,
          91,
          82,
          72,
          89,
          82,
          86,
          76,
          73,
          84,
          92,
          81,
          78,
          86,
          81,
          75,
          87,
          87,
          87,
          87,
          81,
          83,
          77,
          78,
          77,
          72,
          87,
          81,
          83,
          86,
          76,
          78,
          74,
          82,
          73,
          89,
          28,
          80,
          81,
          71,
          67,
          78,
          83,
          12,
          77,
          65,
          4,
          69,
          86,
          68,
          83,
          3,
          87,
          73,
          80,
          79,
          76,
          81,
          82,
          80,
          62,
          80,
          76,
          48,
          74,
          30,
          74,
          89,
          60,
          93,
          47,
          79,
          92,
          3,
          88,
          84,
          86,
          86,
          79,
          69,
          86,
          77,
          77
         ],
         "xaxis": "x2",
         "yaxis": "y2"
        }
       ],
       "layout": {
        "barmode": "overlay",
        "legend": {
         "title": {
          "text": "decade"
         },
         "tracegroupgap": 0
        },
        "template": {
         "data": {
          "bar": [
           {
            "error_x": {
             "color": "#2a3f5f"
            },
            "error_y": {
             "color": "#2a3f5f"
            },
            "marker": {
             "line": {
              "color": "#E5ECF6",
              "width": 0.5
             }
            },
            "type": "bar"
           }
          ],
          "barpolar": [
           {
            "marker": {
             "line": {
              "color": "#E5ECF6",
              "width": 0.5
             }
            },
            "type": "barpolar"
           }
          ],
          "carpet": [
           {
            "aaxis": {
             "endlinecolor": "#2a3f5f",
             "gridcolor": "white",
             "linecolor": "white",
             "minorgridcolor": "white",
             "startlinecolor": "#2a3f5f"
            },
            "baxis": {
             "endlinecolor": "#2a3f5f",
             "gridcolor": "white",
             "linecolor": "white",
             "minorgridcolor": "white",
             "startlinecolor": "#2a3f5f"
            },
            "type": "carpet"
           }
          ],
          "choropleth": [
           {
            "colorbar": {
             "outlinewidth": 0,
             "ticks": ""
            },
            "type": "choropleth"
           }
          ],
          "contour": [
           {
            "colorbar": {
             "outlinewidth": 0,
             "ticks": ""
            },
            "colorscale": [
             [
              0,
              "#0d0887"
             ],
             [
              0.1111111111111111,
              "#46039f"
             ],
             [
              0.2222222222222222,
              "#7201a8"
             ],
             [
              0.3333333333333333,
              "#9c179e"
             ],
             [
              0.4444444444444444,
              "#bd3786"
             ],
             [
              0.5555555555555556,
              "#d8576b"
             ],
             [
              0.6666666666666666,
              "#ed7953"
             ],
             [
              0.7777777777777778,
              "#fb9f3a"
             ],
             [
              0.8888888888888888,
              "#fdca26"
             ],
             [
              1,
              "#f0f921"
             ]
            ],
            "type": "contour"
           }
          ],
          "contourcarpet": [
           {
            "colorbar": {
             "outlinewidth": 0,
             "ticks": ""
            },
            "type": "contourcarpet"
           }
          ],
          "heatmap": [
           {
            "colorbar": {
             "outlinewidth": 0,
             "ticks": ""
            },
            "colorscale": [
             [
              0,
              "#0d0887"
             ],
             [
              0.1111111111111111,
              "#46039f"
             ],
             [
              0.2222222222222222,
              "#7201a8"
             ],
             [
              0.3333333333333333,
              "#9c179e"
             ],
             [
              0.4444444444444444,
              "#bd3786"
             ],
             [
              0.5555555555555556,
              "#d8576b"
             ],
             [
              0.6666666666666666,
              "#ed7953"
             ],
             [
              0.7777777777777778,
              "#fb9f3a"
             ],
             [
              0.8888888888888888,
              "#fdca26"
             ],
             [
              1,
              "#f0f921"
             ]
            ],
            "type": "heatmap"
           }
          ],
          "heatmapgl": [
           {
            "colorbar": {
             "outlinewidth": 0,
             "ticks": ""
            },
            "colorscale": [
             [
              0,
              "#0d0887"
             ],
             [
              0.1111111111111111,
              "#46039f"
             ],
             [
              0.2222222222222222,
              "#7201a8"
             ],
             [
              0.3333333333333333,
              "#9c179e"
             ],
             [
              0.4444444444444444,
              "#bd3786"
             ],
             [
              0.5555555555555556,
              "#d8576b"
             ],
             [
              0.6666666666666666,
              "#ed7953"
             ],
             [
              0.7777777777777778,
              "#fb9f3a"
             ],
             [
              0.8888888888888888,
              "#fdca26"
             ],
             [
              1,
              "#f0f921"
             ]
            ],
            "type": "heatmapgl"
           }
          ],
          "histogram": [
           {
            "marker": {
             "colorbar": {
              "outlinewidth": 0,
              "ticks": ""
             }
            },
            "type": "histogram"
           }
          ],
          "histogram2d": [
           {
            "colorbar": {
             "outlinewidth": 0,
             "ticks": ""
            },
            "colorscale": [
             [
              0,
              "#0d0887"
             ],
             [
              0.1111111111111111,
              "#46039f"
             ],
             [
              0.2222222222222222,
              "#7201a8"
             ],
             [
              0.3333333333333333,
              "#9c179e"
             ],
             [
              0.4444444444444444,
              "#bd3786"
             ],
             [
              0.5555555555555556,
              "#d8576b"
             ],
             [
              0.6666666666666666,
              "#ed7953"
             ],
             [
              0.7777777777777778,
              "#fb9f3a"
             ],
             [
              0.8888888888888888,
              "#fdca26"
             ],
             [
              1,
              "#f0f921"
             ]
            ],
            "type": "histogram2d"
           }
          ],
          "histogram2dcontour": [
           {
            "colorbar": {
             "outlinewidth": 0,
             "ticks": ""
            },
            "colorscale": [
             [
              0,
              "#0d0887"
             ],
             [
              0.1111111111111111,
              "#46039f"
             ],
             [
              0.2222222222222222,
              "#7201a8"
             ],
             [
              0.3333333333333333,
              "#9c179e"
             ],
             [
              0.4444444444444444,
              "#bd3786"
             ],
             [
              0.5555555555555556,
              "#d8576b"
             ],
             [
              0.6666666666666666,
              "#ed7953"
             ],
             [
              0.7777777777777778,
              "#fb9f3a"
             ],
             [
              0.8888888888888888,
              "#fdca26"
             ],
             [
              1,
              "#f0f921"
             ]
            ],
            "type": "histogram2dcontour"
           }
          ],
          "mesh3d": [
           {
            "colorbar": {
             "outlinewidth": 0,
             "ticks": ""
            },
            "type": "mesh3d"
           }
          ],
          "parcoords": [
           {
            "line": {
             "colorbar": {
              "outlinewidth": 0,
              "ticks": ""
             }
            },
            "type": "parcoords"
           }
          ],
          "pie": [
           {
            "automargin": true,
            "type": "pie"
           }
          ],
          "scatter": [
           {
            "marker": {
             "colorbar": {
              "outlinewidth": 0,
              "ticks": ""
             }
            },
            "type": "scatter"
           }
          ],
          "scatter3d": [
           {
            "line": {
             "colorbar": {
              "outlinewidth": 0,
              "ticks": ""
             }
            },
            "marker": {
             "colorbar": {
              "outlinewidth": 0,
              "ticks": ""
             }
            },
            "type": "scatter3d"
           }
          ],
          "scattercarpet": [
           {
            "marker": {
             "colorbar": {
              "outlinewidth": 0,
              "ticks": ""
             }
            },
            "type": "scattercarpet"
           }
          ],
          "scattergeo": [
           {
            "marker": {
             "colorbar": {
              "outlinewidth": 0,
              "ticks": ""
             }
            },
            "type": "scattergeo"
           }
          ],
          "scattergl": [
           {
            "marker": {
             "colorbar": {
              "outlinewidth": 0,
              "ticks": ""
             }
            },
            "type": "scattergl"
           }
          ],
          "scattermapbox": [
           {
            "marker": {
             "colorbar": {
              "outlinewidth": 0,
              "ticks": ""
             }
            },
            "type": "scattermapbox"
           }
          ],
          "scatterpolar": [
           {
            "marker": {
             "colorbar": {
              "outlinewidth": 0,
              "ticks": ""
             }
            },
            "type": "scatterpolar"
           }
          ],
          "scatterpolargl": [
           {
            "marker": {
             "colorbar": {
              "outlinewidth": 0,
              "ticks": ""
             }
            },
            "type": "scatterpolargl"
           }
          ],
          "scatterternary": [
           {
            "marker": {
             "colorbar": {
              "outlinewidth": 0,
              "ticks": ""
             }
            },
            "type": "scatterternary"
           }
          ],
          "surface": [
           {
            "colorbar": {
             "outlinewidth": 0,
             "ticks": ""
            },
            "colorscale": [
             [
              0,
              "#0d0887"
             ],
             [
              0.1111111111111111,
              "#46039f"
             ],
             [
              0.2222222222222222,
              "#7201a8"
             ],
             [
              0.3333333333333333,
              "#9c179e"
             ],
             [
              0.4444444444444444,
              "#bd3786"
             ],
             [
              0.5555555555555556,
              "#d8576b"
             ],
             [
              0.6666666666666666,
              "#ed7953"
             ],
             [
              0.7777777777777778,
              "#fb9f3a"
             ],
             [
              0.8888888888888888,
              "#fdca26"
             ],
             [
              1,
              "#f0f921"
             ]
            ],
            "type": "surface"
           }
          ],
          "table": [
           {
            "cells": {
             "fill": {
              "color": "#EBF0F8"
             },
             "line": {
              "color": "white"
             }
            },
            "header": {
             "fill": {
              "color": "#C8D4E3"
             },
             "line": {
              "color": "white"
             }
            },
            "type": "table"
           }
          ]
         },
         "layout": {
          "annotationdefaults": {
           "arrowcolor": "#2a3f5f",
           "arrowhead": 0,
           "arrowwidth": 1
          },
          "coloraxis": {
           "colorbar": {
            "outlinewidth": 0,
            "ticks": ""
           }
          },
          "colorscale": {
           "diverging": [
            [
             0,
             "#8e0152"
            ],
            [
             0.1,
             "#c51b7d"
            ],
            [
             0.2,
             "#de77ae"
            ],
            [
             0.3,
             "#f1b6da"
            ],
            [
             0.4,
             "#fde0ef"
            ],
            [
             0.5,
             "#f7f7f7"
            ],
            [
             0.6,
             "#e6f5d0"
            ],
            [
             0.7,
             "#b8e186"
            ],
            [
             0.8,
             "#7fbc41"
            ],
            [
             0.9,
             "#4d9221"
            ],
            [
             1,
             "#276419"
            ]
           ],
           "sequential": [
            [
             0,
             "#0d0887"
            ],
            [
             0.1111111111111111,
             "#46039f"
            ],
            [
             0.2222222222222222,
             "#7201a8"
            ],
            [
             0.3333333333333333,
             "#9c179e"
            ],
            [
             0.4444444444444444,
             "#bd3786"
            ],
            [
             0.5555555555555556,
             "#d8576b"
            ],
            [
             0.6666666666666666,
             "#ed7953"
            ],
            [
             0.7777777777777778,
             "#fb9f3a"
            ],
            [
             0.8888888888888888,
             "#fdca26"
            ],
            [
             1,
             "#f0f921"
            ]
           ],
           "sequentialminus": [
            [
             0,
             "#0d0887"
            ],
            [
             0.1111111111111111,
             "#46039f"
            ],
            [
             0.2222222222222222,
             "#7201a8"
            ],
            [
             0.3333333333333333,
             "#9c179e"
            ],
            [
             0.4444444444444444,
             "#bd3786"
            ],
            [
             0.5555555555555556,
             "#d8576b"
            ],
            [
             0.6666666666666666,
             "#ed7953"
            ],
            [
             0.7777777777777778,
             "#fb9f3a"
            ],
            [
             0.8888888888888888,
             "#fdca26"
            ],
            [
             1,
             "#f0f921"
            ]
           ]
          },
          "colorway": [
           "#636efa",
           "#EF553B",
           "#00cc96",
           "#ab63fa",
           "#FFA15A",
           "#19d3f3",
           "#FF6692",
           "#B6E880",
           "#FF97FF",
           "#FECB52"
          ],
          "font": {
           "color": "#2a3f5f"
          },
          "geo": {
           "bgcolor": "white",
           "lakecolor": "white",
           "landcolor": "#E5ECF6",
           "showlakes": true,
           "showland": true,
           "subunitcolor": "white"
          },
          "hoverlabel": {
           "align": "left"
          },
          "hovermode": "closest",
          "mapbox": {
           "style": "light"
          },
          "paper_bgcolor": "white",
          "plot_bgcolor": "#E5ECF6",
          "polar": {
           "angularaxis": {
            "gridcolor": "white",
            "linecolor": "white",
            "ticks": ""
           },
           "bgcolor": "#E5ECF6",
           "radialaxis": {
            "gridcolor": "white",
            "linecolor": "white",
            "ticks": ""
           }
          },
          "scene": {
           "xaxis": {
            "backgroundcolor": "#E5ECF6",
            "gridcolor": "white",
            "gridwidth": 2,
            "linecolor": "white",
            "showbackground": true,
            "ticks": "",
            "zerolinecolor": "white"
           },
           "yaxis": {
            "backgroundcolor": "#E5ECF6",
            "gridcolor": "white",
            "gridwidth": 2,
            "linecolor": "white",
            "showbackground": true,
            "ticks": "",
            "zerolinecolor": "white"
           },
           "zaxis": {
            "backgroundcolor": "#E5ECF6",
            "gridcolor": "white",
            "gridwidth": 2,
            "linecolor": "white",
            "showbackground": true,
            "ticks": "",
            "zerolinecolor": "white"
           }
          },
          "shapedefaults": {
           "line": {
            "color": "#2a3f5f"
           }
          },
          "ternary": {
           "aaxis": {
            "gridcolor": "white",
            "linecolor": "white",
            "ticks": ""
           },
           "baxis": {
            "gridcolor": "white",
            "linecolor": "white",
            "ticks": ""
           },
           "bgcolor": "#E5ECF6",
           "caxis": {
            "gridcolor": "white",
            "linecolor": "white",
            "ticks": ""
           }
          },
          "title": {
           "x": 0.05
          },
          "xaxis": {
           "automargin": true,
           "gridcolor": "white",
           "linecolor": "white",
           "ticks": "",
           "title": {
            "standoff": 15
           },
           "zerolinecolor": "white",
           "zerolinewidth": 2
          },
          "yaxis": {
           "automargin": true,
           "gridcolor": "white",
           "linecolor": "white",
           "ticks": "",
           "title": {
            "standoff": 15
           },
           "zerolinecolor": "white",
           "zerolinewidth": 2
          }
         }
        },
        "title": {
         "text": "Tracks popularity distribution by decades"
        },
        "xaxis": {
         "anchor": "y",
         "domain": [
          0,
          1
         ],
         "title": {
          "text": "track_popularity"
         }
        },
        "xaxis2": {
         "anchor": "y2",
         "domain": [
          0,
          1
         ],
         "matches": "x",
         "showgrid": true,
         "showticklabels": false
        },
        "yaxis": {
         "anchor": "x",
         "domain": [
          0,
          0.7326
         ],
         "title": {
          "text": "count"
         }
        },
        "yaxis2": {
         "anchor": "x2",
         "domain": [
          0.7426,
          1
         ],
         "matches": "y2",
         "showgrid": false,
         "showline": false,
         "showticklabels": false,
         "ticks": ""
        }
       }
      },
      "text/html": [
       "<div>                            <div id=\"a076664c-e9db-4103-b930-2342ac002ccd\" class=\"plotly-graph-div\" style=\"height:525px; width:100%;\"></div>            <script type=\"text/javascript\">                require([\"plotly\"], function(Plotly) {                    window.PLOTLYENV=window.PLOTLYENV || {};                                    if (document.getElementById(\"a076664c-e9db-4103-b930-2342ac002ccd\")) {                    Plotly.newPlot(                        \"a076664c-e9db-4103-b930-2342ac002ccd\",                        [{\"alignmentgroup\": \"True\", \"bingroup\": \"x\", \"hovertemplate\": \"decade=0<br>track_popularity=%{x}<br>count=%{y}<extra></extra>\", \"legendgroup\": \"0\", \"marker\": {\"color\": \"#636efa\", \"opacity\": 0.5}, \"name\": \"0\", \"nbinsx\": 50, \"offsetgroup\": \"0\", \"orientation\": \"v\", \"showlegend\": true, \"type\": \"histogram\", \"x\": [91, 84, 69, 88, 74, 73, 88, 57, 80, 83, 82, 82, 79, 79, 77, 77, 76, 74, 74, 73, 73, 73, 73, 72, 72, 72, 72, 71, 71, 70, 70, 69, 69, 69, 68, 68, 68, 68, 68, 68, 68, 67, 67, 67, 67, 66, 66, 66, 66, 65, 65, 64, 63, 63, 63, 63, 63, 63, 62, 62, 61, 61, 60, 61, 60, 60, 60, 60, 59, 59, 59, 59, 59, 59, 59, 59, 58, 58, 58, 58, 58, 58, 58, 58, 58, 57, 57, 57, 57, 56, 56, 56, 55, 55, 55, 55, 53, 53, 52, 50, 81, 73, 84, 80, 70, 75, 81, 84, 81, 83, 83, 81, 80, 79, 79, 79, 79, 78, 77, 77, 77, 77, 76, 76, 75, 74, 76, 74, 73, 72, 72, 72, 71, 71, 71, 71, 71, 71, 71, 70, 70, 70, 70, 69, 69, 69, 69, 69, 69, 69, 68, 68, 67, 67, 67, 67, 66, 65, 64, 67, 64, 64, 64, 63, 63, 63, 62, 62, 63, 62, 61, 61, 61, 60, 60, 60, 60, 60, 59, 59, 59, 59, 59, 58, 58, 58, 58, 58, 58, 57, 57, 57, 57, 57, 57, 57, 57, 56, 56, 55, 80, 89, 81, 79, 78, 67, 65, 88, 86, 86, 84, 79, 79, 78, 76, 76, 78, 84, 75, 74, 74, 73, 76, 73, 73, 72, 70, 70, 70, 70, 69, 71, 69, 68, 67, 67, 67, 67, 67, 67, 67, 67, 66, 65, 65, 65, 65, 65, 65, 64, 64, 64, 64, 65, 64, 64, 64, 63, 63, 63, 63, 63, 63, 62, 62, 61, 61, 61, 61, 61, 60, 60, 60, 60, 59, 59, 59, 58, 57, 57, 57, 56, 56, 55, 55, 55, 55, 55, 55, 55, 54, 54, 53, 53, 53, 53, 52, 52, 52, 53, 77, 86, 85, 81, 79, 82, 84, 82, 81, 80, 79, 78, 78, 78, 78, 77, 76, 76, 77, 76, 75, 75, 74, 74, 74, 73, 72, 72, 72, 72, 72, 71, 71, 71, 71, 70, 70, 69, 69, 69, 68, 68, 68, 68, 66, 66, 66, 65, 65, 65, 65, 65, 63, 63, 63, 63, 62, 62, 62, 62, 62, 61, 61, 61, 61, 60, 60, 59, 59, 59, 59, 59, 59, 58, 58, 58, 57, 57, 57, 56, 55, 55, 54, 54, 54, 54, 53, 56, 53, 53, 51, 51, 51, 49, 49, 48, 45, 34, 1, 0, 84, 82, 84, 84, 84, 87, 87, 87, 82, 82, 82, 80, 78, 78, 78, 78, 77, 77, 77, 76, 75, 74, 73, 73, 73, 73, 73, 72, 72, 72, 71, 71, 71, 71, 72, 70, 70, 70, 70, 70, 69, 69, 69, 69, 69, 68, 68, 68, 68, 68, 68, 68, 67, 67, 67, 66, 66, 65, 65, 65, 65, 64, 64, 64, 64, 63, 63, 63, 62, 61, 61, 61, 61, 61, 61, 61, 60, 60, 60, 60, 59, 59, 59, 58, 58, 58, 58, 58, 58, 57, 57, 57, 57, 56, 56, 56, 55, 54, 53, 51, 73, 76, 82, 81, 90, 78, 80, 70, 77, 85, 85, 83, 81, 81, 80, 80, 79, 79, 79, 78, 78, 78, 77, 77, 77, 77, 76, 76, 76, 76, 75, 74, 74, 74, 73, 73, 73, 73, 73, 72, 72, 72, 71, 71, 70, 70, 70, 70, 69, 69, 69, 68, 68, 68, 67, 67, 67, 67, 67, 67, 66, 66, 66, 65, 65, 65, 65, 64, 64, 64, 63, 63, 63, 63, 63, 62, 62, 62, 61, 61, 61, 61, 60, 60, 60, 60, 60, 60, 59, 59, 58, 58, 58, 58, 57, 57, 56, 56, 55, 55, 86, 83, 86, 81, 73, 83, 75, 82, 82, 82, 81, 83, 80, 80, 80, 80, 79, 79, 76, 77, 76, 76, 76, 76, 75, 75, 75, 75, 74, 74, 74, 73, 73, 73, 72, 72, 72, 72, 71, 71, 71, 71, 71, 70, 70, 70, 69, 68, 71, 68, 67, 67, 67, 67, 67, 67, 66, 66, 66, 65, 65, 65, 64, 64, 64, 64, 64, 64, 63, 63, 63, 63, 63, 63, 62, 62, 61, 61, 60, 60, 60, 59, 59, 59, 59, 59, 57, 56, 56, 54, 53, 53, 51, 51, 50, 49, 47, 43, 43, 43, 78, 86, 84, 68, 79, 81, 74, 75, 84, 83, 83, 83, 82, 82, 82, 82, 81, 82, 81, 81, 81, 80, 78, 78, 78, 78, 78, 78, 77, 77, 77, 77, 77, 76, 76, 76, 75, 75, 75, 73, 73, 73, 75, 73, 72, 72, 71, 71, 71, 72, 70, 70, 70, 72, 69, 68, 68, 68, 67, 67, 67, 67, 66, 65, 65, 64, 64, 63, 63, 63, 63, 63, 63, 62, 62, 61, 61, 60, 60, 60, 60, 59, 59, 59, 59, 59, 59, 58, 58, 57, 57, 55, 54, 52, 52, 52, 52, 51, 48, 47, 83, 72, 77, 75, 74, 79, 76, 68, 88, 88, 84, 84, 82, 80, 80, 79, 83, 79, 79, 79, 78, 80, 78, 78, 78, 77, 77, 77, 77, 77, 77, 76, 76, 75, 75, 74, 74, 74, 74, 74, 76, 74, 73, 73, 73, 73, 73, 72, 72, 71, 71, 73, 71, 71, 70, 70, 69, 69, 69, 68, 68, 68, 68, 68, 68, 68, 68, 68, 67, 68, 67, 67, 67, 66, 66, 66, 65, 65, 64, 64, 64, 64, 63, 63, 62, 63, 62, 62, 62, 62, 62, 61, 61, 61, 61, 60, 60, 60, 60, 59, 78, 79, 78, 69, 78, 81, 88, 84, 82, 82, 80, 80, 80, 80, 80, 80, 79, 79, 77, 77, 77, 77, 77, 76, 76, 76, 75, 74, 76, 74, 74, 74, 74, 73, 73, 73, 72, 72, 72, 72, 71, 71, 71, 71, 71, 71, 71, 71, 70, 70, 70, 70, 70, 70, 69, 69, 69, 69, 69, 68, 68, 68, 68, 68, 68, 68, 68, 68, 68, 67, 67, 67, 67, 67, 66, 66, 66, 66, 65, 65, 64, 63, 63, 64, 63, 62, 61, 61, 61, 60, 60, 60, 59, 58, 57, 57, 57, 55, 52, 52], \"xaxis\": \"x\", \"yaxis\": \"y\"}, {\"alignmentgroup\": \"True\", \"hovertemplate\": \"decade=0<br>track_popularity=%{x}<extra></extra>\", \"legendgroup\": \"0\", \"marker\": {\"color\": \"#636efa\"}, \"name\": \"0\", \"notched\": true, \"offsetgroup\": \"0\", \"showlegend\": false, \"type\": \"box\", \"x\": [91, 84, 69, 88, 74, 73, 88, 57, 80, 83, 82, 82, 79, 79, 77, 77, 76, 74, 74, 73, 73, 73, 73, 72, 72, 72, 72, 71, 71, 70, 70, 69, 69, 69, 68, 68, 68, 68, 68, 68, 68, 67, 67, 67, 67, 66, 66, 66, 66, 65, 65, 64, 63, 63, 63, 63, 63, 63, 62, 62, 61, 61, 60, 61, 60, 60, 60, 60, 59, 59, 59, 59, 59, 59, 59, 59, 58, 58, 58, 58, 58, 58, 58, 58, 58, 57, 57, 57, 57, 56, 56, 56, 55, 55, 55, 55, 53, 53, 52, 50, 81, 73, 84, 80, 70, 75, 81, 84, 81, 83, 83, 81, 80, 79, 79, 79, 79, 78, 77, 77, 77, 77, 76, 76, 75, 74, 76, 74, 73, 72, 72, 72, 71, 71, 71, 71, 71, 71, 71, 70, 70, 70, 70, 69, 69, 69, 69, 69, 69, 69, 68, 68, 67, 67, 67, 67, 66, 65, 64, 67, 64, 64, 64, 63, 63, 63, 62, 62, 63, 62, 61, 61, 61, 60, 60, 60, 60, 60, 59, 59, 59, 59, 59, 58, 58, 58, 58, 58, 58, 57, 57, 57, 57, 57, 57, 57, 57, 56, 56, 55, 80, 89, 81, 79, 78, 67, 65, 88, 86, 86, 84, 79, 79, 78, 76, 76, 78, 84, 75, 74, 74, 73, 76, 73, 73, 72, 70, 70, 70, 70, 69, 71, 69, 68, 67, 67, 67, 67, 67, 67, 67, 67, 66, 65, 65, 65, 65, 65, 65, 64, 64, 64, 64, 65, 64, 64, 64, 63, 63, 63, 63, 63, 63, 62, 62, 61, 61, 61, 61, 61, 60, 60, 60, 60, 59, 59, 59, 58, 57, 57, 57, 56, 56, 55, 55, 55, 55, 55, 55, 55, 54, 54, 53, 53, 53, 53, 52, 52, 52, 53, 77, 86, 85, 81, 79, 82, 84, 82, 81, 80, 79, 78, 78, 78, 78, 77, 76, 76, 77, 76, 75, 75, 74, 74, 74, 73, 72, 72, 72, 72, 72, 71, 71, 71, 71, 70, 70, 69, 69, 69, 68, 68, 68, 68, 66, 66, 66, 65, 65, 65, 65, 65, 63, 63, 63, 63, 62, 62, 62, 62, 62, 61, 61, 61, 61, 60, 60, 59, 59, 59, 59, 59, 59, 58, 58, 58, 57, 57, 57, 56, 55, 55, 54, 54, 54, 54, 53, 56, 53, 53, 51, 51, 51, 49, 49, 48, 45, 34, 1, 0, 84, 82, 84, 84, 84, 87, 87, 87, 82, 82, 82, 80, 78, 78, 78, 78, 77, 77, 77, 76, 75, 74, 73, 73, 73, 73, 73, 72, 72, 72, 71, 71, 71, 71, 72, 70, 70, 70, 70, 70, 69, 69, 69, 69, 69, 68, 68, 68, 68, 68, 68, 68, 67, 67, 67, 66, 66, 65, 65, 65, 65, 64, 64, 64, 64, 63, 63, 63, 62, 61, 61, 61, 61, 61, 61, 61, 60, 60, 60, 60, 59, 59, 59, 58, 58, 58, 58, 58, 58, 57, 57, 57, 57, 56, 56, 56, 55, 54, 53, 51, 73, 76, 82, 81, 90, 78, 80, 70, 77, 85, 85, 83, 81, 81, 80, 80, 79, 79, 79, 78, 78, 78, 77, 77, 77, 77, 76, 76, 76, 76, 75, 74, 74, 74, 73, 73, 73, 73, 73, 72, 72, 72, 71, 71, 70, 70, 70, 70, 69, 69, 69, 68, 68, 68, 67, 67, 67, 67, 67, 67, 66, 66, 66, 65, 65, 65, 65, 64, 64, 64, 63, 63, 63, 63, 63, 62, 62, 62, 61, 61, 61, 61, 60, 60, 60, 60, 60, 60, 59, 59, 58, 58, 58, 58, 57, 57, 56, 56, 55, 55, 86, 83, 86, 81, 73, 83, 75, 82, 82, 82, 81, 83, 80, 80, 80, 80, 79, 79, 76, 77, 76, 76, 76, 76, 75, 75, 75, 75, 74, 74, 74, 73, 73, 73, 72, 72, 72, 72, 71, 71, 71, 71, 71, 70, 70, 70, 69, 68, 71, 68, 67, 67, 67, 67, 67, 67, 66, 66, 66, 65, 65, 65, 64, 64, 64, 64, 64, 64, 63, 63, 63, 63, 63, 63, 62, 62, 61, 61, 60, 60, 60, 59, 59, 59, 59, 59, 57, 56, 56, 54, 53, 53, 51, 51, 50, 49, 47, 43, 43, 43, 78, 86, 84, 68, 79, 81, 74, 75, 84, 83, 83, 83, 82, 82, 82, 82, 81, 82, 81, 81, 81, 80, 78, 78, 78, 78, 78, 78, 77, 77, 77, 77, 77, 76, 76, 76, 75, 75, 75, 73, 73, 73, 75, 73, 72, 72, 71, 71, 71, 72, 70, 70, 70, 72, 69, 68, 68, 68, 67, 67, 67, 67, 66, 65, 65, 64, 64, 63, 63, 63, 63, 63, 63, 62, 62, 61, 61, 60, 60, 60, 60, 59, 59, 59, 59, 59, 59, 58, 58, 57, 57, 55, 54, 52, 52, 52, 52, 51, 48, 47, 83, 72, 77, 75, 74, 79, 76, 68, 88, 88, 84, 84, 82, 80, 80, 79, 83, 79, 79, 79, 78, 80, 78, 78, 78, 77, 77, 77, 77, 77, 77, 76, 76, 75, 75, 74, 74, 74, 74, 74, 76, 74, 73, 73, 73, 73, 73, 72, 72, 71, 71, 73, 71, 71, 70, 70, 69, 69, 69, 68, 68, 68, 68, 68, 68, 68, 68, 68, 67, 68, 67, 67, 67, 66, 66, 66, 65, 65, 64, 64, 64, 64, 63, 63, 62, 63, 62, 62, 62, 62, 62, 61, 61, 61, 61, 60, 60, 60, 60, 59, 78, 79, 78, 69, 78, 81, 88, 84, 82, 82, 80, 80, 80, 80, 80, 80, 79, 79, 77, 77, 77, 77, 77, 76, 76, 76, 75, 74, 76, 74, 74, 74, 74, 73, 73, 73, 72, 72, 72, 72, 71, 71, 71, 71, 71, 71, 71, 71, 70, 70, 70, 70, 70, 70, 69, 69, 69, 69, 69, 68, 68, 68, 68, 68, 68, 68, 68, 68, 68, 67, 67, 67, 67, 67, 66, 66, 66, 66, 65, 65, 64, 63, 63, 64, 63, 62, 61, 61, 61, 60, 60, 60, 59, 58, 57, 57, 57, 55, 52, 52], \"xaxis\": \"x2\", \"yaxis\": \"y2\"}, {\"alignmentgroup\": \"True\", \"bingroup\": \"x\", \"hovertemplate\": \"decade=1<br>track_popularity=%{x}<br>count=%{y}<extra></extra>\", \"legendgroup\": \"1\", \"marker\": {\"color\": \"#EF553B\", \"opacity\": 0.5}, \"name\": \"1\", \"nbinsx\": 50, \"offsetgroup\": \"1\", \"orientation\": \"v\", \"showlegend\": true, \"type\": \"histogram\", \"x\": [86, 85, 85, 80, 84, 70, 79, 84, 77, 83, 83, 83, 82, 82, 80, 80, 79, 79, 79, 78, 77, 76, 76, 75, 76, 75, 74, 78, 74, 74, 74, 73, 73, 73, 72, 72, 72, 72, 72, 72, 71, 71, 71, 70, 70, 70, 70, 69, 69, 69, 69, 69, 69, 68, 68, 68, 67, 67, 67, 67, 67, 67, 66, 66, 66, 66, 65, 66, 65, 65, 65, 64, 64, 64, 64, 63, 63, 63, 62, 62, 61, 61, 61, 60, 59, 58, 57, 56, 56, 55, 54, 53, 53, 51, 49, 48, 48, 46, 46, 44, 82, 74, 71, 73, 80, 89, 86, 85, 85, 83, 83, 83, 83, 82, 82, 81, 81, 81, 81, 80, 79, 79, 81, 79, 78, 78, 78, 78, 77, 76, 76, 76, 76, 76, 75, 75, 75, 75, 74, 74, 74, 74, 74, 74, 74, 73, 73, 72, 72, 72, 72, 72, 71, 71, 71, 70, 70, 70, 69, 69, 69, 69, 69, 69, 68, 68, 68, 67, 67, 67, 66, 66, 66, 66, 66, 66, 66, 66, 65, 65, 64, 64, 64, 64, 63, 63, 63, 62, 60, 60, 59, 59, 58, 55, 49, 49, 49, 48, 40, 33, 90, 76, 76, 77, 86, 86, 84, 83, 83, 83, 82, 81, 81, 82, 80, 80, 80, 80, 80, 80, 80, 79, 78, 78, 78, 79, 78, 77, 77, 77, 77, 77, 77, 76, 76, 76, 75, 74, 74, 74, 76, 74, 73, 73, 73, 73, 73, 73, 72, 72, 72, 72, 71, 71, 71, 71, 71, 71, 71, 71, 71, 70, 70, 70, 70, 70, 70, 70, 70, 69, 69, 69, 69, 69, 69, 69, 69, 69, 69, 69, 69, 68, 68, 68, 68, 67, 67, 67, 67, 66, 66, 66, 66, 66, 66, 65, 65, 65, 65, 65, 81, 58, 82, 91, 91, 90, 88, 89, 85, 75, 89, 84, 84, 83, 83, 83, 89, 83, 83, 82, 83, 82, 82, 81, 81, 80, 81, 80, 80, 80, 80, 80, 80, 80, 79, 79, 78, 78, 77, 77, 77, 77, 77, 76, 76, 76, 76, 75, 75, 75, 74, 73, 73, 73, 73, 73, 74, 72, 72, 72, 72, 72, 71, 71, 70, 70, 70, 70, 69, 69, 69, 68, 68, 68, 68, 68, 68, 67, 67, 67, 66, 66, 66, 65, 65, 64, 64, 64, 64, 63, 63, 62, 62, 61, 61, 61, 61, 60, 60, 59, 89, 88, 87, 87, 87, 86, 86, 85, 84, 84, 84, 83, 85, 85, 83, 83, 83, 82, 82, 82, 81, 81, 80, 80, 80, 82, 80, 80, 79, 79, 79, 79, 78, 78, 77, 77, 77, 77, 76, 76, 76, 77, 76, 75, 75, 75, 75, 75, 75, 75, 75, 75, 74, 73, 73, 73, 73, 73, 73, 72, 71, 71, 73, 71, 70, 70, 70, 70, 69, 69, 69, 69, 69, 68, 68, 68, 68, 67, 67, 67, 67, 66, 65, 65, 65, 65, 64, 64, 64, 64, 63, 62, 62, 62, 61, 60, 58, 58, 57, 56, 85, 85, 85, 80, 77, 77, 80, 88, 87, 86, 86, 85, 85, 85, 85, 88, 83, 83, 83, 83, 82, 81, 81, 81, 85, 81, 80, 80, 81, 80, 80, 80, 80, 80, 79, 79, 79, 79, 78, 78, 78, 78, 78, 77, 78, 77, 76, 76, 76, 76, 76, 76, 76, 76, 76, 75, 75, 76, 75, 75, 75, 75, 74, 74, 73, 73, 73, 75, 73, 73, 73, 73, 72, 72, 72, 72, 72, 72, 72, 71, 71, 71, 71, 71, 71, 71, 71, 70, 70, 70, 70, 69, 69, 69, 68, 68, 68, 68, 68, 68, 92, 89, 86, 86, 75, 90, 87, 69, 86, 79, 85, 83, 85, 85, 85, 85, 84, 83, 82, 83, 82, 82, 82, 81, 81, 81, 81, 81, 81, 80, 80, 80, 79, 79, 79, 79, 78, 78, 78, 78, 78, 78, 78, 78, 78, 77, 77, 77, 76, 76, 76, 75, 75, 75, 75, 76, 75, 74, 74, 73, 73, 73, 73, 73, 73, 73, 73, 72, 72, 72, 72, 71, 71, 71, 71, 71, 71, 70, 70, 70, 70, 70, 70, 69, 69, 69, 69, 68, 68, 68, 68, 68, 68, 68, 67, 67, 66, 66, 66, 66, 89, 90, 82, 73, 77, 82, 88, 65, 88, 90, 87, 87, 87, 87, 86, 86, 86, 86, 86, 85, 85, 85, 85, 85, 84, 84, 84, 84, 83, 83, 83, 83, 83, 82, 82, 82, 82, 82, 82, 82, 82, 82, 81, 81, 81, 81, 80, 79, 81, 79, 79, 79, 78, 78, 78, 80, 78, 78, 78, 78, 78, 78, 78, 77, 77, 77, 77, 77, 77, 76, 76, 76, 76, 76, 76, 75, 75, 75, 74, 74, 74, 74, 73, 73, 73, 73, 73, 73, 72, 72, 72, 72, 71, 71, 71, 71, 71, 71, 70, 70, 79, 90, 87, 87, 79, 87, 86, 86, 86, 86, 84, 84, 84, 83, 83, 83, 83, 85, 82, 82, 82, 81, 81, 81, 81, 80, 80, 80, 80, 80, 80, 80, 79, 79, 79, 79, 78, 78, 78, 78, 77, 77, 77, 77, 76, 76, 76, 76, 76, 76, 75, 76, 75, 75, 75, 74, 74, 74, 74, 74, 74, 73, 73, 73, 73, 73, 73, 73, 73, 73, 72, 72, 72, 72, 72, 72, 72, 72, 72, 72, 71, 71, 71, 71, 70, 70, 70, 70, 70, 69, 69, 69, 68, 67, 67, 66, 66, 66, 65, 65, 79, 85, 82, 100, 89, 87, 76, 90, 86, 85, 90, 84, 84, 91, 85, 84, 83, 83, 82, 82, 84, 83, 82, 82, 82, 82, 82, 82, 81, 81, 82, 81, 80, 80, 80, 79, 79, 79, 79, 79, 79, 78, 78, 78, 78, 78, 78, 78, 77, 77, 77, 77, 77, 77, 77, 76, 76, 76, 76, 76, 75, 75, 75, 75, 75, 75, 75, 75, 74, 74, 74, 74, 73, 73, 73, 72, 72, 72, 72, 72, 71, 71, 71, 71, 71, 70, 70, 70, 70, 70, 69, 69, 68, 68, 67, 67, 67, 67, 66, 66], \"xaxis\": \"x\", \"yaxis\": \"y\"}, {\"alignmentgroup\": \"True\", \"hovertemplate\": \"decade=1<br>track_popularity=%{x}<extra></extra>\", \"legendgroup\": \"1\", \"marker\": {\"color\": \"#EF553B\"}, \"name\": \"1\", \"notched\": true, \"offsetgroup\": \"1\", \"showlegend\": false, \"type\": \"box\", \"x\": [86, 85, 85, 80, 84, 70, 79, 84, 77, 83, 83, 83, 82, 82, 80, 80, 79, 79, 79, 78, 77, 76, 76, 75, 76, 75, 74, 78, 74, 74, 74, 73, 73, 73, 72, 72, 72, 72, 72, 72, 71, 71, 71, 70, 70, 70, 70, 69, 69, 69, 69, 69, 69, 68, 68, 68, 67, 67, 67, 67, 67, 67, 66, 66, 66, 66, 65, 66, 65, 65, 65, 64, 64, 64, 64, 63, 63, 63, 62, 62, 61, 61, 61, 60, 59, 58, 57, 56, 56, 55, 54, 53, 53, 51, 49, 48, 48, 46, 46, 44, 82, 74, 71, 73, 80, 89, 86, 85, 85, 83, 83, 83, 83, 82, 82, 81, 81, 81, 81, 80, 79, 79, 81, 79, 78, 78, 78, 78, 77, 76, 76, 76, 76, 76, 75, 75, 75, 75, 74, 74, 74, 74, 74, 74, 74, 73, 73, 72, 72, 72, 72, 72, 71, 71, 71, 70, 70, 70, 69, 69, 69, 69, 69, 69, 68, 68, 68, 67, 67, 67, 66, 66, 66, 66, 66, 66, 66, 66, 65, 65, 64, 64, 64, 64, 63, 63, 63, 62, 60, 60, 59, 59, 58, 55, 49, 49, 49, 48, 40, 33, 90, 76, 76, 77, 86, 86, 84, 83, 83, 83, 82, 81, 81, 82, 80, 80, 80, 80, 80, 80, 80, 79, 78, 78, 78, 79, 78, 77, 77, 77, 77, 77, 77, 76, 76, 76, 75, 74, 74, 74, 76, 74, 73, 73, 73, 73, 73, 73, 72, 72, 72, 72, 71, 71, 71, 71, 71, 71, 71, 71, 71, 70, 70, 70, 70, 70, 70, 70, 70, 69, 69, 69, 69, 69, 69, 69, 69, 69, 69, 69, 69, 68, 68, 68, 68, 67, 67, 67, 67, 66, 66, 66, 66, 66, 66, 65, 65, 65, 65, 65, 81, 58, 82, 91, 91, 90, 88, 89, 85, 75, 89, 84, 84, 83, 83, 83, 89, 83, 83, 82, 83, 82, 82, 81, 81, 80, 81, 80, 80, 80, 80, 80, 80, 80, 79, 79, 78, 78, 77, 77, 77, 77, 77, 76, 76, 76, 76, 75, 75, 75, 74, 73, 73, 73, 73, 73, 74, 72, 72, 72, 72, 72, 71, 71, 70, 70, 70, 70, 69, 69, 69, 68, 68, 68, 68, 68, 68, 67, 67, 67, 66, 66, 66, 65, 65, 64, 64, 64, 64, 63, 63, 62, 62, 61, 61, 61, 61, 60, 60, 59, 89, 88, 87, 87, 87, 86, 86, 85, 84, 84, 84, 83, 85, 85, 83, 83, 83, 82, 82, 82, 81, 81, 80, 80, 80, 82, 80, 80, 79, 79, 79, 79, 78, 78, 77, 77, 77, 77, 76, 76, 76, 77, 76, 75, 75, 75, 75, 75, 75, 75, 75, 75, 74, 73, 73, 73, 73, 73, 73, 72, 71, 71, 73, 71, 70, 70, 70, 70, 69, 69, 69, 69, 69, 68, 68, 68, 68, 67, 67, 67, 67, 66, 65, 65, 65, 65, 64, 64, 64, 64, 63, 62, 62, 62, 61, 60, 58, 58, 57, 56, 85, 85, 85, 80, 77, 77, 80, 88, 87, 86, 86, 85, 85, 85, 85, 88, 83, 83, 83, 83, 82, 81, 81, 81, 85, 81, 80, 80, 81, 80, 80, 80, 80, 80, 79, 79, 79, 79, 78, 78, 78, 78, 78, 77, 78, 77, 76, 76, 76, 76, 76, 76, 76, 76, 76, 75, 75, 76, 75, 75, 75, 75, 74, 74, 73, 73, 73, 75, 73, 73, 73, 73, 72, 72, 72, 72, 72, 72, 72, 71, 71, 71, 71, 71, 71, 71, 71, 70, 70, 70, 70, 69, 69, 69, 68, 68, 68, 68, 68, 68, 92, 89, 86, 86, 75, 90, 87, 69, 86, 79, 85, 83, 85, 85, 85, 85, 84, 83, 82, 83, 82, 82, 82, 81, 81, 81, 81, 81, 81, 80, 80, 80, 79, 79, 79, 79, 78, 78, 78, 78, 78, 78, 78, 78, 78, 77, 77, 77, 76, 76, 76, 75, 75, 75, 75, 76, 75, 74, 74, 73, 73, 73, 73, 73, 73, 73, 73, 72, 72, 72, 72, 71, 71, 71, 71, 71, 71, 70, 70, 70, 70, 70, 70, 69, 69, 69, 69, 68, 68, 68, 68, 68, 68, 68, 67, 67, 66, 66, 66, 66, 89, 90, 82, 73, 77, 82, 88, 65, 88, 90, 87, 87, 87, 87, 86, 86, 86, 86, 86, 85, 85, 85, 85, 85, 84, 84, 84, 84, 83, 83, 83, 83, 83, 82, 82, 82, 82, 82, 82, 82, 82, 82, 81, 81, 81, 81, 80, 79, 81, 79, 79, 79, 78, 78, 78, 80, 78, 78, 78, 78, 78, 78, 78, 77, 77, 77, 77, 77, 77, 76, 76, 76, 76, 76, 76, 75, 75, 75, 74, 74, 74, 74, 73, 73, 73, 73, 73, 73, 72, 72, 72, 72, 71, 71, 71, 71, 71, 71, 70, 70, 79, 90, 87, 87, 79, 87, 86, 86, 86, 86, 84, 84, 84, 83, 83, 83, 83, 85, 82, 82, 82, 81, 81, 81, 81, 80, 80, 80, 80, 80, 80, 80, 79, 79, 79, 79, 78, 78, 78, 78, 77, 77, 77, 77, 76, 76, 76, 76, 76, 76, 75, 76, 75, 75, 75, 74, 74, 74, 74, 74, 74, 73, 73, 73, 73, 73, 73, 73, 73, 73, 72, 72, 72, 72, 72, 72, 72, 72, 72, 72, 71, 71, 71, 71, 70, 70, 70, 70, 70, 69, 69, 69, 68, 67, 67, 66, 66, 66, 65, 65, 79, 85, 82, 100, 89, 87, 76, 90, 86, 85, 90, 84, 84, 91, 85, 84, 83, 83, 82, 82, 84, 83, 82, 82, 82, 82, 82, 82, 81, 81, 82, 81, 80, 80, 80, 79, 79, 79, 79, 79, 79, 78, 78, 78, 78, 78, 78, 78, 77, 77, 77, 77, 77, 77, 77, 76, 76, 76, 76, 76, 75, 75, 75, 75, 75, 75, 75, 75, 74, 74, 74, 74, 73, 73, 73, 72, 72, 72, 72, 72, 71, 71, 71, 71, 71, 70, 70, 70, 70, 70, 69, 69, 68, 68, 67, 67, 67, 67, 66, 66], \"xaxis\": \"x2\", \"yaxis\": \"y2\"}, {\"alignmentgroup\": \"True\", \"bingroup\": \"x\", \"hovertemplate\": \"decade=2<br>track_popularity=%{x}<br>count=%{y}<extra></extra>\", \"legendgroup\": \"2\", \"marker\": {\"color\": \"#00cc96\", \"opacity\": 0.5}, \"name\": \"2\", \"nbinsx\": 50, \"offsetgroup\": \"2\", \"orientation\": \"v\", \"showlegend\": true, \"type\": \"histogram\", \"x\": [19, 53, 0, 90, 76, 83, 74, 73, 80, 82, 78, 2, 93, 82, 83, 78, 74, 79, 82, 79, 87, 86, 80, 0, 6, 80, 59, 77, 86, 80, 71, 77, 76, 53, 84, 84, 81, 63, 59, 74, 84, 67, 82, 78, 65, 73, 76, 4, 68, 87, 74, 0, 3, 68, 79, 89, 86, 73, 64, 30, 75, 63, 80, 75, 77, 74, 78, 81, 79, 80, 0, 0, 69, 78, 76, 90, 64, 72, 77, 81, 80, 48, 69, 3, 79, 70, 87, 67, 85, 77, 72, 73, 4, 75, 75, 32, 78, 77, 74, 73, 28, 76, 85, 83, 84, 12, 17, 81, 18, 86, 79, 79, 24, 82, 84, 87, 88, 86, 87, 77, 81, 9, 75, 79, 80, 85, 83, 91, 71, 81, 80, 63, 83, 84, 83, 84, 88, 82, 82, 76, 75, 72, 80, 72, 60, 0, 76, 72, 66, 81, 81, 78, 73, 83, 82, 73, 85, 73, 74, 74, 75, 4, 92, 29, 75, 65, 74, 90, 1, 61, 0, 6, 81, 89, 71, 74, 65, 74, 72, 66, 60, 80, 1, 3, 76, 2, 84, 84, 68, 6, 65, 86, 84, 62, 68, 77, 78, 77, 71, 78, 90, 88, 93, 87, 28, 85, 87, 24, 40, 84, 87, 83, 87, 88, 90, 78, 80, 82, 91, 82, 72, 89, 82, 86, 76, 73, 84, 92, 81, 78, 86, 81, 75, 87, 87, 87, 87, 81, 83, 77, 78, 77, 72, 87, 81, 83, 86, 76, 78, 74, 82, 73, 89, 28, 80, 81, 71, 67, 78, 83, 12, 77, 65, 4, 69, 86, 68, 83, 3, 87, 73, 80, 79, 76, 81, 82, 80, 62, 80, 76, 48, 74, 30, 74, 89, 60, 93, 47, 79, 92, 3, 88, 84, 86, 86, 79, 69, 86, 77, 77], \"xaxis\": \"x\", \"yaxis\": \"y\"}, {\"alignmentgroup\": \"True\", \"hovertemplate\": \"decade=2<br>track_popularity=%{x}<extra></extra>\", \"legendgroup\": \"2\", \"marker\": {\"color\": \"#00cc96\"}, \"name\": \"2\", \"notched\": true, \"offsetgroup\": \"2\", \"showlegend\": false, \"type\": \"box\", \"x\": [19, 53, 0, 90, 76, 83, 74, 73, 80, 82, 78, 2, 93, 82, 83, 78, 74, 79, 82, 79, 87, 86, 80, 0, 6, 80, 59, 77, 86, 80, 71, 77, 76, 53, 84, 84, 81, 63, 59, 74, 84, 67, 82, 78, 65, 73, 76, 4, 68, 87, 74, 0, 3, 68, 79, 89, 86, 73, 64, 30, 75, 63, 80, 75, 77, 74, 78, 81, 79, 80, 0, 0, 69, 78, 76, 90, 64, 72, 77, 81, 80, 48, 69, 3, 79, 70, 87, 67, 85, 77, 72, 73, 4, 75, 75, 32, 78, 77, 74, 73, 28, 76, 85, 83, 84, 12, 17, 81, 18, 86, 79, 79, 24, 82, 84, 87, 88, 86, 87, 77, 81, 9, 75, 79, 80, 85, 83, 91, 71, 81, 80, 63, 83, 84, 83, 84, 88, 82, 82, 76, 75, 72, 80, 72, 60, 0, 76, 72, 66, 81, 81, 78, 73, 83, 82, 73, 85, 73, 74, 74, 75, 4, 92, 29, 75, 65, 74, 90, 1, 61, 0, 6, 81, 89, 71, 74, 65, 74, 72, 66, 60, 80, 1, 3, 76, 2, 84, 84, 68, 6, 65, 86, 84, 62, 68, 77, 78, 77, 71, 78, 90, 88, 93, 87, 28, 85, 87, 24, 40, 84, 87, 83, 87, 88, 90, 78, 80, 82, 91, 82, 72, 89, 82, 86, 76, 73, 84, 92, 81, 78, 86, 81, 75, 87, 87, 87, 87, 81, 83, 77, 78, 77, 72, 87, 81, 83, 86, 76, 78, 74, 82, 73, 89, 28, 80, 81, 71, 67, 78, 83, 12, 77, 65, 4, 69, 86, 68, 83, 3, 87, 73, 80, 79, 76, 81, 82, 80, 62, 80, 76, 48, 74, 30, 74, 89, 60, 93, 47, 79, 92, 3, 88, 84, 86, 86, 79, 69, 86, 77, 77], \"xaxis\": \"x2\", \"yaxis\": \"y2\"}],                        {\"barmode\": \"overlay\", \"legend\": {\"title\": {\"text\": \"decade\"}, \"tracegroupgap\": 0}, \"template\": {\"data\": {\"bar\": [{\"error_x\": {\"color\": \"#2a3f5f\"}, \"error_y\": {\"color\": \"#2a3f5f\"}, \"marker\": {\"line\": {\"color\": \"#E5ECF6\", \"width\": 0.5}}, \"type\": \"bar\"}], \"barpolar\": [{\"marker\": {\"line\": {\"color\": \"#E5ECF6\", \"width\": 0.5}}, \"type\": \"barpolar\"}], \"carpet\": [{\"aaxis\": {\"endlinecolor\": \"#2a3f5f\", \"gridcolor\": \"white\", \"linecolor\": \"white\", \"minorgridcolor\": \"white\", \"startlinecolor\": \"#2a3f5f\"}, \"baxis\": {\"endlinecolor\": \"#2a3f5f\", \"gridcolor\": \"white\", \"linecolor\": \"white\", \"minorgridcolor\": \"white\", \"startlinecolor\": \"#2a3f5f\"}, \"type\": \"carpet\"}], \"choropleth\": [{\"colorbar\": {\"outlinewidth\": 0, \"ticks\": \"\"}, \"type\": \"choropleth\"}], \"contour\": [{\"colorbar\": {\"outlinewidth\": 0, \"ticks\": \"\"}, \"colorscale\": [[0.0, \"#0d0887\"], [0.1111111111111111, \"#46039f\"], [0.2222222222222222, \"#7201a8\"], [0.3333333333333333, \"#9c179e\"], [0.4444444444444444, \"#bd3786\"], [0.5555555555555556, \"#d8576b\"], [0.6666666666666666, \"#ed7953\"], [0.7777777777777778, \"#fb9f3a\"], [0.8888888888888888, \"#fdca26\"], [1.0, \"#f0f921\"]], \"type\": \"contour\"}], \"contourcarpet\": [{\"colorbar\": {\"outlinewidth\": 0, \"ticks\": \"\"}, \"type\": \"contourcarpet\"}], \"heatmap\": [{\"colorbar\": {\"outlinewidth\": 0, \"ticks\": \"\"}, \"colorscale\": [[0.0, \"#0d0887\"], [0.1111111111111111, \"#46039f\"], [0.2222222222222222, \"#7201a8\"], [0.3333333333333333, \"#9c179e\"], [0.4444444444444444, \"#bd3786\"], [0.5555555555555556, \"#d8576b\"], [0.6666666666666666, \"#ed7953\"], [0.7777777777777778, \"#fb9f3a\"], [0.8888888888888888, \"#fdca26\"], [1.0, \"#f0f921\"]], \"type\": \"heatmap\"}], \"heatmapgl\": [{\"colorbar\": {\"outlinewidth\": 0, \"ticks\": \"\"}, \"colorscale\": [[0.0, \"#0d0887\"], [0.1111111111111111, \"#46039f\"], [0.2222222222222222, \"#7201a8\"], [0.3333333333333333, \"#9c179e\"], [0.4444444444444444, \"#bd3786\"], [0.5555555555555556, \"#d8576b\"], [0.6666666666666666, \"#ed7953\"], [0.7777777777777778, \"#fb9f3a\"], [0.8888888888888888, \"#fdca26\"], [1.0, \"#f0f921\"]], \"type\": \"heatmapgl\"}], \"histogram\": [{\"marker\": {\"colorbar\": {\"outlinewidth\": 0, \"ticks\": \"\"}}, \"type\": \"histogram\"}], \"histogram2d\": [{\"colorbar\": {\"outlinewidth\": 0, \"ticks\": \"\"}, \"colorscale\": [[0.0, \"#0d0887\"], [0.1111111111111111, \"#46039f\"], [0.2222222222222222, \"#7201a8\"], [0.3333333333333333, \"#9c179e\"], [0.4444444444444444, \"#bd3786\"], [0.5555555555555556, \"#d8576b\"], [0.6666666666666666, \"#ed7953\"], [0.7777777777777778, \"#fb9f3a\"], [0.8888888888888888, \"#fdca26\"], [1.0, \"#f0f921\"]], \"type\": \"histogram2d\"}], \"histogram2dcontour\": [{\"colorbar\": {\"outlinewidth\": 0, \"ticks\": \"\"}, \"colorscale\": [[0.0, \"#0d0887\"], [0.1111111111111111, \"#46039f\"], [0.2222222222222222, \"#7201a8\"], [0.3333333333333333, \"#9c179e\"], [0.4444444444444444, \"#bd3786\"], [0.5555555555555556, \"#d8576b\"], [0.6666666666666666, \"#ed7953\"], [0.7777777777777778, \"#fb9f3a\"], [0.8888888888888888, \"#fdca26\"], [1.0, \"#f0f921\"]], \"type\": \"histogram2dcontour\"}], \"mesh3d\": [{\"colorbar\": {\"outlinewidth\": 0, \"ticks\": \"\"}, \"type\": \"mesh3d\"}], \"parcoords\": [{\"line\": {\"colorbar\": {\"outlinewidth\": 0, \"ticks\": \"\"}}, \"type\": \"parcoords\"}], \"pie\": [{\"automargin\": true, \"type\": \"pie\"}], \"scatter\": [{\"marker\": {\"colorbar\": {\"outlinewidth\": 0, \"ticks\": \"\"}}, \"type\": \"scatter\"}], \"scatter3d\": [{\"line\": {\"colorbar\": {\"outlinewidth\": 0, \"ticks\": \"\"}}, \"marker\": {\"colorbar\": {\"outlinewidth\": 0, \"ticks\": \"\"}}, \"type\": \"scatter3d\"}], \"scattercarpet\": [{\"marker\": {\"colorbar\": {\"outlinewidth\": 0, \"ticks\": \"\"}}, \"type\": \"scattercarpet\"}], \"scattergeo\": [{\"marker\": {\"colorbar\": {\"outlinewidth\": 0, \"ticks\": \"\"}}, \"type\": \"scattergeo\"}], \"scattergl\": [{\"marker\": {\"colorbar\": {\"outlinewidth\": 0, \"ticks\": \"\"}}, \"type\": \"scattergl\"}], \"scattermapbox\": [{\"marker\": {\"colorbar\": {\"outlinewidth\": 0, \"ticks\": \"\"}}, \"type\": \"scattermapbox\"}], \"scatterpolar\": [{\"marker\": {\"colorbar\": {\"outlinewidth\": 0, \"ticks\": \"\"}}, \"type\": \"scatterpolar\"}], \"scatterpolargl\": [{\"marker\": {\"colorbar\": {\"outlinewidth\": 0, \"ticks\": \"\"}}, \"type\": \"scatterpolargl\"}], \"scatterternary\": [{\"marker\": {\"colorbar\": {\"outlinewidth\": 0, \"ticks\": \"\"}}, \"type\": \"scatterternary\"}], \"surface\": [{\"colorbar\": {\"outlinewidth\": 0, \"ticks\": \"\"}, \"colorscale\": [[0.0, \"#0d0887\"], [0.1111111111111111, \"#46039f\"], [0.2222222222222222, \"#7201a8\"], [0.3333333333333333, \"#9c179e\"], [0.4444444444444444, \"#bd3786\"], [0.5555555555555556, \"#d8576b\"], [0.6666666666666666, \"#ed7953\"], [0.7777777777777778, \"#fb9f3a\"], [0.8888888888888888, \"#fdca26\"], [1.0, \"#f0f921\"]], \"type\": \"surface\"}], \"table\": [{\"cells\": {\"fill\": {\"color\": \"#EBF0F8\"}, \"line\": {\"color\": \"white\"}}, \"header\": {\"fill\": {\"color\": \"#C8D4E3\"}, \"line\": {\"color\": \"white\"}}, \"type\": \"table\"}]}, \"layout\": {\"annotationdefaults\": {\"arrowcolor\": \"#2a3f5f\", \"arrowhead\": 0, \"arrowwidth\": 1}, \"coloraxis\": {\"colorbar\": {\"outlinewidth\": 0, \"ticks\": \"\"}}, \"colorscale\": {\"diverging\": [[0, \"#8e0152\"], [0.1, \"#c51b7d\"], [0.2, \"#de77ae\"], [0.3, \"#f1b6da\"], [0.4, \"#fde0ef\"], [0.5, \"#f7f7f7\"], [0.6, \"#e6f5d0\"], [0.7, \"#b8e186\"], [0.8, \"#7fbc41\"], [0.9, \"#4d9221\"], [1, \"#276419\"]], \"sequential\": [[0.0, \"#0d0887\"], [0.1111111111111111, \"#46039f\"], [0.2222222222222222, \"#7201a8\"], [0.3333333333333333, \"#9c179e\"], [0.4444444444444444, \"#bd3786\"], [0.5555555555555556, \"#d8576b\"], [0.6666666666666666, \"#ed7953\"], [0.7777777777777778, \"#fb9f3a\"], [0.8888888888888888, \"#fdca26\"], [1.0, \"#f0f921\"]], \"sequentialminus\": [[0.0, \"#0d0887\"], [0.1111111111111111, \"#46039f\"], [0.2222222222222222, \"#7201a8\"], [0.3333333333333333, \"#9c179e\"], [0.4444444444444444, \"#bd3786\"], [0.5555555555555556, \"#d8576b\"], [0.6666666666666666, \"#ed7953\"], [0.7777777777777778, \"#fb9f3a\"], [0.8888888888888888, \"#fdca26\"], [1.0, \"#f0f921\"]]}, \"colorway\": [\"#636efa\", \"#EF553B\", \"#00cc96\", \"#ab63fa\", \"#FFA15A\", \"#19d3f3\", \"#FF6692\", \"#B6E880\", \"#FF97FF\", \"#FECB52\"], \"font\": {\"color\": \"#2a3f5f\"}, \"geo\": {\"bgcolor\": \"white\", \"lakecolor\": \"white\", \"landcolor\": \"#E5ECF6\", \"showlakes\": true, \"showland\": true, \"subunitcolor\": \"white\"}, \"hoverlabel\": {\"align\": \"left\"}, \"hovermode\": \"closest\", \"mapbox\": {\"style\": \"light\"}, \"paper_bgcolor\": \"white\", \"plot_bgcolor\": \"#E5ECF6\", \"polar\": {\"angularaxis\": {\"gridcolor\": \"white\", \"linecolor\": \"white\", \"ticks\": \"\"}, \"bgcolor\": \"#E5ECF6\", \"radialaxis\": {\"gridcolor\": \"white\", \"linecolor\": \"white\", \"ticks\": \"\"}}, \"scene\": {\"xaxis\": {\"backgroundcolor\": \"#E5ECF6\", \"gridcolor\": \"white\", \"gridwidth\": 2, \"linecolor\": \"white\", \"showbackground\": true, \"ticks\": \"\", \"zerolinecolor\": \"white\"}, \"yaxis\": {\"backgroundcolor\": \"#E5ECF6\", \"gridcolor\": \"white\", \"gridwidth\": 2, \"linecolor\": \"white\", \"showbackground\": true, \"ticks\": \"\", \"zerolinecolor\": \"white\"}, \"zaxis\": {\"backgroundcolor\": \"#E5ECF6\", \"gridcolor\": \"white\", \"gridwidth\": 2, \"linecolor\": \"white\", \"showbackground\": true, \"ticks\": \"\", \"zerolinecolor\": \"white\"}}, \"shapedefaults\": {\"line\": {\"color\": \"#2a3f5f\"}}, \"ternary\": {\"aaxis\": {\"gridcolor\": \"white\", \"linecolor\": \"white\", \"ticks\": \"\"}, \"baxis\": {\"gridcolor\": \"white\", \"linecolor\": \"white\", \"ticks\": \"\"}, \"bgcolor\": \"#E5ECF6\", \"caxis\": {\"gridcolor\": \"white\", \"linecolor\": \"white\", \"ticks\": \"\"}}, \"title\": {\"x\": 0.05}, \"xaxis\": {\"automargin\": true, \"gridcolor\": \"white\", \"linecolor\": \"white\", \"ticks\": \"\", \"title\": {\"standoff\": 15}, \"zerolinecolor\": \"white\", \"zerolinewidth\": 2}, \"yaxis\": {\"automargin\": true, \"gridcolor\": \"white\", \"linecolor\": \"white\", \"ticks\": \"\", \"title\": {\"standoff\": 15}, \"zerolinecolor\": \"white\", \"zerolinewidth\": 2}}}, \"title\": {\"text\": \"Tracks popularity distribution by decades\"}, \"xaxis\": {\"anchor\": \"y\", \"domain\": [0.0, 1.0], \"title\": {\"text\": \"track_popularity\"}}, \"xaxis2\": {\"anchor\": \"y2\", \"domain\": [0.0, 1.0], \"matches\": \"x\", \"showgrid\": true, \"showticklabels\": false}, \"yaxis\": {\"anchor\": \"x\", \"domain\": [0.0, 0.7326], \"title\": {\"text\": \"count\"}}, \"yaxis2\": {\"anchor\": \"x2\", \"domain\": [0.7426, 1.0], \"matches\": \"y2\", \"showgrid\": false, \"showline\": false, \"showticklabels\": false, \"ticks\": \"\"}},                        {\"responsive\": true}                    ).then(function(){\n",
       "                            \n",
       "var gd = document.getElementById('a076664c-e9db-4103-b930-2342ac002ccd');\n",
       "var x = new MutationObserver(function (mutations, observer) {{\n",
       "        var display = window.getComputedStyle(gd).display;\n",
       "        if (!display || display === 'none') {{\n",
       "            console.log([gd, 'removed!']);\n",
       "            Plotly.purge(gd);\n",
       "            observer.disconnect();\n",
       "        }}\n",
       "}});\n",
       "\n",
       "// Listen for the removal of the full notebook cells\n",
       "var notebookContainer = gd.closest('#notebook-container');\n",
       "if (notebookContainer) {{\n",
       "    x.observe(notebookContainer, {childList: true});\n",
       "}}\n",
       "\n",
       "// Listen for the clearing of the current output cell\n",
       "var outputEl = gd.closest('.output');\n",
       "if (outputEl) {{\n",
       "    x.observe(outputEl, {childList: true});\n",
       "}}\n",
       "\n",
       "                        })                };                });            </script>        </div>"
      ]
     },
     "metadata": {},
     "output_type": "display_data"
    },
    {
     "data": {
      "application/javascript": [
       "\n",
       "            setTimeout(function() {\n",
       "                var nbb_cell_id = 204;\n",
       "                var nbb_unformatted_code = \"px.histogram(\\n    df,\\n    x=\\\"track_popularity\\\",\\n    color=\\\"decade\\\",\\n    marginal=\\\"box\\\",\\n    nbins=50,\\n    barmode=\\\"overlay\\\",\\n    title=\\\"Tracks popularity distribution by decades\\\",\\n)\";\n",
       "                var nbb_formatted_code = \"px.histogram(\\n    df,\\n    x=\\\"track_popularity\\\",\\n    color=\\\"decade\\\",\\n    marginal=\\\"box\\\",\\n    nbins=50,\\n    barmode=\\\"overlay\\\",\\n    title=\\\"Tracks popularity distribution by decades\\\",\\n)\";\n",
       "                var nbb_cells = Jupyter.notebook.get_cells();\n",
       "                for (var i = 0; i < nbb_cells.length; ++i) {\n",
       "                    if (nbb_cells[i].input_prompt_number == nbb_cell_id) {\n",
       "                        if (nbb_cells[i].get_text() == nbb_unformatted_code) {\n",
       "                             nbb_cells[i].set_text(nbb_formatted_code);\n",
       "                        }\n",
       "                        break;\n",
       "                    }\n",
       "                }\n",
       "            }, 500);\n",
       "            "
      ],
      "text/plain": [
       "<IPython.core.display.Javascript object>"
      ]
     },
     "metadata": {},
     "output_type": "display_data"
    }
   ],
   "source": [
    "px.histogram(\n",
    "    df,\n",
    "    x=\"track_popularity\",\n",
    "    color=\"decade\",\n",
    "    marginal=\"box\",\n",
    "    nbins=50,\n",
    "    barmode=\"overlay\",\n",
    "    title=\"Tracks popularity distribution by decades\"\n",
    ")"
   ]
  },
  {
   "cell_type": "markdown",
   "metadata": {},
   "source": [
    "### Pie chart"
   ]
  },
  {
   "cell_type": "code",
   "execution_count": 226,
   "metadata": {},
   "outputs": [
    {
     "data": {
      "text/html": [
       "<div>\n",
       "<style scoped>\n",
       "    .dataframe tbody tr th:only-of-type {\n",
       "        vertical-align: middle;\n",
       "    }\n",
       "\n",
       "    .dataframe tbody tr th {\n",
       "        vertical-align: top;\n",
       "    }\n",
       "\n",
       "    .dataframe thead th {\n",
       "        text-align: right;\n",
       "    }\n",
       "</style>\n",
       "<table border=\"1\" class=\"dataframe\">\n",
       "  <thead>\n",
       "    <tr style=\"text-align: right;\">\n",
       "      <th></th>\n",
       "      <th>genre</th>\n",
       "      <th>count</th>\n",
       "    </tr>\n",
       "  </thead>\n",
       "  <tbody>\n",
       "    <tr>\n",
       "      <th>0</th>\n",
       "      <td>pop</td>\n",
       "      <td>994</td>\n",
       "    </tr>\n",
       "    <tr>\n",
       "      <th>1</th>\n",
       "      <td>rap</td>\n",
       "      <td>284</td>\n",
       "    </tr>\n",
       "    <tr>\n",
       "      <th>2</th>\n",
       "      <td>dance pop</td>\n",
       "      <td>166</td>\n",
       "    </tr>\n",
       "    <tr>\n",
       "      <th>3</th>\n",
       "      <td>modern rock</td>\n",
       "      <td>102</td>\n",
       "    </tr>\n",
       "    <tr>\n",
       "      <th>4</th>\n",
       "      <td>r&amp;b</td>\n",
       "      <td>61</td>\n",
       "    </tr>\n",
       "  </tbody>\n",
       "</table>\n",
       "</div>"
      ],
      "text/plain": [
       "         genre  count\n",
       "0          pop    994\n",
       "1          rap    284\n",
       "2    dance pop    166\n",
       "3  modern rock    102\n",
       "4          r&b     61"
      ]
     },
     "execution_count": 226,
     "metadata": {},
     "output_type": "execute_result"
    },
    {
     "data": {
      "application/javascript": [
       "\n",
       "            setTimeout(function() {\n",
       "                var nbb_cell_id = 226;\n",
       "                var nbb_unformatted_code = \"gvs = df.only_one_genre.value_counts()\\nogdf = pd.DataFrame(data=zip(gvs.index, gvs.values), columns=[\\\"genre\\\", \\\"count\\\"])\\nogdf.loc[ogdf[\\\"count\\\"] < 30, \\\"genre\\\"] = \\\"others\\\"\\nogdf.head()\";\n",
       "                var nbb_formatted_code = \"gvs = df.only_one_genre.value_counts()\\nogdf = pd.DataFrame(data=zip(gvs.index, gvs.values), columns=[\\\"genre\\\", \\\"count\\\"])\\nogdf.loc[ogdf[\\\"count\\\"] < 30, \\\"genre\\\"] = \\\"others\\\"\\nogdf.head()\";\n",
       "                var nbb_cells = Jupyter.notebook.get_cells();\n",
       "                for (var i = 0; i < nbb_cells.length; ++i) {\n",
       "                    if (nbb_cells[i].input_prompt_number == nbb_cell_id) {\n",
       "                        if (nbb_cells[i].get_text() == nbb_unformatted_code) {\n",
       "                             nbb_cells[i].set_text(nbb_formatted_code);\n",
       "                        }\n",
       "                        break;\n",
       "                    }\n",
       "                }\n",
       "            }, 500);\n",
       "            "
      ],
      "text/plain": [
       "<IPython.core.display.Javascript object>"
      ]
     },
     "metadata": {},
     "output_type": "display_data"
    }
   ],
   "source": [
    "gvs = df.only_one_genre.value_counts()\n",
    "ogdf = pd.DataFrame(data=zip(gvs.index, gvs.values), columns=[\"genre\", \"count\"])\n",
    "ogdf.loc[ogdf[\"count\"] < 30, \"genre\"] = \"others\"\n",
    "ogdf.head()"
   ]
  },
  {
   "cell_type": "code",
   "execution_count": 234,
   "metadata": {},
   "outputs": [
    {
     "data": {
      "application/vnd.plotly.v1+json": {
       "config": {
        "plotlyServerURL": "https://plot.ly"
       },
       "data": [
        {
         "domain": {
          "x": [
           0,
           1
          ],
          "y": [
           0,
           1
          ]
         },
         "hole": 0.3,
         "hovertemplate": "genre=%{label}<br>count=%{value}<extra></extra>",
         "labels": [
          "pop",
          "rap",
          "dance pop",
          "modern rock",
          "r&b",
          "rock",
          "neo mellow",
          "trap latino",
          "edm",
          "pop rap",
          "others",
          "others",
          "others",
          "others",
          "others",
          "others",
          "others",
          "others",
          "others",
          "others",
          "others",
          "others",
          "others",
          "others",
          "others",
          "others",
          "others",
          "others",
          "others",
          "others",
          "others",
          "others",
          "others",
          "others",
          "others",
          "others",
          "others",
          "others",
          "others",
          "others",
          "others",
          "others",
          "others",
          "others",
          "others",
          "others",
          "others",
          "others",
          "others",
          "others",
          "others",
          "others",
          "others",
          "others",
          "others",
          "others",
          "others",
          "others",
          "others",
          "others",
          "others",
          "others",
          "others",
          "others",
          "others",
          "others",
          "others",
          "others",
          "others",
          "others",
          "others",
          "others",
          "others",
          "others",
          "others",
          "others",
          "others",
          "others",
          "others",
          "others",
          "others",
          "others",
          "others",
          "others",
          "others",
          "others",
          "others",
          "others",
          "others",
          "others",
          "others",
          "others",
          "others",
          "others",
          "others",
          "others",
          "others",
          "others",
          "others",
          "others",
          "others",
          "others",
          "others",
          "others",
          "others",
          "others",
          "others",
          "others",
          "others",
          "others",
          "others",
          "others",
          "others",
          "others",
          "others",
          "others",
          "others",
          "others",
          "others",
          "others",
          "others",
          "others",
          "others",
          "others",
          "others",
          "others",
          "others",
          "others",
          "others",
          "others",
          "others",
          "others",
          "others",
          "others",
          "others",
          "others",
          "others",
          "others",
          "others",
          "others",
          "others",
          "others",
          "others",
          "others",
          "others",
          "others",
          "others",
          "others"
         ],
         "legendgroup": "",
         "name": "",
         "showlegend": true,
         "textinfo": "percent+label",
         "textposition": "inside",
         "type": "pie",
         "values": [
          994,
          284,
          166,
          102,
          61,
          50,
          49,
          38,
          35,
          35,
          28,
          24,
          24,
          20,
          17,
          15,
          15,
          14,
          13,
          10,
          10,
          9,
          9,
          9,
          8,
          8,
          7,
          7,
          7,
          7,
          7,
          6,
          6,
          6,
          6,
          5,
          5,
          5,
          5,
          5,
          5,
          4,
          4,
          4,
          4,
          4,
          4,
          4,
          3,
          3,
          3,
          3,
          3,
          3,
          3,
          3,
          3,
          3,
          2,
          2,
          2,
          2,
          2,
          2,
          2,
          2,
          2,
          2,
          2,
          2,
          2,
          2,
          2,
          2,
          1,
          1,
          1,
          1,
          1,
          1,
          1,
          1,
          1,
          1,
          1,
          1,
          1,
          1,
          1,
          1,
          1,
          1,
          1,
          1,
          1,
          1,
          1,
          1,
          1,
          1,
          1,
          1,
          1,
          1,
          1,
          1,
          1,
          1,
          1,
          1,
          1,
          1,
          1,
          1,
          1,
          1,
          1,
          1,
          1,
          1,
          1,
          1,
          1,
          1,
          1,
          1,
          1,
          1,
          1,
          1,
          1,
          1,
          1,
          1,
          1,
          1,
          1,
          1,
          1,
          1,
          1,
          1,
          1,
          1,
          1,
          1,
          1,
          1
         ]
        }
       ],
       "layout": {
        "legend": {
         "tracegroupgap": 0
        },
        "template": {
         "data": {
          "bar": [
           {
            "error_x": {
             "color": "#2a3f5f"
            },
            "error_y": {
             "color": "#2a3f5f"
            },
            "marker": {
             "line": {
              "color": "#E5ECF6",
              "width": 0.5
             }
            },
            "type": "bar"
           }
          ],
          "barpolar": [
           {
            "marker": {
             "line": {
              "color": "#E5ECF6",
              "width": 0.5
             }
            },
            "type": "barpolar"
           }
          ],
          "carpet": [
           {
            "aaxis": {
             "endlinecolor": "#2a3f5f",
             "gridcolor": "white",
             "linecolor": "white",
             "minorgridcolor": "white",
             "startlinecolor": "#2a3f5f"
            },
            "baxis": {
             "endlinecolor": "#2a3f5f",
             "gridcolor": "white",
             "linecolor": "white",
             "minorgridcolor": "white",
             "startlinecolor": "#2a3f5f"
            },
            "type": "carpet"
           }
          ],
          "choropleth": [
           {
            "colorbar": {
             "outlinewidth": 0,
             "ticks": ""
            },
            "type": "choropleth"
           }
          ],
          "contour": [
           {
            "colorbar": {
             "outlinewidth": 0,
             "ticks": ""
            },
            "colorscale": [
             [
              0,
              "#0d0887"
             ],
             [
              0.1111111111111111,
              "#46039f"
             ],
             [
              0.2222222222222222,
              "#7201a8"
             ],
             [
              0.3333333333333333,
              "#9c179e"
             ],
             [
              0.4444444444444444,
              "#bd3786"
             ],
             [
              0.5555555555555556,
              "#d8576b"
             ],
             [
              0.6666666666666666,
              "#ed7953"
             ],
             [
              0.7777777777777778,
              "#fb9f3a"
             ],
             [
              0.8888888888888888,
              "#fdca26"
             ],
             [
              1,
              "#f0f921"
             ]
            ],
            "type": "contour"
           }
          ],
          "contourcarpet": [
           {
            "colorbar": {
             "outlinewidth": 0,
             "ticks": ""
            },
            "type": "contourcarpet"
           }
          ],
          "heatmap": [
           {
            "colorbar": {
             "outlinewidth": 0,
             "ticks": ""
            },
            "colorscale": [
             [
              0,
              "#0d0887"
             ],
             [
              0.1111111111111111,
              "#46039f"
             ],
             [
              0.2222222222222222,
              "#7201a8"
             ],
             [
              0.3333333333333333,
              "#9c179e"
             ],
             [
              0.4444444444444444,
              "#bd3786"
             ],
             [
              0.5555555555555556,
              "#d8576b"
             ],
             [
              0.6666666666666666,
              "#ed7953"
             ],
             [
              0.7777777777777778,
              "#fb9f3a"
             ],
             [
              0.8888888888888888,
              "#fdca26"
             ],
             [
              1,
              "#f0f921"
             ]
            ],
            "type": "heatmap"
           }
          ],
          "heatmapgl": [
           {
            "colorbar": {
             "outlinewidth": 0,
             "ticks": ""
            },
            "colorscale": [
             [
              0,
              "#0d0887"
             ],
             [
              0.1111111111111111,
              "#46039f"
             ],
             [
              0.2222222222222222,
              "#7201a8"
             ],
             [
              0.3333333333333333,
              "#9c179e"
             ],
             [
              0.4444444444444444,
              "#bd3786"
             ],
             [
              0.5555555555555556,
              "#d8576b"
             ],
             [
              0.6666666666666666,
              "#ed7953"
             ],
             [
              0.7777777777777778,
              "#fb9f3a"
             ],
             [
              0.8888888888888888,
              "#fdca26"
             ],
             [
              1,
              "#f0f921"
             ]
            ],
            "type": "heatmapgl"
           }
          ],
          "histogram": [
           {
            "marker": {
             "colorbar": {
              "outlinewidth": 0,
              "ticks": ""
             }
            },
            "type": "histogram"
           }
          ],
          "histogram2d": [
           {
            "colorbar": {
             "outlinewidth": 0,
             "ticks": ""
            },
            "colorscale": [
             [
              0,
              "#0d0887"
             ],
             [
              0.1111111111111111,
              "#46039f"
             ],
             [
              0.2222222222222222,
              "#7201a8"
             ],
             [
              0.3333333333333333,
              "#9c179e"
             ],
             [
              0.4444444444444444,
              "#bd3786"
             ],
             [
              0.5555555555555556,
              "#d8576b"
             ],
             [
              0.6666666666666666,
              "#ed7953"
             ],
             [
              0.7777777777777778,
              "#fb9f3a"
             ],
             [
              0.8888888888888888,
              "#fdca26"
             ],
             [
              1,
              "#f0f921"
             ]
            ],
            "type": "histogram2d"
           }
          ],
          "histogram2dcontour": [
           {
            "colorbar": {
             "outlinewidth": 0,
             "ticks": ""
            },
            "colorscale": [
             [
              0,
              "#0d0887"
             ],
             [
              0.1111111111111111,
              "#46039f"
             ],
             [
              0.2222222222222222,
              "#7201a8"
             ],
             [
              0.3333333333333333,
              "#9c179e"
             ],
             [
              0.4444444444444444,
              "#bd3786"
             ],
             [
              0.5555555555555556,
              "#d8576b"
             ],
             [
              0.6666666666666666,
              "#ed7953"
             ],
             [
              0.7777777777777778,
              "#fb9f3a"
             ],
             [
              0.8888888888888888,
              "#fdca26"
             ],
             [
              1,
              "#f0f921"
             ]
            ],
            "type": "histogram2dcontour"
           }
          ],
          "mesh3d": [
           {
            "colorbar": {
             "outlinewidth": 0,
             "ticks": ""
            },
            "type": "mesh3d"
           }
          ],
          "parcoords": [
           {
            "line": {
             "colorbar": {
              "outlinewidth": 0,
              "ticks": ""
             }
            },
            "type": "parcoords"
           }
          ],
          "pie": [
           {
            "automargin": true,
            "type": "pie"
           }
          ],
          "scatter": [
           {
            "marker": {
             "colorbar": {
              "outlinewidth": 0,
              "ticks": ""
             }
            },
            "type": "scatter"
           }
          ],
          "scatter3d": [
           {
            "line": {
             "colorbar": {
              "outlinewidth": 0,
              "ticks": ""
             }
            },
            "marker": {
             "colorbar": {
              "outlinewidth": 0,
              "ticks": ""
             }
            },
            "type": "scatter3d"
           }
          ],
          "scattercarpet": [
           {
            "marker": {
             "colorbar": {
              "outlinewidth": 0,
              "ticks": ""
             }
            },
            "type": "scattercarpet"
           }
          ],
          "scattergeo": [
           {
            "marker": {
             "colorbar": {
              "outlinewidth": 0,
              "ticks": ""
             }
            },
            "type": "scattergeo"
           }
          ],
          "scattergl": [
           {
            "marker": {
             "colorbar": {
              "outlinewidth": 0,
              "ticks": ""
             }
            },
            "type": "scattergl"
           }
          ],
          "scattermapbox": [
           {
            "marker": {
             "colorbar": {
              "outlinewidth": 0,
              "ticks": ""
             }
            },
            "type": "scattermapbox"
           }
          ],
          "scatterpolar": [
           {
            "marker": {
             "colorbar": {
              "outlinewidth": 0,
              "ticks": ""
             }
            },
            "type": "scatterpolar"
           }
          ],
          "scatterpolargl": [
           {
            "marker": {
             "colorbar": {
              "outlinewidth": 0,
              "ticks": ""
             }
            },
            "type": "scatterpolargl"
           }
          ],
          "scatterternary": [
           {
            "marker": {
             "colorbar": {
              "outlinewidth": 0,
              "ticks": ""
             }
            },
            "type": "scatterternary"
           }
          ],
          "surface": [
           {
            "colorbar": {
             "outlinewidth": 0,
             "ticks": ""
            },
            "colorscale": [
             [
              0,
              "#0d0887"
             ],
             [
              0.1111111111111111,
              "#46039f"
             ],
             [
              0.2222222222222222,
              "#7201a8"
             ],
             [
              0.3333333333333333,
              "#9c179e"
             ],
             [
              0.4444444444444444,
              "#bd3786"
             ],
             [
              0.5555555555555556,
              "#d8576b"
             ],
             [
              0.6666666666666666,
              "#ed7953"
             ],
             [
              0.7777777777777778,
              "#fb9f3a"
             ],
             [
              0.8888888888888888,
              "#fdca26"
             ],
             [
              1,
              "#f0f921"
             ]
            ],
            "type": "surface"
           }
          ],
          "table": [
           {
            "cells": {
             "fill": {
              "color": "#EBF0F8"
             },
             "line": {
              "color": "white"
             }
            },
            "header": {
             "fill": {
              "color": "#C8D4E3"
             },
             "line": {
              "color": "white"
             }
            },
            "type": "table"
           }
          ]
         },
         "layout": {
          "annotationdefaults": {
           "arrowcolor": "#2a3f5f",
           "arrowhead": 0,
           "arrowwidth": 1
          },
          "coloraxis": {
           "colorbar": {
            "outlinewidth": 0,
            "ticks": ""
           }
          },
          "colorscale": {
           "diverging": [
            [
             0,
             "#8e0152"
            ],
            [
             0.1,
             "#c51b7d"
            ],
            [
             0.2,
             "#de77ae"
            ],
            [
             0.3,
             "#f1b6da"
            ],
            [
             0.4,
             "#fde0ef"
            ],
            [
             0.5,
             "#f7f7f7"
            ],
            [
             0.6,
             "#e6f5d0"
            ],
            [
             0.7,
             "#b8e186"
            ],
            [
             0.8,
             "#7fbc41"
            ],
            [
             0.9,
             "#4d9221"
            ],
            [
             1,
             "#276419"
            ]
           ],
           "sequential": [
            [
             0,
             "#0d0887"
            ],
            [
             0.1111111111111111,
             "#46039f"
            ],
            [
             0.2222222222222222,
             "#7201a8"
            ],
            [
             0.3333333333333333,
             "#9c179e"
            ],
            [
             0.4444444444444444,
             "#bd3786"
            ],
            [
             0.5555555555555556,
             "#d8576b"
            ],
            [
             0.6666666666666666,
             "#ed7953"
            ],
            [
             0.7777777777777778,
             "#fb9f3a"
            ],
            [
             0.8888888888888888,
             "#fdca26"
            ],
            [
             1,
             "#f0f921"
            ]
           ],
           "sequentialminus": [
            [
             0,
             "#0d0887"
            ],
            [
             0.1111111111111111,
             "#46039f"
            ],
            [
             0.2222222222222222,
             "#7201a8"
            ],
            [
             0.3333333333333333,
             "#9c179e"
            ],
            [
             0.4444444444444444,
             "#bd3786"
            ],
            [
             0.5555555555555556,
             "#d8576b"
            ],
            [
             0.6666666666666666,
             "#ed7953"
            ],
            [
             0.7777777777777778,
             "#fb9f3a"
            ],
            [
             0.8888888888888888,
             "#fdca26"
            ],
            [
             1,
             "#f0f921"
            ]
           ]
          },
          "colorway": [
           "#636efa",
           "#EF553B",
           "#00cc96",
           "#ab63fa",
           "#FFA15A",
           "#19d3f3",
           "#FF6692",
           "#B6E880",
           "#FF97FF",
           "#FECB52"
          ],
          "font": {
           "color": "#2a3f5f"
          },
          "geo": {
           "bgcolor": "white",
           "lakecolor": "white",
           "landcolor": "#E5ECF6",
           "showlakes": true,
           "showland": true,
           "subunitcolor": "white"
          },
          "hoverlabel": {
           "align": "left"
          },
          "hovermode": "closest",
          "mapbox": {
           "style": "light"
          },
          "paper_bgcolor": "white",
          "plot_bgcolor": "#E5ECF6",
          "polar": {
           "angularaxis": {
            "gridcolor": "white",
            "linecolor": "white",
            "ticks": ""
           },
           "bgcolor": "#E5ECF6",
           "radialaxis": {
            "gridcolor": "white",
            "linecolor": "white",
            "ticks": ""
           }
          },
          "scene": {
           "xaxis": {
            "backgroundcolor": "#E5ECF6",
            "gridcolor": "white",
            "gridwidth": 2,
            "linecolor": "white",
            "showbackground": true,
            "ticks": "",
            "zerolinecolor": "white"
           },
           "yaxis": {
            "backgroundcolor": "#E5ECF6",
            "gridcolor": "white",
            "gridwidth": 2,
            "linecolor": "white",
            "showbackground": true,
            "ticks": "",
            "zerolinecolor": "white"
           },
           "zaxis": {
            "backgroundcolor": "#E5ECF6",
            "gridcolor": "white",
            "gridwidth": 2,
            "linecolor": "white",
            "showbackground": true,
            "ticks": "",
            "zerolinecolor": "white"
           }
          },
          "shapedefaults": {
           "line": {
            "color": "#2a3f5f"
           }
          },
          "ternary": {
           "aaxis": {
            "gridcolor": "white",
            "linecolor": "white",
            "ticks": ""
           },
           "baxis": {
            "gridcolor": "white",
            "linecolor": "white",
            "ticks": ""
           },
           "bgcolor": "#E5ECF6",
           "caxis": {
            "gridcolor": "white",
            "linecolor": "white",
            "ticks": ""
           }
          },
          "title": {
           "x": 0.05
          },
          "xaxis": {
           "automargin": true,
           "gridcolor": "white",
           "linecolor": "white",
           "ticks": "",
           "title": {
            "standoff": 15
           },
           "zerolinecolor": "white",
           "zerolinewidth": 2
          },
          "yaxis": {
           "automargin": true,
           "gridcolor": "white",
           "linecolor": "white",
           "ticks": "",
           "title": {
            "standoff": 15
           },
           "zerolinecolor": "white",
           "zerolinewidth": 2
          }
         }
        },
        "title": {
         "text": "Genre's percentage in the dataset"
        }
       }
      },
      "text/html": [
       "<div>                            <div id=\"73d5dc82-c385-42c7-b563-f1c2e442dcc4\" class=\"plotly-graph-div\" style=\"height:525px; width:100%;\"></div>            <script type=\"text/javascript\">                require([\"plotly\"], function(Plotly) {                    window.PLOTLYENV=window.PLOTLYENV || {};                                    if (document.getElementById(\"73d5dc82-c385-42c7-b563-f1c2e442dcc4\")) {                    Plotly.newPlot(                        \"73d5dc82-c385-42c7-b563-f1c2e442dcc4\",                        [{\"domain\": {\"x\": [0.0, 1.0], \"y\": [0.0, 1.0]}, \"hole\": 0.3, \"hovertemplate\": \"genre=%{label}<br>count=%{value}<extra></extra>\", \"labels\": [\"pop\", \"rap\", \"dance pop\", \"modern rock\", \"r&b\", \"rock\", \"neo mellow\", \"trap latino\", \"edm\", \"pop rap\", \"others\", \"others\", \"others\", \"others\", \"others\", \"others\", \"others\", \"others\", \"others\", \"others\", \"others\", \"others\", \"others\", \"others\", \"others\", \"others\", \"others\", \"others\", \"others\", \"others\", \"others\", \"others\", \"others\", \"others\", \"others\", \"others\", \"others\", \"others\", \"others\", \"others\", \"others\", \"others\", \"others\", \"others\", \"others\", \"others\", \"others\", \"others\", \"others\", \"others\", \"others\", \"others\", \"others\", \"others\", \"others\", \"others\", \"others\", \"others\", \"others\", \"others\", \"others\", \"others\", \"others\", \"others\", \"others\", \"others\", \"others\", \"others\", \"others\", \"others\", \"others\", \"others\", \"others\", \"others\", \"others\", \"others\", \"others\", \"others\", \"others\", \"others\", \"others\", \"others\", \"others\", \"others\", \"others\", \"others\", \"others\", \"others\", \"others\", \"others\", \"others\", \"others\", \"others\", \"others\", \"others\", \"others\", \"others\", \"others\", \"others\", \"others\", \"others\", \"others\", \"others\", \"others\", \"others\", \"others\", \"others\", \"others\", \"others\", \"others\", \"others\", \"others\", \"others\", \"others\", \"others\", \"others\", \"others\", \"others\", \"others\", \"others\", \"others\", \"others\", \"others\", \"others\", \"others\", \"others\", \"others\", \"others\", \"others\", \"others\", \"others\", \"others\", \"others\", \"others\", \"others\", \"others\", \"others\", \"others\", \"others\", \"others\", \"others\", \"others\", \"others\", \"others\", \"others\", \"others\", \"others\", \"others\"], \"legendgroup\": \"\", \"name\": \"\", \"showlegend\": true, \"textinfo\": \"percent+label\", \"textposition\": \"inside\", \"type\": \"pie\", \"values\": [994, 284, 166, 102, 61, 50, 49, 38, 35, 35, 28, 24, 24, 20, 17, 15, 15, 14, 13, 10, 10, 9, 9, 9, 8, 8, 7, 7, 7, 7, 7, 6, 6, 6, 6, 5, 5, 5, 5, 5, 5, 4, 4, 4, 4, 4, 4, 4, 3, 3, 3, 3, 3, 3, 3, 3, 3, 3, 2, 2, 2, 2, 2, 2, 2, 2, 2, 2, 2, 2, 2, 2, 2, 2, 1, 1, 1, 1, 1, 1, 1, 1, 1, 1, 1, 1, 1, 1, 1, 1, 1, 1, 1, 1, 1, 1, 1, 1, 1, 1, 1, 1, 1, 1, 1, 1, 1, 1, 1, 1, 1, 1, 1, 1, 1, 1, 1, 1, 1, 1, 1, 1, 1, 1, 1, 1, 1, 1, 1, 1, 1, 1, 1, 1, 1, 1, 1, 1, 1, 1, 1, 1, 1, 1, 1, 1, 1, 1]}],                        {\"legend\": {\"tracegroupgap\": 0}, \"template\": {\"data\": {\"bar\": [{\"error_x\": {\"color\": \"#2a3f5f\"}, \"error_y\": {\"color\": \"#2a3f5f\"}, \"marker\": {\"line\": {\"color\": \"#E5ECF6\", \"width\": 0.5}}, \"type\": \"bar\"}], \"barpolar\": [{\"marker\": {\"line\": {\"color\": \"#E5ECF6\", \"width\": 0.5}}, \"type\": \"barpolar\"}], \"carpet\": [{\"aaxis\": {\"endlinecolor\": \"#2a3f5f\", \"gridcolor\": \"white\", \"linecolor\": \"white\", \"minorgridcolor\": \"white\", \"startlinecolor\": \"#2a3f5f\"}, \"baxis\": {\"endlinecolor\": \"#2a3f5f\", \"gridcolor\": \"white\", \"linecolor\": \"white\", \"minorgridcolor\": \"white\", \"startlinecolor\": \"#2a3f5f\"}, \"type\": \"carpet\"}], \"choropleth\": [{\"colorbar\": {\"outlinewidth\": 0, \"ticks\": \"\"}, \"type\": \"choropleth\"}], \"contour\": [{\"colorbar\": {\"outlinewidth\": 0, \"ticks\": \"\"}, \"colorscale\": [[0.0, \"#0d0887\"], [0.1111111111111111, \"#46039f\"], [0.2222222222222222, \"#7201a8\"], [0.3333333333333333, \"#9c179e\"], [0.4444444444444444, \"#bd3786\"], [0.5555555555555556, \"#d8576b\"], [0.6666666666666666, \"#ed7953\"], [0.7777777777777778, \"#fb9f3a\"], [0.8888888888888888, \"#fdca26\"], [1.0, \"#f0f921\"]], \"type\": \"contour\"}], \"contourcarpet\": [{\"colorbar\": {\"outlinewidth\": 0, \"ticks\": \"\"}, \"type\": \"contourcarpet\"}], \"heatmap\": [{\"colorbar\": {\"outlinewidth\": 0, \"ticks\": \"\"}, \"colorscale\": [[0.0, \"#0d0887\"], [0.1111111111111111, \"#46039f\"], [0.2222222222222222, \"#7201a8\"], [0.3333333333333333, \"#9c179e\"], [0.4444444444444444, \"#bd3786\"], [0.5555555555555556, \"#d8576b\"], [0.6666666666666666, \"#ed7953\"], [0.7777777777777778, \"#fb9f3a\"], [0.8888888888888888, \"#fdca26\"], [1.0, \"#f0f921\"]], \"type\": \"heatmap\"}], \"heatmapgl\": [{\"colorbar\": {\"outlinewidth\": 0, \"ticks\": \"\"}, \"colorscale\": [[0.0, \"#0d0887\"], [0.1111111111111111, \"#46039f\"], [0.2222222222222222, \"#7201a8\"], [0.3333333333333333, \"#9c179e\"], [0.4444444444444444, \"#bd3786\"], [0.5555555555555556, \"#d8576b\"], [0.6666666666666666, \"#ed7953\"], [0.7777777777777778, \"#fb9f3a\"], [0.8888888888888888, \"#fdca26\"], [1.0, \"#f0f921\"]], \"type\": \"heatmapgl\"}], \"histogram\": [{\"marker\": {\"colorbar\": {\"outlinewidth\": 0, \"ticks\": \"\"}}, \"type\": \"histogram\"}], \"histogram2d\": [{\"colorbar\": {\"outlinewidth\": 0, \"ticks\": \"\"}, \"colorscale\": [[0.0, \"#0d0887\"], [0.1111111111111111, \"#46039f\"], [0.2222222222222222, \"#7201a8\"], [0.3333333333333333, \"#9c179e\"], [0.4444444444444444, \"#bd3786\"], [0.5555555555555556, \"#d8576b\"], [0.6666666666666666, \"#ed7953\"], [0.7777777777777778, \"#fb9f3a\"], [0.8888888888888888, \"#fdca26\"], [1.0, \"#f0f921\"]], \"type\": \"histogram2d\"}], \"histogram2dcontour\": [{\"colorbar\": {\"outlinewidth\": 0, \"ticks\": \"\"}, \"colorscale\": [[0.0, \"#0d0887\"], [0.1111111111111111, \"#46039f\"], [0.2222222222222222, \"#7201a8\"], [0.3333333333333333, \"#9c179e\"], [0.4444444444444444, \"#bd3786\"], [0.5555555555555556, \"#d8576b\"], [0.6666666666666666, \"#ed7953\"], [0.7777777777777778, \"#fb9f3a\"], [0.8888888888888888, \"#fdca26\"], [1.0, \"#f0f921\"]], \"type\": \"histogram2dcontour\"}], \"mesh3d\": [{\"colorbar\": {\"outlinewidth\": 0, \"ticks\": \"\"}, \"type\": \"mesh3d\"}], \"parcoords\": [{\"line\": {\"colorbar\": {\"outlinewidth\": 0, \"ticks\": \"\"}}, \"type\": \"parcoords\"}], \"pie\": [{\"automargin\": true, \"type\": \"pie\"}], \"scatter\": [{\"marker\": {\"colorbar\": {\"outlinewidth\": 0, \"ticks\": \"\"}}, \"type\": \"scatter\"}], \"scatter3d\": [{\"line\": {\"colorbar\": {\"outlinewidth\": 0, \"ticks\": \"\"}}, \"marker\": {\"colorbar\": {\"outlinewidth\": 0, \"ticks\": \"\"}}, \"type\": \"scatter3d\"}], \"scattercarpet\": [{\"marker\": {\"colorbar\": {\"outlinewidth\": 0, \"ticks\": \"\"}}, \"type\": \"scattercarpet\"}], \"scattergeo\": [{\"marker\": {\"colorbar\": {\"outlinewidth\": 0, \"ticks\": \"\"}}, \"type\": \"scattergeo\"}], \"scattergl\": [{\"marker\": {\"colorbar\": {\"outlinewidth\": 0, \"ticks\": \"\"}}, \"type\": \"scattergl\"}], \"scattermapbox\": [{\"marker\": {\"colorbar\": {\"outlinewidth\": 0, \"ticks\": \"\"}}, \"type\": \"scattermapbox\"}], \"scatterpolar\": [{\"marker\": {\"colorbar\": {\"outlinewidth\": 0, \"ticks\": \"\"}}, \"type\": \"scatterpolar\"}], \"scatterpolargl\": [{\"marker\": {\"colorbar\": {\"outlinewidth\": 0, \"ticks\": \"\"}}, \"type\": \"scatterpolargl\"}], \"scatterternary\": [{\"marker\": {\"colorbar\": {\"outlinewidth\": 0, \"ticks\": \"\"}}, \"type\": \"scatterternary\"}], \"surface\": [{\"colorbar\": {\"outlinewidth\": 0, \"ticks\": \"\"}, \"colorscale\": [[0.0, \"#0d0887\"], [0.1111111111111111, \"#46039f\"], [0.2222222222222222, \"#7201a8\"], [0.3333333333333333, \"#9c179e\"], [0.4444444444444444, \"#bd3786\"], [0.5555555555555556, \"#d8576b\"], [0.6666666666666666, \"#ed7953\"], [0.7777777777777778, \"#fb9f3a\"], [0.8888888888888888, \"#fdca26\"], [1.0, \"#f0f921\"]], \"type\": \"surface\"}], \"table\": [{\"cells\": {\"fill\": {\"color\": \"#EBF0F8\"}, \"line\": {\"color\": \"white\"}}, \"header\": {\"fill\": {\"color\": \"#C8D4E3\"}, \"line\": {\"color\": \"white\"}}, \"type\": \"table\"}]}, \"layout\": {\"annotationdefaults\": {\"arrowcolor\": \"#2a3f5f\", \"arrowhead\": 0, \"arrowwidth\": 1}, \"coloraxis\": {\"colorbar\": {\"outlinewidth\": 0, \"ticks\": \"\"}}, \"colorscale\": {\"diverging\": [[0, \"#8e0152\"], [0.1, \"#c51b7d\"], [0.2, \"#de77ae\"], [0.3, \"#f1b6da\"], [0.4, \"#fde0ef\"], [0.5, \"#f7f7f7\"], [0.6, \"#e6f5d0\"], [0.7, \"#b8e186\"], [0.8, \"#7fbc41\"], [0.9, \"#4d9221\"], [1, \"#276419\"]], \"sequential\": [[0.0, \"#0d0887\"], [0.1111111111111111, \"#46039f\"], [0.2222222222222222, \"#7201a8\"], [0.3333333333333333, \"#9c179e\"], [0.4444444444444444, \"#bd3786\"], [0.5555555555555556, \"#d8576b\"], [0.6666666666666666, \"#ed7953\"], [0.7777777777777778, \"#fb9f3a\"], [0.8888888888888888, \"#fdca26\"], [1.0, \"#f0f921\"]], \"sequentialminus\": [[0.0, \"#0d0887\"], [0.1111111111111111, \"#46039f\"], [0.2222222222222222, \"#7201a8\"], [0.3333333333333333, \"#9c179e\"], [0.4444444444444444, \"#bd3786\"], [0.5555555555555556, \"#d8576b\"], [0.6666666666666666, \"#ed7953\"], [0.7777777777777778, \"#fb9f3a\"], [0.8888888888888888, \"#fdca26\"], [1.0, \"#f0f921\"]]}, \"colorway\": [\"#636efa\", \"#EF553B\", \"#00cc96\", \"#ab63fa\", \"#FFA15A\", \"#19d3f3\", \"#FF6692\", \"#B6E880\", \"#FF97FF\", \"#FECB52\"], \"font\": {\"color\": \"#2a3f5f\"}, \"geo\": {\"bgcolor\": \"white\", \"lakecolor\": \"white\", \"landcolor\": \"#E5ECF6\", \"showlakes\": true, \"showland\": true, \"subunitcolor\": \"white\"}, \"hoverlabel\": {\"align\": \"left\"}, \"hovermode\": \"closest\", \"mapbox\": {\"style\": \"light\"}, \"paper_bgcolor\": \"white\", \"plot_bgcolor\": \"#E5ECF6\", \"polar\": {\"angularaxis\": {\"gridcolor\": \"white\", \"linecolor\": \"white\", \"ticks\": \"\"}, \"bgcolor\": \"#E5ECF6\", \"radialaxis\": {\"gridcolor\": \"white\", \"linecolor\": \"white\", \"ticks\": \"\"}}, \"scene\": {\"xaxis\": {\"backgroundcolor\": \"#E5ECF6\", \"gridcolor\": \"white\", \"gridwidth\": 2, \"linecolor\": \"white\", \"showbackground\": true, \"ticks\": \"\", \"zerolinecolor\": \"white\"}, \"yaxis\": {\"backgroundcolor\": \"#E5ECF6\", \"gridcolor\": \"white\", \"gridwidth\": 2, \"linecolor\": \"white\", \"showbackground\": true, \"ticks\": \"\", \"zerolinecolor\": \"white\"}, \"zaxis\": {\"backgroundcolor\": \"#E5ECF6\", \"gridcolor\": \"white\", \"gridwidth\": 2, \"linecolor\": \"white\", \"showbackground\": true, \"ticks\": \"\", \"zerolinecolor\": \"white\"}}, \"shapedefaults\": {\"line\": {\"color\": \"#2a3f5f\"}}, \"ternary\": {\"aaxis\": {\"gridcolor\": \"white\", \"linecolor\": \"white\", \"ticks\": \"\"}, \"baxis\": {\"gridcolor\": \"white\", \"linecolor\": \"white\", \"ticks\": \"\"}, \"bgcolor\": \"#E5ECF6\", \"caxis\": {\"gridcolor\": \"white\", \"linecolor\": \"white\", \"ticks\": \"\"}}, \"title\": {\"x\": 0.05}, \"xaxis\": {\"automargin\": true, \"gridcolor\": \"white\", \"linecolor\": \"white\", \"ticks\": \"\", \"title\": {\"standoff\": 15}, \"zerolinecolor\": \"white\", \"zerolinewidth\": 2}, \"yaxis\": {\"automargin\": true, \"gridcolor\": \"white\", \"linecolor\": \"white\", \"ticks\": \"\", \"title\": {\"standoff\": 15}, \"zerolinecolor\": \"white\", \"zerolinewidth\": 2}}}, \"title\": {\"text\": \"Genre's percentage in the dataset\"}},                        {\"responsive\": true}                    ).then(function(){\n",
       "                            \n",
       "var gd = document.getElementById('73d5dc82-c385-42c7-b563-f1c2e442dcc4');\n",
       "var x = new MutationObserver(function (mutations, observer) {{\n",
       "        var display = window.getComputedStyle(gd).display;\n",
       "        if (!display || display === 'none') {{\n",
       "            console.log([gd, 'removed!']);\n",
       "            Plotly.purge(gd);\n",
       "            observer.disconnect();\n",
       "        }}\n",
       "}});\n",
       "\n",
       "// Listen for the removal of the full notebook cells\n",
       "var notebookContainer = gd.closest('#notebook-container');\n",
       "if (notebookContainer) {{\n",
       "    x.observe(notebookContainer, {childList: true});\n",
       "}}\n",
       "\n",
       "// Listen for the clearing of the current output cell\n",
       "var outputEl = gd.closest('.output');\n",
       "if (outputEl) {{\n",
       "    x.observe(outputEl, {childList: true});\n",
       "}}\n",
       "\n",
       "                        })                };                });            </script>        </div>"
      ]
     },
     "metadata": {},
     "output_type": "display_data"
    },
    {
     "data": {
      "application/javascript": [
       "\n",
       "            setTimeout(function() {\n",
       "                var nbb_cell_id = 234;\n",
       "                var nbb_unformatted_code = \"px.pie(\\n    ogdf,\\n    values=\\\"count\\\",\\n    names=\\\"genre\\\",\\n    title=\\\"Genre's percentage in the dataset\\\",\\n    hole=0.3,\\n).update_traces(textposition='inside', textinfo='percent+label')\";\n",
       "                var nbb_formatted_code = \"px.pie(\\n    ogdf,\\n    values=\\\"count\\\",\\n    names=\\\"genre\\\",\\n    title=\\\"Genre's percentage in the dataset\\\",\\n    hole=0.3,\\n).update_traces(textposition=\\\"inside\\\", textinfo=\\\"percent+label\\\")\";\n",
       "                var nbb_cells = Jupyter.notebook.get_cells();\n",
       "                for (var i = 0; i < nbb_cells.length; ++i) {\n",
       "                    if (nbb_cells[i].input_prompt_number == nbb_cell_id) {\n",
       "                        if (nbb_cells[i].get_text() == nbb_unformatted_code) {\n",
       "                             nbb_cells[i].set_text(nbb_formatted_code);\n",
       "                        }\n",
       "                        break;\n",
       "                    }\n",
       "                }\n",
       "            }, 500);\n",
       "            "
      ],
      "text/plain": [
       "<IPython.core.display.Javascript object>"
      ]
     },
     "metadata": {},
     "output_type": "display_data"
    }
   ],
   "source": [
    "px.pie(\n",
    "    ogdf,\n",
    "    values=\"count\",\n",
    "    names=\"genre\",\n",
    "    title=\"Genre's percentage in the dataset\",\n",
    "    hole=0.3,\n",
    ").update_traces(textposition=\"inside\", textinfo=\"percent+label\")"
   ]
  },
  {
   "cell_type": "markdown",
   "metadata": {},
   "source": [
    "### Line plots"
   ]
  },
  {
   "cell_type": "code",
   "execution_count": 159,
   "metadata": {},
   "outputs": [
    {
     "data": {
      "text/html": [
       "<div>\n",
       "<style scoped>\n",
       "    .dataframe tbody tr th:only-of-type {\n",
       "        vertical-align: middle;\n",
       "    }\n",
       "\n",
       "    .dataframe tbody tr th {\n",
       "        vertical-align: top;\n",
       "    }\n",
       "\n",
       "    .dataframe thead th {\n",
       "        text-align: right;\n",
       "    }\n",
       "</style>\n",
       "<table border=\"1\" class=\"dataframe\">\n",
       "  <thead>\n",
       "    <tr style=\"text-align: right;\">\n",
       "      <th></th>\n",
       "      <th>only_one_genre</th>\n",
       "      <th>year</th>\n",
       "      <th>track_popularity</th>\n",
       "    </tr>\n",
       "  </thead>\n",
       "  <tbody>\n",
       "    <tr>\n",
       "      <th>0</th>\n",
       "      <td>dance pop</td>\n",
       "      <td>2000</td>\n",
       "      <td>63.428571</td>\n",
       "    </tr>\n",
       "    <tr>\n",
       "      <th>1</th>\n",
       "      <td>dance pop</td>\n",
       "      <td>2001</td>\n",
       "      <td>67.500000</td>\n",
       "    </tr>\n",
       "    <tr>\n",
       "      <th>2</th>\n",
       "      <td>dance pop</td>\n",
       "      <td>2002</td>\n",
       "      <td>64.120000</td>\n",
       "    </tr>\n",
       "    <tr>\n",
       "      <th>3</th>\n",
       "      <td>dance pop</td>\n",
       "      <td>2003</td>\n",
       "      <td>59.117647</td>\n",
       "    </tr>\n",
       "    <tr>\n",
       "      <th>4</th>\n",
       "      <td>dance pop</td>\n",
       "      <td>2004</td>\n",
       "      <td>58.166667</td>\n",
       "    </tr>\n",
       "  </tbody>\n",
       "</table>\n",
       "</div>"
      ],
      "text/plain": [
       "  only_one_genre  year  track_popularity\n",
       "0      dance pop  2000         63.428571\n",
       "1      dance pop  2001         67.500000\n",
       "2      dance pop  2002         64.120000\n",
       "3      dance pop  2003         59.117647\n",
       "4      dance pop  2004         58.166667"
      ]
     },
     "execution_count": 159,
     "metadata": {},
     "output_type": "execute_result"
    },
    {
     "data": {
      "application/javascript": [
       "\n",
       "            setTimeout(function() {\n",
       "                var nbb_cell_id = 159;\n",
       "                var nbb_unformatted_code = \"gydf = df[df.only_one_genre.isin(target_genres)][target_columns].groupby(\\n    by=[\\\"only_one_genre\\\", \\\"year\\\"], as_index=False\\n).mean()\\n\\ngydf.head()\";\n",
       "                var nbb_formatted_code = \"gydf = (\\n    df[df.only_one_genre.isin(target_genres)][target_columns]\\n    .groupby(by=[\\\"only_one_genre\\\", \\\"year\\\"], as_index=False)\\n    .mean()\\n)\\n\\ngydf.head()\";\n",
       "                var nbb_cells = Jupyter.notebook.get_cells();\n",
       "                for (var i = 0; i < nbb_cells.length; ++i) {\n",
       "                    if (nbb_cells[i].input_prompt_number == nbb_cell_id) {\n",
       "                        if (nbb_cells[i].get_text() == nbb_unformatted_code) {\n",
       "                             nbb_cells[i].set_text(nbb_formatted_code);\n",
       "                        }\n",
       "                        break;\n",
       "                    }\n",
       "                }\n",
       "            }, 500);\n",
       "            "
      ],
      "text/plain": [
       "<IPython.core.display.Javascript object>"
      ]
     },
     "metadata": {},
     "output_type": "display_data"
    }
   ],
   "source": [
    "target_columns = [\"only_one_genre\", \"year\", \"track_popularity\"]\n",
    "target_genres = df.only_one_genre.value_counts()[:10].index\n",
    "target_genres\n",
    "\n",
    "gydf = (\n",
    "    df[df.only_one_genre.isin(target_genres)][target_columns]\n",
    "    .groupby(by=[\"only_one_genre\", \"year\"], as_index=False)\n",
    "    .mean()\n",
    ")\n",
    "\n",
    "gydf.head()"
   ]
  },
  {
   "cell_type": "code",
   "execution_count": 164,
   "metadata": {},
   "outputs": [
    {
     "data": {
      "application/vnd.plotly.v1+json": {
       "config": {
        "plotlyServerURL": "https://plot.ly"
       },
       "data": [
        {
         "hovertemplate": "only_one_genre=dance pop<br>year=%{x}<br>track_popularity=%{y}<extra></extra>",
         "legendgroup": "dance pop",
         "line": {
          "color": "#636efa",
          "dash": "solid"
         },
         "mode": "lines",
         "name": "dance pop",
         "orientation": "v",
         "showlegend": true,
         "type": "scatter",
         "x": [
          2000,
          2001,
          2002,
          2003,
          2004,
          2005,
          2006,
          2007,
          2008,
          2009,
          2010,
          2011,
          2012,
          2013,
          2014,
          2015,
          2016,
          2017,
          2020,
          2021
         ],
         "xaxis": "x",
         "y": [
          63.42857142857143,
          67.5,
          64.12,
          59.11764705882353,
          58.166666666666664,
          68.55555555555556,
          63.54545454545455,
          68.5,
          68.5,
          65.625,
          66.47058823529412,
          71,
          68,
          66.33333333333333,
          64.8,
          69.66666666666667,
          68,
          72,
          81,
          81
         ],
         "yaxis": "y"
        },
        {
         "hovertemplate": "only_one_genre=edm<br>year=%{x}<br>track_popularity=%{y}<extra></extra>",
         "legendgroup": "edm",
         "line": {
          "color": "#EF553B",
          "dash": "solid"
         },
         "mode": "lines",
         "name": "edm",
         "orientation": "v",
         "showlegend": true,
         "type": "scatter",
         "x": [
          2003,
          2004,
          2007,
          2008,
          2010,
          2011,
          2012,
          2013,
          2014,
          2015,
          2016,
          2017,
          2018,
          2019,
          2021,
          2022
         ],
         "xaxis": "x",
         "y": [
          68,
          77,
          57,
          71,
          56,
          70,
          74.75,
          69,
          65.2,
          76.25,
          76,
          82,
          78,
          73.5,
          80,
          87
         ],
         "yaxis": "y"
        },
        {
         "hovertemplate": "only_one_genre=modern rock<br>year=%{x}<br>track_popularity=%{y}<extra></extra>",
         "legendgroup": "modern rock",
         "line": {
          "color": "#00cc96",
          "dash": "solid"
         },
         "mode": "lines",
         "name": "modern rock",
         "orientation": "v",
         "showlegend": true,
         "type": "scatter",
         "x": [
          2000,
          2001,
          2002,
          2003,
          2004,
          2005,
          2006,
          2007,
          2008,
          2009,
          2010,
          2011,
          2012,
          2013,
          2014,
          2015,
          2016,
          2017,
          2018,
          2021,
          2022
         ],
         "xaxis": "x",
         "y": [
          84,
          76.5,
          61,
          75.66666666666667,
          78,
          75.81818181818181,
          66.66666666666667,
          73.71428571428571,
          77.42857142857143,
          73.6,
          74,
          72.75,
          74,
          80.22222222222223,
          76.66666666666667,
          78.4,
          74.8,
          77,
          74,
          91,
          40
         ],
         "yaxis": "y"
        },
        {
         "hovertemplate": "only_one_genre=neo mellow<br>year=%{x}<br>track_popularity=%{y}<extra></extra>",
         "legendgroup": "neo mellow",
         "line": {
          "color": "#ab63fa",
          "dash": "solid"
         },
         "mode": "lines",
         "name": "neo mellow",
         "orientation": "v",
         "showlegend": true,
         "type": "scatter",
         "x": [
          2000,
          2001,
          2002,
          2003,
          2004,
          2005,
          2006,
          2007,
          2008,
          2009,
          2010,
          2011,
          2012,
          2013,
          2014,
          2015
         ],
         "xaxis": "x",
         "y": [
          62,
          70.75,
          68.8,
          76,
          68.2,
          70.57142857142857,
          66.83333333333333,
          63,
          71.33333333333333,
          52,
          62.25,
          65,
          71.66666666666667,
          75,
          75,
          73
         ],
         "yaxis": "y"
        },
        {
         "hovertemplate": "only_one_genre=pop<br>year=%{x}<br>track_popularity=%{y}<extra></extra>",
         "legendgroup": "pop",
         "line": {
          "color": "#FFA15A",
          "dash": "solid"
         },
         "mode": "lines",
         "name": "pop",
         "orientation": "v",
         "showlegend": true,
         "type": "scatter",
         "x": [
          2000,
          2001,
          2002,
          2003,
          2004,
          2005,
          2006,
          2007,
          2008,
          2009,
          2010,
          2011,
          2012,
          2013,
          2014,
          2015,
          2016,
          2017,
          2018,
          2019,
          2020,
          2021,
          2022
         ],
         "xaxis": "x",
         "y": [
          67.33333333333333,
          69.29411764705883,
          67.71428571428571,
          68.1875,
          70.3913043478261,
          68.76666666666667,
          71.93103448275862,
          72.9375,
          71.94594594594595,
          71.31818181818181,
          71.29787234042553,
          72.84313725490196,
          73.95161290322581,
          74.34482758620689,
          75.13636363636364,
          77.3,
          76.36507936507937,
          79.85454545454546,
          77.28888888888889,
          78.48076923076923,
          65.65454545454546,
          61.28813559322034,
          77.96296296296296
         ],
         "yaxis": "y"
        },
        {
         "hovertemplate": "only_one_genre=pop rap<br>year=%{x}<br>track_popularity=%{y}<extra></extra>",
         "legendgroup": "pop rap",
         "line": {
          "color": "#19d3f3",
          "dash": "solid"
         },
         "mode": "lines",
         "name": "pop rap",
         "orientation": "v",
         "showlegend": true,
         "type": "scatter",
         "x": [
          2001,
          2003,
          2004,
          2005,
          2006,
          2007,
          2008,
          2009,
          2010,
          2011,
          2013,
          2014,
          2015,
          2017,
          2018,
          2020,
          2021
         ],
         "xaxis": "x",
         "y": [
          80,
          59.666666666666664,
          64,
          61.5,
          64,
          57.5,
          66,
          70,
          72.5,
          73,
          76,
          75,
          77,
          75,
          72,
          34.25,
          78.5
         ],
         "yaxis": "y"
        },
        {
         "hovertemplate": "only_one_genre=r&b<br>year=%{x}<br>track_popularity=%{y}<extra></extra>",
         "legendgroup": "r&b",
         "line": {
          "color": "#FF6692",
          "dash": "solid"
         },
         "mode": "lines",
         "name": "r&b",
         "orientation": "v",
         "showlegend": true,
         "type": "scatter",
         "x": [
          2000,
          2001,
          2002,
          2003,
          2004,
          2005,
          2006,
          2007,
          2008,
          2009,
          2010,
          2011,
          2012,
          2014,
          2016,
          2017,
          2018,
          2021
         ],
         "xaxis": "x",
         "y": [
          60.06666666666667,
          62.63636363636363,
          60.333333333333336,
          58,
          61.5,
          65.33333333333333,
          74,
          66.2,
          68.66666666666667,
          65.5,
          69,
          89,
          71,
          60,
          70,
          74,
          65,
          82
         ],
         "yaxis": "y"
        },
        {
         "hovertemplate": "only_one_genre=rap<br>year=%{x}<br>track_popularity=%{y}<extra></extra>",
         "legendgroup": "rap",
         "line": {
          "color": "#B6E880",
          "dash": "solid"
         },
         "mode": "lines",
         "name": "rap",
         "orientation": "v",
         "showlegend": true,
         "type": "scatter",
         "x": [
          2000,
          2001,
          2002,
          2003,
          2004,
          2005,
          2006,
          2007,
          2008,
          2009,
          2010,
          2011,
          2012,
          2013,
          2014,
          2015,
          2016,
          2017,
          2018,
          2019,
          2020,
          2021,
          2022
         ],
         "xaxis": "x",
         "y": [
          76,
          72.25,
          70.75,
          69,
          70.75,
          73.5,
          66.44444444444444,
          70.5,
          72.5,
          74.2,
          70.8,
          72.6923076923077,
          72.5,
          73.3076923076923,
          73.8,
          76,
          77.14285714285714,
          79.07692307692308,
          76.03846153846153,
          77.875,
          69.05263157894737,
          62.6,
          65.27272727272727
         ],
         "yaxis": "y"
        },
        {
         "hovertemplate": "only_one_genre=rock<br>year=%{x}<br>track_popularity=%{y}<extra></extra>",
         "legendgroup": "rock",
         "line": {
          "color": "#FF97FF",
          "dash": "solid"
         },
         "mode": "lines",
         "name": "rock",
         "orientation": "v",
         "showlegend": true,
         "type": "scatter",
         "x": [
          2000,
          2001,
          2002,
          2003,
          2004,
          2005,
          2006,
          2007,
          2008,
          2009,
          2011,
          2012,
          2013,
          2019,
          2021,
          2022
         ],
         "xaxis": "x",
         "y": [
          73.42857142857143,
          74.6,
          73.14285714285714,
          77.14285714285714,
          75.25,
          59,
          80,
          74,
          72.66666666666667,
          72,
          68,
          77,
          76.5,
          75,
          86,
          75.5
         ],
         "yaxis": "y"
        },
        {
         "hovertemplate": "only_one_genre=trap latino<br>year=%{x}<br>track_popularity=%{y}<extra></extra>",
         "legendgroup": "trap latino",
         "line": {
          "color": "#FECB52",
          "dash": "solid"
         },
         "mode": "lines",
         "name": "trap latino",
         "orientation": "v",
         "showlegend": true,
         "type": "scatter",
         "x": [
          2004,
          2010,
          2014,
          2017,
          2018,
          2019,
          2020,
          2021,
          2022
         ],
         "xaxis": "x",
         "y": [
          87,
          83,
          79,
          76,
          75,
          77.71428571428571,
          78.4,
          79.71428571428571,
          85.88888888888889
         ],
         "yaxis": "y"
        }
       ],
       "layout": {
        "legend": {
         "title": {
          "text": "only_one_genre"
         },
         "tracegroupgap": 0
        },
        "template": {
         "data": {
          "bar": [
           {
            "error_x": {
             "color": "#2a3f5f"
            },
            "error_y": {
             "color": "#2a3f5f"
            },
            "marker": {
             "line": {
              "color": "#E5ECF6",
              "width": 0.5
             }
            },
            "type": "bar"
           }
          ],
          "barpolar": [
           {
            "marker": {
             "line": {
              "color": "#E5ECF6",
              "width": 0.5
             }
            },
            "type": "barpolar"
           }
          ],
          "carpet": [
           {
            "aaxis": {
             "endlinecolor": "#2a3f5f",
             "gridcolor": "white",
             "linecolor": "white",
             "minorgridcolor": "white",
             "startlinecolor": "#2a3f5f"
            },
            "baxis": {
             "endlinecolor": "#2a3f5f",
             "gridcolor": "white",
             "linecolor": "white",
             "minorgridcolor": "white",
             "startlinecolor": "#2a3f5f"
            },
            "type": "carpet"
           }
          ],
          "choropleth": [
           {
            "colorbar": {
             "outlinewidth": 0,
             "ticks": ""
            },
            "type": "choropleth"
           }
          ],
          "contour": [
           {
            "colorbar": {
             "outlinewidth": 0,
             "ticks": ""
            },
            "colorscale": [
             [
              0,
              "#0d0887"
             ],
             [
              0.1111111111111111,
              "#46039f"
             ],
             [
              0.2222222222222222,
              "#7201a8"
             ],
             [
              0.3333333333333333,
              "#9c179e"
             ],
             [
              0.4444444444444444,
              "#bd3786"
             ],
             [
              0.5555555555555556,
              "#d8576b"
             ],
             [
              0.6666666666666666,
              "#ed7953"
             ],
             [
              0.7777777777777778,
              "#fb9f3a"
             ],
             [
              0.8888888888888888,
              "#fdca26"
             ],
             [
              1,
              "#f0f921"
             ]
            ],
            "type": "contour"
           }
          ],
          "contourcarpet": [
           {
            "colorbar": {
             "outlinewidth": 0,
             "ticks": ""
            },
            "type": "contourcarpet"
           }
          ],
          "heatmap": [
           {
            "colorbar": {
             "outlinewidth": 0,
             "ticks": ""
            },
            "colorscale": [
             [
              0,
              "#0d0887"
             ],
             [
              0.1111111111111111,
              "#46039f"
             ],
             [
              0.2222222222222222,
              "#7201a8"
             ],
             [
              0.3333333333333333,
              "#9c179e"
             ],
             [
              0.4444444444444444,
              "#bd3786"
             ],
             [
              0.5555555555555556,
              "#d8576b"
             ],
             [
              0.6666666666666666,
              "#ed7953"
             ],
             [
              0.7777777777777778,
              "#fb9f3a"
             ],
             [
              0.8888888888888888,
              "#fdca26"
             ],
             [
              1,
              "#f0f921"
             ]
            ],
            "type": "heatmap"
           }
          ],
          "heatmapgl": [
           {
            "colorbar": {
             "outlinewidth": 0,
             "ticks": ""
            },
            "colorscale": [
             [
              0,
              "#0d0887"
             ],
             [
              0.1111111111111111,
              "#46039f"
             ],
             [
              0.2222222222222222,
              "#7201a8"
             ],
             [
              0.3333333333333333,
              "#9c179e"
             ],
             [
              0.4444444444444444,
              "#bd3786"
             ],
             [
              0.5555555555555556,
              "#d8576b"
             ],
             [
              0.6666666666666666,
              "#ed7953"
             ],
             [
              0.7777777777777778,
              "#fb9f3a"
             ],
             [
              0.8888888888888888,
              "#fdca26"
             ],
             [
              1,
              "#f0f921"
             ]
            ],
            "type": "heatmapgl"
           }
          ],
          "histogram": [
           {
            "marker": {
             "colorbar": {
              "outlinewidth": 0,
              "ticks": ""
             }
            },
            "type": "histogram"
           }
          ],
          "histogram2d": [
           {
            "colorbar": {
             "outlinewidth": 0,
             "ticks": ""
            },
            "colorscale": [
             [
              0,
              "#0d0887"
             ],
             [
              0.1111111111111111,
              "#46039f"
             ],
             [
              0.2222222222222222,
              "#7201a8"
             ],
             [
              0.3333333333333333,
              "#9c179e"
             ],
             [
              0.4444444444444444,
              "#bd3786"
             ],
             [
              0.5555555555555556,
              "#d8576b"
             ],
             [
              0.6666666666666666,
              "#ed7953"
             ],
             [
              0.7777777777777778,
              "#fb9f3a"
             ],
             [
              0.8888888888888888,
              "#fdca26"
             ],
             [
              1,
              "#f0f921"
             ]
            ],
            "type": "histogram2d"
           }
          ],
          "histogram2dcontour": [
           {
            "colorbar": {
             "outlinewidth": 0,
             "ticks": ""
            },
            "colorscale": [
             [
              0,
              "#0d0887"
             ],
             [
              0.1111111111111111,
              "#46039f"
             ],
             [
              0.2222222222222222,
              "#7201a8"
             ],
             [
              0.3333333333333333,
              "#9c179e"
             ],
             [
              0.4444444444444444,
              "#bd3786"
             ],
             [
              0.5555555555555556,
              "#d8576b"
             ],
             [
              0.6666666666666666,
              "#ed7953"
             ],
             [
              0.7777777777777778,
              "#fb9f3a"
             ],
             [
              0.8888888888888888,
              "#fdca26"
             ],
             [
              1,
              "#f0f921"
             ]
            ],
            "type": "histogram2dcontour"
           }
          ],
          "mesh3d": [
           {
            "colorbar": {
             "outlinewidth": 0,
             "ticks": ""
            },
            "type": "mesh3d"
           }
          ],
          "parcoords": [
           {
            "line": {
             "colorbar": {
              "outlinewidth": 0,
              "ticks": ""
             }
            },
            "type": "parcoords"
           }
          ],
          "pie": [
           {
            "automargin": true,
            "type": "pie"
           }
          ],
          "scatter": [
           {
            "marker": {
             "colorbar": {
              "outlinewidth": 0,
              "ticks": ""
             }
            },
            "type": "scatter"
           }
          ],
          "scatter3d": [
           {
            "line": {
             "colorbar": {
              "outlinewidth": 0,
              "ticks": ""
             }
            },
            "marker": {
             "colorbar": {
              "outlinewidth": 0,
              "ticks": ""
             }
            },
            "type": "scatter3d"
           }
          ],
          "scattercarpet": [
           {
            "marker": {
             "colorbar": {
              "outlinewidth": 0,
              "ticks": ""
             }
            },
            "type": "scattercarpet"
           }
          ],
          "scattergeo": [
           {
            "marker": {
             "colorbar": {
              "outlinewidth": 0,
              "ticks": ""
             }
            },
            "type": "scattergeo"
           }
          ],
          "scattergl": [
           {
            "marker": {
             "colorbar": {
              "outlinewidth": 0,
              "ticks": ""
             }
            },
            "type": "scattergl"
           }
          ],
          "scattermapbox": [
           {
            "marker": {
             "colorbar": {
              "outlinewidth": 0,
              "ticks": ""
             }
            },
            "type": "scattermapbox"
           }
          ],
          "scatterpolar": [
           {
            "marker": {
             "colorbar": {
              "outlinewidth": 0,
              "ticks": ""
             }
            },
            "type": "scatterpolar"
           }
          ],
          "scatterpolargl": [
           {
            "marker": {
             "colorbar": {
              "outlinewidth": 0,
              "ticks": ""
             }
            },
            "type": "scatterpolargl"
           }
          ],
          "scatterternary": [
           {
            "marker": {
             "colorbar": {
              "outlinewidth": 0,
              "ticks": ""
             }
            },
            "type": "scatterternary"
           }
          ],
          "surface": [
           {
            "colorbar": {
             "outlinewidth": 0,
             "ticks": ""
            },
            "colorscale": [
             [
              0,
              "#0d0887"
             ],
             [
              0.1111111111111111,
              "#46039f"
             ],
             [
              0.2222222222222222,
              "#7201a8"
             ],
             [
              0.3333333333333333,
              "#9c179e"
             ],
             [
              0.4444444444444444,
              "#bd3786"
             ],
             [
              0.5555555555555556,
              "#d8576b"
             ],
             [
              0.6666666666666666,
              "#ed7953"
             ],
             [
              0.7777777777777778,
              "#fb9f3a"
             ],
             [
              0.8888888888888888,
              "#fdca26"
             ],
             [
              1,
              "#f0f921"
             ]
            ],
            "type": "surface"
           }
          ],
          "table": [
           {
            "cells": {
             "fill": {
              "color": "#EBF0F8"
             },
             "line": {
              "color": "white"
             }
            },
            "header": {
             "fill": {
              "color": "#C8D4E3"
             },
             "line": {
              "color": "white"
             }
            },
            "type": "table"
           }
          ]
         },
         "layout": {
          "annotationdefaults": {
           "arrowcolor": "#2a3f5f",
           "arrowhead": 0,
           "arrowwidth": 1
          },
          "coloraxis": {
           "colorbar": {
            "outlinewidth": 0,
            "ticks": ""
           }
          },
          "colorscale": {
           "diverging": [
            [
             0,
             "#8e0152"
            ],
            [
             0.1,
             "#c51b7d"
            ],
            [
             0.2,
             "#de77ae"
            ],
            [
             0.3,
             "#f1b6da"
            ],
            [
             0.4,
             "#fde0ef"
            ],
            [
             0.5,
             "#f7f7f7"
            ],
            [
             0.6,
             "#e6f5d0"
            ],
            [
             0.7,
             "#b8e186"
            ],
            [
             0.8,
             "#7fbc41"
            ],
            [
             0.9,
             "#4d9221"
            ],
            [
             1,
             "#276419"
            ]
           ],
           "sequential": [
            [
             0,
             "#0d0887"
            ],
            [
             0.1111111111111111,
             "#46039f"
            ],
            [
             0.2222222222222222,
             "#7201a8"
            ],
            [
             0.3333333333333333,
             "#9c179e"
            ],
            [
             0.4444444444444444,
             "#bd3786"
            ],
            [
             0.5555555555555556,
             "#d8576b"
            ],
            [
             0.6666666666666666,
             "#ed7953"
            ],
            [
             0.7777777777777778,
             "#fb9f3a"
            ],
            [
             0.8888888888888888,
             "#fdca26"
            ],
            [
             1,
             "#f0f921"
            ]
           ],
           "sequentialminus": [
            [
             0,
             "#0d0887"
            ],
            [
             0.1111111111111111,
             "#46039f"
            ],
            [
             0.2222222222222222,
             "#7201a8"
            ],
            [
             0.3333333333333333,
             "#9c179e"
            ],
            [
             0.4444444444444444,
             "#bd3786"
            ],
            [
             0.5555555555555556,
             "#d8576b"
            ],
            [
             0.6666666666666666,
             "#ed7953"
            ],
            [
             0.7777777777777778,
             "#fb9f3a"
            ],
            [
             0.8888888888888888,
             "#fdca26"
            ],
            [
             1,
             "#f0f921"
            ]
           ]
          },
          "colorway": [
           "#636efa",
           "#EF553B",
           "#00cc96",
           "#ab63fa",
           "#FFA15A",
           "#19d3f3",
           "#FF6692",
           "#B6E880",
           "#FF97FF",
           "#FECB52"
          ],
          "font": {
           "color": "#2a3f5f"
          },
          "geo": {
           "bgcolor": "white",
           "lakecolor": "white",
           "landcolor": "#E5ECF6",
           "showlakes": true,
           "showland": true,
           "subunitcolor": "white"
          },
          "hoverlabel": {
           "align": "left"
          },
          "hovermode": "closest",
          "mapbox": {
           "style": "light"
          },
          "paper_bgcolor": "white",
          "plot_bgcolor": "#E5ECF6",
          "polar": {
           "angularaxis": {
            "gridcolor": "white",
            "linecolor": "white",
            "ticks": ""
           },
           "bgcolor": "#E5ECF6",
           "radialaxis": {
            "gridcolor": "white",
            "linecolor": "white",
            "ticks": ""
           }
          },
          "scene": {
           "xaxis": {
            "backgroundcolor": "#E5ECF6",
            "gridcolor": "white",
            "gridwidth": 2,
            "linecolor": "white",
            "showbackground": true,
            "ticks": "",
            "zerolinecolor": "white"
           },
           "yaxis": {
            "backgroundcolor": "#E5ECF6",
            "gridcolor": "white",
            "gridwidth": 2,
            "linecolor": "white",
            "showbackground": true,
            "ticks": "",
            "zerolinecolor": "white"
           },
           "zaxis": {
            "backgroundcolor": "#E5ECF6",
            "gridcolor": "white",
            "gridwidth": 2,
            "linecolor": "white",
            "showbackground": true,
            "ticks": "",
            "zerolinecolor": "white"
           }
          },
          "shapedefaults": {
           "line": {
            "color": "#2a3f5f"
           }
          },
          "ternary": {
           "aaxis": {
            "gridcolor": "white",
            "linecolor": "white",
            "ticks": ""
           },
           "baxis": {
            "gridcolor": "white",
            "linecolor": "white",
            "ticks": ""
           },
           "bgcolor": "#E5ECF6",
           "caxis": {
            "gridcolor": "white",
            "linecolor": "white",
            "ticks": ""
           }
          },
          "title": {
           "x": 0.05
          },
          "xaxis": {
           "automargin": true,
           "gridcolor": "white",
           "linecolor": "white",
           "ticks": "",
           "title": {
            "standoff": 15
           },
           "zerolinecolor": "white",
           "zerolinewidth": 2
          },
          "yaxis": {
           "automargin": true,
           "gridcolor": "white",
           "linecolor": "white",
           "ticks": "",
           "title": {
            "standoff": 15
           },
           "zerolinecolor": "white",
           "zerolinewidth": 2
          }
         }
        },
        "title": {
         "text": "Mean track popularity for genres by year"
        },
        "xaxis": {
         "anchor": "y",
         "domain": [
          0,
          1
         ],
         "title": {
          "text": "year"
         }
        },
        "yaxis": {
         "anchor": "x",
         "domain": [
          0,
          1
         ],
         "title": {
          "text": "track_popularity"
         }
        }
       }
      },
      "text/html": [
       "<div>                            <div id=\"cd8c0099-7228-47f1-964b-872a857d7101\" class=\"plotly-graph-div\" style=\"height:525px; width:100%;\"></div>            <script type=\"text/javascript\">                require([\"plotly\"], function(Plotly) {                    window.PLOTLYENV=window.PLOTLYENV || {};                                    if (document.getElementById(\"cd8c0099-7228-47f1-964b-872a857d7101\")) {                    Plotly.newPlot(                        \"cd8c0099-7228-47f1-964b-872a857d7101\",                        [{\"hovertemplate\": \"only_one_genre=dance pop<br>year=%{x}<br>track_popularity=%{y}<extra></extra>\", \"legendgroup\": \"dance pop\", \"line\": {\"color\": \"#636efa\", \"dash\": \"solid\"}, \"mode\": \"lines\", \"name\": \"dance pop\", \"orientation\": \"v\", \"showlegend\": true, \"type\": \"scatter\", \"x\": [2000, 2001, 2002, 2003, 2004, 2005, 2006, 2007, 2008, 2009, 2010, 2011, 2012, 2013, 2014, 2015, 2016, 2017, 2020, 2021], \"xaxis\": \"x\", \"y\": [63.42857142857143, 67.5, 64.12, 59.11764705882353, 58.166666666666664, 68.55555555555556, 63.54545454545455, 68.5, 68.5, 65.625, 66.47058823529412, 71.0, 68.0, 66.33333333333333, 64.8, 69.66666666666667, 68.0, 72.0, 81.0, 81.0], \"yaxis\": \"y\"}, {\"hovertemplate\": \"only_one_genre=edm<br>year=%{x}<br>track_popularity=%{y}<extra></extra>\", \"legendgroup\": \"edm\", \"line\": {\"color\": \"#EF553B\", \"dash\": \"solid\"}, \"mode\": \"lines\", \"name\": \"edm\", \"orientation\": \"v\", \"showlegend\": true, \"type\": \"scatter\", \"x\": [2003, 2004, 2007, 2008, 2010, 2011, 2012, 2013, 2014, 2015, 2016, 2017, 2018, 2019, 2021, 2022], \"xaxis\": \"x\", \"y\": [68.0, 77.0, 57.0, 71.0, 56.0, 70.0, 74.75, 69.0, 65.2, 76.25, 76.0, 82.0, 78.0, 73.5, 80.0, 87.0], \"yaxis\": \"y\"}, {\"hovertemplate\": \"only_one_genre=modern rock<br>year=%{x}<br>track_popularity=%{y}<extra></extra>\", \"legendgroup\": \"modern rock\", \"line\": {\"color\": \"#00cc96\", \"dash\": \"solid\"}, \"mode\": \"lines\", \"name\": \"modern rock\", \"orientation\": \"v\", \"showlegend\": true, \"type\": \"scatter\", \"x\": [2000, 2001, 2002, 2003, 2004, 2005, 2006, 2007, 2008, 2009, 2010, 2011, 2012, 2013, 2014, 2015, 2016, 2017, 2018, 2021, 2022], \"xaxis\": \"x\", \"y\": [84.0, 76.5, 61.0, 75.66666666666667, 78.0, 75.81818181818181, 66.66666666666667, 73.71428571428571, 77.42857142857143, 73.6, 74.0, 72.75, 74.0, 80.22222222222223, 76.66666666666667, 78.4, 74.8, 77.0, 74.0, 91.0, 40.0], \"yaxis\": \"y\"}, {\"hovertemplate\": \"only_one_genre=neo mellow<br>year=%{x}<br>track_popularity=%{y}<extra></extra>\", \"legendgroup\": \"neo mellow\", \"line\": {\"color\": \"#ab63fa\", \"dash\": \"solid\"}, \"mode\": \"lines\", \"name\": \"neo mellow\", \"orientation\": \"v\", \"showlegend\": true, \"type\": \"scatter\", \"x\": [2000, 2001, 2002, 2003, 2004, 2005, 2006, 2007, 2008, 2009, 2010, 2011, 2012, 2013, 2014, 2015], \"xaxis\": \"x\", \"y\": [62.0, 70.75, 68.8, 76.0, 68.2, 70.57142857142857, 66.83333333333333, 63.0, 71.33333333333333, 52.0, 62.25, 65.0, 71.66666666666667, 75.0, 75.0, 73.0], \"yaxis\": \"y\"}, {\"hovertemplate\": \"only_one_genre=pop<br>year=%{x}<br>track_popularity=%{y}<extra></extra>\", \"legendgroup\": \"pop\", \"line\": {\"color\": \"#FFA15A\", \"dash\": \"solid\"}, \"mode\": \"lines\", \"name\": \"pop\", \"orientation\": \"v\", \"showlegend\": true, \"type\": \"scatter\", \"x\": [2000, 2001, 2002, 2003, 2004, 2005, 2006, 2007, 2008, 2009, 2010, 2011, 2012, 2013, 2014, 2015, 2016, 2017, 2018, 2019, 2020, 2021, 2022], \"xaxis\": \"x\", \"y\": [67.33333333333333, 69.29411764705883, 67.71428571428571, 68.1875, 70.3913043478261, 68.76666666666667, 71.93103448275862, 72.9375, 71.94594594594595, 71.31818181818181, 71.29787234042553, 72.84313725490196, 73.95161290322581, 74.34482758620689, 75.13636363636364, 77.3, 76.36507936507937, 79.85454545454546, 77.28888888888889, 78.48076923076923, 65.65454545454546, 61.28813559322034, 77.96296296296296], \"yaxis\": \"y\"}, {\"hovertemplate\": \"only_one_genre=pop rap<br>year=%{x}<br>track_popularity=%{y}<extra></extra>\", \"legendgroup\": \"pop rap\", \"line\": {\"color\": \"#19d3f3\", \"dash\": \"solid\"}, \"mode\": \"lines\", \"name\": \"pop rap\", \"orientation\": \"v\", \"showlegend\": true, \"type\": \"scatter\", \"x\": [2001, 2003, 2004, 2005, 2006, 2007, 2008, 2009, 2010, 2011, 2013, 2014, 2015, 2017, 2018, 2020, 2021], \"xaxis\": \"x\", \"y\": [80.0, 59.666666666666664, 64.0, 61.5, 64.0, 57.5, 66.0, 70.0, 72.5, 73.0, 76.0, 75.0, 77.0, 75.0, 72.0, 34.25, 78.5], \"yaxis\": \"y\"}, {\"hovertemplate\": \"only_one_genre=r&b<br>year=%{x}<br>track_popularity=%{y}<extra></extra>\", \"legendgroup\": \"r&b\", \"line\": {\"color\": \"#FF6692\", \"dash\": \"solid\"}, \"mode\": \"lines\", \"name\": \"r&b\", \"orientation\": \"v\", \"showlegend\": true, \"type\": \"scatter\", \"x\": [2000, 2001, 2002, 2003, 2004, 2005, 2006, 2007, 2008, 2009, 2010, 2011, 2012, 2014, 2016, 2017, 2018, 2021], \"xaxis\": \"x\", \"y\": [60.06666666666667, 62.63636363636363, 60.333333333333336, 58.0, 61.5, 65.33333333333333, 74.0, 66.2, 68.66666666666667, 65.5, 69.0, 89.0, 71.0, 60.0, 70.0, 74.0, 65.0, 82.0], \"yaxis\": \"y\"}, {\"hovertemplate\": \"only_one_genre=rap<br>year=%{x}<br>track_popularity=%{y}<extra></extra>\", \"legendgroup\": \"rap\", \"line\": {\"color\": \"#B6E880\", \"dash\": \"solid\"}, \"mode\": \"lines\", \"name\": \"rap\", \"orientation\": \"v\", \"showlegend\": true, \"type\": \"scatter\", \"x\": [2000, 2001, 2002, 2003, 2004, 2005, 2006, 2007, 2008, 2009, 2010, 2011, 2012, 2013, 2014, 2015, 2016, 2017, 2018, 2019, 2020, 2021, 2022], \"xaxis\": \"x\", \"y\": [76.0, 72.25, 70.75, 69.0, 70.75, 73.5, 66.44444444444444, 70.5, 72.5, 74.2, 70.8, 72.6923076923077, 72.5, 73.3076923076923, 73.8, 76.0, 77.14285714285714, 79.07692307692308, 76.03846153846153, 77.875, 69.05263157894737, 62.6, 65.27272727272727], \"yaxis\": \"y\"}, {\"hovertemplate\": \"only_one_genre=rock<br>year=%{x}<br>track_popularity=%{y}<extra></extra>\", \"legendgroup\": \"rock\", \"line\": {\"color\": \"#FF97FF\", \"dash\": \"solid\"}, \"mode\": \"lines\", \"name\": \"rock\", \"orientation\": \"v\", \"showlegend\": true, \"type\": \"scatter\", \"x\": [2000, 2001, 2002, 2003, 2004, 2005, 2006, 2007, 2008, 2009, 2011, 2012, 2013, 2019, 2021, 2022], \"xaxis\": \"x\", \"y\": [73.42857142857143, 74.6, 73.14285714285714, 77.14285714285714, 75.25, 59.0, 80.0, 74.0, 72.66666666666667, 72.0, 68.0, 77.0, 76.5, 75.0, 86.0, 75.5], \"yaxis\": \"y\"}, {\"hovertemplate\": \"only_one_genre=trap latino<br>year=%{x}<br>track_popularity=%{y}<extra></extra>\", \"legendgroup\": \"trap latino\", \"line\": {\"color\": \"#FECB52\", \"dash\": \"solid\"}, \"mode\": \"lines\", \"name\": \"trap latino\", \"orientation\": \"v\", \"showlegend\": true, \"type\": \"scatter\", \"x\": [2004, 2010, 2014, 2017, 2018, 2019, 2020, 2021, 2022], \"xaxis\": \"x\", \"y\": [87.0, 83.0, 79.0, 76.0, 75.0, 77.71428571428571, 78.4, 79.71428571428571, 85.88888888888889], \"yaxis\": \"y\"}],                        {\"legend\": {\"title\": {\"text\": \"only_one_genre\"}, \"tracegroupgap\": 0}, \"template\": {\"data\": {\"bar\": [{\"error_x\": {\"color\": \"#2a3f5f\"}, \"error_y\": {\"color\": \"#2a3f5f\"}, \"marker\": {\"line\": {\"color\": \"#E5ECF6\", \"width\": 0.5}}, \"type\": \"bar\"}], \"barpolar\": [{\"marker\": {\"line\": {\"color\": \"#E5ECF6\", \"width\": 0.5}}, \"type\": \"barpolar\"}], \"carpet\": [{\"aaxis\": {\"endlinecolor\": \"#2a3f5f\", \"gridcolor\": \"white\", \"linecolor\": \"white\", \"minorgridcolor\": \"white\", \"startlinecolor\": \"#2a3f5f\"}, \"baxis\": {\"endlinecolor\": \"#2a3f5f\", \"gridcolor\": \"white\", \"linecolor\": \"white\", \"minorgridcolor\": \"white\", \"startlinecolor\": \"#2a3f5f\"}, \"type\": \"carpet\"}], \"choropleth\": [{\"colorbar\": {\"outlinewidth\": 0, \"ticks\": \"\"}, \"type\": \"choropleth\"}], \"contour\": [{\"colorbar\": {\"outlinewidth\": 0, \"ticks\": \"\"}, \"colorscale\": [[0.0, \"#0d0887\"], [0.1111111111111111, \"#46039f\"], [0.2222222222222222, \"#7201a8\"], [0.3333333333333333, \"#9c179e\"], [0.4444444444444444, \"#bd3786\"], [0.5555555555555556, \"#d8576b\"], [0.6666666666666666, \"#ed7953\"], [0.7777777777777778, \"#fb9f3a\"], [0.8888888888888888, \"#fdca26\"], [1.0, \"#f0f921\"]], \"type\": \"contour\"}], \"contourcarpet\": [{\"colorbar\": {\"outlinewidth\": 0, \"ticks\": \"\"}, \"type\": \"contourcarpet\"}], \"heatmap\": [{\"colorbar\": {\"outlinewidth\": 0, \"ticks\": \"\"}, \"colorscale\": [[0.0, \"#0d0887\"], [0.1111111111111111, \"#46039f\"], [0.2222222222222222, \"#7201a8\"], [0.3333333333333333, \"#9c179e\"], [0.4444444444444444, \"#bd3786\"], [0.5555555555555556, \"#d8576b\"], [0.6666666666666666, \"#ed7953\"], [0.7777777777777778, \"#fb9f3a\"], [0.8888888888888888, \"#fdca26\"], [1.0, \"#f0f921\"]], \"type\": \"heatmap\"}], \"heatmapgl\": [{\"colorbar\": {\"outlinewidth\": 0, \"ticks\": \"\"}, \"colorscale\": [[0.0, \"#0d0887\"], [0.1111111111111111, \"#46039f\"], [0.2222222222222222, \"#7201a8\"], [0.3333333333333333, \"#9c179e\"], [0.4444444444444444, \"#bd3786\"], [0.5555555555555556, \"#d8576b\"], [0.6666666666666666, \"#ed7953\"], [0.7777777777777778, \"#fb9f3a\"], [0.8888888888888888, \"#fdca26\"], [1.0, \"#f0f921\"]], \"type\": \"heatmapgl\"}], \"histogram\": [{\"marker\": {\"colorbar\": {\"outlinewidth\": 0, \"ticks\": \"\"}}, \"type\": \"histogram\"}], \"histogram2d\": [{\"colorbar\": {\"outlinewidth\": 0, \"ticks\": \"\"}, \"colorscale\": [[0.0, \"#0d0887\"], [0.1111111111111111, \"#46039f\"], [0.2222222222222222, \"#7201a8\"], [0.3333333333333333, \"#9c179e\"], [0.4444444444444444, \"#bd3786\"], [0.5555555555555556, \"#d8576b\"], [0.6666666666666666, \"#ed7953\"], [0.7777777777777778, \"#fb9f3a\"], [0.8888888888888888, \"#fdca26\"], [1.0, \"#f0f921\"]], \"type\": \"histogram2d\"}], \"histogram2dcontour\": [{\"colorbar\": {\"outlinewidth\": 0, \"ticks\": \"\"}, \"colorscale\": [[0.0, \"#0d0887\"], [0.1111111111111111, \"#46039f\"], [0.2222222222222222, \"#7201a8\"], [0.3333333333333333, \"#9c179e\"], [0.4444444444444444, \"#bd3786\"], [0.5555555555555556, \"#d8576b\"], [0.6666666666666666, \"#ed7953\"], [0.7777777777777778, \"#fb9f3a\"], [0.8888888888888888, \"#fdca26\"], [1.0, \"#f0f921\"]], \"type\": \"histogram2dcontour\"}], \"mesh3d\": [{\"colorbar\": {\"outlinewidth\": 0, \"ticks\": \"\"}, \"type\": \"mesh3d\"}], \"parcoords\": [{\"line\": {\"colorbar\": {\"outlinewidth\": 0, \"ticks\": \"\"}}, \"type\": \"parcoords\"}], \"pie\": [{\"automargin\": true, \"type\": \"pie\"}], \"scatter\": [{\"marker\": {\"colorbar\": {\"outlinewidth\": 0, \"ticks\": \"\"}}, \"type\": \"scatter\"}], \"scatter3d\": [{\"line\": {\"colorbar\": {\"outlinewidth\": 0, \"ticks\": \"\"}}, \"marker\": {\"colorbar\": {\"outlinewidth\": 0, \"ticks\": \"\"}}, \"type\": \"scatter3d\"}], \"scattercarpet\": [{\"marker\": {\"colorbar\": {\"outlinewidth\": 0, \"ticks\": \"\"}}, \"type\": \"scattercarpet\"}], \"scattergeo\": [{\"marker\": {\"colorbar\": {\"outlinewidth\": 0, \"ticks\": \"\"}}, \"type\": \"scattergeo\"}], \"scattergl\": [{\"marker\": {\"colorbar\": {\"outlinewidth\": 0, \"ticks\": \"\"}}, \"type\": \"scattergl\"}], \"scattermapbox\": [{\"marker\": {\"colorbar\": {\"outlinewidth\": 0, \"ticks\": \"\"}}, \"type\": \"scattermapbox\"}], \"scatterpolar\": [{\"marker\": {\"colorbar\": {\"outlinewidth\": 0, \"ticks\": \"\"}}, \"type\": \"scatterpolar\"}], \"scatterpolargl\": [{\"marker\": {\"colorbar\": {\"outlinewidth\": 0, \"ticks\": \"\"}}, \"type\": \"scatterpolargl\"}], \"scatterternary\": [{\"marker\": {\"colorbar\": {\"outlinewidth\": 0, \"ticks\": \"\"}}, \"type\": \"scatterternary\"}], \"surface\": [{\"colorbar\": {\"outlinewidth\": 0, \"ticks\": \"\"}, \"colorscale\": [[0.0, \"#0d0887\"], [0.1111111111111111, \"#46039f\"], [0.2222222222222222, \"#7201a8\"], [0.3333333333333333, \"#9c179e\"], [0.4444444444444444, \"#bd3786\"], [0.5555555555555556, \"#d8576b\"], [0.6666666666666666, \"#ed7953\"], [0.7777777777777778, \"#fb9f3a\"], [0.8888888888888888, \"#fdca26\"], [1.0, \"#f0f921\"]], \"type\": \"surface\"}], \"table\": [{\"cells\": {\"fill\": {\"color\": \"#EBF0F8\"}, \"line\": {\"color\": \"white\"}}, \"header\": {\"fill\": {\"color\": \"#C8D4E3\"}, \"line\": {\"color\": \"white\"}}, \"type\": \"table\"}]}, \"layout\": {\"annotationdefaults\": {\"arrowcolor\": \"#2a3f5f\", \"arrowhead\": 0, \"arrowwidth\": 1}, \"coloraxis\": {\"colorbar\": {\"outlinewidth\": 0, \"ticks\": \"\"}}, \"colorscale\": {\"diverging\": [[0, \"#8e0152\"], [0.1, \"#c51b7d\"], [0.2, \"#de77ae\"], [0.3, \"#f1b6da\"], [0.4, \"#fde0ef\"], [0.5, \"#f7f7f7\"], [0.6, \"#e6f5d0\"], [0.7, \"#b8e186\"], [0.8, \"#7fbc41\"], [0.9, \"#4d9221\"], [1, \"#276419\"]], \"sequential\": [[0.0, \"#0d0887\"], [0.1111111111111111, \"#46039f\"], [0.2222222222222222, \"#7201a8\"], [0.3333333333333333, \"#9c179e\"], [0.4444444444444444, \"#bd3786\"], [0.5555555555555556, \"#d8576b\"], [0.6666666666666666, \"#ed7953\"], [0.7777777777777778, \"#fb9f3a\"], [0.8888888888888888, \"#fdca26\"], [1.0, \"#f0f921\"]], \"sequentialminus\": [[0.0, \"#0d0887\"], [0.1111111111111111, \"#46039f\"], [0.2222222222222222, \"#7201a8\"], [0.3333333333333333, \"#9c179e\"], [0.4444444444444444, \"#bd3786\"], [0.5555555555555556, \"#d8576b\"], [0.6666666666666666, \"#ed7953\"], [0.7777777777777778, \"#fb9f3a\"], [0.8888888888888888, \"#fdca26\"], [1.0, \"#f0f921\"]]}, \"colorway\": [\"#636efa\", \"#EF553B\", \"#00cc96\", \"#ab63fa\", \"#FFA15A\", \"#19d3f3\", \"#FF6692\", \"#B6E880\", \"#FF97FF\", \"#FECB52\"], \"font\": {\"color\": \"#2a3f5f\"}, \"geo\": {\"bgcolor\": \"white\", \"lakecolor\": \"white\", \"landcolor\": \"#E5ECF6\", \"showlakes\": true, \"showland\": true, \"subunitcolor\": \"white\"}, \"hoverlabel\": {\"align\": \"left\"}, \"hovermode\": \"closest\", \"mapbox\": {\"style\": \"light\"}, \"paper_bgcolor\": \"white\", \"plot_bgcolor\": \"#E5ECF6\", \"polar\": {\"angularaxis\": {\"gridcolor\": \"white\", \"linecolor\": \"white\", \"ticks\": \"\"}, \"bgcolor\": \"#E5ECF6\", \"radialaxis\": {\"gridcolor\": \"white\", \"linecolor\": \"white\", \"ticks\": \"\"}}, \"scene\": {\"xaxis\": {\"backgroundcolor\": \"#E5ECF6\", \"gridcolor\": \"white\", \"gridwidth\": 2, \"linecolor\": \"white\", \"showbackground\": true, \"ticks\": \"\", \"zerolinecolor\": \"white\"}, \"yaxis\": {\"backgroundcolor\": \"#E5ECF6\", \"gridcolor\": \"white\", \"gridwidth\": 2, \"linecolor\": \"white\", \"showbackground\": true, \"ticks\": \"\", \"zerolinecolor\": \"white\"}, \"zaxis\": {\"backgroundcolor\": \"#E5ECF6\", \"gridcolor\": \"white\", \"gridwidth\": 2, \"linecolor\": \"white\", \"showbackground\": true, \"ticks\": \"\", \"zerolinecolor\": \"white\"}}, \"shapedefaults\": {\"line\": {\"color\": \"#2a3f5f\"}}, \"ternary\": {\"aaxis\": {\"gridcolor\": \"white\", \"linecolor\": \"white\", \"ticks\": \"\"}, \"baxis\": {\"gridcolor\": \"white\", \"linecolor\": \"white\", \"ticks\": \"\"}, \"bgcolor\": \"#E5ECF6\", \"caxis\": {\"gridcolor\": \"white\", \"linecolor\": \"white\", \"ticks\": \"\"}}, \"title\": {\"x\": 0.05}, \"xaxis\": {\"automargin\": true, \"gridcolor\": \"white\", \"linecolor\": \"white\", \"ticks\": \"\", \"title\": {\"standoff\": 15}, \"zerolinecolor\": \"white\", \"zerolinewidth\": 2}, \"yaxis\": {\"automargin\": true, \"gridcolor\": \"white\", \"linecolor\": \"white\", \"ticks\": \"\", \"title\": {\"standoff\": 15}, \"zerolinecolor\": \"white\", \"zerolinewidth\": 2}}}, \"title\": {\"text\": \"Mean track popularity for genres by year\"}, \"xaxis\": {\"anchor\": \"y\", \"domain\": [0.0, 1.0], \"title\": {\"text\": \"year\"}}, \"yaxis\": {\"anchor\": \"x\", \"domain\": [0.0, 1.0], \"title\": {\"text\": \"track_popularity\"}}},                        {\"responsive\": true}                    ).then(function(){\n",
       "                            \n",
       "var gd = document.getElementById('cd8c0099-7228-47f1-964b-872a857d7101');\n",
       "var x = new MutationObserver(function (mutations, observer) {{\n",
       "        var display = window.getComputedStyle(gd).display;\n",
       "        if (!display || display === 'none') {{\n",
       "            console.log([gd, 'removed!']);\n",
       "            Plotly.purge(gd);\n",
       "            observer.disconnect();\n",
       "        }}\n",
       "}});\n",
       "\n",
       "// Listen for the removal of the full notebook cells\n",
       "var notebookContainer = gd.closest('#notebook-container');\n",
       "if (notebookContainer) {{\n",
       "    x.observe(notebookContainer, {childList: true});\n",
       "}}\n",
       "\n",
       "// Listen for the clearing of the current output cell\n",
       "var outputEl = gd.closest('.output');\n",
       "if (outputEl) {{\n",
       "    x.observe(outputEl, {childList: true});\n",
       "}}\n",
       "\n",
       "                        })                };                });            </script>        </div>"
      ]
     },
     "metadata": {},
     "output_type": "display_data"
    },
    {
     "data": {
      "application/javascript": [
       "\n",
       "            setTimeout(function() {\n",
       "                var nbb_cell_id = 164;\n",
       "                var nbb_unformatted_code = \"px.line(\\n    gydf,\\n    x=\\\"year\\\",\\n    y=\\\"track_popularity\\\",\\n    color=\\\"only_one_genre\\\",\\n    title=\\\"Mean track popularity for genres by year\\\",\\n)\";\n",
       "                var nbb_formatted_code = \"px.line(\\n    gydf,\\n    x=\\\"year\\\",\\n    y=\\\"track_popularity\\\",\\n    color=\\\"only_one_genre\\\",\\n    title=\\\"Mean track popularity for genres by year\\\",\\n)\";\n",
       "                var nbb_cells = Jupyter.notebook.get_cells();\n",
       "                for (var i = 0; i < nbb_cells.length; ++i) {\n",
       "                    if (nbb_cells[i].input_prompt_number == nbb_cell_id) {\n",
       "                        if (nbb_cells[i].get_text() == nbb_unformatted_code) {\n",
       "                             nbb_cells[i].set_text(nbb_formatted_code);\n",
       "                        }\n",
       "                        break;\n",
       "                    }\n",
       "                }\n",
       "            }, 500);\n",
       "            "
      ],
      "text/plain": [
       "<IPython.core.display.Javascript object>"
      ]
     },
     "metadata": {},
     "output_type": "display_data"
    }
   ],
   "source": [
    "px.line(\n",
    "    gydf,\n",
    "    x=\"year\",\n",
    "    y=\"track_popularity\",\n",
    "    color=\"only_one_genre\",\n",
    "    title=\"Mean track popularity for genres by year\",\n",
    ")"
   ]
  },
  {
   "cell_type": "markdown",
   "metadata": {},
   "source": [
    "### Bar chart"
   ]
  },
  {
   "cell_type": "code",
   "execution_count": 257,
   "metadata": {},
   "outputs": [
    {
     "data": {
      "text/html": [
       "<div>\n",
       "<style scoped>\n",
       "    .dataframe tbody tr th:only-of-type {\n",
       "        vertical-align: middle;\n",
       "    }\n",
       "\n",
       "    .dataframe tbody tr th {\n",
       "        vertical-align: top;\n",
       "    }\n",
       "\n",
       "    .dataframe thead th {\n",
       "        text-align: right;\n",
       "    }\n",
       "</style>\n",
       "<table border=\"1\" class=\"dataframe\">\n",
       "  <thead>\n",
       "    <tr style=\"text-align: right;\">\n",
       "      <th></th>\n",
       "      <th>only_one_genre</th>\n",
       "      <th>year</th>\n",
       "      <th>track_id</th>\n",
       "    </tr>\n",
       "  </thead>\n",
       "  <tbody>\n",
       "    <tr>\n",
       "      <th>0</th>\n",
       "      <td>dance pop</td>\n",
       "      <td>2000</td>\n",
       "      <td>7</td>\n",
       "    </tr>\n",
       "    <tr>\n",
       "      <th>1</th>\n",
       "      <td>dance pop</td>\n",
       "      <td>2001</td>\n",
       "      <td>16</td>\n",
       "    </tr>\n",
       "    <tr>\n",
       "      <th>2</th>\n",
       "      <td>dance pop</td>\n",
       "      <td>2002</td>\n",
       "      <td>25</td>\n",
       "    </tr>\n",
       "    <tr>\n",
       "      <th>3</th>\n",
       "      <td>dance pop</td>\n",
       "      <td>2003</td>\n",
       "      <td>17</td>\n",
       "    </tr>\n",
       "    <tr>\n",
       "      <th>4</th>\n",
       "      <td>dance pop</td>\n",
       "      <td>2004</td>\n",
       "      <td>12</td>\n",
       "    </tr>\n",
       "  </tbody>\n",
       "</table>\n",
       "</div>"
      ],
      "text/plain": [
       "  only_one_genre  year  track_id\n",
       "0      dance pop  2000         7\n",
       "1      dance pop  2001        16\n",
       "2      dance pop  2002        25\n",
       "3      dance pop  2003        17\n",
       "4      dance pop  2004        12"
      ]
     },
     "execution_count": 257,
     "metadata": {},
     "output_type": "execute_result"
    },
    {
     "data": {
      "application/javascript": [
       "\n",
       "            setTimeout(function() {\n",
       "                var nbb_cell_id = 257;\n",
       "                var nbb_unformatted_code = \"target_columns = [\\\"only_one_genre\\\", \\\"year\\\", \\\"track_id\\\"]\\ntarget_genres = df.only_one_genre.value_counts()[:10].index\\n\\ngydfc = df.copy()\\ngydfc.loc[~gydfc.only_one_genre.isin(target_genres), \\\"only_one_genre\\\"] = \\\"other\\\"\\n\\ngydfc = (\\n    gydfc[target_columns].groupby(by=[\\\"only_one_genre\\\", \\\"year\\\"], as_index=False).count()\\n)\\n\\ngydfc.head()\";\n",
       "                var nbb_formatted_code = \"target_columns = [\\\"only_one_genre\\\", \\\"year\\\", \\\"track_id\\\"]\\ntarget_genres = df.only_one_genre.value_counts()[:10].index\\n\\ngydfc = df.copy()\\ngydfc.loc[~gydfc.only_one_genre.isin(target_genres), \\\"only_one_genre\\\"] = \\\"other\\\"\\n\\ngydfc = (\\n    gydfc[target_columns].groupby(by=[\\\"only_one_genre\\\", \\\"year\\\"], as_index=False).count()\\n)\\n\\ngydfc.head()\";\n",
       "                var nbb_cells = Jupyter.notebook.get_cells();\n",
       "                for (var i = 0; i < nbb_cells.length; ++i) {\n",
       "                    if (nbb_cells[i].input_prompt_number == nbb_cell_id) {\n",
       "                        if (nbb_cells[i].get_text() == nbb_unformatted_code) {\n",
       "                             nbb_cells[i].set_text(nbb_formatted_code);\n",
       "                        }\n",
       "                        break;\n",
       "                    }\n",
       "                }\n",
       "            }, 500);\n",
       "            "
      ],
      "text/plain": [
       "<IPython.core.display.Javascript object>"
      ]
     },
     "metadata": {},
     "output_type": "display_data"
    }
   ],
   "source": [
    "target_columns = [\"only_one_genre\", \"year\", \"track_id\"]\n",
    "target_genres = df.only_one_genre.value_counts()[:10].index\n",
    "\n",
    "gydfc = df.copy()\n",
    "gydfc.loc[~gydfc.only_one_genre.isin(target_genres), \"only_one_genre\"] = \"other\"\n",
    "\n",
    "gydfc = (\n",
    "    gydfc[target_columns].groupby(by=[\"only_one_genre\", \"year\"], as_index=False).count()\n",
    ")\n",
    "\n",
    "gydfc.head()"
   ]
  },
  {
   "cell_type": "code",
   "execution_count": 259,
   "metadata": {},
   "outputs": [
    {
     "data": {
      "application/vnd.plotly.v1+json": {
       "config": {
        "plotlyServerURL": "https://plot.ly"
       },
       "data": [
        {
         "alignmentgroup": "True",
         "hovertemplate": "only_one_genre=dance pop<br>year=%{x}<br>track_id=%{y}<extra></extra>",
         "legendgroup": "dance pop",
         "marker": {
          "color": "#636efa"
         },
         "name": "dance pop",
         "offsetgroup": "dance pop",
         "orientation": "v",
         "showlegend": true,
         "textposition": "auto",
         "type": "bar",
         "x": [
          2000,
          2001,
          2002,
          2003,
          2004,
          2005,
          2006,
          2007,
          2008,
          2009,
          2010,
          2011,
          2012,
          2013,
          2014,
          2015,
          2016,
          2017,
          2020,
          2021
         ],
         "xaxis": "x",
         "y": [
          7,
          16,
          25,
          17,
          12,
          9,
          11,
          14,
          6,
          8,
          17,
          4,
          3,
          3,
          5,
          3,
          3,
          1,
          1,
          1
         ],
         "yaxis": "y"
        },
        {
         "alignmentgroup": "True",
         "hovertemplate": "only_one_genre=edm<br>year=%{x}<br>track_id=%{y}<extra></extra>",
         "legendgroup": "edm",
         "marker": {
          "color": "#EF553B"
         },
         "name": "edm",
         "offsetgroup": "edm",
         "orientation": "v",
         "showlegend": true,
         "textposition": "auto",
         "type": "bar",
         "x": [
          2003,
          2004,
          2007,
          2008,
          2010,
          2011,
          2012,
          2013,
          2014,
          2015,
          2016,
          2017,
          2018,
          2019,
          2021,
          2022
         ],
         "xaxis": "x",
         "y": [
          1,
          1,
          1,
          1,
          3,
          1,
          4,
          4,
          5,
          4,
          2,
          1,
          3,
          2,
          1,
          1
         ],
         "yaxis": "y"
        },
        {
         "alignmentgroup": "True",
         "hovertemplate": "only_one_genre=modern rock<br>year=%{x}<br>track_id=%{y}<extra></extra>",
         "legendgroup": "modern rock",
         "marker": {
          "color": "#00cc96"
         },
         "name": "modern rock",
         "offsetgroup": "modern rock",
         "orientation": "v",
         "showlegend": true,
         "textposition": "auto",
         "type": "bar",
         "x": [
          2000,
          2001,
          2002,
          2003,
          2004,
          2005,
          2006,
          2007,
          2008,
          2009,
          2010,
          2011,
          2012,
          2013,
          2014,
          2015,
          2016,
          2017,
          2018,
          2021,
          2022
         ],
         "xaxis": "x",
         "y": [
          1,
          6,
          1,
          3,
          5,
          11,
          12,
          7,
          7,
          10,
          2,
          4,
          6,
          9,
          3,
          5,
          5,
          2,
          1,
          1,
          1
         ],
         "yaxis": "y"
        },
        {
         "alignmentgroup": "True",
         "hovertemplate": "only_one_genre=neo mellow<br>year=%{x}<br>track_id=%{y}<extra></extra>",
         "legendgroup": "neo mellow",
         "marker": {
          "color": "#ab63fa"
         },
         "name": "neo mellow",
         "offsetgroup": "neo mellow",
         "orientation": "v",
         "showlegend": true,
         "textposition": "auto",
         "type": "bar",
         "x": [
          2000,
          2001,
          2002,
          2003,
          2004,
          2005,
          2006,
          2007,
          2008,
          2009,
          2010,
          2011,
          2012,
          2013,
          2014,
          2015
         ],
         "xaxis": "x",
         "y": [
          2,
          4,
          5,
          1,
          5,
          7,
          6,
          3,
          3,
          1,
          4,
          1,
          3,
          2,
          1,
          1
         ],
         "yaxis": "y"
        },
        {
         "alignmentgroup": "True",
         "hovertemplate": "only_one_genre=other<br>year=%{x}<br>track_id=%{y}<extra></extra>",
         "legendgroup": "other",
         "marker": {
          "color": "#FFA15A"
         },
         "name": "other",
         "offsetgroup": "other",
         "orientation": "v",
         "showlegend": true,
         "textposition": "auto",
         "type": "bar",
         "x": [
          2000,
          2001,
          2002,
          2003,
          2004,
          2005,
          2006,
          2007,
          2008,
          2009,
          2010,
          2011,
          2012,
          2013,
          2014,
          2015,
          2016,
          2017,
          2018,
          2019,
          2020,
          2021,
          2022
         ],
         "xaxis": "x",
         "y": [
          45,
          35,
          30,
          32,
          34,
          19,
          29,
          26,
          23,
          22,
          13,
          22,
          10,
          6,
          12,
          14,
          12,
          9,
          16,
          22,
          16,
          17,
          22
         ],
         "yaxis": "y"
        },
        {
         "alignmentgroup": "True",
         "hovertemplate": "only_one_genre=pop<br>year=%{x}<br>track_id=%{y}<extra></extra>",
         "legendgroup": "pop",
         "marker": {
          "color": "#19d3f3"
         },
         "name": "pop",
         "offsetgroup": "pop",
         "orientation": "v",
         "showlegend": true,
         "textposition": "auto",
         "type": "bar",
         "x": [
          2000,
          2001,
          2002,
          2003,
          2004,
          2005,
          2006,
          2007,
          2008,
          2009,
          2010,
          2011,
          2012,
          2013,
          2014,
          2015,
          2016,
          2017,
          2018,
          2019,
          2020,
          2021,
          2022
         ],
         "xaxis": "x",
         "y": [
          18,
          17,
          21,
          16,
          23,
          30,
          29,
          32,
          37,
          44,
          47,
          51,
          62,
          58,
          66,
          60,
          63,
          55,
          45,
          52,
          55,
          59,
          54
         ],
         "yaxis": "y"
        },
        {
         "alignmentgroup": "True",
         "hovertemplate": "only_one_genre=pop rap<br>year=%{x}<br>track_id=%{y}<extra></extra>",
         "legendgroup": "pop rap",
         "marker": {
          "color": "#FF6692"
         },
         "name": "pop rap",
         "offsetgroup": "pop rap",
         "orientation": "v",
         "showlegend": true,
         "textposition": "auto",
         "type": "bar",
         "x": [
          2001,
          2003,
          2004,
          2005,
          2006,
          2007,
          2008,
          2009,
          2010,
          2011,
          2013,
          2014,
          2015,
          2017,
          2018,
          2020,
          2021
         ],
         "xaxis": "x",
         "y": [
          2,
          3,
          1,
          2,
          1,
          2,
          1,
          2,
          2,
          2,
          3,
          1,
          1,
          4,
          2,
          4,
          2
         ],
         "yaxis": "y"
        },
        {
         "alignmentgroup": "True",
         "hovertemplate": "only_one_genre=r&b<br>year=%{x}<br>track_id=%{y}<extra></extra>",
         "legendgroup": "r&b",
         "marker": {
          "color": "#B6E880"
         },
         "name": "r&b",
         "offsetgroup": "r&b",
         "orientation": "v",
         "showlegend": true,
         "textposition": "auto",
         "type": "bar",
         "x": [
          2000,
          2001,
          2002,
          2003,
          2004,
          2005,
          2006,
          2007,
          2008,
          2009,
          2010,
          2011,
          2012,
          2014,
          2016,
          2017,
          2018,
          2021
         ],
         "xaxis": "x",
         "y": [
          15,
          11,
          3,
          7,
          2,
          3,
          2,
          5,
          3,
          2,
          1,
          1,
          1,
          1,
          1,
          1,
          1,
          1
         ],
         "yaxis": "y"
        },
        {
         "alignmentgroup": "True",
         "hovertemplate": "only_one_genre=rap<br>year=%{x}<br>track_id=%{y}<extra></extra>",
         "legendgroup": "rap",
         "marker": {
          "color": "#FF97FF"
         },
         "name": "rap",
         "offsetgroup": "rap",
         "orientation": "v",
         "showlegend": true,
         "textposition": "auto",
         "type": "bar",
         "x": [
          2000,
          2001,
          2002,
          2003,
          2004,
          2005,
          2006,
          2007,
          2008,
          2009,
          2010,
          2011,
          2012,
          2013,
          2014,
          2015,
          2016,
          2017,
          2018,
          2019,
          2020,
          2021,
          2022
         ],
         "xaxis": "x",
         "y": [
          5,
          4,
          8,
          13,
          12,
          16,
          9,
          6,
          16,
          10,
          10,
          13,
          10,
          13,
          5,
          12,
          14,
          26,
          26,
          16,
          19,
          10,
          11
         ],
         "yaxis": "y"
        },
        {
         "alignmentgroup": "True",
         "hovertemplate": "only_one_genre=rock<br>year=%{x}<br>track_id=%{y}<extra></extra>",
         "legendgroup": "rock",
         "marker": {
          "color": "#FECB52"
         },
         "name": "rock",
         "offsetgroup": "rock",
         "orientation": "v",
         "showlegend": true,
         "textposition": "auto",
         "type": "bar",
         "x": [
          2000,
          2001,
          2002,
          2003,
          2004,
          2005,
          2006,
          2007,
          2008,
          2009,
          2011,
          2012,
          2013,
          2019,
          2021,
          2022
         ],
         "xaxis": "x",
         "y": [
          7,
          5,
          7,
          7,
          4,
          3,
          1,
          4,
          3,
          1,
          1,
          1,
          2,
          1,
          1,
          2
         ],
         "yaxis": "y"
        },
        {
         "alignmentgroup": "True",
         "hovertemplate": "only_one_genre=trap latino<br>year=%{x}<br>track_id=%{y}<extra></extra>",
         "legendgroup": "trap latino",
         "marker": {
          "color": "#636efa"
         },
         "name": "trap latino",
         "offsetgroup": "trap latino",
         "orientation": "v",
         "showlegend": true,
         "textposition": "auto",
         "type": "bar",
         "x": [
          2004,
          2010,
          2014,
          2017,
          2018,
          2019,
          2020,
          2021,
          2022
         ],
         "xaxis": "x",
         "y": [
          1,
          1,
          1,
          1,
          6,
          7,
          5,
          7,
          9
         ],
         "yaxis": "y"
        }
       ],
       "layout": {
        "barmode": "relative",
        "legend": {
         "title": {
          "text": "only_one_genre"
         },
         "tracegroupgap": 0
        },
        "template": {
         "data": {
          "bar": [
           {
            "error_x": {
             "color": "#2a3f5f"
            },
            "error_y": {
             "color": "#2a3f5f"
            },
            "marker": {
             "line": {
              "color": "#E5ECF6",
              "width": 0.5
             }
            },
            "type": "bar"
           }
          ],
          "barpolar": [
           {
            "marker": {
             "line": {
              "color": "#E5ECF6",
              "width": 0.5
             }
            },
            "type": "barpolar"
           }
          ],
          "carpet": [
           {
            "aaxis": {
             "endlinecolor": "#2a3f5f",
             "gridcolor": "white",
             "linecolor": "white",
             "minorgridcolor": "white",
             "startlinecolor": "#2a3f5f"
            },
            "baxis": {
             "endlinecolor": "#2a3f5f",
             "gridcolor": "white",
             "linecolor": "white",
             "minorgridcolor": "white",
             "startlinecolor": "#2a3f5f"
            },
            "type": "carpet"
           }
          ],
          "choropleth": [
           {
            "colorbar": {
             "outlinewidth": 0,
             "ticks": ""
            },
            "type": "choropleth"
           }
          ],
          "contour": [
           {
            "colorbar": {
             "outlinewidth": 0,
             "ticks": ""
            },
            "colorscale": [
             [
              0,
              "#0d0887"
             ],
             [
              0.1111111111111111,
              "#46039f"
             ],
             [
              0.2222222222222222,
              "#7201a8"
             ],
             [
              0.3333333333333333,
              "#9c179e"
             ],
             [
              0.4444444444444444,
              "#bd3786"
             ],
             [
              0.5555555555555556,
              "#d8576b"
             ],
             [
              0.6666666666666666,
              "#ed7953"
             ],
             [
              0.7777777777777778,
              "#fb9f3a"
             ],
             [
              0.8888888888888888,
              "#fdca26"
             ],
             [
              1,
              "#f0f921"
             ]
            ],
            "type": "contour"
           }
          ],
          "contourcarpet": [
           {
            "colorbar": {
             "outlinewidth": 0,
             "ticks": ""
            },
            "type": "contourcarpet"
           }
          ],
          "heatmap": [
           {
            "colorbar": {
             "outlinewidth": 0,
             "ticks": ""
            },
            "colorscale": [
             [
              0,
              "#0d0887"
             ],
             [
              0.1111111111111111,
              "#46039f"
             ],
             [
              0.2222222222222222,
              "#7201a8"
             ],
             [
              0.3333333333333333,
              "#9c179e"
             ],
             [
              0.4444444444444444,
              "#bd3786"
             ],
             [
              0.5555555555555556,
              "#d8576b"
             ],
             [
              0.6666666666666666,
              "#ed7953"
             ],
             [
              0.7777777777777778,
              "#fb9f3a"
             ],
             [
              0.8888888888888888,
              "#fdca26"
             ],
             [
              1,
              "#f0f921"
             ]
            ],
            "type": "heatmap"
           }
          ],
          "heatmapgl": [
           {
            "colorbar": {
             "outlinewidth": 0,
             "ticks": ""
            },
            "colorscale": [
             [
              0,
              "#0d0887"
             ],
             [
              0.1111111111111111,
              "#46039f"
             ],
             [
              0.2222222222222222,
              "#7201a8"
             ],
             [
              0.3333333333333333,
              "#9c179e"
             ],
             [
              0.4444444444444444,
              "#bd3786"
             ],
             [
              0.5555555555555556,
              "#d8576b"
             ],
             [
              0.6666666666666666,
              "#ed7953"
             ],
             [
              0.7777777777777778,
              "#fb9f3a"
             ],
             [
              0.8888888888888888,
              "#fdca26"
             ],
             [
              1,
              "#f0f921"
             ]
            ],
            "type": "heatmapgl"
           }
          ],
          "histogram": [
           {
            "marker": {
             "colorbar": {
              "outlinewidth": 0,
              "ticks": ""
             }
            },
            "type": "histogram"
           }
          ],
          "histogram2d": [
           {
            "colorbar": {
             "outlinewidth": 0,
             "ticks": ""
            },
            "colorscale": [
             [
              0,
              "#0d0887"
             ],
             [
              0.1111111111111111,
              "#46039f"
             ],
             [
              0.2222222222222222,
              "#7201a8"
             ],
             [
              0.3333333333333333,
              "#9c179e"
             ],
             [
              0.4444444444444444,
              "#bd3786"
             ],
             [
              0.5555555555555556,
              "#d8576b"
             ],
             [
              0.6666666666666666,
              "#ed7953"
             ],
             [
              0.7777777777777778,
              "#fb9f3a"
             ],
             [
              0.8888888888888888,
              "#fdca26"
             ],
             [
              1,
              "#f0f921"
             ]
            ],
            "type": "histogram2d"
           }
          ],
          "histogram2dcontour": [
           {
            "colorbar": {
             "outlinewidth": 0,
             "ticks": ""
            },
            "colorscale": [
             [
              0,
              "#0d0887"
             ],
             [
              0.1111111111111111,
              "#46039f"
             ],
             [
              0.2222222222222222,
              "#7201a8"
             ],
             [
              0.3333333333333333,
              "#9c179e"
             ],
             [
              0.4444444444444444,
              "#bd3786"
             ],
             [
              0.5555555555555556,
              "#d8576b"
             ],
             [
              0.6666666666666666,
              "#ed7953"
             ],
             [
              0.7777777777777778,
              "#fb9f3a"
             ],
             [
              0.8888888888888888,
              "#fdca26"
             ],
             [
              1,
              "#f0f921"
             ]
            ],
            "type": "histogram2dcontour"
           }
          ],
          "mesh3d": [
           {
            "colorbar": {
             "outlinewidth": 0,
             "ticks": ""
            },
            "type": "mesh3d"
           }
          ],
          "parcoords": [
           {
            "line": {
             "colorbar": {
              "outlinewidth": 0,
              "ticks": ""
             }
            },
            "type": "parcoords"
           }
          ],
          "pie": [
           {
            "automargin": true,
            "type": "pie"
           }
          ],
          "scatter": [
           {
            "marker": {
             "colorbar": {
              "outlinewidth": 0,
              "ticks": ""
             }
            },
            "type": "scatter"
           }
          ],
          "scatter3d": [
           {
            "line": {
             "colorbar": {
              "outlinewidth": 0,
              "ticks": ""
             }
            },
            "marker": {
             "colorbar": {
              "outlinewidth": 0,
              "ticks": ""
             }
            },
            "type": "scatter3d"
           }
          ],
          "scattercarpet": [
           {
            "marker": {
             "colorbar": {
              "outlinewidth": 0,
              "ticks": ""
             }
            },
            "type": "scattercarpet"
           }
          ],
          "scattergeo": [
           {
            "marker": {
             "colorbar": {
              "outlinewidth": 0,
              "ticks": ""
             }
            },
            "type": "scattergeo"
           }
          ],
          "scattergl": [
           {
            "marker": {
             "colorbar": {
              "outlinewidth": 0,
              "ticks": ""
             }
            },
            "type": "scattergl"
           }
          ],
          "scattermapbox": [
           {
            "marker": {
             "colorbar": {
              "outlinewidth": 0,
              "ticks": ""
             }
            },
            "type": "scattermapbox"
           }
          ],
          "scatterpolar": [
           {
            "marker": {
             "colorbar": {
              "outlinewidth": 0,
              "ticks": ""
             }
            },
            "type": "scatterpolar"
           }
          ],
          "scatterpolargl": [
           {
            "marker": {
             "colorbar": {
              "outlinewidth": 0,
              "ticks": ""
             }
            },
            "type": "scatterpolargl"
           }
          ],
          "scatterternary": [
           {
            "marker": {
             "colorbar": {
              "outlinewidth": 0,
              "ticks": ""
             }
            },
            "type": "scatterternary"
           }
          ],
          "surface": [
           {
            "colorbar": {
             "outlinewidth": 0,
             "ticks": ""
            },
            "colorscale": [
             [
              0,
              "#0d0887"
             ],
             [
              0.1111111111111111,
              "#46039f"
             ],
             [
              0.2222222222222222,
              "#7201a8"
             ],
             [
              0.3333333333333333,
              "#9c179e"
             ],
             [
              0.4444444444444444,
              "#bd3786"
             ],
             [
              0.5555555555555556,
              "#d8576b"
             ],
             [
              0.6666666666666666,
              "#ed7953"
             ],
             [
              0.7777777777777778,
              "#fb9f3a"
             ],
             [
              0.8888888888888888,
              "#fdca26"
             ],
             [
              1,
              "#f0f921"
             ]
            ],
            "type": "surface"
           }
          ],
          "table": [
           {
            "cells": {
             "fill": {
              "color": "#EBF0F8"
             },
             "line": {
              "color": "white"
             }
            },
            "header": {
             "fill": {
              "color": "#C8D4E3"
             },
             "line": {
              "color": "white"
             }
            },
            "type": "table"
           }
          ]
         },
         "layout": {
          "annotationdefaults": {
           "arrowcolor": "#2a3f5f",
           "arrowhead": 0,
           "arrowwidth": 1
          },
          "coloraxis": {
           "colorbar": {
            "outlinewidth": 0,
            "ticks": ""
           }
          },
          "colorscale": {
           "diverging": [
            [
             0,
             "#8e0152"
            ],
            [
             0.1,
             "#c51b7d"
            ],
            [
             0.2,
             "#de77ae"
            ],
            [
             0.3,
             "#f1b6da"
            ],
            [
             0.4,
             "#fde0ef"
            ],
            [
             0.5,
             "#f7f7f7"
            ],
            [
             0.6,
             "#e6f5d0"
            ],
            [
             0.7,
             "#b8e186"
            ],
            [
             0.8,
             "#7fbc41"
            ],
            [
             0.9,
             "#4d9221"
            ],
            [
             1,
             "#276419"
            ]
           ],
           "sequential": [
            [
             0,
             "#0d0887"
            ],
            [
             0.1111111111111111,
             "#46039f"
            ],
            [
             0.2222222222222222,
             "#7201a8"
            ],
            [
             0.3333333333333333,
             "#9c179e"
            ],
            [
             0.4444444444444444,
             "#bd3786"
            ],
            [
             0.5555555555555556,
             "#d8576b"
            ],
            [
             0.6666666666666666,
             "#ed7953"
            ],
            [
             0.7777777777777778,
             "#fb9f3a"
            ],
            [
             0.8888888888888888,
             "#fdca26"
            ],
            [
             1,
             "#f0f921"
            ]
           ],
           "sequentialminus": [
            [
             0,
             "#0d0887"
            ],
            [
             0.1111111111111111,
             "#46039f"
            ],
            [
             0.2222222222222222,
             "#7201a8"
            ],
            [
             0.3333333333333333,
             "#9c179e"
            ],
            [
             0.4444444444444444,
             "#bd3786"
            ],
            [
             0.5555555555555556,
             "#d8576b"
            ],
            [
             0.6666666666666666,
             "#ed7953"
            ],
            [
             0.7777777777777778,
             "#fb9f3a"
            ],
            [
             0.8888888888888888,
             "#fdca26"
            ],
            [
             1,
             "#f0f921"
            ]
           ]
          },
          "colorway": [
           "#636efa",
           "#EF553B",
           "#00cc96",
           "#ab63fa",
           "#FFA15A",
           "#19d3f3",
           "#FF6692",
           "#B6E880",
           "#FF97FF",
           "#FECB52"
          ],
          "font": {
           "color": "#2a3f5f"
          },
          "geo": {
           "bgcolor": "white",
           "lakecolor": "white",
           "landcolor": "#E5ECF6",
           "showlakes": true,
           "showland": true,
           "subunitcolor": "white"
          },
          "hoverlabel": {
           "align": "left"
          },
          "hovermode": "closest",
          "mapbox": {
           "style": "light"
          },
          "paper_bgcolor": "white",
          "plot_bgcolor": "#E5ECF6",
          "polar": {
           "angularaxis": {
            "gridcolor": "white",
            "linecolor": "white",
            "ticks": ""
           },
           "bgcolor": "#E5ECF6",
           "radialaxis": {
            "gridcolor": "white",
            "linecolor": "white",
            "ticks": ""
           }
          },
          "scene": {
           "xaxis": {
            "backgroundcolor": "#E5ECF6",
            "gridcolor": "white",
            "gridwidth": 2,
            "linecolor": "white",
            "showbackground": true,
            "ticks": "",
            "zerolinecolor": "white"
           },
           "yaxis": {
            "backgroundcolor": "#E5ECF6",
            "gridcolor": "white",
            "gridwidth": 2,
            "linecolor": "white",
            "showbackground": true,
            "ticks": "",
            "zerolinecolor": "white"
           },
           "zaxis": {
            "backgroundcolor": "#E5ECF6",
            "gridcolor": "white",
            "gridwidth": 2,
            "linecolor": "white",
            "showbackground": true,
            "ticks": "",
            "zerolinecolor": "white"
           }
          },
          "shapedefaults": {
           "line": {
            "color": "#2a3f5f"
           }
          },
          "ternary": {
           "aaxis": {
            "gridcolor": "white",
            "linecolor": "white",
            "ticks": ""
           },
           "baxis": {
            "gridcolor": "white",
            "linecolor": "white",
            "ticks": ""
           },
           "bgcolor": "#E5ECF6",
           "caxis": {
            "gridcolor": "white",
            "linecolor": "white",
            "ticks": ""
           }
          },
          "title": {
           "x": 0.05
          },
          "xaxis": {
           "automargin": true,
           "gridcolor": "white",
           "linecolor": "white",
           "ticks": "",
           "title": {
            "standoff": 15
           },
           "zerolinecolor": "white",
           "zerolinewidth": 2
          },
          "yaxis": {
           "automargin": true,
           "gridcolor": "white",
           "linecolor": "white",
           "ticks": "",
           "title": {
            "standoff": 15
           },
           "zerolinecolor": "white",
           "zerolinewidth": 2
          }
         }
        },
        "title": {
         "text": "Genres changing"
        },
        "xaxis": {
         "anchor": "y",
         "domain": [
          0,
          1
         ],
         "title": {
          "text": "year"
         }
        },
        "yaxis": {
         "anchor": "x",
         "domain": [
          0,
          1
         ],
         "title": {
          "text": "track_id"
         }
        }
       }
      },
      "text/html": [
       "<div>                            <div id=\"2bd8894d-8a42-42ff-aaae-f3ea53595970\" class=\"plotly-graph-div\" style=\"height:525px; width:100%;\"></div>            <script type=\"text/javascript\">                require([\"plotly\"], function(Plotly) {                    window.PLOTLYENV=window.PLOTLYENV || {};                                    if (document.getElementById(\"2bd8894d-8a42-42ff-aaae-f3ea53595970\")) {                    Plotly.newPlot(                        \"2bd8894d-8a42-42ff-aaae-f3ea53595970\",                        [{\"alignmentgroup\": \"True\", \"hovertemplate\": \"only_one_genre=dance pop<br>year=%{x}<br>track_id=%{y}<extra></extra>\", \"legendgroup\": \"dance pop\", \"marker\": {\"color\": \"#636efa\"}, \"name\": \"dance pop\", \"offsetgroup\": \"dance pop\", \"orientation\": \"v\", \"showlegend\": true, \"textposition\": \"auto\", \"type\": \"bar\", \"x\": [2000, 2001, 2002, 2003, 2004, 2005, 2006, 2007, 2008, 2009, 2010, 2011, 2012, 2013, 2014, 2015, 2016, 2017, 2020, 2021], \"xaxis\": \"x\", \"y\": [7, 16, 25, 17, 12, 9, 11, 14, 6, 8, 17, 4, 3, 3, 5, 3, 3, 1, 1, 1], \"yaxis\": \"y\"}, {\"alignmentgroup\": \"True\", \"hovertemplate\": \"only_one_genre=edm<br>year=%{x}<br>track_id=%{y}<extra></extra>\", \"legendgroup\": \"edm\", \"marker\": {\"color\": \"#EF553B\"}, \"name\": \"edm\", \"offsetgroup\": \"edm\", \"orientation\": \"v\", \"showlegend\": true, \"textposition\": \"auto\", \"type\": \"bar\", \"x\": [2003, 2004, 2007, 2008, 2010, 2011, 2012, 2013, 2014, 2015, 2016, 2017, 2018, 2019, 2021, 2022], \"xaxis\": \"x\", \"y\": [1, 1, 1, 1, 3, 1, 4, 4, 5, 4, 2, 1, 3, 2, 1, 1], \"yaxis\": \"y\"}, {\"alignmentgroup\": \"True\", \"hovertemplate\": \"only_one_genre=modern rock<br>year=%{x}<br>track_id=%{y}<extra></extra>\", \"legendgroup\": \"modern rock\", \"marker\": {\"color\": \"#00cc96\"}, \"name\": \"modern rock\", \"offsetgroup\": \"modern rock\", \"orientation\": \"v\", \"showlegend\": true, \"textposition\": \"auto\", \"type\": \"bar\", \"x\": [2000, 2001, 2002, 2003, 2004, 2005, 2006, 2007, 2008, 2009, 2010, 2011, 2012, 2013, 2014, 2015, 2016, 2017, 2018, 2021, 2022], \"xaxis\": \"x\", \"y\": [1, 6, 1, 3, 5, 11, 12, 7, 7, 10, 2, 4, 6, 9, 3, 5, 5, 2, 1, 1, 1], \"yaxis\": \"y\"}, {\"alignmentgroup\": \"True\", \"hovertemplate\": \"only_one_genre=neo mellow<br>year=%{x}<br>track_id=%{y}<extra></extra>\", \"legendgroup\": \"neo mellow\", \"marker\": {\"color\": \"#ab63fa\"}, \"name\": \"neo mellow\", \"offsetgroup\": \"neo mellow\", \"orientation\": \"v\", \"showlegend\": true, \"textposition\": \"auto\", \"type\": \"bar\", \"x\": [2000, 2001, 2002, 2003, 2004, 2005, 2006, 2007, 2008, 2009, 2010, 2011, 2012, 2013, 2014, 2015], \"xaxis\": \"x\", \"y\": [2, 4, 5, 1, 5, 7, 6, 3, 3, 1, 4, 1, 3, 2, 1, 1], \"yaxis\": \"y\"}, {\"alignmentgroup\": \"True\", \"hovertemplate\": \"only_one_genre=other<br>year=%{x}<br>track_id=%{y}<extra></extra>\", \"legendgroup\": \"other\", \"marker\": {\"color\": \"#FFA15A\"}, \"name\": \"other\", \"offsetgroup\": \"other\", \"orientation\": \"v\", \"showlegend\": true, \"textposition\": \"auto\", \"type\": \"bar\", \"x\": [2000, 2001, 2002, 2003, 2004, 2005, 2006, 2007, 2008, 2009, 2010, 2011, 2012, 2013, 2014, 2015, 2016, 2017, 2018, 2019, 2020, 2021, 2022], \"xaxis\": \"x\", \"y\": [45, 35, 30, 32, 34, 19, 29, 26, 23, 22, 13, 22, 10, 6, 12, 14, 12, 9, 16, 22, 16, 17, 22], \"yaxis\": \"y\"}, {\"alignmentgroup\": \"True\", \"hovertemplate\": \"only_one_genre=pop<br>year=%{x}<br>track_id=%{y}<extra></extra>\", \"legendgroup\": \"pop\", \"marker\": {\"color\": \"#19d3f3\"}, \"name\": \"pop\", \"offsetgroup\": \"pop\", \"orientation\": \"v\", \"showlegend\": true, \"textposition\": \"auto\", \"type\": \"bar\", \"x\": [2000, 2001, 2002, 2003, 2004, 2005, 2006, 2007, 2008, 2009, 2010, 2011, 2012, 2013, 2014, 2015, 2016, 2017, 2018, 2019, 2020, 2021, 2022], \"xaxis\": \"x\", \"y\": [18, 17, 21, 16, 23, 30, 29, 32, 37, 44, 47, 51, 62, 58, 66, 60, 63, 55, 45, 52, 55, 59, 54], \"yaxis\": \"y\"}, {\"alignmentgroup\": \"True\", \"hovertemplate\": \"only_one_genre=pop rap<br>year=%{x}<br>track_id=%{y}<extra></extra>\", \"legendgroup\": \"pop rap\", \"marker\": {\"color\": \"#FF6692\"}, \"name\": \"pop rap\", \"offsetgroup\": \"pop rap\", \"orientation\": \"v\", \"showlegend\": true, \"textposition\": \"auto\", \"type\": \"bar\", \"x\": [2001, 2003, 2004, 2005, 2006, 2007, 2008, 2009, 2010, 2011, 2013, 2014, 2015, 2017, 2018, 2020, 2021], \"xaxis\": \"x\", \"y\": [2, 3, 1, 2, 1, 2, 1, 2, 2, 2, 3, 1, 1, 4, 2, 4, 2], \"yaxis\": \"y\"}, {\"alignmentgroup\": \"True\", \"hovertemplate\": \"only_one_genre=r&b<br>year=%{x}<br>track_id=%{y}<extra></extra>\", \"legendgroup\": \"r&b\", \"marker\": {\"color\": \"#B6E880\"}, \"name\": \"r&b\", \"offsetgroup\": \"r&b\", \"orientation\": \"v\", \"showlegend\": true, \"textposition\": \"auto\", \"type\": \"bar\", \"x\": [2000, 2001, 2002, 2003, 2004, 2005, 2006, 2007, 2008, 2009, 2010, 2011, 2012, 2014, 2016, 2017, 2018, 2021], \"xaxis\": \"x\", \"y\": [15, 11, 3, 7, 2, 3, 2, 5, 3, 2, 1, 1, 1, 1, 1, 1, 1, 1], \"yaxis\": \"y\"}, {\"alignmentgroup\": \"True\", \"hovertemplate\": \"only_one_genre=rap<br>year=%{x}<br>track_id=%{y}<extra></extra>\", \"legendgroup\": \"rap\", \"marker\": {\"color\": \"#FF97FF\"}, \"name\": \"rap\", \"offsetgroup\": \"rap\", \"orientation\": \"v\", \"showlegend\": true, \"textposition\": \"auto\", \"type\": \"bar\", \"x\": [2000, 2001, 2002, 2003, 2004, 2005, 2006, 2007, 2008, 2009, 2010, 2011, 2012, 2013, 2014, 2015, 2016, 2017, 2018, 2019, 2020, 2021, 2022], \"xaxis\": \"x\", \"y\": [5, 4, 8, 13, 12, 16, 9, 6, 16, 10, 10, 13, 10, 13, 5, 12, 14, 26, 26, 16, 19, 10, 11], \"yaxis\": \"y\"}, {\"alignmentgroup\": \"True\", \"hovertemplate\": \"only_one_genre=rock<br>year=%{x}<br>track_id=%{y}<extra></extra>\", \"legendgroup\": \"rock\", \"marker\": {\"color\": \"#FECB52\"}, \"name\": \"rock\", \"offsetgroup\": \"rock\", \"orientation\": \"v\", \"showlegend\": true, \"textposition\": \"auto\", \"type\": \"bar\", \"x\": [2000, 2001, 2002, 2003, 2004, 2005, 2006, 2007, 2008, 2009, 2011, 2012, 2013, 2019, 2021, 2022], \"xaxis\": \"x\", \"y\": [7, 5, 7, 7, 4, 3, 1, 4, 3, 1, 1, 1, 2, 1, 1, 2], \"yaxis\": \"y\"}, {\"alignmentgroup\": \"True\", \"hovertemplate\": \"only_one_genre=trap latino<br>year=%{x}<br>track_id=%{y}<extra></extra>\", \"legendgroup\": \"trap latino\", \"marker\": {\"color\": \"#636efa\"}, \"name\": \"trap latino\", \"offsetgroup\": \"trap latino\", \"orientation\": \"v\", \"showlegend\": true, \"textposition\": \"auto\", \"type\": \"bar\", \"x\": [2004, 2010, 2014, 2017, 2018, 2019, 2020, 2021, 2022], \"xaxis\": \"x\", \"y\": [1, 1, 1, 1, 6, 7, 5, 7, 9], \"yaxis\": \"y\"}],                        {\"barmode\": \"relative\", \"legend\": {\"title\": {\"text\": \"only_one_genre\"}, \"tracegroupgap\": 0}, \"template\": {\"data\": {\"bar\": [{\"error_x\": {\"color\": \"#2a3f5f\"}, \"error_y\": {\"color\": \"#2a3f5f\"}, \"marker\": {\"line\": {\"color\": \"#E5ECF6\", \"width\": 0.5}}, \"type\": \"bar\"}], \"barpolar\": [{\"marker\": {\"line\": {\"color\": \"#E5ECF6\", \"width\": 0.5}}, \"type\": \"barpolar\"}], \"carpet\": [{\"aaxis\": {\"endlinecolor\": \"#2a3f5f\", \"gridcolor\": \"white\", \"linecolor\": \"white\", \"minorgridcolor\": \"white\", \"startlinecolor\": \"#2a3f5f\"}, \"baxis\": {\"endlinecolor\": \"#2a3f5f\", \"gridcolor\": \"white\", \"linecolor\": \"white\", \"minorgridcolor\": \"white\", \"startlinecolor\": \"#2a3f5f\"}, \"type\": \"carpet\"}], \"choropleth\": [{\"colorbar\": {\"outlinewidth\": 0, \"ticks\": \"\"}, \"type\": \"choropleth\"}], \"contour\": [{\"colorbar\": {\"outlinewidth\": 0, \"ticks\": \"\"}, \"colorscale\": [[0.0, \"#0d0887\"], [0.1111111111111111, \"#46039f\"], [0.2222222222222222, \"#7201a8\"], [0.3333333333333333, \"#9c179e\"], [0.4444444444444444, \"#bd3786\"], [0.5555555555555556, \"#d8576b\"], [0.6666666666666666, \"#ed7953\"], [0.7777777777777778, \"#fb9f3a\"], [0.8888888888888888, \"#fdca26\"], [1.0, \"#f0f921\"]], \"type\": \"contour\"}], \"contourcarpet\": [{\"colorbar\": {\"outlinewidth\": 0, \"ticks\": \"\"}, \"type\": \"contourcarpet\"}], \"heatmap\": [{\"colorbar\": {\"outlinewidth\": 0, \"ticks\": \"\"}, \"colorscale\": [[0.0, \"#0d0887\"], [0.1111111111111111, \"#46039f\"], [0.2222222222222222, \"#7201a8\"], [0.3333333333333333, \"#9c179e\"], [0.4444444444444444, \"#bd3786\"], [0.5555555555555556, \"#d8576b\"], [0.6666666666666666, \"#ed7953\"], [0.7777777777777778, \"#fb9f3a\"], [0.8888888888888888, \"#fdca26\"], [1.0, \"#f0f921\"]], \"type\": \"heatmap\"}], \"heatmapgl\": [{\"colorbar\": {\"outlinewidth\": 0, \"ticks\": \"\"}, \"colorscale\": [[0.0, \"#0d0887\"], [0.1111111111111111, \"#46039f\"], [0.2222222222222222, \"#7201a8\"], [0.3333333333333333, \"#9c179e\"], [0.4444444444444444, \"#bd3786\"], [0.5555555555555556, \"#d8576b\"], [0.6666666666666666, \"#ed7953\"], [0.7777777777777778, \"#fb9f3a\"], [0.8888888888888888, \"#fdca26\"], [1.0, \"#f0f921\"]], \"type\": \"heatmapgl\"}], \"histogram\": [{\"marker\": {\"colorbar\": {\"outlinewidth\": 0, \"ticks\": \"\"}}, \"type\": \"histogram\"}], \"histogram2d\": [{\"colorbar\": {\"outlinewidth\": 0, \"ticks\": \"\"}, \"colorscale\": [[0.0, \"#0d0887\"], [0.1111111111111111, \"#46039f\"], [0.2222222222222222, \"#7201a8\"], [0.3333333333333333, \"#9c179e\"], [0.4444444444444444, \"#bd3786\"], [0.5555555555555556, \"#d8576b\"], [0.6666666666666666, \"#ed7953\"], [0.7777777777777778, \"#fb9f3a\"], [0.8888888888888888, \"#fdca26\"], [1.0, \"#f0f921\"]], \"type\": \"histogram2d\"}], \"histogram2dcontour\": [{\"colorbar\": {\"outlinewidth\": 0, \"ticks\": \"\"}, \"colorscale\": [[0.0, \"#0d0887\"], [0.1111111111111111, \"#46039f\"], [0.2222222222222222, \"#7201a8\"], [0.3333333333333333, \"#9c179e\"], [0.4444444444444444, \"#bd3786\"], [0.5555555555555556, \"#d8576b\"], [0.6666666666666666, \"#ed7953\"], [0.7777777777777778, \"#fb9f3a\"], [0.8888888888888888, \"#fdca26\"], [1.0, \"#f0f921\"]], \"type\": \"histogram2dcontour\"}], \"mesh3d\": [{\"colorbar\": {\"outlinewidth\": 0, \"ticks\": \"\"}, \"type\": \"mesh3d\"}], \"parcoords\": [{\"line\": {\"colorbar\": {\"outlinewidth\": 0, \"ticks\": \"\"}}, \"type\": \"parcoords\"}], \"pie\": [{\"automargin\": true, \"type\": \"pie\"}], \"scatter\": [{\"marker\": {\"colorbar\": {\"outlinewidth\": 0, \"ticks\": \"\"}}, \"type\": \"scatter\"}], \"scatter3d\": [{\"line\": {\"colorbar\": {\"outlinewidth\": 0, \"ticks\": \"\"}}, \"marker\": {\"colorbar\": {\"outlinewidth\": 0, \"ticks\": \"\"}}, \"type\": \"scatter3d\"}], \"scattercarpet\": [{\"marker\": {\"colorbar\": {\"outlinewidth\": 0, \"ticks\": \"\"}}, \"type\": \"scattercarpet\"}], \"scattergeo\": [{\"marker\": {\"colorbar\": {\"outlinewidth\": 0, \"ticks\": \"\"}}, \"type\": \"scattergeo\"}], \"scattergl\": [{\"marker\": {\"colorbar\": {\"outlinewidth\": 0, \"ticks\": \"\"}}, \"type\": \"scattergl\"}], \"scattermapbox\": [{\"marker\": {\"colorbar\": {\"outlinewidth\": 0, \"ticks\": \"\"}}, \"type\": \"scattermapbox\"}], \"scatterpolar\": [{\"marker\": {\"colorbar\": {\"outlinewidth\": 0, \"ticks\": \"\"}}, \"type\": \"scatterpolar\"}], \"scatterpolargl\": [{\"marker\": {\"colorbar\": {\"outlinewidth\": 0, \"ticks\": \"\"}}, \"type\": \"scatterpolargl\"}], \"scatterternary\": [{\"marker\": {\"colorbar\": {\"outlinewidth\": 0, \"ticks\": \"\"}}, \"type\": \"scatterternary\"}], \"surface\": [{\"colorbar\": {\"outlinewidth\": 0, \"ticks\": \"\"}, \"colorscale\": [[0.0, \"#0d0887\"], [0.1111111111111111, \"#46039f\"], [0.2222222222222222, \"#7201a8\"], [0.3333333333333333, \"#9c179e\"], [0.4444444444444444, \"#bd3786\"], [0.5555555555555556, \"#d8576b\"], [0.6666666666666666, \"#ed7953\"], [0.7777777777777778, \"#fb9f3a\"], [0.8888888888888888, \"#fdca26\"], [1.0, \"#f0f921\"]], \"type\": \"surface\"}], \"table\": [{\"cells\": {\"fill\": {\"color\": \"#EBF0F8\"}, \"line\": {\"color\": \"white\"}}, \"header\": {\"fill\": {\"color\": \"#C8D4E3\"}, \"line\": {\"color\": \"white\"}}, \"type\": \"table\"}]}, \"layout\": {\"annotationdefaults\": {\"arrowcolor\": \"#2a3f5f\", \"arrowhead\": 0, \"arrowwidth\": 1}, \"coloraxis\": {\"colorbar\": {\"outlinewidth\": 0, \"ticks\": \"\"}}, \"colorscale\": {\"diverging\": [[0, \"#8e0152\"], [0.1, \"#c51b7d\"], [0.2, \"#de77ae\"], [0.3, \"#f1b6da\"], [0.4, \"#fde0ef\"], [0.5, \"#f7f7f7\"], [0.6, \"#e6f5d0\"], [0.7, \"#b8e186\"], [0.8, \"#7fbc41\"], [0.9, \"#4d9221\"], [1, \"#276419\"]], \"sequential\": [[0.0, \"#0d0887\"], [0.1111111111111111, \"#46039f\"], [0.2222222222222222, \"#7201a8\"], [0.3333333333333333, \"#9c179e\"], [0.4444444444444444, \"#bd3786\"], [0.5555555555555556, \"#d8576b\"], [0.6666666666666666, \"#ed7953\"], [0.7777777777777778, \"#fb9f3a\"], [0.8888888888888888, \"#fdca26\"], [1.0, \"#f0f921\"]], \"sequentialminus\": [[0.0, \"#0d0887\"], [0.1111111111111111, \"#46039f\"], [0.2222222222222222, \"#7201a8\"], [0.3333333333333333, \"#9c179e\"], [0.4444444444444444, \"#bd3786\"], [0.5555555555555556, \"#d8576b\"], [0.6666666666666666, \"#ed7953\"], [0.7777777777777778, \"#fb9f3a\"], [0.8888888888888888, \"#fdca26\"], [1.0, \"#f0f921\"]]}, \"colorway\": [\"#636efa\", \"#EF553B\", \"#00cc96\", \"#ab63fa\", \"#FFA15A\", \"#19d3f3\", \"#FF6692\", \"#B6E880\", \"#FF97FF\", \"#FECB52\"], \"font\": {\"color\": \"#2a3f5f\"}, \"geo\": {\"bgcolor\": \"white\", \"lakecolor\": \"white\", \"landcolor\": \"#E5ECF6\", \"showlakes\": true, \"showland\": true, \"subunitcolor\": \"white\"}, \"hoverlabel\": {\"align\": \"left\"}, \"hovermode\": \"closest\", \"mapbox\": {\"style\": \"light\"}, \"paper_bgcolor\": \"white\", \"plot_bgcolor\": \"#E5ECF6\", \"polar\": {\"angularaxis\": {\"gridcolor\": \"white\", \"linecolor\": \"white\", \"ticks\": \"\"}, \"bgcolor\": \"#E5ECF6\", \"radialaxis\": {\"gridcolor\": \"white\", \"linecolor\": \"white\", \"ticks\": \"\"}}, \"scene\": {\"xaxis\": {\"backgroundcolor\": \"#E5ECF6\", \"gridcolor\": \"white\", \"gridwidth\": 2, \"linecolor\": \"white\", \"showbackground\": true, \"ticks\": \"\", \"zerolinecolor\": \"white\"}, \"yaxis\": {\"backgroundcolor\": \"#E5ECF6\", \"gridcolor\": \"white\", \"gridwidth\": 2, \"linecolor\": \"white\", \"showbackground\": true, \"ticks\": \"\", \"zerolinecolor\": \"white\"}, \"zaxis\": {\"backgroundcolor\": \"#E5ECF6\", \"gridcolor\": \"white\", \"gridwidth\": 2, \"linecolor\": \"white\", \"showbackground\": true, \"ticks\": \"\", \"zerolinecolor\": \"white\"}}, \"shapedefaults\": {\"line\": {\"color\": \"#2a3f5f\"}}, \"ternary\": {\"aaxis\": {\"gridcolor\": \"white\", \"linecolor\": \"white\", \"ticks\": \"\"}, \"baxis\": {\"gridcolor\": \"white\", \"linecolor\": \"white\", \"ticks\": \"\"}, \"bgcolor\": \"#E5ECF6\", \"caxis\": {\"gridcolor\": \"white\", \"linecolor\": \"white\", \"ticks\": \"\"}}, \"title\": {\"x\": 0.05}, \"xaxis\": {\"automargin\": true, \"gridcolor\": \"white\", \"linecolor\": \"white\", \"ticks\": \"\", \"title\": {\"standoff\": 15}, \"zerolinecolor\": \"white\", \"zerolinewidth\": 2}, \"yaxis\": {\"automargin\": true, \"gridcolor\": \"white\", \"linecolor\": \"white\", \"ticks\": \"\", \"title\": {\"standoff\": 15}, \"zerolinecolor\": \"white\", \"zerolinewidth\": 2}}}, \"title\": {\"text\": \"Genres changing\"}, \"xaxis\": {\"anchor\": \"y\", \"domain\": [0.0, 1.0], \"title\": {\"text\": \"year\"}}, \"yaxis\": {\"anchor\": \"x\", \"domain\": [0.0, 1.0], \"title\": {\"text\": \"track_id\"}}},                        {\"responsive\": true}                    ).then(function(){\n",
       "                            \n",
       "var gd = document.getElementById('2bd8894d-8a42-42ff-aaae-f3ea53595970');\n",
       "var x = new MutationObserver(function (mutations, observer) {{\n",
       "        var display = window.getComputedStyle(gd).display;\n",
       "        if (!display || display === 'none') {{\n",
       "            console.log([gd, 'removed!']);\n",
       "            Plotly.purge(gd);\n",
       "            observer.disconnect();\n",
       "        }}\n",
       "}});\n",
       "\n",
       "// Listen for the removal of the full notebook cells\n",
       "var notebookContainer = gd.closest('#notebook-container');\n",
       "if (notebookContainer) {{\n",
       "    x.observe(notebookContainer, {childList: true});\n",
       "}}\n",
       "\n",
       "// Listen for the clearing of the current output cell\n",
       "var outputEl = gd.closest('.output');\n",
       "if (outputEl) {{\n",
       "    x.observe(outputEl, {childList: true});\n",
       "}}\n",
       "\n",
       "                        })                };                });            </script>        </div>"
      ]
     },
     "metadata": {},
     "output_type": "display_data"
    },
    {
     "data": {
      "application/javascript": [
       "\n",
       "            setTimeout(function() {\n",
       "                var nbb_cell_id = 259;\n",
       "                var nbb_unformatted_code = \"px.bar(\\n    gydfc,\\n    x=\\\"year\\\",\\n    y=\\\"track_id\\\",\\n    color=\\\"only_one_genre\\\",\\n    title=\\\"Genres changing\\\",\\n)\";\n",
       "                var nbb_formatted_code = \"px.bar(\\n    gydfc,\\n    x=\\\"year\\\",\\n    y=\\\"track_id\\\",\\n    color=\\\"only_one_genre\\\",\\n    title=\\\"Genres changing\\\",\\n)\";\n",
       "                var nbb_cells = Jupyter.notebook.get_cells();\n",
       "                for (var i = 0; i < nbb_cells.length; ++i) {\n",
       "                    if (nbb_cells[i].input_prompt_number == nbb_cell_id) {\n",
       "                        if (nbb_cells[i].get_text() == nbb_unformatted_code) {\n",
       "                             nbb_cells[i].set_text(nbb_formatted_code);\n",
       "                        }\n",
       "                        break;\n",
       "                    }\n",
       "                }\n",
       "            }, 500);\n",
       "            "
      ],
      "text/plain": [
       "<IPython.core.display.Javascript object>"
      ]
     },
     "metadata": {},
     "output_type": "display_data"
    }
   ],
   "source": [
    "px.bar(\n",
    "    gydfc,\n",
    "    x=\"year\",\n",
    "    y=\"track_id\",\n",
    "    color=\"only_one_genre\",\n",
    "    title=\"Genres changing\",\n",
    ")"
   ]
  },
  {
   "cell_type": "markdown",
   "metadata": {},
   "source": [
    "### Box plot"
   ]
  },
  {
   "cell_type": "code",
   "execution_count": 175,
   "metadata": {},
   "outputs": [
    {
     "data": {
      "application/javascript": [
       "\n",
       "            setTimeout(function() {\n",
       "                var nbb_cell_id = 175;\n",
       "                var nbb_unformatted_code = \"df[\\\"duration_min\\\"] = (df.duration_ms / (1000 * 60)).round(decimals=1) # to minutes\";\n",
       "                var nbb_formatted_code = \"df[\\\"duration_min\\\"] = (df.duration_ms / (1000 * 60)).round(decimals=1)  # to minutes\";\n",
       "                var nbb_cells = Jupyter.notebook.get_cells();\n",
       "                for (var i = 0; i < nbb_cells.length; ++i) {\n",
       "                    if (nbb_cells[i].input_prompt_number == nbb_cell_id) {\n",
       "                        if (nbb_cells[i].get_text() == nbb_unformatted_code) {\n",
       "                             nbb_cells[i].set_text(nbb_formatted_code);\n",
       "                        }\n",
       "                        break;\n",
       "                    }\n",
       "                }\n",
       "            }, 500);\n",
       "            "
      ],
      "text/plain": [
       "<IPython.core.display.Javascript object>"
      ]
     },
     "metadata": {},
     "output_type": "display_data"
    }
   ],
   "source": [
    "df[\"duration_min\"] = (df.duration_ms / (1000 * 60)).round(decimals=1)  # to minutes"
   ]
  },
  {
   "cell_type": "code",
   "execution_count": 179,
   "metadata": {},
   "outputs": [
    {
     "data": {
      "application/vnd.plotly.v1+json": {
       "config": {
        "plotlyServerURL": "https://plot.ly"
       },
       "data": [
        {
         "alignmentgroup": "True",
         "hovertemplate": "only_one_genre=pop<br>year=%{x}<br>duration_min=%{y}<extra></extra>",
         "legendgroup": "pop",
         "marker": {
          "color": "#636efa"
         },
         "name": "pop",
         "notched": false,
         "offsetgroup": "pop",
         "orientation": "v",
         "showlegend": true,
         "type": "box",
         "x": [
          2000,
          2000,
          2000,
          2000,
          2000,
          2000,
          2000,
          2000,
          2000,
          2000,
          2000,
          2000,
          2000,
          2000,
          2000,
          2000,
          2000,
          2000,
          2001,
          2001,
          2001,
          2001,
          2001,
          2001,
          2001,
          2001,
          2001,
          2001,
          2001,
          2001,
          2001,
          2001,
          2001,
          2001,
          2001,
          2002,
          2002,
          2002,
          2002,
          2002,
          2002,
          2002,
          2002,
          2002,
          2002,
          2002,
          2002,
          2002,
          2002,
          2002,
          2002,
          2002,
          2002,
          2002,
          2002,
          2002,
          2003,
          2003,
          2003,
          2003,
          2003,
          2003,
          2003,
          2003,
          2003,
          2003,
          2003,
          2003,
          2003,
          2003,
          2003,
          2003,
          2004,
          2004,
          2004,
          2004,
          2004,
          2004,
          2004,
          2004,
          2004,
          2004,
          2004,
          2004,
          2004,
          2004,
          2004,
          2004,
          2004,
          2004,
          2004,
          2004,
          2004,
          2004,
          2004,
          2005,
          2005,
          2005,
          2005,
          2005,
          2005,
          2005,
          2005,
          2005,
          2005,
          2005,
          2005,
          2005,
          2005,
          2005,
          2005,
          2005,
          2005,
          2005,
          2005,
          2005,
          2005,
          2005,
          2005,
          2005,
          2005,
          2005,
          2005,
          2005,
          2005,
          2006,
          2006,
          2006,
          2006,
          2006,
          2006,
          2006,
          2006,
          2006,
          2006,
          2006,
          2006,
          2006,
          2006,
          2006,
          2006,
          2006,
          2006,
          2006,
          2006,
          2006,
          2006,
          2006,
          2006,
          2006,
          2006,
          2006,
          2006,
          2006,
          2007,
          2007,
          2007,
          2007,
          2007,
          2007,
          2007,
          2007,
          2007,
          2007,
          2007,
          2007,
          2007,
          2007,
          2007,
          2007,
          2007,
          2007,
          2007,
          2007,
          2007,
          2007,
          2007,
          2007,
          2007,
          2007,
          2007,
          2007,
          2007,
          2007,
          2007,
          2007,
          2008,
          2008,
          2008,
          2008,
          2008,
          2008,
          2008,
          2008,
          2008,
          2008,
          2008,
          2008,
          2008,
          2008,
          2008,
          2008,
          2008,
          2008,
          2008,
          2008,
          2008,
          2008,
          2008,
          2008,
          2008,
          2008,
          2008,
          2008,
          2008,
          2008,
          2008,
          2008,
          2008,
          2008,
          2008,
          2008,
          2008,
          2009,
          2009,
          2009,
          2009,
          2009,
          2009,
          2009,
          2009,
          2009,
          2009,
          2009,
          2009,
          2009,
          2009,
          2009,
          2009,
          2009,
          2009,
          2009,
          2009,
          2009,
          2009,
          2009,
          2009,
          2009,
          2009,
          2009,
          2009,
          2009,
          2009,
          2009,
          2009,
          2009,
          2009,
          2009,
          2009,
          2009,
          2009,
          2009,
          2009,
          2009,
          2009,
          2009,
          2009,
          2010,
          2010,
          2010,
          2010,
          2010,
          2010,
          2010,
          2010,
          2010,
          2010,
          2010,
          2010,
          2010,
          2010,
          2010,
          2010,
          2010,
          2010,
          2010,
          2010,
          2010,
          2010,
          2010,
          2010,
          2010,
          2010,
          2010,
          2010,
          2010,
          2010,
          2010,
          2010,
          2010,
          2010,
          2010,
          2010,
          2010,
          2010,
          2010,
          2010,
          2010,
          2010,
          2010,
          2010,
          2010,
          2010,
          2010,
          2011,
          2011,
          2011,
          2011,
          2011,
          2011,
          2011,
          2011,
          2011,
          2011,
          2011,
          2011,
          2011,
          2011,
          2011,
          2011,
          2011,
          2011,
          2011,
          2011,
          2011,
          2011,
          2011,
          2011,
          2011,
          2011,
          2011,
          2011,
          2011,
          2011,
          2011,
          2011,
          2011,
          2011,
          2011,
          2011,
          2011,
          2011,
          2011,
          2011,
          2011,
          2011,
          2011,
          2011,
          2011,
          2011,
          2011,
          2011,
          2011,
          2011,
          2011,
          2012,
          2012,
          2012,
          2012,
          2012,
          2012,
          2012,
          2012,
          2012,
          2012,
          2012,
          2012,
          2012,
          2012,
          2012,
          2012,
          2012,
          2012,
          2012,
          2012,
          2012,
          2012,
          2012,
          2012,
          2012,
          2012,
          2012,
          2012,
          2012,
          2012,
          2012,
          2012,
          2012,
          2012,
          2012,
          2012,
          2012,
          2012,
          2012,
          2012,
          2012,
          2012,
          2012,
          2012,
          2012,
          2012,
          2012,
          2012,
          2012,
          2012,
          2012,
          2012,
          2012,
          2012,
          2012,
          2012,
          2012,
          2012,
          2012,
          2012,
          2012,
          2012,
          2013,
          2013,
          2013,
          2013,
          2013,
          2013,
          2013,
          2013,
          2013,
          2013,
          2013,
          2013,
          2013,
          2013,
          2013,
          2013,
          2013,
          2013,
          2013,
          2013,
          2013,
          2013,
          2013,
          2013,
          2013,
          2013,
          2013,
          2013,
          2013,
          2013,
          2013,
          2013,
          2013,
          2013,
          2013,
          2013,
          2013,
          2013,
          2013,
          2013,
          2013,
          2013,
          2013,
          2013,
          2013,
          2013,
          2013,
          2013,
          2013,
          2013,
          2013,
          2013,
          2013,
          2013,
          2013,
          2013,
          2013,
          2013,
          2014,
          2014,
          2014,
          2014,
          2014,
          2014,
          2014,
          2014,
          2014,
          2014,
          2014,
          2014,
          2014,
          2014,
          2014,
          2014,
          2014,
          2014,
          2014,
          2014,
          2014,
          2014,
          2014,
          2014,
          2014,
          2014,
          2014,
          2014,
          2014,
          2014,
          2014,
          2014,
          2014,
          2014,
          2014,
          2014,
          2014,
          2014,
          2014,
          2014,
          2014,
          2014,
          2014,
          2014,
          2014,
          2014,
          2014,
          2014,
          2014,
          2014,
          2014,
          2014,
          2014,
          2014,
          2014,
          2014,
          2014,
          2014,
          2014,
          2014,
          2014,
          2014,
          2014,
          2014,
          2014,
          2014,
          2015,
          2015,
          2015,
          2015,
          2015,
          2015,
          2015,
          2015,
          2015,
          2015,
          2015,
          2015,
          2015,
          2015,
          2015,
          2015,
          2015,
          2015,
          2015,
          2015,
          2015,
          2015,
          2015,
          2015,
          2015,
          2015,
          2015,
          2015,
          2015,
          2015,
          2015,
          2015,
          2015,
          2015,
          2015,
          2015,
          2015,
          2015,
          2015,
          2015,
          2015,
          2015,
          2015,
          2015,
          2015,
          2015,
          2015,
          2015,
          2015,
          2015,
          2015,
          2015,
          2015,
          2015,
          2015,
          2015,
          2015,
          2015,
          2015,
          2015,
          2016,
          2016,
          2016,
          2016,
          2016,
          2016,
          2016,
          2016,
          2016,
          2016,
          2016,
          2016,
          2016,
          2016,
          2016,
          2016,
          2016,
          2016,
          2016,
          2016,
          2016,
          2016,
          2016,
          2016,
          2016,
          2016,
          2016,
          2016,
          2016,
          2016,
          2016,
          2016,
          2016,
          2016,
          2016,
          2016,
          2016,
          2016,
          2016,
          2016,
          2016,
          2016,
          2016,
          2016,
          2016,
          2016,
          2016,
          2016,
          2016,
          2016,
          2016,
          2016,
          2016,
          2016,
          2016,
          2016,
          2016,
          2016,
          2016,
          2016,
          2016,
          2016,
          2016,
          2017,
          2017,
          2017,
          2017,
          2017,
          2017,
          2017,
          2017,
          2017,
          2017,
          2017,
          2017,
          2017,
          2017,
          2017,
          2017,
          2017,
          2017,
          2017,
          2017,
          2017,
          2017,
          2017,
          2017,
          2017,
          2017,
          2017,
          2017,
          2017,
          2017,
          2017,
          2017,
          2017,
          2017,
          2017,
          2017,
          2017,
          2017,
          2017,
          2017,
          2017,
          2017,
          2017,
          2017,
          2017,
          2017,
          2017,
          2017,
          2017,
          2017,
          2017,
          2017,
          2017,
          2017,
          2017,
          2018,
          2018,
          2018,
          2018,
          2018,
          2018,
          2018,
          2018,
          2018,
          2018,
          2018,
          2018,
          2018,
          2018,
          2018,
          2018,
          2018,
          2018,
          2018,
          2018,
          2018,
          2018,
          2018,
          2018,
          2018,
          2018,
          2018,
          2018,
          2018,
          2018,
          2018,
          2018,
          2018,
          2018,
          2018,
          2018,
          2018,
          2018,
          2018,
          2018,
          2018,
          2018,
          2018,
          2018,
          2018,
          2019,
          2019,
          2019,
          2019,
          2019,
          2019,
          2019,
          2019,
          2019,
          2019,
          2019,
          2019,
          2019,
          2019,
          2019,
          2019,
          2019,
          2019,
          2019,
          2019,
          2019,
          2019,
          2019,
          2019,
          2019,
          2019,
          2019,
          2019,
          2019,
          2019,
          2019,
          2019,
          2019,
          2019,
          2019,
          2019,
          2019,
          2019,
          2019,
          2019,
          2019,
          2019,
          2019,
          2019,
          2019,
          2019,
          2019,
          2019,
          2019,
          2019,
          2019,
          2019,
          2020,
          2020,
          2020,
          2020,
          2020,
          2020,
          2020,
          2020,
          2020,
          2020,
          2020,
          2020,
          2020,
          2020,
          2020,
          2020,
          2020,
          2020,
          2020,
          2020,
          2020,
          2020,
          2020,
          2020,
          2020,
          2020,
          2020,
          2020,
          2020,
          2020,
          2020,
          2020,
          2020,
          2020,
          2020,
          2020,
          2020,
          2020,
          2020,
          2020,
          2020,
          2020,
          2020,
          2020,
          2020,
          2020,
          2020,
          2020,
          2020,
          2020,
          2020,
          2020,
          2020,
          2020,
          2020,
          2021,
          2021,
          2021,
          2021,
          2021,
          2021,
          2021,
          2021,
          2021,
          2021,
          2021,
          2021,
          2021,
          2021,
          2021,
          2021,
          2021,
          2021,
          2021,
          2021,
          2021,
          2021,
          2021,
          2021,
          2021,
          2021,
          2021,
          2021,
          2021,
          2021,
          2021,
          2021,
          2021,
          2021,
          2021,
          2021,
          2021,
          2021,
          2021,
          2021,
          2021,
          2021,
          2021,
          2021,
          2021,
          2021,
          2021,
          2021,
          2021,
          2021,
          2021,
          2021,
          2021,
          2021,
          2021,
          2021,
          2021,
          2021,
          2021,
          2022,
          2022,
          2022,
          2022,
          2022,
          2022,
          2022,
          2022,
          2022,
          2022,
          2022,
          2022,
          2022,
          2022,
          2022,
          2022,
          2022,
          2022,
          2022,
          2022,
          2022,
          2022,
          2022,
          2022,
          2022,
          2022,
          2022,
          2022,
          2022,
          2022,
          2022,
          2022,
          2022,
          2022,
          2022,
          2022,
          2022,
          2022,
          2022,
          2022,
          2022,
          2022,
          2022,
          2022,
          2022,
          2022,
          2022,
          2022,
          2022,
          2022,
          2022,
          2022,
          2022,
          2022
         ],
         "x0": " ",
         "xaxis": "x",
         "y": [
          4.4,
          3.3,
          4.5,
          3.8,
          3.8,
          3.2,
          3.4,
          3.7,
          4.7,
          3.4,
          3.6,
          4.1,
          4.6,
          4.3,
          3.4,
          3.4,
          5,
          3.8,
          4.2,
          4.5,
          4.1,
          3.3,
          4.3,
          3.5,
          4.4,
          3.4,
          3.7,
          4.4,
          3.7,
          4.7,
          3.5,
          4.6,
          4.1,
          3.5,
          4.9,
          4.1,
          3.7,
          5.2,
          3.4,
          5.1,
          3.8,
          4.1,
          3.2,
          5,
          3.9,
          4.5,
          3.5,
          4.7,
          3.3,
          3.8,
          3.9,
          5.1,
          3.8,
          2.9,
          4.6,
          4.2,
          3.9,
          3.5,
          4.5,
          5.1,
          4.5,
          4.8,
          3.1,
          3.7,
          4.1,
          3.9,
          4.1,
          3.9,
          4.3,
          4,
          3.6,
          4.9,
          4.2,
          3.4,
          3.3,
          3.8,
          3.7,
          4.3,
          3.6,
          4.6,
          3.5,
          3.7,
          4,
          3.5,
          4,
          null,
          3.8,
          3.6,
          5,
          3.7,
          3.5,
          4,
          4.7,
          3.4,
          4.5,
          3.4,
          4.1,
          4.5,
          4.9,
          3.8,
          3.5,
          5.6,
          3.4,
          3.1,
          4.8,
          3.6,
          3.3,
          3.7,
          5.4,
          4.3,
          3.9,
          4,
          4.7,
          3.7,
          4,
          3.6,
          3.5,
          3.3,
          4.1,
          3.7,
          3.9,
          3.8,
          3.2,
          4,
          3.4,
          3.6,
          3.6,
          4,
          4,
          3.8,
          4.4,
          3.5,
          4.3,
          4.3,
          3,
          3.5,
          4.6,
          3.1,
          3.7,
          3.8,
          3.9,
          3.7,
          3.6,
          4,
          3.8,
          4,
          3.8,
          3.5,
          4.4,
          4.7,
          3.5,
          3.3,
          4.3,
          3.8,
          4.4,
          4.6,
          4.5,
          7.5,
          4.1,
          3,
          3.7,
          4.2,
          4.4,
          3.4,
          3.9,
          3.5,
          3.6,
          4.4,
          4.6,
          3.3,
          4.1,
          3.5,
          3.6,
          4.2,
          4.9,
          4,
          3.3,
          3.5,
          3.6,
          3.2,
          4,
          4,
          4.5,
          3.5,
          7.4,
          5.6,
          3.9,
          3,
          3.8,
          4.2,
          3.1,
          3.9,
          4.2,
          4,
          4.5,
          3.6,
          3.7,
          4,
          3.4,
          3.2,
          2.9,
          4.3,
          4.1,
          4.4,
          3.4,
          3.7,
          3.6,
          3.5,
          3.2,
          3.3,
          3.9,
          3.7,
          3.9,
          4,
          3.6,
          3.5,
          4,
          3.4,
          3.6,
          3.3,
          3.9,
          5.2,
          3.7,
          4.8,
          4,
          4.4,
          3.3,
          3.4,
          3.9,
          4,
          3.4,
          3.5,
          3.7,
          4,
          3.9,
          4.5,
          3.1,
          4,
          4,
          4,
          3.6,
          3.5,
          3.6,
          4,
          4.2,
          3.6,
          3.9,
          4.7,
          3.2,
          3.5,
          4,
          4.3,
          3.7,
          4.2,
          4,
          4.4,
          3.4,
          3.6,
          3.5,
          4.2,
          3.8,
          3.5,
          3.9,
          3.6,
          3.2,
          4.7,
          3.3,
          3.7,
          3.6,
          3.3,
          3.5,
          3.4,
          3.9,
          3.9,
          3.6,
          3.6,
          3.7,
          3.5,
          3.8,
          3.9,
          3.7,
          3.6,
          4.5,
          3.8,
          3.7,
          4.4,
          4.6,
          3.6,
          3.4,
          3.1,
          5.1,
          3.5,
          3.5,
          3.6,
          3.9,
          3.7,
          2.9,
          4.9,
          4.3,
          3.7,
          2.8,
          3.4,
          3.8,
          3.8,
          3.3,
          3.6,
          4.2,
          4.2,
          4.4,
          4.2,
          2.9,
          3.4,
          4,
          3.1,
          3.8,
          3.4,
          4.4,
          3.8,
          3.7,
          4.6,
          4.2,
          3.1,
          4,
          4.8,
          3.3,
          3.6,
          3.4,
          3.3,
          3.7,
          4.1,
          3.9,
          3.3,
          3.8,
          4.5,
          3.8,
          3.2,
          4.3,
          3.7,
          4.2,
          3.1,
          4.1,
          4.4,
          3.4,
          4,
          3.7,
          3.2,
          4.3,
          3.7,
          4.2,
          3.5,
          3.8,
          3.5,
          4,
          3.6,
          3.5,
          3.3,
          5.3,
          3.7,
          3.4,
          3.7,
          3.4,
          4.6,
          3.4,
          3.3,
          3.1,
          3.9,
          3.2,
          3.8,
          3.3,
          4.6,
          3.4,
          4.8,
          4.8,
          3.3,
          3.7,
          3.6,
          3.3,
          3.9,
          4.1,
          3.5,
          3.7,
          3.4,
          3.5,
          3.8,
          4.1,
          3.2,
          3.5,
          3.1,
          3.6,
          3.7,
          3.7,
          4,
          3.3,
          3.8,
          4,
          3.9,
          3.4,
          4.1,
          4,
          3.7,
          3.2,
          4.3,
          4.7,
          4.5,
          4.2,
          3.7,
          3.3,
          4.8,
          4.1,
          3.8,
          4,
          3.7,
          3.7,
          3.9,
          4.3,
          4,
          3.9,
          3.9,
          3.5,
          3.7,
          3.5,
          3.3,
          4.8,
          3.9,
          3.4,
          2.9,
          5.4,
          8.1,
          3.2,
          4,
          3.9,
          4.1,
          3.1,
          3.6,
          4,
          3.6,
          4.8,
          3.8,
          3.7,
          3,
          3.7,
          3.9,
          4.1,
          3.5,
          3.8,
          4.7,
          3.2,
          3.8,
          3.6,
          3.6,
          4.5,
          3.1,
          2.9,
          4.9,
          3.5,
          3.9,
          3.7,
          4,
          3.9,
          3.9,
          3.3,
          3.9,
          3.5,
          4.1,
          3.8,
          3.6,
          3.8,
          4.1,
          3.4,
          4.7,
          3.9,
          3,
          3.7,
          2.6,
          4.1,
          2.9,
          3.7,
          3.8,
          3.6,
          3.4,
          4,
          4.2,
          3.8,
          3.4,
          3.4,
          3.8,
          4.3,
          4.5,
          4.3,
          4.5,
          4,
          3.2,
          3.7,
          3.4,
          4.1,
          3.7,
          4.7,
          2.9,
          2.9,
          3.9,
          3.9,
          3.8,
          3.3,
          3.9,
          3.6,
          4.3,
          3.9,
          3.2,
          3.5,
          3.7,
          3.6,
          3.1,
          4.8,
          4.9,
          4.1,
          3.1,
          3.2,
          3.9,
          3.1,
          3.5,
          5.4,
          4.8,
          3.7,
          4.1,
          3.4,
          3.8,
          3.6,
          3.6,
          3.9,
          3.6,
          3.7,
          3.3,
          3.7,
          4.3,
          4,
          4.3,
          3,
          3.4,
          3.5,
          3.5,
          3.6,
          4,
          3.1,
          3.2,
          3.6,
          3.7,
          3.1,
          5,
          3.8,
          3.2,
          11.5,
          4.7,
          3.4,
          2.9,
          4.2,
          4.2,
          2.9,
          4.3,
          3.9,
          3.3,
          3.3,
          4,
          3.8,
          3.3,
          3.8,
          3.8,
          3.4,
          3.2,
          3.5,
          3.6,
          3.9,
          3.8,
          3.6,
          2.8,
          4,
          3.1,
          3.8,
          4.5,
          3.9,
          3.2,
          3.5,
          3.4,
          3.8,
          3.7,
          3.5,
          4.8,
          3.7,
          3.7,
          3.7,
          3.8,
          3.6,
          3.3,
          4.1,
          4.9,
          4.3,
          3.4,
          3,
          3.6,
          3.6,
          3.5,
          4,
          4.3,
          3.2,
          3.3,
          3.5,
          2.8,
          3.8,
          4,
          4.2,
          4,
          3.7,
          3.8,
          3.9,
          4.1,
          4.9,
          3.1,
          3.7,
          3.4,
          3.7,
          3.6,
          3.3,
          4.3,
          3.7,
          3.7,
          3.2,
          3.5,
          3.3,
          3.3,
          4.3,
          3.3,
          3.3,
          4.1,
          3.7,
          4.4,
          3.4,
          4.3,
          3.6,
          3.6,
          3.7,
          3.3,
          3.2,
          3.7,
          3.8,
          3.5,
          4.8,
          4.1,
          3.5,
          3.6,
          3.1,
          3.7,
          3.7,
          5.8,
          4.1,
          4.6,
          4.6,
          3.5,
          3.5,
          3.6,
          3.9,
          3.6,
          3.1,
          3.9,
          3.8,
          3.5,
          3.1,
          3.8,
          3.9,
          4,
          3.9,
          3.2,
          3.3,
          3.2,
          3.3,
          3.3,
          3.9,
          3.4,
          4.2,
          3.6,
          3.1,
          3.6,
          3.4,
          4.4,
          3.3,
          3.5,
          3.4,
          3.5,
          3.7,
          5.7,
          3.5,
          3.5,
          3.7,
          3,
          3.4,
          3.7,
          3.5,
          4.1,
          4.5,
          3.5,
          3.4,
          3.8,
          4.4,
          3.7,
          3.7,
          2.8,
          3.7,
          3.7,
          3.5,
          3.5,
          2.9,
          3.1,
          2.9,
          4.5,
          3.9,
          4,
          3.1,
          3.4,
          3.7,
          3.8,
          4.4,
          3.9,
          3.7,
          3.8,
          3.5,
          3,
          3.4,
          4,
          3.2,
          3.8,
          3.4,
          3.4,
          3.3,
          3.6,
          3.9,
          3.3,
          3.6,
          3.1,
          3.6,
          3.3,
          3.9,
          3.2,
          3.1,
          3.1,
          3,
          3.6,
          3.3,
          4.2,
          3.7,
          3.4,
          2.9,
          3.6,
          3.5,
          2.9,
          3.3,
          2.7,
          3,
          3.4,
          4.1,
          3.5,
          3.8,
          3.7,
          3.3,
          3.2,
          3.2,
          3,
          3.5,
          4.6,
          3.7,
          3.4,
          3,
          3.5,
          3.4,
          3.2,
          3.9,
          3.2,
          3.2,
          3.2,
          3,
          3.6,
          2.8,
          3.4,
          3.3,
          3,
          3.4,
          3.7,
          3.3,
          2.5,
          3,
          3.4,
          3.5,
          3.2,
          2.9,
          3.9,
          3.1,
          3.1,
          2.9,
          3.4,
          3.1,
          3.2,
          3.8,
          3.4,
          3.8,
          2.7,
          3.3,
          3,
          3.2,
          3.2,
          2.9,
          2.9,
          2.7,
          2.6,
          2.6,
          3.5,
          3,
          3.8,
          3.1,
          3.1,
          3.3,
          3.7,
          3.2,
          2.6,
          3.9,
          3.2,
          3.8,
          3.3,
          2.8,
          3.2,
          3.4,
          4,
          2.9,
          2.9,
          3.1,
          4.4,
          3.8,
          3,
          3.3,
          4.1,
          4,
          3.3,
          3.5,
          3,
          3.5,
          2.8,
          3.7,
          3.7,
          3.5,
          2.8,
          4,
          6,
          3,
          3.7,
          3.5,
          3.1,
          3.6,
          3.6,
          3.4,
          3.2,
          2.9,
          2.9,
          3.4,
          4,
          4.1,
          4.2,
          2.9,
          3,
          2.5,
          3.2,
          2.6,
          3.6,
          2.6,
          3,
          3,
          2.6,
          2.9,
          3.2,
          2.9,
          2.2,
          3,
          3.2,
          3.2,
          3.2,
          3.5,
          4,
          3.5,
          3.2,
          3.3,
          4,
          3.6,
          4.7,
          3.9,
          3.5,
          3,
          3.7,
          10.2,
          5,
          2.9,
          2.7,
          3.4,
          2.9,
          3.1,
          2.8,
          3.8,
          3.5,
          2.9,
          3.8,
          2.9,
          3.8,
          3.6,
          3.4,
          2.6,
          3.1,
          3.5,
          3.2,
          2.8,
          3.2,
          3.9,
          3.1,
          3.7,
          2.8,
          3.3,
          3.8,
          2.9,
          2,
          2.9,
          3.5,
          2.8,
          3.3,
          3.6,
          2.9,
          3,
          2.9,
          3.4,
          4.1,
          3.1,
          3.1,
          2.9,
          3.4,
          2.8,
          2.6,
          3.2,
          3.1,
          2.8,
          3.3,
          2.6,
          3.8,
          2.6,
          3,
          3.8,
          2.8,
          3.2,
          2.6,
          2.6,
          3.4,
          3.2,
          3.1,
          2.5,
          2.6,
          3.4,
          3.2,
          3.2,
          3.5,
          3,
          2.9,
          3.7,
          3.1,
          3.3,
          4.6,
          2.9,
          2.9,
          2.9,
          3.4,
          3.2,
          3,
          3.8,
          3.6,
          3.1,
          3.1,
          2.9,
          3.1,
          3.2,
          3.2,
          4.7,
          3.4,
          4.3,
          3.2,
          3,
          3.6,
          3.7,
          2.7,
          4.6,
          2.7,
          2.9,
          3.4,
          2.2,
          2.9
         ],
         "y0": " ",
         "yaxis": "y"
        },
        {
         "alignmentgroup": "True",
         "hovertemplate": "only_one_genre=rap<br>year=%{x}<br>duration_min=%{y}<extra></extra>",
         "legendgroup": "rap",
         "marker": {
          "color": "#EF553B"
         },
         "name": "rap",
         "notched": false,
         "offsetgroup": "rap",
         "orientation": "v",
         "showlegend": true,
         "type": "box",
         "x": [
          2000,
          2000,
          2000,
          2000,
          2000,
          2001,
          2001,
          2001,
          2001,
          2002,
          2002,
          2002,
          2002,
          2002,
          2002,
          2002,
          2002,
          2003,
          2003,
          2003,
          2003,
          2003,
          2003,
          2003,
          2003,
          2003,
          2003,
          2003,
          2003,
          2003,
          2004,
          2004,
          2004,
          2004,
          2004,
          2004,
          2004,
          2004,
          2004,
          2004,
          2004,
          2004,
          2005,
          2005,
          2005,
          2005,
          2005,
          2005,
          2005,
          2005,
          2005,
          2005,
          2005,
          2005,
          2005,
          2005,
          2005,
          2005,
          2006,
          2006,
          2006,
          2006,
          2006,
          2006,
          2006,
          2006,
          2006,
          2007,
          2007,
          2007,
          2007,
          2007,
          2007,
          2008,
          2008,
          2008,
          2008,
          2008,
          2008,
          2008,
          2008,
          2008,
          2008,
          2008,
          2008,
          2008,
          2008,
          2008,
          2008,
          2009,
          2009,
          2009,
          2009,
          2009,
          2009,
          2009,
          2009,
          2009,
          2009,
          2010,
          2010,
          2010,
          2010,
          2010,
          2010,
          2010,
          2010,
          2010,
          2010,
          2011,
          2011,
          2011,
          2011,
          2011,
          2011,
          2011,
          2011,
          2011,
          2011,
          2011,
          2011,
          2011,
          2012,
          2012,
          2012,
          2012,
          2012,
          2012,
          2012,
          2012,
          2012,
          2012,
          2013,
          2013,
          2013,
          2013,
          2013,
          2013,
          2013,
          2013,
          2013,
          2013,
          2013,
          2013,
          2013,
          2014,
          2014,
          2014,
          2014,
          2014,
          2015,
          2015,
          2015,
          2015,
          2015,
          2015,
          2015,
          2015,
          2015,
          2015,
          2015,
          2015,
          2016,
          2016,
          2016,
          2016,
          2016,
          2016,
          2016,
          2016,
          2016,
          2016,
          2016,
          2016,
          2016,
          2016,
          2017,
          2017,
          2017,
          2017,
          2017,
          2017,
          2017,
          2017,
          2017,
          2017,
          2017,
          2017,
          2017,
          2017,
          2017,
          2017,
          2017,
          2017,
          2017,
          2017,
          2017,
          2017,
          2017,
          2017,
          2017,
          2017,
          2018,
          2018,
          2018,
          2018,
          2018,
          2018,
          2018,
          2018,
          2018,
          2018,
          2018,
          2018,
          2018,
          2018,
          2018,
          2018,
          2018,
          2018,
          2018,
          2018,
          2018,
          2018,
          2018,
          2018,
          2018,
          2018,
          2019,
          2019,
          2019,
          2019,
          2019,
          2019,
          2019,
          2019,
          2019,
          2019,
          2019,
          2019,
          2019,
          2019,
          2019,
          2019,
          2020,
          2020,
          2020,
          2020,
          2020,
          2020,
          2020,
          2020,
          2020,
          2020,
          2020,
          2020,
          2020,
          2020,
          2020,
          2020,
          2020,
          2020,
          2020,
          2021,
          2021,
          2021,
          2021,
          2021,
          2021,
          2021,
          2021,
          2021,
          2021,
          2022,
          2022,
          2022,
          2022,
          2022,
          2022,
          2022,
          2022,
          2022,
          2022,
          2022
         ],
         "x0": " ",
         "xaxis": "x",
         "y": [
          4.7,
          3.7,
          4.7,
          4.5,
          3.8,
          6.7,
          4.5,
          4,
          4.4,
          4.8,
          5,
          4.5,
          5,
          5.4,
          4,
          4.9,
          4.8,
          3.2,
          5.7,
          3.7,
          3.6,
          5.4,
          3.9,
          4.2,
          4.9,
          5,
          3.7,
          4.7,
          3.7,
          4.2,
          3.9,
          4.4,
          3.7,
          6.2,
          3.2,
          4.1,
          3.9,
          3.6,
          4.1,
          4.4,
          3.1,
          4.5,
          3.5,
          4.2,
          3.4,
          3.4,
          4,
          4.4,
          3.9,
          3.6,
          3.8,
          4.9,
          4,
          4.7,
          3.9,
          3.9,
          4.1,
          4.4,
          4.6,
          3.9,
          3.8,
          4.8,
          3.1,
          4.6,
          4.7,
          3.6,
          3.9,
          5.2,
          4.5,
          4.2,
          4.1,
          4.8,
          4.1,
          4.2,
          4,
          3.4,
          4.6,
          3.4,
          5.6,
          4.2,
          4.2,
          5,
          3.7,
          4.8,
          5.4,
          4.5,
          5.3,
          4.1,
          4.1,
          3.5,
          4.5,
          4.3,
          5.6,
          6,
          3.7,
          4.2,
          4.5,
          4.5,
          3.9,
          4.4,
          4.1,
          3.9,
          4.8,
          4.5,
          4.6,
          3.5,
          4.2,
          4.4,
          3.9,
          3.9,
          5,
          4.4,
          3.6,
          2.7,
          4.1,
          3.7,
          4,
          4.9,
          4.7,
          4,
          3.8,
          3.8,
          3.5,
          4.6,
          3.7,
          3,
          5.5,
          5.2,
          5.8,
          4.2,
          3.3,
          3.8,
          4.3,
          3.9,
          4.2,
          4,
          3.9,
          3.1,
          3.8,
          3.8,
          2.9,
          4,
          5.6,
          4,
          3.6,
          5,
          4.4,
          3.2,
          3.6,
          3.6,
          3.8,
          3.3,
          4.5,
          3.7,
          3.9,
          3.3,
          4.4,
          3.8,
          3.4,
          3.3,
          3.7,
          3.6,
          2.9,
          3.3,
          3.2,
          4.5,
          4.2,
          5.2,
          4,
          4.4,
          4.1,
          4.1,
          3.4,
          4,
          3.8,
          4,
          5,
          4.1,
          3,
          3.9,
          3.6,
          5.4,
          3,
          3.4,
          3.2,
          3,
          3.1,
          4.5,
          3.5,
          3.7,
          4.2,
          4.9,
          2.9,
          3.5,
          5.7,
          3.5,
          4.5,
          3.5,
          3.5,
          4.1,
          3.7,
          3.4,
          3.3,
          5.2,
          3.9,
          2.4,
          3.6,
          3.5,
          4,
          3.1,
          4.5,
          5.8,
          3.6,
          3.2,
          3.6,
          4.6,
          3,
          3.9,
          2.9,
          5.1,
          3.8,
          3.8,
          3.6,
          4.3,
          3.4,
          4.3,
          5.5,
          4,
          5.2,
          3.6,
          4.8,
          2.2,
          3.2,
          4,
          3,
          2.8,
          3.4,
          3.8,
          3.2,
          3.2,
          2.9,
          3.3,
          3.4,
          2.2,
          3.3,
          4.1,
          2.7,
          4,
          3,
          3.2,
          4.4,
          3.5,
          2.9,
          2.6,
          3.4,
          3.3,
          3.5,
          3.8,
          3.6,
          3.2,
          2.9,
          3.1,
          5.7,
          4.9,
          2.9,
          3.4,
          2.8,
          3.7,
          2.7,
          3,
          3.6,
          4.1,
          3.8,
          2.9,
          3.1,
          3.6,
          4.4,
          3.3,
          3.4,
          3.2,
          5.5,
          5.6,
          4,
          2.3
         ],
         "y0": " ",
         "yaxis": "y"
        }
       ],
       "layout": {
        "boxmode": "group",
        "legend": {
         "title": {
          "text": "only_one_genre"
         },
         "tracegroupgap": 0
        },
        "template": {
         "data": {
          "bar": [
           {
            "error_x": {
             "color": "#2a3f5f"
            },
            "error_y": {
             "color": "#2a3f5f"
            },
            "marker": {
             "line": {
              "color": "#E5ECF6",
              "width": 0.5
             }
            },
            "type": "bar"
           }
          ],
          "barpolar": [
           {
            "marker": {
             "line": {
              "color": "#E5ECF6",
              "width": 0.5
             }
            },
            "type": "barpolar"
           }
          ],
          "carpet": [
           {
            "aaxis": {
             "endlinecolor": "#2a3f5f",
             "gridcolor": "white",
             "linecolor": "white",
             "minorgridcolor": "white",
             "startlinecolor": "#2a3f5f"
            },
            "baxis": {
             "endlinecolor": "#2a3f5f",
             "gridcolor": "white",
             "linecolor": "white",
             "minorgridcolor": "white",
             "startlinecolor": "#2a3f5f"
            },
            "type": "carpet"
           }
          ],
          "choropleth": [
           {
            "colorbar": {
             "outlinewidth": 0,
             "ticks": ""
            },
            "type": "choropleth"
           }
          ],
          "contour": [
           {
            "colorbar": {
             "outlinewidth": 0,
             "ticks": ""
            },
            "colorscale": [
             [
              0,
              "#0d0887"
             ],
             [
              0.1111111111111111,
              "#46039f"
             ],
             [
              0.2222222222222222,
              "#7201a8"
             ],
             [
              0.3333333333333333,
              "#9c179e"
             ],
             [
              0.4444444444444444,
              "#bd3786"
             ],
             [
              0.5555555555555556,
              "#d8576b"
             ],
             [
              0.6666666666666666,
              "#ed7953"
             ],
             [
              0.7777777777777778,
              "#fb9f3a"
             ],
             [
              0.8888888888888888,
              "#fdca26"
             ],
             [
              1,
              "#f0f921"
             ]
            ],
            "type": "contour"
           }
          ],
          "contourcarpet": [
           {
            "colorbar": {
             "outlinewidth": 0,
             "ticks": ""
            },
            "type": "contourcarpet"
           }
          ],
          "heatmap": [
           {
            "colorbar": {
             "outlinewidth": 0,
             "ticks": ""
            },
            "colorscale": [
             [
              0,
              "#0d0887"
             ],
             [
              0.1111111111111111,
              "#46039f"
             ],
             [
              0.2222222222222222,
              "#7201a8"
             ],
             [
              0.3333333333333333,
              "#9c179e"
             ],
             [
              0.4444444444444444,
              "#bd3786"
             ],
             [
              0.5555555555555556,
              "#d8576b"
             ],
             [
              0.6666666666666666,
              "#ed7953"
             ],
             [
              0.7777777777777778,
              "#fb9f3a"
             ],
             [
              0.8888888888888888,
              "#fdca26"
             ],
             [
              1,
              "#f0f921"
             ]
            ],
            "type": "heatmap"
           }
          ],
          "heatmapgl": [
           {
            "colorbar": {
             "outlinewidth": 0,
             "ticks": ""
            },
            "colorscale": [
             [
              0,
              "#0d0887"
             ],
             [
              0.1111111111111111,
              "#46039f"
             ],
             [
              0.2222222222222222,
              "#7201a8"
             ],
             [
              0.3333333333333333,
              "#9c179e"
             ],
             [
              0.4444444444444444,
              "#bd3786"
             ],
             [
              0.5555555555555556,
              "#d8576b"
             ],
             [
              0.6666666666666666,
              "#ed7953"
             ],
             [
              0.7777777777777778,
              "#fb9f3a"
             ],
             [
              0.8888888888888888,
              "#fdca26"
             ],
             [
              1,
              "#f0f921"
             ]
            ],
            "type": "heatmapgl"
           }
          ],
          "histogram": [
           {
            "marker": {
             "colorbar": {
              "outlinewidth": 0,
              "ticks": ""
             }
            },
            "type": "histogram"
           }
          ],
          "histogram2d": [
           {
            "colorbar": {
             "outlinewidth": 0,
             "ticks": ""
            },
            "colorscale": [
             [
              0,
              "#0d0887"
             ],
             [
              0.1111111111111111,
              "#46039f"
             ],
             [
              0.2222222222222222,
              "#7201a8"
             ],
             [
              0.3333333333333333,
              "#9c179e"
             ],
             [
              0.4444444444444444,
              "#bd3786"
             ],
             [
              0.5555555555555556,
              "#d8576b"
             ],
             [
              0.6666666666666666,
              "#ed7953"
             ],
             [
              0.7777777777777778,
              "#fb9f3a"
             ],
             [
              0.8888888888888888,
              "#fdca26"
             ],
             [
              1,
              "#f0f921"
             ]
            ],
            "type": "histogram2d"
           }
          ],
          "histogram2dcontour": [
           {
            "colorbar": {
             "outlinewidth": 0,
             "ticks": ""
            },
            "colorscale": [
             [
              0,
              "#0d0887"
             ],
             [
              0.1111111111111111,
              "#46039f"
             ],
             [
              0.2222222222222222,
              "#7201a8"
             ],
             [
              0.3333333333333333,
              "#9c179e"
             ],
             [
              0.4444444444444444,
              "#bd3786"
             ],
             [
              0.5555555555555556,
              "#d8576b"
             ],
             [
              0.6666666666666666,
              "#ed7953"
             ],
             [
              0.7777777777777778,
              "#fb9f3a"
             ],
             [
              0.8888888888888888,
              "#fdca26"
             ],
             [
              1,
              "#f0f921"
             ]
            ],
            "type": "histogram2dcontour"
           }
          ],
          "mesh3d": [
           {
            "colorbar": {
             "outlinewidth": 0,
             "ticks": ""
            },
            "type": "mesh3d"
           }
          ],
          "parcoords": [
           {
            "line": {
             "colorbar": {
              "outlinewidth": 0,
              "ticks": ""
             }
            },
            "type": "parcoords"
           }
          ],
          "pie": [
           {
            "automargin": true,
            "type": "pie"
           }
          ],
          "scatter": [
           {
            "marker": {
             "colorbar": {
              "outlinewidth": 0,
              "ticks": ""
             }
            },
            "type": "scatter"
           }
          ],
          "scatter3d": [
           {
            "line": {
             "colorbar": {
              "outlinewidth": 0,
              "ticks": ""
             }
            },
            "marker": {
             "colorbar": {
              "outlinewidth": 0,
              "ticks": ""
             }
            },
            "type": "scatter3d"
           }
          ],
          "scattercarpet": [
           {
            "marker": {
             "colorbar": {
              "outlinewidth": 0,
              "ticks": ""
             }
            },
            "type": "scattercarpet"
           }
          ],
          "scattergeo": [
           {
            "marker": {
             "colorbar": {
              "outlinewidth": 0,
              "ticks": ""
             }
            },
            "type": "scattergeo"
           }
          ],
          "scattergl": [
           {
            "marker": {
             "colorbar": {
              "outlinewidth": 0,
              "ticks": ""
             }
            },
            "type": "scattergl"
           }
          ],
          "scattermapbox": [
           {
            "marker": {
             "colorbar": {
              "outlinewidth": 0,
              "ticks": ""
             }
            },
            "type": "scattermapbox"
           }
          ],
          "scatterpolar": [
           {
            "marker": {
             "colorbar": {
              "outlinewidth": 0,
              "ticks": ""
             }
            },
            "type": "scatterpolar"
           }
          ],
          "scatterpolargl": [
           {
            "marker": {
             "colorbar": {
              "outlinewidth": 0,
              "ticks": ""
             }
            },
            "type": "scatterpolargl"
           }
          ],
          "scatterternary": [
           {
            "marker": {
             "colorbar": {
              "outlinewidth": 0,
              "ticks": ""
             }
            },
            "type": "scatterternary"
           }
          ],
          "surface": [
           {
            "colorbar": {
             "outlinewidth": 0,
             "ticks": ""
            },
            "colorscale": [
             [
              0,
              "#0d0887"
             ],
             [
              0.1111111111111111,
              "#46039f"
             ],
             [
              0.2222222222222222,
              "#7201a8"
             ],
             [
              0.3333333333333333,
              "#9c179e"
             ],
             [
              0.4444444444444444,
              "#bd3786"
             ],
             [
              0.5555555555555556,
              "#d8576b"
             ],
             [
              0.6666666666666666,
              "#ed7953"
             ],
             [
              0.7777777777777778,
              "#fb9f3a"
             ],
             [
              0.8888888888888888,
              "#fdca26"
             ],
             [
              1,
              "#f0f921"
             ]
            ],
            "type": "surface"
           }
          ],
          "table": [
           {
            "cells": {
             "fill": {
              "color": "#EBF0F8"
             },
             "line": {
              "color": "white"
             }
            },
            "header": {
             "fill": {
              "color": "#C8D4E3"
             },
             "line": {
              "color": "white"
             }
            },
            "type": "table"
           }
          ]
         },
         "layout": {
          "annotationdefaults": {
           "arrowcolor": "#2a3f5f",
           "arrowhead": 0,
           "arrowwidth": 1
          },
          "coloraxis": {
           "colorbar": {
            "outlinewidth": 0,
            "ticks": ""
           }
          },
          "colorscale": {
           "diverging": [
            [
             0,
             "#8e0152"
            ],
            [
             0.1,
             "#c51b7d"
            ],
            [
             0.2,
             "#de77ae"
            ],
            [
             0.3,
             "#f1b6da"
            ],
            [
             0.4,
             "#fde0ef"
            ],
            [
             0.5,
             "#f7f7f7"
            ],
            [
             0.6,
             "#e6f5d0"
            ],
            [
             0.7,
             "#b8e186"
            ],
            [
             0.8,
             "#7fbc41"
            ],
            [
             0.9,
             "#4d9221"
            ],
            [
             1,
             "#276419"
            ]
           ],
           "sequential": [
            [
             0,
             "#0d0887"
            ],
            [
             0.1111111111111111,
             "#46039f"
            ],
            [
             0.2222222222222222,
             "#7201a8"
            ],
            [
             0.3333333333333333,
             "#9c179e"
            ],
            [
             0.4444444444444444,
             "#bd3786"
            ],
            [
             0.5555555555555556,
             "#d8576b"
            ],
            [
             0.6666666666666666,
             "#ed7953"
            ],
            [
             0.7777777777777778,
             "#fb9f3a"
            ],
            [
             0.8888888888888888,
             "#fdca26"
            ],
            [
             1,
             "#f0f921"
            ]
           ],
           "sequentialminus": [
            [
             0,
             "#0d0887"
            ],
            [
             0.1111111111111111,
             "#46039f"
            ],
            [
             0.2222222222222222,
             "#7201a8"
            ],
            [
             0.3333333333333333,
             "#9c179e"
            ],
            [
             0.4444444444444444,
             "#bd3786"
            ],
            [
             0.5555555555555556,
             "#d8576b"
            ],
            [
             0.6666666666666666,
             "#ed7953"
            ],
            [
             0.7777777777777778,
             "#fb9f3a"
            ],
            [
             0.8888888888888888,
             "#fdca26"
            ],
            [
             1,
             "#f0f921"
            ]
           ]
          },
          "colorway": [
           "#636efa",
           "#EF553B",
           "#00cc96",
           "#ab63fa",
           "#FFA15A",
           "#19d3f3",
           "#FF6692",
           "#B6E880",
           "#FF97FF",
           "#FECB52"
          ],
          "font": {
           "color": "#2a3f5f"
          },
          "geo": {
           "bgcolor": "white",
           "lakecolor": "white",
           "landcolor": "#E5ECF6",
           "showlakes": true,
           "showland": true,
           "subunitcolor": "white"
          },
          "hoverlabel": {
           "align": "left"
          },
          "hovermode": "closest",
          "mapbox": {
           "style": "light"
          },
          "paper_bgcolor": "white",
          "plot_bgcolor": "#E5ECF6",
          "polar": {
           "angularaxis": {
            "gridcolor": "white",
            "linecolor": "white",
            "ticks": ""
           },
           "bgcolor": "#E5ECF6",
           "radialaxis": {
            "gridcolor": "white",
            "linecolor": "white",
            "ticks": ""
           }
          },
          "scene": {
           "xaxis": {
            "backgroundcolor": "#E5ECF6",
            "gridcolor": "white",
            "gridwidth": 2,
            "linecolor": "white",
            "showbackground": true,
            "ticks": "",
            "zerolinecolor": "white"
           },
           "yaxis": {
            "backgroundcolor": "#E5ECF6",
            "gridcolor": "white",
            "gridwidth": 2,
            "linecolor": "white",
            "showbackground": true,
            "ticks": "",
            "zerolinecolor": "white"
           },
           "zaxis": {
            "backgroundcolor": "#E5ECF6",
            "gridcolor": "white",
            "gridwidth": 2,
            "linecolor": "white",
            "showbackground": true,
            "ticks": "",
            "zerolinecolor": "white"
           }
          },
          "shapedefaults": {
           "line": {
            "color": "#2a3f5f"
           }
          },
          "ternary": {
           "aaxis": {
            "gridcolor": "white",
            "linecolor": "white",
            "ticks": ""
           },
           "baxis": {
            "gridcolor": "white",
            "linecolor": "white",
            "ticks": ""
           },
           "bgcolor": "#E5ECF6",
           "caxis": {
            "gridcolor": "white",
            "linecolor": "white",
            "ticks": ""
           }
          },
          "title": {
           "x": 0.05
          },
          "xaxis": {
           "automargin": true,
           "gridcolor": "white",
           "linecolor": "white",
           "ticks": "",
           "title": {
            "standoff": 15
           },
           "zerolinecolor": "white",
           "zerolinewidth": 2
          },
          "yaxis": {
           "automargin": true,
           "gridcolor": "white",
           "linecolor": "white",
           "ticks": "",
           "title": {
            "standoff": 15
           },
           "zerolinecolor": "white",
           "zerolinewidth": 2
          }
         }
        },
        "title": {
         "text": "Duration of songs by years and genre"
        },
        "xaxis": {
         "anchor": "y",
         "domain": [
          0,
          1
         ],
         "title": {
          "text": "year"
         }
        },
        "yaxis": {
         "anchor": "x",
         "domain": [
          0,
          1
         ],
         "title": {
          "text": "duration_min"
         }
        }
       }
      },
      "text/html": [
       "<div>                            <div id=\"196c6f25-5362-46b5-829e-cce7aa0aed41\" class=\"plotly-graph-div\" style=\"height:525px; width:100%;\"></div>            <script type=\"text/javascript\">                require([\"plotly\"], function(Plotly) {                    window.PLOTLYENV=window.PLOTLYENV || {};                                    if (document.getElementById(\"196c6f25-5362-46b5-829e-cce7aa0aed41\")) {                    Plotly.newPlot(                        \"196c6f25-5362-46b5-829e-cce7aa0aed41\",                        [{\"alignmentgroup\": \"True\", \"hovertemplate\": \"only_one_genre=pop<br>year=%{x}<br>duration_min=%{y}<extra></extra>\", \"legendgroup\": \"pop\", \"marker\": {\"color\": \"#636efa\"}, \"name\": \"pop\", \"notched\": false, \"offsetgroup\": \"pop\", \"orientation\": \"v\", \"showlegend\": true, \"type\": \"box\", \"x\": [2000, 2000, 2000, 2000, 2000, 2000, 2000, 2000, 2000, 2000, 2000, 2000, 2000, 2000, 2000, 2000, 2000, 2000, 2001, 2001, 2001, 2001, 2001, 2001, 2001, 2001, 2001, 2001, 2001, 2001, 2001, 2001, 2001, 2001, 2001, 2002, 2002, 2002, 2002, 2002, 2002, 2002, 2002, 2002, 2002, 2002, 2002, 2002, 2002, 2002, 2002, 2002, 2002, 2002, 2002, 2002, 2003, 2003, 2003, 2003, 2003, 2003, 2003, 2003, 2003, 2003, 2003, 2003, 2003, 2003, 2003, 2003, 2004, 2004, 2004, 2004, 2004, 2004, 2004, 2004, 2004, 2004, 2004, 2004, 2004, 2004, 2004, 2004, 2004, 2004, 2004, 2004, 2004, 2004, 2004, 2005, 2005, 2005, 2005, 2005, 2005, 2005, 2005, 2005, 2005, 2005, 2005, 2005, 2005, 2005, 2005, 2005, 2005, 2005, 2005, 2005, 2005, 2005, 2005, 2005, 2005, 2005, 2005, 2005, 2005, 2006, 2006, 2006, 2006, 2006, 2006, 2006, 2006, 2006, 2006, 2006, 2006, 2006, 2006, 2006, 2006, 2006, 2006, 2006, 2006, 2006, 2006, 2006, 2006, 2006, 2006, 2006, 2006, 2006, 2007, 2007, 2007, 2007, 2007, 2007, 2007, 2007, 2007, 2007, 2007, 2007, 2007, 2007, 2007, 2007, 2007, 2007, 2007, 2007, 2007, 2007, 2007, 2007, 2007, 2007, 2007, 2007, 2007, 2007, 2007, 2007, 2008, 2008, 2008, 2008, 2008, 2008, 2008, 2008, 2008, 2008, 2008, 2008, 2008, 2008, 2008, 2008, 2008, 2008, 2008, 2008, 2008, 2008, 2008, 2008, 2008, 2008, 2008, 2008, 2008, 2008, 2008, 2008, 2008, 2008, 2008, 2008, 2008, 2009, 2009, 2009, 2009, 2009, 2009, 2009, 2009, 2009, 2009, 2009, 2009, 2009, 2009, 2009, 2009, 2009, 2009, 2009, 2009, 2009, 2009, 2009, 2009, 2009, 2009, 2009, 2009, 2009, 2009, 2009, 2009, 2009, 2009, 2009, 2009, 2009, 2009, 2009, 2009, 2009, 2009, 2009, 2009, 2010, 2010, 2010, 2010, 2010, 2010, 2010, 2010, 2010, 2010, 2010, 2010, 2010, 2010, 2010, 2010, 2010, 2010, 2010, 2010, 2010, 2010, 2010, 2010, 2010, 2010, 2010, 2010, 2010, 2010, 2010, 2010, 2010, 2010, 2010, 2010, 2010, 2010, 2010, 2010, 2010, 2010, 2010, 2010, 2010, 2010, 2010, 2011, 2011, 2011, 2011, 2011, 2011, 2011, 2011, 2011, 2011, 2011, 2011, 2011, 2011, 2011, 2011, 2011, 2011, 2011, 2011, 2011, 2011, 2011, 2011, 2011, 2011, 2011, 2011, 2011, 2011, 2011, 2011, 2011, 2011, 2011, 2011, 2011, 2011, 2011, 2011, 2011, 2011, 2011, 2011, 2011, 2011, 2011, 2011, 2011, 2011, 2011, 2012, 2012, 2012, 2012, 2012, 2012, 2012, 2012, 2012, 2012, 2012, 2012, 2012, 2012, 2012, 2012, 2012, 2012, 2012, 2012, 2012, 2012, 2012, 2012, 2012, 2012, 2012, 2012, 2012, 2012, 2012, 2012, 2012, 2012, 2012, 2012, 2012, 2012, 2012, 2012, 2012, 2012, 2012, 2012, 2012, 2012, 2012, 2012, 2012, 2012, 2012, 2012, 2012, 2012, 2012, 2012, 2012, 2012, 2012, 2012, 2012, 2012, 2013, 2013, 2013, 2013, 2013, 2013, 2013, 2013, 2013, 2013, 2013, 2013, 2013, 2013, 2013, 2013, 2013, 2013, 2013, 2013, 2013, 2013, 2013, 2013, 2013, 2013, 2013, 2013, 2013, 2013, 2013, 2013, 2013, 2013, 2013, 2013, 2013, 2013, 2013, 2013, 2013, 2013, 2013, 2013, 2013, 2013, 2013, 2013, 2013, 2013, 2013, 2013, 2013, 2013, 2013, 2013, 2013, 2013, 2014, 2014, 2014, 2014, 2014, 2014, 2014, 2014, 2014, 2014, 2014, 2014, 2014, 2014, 2014, 2014, 2014, 2014, 2014, 2014, 2014, 2014, 2014, 2014, 2014, 2014, 2014, 2014, 2014, 2014, 2014, 2014, 2014, 2014, 2014, 2014, 2014, 2014, 2014, 2014, 2014, 2014, 2014, 2014, 2014, 2014, 2014, 2014, 2014, 2014, 2014, 2014, 2014, 2014, 2014, 2014, 2014, 2014, 2014, 2014, 2014, 2014, 2014, 2014, 2014, 2014, 2015, 2015, 2015, 2015, 2015, 2015, 2015, 2015, 2015, 2015, 2015, 2015, 2015, 2015, 2015, 2015, 2015, 2015, 2015, 2015, 2015, 2015, 2015, 2015, 2015, 2015, 2015, 2015, 2015, 2015, 2015, 2015, 2015, 2015, 2015, 2015, 2015, 2015, 2015, 2015, 2015, 2015, 2015, 2015, 2015, 2015, 2015, 2015, 2015, 2015, 2015, 2015, 2015, 2015, 2015, 2015, 2015, 2015, 2015, 2015, 2016, 2016, 2016, 2016, 2016, 2016, 2016, 2016, 2016, 2016, 2016, 2016, 2016, 2016, 2016, 2016, 2016, 2016, 2016, 2016, 2016, 2016, 2016, 2016, 2016, 2016, 2016, 2016, 2016, 2016, 2016, 2016, 2016, 2016, 2016, 2016, 2016, 2016, 2016, 2016, 2016, 2016, 2016, 2016, 2016, 2016, 2016, 2016, 2016, 2016, 2016, 2016, 2016, 2016, 2016, 2016, 2016, 2016, 2016, 2016, 2016, 2016, 2016, 2017, 2017, 2017, 2017, 2017, 2017, 2017, 2017, 2017, 2017, 2017, 2017, 2017, 2017, 2017, 2017, 2017, 2017, 2017, 2017, 2017, 2017, 2017, 2017, 2017, 2017, 2017, 2017, 2017, 2017, 2017, 2017, 2017, 2017, 2017, 2017, 2017, 2017, 2017, 2017, 2017, 2017, 2017, 2017, 2017, 2017, 2017, 2017, 2017, 2017, 2017, 2017, 2017, 2017, 2017, 2018, 2018, 2018, 2018, 2018, 2018, 2018, 2018, 2018, 2018, 2018, 2018, 2018, 2018, 2018, 2018, 2018, 2018, 2018, 2018, 2018, 2018, 2018, 2018, 2018, 2018, 2018, 2018, 2018, 2018, 2018, 2018, 2018, 2018, 2018, 2018, 2018, 2018, 2018, 2018, 2018, 2018, 2018, 2018, 2018, 2019, 2019, 2019, 2019, 2019, 2019, 2019, 2019, 2019, 2019, 2019, 2019, 2019, 2019, 2019, 2019, 2019, 2019, 2019, 2019, 2019, 2019, 2019, 2019, 2019, 2019, 2019, 2019, 2019, 2019, 2019, 2019, 2019, 2019, 2019, 2019, 2019, 2019, 2019, 2019, 2019, 2019, 2019, 2019, 2019, 2019, 2019, 2019, 2019, 2019, 2019, 2019, 2020, 2020, 2020, 2020, 2020, 2020, 2020, 2020, 2020, 2020, 2020, 2020, 2020, 2020, 2020, 2020, 2020, 2020, 2020, 2020, 2020, 2020, 2020, 2020, 2020, 2020, 2020, 2020, 2020, 2020, 2020, 2020, 2020, 2020, 2020, 2020, 2020, 2020, 2020, 2020, 2020, 2020, 2020, 2020, 2020, 2020, 2020, 2020, 2020, 2020, 2020, 2020, 2020, 2020, 2020, 2021, 2021, 2021, 2021, 2021, 2021, 2021, 2021, 2021, 2021, 2021, 2021, 2021, 2021, 2021, 2021, 2021, 2021, 2021, 2021, 2021, 2021, 2021, 2021, 2021, 2021, 2021, 2021, 2021, 2021, 2021, 2021, 2021, 2021, 2021, 2021, 2021, 2021, 2021, 2021, 2021, 2021, 2021, 2021, 2021, 2021, 2021, 2021, 2021, 2021, 2021, 2021, 2021, 2021, 2021, 2021, 2021, 2021, 2021, 2022, 2022, 2022, 2022, 2022, 2022, 2022, 2022, 2022, 2022, 2022, 2022, 2022, 2022, 2022, 2022, 2022, 2022, 2022, 2022, 2022, 2022, 2022, 2022, 2022, 2022, 2022, 2022, 2022, 2022, 2022, 2022, 2022, 2022, 2022, 2022, 2022, 2022, 2022, 2022, 2022, 2022, 2022, 2022, 2022, 2022, 2022, 2022, 2022, 2022, 2022, 2022, 2022, 2022], \"x0\": \" \", \"xaxis\": \"x\", \"y\": [4.4, 3.3, 4.5, 3.8, 3.8, 3.2, 3.4, 3.7, 4.7, 3.4, 3.6, 4.1, 4.6, 4.3, 3.4, 3.4, 5.0, 3.8, 4.2, 4.5, 4.1, 3.3, 4.3, 3.5, 4.4, 3.4, 3.7, 4.4, 3.7, 4.7, 3.5, 4.6, 4.1, 3.5, 4.9, 4.1, 3.7, 5.2, 3.4, 5.1, 3.8, 4.1, 3.2, 5.0, 3.9, 4.5, 3.5, 4.7, 3.3, 3.8, 3.9, 5.1, 3.8, 2.9, 4.6, 4.2, 3.9, 3.5, 4.5, 5.1, 4.5, 4.8, 3.1, 3.7, 4.1, 3.9, 4.1, 3.9, 4.3, 4.0, 3.6, 4.9, 4.2, 3.4, 3.3, 3.8, 3.7, 4.3, 3.6, 4.6, 3.5, 3.7, 4.0, 3.5, 4.0, null, 3.8, 3.6, 5.0, 3.7, 3.5, 4.0, 4.7, 3.4, 4.5, 3.4, 4.1, 4.5, 4.9, 3.8, 3.5, 5.6, 3.4, 3.1, 4.8, 3.6, 3.3, 3.7, 5.4, 4.3, 3.9, 4.0, 4.7, 3.7, 4.0, 3.6, 3.5, 3.3, 4.1, 3.7, 3.9, 3.8, 3.2, 4.0, 3.4, 3.6, 3.6, 4.0, 4.0, 3.8, 4.4, 3.5, 4.3, 4.3, 3.0, 3.5, 4.6, 3.1, 3.7, 3.8, 3.9, 3.7, 3.6, 4.0, 3.8, 4.0, 3.8, 3.5, 4.4, 4.7, 3.5, 3.3, 4.3, 3.8, 4.4, 4.6, 4.5, 7.5, 4.1, 3.0, 3.7, 4.2, 4.4, 3.4, 3.9, 3.5, 3.6, 4.4, 4.6, 3.3, 4.1, 3.5, 3.6, 4.2, 4.9, 4.0, 3.3, 3.5, 3.6, 3.2, 4.0, 4.0, 4.5, 3.5, 7.4, 5.6, 3.9, 3.0, 3.8, 4.2, 3.1, 3.9, 4.2, 4.0, 4.5, 3.6, 3.7, 4.0, 3.4, 3.2, 2.9, 4.3, 4.1, 4.4, 3.4, 3.7, 3.6, 3.5, 3.2, 3.3, 3.9, 3.7, 3.9, 4.0, 3.6, 3.5, 4.0, 3.4, 3.6, 3.3, 3.9, 5.2, 3.7, 4.8, 4.0, 4.4, 3.3, 3.4, 3.9, 4.0, 3.4, 3.5, 3.7, 4.0, 3.9, 4.5, 3.1, 4.0, 4.0, 4.0, 3.6, 3.5, 3.6, 4.0, 4.2, 3.6, 3.9, 4.7, 3.2, 3.5, 4.0, 4.3, 3.7, 4.2, 4.0, 4.4, 3.4, 3.6, 3.5, 4.2, 3.8, 3.5, 3.9, 3.6, 3.2, 4.7, 3.3, 3.7, 3.6, 3.3, 3.5, 3.4, 3.9, 3.9, 3.6, 3.6, 3.7, 3.5, 3.8, 3.9, 3.7, 3.6, 4.5, 3.8, 3.7, 4.4, 4.6, 3.6, 3.4, 3.1, 5.1, 3.5, 3.5, 3.6, 3.9, 3.7, 2.9, 4.9, 4.3, 3.7, 2.8, 3.4, 3.8, 3.8, 3.3, 3.6, 4.2, 4.2, 4.4, 4.2, 2.9, 3.4, 4.0, 3.1, 3.8, 3.4, 4.4, 3.8, 3.7, 4.6, 4.2, 3.1, 4.0, 4.8, 3.3, 3.6, 3.4, 3.3, 3.7, 4.1, 3.9, 3.3, 3.8, 4.5, 3.8, 3.2, 4.3, 3.7, 4.2, 3.1, 4.1, 4.4, 3.4, 4.0, 3.7, 3.2, 4.3, 3.7, 4.2, 3.5, 3.8, 3.5, 4.0, 3.6, 3.5, 3.3, 5.3, 3.7, 3.4, 3.7, 3.4, 4.6, 3.4, 3.3, 3.1, 3.9, 3.2, 3.8, 3.3, 4.6, 3.4, 4.8, 4.8, 3.3, 3.7, 3.6, 3.3, 3.9, 4.1, 3.5, 3.7, 3.4, 3.5, 3.8, 4.1, 3.2, 3.5, 3.1, 3.6, 3.7, 3.7, 4.0, 3.3, 3.8, 4.0, 3.9, 3.4, 4.1, 4.0, 3.7, 3.2, 4.3, 4.7, 4.5, 4.2, 3.7, 3.3, 4.8, 4.1, 3.8, 4.0, 3.7, 3.7, 3.9, 4.3, 4.0, 3.9, 3.9, 3.5, 3.7, 3.5, 3.3, 4.8, 3.9, 3.4, 2.9, 5.4, 8.1, 3.2, 4.0, 3.9, 4.1, 3.1, 3.6, 4.0, 3.6, 4.8, 3.8, 3.7, 3.0, 3.7, 3.9, 4.1, 3.5, 3.8, 4.7, 3.2, 3.8, 3.6, 3.6, 4.5, 3.1, 2.9, 4.9, 3.5, 3.9, 3.7, 4.0, 3.9, 3.9, 3.3, 3.9, 3.5, 4.1, 3.8, 3.6, 3.8, 4.1, 3.4, 4.7, 3.9, 3.0, 3.7, 2.6, 4.1, 2.9, 3.7, 3.8, 3.6, 3.4, 4.0, 4.2, 3.8, 3.4, 3.4, 3.8, 4.3, 4.5, 4.3, 4.5, 4.0, 3.2, 3.7, 3.4, 4.1, 3.7, 4.7, 2.9, 2.9, 3.9, 3.9, 3.8, 3.3, 3.9, 3.6, 4.3, 3.9, 3.2, 3.5, 3.7, 3.6, 3.1, 4.8, 4.9, 4.1, 3.1, 3.2, 3.9, 3.1, 3.5, 5.4, 4.8, 3.7, 4.1, 3.4, 3.8, 3.6, 3.6, 3.9, 3.6, 3.7, 3.3, 3.7, 4.3, 4.0, 4.3, 3.0, 3.4, 3.5, 3.5, 3.6, 4.0, 3.1, 3.2, 3.6, 3.7, 3.1, 5.0, 3.8, 3.2, 11.5, 4.7, 3.4, 2.9, 4.2, 4.2, 2.9, 4.3, 3.9, 3.3, 3.3, 4.0, 3.8, 3.3, 3.8, 3.8, 3.4, 3.2, 3.5, 3.6, 3.9, 3.8, 3.6, 2.8, 4.0, 3.1, 3.8, 4.5, 3.9, 3.2, 3.5, 3.4, 3.8, 3.7, 3.5, 4.8, 3.7, 3.7, 3.7, 3.8, 3.6, 3.3, 4.1, 4.9, 4.3, 3.4, 3.0, 3.6, 3.6, 3.5, 4.0, 4.3, 3.2, 3.3, 3.5, 2.8, 3.8, 4.0, 4.2, 4.0, 3.7, 3.8, 3.9, 4.1, 4.9, 3.1, 3.7, 3.4, 3.7, 3.6, 3.3, 4.3, 3.7, 3.7, 3.2, 3.5, 3.3, 3.3, 4.3, 3.3, 3.3, 4.1, 3.7, 4.4, 3.4, 4.3, 3.6, 3.6, 3.7, 3.3, 3.2, 3.7, 3.8, 3.5, 4.8, 4.1, 3.5, 3.6, 3.1, 3.7, 3.7, 5.8, 4.1, 4.6, 4.6, 3.5, 3.5, 3.6, 3.9, 3.6, 3.1, 3.9, 3.8, 3.5, 3.1, 3.8, 3.9, 4.0, 3.9, 3.2, 3.3, 3.2, 3.3, 3.3, 3.9, 3.4, 4.2, 3.6, 3.1, 3.6, 3.4, 4.4, 3.3, 3.5, 3.4, 3.5, 3.7, 5.7, 3.5, 3.5, 3.7, 3.0, 3.4, 3.7, 3.5, 4.1, 4.5, 3.5, 3.4, 3.8, 4.4, 3.7, 3.7, 2.8, 3.7, 3.7, 3.5, 3.5, 2.9, 3.1, 2.9, 4.5, 3.9, 4.0, 3.1, 3.4, 3.7, 3.8, 4.4, 3.9, 3.7, 3.8, 3.5, 3.0, 3.4, 4.0, 3.2, 3.8, 3.4, 3.4, 3.3, 3.6, 3.9, 3.3, 3.6, 3.1, 3.6, 3.3, 3.9, 3.2, 3.1, 3.1, 3.0, 3.6, 3.3, 4.2, 3.7, 3.4, 2.9, 3.6, 3.5, 2.9, 3.3, 2.7, 3.0, 3.4, 4.1, 3.5, 3.8, 3.7, 3.3, 3.2, 3.2, 3.0, 3.5, 4.6, 3.7, 3.4, 3.0, 3.5, 3.4, 3.2, 3.9, 3.2, 3.2, 3.2, 3.0, 3.6, 2.8, 3.4, 3.3, 3.0, 3.4, 3.7, 3.3, 2.5, 3.0, 3.4, 3.5, 3.2, 2.9, 3.9, 3.1, 3.1, 2.9, 3.4, 3.1, 3.2, 3.8, 3.4, 3.8, 2.7, 3.3, 3.0, 3.2, 3.2, 2.9, 2.9, 2.7, 2.6, 2.6, 3.5, 3.0, 3.8, 3.1, 3.1, 3.3, 3.7, 3.2, 2.6, 3.9, 3.2, 3.8, 3.3, 2.8, 3.2, 3.4, 4.0, 2.9, 2.9, 3.1, 4.4, 3.8, 3.0, 3.3, 4.1, 4.0, 3.3, 3.5, 3.0, 3.5, 2.8, 3.7, 3.7, 3.5, 2.8, 4.0, 6.0, 3.0, 3.7, 3.5, 3.1, 3.6, 3.6, 3.4, 3.2, 2.9, 2.9, 3.4, 4.0, 4.1, 4.2, 2.9, 3.0, 2.5, 3.2, 2.6, 3.6, 2.6, 3.0, 3.0, 2.6, 2.9, 3.2, 2.9, 2.2, 3.0, 3.2, 3.2, 3.2, 3.5, 4.0, 3.5, 3.2, 3.3, 4.0, 3.6, 4.7, 3.9, 3.5, 3.0, 3.7, 10.2, 5.0, 2.9, 2.7, 3.4, 2.9, 3.1, 2.8, 3.8, 3.5, 2.9, 3.8, 2.9, 3.8, 3.6, 3.4, 2.6, 3.1, 3.5, 3.2, 2.8, 3.2, 3.9, 3.1, 3.7, 2.8, 3.3, 3.8, 2.9, 2.0, 2.9, 3.5, 2.8, 3.3, 3.6, 2.9, 3.0, 2.9, 3.4, 4.1, 3.1, 3.1, 2.9, 3.4, 2.8, 2.6, 3.2, 3.1, 2.8, 3.3, 2.6, 3.8, 2.6, 3.0, 3.8, 2.8, 3.2, 2.6, 2.6, 3.4, 3.2, 3.1, 2.5, 2.6, 3.4, 3.2, 3.2, 3.5, 3.0, 2.9, 3.7, 3.1, 3.3, 4.6, 2.9, 2.9, 2.9, 3.4, 3.2, 3.0, 3.8, 3.6, 3.1, 3.1, 2.9, 3.1, 3.2, 3.2, 4.7, 3.4, 4.3, 3.2, 3.0, 3.6, 3.7, 2.7, 4.6, 2.7, 2.9, 3.4, 2.2, 2.9], \"y0\": \" \", \"yaxis\": \"y\"}, {\"alignmentgroup\": \"True\", \"hovertemplate\": \"only_one_genre=rap<br>year=%{x}<br>duration_min=%{y}<extra></extra>\", \"legendgroup\": \"rap\", \"marker\": {\"color\": \"#EF553B\"}, \"name\": \"rap\", \"notched\": false, \"offsetgroup\": \"rap\", \"orientation\": \"v\", \"showlegend\": true, \"type\": \"box\", \"x\": [2000, 2000, 2000, 2000, 2000, 2001, 2001, 2001, 2001, 2002, 2002, 2002, 2002, 2002, 2002, 2002, 2002, 2003, 2003, 2003, 2003, 2003, 2003, 2003, 2003, 2003, 2003, 2003, 2003, 2003, 2004, 2004, 2004, 2004, 2004, 2004, 2004, 2004, 2004, 2004, 2004, 2004, 2005, 2005, 2005, 2005, 2005, 2005, 2005, 2005, 2005, 2005, 2005, 2005, 2005, 2005, 2005, 2005, 2006, 2006, 2006, 2006, 2006, 2006, 2006, 2006, 2006, 2007, 2007, 2007, 2007, 2007, 2007, 2008, 2008, 2008, 2008, 2008, 2008, 2008, 2008, 2008, 2008, 2008, 2008, 2008, 2008, 2008, 2008, 2009, 2009, 2009, 2009, 2009, 2009, 2009, 2009, 2009, 2009, 2010, 2010, 2010, 2010, 2010, 2010, 2010, 2010, 2010, 2010, 2011, 2011, 2011, 2011, 2011, 2011, 2011, 2011, 2011, 2011, 2011, 2011, 2011, 2012, 2012, 2012, 2012, 2012, 2012, 2012, 2012, 2012, 2012, 2013, 2013, 2013, 2013, 2013, 2013, 2013, 2013, 2013, 2013, 2013, 2013, 2013, 2014, 2014, 2014, 2014, 2014, 2015, 2015, 2015, 2015, 2015, 2015, 2015, 2015, 2015, 2015, 2015, 2015, 2016, 2016, 2016, 2016, 2016, 2016, 2016, 2016, 2016, 2016, 2016, 2016, 2016, 2016, 2017, 2017, 2017, 2017, 2017, 2017, 2017, 2017, 2017, 2017, 2017, 2017, 2017, 2017, 2017, 2017, 2017, 2017, 2017, 2017, 2017, 2017, 2017, 2017, 2017, 2017, 2018, 2018, 2018, 2018, 2018, 2018, 2018, 2018, 2018, 2018, 2018, 2018, 2018, 2018, 2018, 2018, 2018, 2018, 2018, 2018, 2018, 2018, 2018, 2018, 2018, 2018, 2019, 2019, 2019, 2019, 2019, 2019, 2019, 2019, 2019, 2019, 2019, 2019, 2019, 2019, 2019, 2019, 2020, 2020, 2020, 2020, 2020, 2020, 2020, 2020, 2020, 2020, 2020, 2020, 2020, 2020, 2020, 2020, 2020, 2020, 2020, 2021, 2021, 2021, 2021, 2021, 2021, 2021, 2021, 2021, 2021, 2022, 2022, 2022, 2022, 2022, 2022, 2022, 2022, 2022, 2022, 2022], \"x0\": \" \", \"xaxis\": \"x\", \"y\": [4.7, 3.7, 4.7, 4.5, 3.8, 6.7, 4.5, 4.0, 4.4, 4.8, 5.0, 4.5, 5.0, 5.4, 4.0, 4.9, 4.8, 3.2, 5.7, 3.7, 3.6, 5.4, 3.9, 4.2, 4.9, 5.0, 3.7, 4.7, 3.7, 4.2, 3.9, 4.4, 3.7, 6.2, 3.2, 4.1, 3.9, 3.6, 4.1, 4.4, 3.1, 4.5, 3.5, 4.2, 3.4, 3.4, 4.0, 4.4, 3.9, 3.6, 3.8, 4.9, 4.0, 4.7, 3.9, 3.9, 4.1, 4.4, 4.6, 3.9, 3.8, 4.8, 3.1, 4.6, 4.7, 3.6, 3.9, 5.2, 4.5, 4.2, 4.1, 4.8, 4.1, 4.2, 4.0, 3.4, 4.6, 3.4, 5.6, 4.2, 4.2, 5.0, 3.7, 4.8, 5.4, 4.5, 5.3, 4.1, 4.1, 3.5, 4.5, 4.3, 5.6, 6.0, 3.7, 4.2, 4.5, 4.5, 3.9, 4.4, 4.1, 3.9, 4.8, 4.5, 4.6, 3.5, 4.2, 4.4, 3.9, 3.9, 5.0, 4.4, 3.6, 2.7, 4.1, 3.7, 4.0, 4.9, 4.7, 4.0, 3.8, 3.8, 3.5, 4.6, 3.7, 3.0, 5.5, 5.2, 5.8, 4.2, 3.3, 3.8, 4.3, 3.9, 4.2, 4.0, 3.9, 3.1, 3.8, 3.8, 2.9, 4.0, 5.6, 4.0, 3.6, 5.0, 4.4, 3.2, 3.6, 3.6, 3.8, 3.3, 4.5, 3.7, 3.9, 3.3, 4.4, 3.8, 3.4, 3.3, 3.7, 3.6, 2.9, 3.3, 3.2, 4.5, 4.2, 5.2, 4.0, 4.4, 4.1, 4.1, 3.4, 4.0, 3.8, 4.0, 5.0, 4.1, 3.0, 3.9, 3.6, 5.4, 3.0, 3.4, 3.2, 3.0, 3.1, 4.5, 3.5, 3.7, 4.2, 4.9, 2.9, 3.5, 5.7, 3.5, 4.5, 3.5, 3.5, 4.1, 3.7, 3.4, 3.3, 5.2, 3.9, 2.4, 3.6, 3.5, 4.0, 3.1, 4.5, 5.8, 3.6, 3.2, 3.6, 4.6, 3.0, 3.9, 2.9, 5.1, 3.8, 3.8, 3.6, 4.3, 3.4, 4.3, 5.5, 4.0, 5.2, 3.6, 4.8, 2.2, 3.2, 4.0, 3.0, 2.8, 3.4, 3.8, 3.2, 3.2, 2.9, 3.3, 3.4, 2.2, 3.3, 4.1, 2.7, 4.0, 3.0, 3.2, 4.4, 3.5, 2.9, 2.6, 3.4, 3.3, 3.5, 3.8, 3.6, 3.2, 2.9, 3.1, 5.7, 4.9, 2.9, 3.4, 2.8, 3.7, 2.7, 3.0, 3.6, 4.1, 3.8, 2.9, 3.1, 3.6, 4.4, 3.3, 3.4, 3.2, 5.5, 5.6, 4.0, 2.3], \"y0\": \" \", \"yaxis\": \"y\"}],                        {\"boxmode\": \"group\", \"legend\": {\"title\": {\"text\": \"only_one_genre\"}, \"tracegroupgap\": 0}, \"template\": {\"data\": {\"bar\": [{\"error_x\": {\"color\": \"#2a3f5f\"}, \"error_y\": {\"color\": \"#2a3f5f\"}, \"marker\": {\"line\": {\"color\": \"#E5ECF6\", \"width\": 0.5}}, \"type\": \"bar\"}], \"barpolar\": [{\"marker\": {\"line\": {\"color\": \"#E5ECF6\", \"width\": 0.5}}, \"type\": \"barpolar\"}], \"carpet\": [{\"aaxis\": {\"endlinecolor\": \"#2a3f5f\", \"gridcolor\": \"white\", \"linecolor\": \"white\", \"minorgridcolor\": \"white\", \"startlinecolor\": \"#2a3f5f\"}, \"baxis\": {\"endlinecolor\": \"#2a3f5f\", \"gridcolor\": \"white\", \"linecolor\": \"white\", \"minorgridcolor\": \"white\", \"startlinecolor\": \"#2a3f5f\"}, \"type\": \"carpet\"}], \"choropleth\": [{\"colorbar\": {\"outlinewidth\": 0, \"ticks\": \"\"}, \"type\": \"choropleth\"}], \"contour\": [{\"colorbar\": {\"outlinewidth\": 0, \"ticks\": \"\"}, \"colorscale\": [[0.0, \"#0d0887\"], [0.1111111111111111, \"#46039f\"], [0.2222222222222222, \"#7201a8\"], [0.3333333333333333, \"#9c179e\"], [0.4444444444444444, \"#bd3786\"], [0.5555555555555556, \"#d8576b\"], [0.6666666666666666, \"#ed7953\"], [0.7777777777777778, \"#fb9f3a\"], [0.8888888888888888, \"#fdca26\"], [1.0, \"#f0f921\"]], \"type\": \"contour\"}], \"contourcarpet\": [{\"colorbar\": {\"outlinewidth\": 0, \"ticks\": \"\"}, \"type\": \"contourcarpet\"}], \"heatmap\": [{\"colorbar\": {\"outlinewidth\": 0, \"ticks\": \"\"}, \"colorscale\": [[0.0, \"#0d0887\"], [0.1111111111111111, \"#46039f\"], [0.2222222222222222, \"#7201a8\"], [0.3333333333333333, \"#9c179e\"], [0.4444444444444444, \"#bd3786\"], [0.5555555555555556, \"#d8576b\"], [0.6666666666666666, \"#ed7953\"], [0.7777777777777778, \"#fb9f3a\"], [0.8888888888888888, \"#fdca26\"], [1.0, \"#f0f921\"]], \"type\": \"heatmap\"}], \"heatmapgl\": [{\"colorbar\": {\"outlinewidth\": 0, \"ticks\": \"\"}, \"colorscale\": [[0.0, \"#0d0887\"], [0.1111111111111111, \"#46039f\"], [0.2222222222222222, \"#7201a8\"], [0.3333333333333333, \"#9c179e\"], [0.4444444444444444, \"#bd3786\"], [0.5555555555555556, \"#d8576b\"], [0.6666666666666666, \"#ed7953\"], [0.7777777777777778, \"#fb9f3a\"], [0.8888888888888888, \"#fdca26\"], [1.0, \"#f0f921\"]], \"type\": \"heatmapgl\"}], \"histogram\": [{\"marker\": {\"colorbar\": {\"outlinewidth\": 0, \"ticks\": \"\"}}, \"type\": \"histogram\"}], \"histogram2d\": [{\"colorbar\": {\"outlinewidth\": 0, \"ticks\": \"\"}, \"colorscale\": [[0.0, \"#0d0887\"], [0.1111111111111111, \"#46039f\"], [0.2222222222222222, \"#7201a8\"], [0.3333333333333333, \"#9c179e\"], [0.4444444444444444, \"#bd3786\"], [0.5555555555555556, \"#d8576b\"], [0.6666666666666666, \"#ed7953\"], [0.7777777777777778, \"#fb9f3a\"], [0.8888888888888888, \"#fdca26\"], [1.0, \"#f0f921\"]], \"type\": \"histogram2d\"}], \"histogram2dcontour\": [{\"colorbar\": {\"outlinewidth\": 0, \"ticks\": \"\"}, \"colorscale\": [[0.0, \"#0d0887\"], [0.1111111111111111, \"#46039f\"], [0.2222222222222222, \"#7201a8\"], [0.3333333333333333, \"#9c179e\"], [0.4444444444444444, \"#bd3786\"], [0.5555555555555556, \"#d8576b\"], [0.6666666666666666, \"#ed7953\"], [0.7777777777777778, \"#fb9f3a\"], [0.8888888888888888, \"#fdca26\"], [1.0, \"#f0f921\"]], \"type\": \"histogram2dcontour\"}], \"mesh3d\": [{\"colorbar\": {\"outlinewidth\": 0, \"ticks\": \"\"}, \"type\": \"mesh3d\"}], \"parcoords\": [{\"line\": {\"colorbar\": {\"outlinewidth\": 0, \"ticks\": \"\"}}, \"type\": \"parcoords\"}], \"pie\": [{\"automargin\": true, \"type\": \"pie\"}], \"scatter\": [{\"marker\": {\"colorbar\": {\"outlinewidth\": 0, \"ticks\": \"\"}}, \"type\": \"scatter\"}], \"scatter3d\": [{\"line\": {\"colorbar\": {\"outlinewidth\": 0, \"ticks\": \"\"}}, \"marker\": {\"colorbar\": {\"outlinewidth\": 0, \"ticks\": \"\"}}, \"type\": \"scatter3d\"}], \"scattercarpet\": [{\"marker\": {\"colorbar\": {\"outlinewidth\": 0, \"ticks\": \"\"}}, \"type\": \"scattercarpet\"}], \"scattergeo\": [{\"marker\": {\"colorbar\": {\"outlinewidth\": 0, \"ticks\": \"\"}}, \"type\": \"scattergeo\"}], \"scattergl\": [{\"marker\": {\"colorbar\": {\"outlinewidth\": 0, \"ticks\": \"\"}}, \"type\": \"scattergl\"}], \"scattermapbox\": [{\"marker\": {\"colorbar\": {\"outlinewidth\": 0, \"ticks\": \"\"}}, \"type\": \"scattermapbox\"}], \"scatterpolar\": [{\"marker\": {\"colorbar\": {\"outlinewidth\": 0, \"ticks\": \"\"}}, \"type\": \"scatterpolar\"}], \"scatterpolargl\": [{\"marker\": {\"colorbar\": {\"outlinewidth\": 0, \"ticks\": \"\"}}, \"type\": \"scatterpolargl\"}], \"scatterternary\": [{\"marker\": {\"colorbar\": {\"outlinewidth\": 0, \"ticks\": \"\"}}, \"type\": \"scatterternary\"}], \"surface\": [{\"colorbar\": {\"outlinewidth\": 0, \"ticks\": \"\"}, \"colorscale\": [[0.0, \"#0d0887\"], [0.1111111111111111, \"#46039f\"], [0.2222222222222222, \"#7201a8\"], [0.3333333333333333, \"#9c179e\"], [0.4444444444444444, \"#bd3786\"], [0.5555555555555556, \"#d8576b\"], [0.6666666666666666, \"#ed7953\"], [0.7777777777777778, \"#fb9f3a\"], [0.8888888888888888, \"#fdca26\"], [1.0, \"#f0f921\"]], \"type\": \"surface\"}], \"table\": [{\"cells\": {\"fill\": {\"color\": \"#EBF0F8\"}, \"line\": {\"color\": \"white\"}}, \"header\": {\"fill\": {\"color\": \"#C8D4E3\"}, \"line\": {\"color\": \"white\"}}, \"type\": \"table\"}]}, \"layout\": {\"annotationdefaults\": {\"arrowcolor\": \"#2a3f5f\", \"arrowhead\": 0, \"arrowwidth\": 1}, \"coloraxis\": {\"colorbar\": {\"outlinewidth\": 0, \"ticks\": \"\"}}, \"colorscale\": {\"diverging\": [[0, \"#8e0152\"], [0.1, \"#c51b7d\"], [0.2, \"#de77ae\"], [0.3, \"#f1b6da\"], [0.4, \"#fde0ef\"], [0.5, \"#f7f7f7\"], [0.6, \"#e6f5d0\"], [0.7, \"#b8e186\"], [0.8, \"#7fbc41\"], [0.9, \"#4d9221\"], [1, \"#276419\"]], \"sequential\": [[0.0, \"#0d0887\"], [0.1111111111111111, \"#46039f\"], [0.2222222222222222, \"#7201a8\"], [0.3333333333333333, \"#9c179e\"], [0.4444444444444444, \"#bd3786\"], [0.5555555555555556, \"#d8576b\"], [0.6666666666666666, \"#ed7953\"], [0.7777777777777778, \"#fb9f3a\"], [0.8888888888888888, \"#fdca26\"], [1.0, \"#f0f921\"]], \"sequentialminus\": [[0.0, \"#0d0887\"], [0.1111111111111111, \"#46039f\"], [0.2222222222222222, \"#7201a8\"], [0.3333333333333333, \"#9c179e\"], [0.4444444444444444, \"#bd3786\"], [0.5555555555555556, \"#d8576b\"], [0.6666666666666666, \"#ed7953\"], [0.7777777777777778, \"#fb9f3a\"], [0.8888888888888888, \"#fdca26\"], [1.0, \"#f0f921\"]]}, \"colorway\": [\"#636efa\", \"#EF553B\", \"#00cc96\", \"#ab63fa\", \"#FFA15A\", \"#19d3f3\", \"#FF6692\", \"#B6E880\", \"#FF97FF\", \"#FECB52\"], \"font\": {\"color\": \"#2a3f5f\"}, \"geo\": {\"bgcolor\": \"white\", \"lakecolor\": \"white\", \"landcolor\": \"#E5ECF6\", \"showlakes\": true, \"showland\": true, \"subunitcolor\": \"white\"}, \"hoverlabel\": {\"align\": \"left\"}, \"hovermode\": \"closest\", \"mapbox\": {\"style\": \"light\"}, \"paper_bgcolor\": \"white\", \"plot_bgcolor\": \"#E5ECF6\", \"polar\": {\"angularaxis\": {\"gridcolor\": \"white\", \"linecolor\": \"white\", \"ticks\": \"\"}, \"bgcolor\": \"#E5ECF6\", \"radialaxis\": {\"gridcolor\": \"white\", \"linecolor\": \"white\", \"ticks\": \"\"}}, \"scene\": {\"xaxis\": {\"backgroundcolor\": \"#E5ECF6\", \"gridcolor\": \"white\", \"gridwidth\": 2, \"linecolor\": \"white\", \"showbackground\": true, \"ticks\": \"\", \"zerolinecolor\": \"white\"}, \"yaxis\": {\"backgroundcolor\": \"#E5ECF6\", \"gridcolor\": \"white\", \"gridwidth\": 2, \"linecolor\": \"white\", \"showbackground\": true, \"ticks\": \"\", \"zerolinecolor\": \"white\"}, \"zaxis\": {\"backgroundcolor\": \"#E5ECF6\", \"gridcolor\": \"white\", \"gridwidth\": 2, \"linecolor\": \"white\", \"showbackground\": true, \"ticks\": \"\", \"zerolinecolor\": \"white\"}}, \"shapedefaults\": {\"line\": {\"color\": \"#2a3f5f\"}}, \"ternary\": {\"aaxis\": {\"gridcolor\": \"white\", \"linecolor\": \"white\", \"ticks\": \"\"}, \"baxis\": {\"gridcolor\": \"white\", \"linecolor\": \"white\", \"ticks\": \"\"}, \"bgcolor\": \"#E5ECF6\", \"caxis\": {\"gridcolor\": \"white\", \"linecolor\": \"white\", \"ticks\": \"\"}}, \"title\": {\"x\": 0.05}, \"xaxis\": {\"automargin\": true, \"gridcolor\": \"white\", \"linecolor\": \"white\", \"ticks\": \"\", \"title\": {\"standoff\": 15}, \"zerolinecolor\": \"white\", \"zerolinewidth\": 2}, \"yaxis\": {\"automargin\": true, \"gridcolor\": \"white\", \"linecolor\": \"white\", \"ticks\": \"\", \"title\": {\"standoff\": 15}, \"zerolinecolor\": \"white\", \"zerolinewidth\": 2}}}, \"title\": {\"text\": \"Duration of songs by years and genre\"}, \"xaxis\": {\"anchor\": \"y\", \"domain\": [0.0, 1.0], \"title\": {\"text\": \"year\"}}, \"yaxis\": {\"anchor\": \"x\", \"domain\": [0.0, 1.0], \"title\": {\"text\": \"duration_min\"}}},                        {\"responsive\": true}                    ).then(function(){\n",
       "                            \n",
       "var gd = document.getElementById('196c6f25-5362-46b5-829e-cce7aa0aed41');\n",
       "var x = new MutationObserver(function (mutations, observer) {{\n",
       "        var display = window.getComputedStyle(gd).display;\n",
       "        if (!display || display === 'none') {{\n",
       "            console.log([gd, 'removed!']);\n",
       "            Plotly.purge(gd);\n",
       "            observer.disconnect();\n",
       "        }}\n",
       "}});\n",
       "\n",
       "// Listen for the removal of the full notebook cells\n",
       "var notebookContainer = gd.closest('#notebook-container');\n",
       "if (notebookContainer) {{\n",
       "    x.observe(notebookContainer, {childList: true});\n",
       "}}\n",
       "\n",
       "// Listen for the clearing of the current output cell\n",
       "var outputEl = gd.closest('.output');\n",
       "if (outputEl) {{\n",
       "    x.observe(outputEl, {childList: true});\n",
       "}}\n",
       "\n",
       "                        })                };                });            </script>        </div>"
      ]
     },
     "metadata": {},
     "output_type": "display_data"
    },
    {
     "data": {
      "application/javascript": [
       "\n",
       "            setTimeout(function() {\n",
       "                var nbb_cell_id = 179;\n",
       "                var nbb_unformatted_code = \"px.box(\\n    df[df.only_one_genre.isin([\\\"rap\\\", \\\"pop\\\"])],\\n    x=\\\"year\\\",\\n    y=\\\"duration_min\\\",\\n    color=\\\"only_one_genre\\\",\\n    title=\\\"Duration of songs by years and genre\\\"\\n)\";\n",
       "                var nbb_formatted_code = \"px.box(\\n    df[df.only_one_genre.isin([\\\"rap\\\", \\\"pop\\\"])],\\n    x=\\\"year\\\",\\n    y=\\\"duration_min\\\",\\n    color=\\\"only_one_genre\\\",\\n    title=\\\"Duration of songs by years and genre\\\",\\n)\";\n",
       "                var nbb_cells = Jupyter.notebook.get_cells();\n",
       "                for (var i = 0; i < nbb_cells.length; ++i) {\n",
       "                    if (nbb_cells[i].input_prompt_number == nbb_cell_id) {\n",
       "                        if (nbb_cells[i].get_text() == nbb_unformatted_code) {\n",
       "                             nbb_cells[i].set_text(nbb_formatted_code);\n",
       "                        }\n",
       "                        break;\n",
       "                    }\n",
       "                }\n",
       "            }, 500);\n",
       "            "
      ],
      "text/plain": [
       "<IPython.core.display.Javascript object>"
      ]
     },
     "metadata": {},
     "output_type": "display_data"
    }
   ],
   "source": [
    "px.box(\n",
    "    df[df.only_one_genre.isin([\"rap\", \"pop\"])],\n",
    "    x=\"year\",\n",
    "    y=\"duration_min\",\n",
    "    color=\"only_one_genre\",\n",
    "    title=\"Duration of songs by years and genre\",\n",
    ")"
   ]
  },
  {
   "cell_type": "markdown",
   "metadata": {},
   "source": [
    "### Heatmap"
   ]
  },
  {
   "cell_type": "code",
   "execution_count": 260,
   "metadata": {},
   "outputs": [
    {
     "data": {
      "text/plain": [
       "Index(['playlist_url', 'year', 'track_id', 'track_name', 'track_popularity',\n",
       "       'album', 'artist_id', 'artist_name', 'artist_genres',\n",
       "       'artist_popularity', 'danceability', 'energy', 'key', 'loudness',\n",
       "       'mode', 'speechiness', 'acousticness', 'instrumentalness', 'liveness',\n",
       "       'valence', 'tempo', 'duration_ms', 'time_signature', 'only_one_genre',\n",
       "       'duration_min', 'decade'],\n",
       "      dtype='object')"
      ]
     },
     "execution_count": 260,
     "metadata": {},
     "output_type": "execute_result"
    },
    {
     "data": {
      "application/javascript": [
       "\n",
       "            setTimeout(function() {\n",
       "                var nbb_cell_id = 260;\n",
       "                var nbb_unformatted_code = \"df.columns\";\n",
       "                var nbb_formatted_code = \"df.columns\";\n",
       "                var nbb_cells = Jupyter.notebook.get_cells();\n",
       "                for (var i = 0; i < nbb_cells.length; ++i) {\n",
       "                    if (nbb_cells[i].input_prompt_number == nbb_cell_id) {\n",
       "                        if (nbb_cells[i].get_text() == nbb_unformatted_code) {\n",
       "                             nbb_cells[i].set_text(nbb_formatted_code);\n",
       "                        }\n",
       "                        break;\n",
       "                    }\n",
       "                }\n",
       "            }, 500);\n",
       "            "
      ],
      "text/plain": [
       "<IPython.core.display.Javascript object>"
      ]
     },
     "metadata": {},
     "output_type": "display_data"
    }
   ],
   "source": [
    "df.columns"
   ]
  },
  {
   "cell_type": "code",
   "execution_count": 274,
   "metadata": {},
   "outputs": [
    {
     "data": {
      "text/html": [
       "<style  type=\"text/css\" >\n",
       "#T_c12e1_row0_col0,#T_c12e1_row1_col1,#T_c12e1_row2_col2,#T_c12e1_row3_col3,#T_c12e1_row4_col4,#T_c12e1_row5_col5,#T_c12e1_row6_col6{\n",
       "            background-color:  #023858;\n",
       "            color:  #f1f1f1;\n",
       "        }#T_c12e1_row0_col1{\n",
       "            background-color:  #d5d5e8;\n",
       "            color:  #000000;\n",
       "        }#T_c12e1_row0_col2,#T_c12e1_row5_col4{\n",
       "            background-color:  #d9d8ea;\n",
       "            color:  #000000;\n",
       "        }#T_c12e1_row0_col3,#T_c12e1_row5_col1{\n",
       "            background-color:  #b0c2de;\n",
       "            color:  #000000;\n",
       "        }#T_c12e1_row0_col4{\n",
       "            background-color:  #b5c4df;\n",
       "            color:  #000000;\n",
       "        }#T_c12e1_row0_col5,#T_c12e1_row2_col6,#T_c12e1_row4_col0,#T_c12e1_row5_col0{\n",
       "            background-color:  #e7e3f0;\n",
       "            color:  #000000;\n",
       "        }#T_c12e1_row0_col6,#T_c12e1_row1_col4,#T_c12e1_row4_col1,#T_c12e1_row4_col2,#T_c12e1_row4_col5,#T_c12e1_row5_col3,#T_c12e1_row6_col0{\n",
       "            background-color:  #fff7fb;\n",
       "            color:  #000000;\n",
       "        }#T_c12e1_row1_col0{\n",
       "            background-color:  #fcf4fa;\n",
       "            color:  #000000;\n",
       "        }#T_c12e1_row1_col2{\n",
       "            background-color:  #1077b4;\n",
       "            color:  #f1f1f1;\n",
       "        }#T_c12e1_row1_col3{\n",
       "            background-color:  #dfddec;\n",
       "            color:  #000000;\n",
       "        }#T_c12e1_row1_col5{\n",
       "            background-color:  #e2dfee;\n",
       "            color:  #000000;\n",
       "        }#T_c12e1_row1_col6{\n",
       "            background-color:  #d8d7e9;\n",
       "            color:  #000000;\n",
       "        }#T_c12e1_row2_col0{\n",
       "            background-color:  #eee9f3;\n",
       "            color:  #000000;\n",
       "        }#T_c12e1_row2_col1{\n",
       "            background-color:  #056fae;\n",
       "            color:  #f1f1f1;\n",
       "        }#T_c12e1_row2_col3{\n",
       "            background-color:  #ece7f2;\n",
       "            color:  #000000;\n",
       "        }#T_c12e1_row2_col4,#T_c12e1_row4_col3,#T_c12e1_row5_col2{\n",
       "            background-color:  #eee8f3;\n",
       "            color:  #000000;\n",
       "        }#T_c12e1_row2_col5,#T_c12e1_row3_col5{\n",
       "            background-color:  #fef6fb;\n",
       "            color:  #000000;\n",
       "        }#T_c12e1_row3_col0{\n",
       "            background-color:  #adc1dd;\n",
       "            color:  #000000;\n",
       "        }#T_c12e1_row3_col1{\n",
       "            background-color:  #abbfdc;\n",
       "            color:  #000000;\n",
       "        }#T_c12e1_row3_col2{\n",
       "            background-color:  #d4d4e8;\n",
       "            color:  #000000;\n",
       "        }#T_c12e1_row3_col4{\n",
       "            background-color:  #bdc8e1;\n",
       "            color:  #000000;\n",
       "        }#T_c12e1_row3_col6{\n",
       "            background-color:  #e9e5f1;\n",
       "            color:  #000000;\n",
       "        }#T_c12e1_row4_col6{\n",
       "            background-color:  #f5eef6;\n",
       "            color:  #000000;\n",
       "        }#T_c12e1_row5_col6,#T_c12e1_row6_col5{\n",
       "            background-color:  #f4edf6;\n",
       "            color:  #000000;\n",
       "        }#T_c12e1_row6_col1{\n",
       "            background-color:  #a4bcda;\n",
       "            color:  #000000;\n",
       "        }#T_c12e1_row6_col2{\n",
       "            background-color:  #d2d2e7;\n",
       "            color:  #000000;\n",
       "        }#T_c12e1_row6_col3{\n",
       "            background-color:  #ebe6f2;\n",
       "            color:  #000000;\n",
       "        }#T_c12e1_row6_col4{\n",
       "            background-color:  #cccfe5;\n",
       "            color:  #000000;\n",
       "        }</style><table id=\"T_c12e1_\" ><thead>    <tr>        <th class=\"blank level0\" ></th>        <th class=\"col_heading level0 col0\" >danceability</th>        <th class=\"col_heading level0 col1\" >energy</th>        <th class=\"col_heading level0 col2\" >loudness</th>        <th class=\"col_heading level0 col3\" >speechiness</th>        <th class=\"col_heading level0 col4\" >acousticness</th>        <th class=\"col_heading level0 col5\" >instrumentalness</th>        <th class=\"col_heading level0 col6\" >liveness</th>    </tr></thead><tbody>\n",
       "                <tr>\n",
       "                        <th id=\"T_c12e1_level0_row0\" class=\"row_heading level0 row0\" >danceability</th>\n",
       "                        <td id=\"T_c12e1_row0_col0\" class=\"data row0 col0\" >1.000000</td>\n",
       "                        <td id=\"T_c12e1_row0_col1\" class=\"data row0 col1\" >-0.107251</td>\n",
       "                        <td id=\"T_c12e1_row0_col2\" class=\"data row0 col2\" >-0.005411</td>\n",
       "                        <td id=\"T_c12e1_row0_col3\" class=\"data row0 col3\" >0.267827</td>\n",
       "                        <td id=\"T_c12e1_row0_col4\" class=\"data row0 col4\" >0.038480</td>\n",
       "                        <td id=\"T_c12e1_row0_col5\" class=\"data row0 col5\" >0.036158</td>\n",
       "                        <td id=\"T_c12e1_row0_col6\" class=\"data row0 col6\" >-0.132536</td>\n",
       "            </tr>\n",
       "            <tr>\n",
       "                        <th id=\"T_c12e1_level0_row1\" class=\"row_heading level0 row1\" >energy</th>\n",
       "                        <td id=\"T_c12e1_row1_col0\" class=\"data row1 col0\" >-0.107251</td>\n",
       "                        <td id=\"T_c12e1_row1_col1\" class=\"data row1 col1\" >1.000000</td>\n",
       "                        <td id=\"T_c12e1_row1_col2\" class=\"data row1 col2\" >0.647393</td>\n",
       "                        <td id=\"T_c12e1_row1_col3\" class=\"data row1 col3\" >0.084625</td>\n",
       "                        <td id=\"T_c12e1_row1_col4\" class=\"data row1 col4\" >-0.433850</td>\n",
       "                        <td id=\"T_c12e1_row1_col5\" class=\"data row1 col5\" >0.060504</td>\n",
       "                        <td id=\"T_c12e1_row1_col6\" class=\"data row1 col6\" >0.112662</td>\n",
       "            </tr>\n",
       "            <tr>\n",
       "                        <th id=\"T_c12e1_level0_row2\" class=\"row_heading level0 row2\" >loudness</th>\n",
       "                        <td id=\"T_c12e1_row2_col0\" class=\"data row2 col0\" >-0.005411</td>\n",
       "                        <td id=\"T_c12e1_row2_col1\" class=\"data row2 col1\" >0.647393</td>\n",
       "                        <td id=\"T_c12e1_row2_col2\" class=\"data row2 col2\" >1.000000</td>\n",
       "                        <td id=\"T_c12e1_row2_col3\" class=\"data row2 col3\" >0.021928</td>\n",
       "                        <td id=\"T_c12e1_row2_col4\" class=\"data row2 col4\" >-0.271319</td>\n",
       "                        <td id=\"T_c12e1_row2_col5\" class=\"data row2 col5\" >-0.124570</td>\n",
       "                        <td id=\"T_c12e1_row2_col6\" class=\"data row2 col6\" >0.036759</td>\n",
       "            </tr>\n",
       "            <tr>\n",
       "                        <th id=\"T_c12e1_level0_row3\" class=\"row_heading level0 row3\" >speechiness</th>\n",
       "                        <td id=\"T_c12e1_row3_col0\" class=\"data row3 col0\" >0.267827</td>\n",
       "                        <td id=\"T_c12e1_row3_col1\" class=\"data row3 col1\" >0.084625</td>\n",
       "                        <td id=\"T_c12e1_row3_col2\" class=\"data row3 col2\" >0.021928</td>\n",
       "                        <td id=\"T_c12e1_row3_col3\" class=\"data row3 col3\" >1.000000</td>\n",
       "                        <td id=\"T_c12e1_row3_col4\" class=\"data row3 col4\" >0.007857</td>\n",
       "                        <td id=\"T_c12e1_row3_col5\" class=\"data row3 col5\" >-0.122310</td>\n",
       "                        <td id=\"T_c12e1_row3_col6\" class=\"data row3 col6\" >0.025615</td>\n",
       "            </tr>\n",
       "            <tr>\n",
       "                        <th id=\"T_c12e1_level0_row4\" class=\"row_heading level0 row4\" >acousticness</th>\n",
       "                        <td id=\"T_c12e1_row4_col0\" class=\"data row4 col0\" >0.038480</td>\n",
       "                        <td id=\"T_c12e1_row4_col1\" class=\"data row4 col1\" >-0.433850</td>\n",
       "                        <td id=\"T_c12e1_row4_col2\" class=\"data row4 col2\" >-0.271319</td>\n",
       "                        <td id=\"T_c12e1_row4_col3\" class=\"data row4 col3\" >0.007857</td>\n",
       "                        <td id=\"T_c12e1_row4_col4\" class=\"data row4 col4\" >1.000000</td>\n",
       "                        <td id=\"T_c12e1_row4_col5\" class=\"data row4 col5\" >-0.131143</td>\n",
       "                        <td id=\"T_c12e1_row4_col6\" class=\"data row4 col6\" >-0.053797</td>\n",
       "            </tr>\n",
       "            <tr>\n",
       "                        <th id=\"T_c12e1_level0_row5\" class=\"row_heading level0 row5\" >instrumentalness</th>\n",
       "                        <td id=\"T_c12e1_row5_col0\" class=\"data row5 col0\" >0.036158</td>\n",
       "                        <td id=\"T_c12e1_row5_col1\" class=\"data row5 col1\" >0.060504</td>\n",
       "                        <td id=\"T_c12e1_row5_col2\" class=\"data row5 col2\" >-0.124570</td>\n",
       "                        <td id=\"T_c12e1_row5_col3\" class=\"data row5 col3\" >-0.122310</td>\n",
       "                        <td id=\"T_c12e1_row5_col4\" class=\"data row5 col4\" >-0.131143</td>\n",
       "                        <td id=\"T_c12e1_row5_col5\" class=\"data row5 col5\" >1.000000</td>\n",
       "                        <td id=\"T_c12e1_row5_col6\" class=\"data row5 col6\" >-0.045626</td>\n",
       "            </tr>\n",
       "            <tr>\n",
       "                        <th id=\"T_c12e1_level0_row6\" class=\"row_heading level0 row6\" >liveness</th>\n",
       "                        <td id=\"T_c12e1_row6_col0\" class=\"data row6 col0\" >-0.132536</td>\n",
       "                        <td id=\"T_c12e1_row6_col1\" class=\"data row6 col1\" >0.112662</td>\n",
       "                        <td id=\"T_c12e1_row6_col2\" class=\"data row6 col2\" >0.036759</td>\n",
       "                        <td id=\"T_c12e1_row6_col3\" class=\"data row6 col3\" >0.025615</td>\n",
       "                        <td id=\"T_c12e1_row6_col4\" class=\"data row6 col4\" >-0.053797</td>\n",
       "                        <td id=\"T_c12e1_row6_col5\" class=\"data row6 col5\" >-0.045626</td>\n",
       "                        <td id=\"T_c12e1_row6_col6\" class=\"data row6 col6\" >1.000000</td>\n",
       "            </tr>\n",
       "    </tbody></table>"
      ],
      "text/plain": [
       "<pandas.io.formats.style.Styler at 0x7f9d171ce810>"
      ]
     },
     "execution_count": 274,
     "metadata": {},
     "output_type": "execute_result"
    },
    {
     "data": {
      "application/javascript": [
       "\n",
       "            setTimeout(function() {\n",
       "                var nbb_cell_id = 274;\n",
       "                var nbb_unformatted_code = \"target_columns = [\\n    \\\"danceability\\\",\\n    \\\"energy\\\",\\n    \\\"loudness\\\",\\n    \\\"speechiness\\\",\\n    \\\"acousticness\\\",\\n    \\\"instrumentalness\\\",\\n    \\\"liveness\\\",\\n]\\n\\n\\\"\\\"\\\"\\nPearson correlation coefficients measure only linear relationships.\\nSpearman correlation coefficients measure only monotonic relationships.\\n\\\"\\\"\\\"\\ndf[target_columns].corr(method=\\\"spearman\\\").style.background_gradient()\";\n",
       "                var nbb_formatted_code = \"target_columns = [\\n    \\\"danceability\\\",\\n    \\\"energy\\\",\\n    \\\"loudness\\\",\\n    \\\"speechiness\\\",\\n    \\\"acousticness\\\",\\n    \\\"instrumentalness\\\",\\n    \\\"liveness\\\",\\n]\\n\\n\\\"\\\"\\\"\\nPearson correlation coefficients measure only linear relationships.\\nSpearman correlation coefficients measure only monotonic relationships.\\n\\\"\\\"\\\"\\ndf[target_columns].corr(method=\\\"spearman\\\").style.background_gradient()\";\n",
       "                var nbb_cells = Jupyter.notebook.get_cells();\n",
       "                for (var i = 0; i < nbb_cells.length; ++i) {\n",
       "                    if (nbb_cells[i].input_prompt_number == nbb_cell_id) {\n",
       "                        if (nbb_cells[i].get_text() == nbb_unformatted_code) {\n",
       "                             nbb_cells[i].set_text(nbb_formatted_code);\n",
       "                        }\n",
       "                        break;\n",
       "                    }\n",
       "                }\n",
       "            }, 500);\n",
       "            "
      ],
      "text/plain": [
       "<IPython.core.display.Javascript object>"
      ]
     },
     "metadata": {},
     "output_type": "display_data"
    }
   ],
   "source": [
    "target_columns = [\n",
    "    \"danceability\",\n",
    "    \"energy\",\n",
    "    \"loudness\",\n",
    "    \"speechiness\",\n",
    "    \"acousticness\",\n",
    "    \"instrumentalness\",\n",
    "    \"liveness\",\n",
    "]\n",
    "\n",
    "\"\"\"\n",
    "Pearson correlation coefficients measure only linear relationships.\n",
    "Spearman correlation coefficients measure only monotonic relationships.\n",
    "\"\"\"\n",
    "df[target_columns].corr(method=\"spearman\").style.background_gradient()"
   ]
  },
  {
   "cell_type": "code",
   "execution_count": 273,
   "metadata": {},
   "outputs": [
    {
     "data": {
      "application/vnd.plotly.v1+json": {
       "config": {
        "plotlyServerURL": "https://plot.ly"
       },
       "data": [
        {
         "coloraxis": "coloraxis",
         "hovertemplate": "x: %{x}<br>y: %{y}<br>color: %{z}<extra></extra>",
         "type": "heatmap",
         "x": [
          "danceability",
          "energy",
          "loudness",
          "speechiness",
          "acousticness",
          "instrumentalness",
          "liveness"
         ],
         "y": [
          "danceability",
          "energy",
          "loudness",
          "speechiness",
          "acousticness",
          "instrumentalness",
          "liveness"
         ],
         "z": [
          [
           1,
           -0.0405747221351241,
           0.02888890713077159,
           0.1711137218966343,
           -0.10524123691455323,
           0.018217123282445,
           -0.08465266213802047
          ],
          [
           -0.0405747221351241,
           1,
           0.6912063654250579,
           -0.0059809879791286715,
           -0.5437727712466537,
           0.009141740055086726,
           0.14894393991323945
          ],
          [
           0.02888890713077159,
           0.6912063654250579,
           1,
           -0.03802102193921716,
           -0.4149990640590515,
           -0.1243932898460484,
           0.0848710348389242
          ],
          [
           0.1711137218966343,
           -0.0059809879791286715,
           -0.03802102193921716,
           1,
           -0.037279632760442445,
           -0.056314642956786475,
           0.0665310665013696
          ],
          [
           -0.10524123691455323,
           -0.5437727712466537,
           -0.4149990640590515,
           -0.037279632760442445,
           1,
           0.002361402044006978,
           -0.09504458084632113
          ],
          [
           0.018217123282445,
           0.009141740055086726,
           -0.1243932898460484,
           -0.056314642956786475,
           0.002361402044006978,
           1,
           -0.037942300518266664
          ],
          [
           -0.08465266213802047,
           0.14894393991323945,
           0.0848710348389242,
           0.0665310665013696,
           -0.09504458084632113,
           -0.037942300518266664,
           1
          ]
         ]
        }
       ],
       "layout": {
        "coloraxis": {
         "colorscale": [
          [
           0,
           "#0d0887"
          ],
          [
           0.1111111111111111,
           "#46039f"
          ],
          [
           0.2222222222222222,
           "#7201a8"
          ],
          [
           0.3333333333333333,
           "#9c179e"
          ],
          [
           0.4444444444444444,
           "#bd3786"
          ],
          [
           0.5555555555555556,
           "#d8576b"
          ],
          [
           0.6666666666666666,
           "#ed7953"
          ],
          [
           0.7777777777777778,
           "#fb9f3a"
          ],
          [
           0.8888888888888888,
           "#fdca26"
          ],
          [
           1,
           "#f0f921"
          ]
         ]
        },
        "margin": {
         "t": 60
        },
        "template": {
         "data": {
          "bar": [
           {
            "error_x": {
             "color": "#2a3f5f"
            },
            "error_y": {
             "color": "#2a3f5f"
            },
            "marker": {
             "line": {
              "color": "#E5ECF6",
              "width": 0.5
             }
            },
            "type": "bar"
           }
          ],
          "barpolar": [
           {
            "marker": {
             "line": {
              "color": "#E5ECF6",
              "width": 0.5
             }
            },
            "type": "barpolar"
           }
          ],
          "carpet": [
           {
            "aaxis": {
             "endlinecolor": "#2a3f5f",
             "gridcolor": "white",
             "linecolor": "white",
             "minorgridcolor": "white",
             "startlinecolor": "#2a3f5f"
            },
            "baxis": {
             "endlinecolor": "#2a3f5f",
             "gridcolor": "white",
             "linecolor": "white",
             "minorgridcolor": "white",
             "startlinecolor": "#2a3f5f"
            },
            "type": "carpet"
           }
          ],
          "choropleth": [
           {
            "colorbar": {
             "outlinewidth": 0,
             "ticks": ""
            },
            "type": "choropleth"
           }
          ],
          "contour": [
           {
            "colorbar": {
             "outlinewidth": 0,
             "ticks": ""
            },
            "colorscale": [
             [
              0,
              "#0d0887"
             ],
             [
              0.1111111111111111,
              "#46039f"
             ],
             [
              0.2222222222222222,
              "#7201a8"
             ],
             [
              0.3333333333333333,
              "#9c179e"
             ],
             [
              0.4444444444444444,
              "#bd3786"
             ],
             [
              0.5555555555555556,
              "#d8576b"
             ],
             [
              0.6666666666666666,
              "#ed7953"
             ],
             [
              0.7777777777777778,
              "#fb9f3a"
             ],
             [
              0.8888888888888888,
              "#fdca26"
             ],
             [
              1,
              "#f0f921"
             ]
            ],
            "type": "contour"
           }
          ],
          "contourcarpet": [
           {
            "colorbar": {
             "outlinewidth": 0,
             "ticks": ""
            },
            "type": "contourcarpet"
           }
          ],
          "heatmap": [
           {
            "colorbar": {
             "outlinewidth": 0,
             "ticks": ""
            },
            "colorscale": [
             [
              0,
              "#0d0887"
             ],
             [
              0.1111111111111111,
              "#46039f"
             ],
             [
              0.2222222222222222,
              "#7201a8"
             ],
             [
              0.3333333333333333,
              "#9c179e"
             ],
             [
              0.4444444444444444,
              "#bd3786"
             ],
             [
              0.5555555555555556,
              "#d8576b"
             ],
             [
              0.6666666666666666,
              "#ed7953"
             ],
             [
              0.7777777777777778,
              "#fb9f3a"
             ],
             [
              0.8888888888888888,
              "#fdca26"
             ],
             [
              1,
              "#f0f921"
             ]
            ],
            "type": "heatmap"
           }
          ],
          "heatmapgl": [
           {
            "colorbar": {
             "outlinewidth": 0,
             "ticks": ""
            },
            "colorscale": [
             [
              0,
              "#0d0887"
             ],
             [
              0.1111111111111111,
              "#46039f"
             ],
             [
              0.2222222222222222,
              "#7201a8"
             ],
             [
              0.3333333333333333,
              "#9c179e"
             ],
             [
              0.4444444444444444,
              "#bd3786"
             ],
             [
              0.5555555555555556,
              "#d8576b"
             ],
             [
              0.6666666666666666,
              "#ed7953"
             ],
             [
              0.7777777777777778,
              "#fb9f3a"
             ],
             [
              0.8888888888888888,
              "#fdca26"
             ],
             [
              1,
              "#f0f921"
             ]
            ],
            "type": "heatmapgl"
           }
          ],
          "histogram": [
           {
            "marker": {
             "colorbar": {
              "outlinewidth": 0,
              "ticks": ""
             }
            },
            "type": "histogram"
           }
          ],
          "histogram2d": [
           {
            "colorbar": {
             "outlinewidth": 0,
             "ticks": ""
            },
            "colorscale": [
             [
              0,
              "#0d0887"
             ],
             [
              0.1111111111111111,
              "#46039f"
             ],
             [
              0.2222222222222222,
              "#7201a8"
             ],
             [
              0.3333333333333333,
              "#9c179e"
             ],
             [
              0.4444444444444444,
              "#bd3786"
             ],
             [
              0.5555555555555556,
              "#d8576b"
             ],
             [
              0.6666666666666666,
              "#ed7953"
             ],
             [
              0.7777777777777778,
              "#fb9f3a"
             ],
             [
              0.8888888888888888,
              "#fdca26"
             ],
             [
              1,
              "#f0f921"
             ]
            ],
            "type": "histogram2d"
           }
          ],
          "histogram2dcontour": [
           {
            "colorbar": {
             "outlinewidth": 0,
             "ticks": ""
            },
            "colorscale": [
             [
              0,
              "#0d0887"
             ],
             [
              0.1111111111111111,
              "#46039f"
             ],
             [
              0.2222222222222222,
              "#7201a8"
             ],
             [
              0.3333333333333333,
              "#9c179e"
             ],
             [
              0.4444444444444444,
              "#bd3786"
             ],
             [
              0.5555555555555556,
              "#d8576b"
             ],
             [
              0.6666666666666666,
              "#ed7953"
             ],
             [
              0.7777777777777778,
              "#fb9f3a"
             ],
             [
              0.8888888888888888,
              "#fdca26"
             ],
             [
              1,
              "#f0f921"
             ]
            ],
            "type": "histogram2dcontour"
           }
          ],
          "mesh3d": [
           {
            "colorbar": {
             "outlinewidth": 0,
             "ticks": ""
            },
            "type": "mesh3d"
           }
          ],
          "parcoords": [
           {
            "line": {
             "colorbar": {
              "outlinewidth": 0,
              "ticks": ""
             }
            },
            "type": "parcoords"
           }
          ],
          "pie": [
           {
            "automargin": true,
            "type": "pie"
           }
          ],
          "scatter": [
           {
            "marker": {
             "colorbar": {
              "outlinewidth": 0,
              "ticks": ""
             }
            },
            "type": "scatter"
           }
          ],
          "scatter3d": [
           {
            "line": {
             "colorbar": {
              "outlinewidth": 0,
              "ticks": ""
             }
            },
            "marker": {
             "colorbar": {
              "outlinewidth": 0,
              "ticks": ""
             }
            },
            "type": "scatter3d"
           }
          ],
          "scattercarpet": [
           {
            "marker": {
             "colorbar": {
              "outlinewidth": 0,
              "ticks": ""
             }
            },
            "type": "scattercarpet"
           }
          ],
          "scattergeo": [
           {
            "marker": {
             "colorbar": {
              "outlinewidth": 0,
              "ticks": ""
             }
            },
            "type": "scattergeo"
           }
          ],
          "scattergl": [
           {
            "marker": {
             "colorbar": {
              "outlinewidth": 0,
              "ticks": ""
             }
            },
            "type": "scattergl"
           }
          ],
          "scattermapbox": [
           {
            "marker": {
             "colorbar": {
              "outlinewidth": 0,
              "ticks": ""
             }
            },
            "type": "scattermapbox"
           }
          ],
          "scatterpolar": [
           {
            "marker": {
             "colorbar": {
              "outlinewidth": 0,
              "ticks": ""
             }
            },
            "type": "scatterpolar"
           }
          ],
          "scatterpolargl": [
           {
            "marker": {
             "colorbar": {
              "outlinewidth": 0,
              "ticks": ""
             }
            },
            "type": "scatterpolargl"
           }
          ],
          "scatterternary": [
           {
            "marker": {
             "colorbar": {
              "outlinewidth": 0,
              "ticks": ""
             }
            },
            "type": "scatterternary"
           }
          ],
          "surface": [
           {
            "colorbar": {
             "outlinewidth": 0,
             "ticks": ""
            },
            "colorscale": [
             [
              0,
              "#0d0887"
             ],
             [
              0.1111111111111111,
              "#46039f"
             ],
             [
              0.2222222222222222,
              "#7201a8"
             ],
             [
              0.3333333333333333,
              "#9c179e"
             ],
             [
              0.4444444444444444,
              "#bd3786"
             ],
             [
              0.5555555555555556,
              "#d8576b"
             ],
             [
              0.6666666666666666,
              "#ed7953"
             ],
             [
              0.7777777777777778,
              "#fb9f3a"
             ],
             [
              0.8888888888888888,
              "#fdca26"
             ],
             [
              1,
              "#f0f921"
             ]
            ],
            "type": "surface"
           }
          ],
          "table": [
           {
            "cells": {
             "fill": {
              "color": "#EBF0F8"
             },
             "line": {
              "color": "white"
             }
            },
            "header": {
             "fill": {
              "color": "#C8D4E3"
             },
             "line": {
              "color": "white"
             }
            },
            "type": "table"
           }
          ]
         },
         "layout": {
          "annotationdefaults": {
           "arrowcolor": "#2a3f5f",
           "arrowhead": 0,
           "arrowwidth": 1
          },
          "coloraxis": {
           "colorbar": {
            "outlinewidth": 0,
            "ticks": ""
           }
          },
          "colorscale": {
           "diverging": [
            [
             0,
             "#8e0152"
            ],
            [
             0.1,
             "#c51b7d"
            ],
            [
             0.2,
             "#de77ae"
            ],
            [
             0.3,
             "#f1b6da"
            ],
            [
             0.4,
             "#fde0ef"
            ],
            [
             0.5,
             "#f7f7f7"
            ],
            [
             0.6,
             "#e6f5d0"
            ],
            [
             0.7,
             "#b8e186"
            ],
            [
             0.8,
             "#7fbc41"
            ],
            [
             0.9,
             "#4d9221"
            ],
            [
             1,
             "#276419"
            ]
           ],
           "sequential": [
            [
             0,
             "#0d0887"
            ],
            [
             0.1111111111111111,
             "#46039f"
            ],
            [
             0.2222222222222222,
             "#7201a8"
            ],
            [
             0.3333333333333333,
             "#9c179e"
            ],
            [
             0.4444444444444444,
             "#bd3786"
            ],
            [
             0.5555555555555556,
             "#d8576b"
            ],
            [
             0.6666666666666666,
             "#ed7953"
            ],
            [
             0.7777777777777778,
             "#fb9f3a"
            ],
            [
             0.8888888888888888,
             "#fdca26"
            ],
            [
             1,
             "#f0f921"
            ]
           ],
           "sequentialminus": [
            [
             0,
             "#0d0887"
            ],
            [
             0.1111111111111111,
             "#46039f"
            ],
            [
             0.2222222222222222,
             "#7201a8"
            ],
            [
             0.3333333333333333,
             "#9c179e"
            ],
            [
             0.4444444444444444,
             "#bd3786"
            ],
            [
             0.5555555555555556,
             "#d8576b"
            ],
            [
             0.6666666666666666,
             "#ed7953"
            ],
            [
             0.7777777777777778,
             "#fb9f3a"
            ],
            [
             0.8888888888888888,
             "#fdca26"
            ],
            [
             1,
             "#f0f921"
            ]
           ]
          },
          "colorway": [
           "#636efa",
           "#EF553B",
           "#00cc96",
           "#ab63fa",
           "#FFA15A",
           "#19d3f3",
           "#FF6692",
           "#B6E880",
           "#FF97FF",
           "#FECB52"
          ],
          "font": {
           "color": "#2a3f5f"
          },
          "geo": {
           "bgcolor": "white",
           "lakecolor": "white",
           "landcolor": "#E5ECF6",
           "showlakes": true,
           "showland": true,
           "subunitcolor": "white"
          },
          "hoverlabel": {
           "align": "left"
          },
          "hovermode": "closest",
          "mapbox": {
           "style": "light"
          },
          "paper_bgcolor": "white",
          "plot_bgcolor": "#E5ECF6",
          "polar": {
           "angularaxis": {
            "gridcolor": "white",
            "linecolor": "white",
            "ticks": ""
           },
           "bgcolor": "#E5ECF6",
           "radialaxis": {
            "gridcolor": "white",
            "linecolor": "white",
            "ticks": ""
           }
          },
          "scene": {
           "xaxis": {
            "backgroundcolor": "#E5ECF6",
            "gridcolor": "white",
            "gridwidth": 2,
            "linecolor": "white",
            "showbackground": true,
            "ticks": "",
            "zerolinecolor": "white"
           },
           "yaxis": {
            "backgroundcolor": "#E5ECF6",
            "gridcolor": "white",
            "gridwidth": 2,
            "linecolor": "white",
            "showbackground": true,
            "ticks": "",
            "zerolinecolor": "white"
           },
           "zaxis": {
            "backgroundcolor": "#E5ECF6",
            "gridcolor": "white",
            "gridwidth": 2,
            "linecolor": "white",
            "showbackground": true,
            "ticks": "",
            "zerolinecolor": "white"
           }
          },
          "shapedefaults": {
           "line": {
            "color": "#2a3f5f"
           }
          },
          "ternary": {
           "aaxis": {
            "gridcolor": "white",
            "linecolor": "white",
            "ticks": ""
           },
           "baxis": {
            "gridcolor": "white",
            "linecolor": "white",
            "ticks": ""
           },
           "bgcolor": "#E5ECF6",
           "caxis": {
            "gridcolor": "white",
            "linecolor": "white",
            "ticks": ""
           }
          },
          "title": {
           "x": 0.05
          },
          "xaxis": {
           "automargin": true,
           "gridcolor": "white",
           "linecolor": "white",
           "ticks": "",
           "title": {
            "standoff": 15
           },
           "zerolinecolor": "white",
           "zerolinewidth": 2
          },
          "yaxis": {
           "automargin": true,
           "gridcolor": "white",
           "linecolor": "white",
           "ticks": "",
           "title": {
            "standoff": 15
           },
           "zerolinecolor": "white",
           "zerolinewidth": 2
          }
         }
        },
        "xaxis": {
         "constrain": "domain",
         "scaleanchor": "y"
        },
        "yaxis": {
         "autorange": "reversed",
         "constrain": "domain"
        }
       }
      },
      "text/html": [
       "<div>                            <div id=\"da1bd83e-a6db-4113-a8e4-2ffbe226687e\" class=\"plotly-graph-div\" style=\"height:525px; width:100%;\"></div>            <script type=\"text/javascript\">                require([\"plotly\"], function(Plotly) {                    window.PLOTLYENV=window.PLOTLYENV || {};                                    if (document.getElementById(\"da1bd83e-a6db-4113-a8e4-2ffbe226687e\")) {                    Plotly.newPlot(                        \"da1bd83e-a6db-4113-a8e4-2ffbe226687e\",                        [{\"coloraxis\": \"coloraxis\", \"hovertemplate\": \"x: %{x}<br>y: %{y}<br>color: %{z}<extra></extra>\", \"type\": \"heatmap\", \"x\": [\"danceability\", \"energy\", \"loudness\", \"speechiness\", \"acousticness\", \"instrumentalness\", \"liveness\"], \"y\": [\"danceability\", \"energy\", \"loudness\", \"speechiness\", \"acousticness\", \"instrumentalness\", \"liveness\"], \"z\": [[1.0, -0.0405747221351241, 0.02888890713077159, 0.1711137218966343, -0.10524123691455323, 0.018217123282445, -0.08465266213802047], [-0.0405747221351241, 1.0, 0.6912063654250579, -0.0059809879791286715, -0.5437727712466537, 0.009141740055086726, 0.14894393991323945], [0.02888890713077159, 0.6912063654250579, 1.0, -0.03802102193921716, -0.4149990640590515, -0.1243932898460484, 0.0848710348389242], [0.1711137218966343, -0.0059809879791286715, -0.03802102193921716, 1.0, -0.037279632760442445, -0.056314642956786475, 0.0665310665013696], [-0.10524123691455323, -0.5437727712466537, -0.4149990640590515, -0.037279632760442445, 1.0, 0.002361402044006978, -0.09504458084632113], [0.018217123282445, 0.009141740055086726, -0.1243932898460484, -0.056314642956786475, 0.002361402044006978, 1.0, -0.037942300518266664], [-0.08465266213802047, 0.14894393991323945, 0.0848710348389242, 0.0665310665013696, -0.09504458084632113, -0.037942300518266664, 1.0]]}],                        {\"coloraxis\": {\"colorscale\": [[0.0, \"#0d0887\"], [0.1111111111111111, \"#46039f\"], [0.2222222222222222, \"#7201a8\"], [0.3333333333333333, \"#9c179e\"], [0.4444444444444444, \"#bd3786\"], [0.5555555555555556, \"#d8576b\"], [0.6666666666666666, \"#ed7953\"], [0.7777777777777778, \"#fb9f3a\"], [0.8888888888888888, \"#fdca26\"], [1.0, \"#f0f921\"]]}, \"margin\": {\"t\": 60}, \"template\": {\"data\": {\"bar\": [{\"error_x\": {\"color\": \"#2a3f5f\"}, \"error_y\": {\"color\": \"#2a3f5f\"}, \"marker\": {\"line\": {\"color\": \"#E5ECF6\", \"width\": 0.5}}, \"type\": \"bar\"}], \"barpolar\": [{\"marker\": {\"line\": {\"color\": \"#E5ECF6\", \"width\": 0.5}}, \"type\": \"barpolar\"}], \"carpet\": [{\"aaxis\": {\"endlinecolor\": \"#2a3f5f\", \"gridcolor\": \"white\", \"linecolor\": \"white\", \"minorgridcolor\": \"white\", \"startlinecolor\": \"#2a3f5f\"}, \"baxis\": {\"endlinecolor\": \"#2a3f5f\", \"gridcolor\": \"white\", \"linecolor\": \"white\", \"minorgridcolor\": \"white\", \"startlinecolor\": \"#2a3f5f\"}, \"type\": \"carpet\"}], \"choropleth\": [{\"colorbar\": {\"outlinewidth\": 0, \"ticks\": \"\"}, \"type\": \"choropleth\"}], \"contour\": [{\"colorbar\": {\"outlinewidth\": 0, \"ticks\": \"\"}, \"colorscale\": [[0.0, \"#0d0887\"], [0.1111111111111111, \"#46039f\"], [0.2222222222222222, \"#7201a8\"], [0.3333333333333333, \"#9c179e\"], [0.4444444444444444, \"#bd3786\"], [0.5555555555555556, \"#d8576b\"], [0.6666666666666666, \"#ed7953\"], [0.7777777777777778, \"#fb9f3a\"], [0.8888888888888888, \"#fdca26\"], [1.0, \"#f0f921\"]], \"type\": \"contour\"}], \"contourcarpet\": [{\"colorbar\": {\"outlinewidth\": 0, \"ticks\": \"\"}, \"type\": \"contourcarpet\"}], \"heatmap\": [{\"colorbar\": {\"outlinewidth\": 0, \"ticks\": \"\"}, \"colorscale\": [[0.0, \"#0d0887\"], [0.1111111111111111, \"#46039f\"], [0.2222222222222222, \"#7201a8\"], [0.3333333333333333, \"#9c179e\"], [0.4444444444444444, \"#bd3786\"], [0.5555555555555556, \"#d8576b\"], [0.6666666666666666, \"#ed7953\"], [0.7777777777777778, \"#fb9f3a\"], [0.8888888888888888, \"#fdca26\"], [1.0, \"#f0f921\"]], \"type\": \"heatmap\"}], \"heatmapgl\": [{\"colorbar\": {\"outlinewidth\": 0, \"ticks\": \"\"}, \"colorscale\": [[0.0, \"#0d0887\"], [0.1111111111111111, \"#46039f\"], [0.2222222222222222, \"#7201a8\"], [0.3333333333333333, \"#9c179e\"], [0.4444444444444444, \"#bd3786\"], [0.5555555555555556, \"#d8576b\"], [0.6666666666666666, \"#ed7953\"], [0.7777777777777778, \"#fb9f3a\"], [0.8888888888888888, \"#fdca26\"], [1.0, \"#f0f921\"]], \"type\": \"heatmapgl\"}], \"histogram\": [{\"marker\": {\"colorbar\": {\"outlinewidth\": 0, \"ticks\": \"\"}}, \"type\": \"histogram\"}], \"histogram2d\": [{\"colorbar\": {\"outlinewidth\": 0, \"ticks\": \"\"}, \"colorscale\": [[0.0, \"#0d0887\"], [0.1111111111111111, \"#46039f\"], [0.2222222222222222, \"#7201a8\"], [0.3333333333333333, \"#9c179e\"], [0.4444444444444444, \"#bd3786\"], [0.5555555555555556, \"#d8576b\"], [0.6666666666666666, \"#ed7953\"], [0.7777777777777778, \"#fb9f3a\"], [0.8888888888888888, \"#fdca26\"], [1.0, \"#f0f921\"]], \"type\": \"histogram2d\"}], \"histogram2dcontour\": [{\"colorbar\": {\"outlinewidth\": 0, \"ticks\": \"\"}, \"colorscale\": [[0.0, \"#0d0887\"], [0.1111111111111111, \"#46039f\"], [0.2222222222222222, \"#7201a8\"], [0.3333333333333333, \"#9c179e\"], [0.4444444444444444, \"#bd3786\"], [0.5555555555555556, \"#d8576b\"], [0.6666666666666666, \"#ed7953\"], [0.7777777777777778, \"#fb9f3a\"], [0.8888888888888888, \"#fdca26\"], [1.0, \"#f0f921\"]], \"type\": \"histogram2dcontour\"}], \"mesh3d\": [{\"colorbar\": {\"outlinewidth\": 0, \"ticks\": \"\"}, \"type\": \"mesh3d\"}], \"parcoords\": [{\"line\": {\"colorbar\": {\"outlinewidth\": 0, \"ticks\": \"\"}}, \"type\": \"parcoords\"}], \"pie\": [{\"automargin\": true, \"type\": \"pie\"}], \"scatter\": [{\"marker\": {\"colorbar\": {\"outlinewidth\": 0, \"ticks\": \"\"}}, \"type\": \"scatter\"}], \"scatter3d\": [{\"line\": {\"colorbar\": {\"outlinewidth\": 0, \"ticks\": \"\"}}, \"marker\": {\"colorbar\": {\"outlinewidth\": 0, \"ticks\": \"\"}}, \"type\": \"scatter3d\"}], \"scattercarpet\": [{\"marker\": {\"colorbar\": {\"outlinewidth\": 0, \"ticks\": \"\"}}, \"type\": \"scattercarpet\"}], \"scattergeo\": [{\"marker\": {\"colorbar\": {\"outlinewidth\": 0, \"ticks\": \"\"}}, \"type\": \"scattergeo\"}], \"scattergl\": [{\"marker\": {\"colorbar\": {\"outlinewidth\": 0, \"ticks\": \"\"}}, \"type\": \"scattergl\"}], \"scattermapbox\": [{\"marker\": {\"colorbar\": {\"outlinewidth\": 0, \"ticks\": \"\"}}, \"type\": \"scattermapbox\"}], \"scatterpolar\": [{\"marker\": {\"colorbar\": {\"outlinewidth\": 0, \"ticks\": \"\"}}, \"type\": \"scatterpolar\"}], \"scatterpolargl\": [{\"marker\": {\"colorbar\": {\"outlinewidth\": 0, \"ticks\": \"\"}}, \"type\": \"scatterpolargl\"}], \"scatterternary\": [{\"marker\": {\"colorbar\": {\"outlinewidth\": 0, \"ticks\": \"\"}}, \"type\": \"scatterternary\"}], \"surface\": [{\"colorbar\": {\"outlinewidth\": 0, \"ticks\": \"\"}, \"colorscale\": [[0.0, \"#0d0887\"], [0.1111111111111111, \"#46039f\"], [0.2222222222222222, \"#7201a8\"], [0.3333333333333333, \"#9c179e\"], [0.4444444444444444, \"#bd3786\"], [0.5555555555555556, \"#d8576b\"], [0.6666666666666666, \"#ed7953\"], [0.7777777777777778, \"#fb9f3a\"], [0.8888888888888888, \"#fdca26\"], [1.0, \"#f0f921\"]], \"type\": \"surface\"}], \"table\": [{\"cells\": {\"fill\": {\"color\": \"#EBF0F8\"}, \"line\": {\"color\": \"white\"}}, \"header\": {\"fill\": {\"color\": \"#C8D4E3\"}, \"line\": {\"color\": \"white\"}}, \"type\": \"table\"}]}, \"layout\": {\"annotationdefaults\": {\"arrowcolor\": \"#2a3f5f\", \"arrowhead\": 0, \"arrowwidth\": 1}, \"coloraxis\": {\"colorbar\": {\"outlinewidth\": 0, \"ticks\": \"\"}}, \"colorscale\": {\"diverging\": [[0, \"#8e0152\"], [0.1, \"#c51b7d\"], [0.2, \"#de77ae\"], [0.3, \"#f1b6da\"], [0.4, \"#fde0ef\"], [0.5, \"#f7f7f7\"], [0.6, \"#e6f5d0\"], [0.7, \"#b8e186\"], [0.8, \"#7fbc41\"], [0.9, \"#4d9221\"], [1, \"#276419\"]], \"sequential\": [[0.0, \"#0d0887\"], [0.1111111111111111, \"#46039f\"], [0.2222222222222222, \"#7201a8\"], [0.3333333333333333, \"#9c179e\"], [0.4444444444444444, \"#bd3786\"], [0.5555555555555556, \"#d8576b\"], [0.6666666666666666, \"#ed7953\"], [0.7777777777777778, \"#fb9f3a\"], [0.8888888888888888, \"#fdca26\"], [1.0, \"#f0f921\"]], \"sequentialminus\": [[0.0, \"#0d0887\"], [0.1111111111111111, \"#46039f\"], [0.2222222222222222, \"#7201a8\"], [0.3333333333333333, \"#9c179e\"], [0.4444444444444444, \"#bd3786\"], [0.5555555555555556, \"#d8576b\"], [0.6666666666666666, \"#ed7953\"], [0.7777777777777778, \"#fb9f3a\"], [0.8888888888888888, \"#fdca26\"], [1.0, \"#f0f921\"]]}, \"colorway\": [\"#636efa\", \"#EF553B\", \"#00cc96\", \"#ab63fa\", \"#FFA15A\", \"#19d3f3\", \"#FF6692\", \"#B6E880\", \"#FF97FF\", \"#FECB52\"], \"font\": {\"color\": \"#2a3f5f\"}, \"geo\": {\"bgcolor\": \"white\", \"lakecolor\": \"white\", \"landcolor\": \"#E5ECF6\", \"showlakes\": true, \"showland\": true, \"subunitcolor\": \"white\"}, \"hoverlabel\": {\"align\": \"left\"}, \"hovermode\": \"closest\", \"mapbox\": {\"style\": \"light\"}, \"paper_bgcolor\": \"white\", \"plot_bgcolor\": \"#E5ECF6\", \"polar\": {\"angularaxis\": {\"gridcolor\": \"white\", \"linecolor\": \"white\", \"ticks\": \"\"}, \"bgcolor\": \"#E5ECF6\", \"radialaxis\": {\"gridcolor\": \"white\", \"linecolor\": \"white\", \"ticks\": \"\"}}, \"scene\": {\"xaxis\": {\"backgroundcolor\": \"#E5ECF6\", \"gridcolor\": \"white\", \"gridwidth\": 2, \"linecolor\": \"white\", \"showbackground\": true, \"ticks\": \"\", \"zerolinecolor\": \"white\"}, \"yaxis\": {\"backgroundcolor\": \"#E5ECF6\", \"gridcolor\": \"white\", \"gridwidth\": 2, \"linecolor\": \"white\", \"showbackground\": true, \"ticks\": \"\", \"zerolinecolor\": \"white\"}, \"zaxis\": {\"backgroundcolor\": \"#E5ECF6\", \"gridcolor\": \"white\", \"gridwidth\": 2, \"linecolor\": \"white\", \"showbackground\": true, \"ticks\": \"\", \"zerolinecolor\": \"white\"}}, \"shapedefaults\": {\"line\": {\"color\": \"#2a3f5f\"}}, \"ternary\": {\"aaxis\": {\"gridcolor\": \"white\", \"linecolor\": \"white\", \"ticks\": \"\"}, \"baxis\": {\"gridcolor\": \"white\", \"linecolor\": \"white\", \"ticks\": \"\"}, \"bgcolor\": \"#E5ECF6\", \"caxis\": {\"gridcolor\": \"white\", \"linecolor\": \"white\", \"ticks\": \"\"}}, \"title\": {\"x\": 0.05}, \"xaxis\": {\"automargin\": true, \"gridcolor\": \"white\", \"linecolor\": \"white\", \"ticks\": \"\", \"title\": {\"standoff\": 15}, \"zerolinecolor\": \"white\", \"zerolinewidth\": 2}, \"yaxis\": {\"automargin\": true, \"gridcolor\": \"white\", \"linecolor\": \"white\", \"ticks\": \"\", \"title\": {\"standoff\": 15}, \"zerolinecolor\": \"white\", \"zerolinewidth\": 2}}}, \"xaxis\": {\"constrain\": \"domain\", \"scaleanchor\": \"y\"}, \"yaxis\": {\"autorange\": \"reversed\", \"constrain\": \"domain\"}},                        {\"responsive\": true}                    ).then(function(){\n",
       "                            \n",
       "var gd = document.getElementById('da1bd83e-a6db-4113-a8e4-2ffbe226687e');\n",
       "var x = new MutationObserver(function (mutations, observer) {{\n",
       "        var display = window.getComputedStyle(gd).display;\n",
       "        if (!display || display === 'none') {{\n",
       "            console.log([gd, 'removed!']);\n",
       "            Plotly.purge(gd);\n",
       "            observer.disconnect();\n",
       "        }}\n",
       "}});\n",
       "\n",
       "// Listen for the removal of the full notebook cells\n",
       "var notebookContainer = gd.closest('#notebook-container');\n",
       "if (notebookContainer) {{\n",
       "    x.observe(notebookContainer, {childList: true});\n",
       "}}\n",
       "\n",
       "// Listen for the clearing of the current output cell\n",
       "var outputEl = gd.closest('.output');\n",
       "if (outputEl) {{\n",
       "    x.observe(outputEl, {childList: true});\n",
       "}}\n",
       "\n",
       "                        })                };                });            </script>        </div>"
      ]
     },
     "metadata": {},
     "output_type": "display_data"
    },
    {
     "data": {
      "application/javascript": [
       "\n",
       "            setTimeout(function() {\n",
       "                var nbb_cell_id = 273;\n",
       "                var nbb_unformatted_code = \"px.imshow(df[target_columns].corr())\";\n",
       "                var nbb_formatted_code = \"px.imshow(df[target_columns].corr())\";\n",
       "                var nbb_cells = Jupyter.notebook.get_cells();\n",
       "                for (var i = 0; i < nbb_cells.length; ++i) {\n",
       "                    if (nbb_cells[i].input_prompt_number == nbb_cell_id) {\n",
       "                        if (nbb_cells[i].get_text() == nbb_unformatted_code) {\n",
       "                             nbb_cells[i].set_text(nbb_formatted_code);\n",
       "                        }\n",
       "                        break;\n",
       "                    }\n",
       "                }\n",
       "            }, 500);\n",
       "            "
      ],
      "text/plain": [
       "<IPython.core.display.Javascript object>"
      ]
     },
     "metadata": {},
     "output_type": "display_data"
    }
   ],
   "source": [
    "px.imshow(df[target_columns].corr())"
   ]
  },
  {
   "cell_type": "markdown",
   "metadata": {},
   "source": [
    "### Scatter plot"
   ]
  },
  {
   "cell_type": "code",
   "execution_count": 298,
   "metadata": {},
   "outputs": [
    {
     "data": {
      "application/javascript": [
       "\n",
       "            setTimeout(function() {\n",
       "                var nbb_cell_id = 298;\n",
       "                var nbb_unformatted_code = \"target_genres = [\\\"country\\\", \\\"eurodance\\\", \\\"post-grunge\\\"]\";\n",
       "                var nbb_formatted_code = \"target_genres = [\\\"country\\\", \\\"eurodance\\\", \\\"post-grunge\\\"]\";\n",
       "                var nbb_cells = Jupyter.notebook.get_cells();\n",
       "                for (var i = 0; i < nbb_cells.length; ++i) {\n",
       "                    if (nbb_cells[i].input_prompt_number == nbb_cell_id) {\n",
       "                        if (nbb_cells[i].get_text() == nbb_unformatted_code) {\n",
       "                             nbb_cells[i].set_text(nbb_formatted_code);\n",
       "                        }\n",
       "                        break;\n",
       "                    }\n",
       "                }\n",
       "            }, 500);\n",
       "            "
      ],
      "text/plain": [
       "<IPython.core.display.Javascript object>"
      ]
     },
     "metadata": {},
     "output_type": "display_data"
    }
   ],
   "source": [
    "target_genres = [\"country\", \"eurodance\", \"post-grunge\"]"
   ]
  },
  {
   "cell_type": "code",
   "execution_count": 304,
   "metadata": {},
   "outputs": [
    {
     "data": {
      "application/vnd.plotly.v1+json": {
       "config": {
        "plotlyServerURL": "https://plot.ly"
       },
       "data": [
        {
         "customdata": [
          [
           "Faith Hill",
           "Breathe"
          ],
          [
           "Lonestar",
           "Amazed"
          ],
          [
           "LeAnn Rimes",
           "Can't Fight The Moonlight"
          ],
          [
           "Lee Ann Womack",
           "I Hope You Dance"
          ],
          [
           "LeAnn Rimes",
           "I Need You"
          ],
          [
           "Faith Hill",
           "The Way You Love Me"
          ],
          [
           "Lonestar",
           "I'm Already There"
          ],
          [
           "The Chicks",
           "Landslide"
          ],
          [
           "Tim McGraw",
           "Live Like You Were Dying"
          ],
          [
           "Toby Keith",
           "As Good As I Once Was"
          ],
          [
           "Rascal Flatts",
           "Life is a Highway"
          ],
          [
           "Rascal Flatts",
           "What Hurts The Most"
          ],
          [
           "Jason Aldean",
           "Big Green Tractor"
          ],
          [
           "The Band Perry",
           "If I Die Young"
          ],
          [
           "Sugarland",
           "Stuck Like Glue"
          ],
          [
           "Eric Church",
           "Springsteen"
          ],
          [
           "Jason Aldean",
           "Dirt Road Anthem"
          ],
          [
           "The Band Perry",
           "If I Die Young"
          ],
          [
           "Blake Shelton",
           "Honey Bee"
          ],
          [
           "Lady A",
           "Just A Kiss"
          ],
          [
           "Florida Georgia Line",
           "Cruise"
          ],
          [
           "Thomas Rhett",
           "Die A Happy Man"
          ],
          [
           "Florida Georgia Line",
           "H.O.L.Y."
          ],
          [
           "Jason Aldean",
           "You Make It Easy"
          ],
          [
           "Dan + Shay",
           "Tequila"
          ],
          [
           "Florida Georgia Line",
           "Simple"
          ],
          [
           "Dan + Shay",
           "10,000 Hours (with Justin Bieber)"
          ],
          [
           "Kane Brown",
           "Good as You"
          ]
         ],
         "hovertemplate": "only_one_genre=country<br>energy=%{x}<br>acousticness=%{y}<br>artist_popularity=%{marker.size}<br>artist_name=%{customdata[0]}<br>track_name=%{customdata[1]}<extra></extra>",
         "legendgroup": "country",
         "marker": {
          "color": "#636efa",
          "size": [
           61,
           57,
           59,
           57,
           59,
           61,
           57,
           66,
           71,
           67,
           67,
           67,
           73,
           54,
           55,
           71,
           73,
           54,
           69,
           65,
           73,
           71,
           73,
           73,
           71,
           73,
           71,
           72
          ],
          "sizemode": "area",
          "sizeref": 0.1875,
          "symbol": "circle"
         },
         "mode": "markers",
         "name": "country",
         "orientation": "v",
         "showlegend": true,
         "type": "scatter",
         "x": [
          0.496,
          0.543,
          0.834,
          0.443,
          0.736,
          0.716,
          0.395,
          0.438,
          0.546,
          0.87,
          0.952,
          0.674,
          0.59,
          0.497,
          0.795,
          0.809,
          0.741,
          0.497,
          0.849,
          0.639,
          0.948,
          0.389,
          0.666,
          0.574,
          0.581,
          0.882,
          0.63,
          0.516
         ],
         "xaxis": "x",
         "y": [
          0.173,
          0.26,
          0.403,
          0.0632,
          0.02,
          0.127,
          0.61,
          0.534,
          0.492,
          0.266,
          0.00324,
          0.0088,
          0.646,
          0.348,
          0.329,
          0.1,
          0.347,
          0.348,
          0.00167,
          0.446,
          0.0191,
          0.418,
          0.401,
          0.143,
          0.0312,
          0.0791,
          0.153,
          0.4
         ],
         "yaxis": "y"
        },
        {
         "customdata": [
          [
           "Alice Deejay",
           "Better Off Alone"
          ],
          [
           "Gigi D'Agostino",
           "L'Amour Toujours"
          ],
          [
           "Darude",
           "Sandstorm"
          ],
          [
           "Gigi D'Agostino",
           "The Riddle"
          ],
          [
           "Bomfunk MC's",
           "Freestyler"
          ],
          [
           "Lasgo",
           "Something"
          ],
          [
           "DJ Sammy",
           "Heaven"
          ],
          [
           "Scooter",
           "The Logical Song"
          ],
          [
           "Scooter",
           "Nessaja"
          ],
          [
           "Ultrabeat",
           "Pretty Green Eyes - Radio Edit"
          ],
          [
           "Special D.",
           "Come With Me - Radio Edit"
          ],
          [
           "Infernal",
           "From Paris to Berlin"
          ],
          [
           "Basshunter",
           "All I Ever Wanted - Radio Edit"
          ],
          [
           "Basshunter",
           "Now You're Gone (feat. DJ Mental Theo's Bazzheadz) - Video Edit"
          ]
         ],
         "hovertemplate": "only_one_genre=eurodance<br>energy=%{x}<br>acousticness=%{y}<br>artist_popularity=%{marker.size}<br>artist_name=%{customdata[0]}<br>track_name=%{customdata[1]}<extra></extra>",
         "legendgroup": "eurodance",
         "marker": {
          "color": "#EF553B",
          "size": [
           58,
           66,
           57,
           66,
           49,
           50,
           52,
           64,
           64,
           46,
           48,
           45,
           60,
           60
          ],
          "sizemode": "area",
          "sizeref": 0.1875,
          "symbol": "diamond"
         },
         "mode": "markers",
         "name": "eurodance",
         "orientation": "v",
         "showlegend": true,
         "type": "scatter",
         "x": [
          0.882,
          0.877,
          0.965,
          0.876,
          0.922,
          0.981,
          0.953,
          0.934,
          0.909,
          0.775,
          0.999,
          0.869,
          0.984,
          0.976
         ],
         "xaxis": "x",
         "y": [
          0.00181,
          0.0771,
          0.141,
          0.0173,
          0.0291,
          0.0271,
          0.0011,
          0.00107,
          0.00117,
          0.212,
          0.13,
          0.096,
          0.164,
          0.0213
         ],
         "yaxis": "y"
        },
        {
         "customdata": [
          [
           "Filter",
           "Take A Picture"
          ],
          [
           "Fuel",
           "Hemorrhage (In My Hands)"
          ],
          [
           "Nickelback",
           "How You Remind Me"
          ],
          [
           "Alien Ant Farm",
           "Smooth Criminal"
          ],
          [
           "Crazy Town",
           "Butterfly"
          ],
          [
           "Staind",
           "It's Been Awhile"
          ],
          [
           "Puddle Of Mudd",
           "She Hates Me"
          ],
          [
           "Puddle Of Mudd",
           "Blurry"
          ],
          [
           "Default",
           "Wasting My Time"
          ],
          [
           "Trapt",
           "Headstrong"
          ],
          [
           "Nickelback",
           "Someday"
          ],
          [
           "Nickelback",
           "Photograph"
          ],
          [
           "Nickelback",
           "Far Away"
          ],
          [
           "Nickelback",
           "Savin' Me"
          ],
          [
           "The Red Jumpsuit Apparatus",
           "Face Down"
          ],
          [
           "Seether",
           "Fake It"
          ],
          [
           "Finger Eleven",
           "Paralyzer"
          ],
          [
           "Nickelback",
           "Rockstar"
          ],
          [
           "Finger Eleven",
           "Paralyzer"
          ],
          [
           "Saving Abel",
           "Addicted"
          ],
          [
           "Skillet",
           "Monster"
          ],
          [
           "Shinedown",
           "Second Chance"
          ],
          [
           "Nickelback",
           "If Today Was Your Last Day"
          ],
          [
           "Nickelback",
           "When We Stand Together"
          ]
         ],
         "hovertemplate": "only_one_genre=post-grunge<br>energy=%{x}<br>acousticness=%{y}<br>artist_popularity=%{marker.size}<br>artist_name=%{customdata[0]}<br>track_name=%{customdata[1]}<extra></extra>",
         "legendgroup": "post-grunge",
         "marker": {
          "color": "#00cc96",
          "size": [
           53,
           54,
           75,
           58,
           57,
           63,
           61,
           61,
           45,
           56,
           75,
           75,
           75,
           75,
           61,
           67,
           58,
           75,
           58,
           53,
           71,
           68,
           75,
           75
          ],
          "sizemode": "area",
          "sizeref": 0.1875,
          "symbol": "square"
         },
         "mode": "markers",
         "name": "post-grunge",
         "orientation": "v",
         "showlegend": true,
         "type": "scatter",
         "x": [
          0.776,
          0.823,
          0.764,
          0.964,
          0.811,
          0.774,
          0.748,
          0.936,
          0.776,
          0.896,
          0.858,
          0.876,
          0.797,
          0.815,
          0.932,
          0.95,
          0.939,
          0.91,
          0.939,
          0.864,
          0.957,
          0.796,
          0.911,
          0.9
         ],
         "xaxis": "x",
         "y": [
          0.00147,
          0.000144,
          0.00135,
          0.00316,
          0.00132,
          0.00189,
          0.00935,
          0.00691,
          0.00171,
          0.000172,
          0.000616,
          0.000932,
          0.000681,
          0.000731,
          0.000665,
          0.00141,
          0.157,
          0.0459,
          0.157,
          0.000821,
          0.0431,
          0.00107,
          8.67e-05,
          0.000102
         ],
         "yaxis": "y"
        }
       ],
       "layout": {
        "legend": {
         "itemsizing": "constant",
         "title": {
          "text": "only_one_genre"
         },
         "tracegroupgap": 0
        },
        "margin": {
         "t": 60
        },
        "template": {
         "data": {
          "bar": [
           {
            "error_x": {
             "color": "#2a3f5f"
            },
            "error_y": {
             "color": "#2a3f5f"
            },
            "marker": {
             "line": {
              "color": "#E5ECF6",
              "width": 0.5
             }
            },
            "type": "bar"
           }
          ],
          "barpolar": [
           {
            "marker": {
             "line": {
              "color": "#E5ECF6",
              "width": 0.5
             }
            },
            "type": "barpolar"
           }
          ],
          "carpet": [
           {
            "aaxis": {
             "endlinecolor": "#2a3f5f",
             "gridcolor": "white",
             "linecolor": "white",
             "minorgridcolor": "white",
             "startlinecolor": "#2a3f5f"
            },
            "baxis": {
             "endlinecolor": "#2a3f5f",
             "gridcolor": "white",
             "linecolor": "white",
             "minorgridcolor": "white",
             "startlinecolor": "#2a3f5f"
            },
            "type": "carpet"
           }
          ],
          "choropleth": [
           {
            "colorbar": {
             "outlinewidth": 0,
             "ticks": ""
            },
            "type": "choropleth"
           }
          ],
          "contour": [
           {
            "colorbar": {
             "outlinewidth": 0,
             "ticks": ""
            },
            "colorscale": [
             [
              0,
              "#0d0887"
             ],
             [
              0.1111111111111111,
              "#46039f"
             ],
             [
              0.2222222222222222,
              "#7201a8"
             ],
             [
              0.3333333333333333,
              "#9c179e"
             ],
             [
              0.4444444444444444,
              "#bd3786"
             ],
             [
              0.5555555555555556,
              "#d8576b"
             ],
             [
              0.6666666666666666,
              "#ed7953"
             ],
             [
              0.7777777777777778,
              "#fb9f3a"
             ],
             [
              0.8888888888888888,
              "#fdca26"
             ],
             [
              1,
              "#f0f921"
             ]
            ],
            "type": "contour"
           }
          ],
          "contourcarpet": [
           {
            "colorbar": {
             "outlinewidth": 0,
             "ticks": ""
            },
            "type": "contourcarpet"
           }
          ],
          "heatmap": [
           {
            "colorbar": {
             "outlinewidth": 0,
             "ticks": ""
            },
            "colorscale": [
             [
              0,
              "#0d0887"
             ],
             [
              0.1111111111111111,
              "#46039f"
             ],
             [
              0.2222222222222222,
              "#7201a8"
             ],
             [
              0.3333333333333333,
              "#9c179e"
             ],
             [
              0.4444444444444444,
              "#bd3786"
             ],
             [
              0.5555555555555556,
              "#d8576b"
             ],
             [
              0.6666666666666666,
              "#ed7953"
             ],
             [
              0.7777777777777778,
              "#fb9f3a"
             ],
             [
              0.8888888888888888,
              "#fdca26"
             ],
             [
              1,
              "#f0f921"
             ]
            ],
            "type": "heatmap"
           }
          ],
          "heatmapgl": [
           {
            "colorbar": {
             "outlinewidth": 0,
             "ticks": ""
            },
            "colorscale": [
             [
              0,
              "#0d0887"
             ],
             [
              0.1111111111111111,
              "#46039f"
             ],
             [
              0.2222222222222222,
              "#7201a8"
             ],
             [
              0.3333333333333333,
              "#9c179e"
             ],
             [
              0.4444444444444444,
              "#bd3786"
             ],
             [
              0.5555555555555556,
              "#d8576b"
             ],
             [
              0.6666666666666666,
              "#ed7953"
             ],
             [
              0.7777777777777778,
              "#fb9f3a"
             ],
             [
              0.8888888888888888,
              "#fdca26"
             ],
             [
              1,
              "#f0f921"
             ]
            ],
            "type": "heatmapgl"
           }
          ],
          "histogram": [
           {
            "marker": {
             "colorbar": {
              "outlinewidth": 0,
              "ticks": ""
             }
            },
            "type": "histogram"
           }
          ],
          "histogram2d": [
           {
            "colorbar": {
             "outlinewidth": 0,
             "ticks": ""
            },
            "colorscale": [
             [
              0,
              "#0d0887"
             ],
             [
              0.1111111111111111,
              "#46039f"
             ],
             [
              0.2222222222222222,
              "#7201a8"
             ],
             [
              0.3333333333333333,
              "#9c179e"
             ],
             [
              0.4444444444444444,
              "#bd3786"
             ],
             [
              0.5555555555555556,
              "#d8576b"
             ],
             [
              0.6666666666666666,
              "#ed7953"
             ],
             [
              0.7777777777777778,
              "#fb9f3a"
             ],
             [
              0.8888888888888888,
              "#fdca26"
             ],
             [
              1,
              "#f0f921"
             ]
            ],
            "type": "histogram2d"
           }
          ],
          "histogram2dcontour": [
           {
            "colorbar": {
             "outlinewidth": 0,
             "ticks": ""
            },
            "colorscale": [
             [
              0,
              "#0d0887"
             ],
             [
              0.1111111111111111,
              "#46039f"
             ],
             [
              0.2222222222222222,
              "#7201a8"
             ],
             [
              0.3333333333333333,
              "#9c179e"
             ],
             [
              0.4444444444444444,
              "#bd3786"
             ],
             [
              0.5555555555555556,
              "#d8576b"
             ],
             [
              0.6666666666666666,
              "#ed7953"
             ],
             [
              0.7777777777777778,
              "#fb9f3a"
             ],
             [
              0.8888888888888888,
              "#fdca26"
             ],
             [
              1,
              "#f0f921"
             ]
            ],
            "type": "histogram2dcontour"
           }
          ],
          "mesh3d": [
           {
            "colorbar": {
             "outlinewidth": 0,
             "ticks": ""
            },
            "type": "mesh3d"
           }
          ],
          "parcoords": [
           {
            "line": {
             "colorbar": {
              "outlinewidth": 0,
              "ticks": ""
             }
            },
            "type": "parcoords"
           }
          ],
          "pie": [
           {
            "automargin": true,
            "type": "pie"
           }
          ],
          "scatter": [
           {
            "marker": {
             "colorbar": {
              "outlinewidth": 0,
              "ticks": ""
             }
            },
            "type": "scatter"
           }
          ],
          "scatter3d": [
           {
            "line": {
             "colorbar": {
              "outlinewidth": 0,
              "ticks": ""
             }
            },
            "marker": {
             "colorbar": {
              "outlinewidth": 0,
              "ticks": ""
             }
            },
            "type": "scatter3d"
           }
          ],
          "scattercarpet": [
           {
            "marker": {
             "colorbar": {
              "outlinewidth": 0,
              "ticks": ""
             }
            },
            "type": "scattercarpet"
           }
          ],
          "scattergeo": [
           {
            "marker": {
             "colorbar": {
              "outlinewidth": 0,
              "ticks": ""
             }
            },
            "type": "scattergeo"
           }
          ],
          "scattergl": [
           {
            "marker": {
             "colorbar": {
              "outlinewidth": 0,
              "ticks": ""
             }
            },
            "type": "scattergl"
           }
          ],
          "scattermapbox": [
           {
            "marker": {
             "colorbar": {
              "outlinewidth": 0,
              "ticks": ""
             }
            },
            "type": "scattermapbox"
           }
          ],
          "scatterpolar": [
           {
            "marker": {
             "colorbar": {
              "outlinewidth": 0,
              "ticks": ""
             }
            },
            "type": "scatterpolar"
           }
          ],
          "scatterpolargl": [
           {
            "marker": {
             "colorbar": {
              "outlinewidth": 0,
              "ticks": ""
             }
            },
            "type": "scatterpolargl"
           }
          ],
          "scatterternary": [
           {
            "marker": {
             "colorbar": {
              "outlinewidth": 0,
              "ticks": ""
             }
            },
            "type": "scatterternary"
           }
          ],
          "surface": [
           {
            "colorbar": {
             "outlinewidth": 0,
             "ticks": ""
            },
            "colorscale": [
             [
              0,
              "#0d0887"
             ],
             [
              0.1111111111111111,
              "#46039f"
             ],
             [
              0.2222222222222222,
              "#7201a8"
             ],
             [
              0.3333333333333333,
              "#9c179e"
             ],
             [
              0.4444444444444444,
              "#bd3786"
             ],
             [
              0.5555555555555556,
              "#d8576b"
             ],
             [
              0.6666666666666666,
              "#ed7953"
             ],
             [
              0.7777777777777778,
              "#fb9f3a"
             ],
             [
              0.8888888888888888,
              "#fdca26"
             ],
             [
              1,
              "#f0f921"
             ]
            ],
            "type": "surface"
           }
          ],
          "table": [
           {
            "cells": {
             "fill": {
              "color": "#EBF0F8"
             },
             "line": {
              "color": "white"
             }
            },
            "header": {
             "fill": {
              "color": "#C8D4E3"
             },
             "line": {
              "color": "white"
             }
            },
            "type": "table"
           }
          ]
         },
         "layout": {
          "annotationdefaults": {
           "arrowcolor": "#2a3f5f",
           "arrowhead": 0,
           "arrowwidth": 1
          },
          "coloraxis": {
           "colorbar": {
            "outlinewidth": 0,
            "ticks": ""
           }
          },
          "colorscale": {
           "diverging": [
            [
             0,
             "#8e0152"
            ],
            [
             0.1,
             "#c51b7d"
            ],
            [
             0.2,
             "#de77ae"
            ],
            [
             0.3,
             "#f1b6da"
            ],
            [
             0.4,
             "#fde0ef"
            ],
            [
             0.5,
             "#f7f7f7"
            ],
            [
             0.6,
             "#e6f5d0"
            ],
            [
             0.7,
             "#b8e186"
            ],
            [
             0.8,
             "#7fbc41"
            ],
            [
             0.9,
             "#4d9221"
            ],
            [
             1,
             "#276419"
            ]
           ],
           "sequential": [
            [
             0,
             "#0d0887"
            ],
            [
             0.1111111111111111,
             "#46039f"
            ],
            [
             0.2222222222222222,
             "#7201a8"
            ],
            [
             0.3333333333333333,
             "#9c179e"
            ],
            [
             0.4444444444444444,
             "#bd3786"
            ],
            [
             0.5555555555555556,
             "#d8576b"
            ],
            [
             0.6666666666666666,
             "#ed7953"
            ],
            [
             0.7777777777777778,
             "#fb9f3a"
            ],
            [
             0.8888888888888888,
             "#fdca26"
            ],
            [
             1,
             "#f0f921"
            ]
           ],
           "sequentialminus": [
            [
             0,
             "#0d0887"
            ],
            [
             0.1111111111111111,
             "#46039f"
            ],
            [
             0.2222222222222222,
             "#7201a8"
            ],
            [
             0.3333333333333333,
             "#9c179e"
            ],
            [
             0.4444444444444444,
             "#bd3786"
            ],
            [
             0.5555555555555556,
             "#d8576b"
            ],
            [
             0.6666666666666666,
             "#ed7953"
            ],
            [
             0.7777777777777778,
             "#fb9f3a"
            ],
            [
             0.8888888888888888,
             "#fdca26"
            ],
            [
             1,
             "#f0f921"
            ]
           ]
          },
          "colorway": [
           "#636efa",
           "#EF553B",
           "#00cc96",
           "#ab63fa",
           "#FFA15A",
           "#19d3f3",
           "#FF6692",
           "#B6E880",
           "#FF97FF",
           "#FECB52"
          ],
          "font": {
           "color": "#2a3f5f"
          },
          "geo": {
           "bgcolor": "white",
           "lakecolor": "white",
           "landcolor": "#E5ECF6",
           "showlakes": true,
           "showland": true,
           "subunitcolor": "white"
          },
          "hoverlabel": {
           "align": "left"
          },
          "hovermode": "closest",
          "mapbox": {
           "style": "light"
          },
          "paper_bgcolor": "white",
          "plot_bgcolor": "#E5ECF6",
          "polar": {
           "angularaxis": {
            "gridcolor": "white",
            "linecolor": "white",
            "ticks": ""
           },
           "bgcolor": "#E5ECF6",
           "radialaxis": {
            "gridcolor": "white",
            "linecolor": "white",
            "ticks": ""
           }
          },
          "scene": {
           "xaxis": {
            "backgroundcolor": "#E5ECF6",
            "gridcolor": "white",
            "gridwidth": 2,
            "linecolor": "white",
            "showbackground": true,
            "ticks": "",
            "zerolinecolor": "white"
           },
           "yaxis": {
            "backgroundcolor": "#E5ECF6",
            "gridcolor": "white",
            "gridwidth": 2,
            "linecolor": "white",
            "showbackground": true,
            "ticks": "",
            "zerolinecolor": "white"
           },
           "zaxis": {
            "backgroundcolor": "#E5ECF6",
            "gridcolor": "white",
            "gridwidth": 2,
            "linecolor": "white",
            "showbackground": true,
            "ticks": "",
            "zerolinecolor": "white"
           }
          },
          "shapedefaults": {
           "line": {
            "color": "#2a3f5f"
           }
          },
          "ternary": {
           "aaxis": {
            "gridcolor": "white",
            "linecolor": "white",
            "ticks": ""
           },
           "baxis": {
            "gridcolor": "white",
            "linecolor": "white",
            "ticks": ""
           },
           "bgcolor": "#E5ECF6",
           "caxis": {
            "gridcolor": "white",
            "linecolor": "white",
            "ticks": ""
           }
          },
          "title": {
           "x": 0.05
          },
          "xaxis": {
           "automargin": true,
           "gridcolor": "white",
           "linecolor": "white",
           "ticks": "",
           "title": {
            "standoff": 15
           },
           "zerolinecolor": "white",
           "zerolinewidth": 2
          },
          "yaxis": {
           "automargin": true,
           "gridcolor": "white",
           "linecolor": "white",
           "ticks": "",
           "title": {
            "standoff": 15
           },
           "zerolinecolor": "white",
           "zerolinewidth": 2
          }
         }
        },
        "xaxis": {
         "anchor": "y",
         "domain": [
          0,
          1
         ],
         "title": {
          "text": "energy"
         }
        },
        "yaxis": {
         "anchor": "x",
         "domain": [
          0,
          1
         ],
         "title": {
          "text": "acousticness"
         }
        }
       }
      },
      "text/html": [
       "<div>                            <div id=\"16b5dc12-20f2-4377-a18e-2178d600d454\" class=\"plotly-graph-div\" style=\"height:525px; width:100%;\"></div>            <script type=\"text/javascript\">                require([\"plotly\"], function(Plotly) {                    window.PLOTLYENV=window.PLOTLYENV || {};                                    if (document.getElementById(\"16b5dc12-20f2-4377-a18e-2178d600d454\")) {                    Plotly.newPlot(                        \"16b5dc12-20f2-4377-a18e-2178d600d454\",                        [{\"customdata\": [[\"Faith Hill\", \"Breathe\"], [\"Lonestar\", \"Amazed\"], [\"LeAnn Rimes\", \"Can't Fight The Moonlight\"], [\"Lee Ann Womack\", \"I Hope You Dance\"], [\"LeAnn Rimes\", \"I Need You\"], [\"Faith Hill\", \"The Way You Love Me\"], [\"Lonestar\", \"I'm Already There\"], [\"The Chicks\", \"Landslide\"], [\"Tim McGraw\", \"Live Like You Were Dying\"], [\"Toby Keith\", \"As Good As I Once Was\"], [\"Rascal Flatts\", \"Life is a Highway\"], [\"Rascal Flatts\", \"What Hurts The Most\"], [\"Jason Aldean\", \"Big Green Tractor\"], [\"The Band Perry\", \"If I Die Young\"], [\"Sugarland\", \"Stuck Like Glue\"], [\"Eric Church\", \"Springsteen\"], [\"Jason Aldean\", \"Dirt Road Anthem\"], [\"The Band Perry\", \"If I Die Young\"], [\"Blake Shelton\", \"Honey Bee\"], [\"Lady A\", \"Just A Kiss\"], [\"Florida Georgia Line\", \"Cruise\"], [\"Thomas Rhett\", \"Die A Happy Man\"], [\"Florida Georgia Line\", \"H.O.L.Y.\"], [\"Jason Aldean\", \"You Make It Easy\"], [\"Dan + Shay\", \"Tequila\"], [\"Florida Georgia Line\", \"Simple\"], [\"Dan + Shay\", \"10,000 Hours (with Justin Bieber)\"], [\"Kane Brown\", \"Good as You\"]], \"hovertemplate\": \"only_one_genre=country<br>energy=%{x}<br>acousticness=%{y}<br>artist_popularity=%{marker.size}<br>artist_name=%{customdata[0]}<br>track_name=%{customdata[1]}<extra></extra>\", \"legendgroup\": \"country\", \"marker\": {\"color\": \"#636efa\", \"size\": [61, 57, 59, 57, 59, 61, 57, 66, 71, 67, 67, 67, 73, 54, 55, 71, 73, 54, 69, 65, 73, 71, 73, 73, 71, 73, 71, 72], \"sizemode\": \"area\", \"sizeref\": 0.1875, \"symbol\": \"circle\"}, \"mode\": \"markers\", \"name\": \"country\", \"orientation\": \"v\", \"showlegend\": true, \"type\": \"scatter\", \"x\": [0.496, 0.543, 0.834, 0.443, 0.736, 0.716, 0.395, 0.438, 0.546, 0.87, 0.952, 0.674, 0.59, 0.497, 0.795, 0.809, 0.741, 0.497, 0.849, 0.639, 0.948, 0.389, 0.666, 0.574, 0.581, 0.882, 0.63, 0.516], \"xaxis\": \"x\", \"y\": [0.173, 0.26, 0.403, 0.0632, 0.02, 0.127, 0.61, 0.534, 0.492, 0.266, 0.00324, 0.0088, 0.646, 0.348, 0.329, 0.1, 0.347, 0.348, 0.00167, 0.446, 0.0191, 0.418, 0.401, 0.143, 0.0312, 0.0791, 0.153, 0.4], \"yaxis\": \"y\"}, {\"customdata\": [[\"Alice Deejay\", \"Better Off Alone\"], [\"Gigi D'Agostino\", \"L'Amour Toujours\"], [\"Darude\", \"Sandstorm\"], [\"Gigi D'Agostino\", \"The Riddle\"], [\"Bomfunk MC's\", \"Freestyler\"], [\"Lasgo\", \"Something\"], [\"DJ Sammy\", \"Heaven\"], [\"Scooter\", \"The Logical Song\"], [\"Scooter\", \"Nessaja\"], [\"Ultrabeat\", \"Pretty Green Eyes - Radio Edit\"], [\"Special D.\", \"Come With Me - Radio Edit\"], [\"Infernal\", \"From Paris to Berlin\"], [\"Basshunter\", \"All I Ever Wanted - Radio Edit\"], [\"Basshunter\", \"Now You're Gone (feat. DJ Mental Theo's Bazzheadz) - Video Edit\"]], \"hovertemplate\": \"only_one_genre=eurodance<br>energy=%{x}<br>acousticness=%{y}<br>artist_popularity=%{marker.size}<br>artist_name=%{customdata[0]}<br>track_name=%{customdata[1]}<extra></extra>\", \"legendgroup\": \"eurodance\", \"marker\": {\"color\": \"#EF553B\", \"size\": [58, 66, 57, 66, 49, 50, 52, 64, 64, 46, 48, 45, 60, 60], \"sizemode\": \"area\", \"sizeref\": 0.1875, \"symbol\": \"diamond\"}, \"mode\": \"markers\", \"name\": \"eurodance\", \"orientation\": \"v\", \"showlegend\": true, \"type\": \"scatter\", \"x\": [0.882, 0.877, 0.965, 0.876, 0.922, 0.981, 0.953, 0.934, 0.909, 0.775, 0.999, 0.869, 0.984, 0.976], \"xaxis\": \"x\", \"y\": [0.00181, 0.0771, 0.141, 0.0173, 0.0291, 0.0271, 0.0011, 0.00107, 0.00117, 0.212, 0.13, 0.096, 0.164, 0.0213], \"yaxis\": \"y\"}, {\"customdata\": [[\"Filter\", \"Take A Picture\"], [\"Fuel\", \"Hemorrhage (In My Hands)\"], [\"Nickelback\", \"How You Remind Me\"], [\"Alien Ant Farm\", \"Smooth Criminal\"], [\"Crazy Town\", \"Butterfly\"], [\"Staind\", \"It's Been Awhile\"], [\"Puddle Of Mudd\", \"She Hates Me\"], [\"Puddle Of Mudd\", \"Blurry\"], [\"Default\", \"Wasting My Time\"], [\"Trapt\", \"Headstrong\"], [\"Nickelback\", \"Someday\"], [\"Nickelback\", \"Photograph\"], [\"Nickelback\", \"Far Away\"], [\"Nickelback\", \"Savin' Me\"], [\"The Red Jumpsuit Apparatus\", \"Face Down\"], [\"Seether\", \"Fake It\"], [\"Finger Eleven\", \"Paralyzer\"], [\"Nickelback\", \"Rockstar\"], [\"Finger Eleven\", \"Paralyzer\"], [\"Saving Abel\", \"Addicted\"], [\"Skillet\", \"Monster\"], [\"Shinedown\", \"Second Chance\"], [\"Nickelback\", \"If Today Was Your Last Day\"], [\"Nickelback\", \"When We Stand Together\"]], \"hovertemplate\": \"only_one_genre=post-grunge<br>energy=%{x}<br>acousticness=%{y}<br>artist_popularity=%{marker.size}<br>artist_name=%{customdata[0]}<br>track_name=%{customdata[1]}<extra></extra>\", \"legendgroup\": \"post-grunge\", \"marker\": {\"color\": \"#00cc96\", \"size\": [53, 54, 75, 58, 57, 63, 61, 61, 45, 56, 75, 75, 75, 75, 61, 67, 58, 75, 58, 53, 71, 68, 75, 75], \"sizemode\": \"area\", \"sizeref\": 0.1875, \"symbol\": \"square\"}, \"mode\": \"markers\", \"name\": \"post-grunge\", \"orientation\": \"v\", \"showlegend\": true, \"type\": \"scatter\", \"x\": [0.776, 0.823, 0.764, 0.964, 0.811, 0.774, 0.748, 0.936, 0.776, 0.896, 0.858, 0.876, 0.797, 0.815, 0.932, 0.95, 0.939, 0.91, 0.939, 0.864, 0.957, 0.796, 0.911, 0.9], \"xaxis\": \"x\", \"y\": [0.00147, 0.000144, 0.00135, 0.00316, 0.00132, 0.00189, 0.00935, 0.00691, 0.00171, 0.000172, 0.000616, 0.000932, 0.000681, 0.000731, 0.000665, 0.00141, 0.157, 0.0459, 0.157, 0.000821, 0.0431, 0.00107, 8.67e-05, 0.000102], \"yaxis\": \"y\"}],                        {\"legend\": {\"itemsizing\": \"constant\", \"title\": {\"text\": \"only_one_genre\"}, \"tracegroupgap\": 0}, \"margin\": {\"t\": 60}, \"template\": {\"data\": {\"bar\": [{\"error_x\": {\"color\": \"#2a3f5f\"}, \"error_y\": {\"color\": \"#2a3f5f\"}, \"marker\": {\"line\": {\"color\": \"#E5ECF6\", \"width\": 0.5}}, \"type\": \"bar\"}], \"barpolar\": [{\"marker\": {\"line\": {\"color\": \"#E5ECF6\", \"width\": 0.5}}, \"type\": \"barpolar\"}], \"carpet\": [{\"aaxis\": {\"endlinecolor\": \"#2a3f5f\", \"gridcolor\": \"white\", \"linecolor\": \"white\", \"minorgridcolor\": \"white\", \"startlinecolor\": \"#2a3f5f\"}, \"baxis\": {\"endlinecolor\": \"#2a3f5f\", \"gridcolor\": \"white\", \"linecolor\": \"white\", \"minorgridcolor\": \"white\", \"startlinecolor\": \"#2a3f5f\"}, \"type\": \"carpet\"}], \"choropleth\": [{\"colorbar\": {\"outlinewidth\": 0, \"ticks\": \"\"}, \"type\": \"choropleth\"}], \"contour\": [{\"colorbar\": {\"outlinewidth\": 0, \"ticks\": \"\"}, \"colorscale\": [[0.0, \"#0d0887\"], [0.1111111111111111, \"#46039f\"], [0.2222222222222222, \"#7201a8\"], [0.3333333333333333, \"#9c179e\"], [0.4444444444444444, \"#bd3786\"], [0.5555555555555556, \"#d8576b\"], [0.6666666666666666, \"#ed7953\"], [0.7777777777777778, \"#fb9f3a\"], [0.8888888888888888, \"#fdca26\"], [1.0, \"#f0f921\"]], \"type\": \"contour\"}], \"contourcarpet\": [{\"colorbar\": {\"outlinewidth\": 0, \"ticks\": \"\"}, \"type\": \"contourcarpet\"}], \"heatmap\": [{\"colorbar\": {\"outlinewidth\": 0, \"ticks\": \"\"}, \"colorscale\": [[0.0, \"#0d0887\"], [0.1111111111111111, \"#46039f\"], [0.2222222222222222, \"#7201a8\"], [0.3333333333333333, \"#9c179e\"], [0.4444444444444444, \"#bd3786\"], [0.5555555555555556, \"#d8576b\"], [0.6666666666666666, \"#ed7953\"], [0.7777777777777778, \"#fb9f3a\"], [0.8888888888888888, \"#fdca26\"], [1.0, \"#f0f921\"]], \"type\": \"heatmap\"}], \"heatmapgl\": [{\"colorbar\": {\"outlinewidth\": 0, \"ticks\": \"\"}, \"colorscale\": [[0.0, \"#0d0887\"], [0.1111111111111111, \"#46039f\"], [0.2222222222222222, \"#7201a8\"], [0.3333333333333333, \"#9c179e\"], [0.4444444444444444, \"#bd3786\"], [0.5555555555555556, \"#d8576b\"], [0.6666666666666666, \"#ed7953\"], [0.7777777777777778, \"#fb9f3a\"], [0.8888888888888888, \"#fdca26\"], [1.0, \"#f0f921\"]], \"type\": \"heatmapgl\"}], \"histogram\": [{\"marker\": {\"colorbar\": {\"outlinewidth\": 0, \"ticks\": \"\"}}, \"type\": \"histogram\"}], \"histogram2d\": [{\"colorbar\": {\"outlinewidth\": 0, \"ticks\": \"\"}, \"colorscale\": [[0.0, \"#0d0887\"], [0.1111111111111111, \"#46039f\"], [0.2222222222222222, \"#7201a8\"], [0.3333333333333333, \"#9c179e\"], [0.4444444444444444, \"#bd3786\"], [0.5555555555555556, \"#d8576b\"], [0.6666666666666666, \"#ed7953\"], [0.7777777777777778, \"#fb9f3a\"], [0.8888888888888888, \"#fdca26\"], [1.0, \"#f0f921\"]], \"type\": \"histogram2d\"}], \"histogram2dcontour\": [{\"colorbar\": {\"outlinewidth\": 0, \"ticks\": \"\"}, \"colorscale\": [[0.0, \"#0d0887\"], [0.1111111111111111, \"#46039f\"], [0.2222222222222222, \"#7201a8\"], [0.3333333333333333, \"#9c179e\"], [0.4444444444444444, \"#bd3786\"], [0.5555555555555556, \"#d8576b\"], [0.6666666666666666, \"#ed7953\"], [0.7777777777777778, \"#fb9f3a\"], [0.8888888888888888, \"#fdca26\"], [1.0, \"#f0f921\"]], \"type\": \"histogram2dcontour\"}], \"mesh3d\": [{\"colorbar\": {\"outlinewidth\": 0, \"ticks\": \"\"}, \"type\": \"mesh3d\"}], \"parcoords\": [{\"line\": {\"colorbar\": {\"outlinewidth\": 0, \"ticks\": \"\"}}, \"type\": \"parcoords\"}], \"pie\": [{\"automargin\": true, \"type\": \"pie\"}], \"scatter\": [{\"marker\": {\"colorbar\": {\"outlinewidth\": 0, \"ticks\": \"\"}}, \"type\": \"scatter\"}], \"scatter3d\": [{\"line\": {\"colorbar\": {\"outlinewidth\": 0, \"ticks\": \"\"}}, \"marker\": {\"colorbar\": {\"outlinewidth\": 0, \"ticks\": \"\"}}, \"type\": \"scatter3d\"}], \"scattercarpet\": [{\"marker\": {\"colorbar\": {\"outlinewidth\": 0, \"ticks\": \"\"}}, \"type\": \"scattercarpet\"}], \"scattergeo\": [{\"marker\": {\"colorbar\": {\"outlinewidth\": 0, \"ticks\": \"\"}}, \"type\": \"scattergeo\"}], \"scattergl\": [{\"marker\": {\"colorbar\": {\"outlinewidth\": 0, \"ticks\": \"\"}}, \"type\": \"scattergl\"}], \"scattermapbox\": [{\"marker\": {\"colorbar\": {\"outlinewidth\": 0, \"ticks\": \"\"}}, \"type\": \"scattermapbox\"}], \"scatterpolar\": [{\"marker\": {\"colorbar\": {\"outlinewidth\": 0, \"ticks\": \"\"}}, \"type\": \"scatterpolar\"}], \"scatterpolargl\": [{\"marker\": {\"colorbar\": {\"outlinewidth\": 0, \"ticks\": \"\"}}, \"type\": \"scatterpolargl\"}], \"scatterternary\": [{\"marker\": {\"colorbar\": {\"outlinewidth\": 0, \"ticks\": \"\"}}, \"type\": \"scatterternary\"}], \"surface\": [{\"colorbar\": {\"outlinewidth\": 0, \"ticks\": \"\"}, \"colorscale\": [[0.0, \"#0d0887\"], [0.1111111111111111, \"#46039f\"], [0.2222222222222222, \"#7201a8\"], [0.3333333333333333, \"#9c179e\"], [0.4444444444444444, \"#bd3786\"], [0.5555555555555556, \"#d8576b\"], [0.6666666666666666, \"#ed7953\"], [0.7777777777777778, \"#fb9f3a\"], [0.8888888888888888, \"#fdca26\"], [1.0, \"#f0f921\"]], \"type\": \"surface\"}], \"table\": [{\"cells\": {\"fill\": {\"color\": \"#EBF0F8\"}, \"line\": {\"color\": \"white\"}}, \"header\": {\"fill\": {\"color\": \"#C8D4E3\"}, \"line\": {\"color\": \"white\"}}, \"type\": \"table\"}]}, \"layout\": {\"annotationdefaults\": {\"arrowcolor\": \"#2a3f5f\", \"arrowhead\": 0, \"arrowwidth\": 1}, \"coloraxis\": {\"colorbar\": {\"outlinewidth\": 0, \"ticks\": \"\"}}, \"colorscale\": {\"diverging\": [[0, \"#8e0152\"], [0.1, \"#c51b7d\"], [0.2, \"#de77ae\"], [0.3, \"#f1b6da\"], [0.4, \"#fde0ef\"], [0.5, \"#f7f7f7\"], [0.6, \"#e6f5d0\"], [0.7, \"#b8e186\"], [0.8, \"#7fbc41\"], [0.9, \"#4d9221\"], [1, \"#276419\"]], \"sequential\": [[0.0, \"#0d0887\"], [0.1111111111111111, \"#46039f\"], [0.2222222222222222, \"#7201a8\"], [0.3333333333333333, \"#9c179e\"], [0.4444444444444444, \"#bd3786\"], [0.5555555555555556, \"#d8576b\"], [0.6666666666666666, \"#ed7953\"], [0.7777777777777778, \"#fb9f3a\"], [0.8888888888888888, \"#fdca26\"], [1.0, \"#f0f921\"]], \"sequentialminus\": [[0.0, \"#0d0887\"], [0.1111111111111111, \"#46039f\"], [0.2222222222222222, \"#7201a8\"], [0.3333333333333333, \"#9c179e\"], [0.4444444444444444, \"#bd3786\"], [0.5555555555555556, \"#d8576b\"], [0.6666666666666666, \"#ed7953\"], [0.7777777777777778, \"#fb9f3a\"], [0.8888888888888888, \"#fdca26\"], [1.0, \"#f0f921\"]]}, \"colorway\": [\"#636efa\", \"#EF553B\", \"#00cc96\", \"#ab63fa\", \"#FFA15A\", \"#19d3f3\", \"#FF6692\", \"#B6E880\", \"#FF97FF\", \"#FECB52\"], \"font\": {\"color\": \"#2a3f5f\"}, \"geo\": {\"bgcolor\": \"white\", \"lakecolor\": \"white\", \"landcolor\": \"#E5ECF6\", \"showlakes\": true, \"showland\": true, \"subunitcolor\": \"white\"}, \"hoverlabel\": {\"align\": \"left\"}, \"hovermode\": \"closest\", \"mapbox\": {\"style\": \"light\"}, \"paper_bgcolor\": \"white\", \"plot_bgcolor\": \"#E5ECF6\", \"polar\": {\"angularaxis\": {\"gridcolor\": \"white\", \"linecolor\": \"white\", \"ticks\": \"\"}, \"bgcolor\": \"#E5ECF6\", \"radialaxis\": {\"gridcolor\": \"white\", \"linecolor\": \"white\", \"ticks\": \"\"}}, \"scene\": {\"xaxis\": {\"backgroundcolor\": \"#E5ECF6\", \"gridcolor\": \"white\", \"gridwidth\": 2, \"linecolor\": \"white\", \"showbackground\": true, \"ticks\": \"\", \"zerolinecolor\": \"white\"}, \"yaxis\": {\"backgroundcolor\": \"#E5ECF6\", \"gridcolor\": \"white\", \"gridwidth\": 2, \"linecolor\": \"white\", \"showbackground\": true, \"ticks\": \"\", \"zerolinecolor\": \"white\"}, \"zaxis\": {\"backgroundcolor\": \"#E5ECF6\", \"gridcolor\": \"white\", \"gridwidth\": 2, \"linecolor\": \"white\", \"showbackground\": true, \"ticks\": \"\", \"zerolinecolor\": \"white\"}}, \"shapedefaults\": {\"line\": {\"color\": \"#2a3f5f\"}}, \"ternary\": {\"aaxis\": {\"gridcolor\": \"white\", \"linecolor\": \"white\", \"ticks\": \"\"}, \"baxis\": {\"gridcolor\": \"white\", \"linecolor\": \"white\", \"ticks\": \"\"}, \"bgcolor\": \"#E5ECF6\", \"caxis\": {\"gridcolor\": \"white\", \"linecolor\": \"white\", \"ticks\": \"\"}}, \"title\": {\"x\": 0.05}, \"xaxis\": {\"automargin\": true, \"gridcolor\": \"white\", \"linecolor\": \"white\", \"ticks\": \"\", \"title\": {\"standoff\": 15}, \"zerolinecolor\": \"white\", \"zerolinewidth\": 2}, \"yaxis\": {\"automargin\": true, \"gridcolor\": \"white\", \"linecolor\": \"white\", \"ticks\": \"\", \"title\": {\"standoff\": 15}, \"zerolinecolor\": \"white\", \"zerolinewidth\": 2}}}, \"xaxis\": {\"anchor\": \"y\", \"domain\": [0.0, 1.0], \"title\": {\"text\": \"energy\"}}, \"yaxis\": {\"anchor\": \"x\", \"domain\": [0.0, 1.0], \"title\": {\"text\": \"acousticness\"}}},                        {\"responsive\": true}                    ).then(function(){\n",
       "                            \n",
       "var gd = document.getElementById('16b5dc12-20f2-4377-a18e-2178d600d454');\n",
       "var x = new MutationObserver(function (mutations, observer) {{\n",
       "        var display = window.getComputedStyle(gd).display;\n",
       "        if (!display || display === 'none') {{\n",
       "            console.log([gd, 'removed!']);\n",
       "            Plotly.purge(gd);\n",
       "            observer.disconnect();\n",
       "        }}\n",
       "}});\n",
       "\n",
       "// Listen for the removal of the full notebook cells\n",
       "var notebookContainer = gd.closest('#notebook-container');\n",
       "if (notebookContainer) {{\n",
       "    x.observe(notebookContainer, {childList: true});\n",
       "}}\n",
       "\n",
       "// Listen for the clearing of the current output cell\n",
       "var outputEl = gd.closest('.output');\n",
       "if (outputEl) {{\n",
       "    x.observe(outputEl, {childList: true});\n",
       "}}\n",
       "\n",
       "                        })                };                });            </script>        </div>"
      ]
     },
     "metadata": {},
     "output_type": "display_data"
    },
    {
     "data": {
      "application/javascript": [
       "\n",
       "            setTimeout(function() {\n",
       "                var nbb_cell_id = 304;\n",
       "                var nbb_unformatted_code = \"px.scatter(\\n    df[df.only_one_genre.isin(target_genres)],\\n    x=\\\"energy\\\",\\n    y=\\\"acousticness\\\",\\n    color=\\\"only_one_genre\\\",\\n    size=\\\"artist_popularity\\\",\\n    symbol=\\\"only_one_genre\\\",\\n    hover_data=[\\\"artist_name\\\", \\\"track_name\\\"],\\n)\";\n",
       "                var nbb_formatted_code = \"px.scatter(\\n    df[df.only_one_genre.isin(target_genres)],\\n    x=\\\"energy\\\",\\n    y=\\\"acousticness\\\",\\n    color=\\\"only_one_genre\\\",\\n    size=\\\"artist_popularity\\\",\\n    symbol=\\\"only_one_genre\\\",\\n    hover_data=[\\\"artist_name\\\", \\\"track_name\\\"],\\n)\";\n",
       "                var nbb_cells = Jupyter.notebook.get_cells();\n",
       "                for (var i = 0; i < nbb_cells.length; ++i) {\n",
       "                    if (nbb_cells[i].input_prompt_number == nbb_cell_id) {\n",
       "                        if (nbb_cells[i].get_text() == nbb_unformatted_code) {\n",
       "                             nbb_cells[i].set_text(nbb_formatted_code);\n",
       "                        }\n",
       "                        break;\n",
       "                    }\n",
       "                }\n",
       "            }, 500);\n",
       "            "
      ],
      "text/plain": [
       "<IPython.core.display.Javascript object>"
      ]
     },
     "metadata": {},
     "output_type": "display_data"
    }
   ],
   "source": [
    "px.scatter(\n",
    "    df[df.only_one_genre.isin(target_genres)],\n",
    "    x=\"energy\",\n",
    "    y=\"acousticness\",\n",
    "    color=\"only_one_genre\",\n",
    "    size=\"artist_popularity\",\n",
    "    symbol=\"only_one_genre\",\n",
    "    hover_data=[\"artist_name\", \"track_name\"],\n",
    ")"
   ]
  },
  {
   "cell_type": "code",
   "execution_count": 313,
   "metadata": {},
   "outputs": [
    {
     "data": {
      "application/vnd.plotly.v1+json": {
       "config": {
        "plotlyServerURL": "https://plot.ly"
       },
       "data": [
        {
         "customdata": [
          [
           "Faith Hill",
           "Breathe"
          ],
          [
           "Lonestar",
           "Amazed"
          ],
          [
           "LeAnn Rimes",
           "Can't Fight The Moonlight"
          ],
          [
           "Lee Ann Womack",
           "I Hope You Dance"
          ],
          [
           "LeAnn Rimes",
           "I Need You"
          ],
          [
           "Faith Hill",
           "The Way You Love Me"
          ],
          [
           "Lonestar",
           "I'm Already There"
          ],
          [
           "The Chicks",
           "Landslide"
          ],
          [
           "Tim McGraw",
           "Live Like You Were Dying"
          ],
          [
           "Toby Keith",
           "As Good As I Once Was"
          ],
          [
           "Rascal Flatts",
           "Life is a Highway"
          ],
          [
           "Rascal Flatts",
           "What Hurts The Most"
          ],
          [
           "Jason Aldean",
           "Big Green Tractor"
          ],
          [
           "The Band Perry",
           "If I Die Young"
          ],
          [
           "Sugarland",
           "Stuck Like Glue"
          ],
          [
           "Eric Church",
           "Springsteen"
          ],
          [
           "Jason Aldean",
           "Dirt Road Anthem"
          ],
          [
           "The Band Perry",
           "If I Die Young"
          ],
          [
           "Blake Shelton",
           "Honey Bee"
          ],
          [
           "Lady A",
           "Just A Kiss"
          ],
          [
           "Florida Georgia Line",
           "Cruise"
          ],
          [
           "Thomas Rhett",
           "Die A Happy Man"
          ],
          [
           "Florida Georgia Line",
           "H.O.L.Y."
          ],
          [
           "Jason Aldean",
           "You Make It Easy"
          ],
          [
           "Dan + Shay",
           "Tequila"
          ],
          [
           "Florida Georgia Line",
           "Simple"
          ],
          [
           "Dan + Shay",
           "10,000 Hours (with Justin Bieber)"
          ],
          [
           "Kane Brown",
           "Good as You"
          ]
         ],
         "hovertemplate": "only_one_genre=country<br>loudness=%{x}<br>energy=%{y}<br>artist_name=%{customdata[0]}<br>track_name=%{customdata[1]}<extra></extra>",
         "legendgroup": "country",
         "marker": {
          "color": "#636efa",
          "symbol": "circle"
         },
         "mode": "markers",
         "name": "country",
         "orientation": "v",
         "showlegend": true,
         "type": "scatter",
         "x": [
          -9.007,
          -8.498,
          -6.341,
          -9.627,
          -7.124,
          -7.175,
          -8.622,
          -7.007,
          -7.728,
          -4.461,
          -3.848,
          -5.134,
          -5.014,
          -6.611,
          -4.764,
          -5.935,
          -5.055,
          -6.611,
          -5.131,
          -5.826,
          -3.364,
          -9.245,
          -4.081,
          -5.305,
          -5.731,
          -3.717,
          -4.644,
          -6.05
         ],
         "xaxis": "x",
         "y": [
          0.496,
          0.543,
          0.834,
          0.443,
          0.736,
          0.716,
          0.395,
          0.438,
          0.546,
          0.87,
          0.952,
          0.674,
          0.59,
          0.497,
          0.795,
          0.809,
          0.741,
          0.497,
          0.849,
          0.639,
          0.948,
          0.389,
          0.666,
          0.574,
          0.581,
          0.882,
          0.63,
          0.516
         ],
         "yaxis": "y"
        },
        {
         "hovertemplate": "<b>OLS trendline</b><br>energy = 0.0722112 * loudness + 1.09434<br>R<sup>2</sup>=0.563005<br><br>only_one_genre=country<br>loudness=%{x}<br>energy=%{y} <b>(trend)</b><extra></extra>",
         "legendgroup": "country",
         "marker": {
          "color": "#636efa",
          "symbol": "circle"
         },
         "mode": "lines",
         "name": "country",
         "showlegend": false,
         "type": "scatter",
         "x": [
          -9.627,
          -9.245,
          -9.007,
          -8.622,
          -8.498,
          -7.728,
          -7.175,
          -7.124,
          -7.007,
          -6.611,
          -6.611,
          -6.341,
          -6.05,
          -5.935,
          -5.826,
          -5.731,
          -5.305,
          -5.134,
          -5.131,
          -5.055,
          -5.014,
          -4.764,
          -4.644,
          -4.461,
          -4.081,
          -3.848,
          -3.717,
          -3.364
         ],
         "xaxis": "x",
         "y": [
          0.3991614792474747,
          0.4267461658457282,
          0.44393243655354053,
          0.47173375681617813,
          0.48068794827739125,
          0.5362905888026664,
          0.5762233942708187,
          0.5799061665653499,
          0.5883548794763332,
          0.6169505231750463,
          0.6169505231750463,
          0.6364475529696232,
          0.6574610184148897,
          0.6657653088829503,
          0.6736363320222425,
          0.680496398061075,
          0.7112583784036299,
          0.7236064972735287,
          0.7238231309379128,
          0.729311183768979,
          0.7322718438488962,
          0.7503246492142454,
          0.7589899957896129,
          0.7722046493170485,
          0.7996449134723791,
          0.8164701280728844,
          0.8259297980843274,
          0.8514203592602003
         ],
         "yaxis": "y"
        },
        {
         "customdata": [
          [
           "Alice Deejay",
           "Better Off Alone"
          ],
          [
           "Gigi D'Agostino",
           "L'Amour Toujours"
          ],
          [
           "Darude",
           "Sandstorm"
          ],
          [
           "Gigi D'Agostino",
           "The Riddle"
          ],
          [
           "Bomfunk MC's",
           "Freestyler"
          ],
          [
           "Lasgo",
           "Something"
          ],
          [
           "DJ Sammy",
           "Heaven"
          ],
          [
           "Scooter",
           "The Logical Song"
          ],
          [
           "Scooter",
           "Nessaja"
          ],
          [
           "Ultrabeat",
           "Pretty Green Eyes - Radio Edit"
          ],
          [
           "Special D.",
           "Come With Me - Radio Edit"
          ],
          [
           "Infernal",
           "From Paris to Berlin"
          ],
          [
           "Basshunter",
           "All I Ever Wanted - Radio Edit"
          ],
          [
           "Basshunter",
           "Now You're Gone (feat. DJ Mental Theo's Bazzheadz) - Video Edit"
          ]
         ],
         "hovertemplate": "only_one_genre=eurodance<br>loudness=%{x}<br>energy=%{y}<br>artist_name=%{customdata[0]}<br>track_name=%{customdata[1]}<extra></extra>",
         "legendgroup": "eurodance",
         "marker": {
          "color": "#EF553B",
          "symbol": "circle"
         },
         "mode": "markers",
         "name": "eurodance",
         "orientation": "v",
         "showlegend": true,
         "type": "scatter",
         "x": [
          -6.149,
          -4.449,
          -7.984,
          -6.87,
          -5.798,
          -6.644,
          -5.601,
          -6.489,
          -7.045,
          -10.284,
          -5.077,
          -6.534,
          -7.051,
          -5.503
         ],
         "xaxis": "x",
         "y": [
          0.882,
          0.877,
          0.965,
          0.876,
          0.922,
          0.981,
          0.953,
          0.934,
          0.909,
          0.775,
          0.999,
          0.869,
          0.984,
          0.976
         ],
         "yaxis": "y"
        },
        {
         "hovertemplate": "<b>OLS trendline</b><br>energy = 0.0216315 * loudness + 1.06291<br>R<sup>2</sup>=0.245213<br><br>only_one_genre=eurodance<br>loudness=%{x}<br>energy=%{y} <b>(trend)</b><extra></extra>",
         "legendgroup": "eurodance",
         "marker": {
          "color": "#EF553B",
          "symbol": "circle"
         },
         "mode": "lines",
         "name": "eurodance",
         "showlegend": false,
         "type": "scatter",
         "x": [
          -10.284,
          -7.984,
          -7.051,
          -7.045,
          -6.87,
          -6.644,
          -6.534,
          -6.489,
          -6.149,
          -5.798,
          -5.601,
          -5.503,
          -5.077,
          -4.449
         ],
         "xaxis": "x",
         "y": [
          0.8404565181819581,
          0.8902088918826887,
          0.9103910504317242,
          0.9105208392326826,
          0.9143063459273034,
          0.9191950574300708,
          0.9215745187809753,
          0.9225479347881635,
          0.9299026335091412,
          0.9374952783652091,
          0.9417566773300108,
          0.9438765610789984,
          0.9530915659470468,
          0.9666761271140288
         ],
         "yaxis": "y"
        },
        {
         "customdata": [
          [
           "Filter",
           "Take A Picture"
          ],
          [
           "Fuel",
           "Hemorrhage (In My Hands)"
          ],
          [
           "Nickelback",
           "How You Remind Me"
          ],
          [
           "Alien Ant Farm",
           "Smooth Criminal"
          ],
          [
           "Crazy Town",
           "Butterfly"
          ],
          [
           "Staind",
           "It's Been Awhile"
          ],
          [
           "Puddle Of Mudd",
           "She Hates Me"
          ],
          [
           "Puddle Of Mudd",
           "Blurry"
          ],
          [
           "Default",
           "Wasting My Time"
          ],
          [
           "Trapt",
           "Headstrong"
          ],
          [
           "Nickelback",
           "Someday"
          ],
          [
           "Nickelback",
           "Photograph"
          ],
          [
           "Nickelback",
           "Far Away"
          ],
          [
           "Nickelback",
           "Savin' Me"
          ],
          [
           "The Red Jumpsuit Apparatus",
           "Face Down"
          ],
          [
           "Seether",
           "Fake It"
          ],
          [
           "Finger Eleven",
           "Paralyzer"
          ],
          [
           "Nickelback",
           "Rockstar"
          ],
          [
           "Finger Eleven",
           "Paralyzer"
          ],
          [
           "Saving Abel",
           "Addicted"
          ],
          [
           "Skillet",
           "Monster"
          ],
          [
           "Shinedown",
           "Second Chance"
          ],
          [
           "Nickelback",
           "If Today Was Your Last Day"
          ],
          [
           "Nickelback",
           "When We Stand Together"
          ]
         ],
         "hovertemplate": "only_one_genre=post-grunge<br>loudness=%{x}<br>energy=%{y}<br>artist_name=%{customdata[0]}<br>track_name=%{customdata[1]}<extra></extra>",
         "legendgroup": "post-grunge",
         "marker": {
          "color": "#00cc96",
          "symbol": "circle"
         },
         "mode": "markers",
         "name": "post-grunge",
         "orientation": "v",
         "showlegend": true,
         "type": "scatter",
         "x": [
          -8.042,
          -4.072,
          -5.042,
          -4.261,
          -4.17,
          -4.054,
          -5.433,
          -4.537,
          -5.594,
          -5.819,
          -5.659,
          -3.756,
          -5.153,
          -4.088,
          -2.189,
          -3.509,
          -3.486,
          -3.004,
          -3.486,
          -4.146,
          -2.336,
          -4.501,
          -5.749,
          -3.541
         ],
         "xaxis": "x",
         "y": [
          0.776,
          0.823,
          0.764,
          0.964,
          0.811,
          0.774,
          0.748,
          0.936,
          0.776,
          0.896,
          0.858,
          0.876,
          0.797,
          0.815,
          0.932,
          0.95,
          0.939,
          0.91,
          0.939,
          0.864,
          0.957,
          0.796,
          0.911,
          0.9
         ],
         "yaxis": "y"
        },
        {
         "hovertemplate": "<b>OLS trendline</b><br>energy = 0.0309558 * loudness + 0.99924<br>R<sup>2</sup>=0.306111<br><br>only_one_genre=post-grunge<br>loudness=%{x}<br>energy=%{y} <b>(trend)</b><extra></extra>",
         "legendgroup": "post-grunge",
         "marker": {
          "color": "#00cc96",
          "symbol": "circle"
         },
         "mode": "lines",
         "name": "post-grunge",
         "showlegend": false,
         "type": "scatter",
         "x": [
          -8.042,
          -5.819,
          -5.749,
          -5.659,
          -5.594,
          -5.433,
          -5.153,
          -5.042,
          -4.537,
          -4.501,
          -4.261,
          -4.17,
          -4.146,
          -4.088,
          -4.072,
          -4.054,
          -3.756,
          -3.541,
          -3.509,
          -3.486,
          -3.486,
          -3.004,
          -2.336,
          -2.189
         ],
         "xaxis": "x",
         "y": [
          0.750293773932072,
          0.8191085342710024,
          0.8212754408043921,
          0.8240614634901787,
          0.8260735909854691,
          0.8310574760122652,
          0.8397251021458236,
          0.8431611967916273,
          0.8587938796396524,
          0.859908288713967,
          0.8673376825427315,
          0.8701546610361379,
          0.8708976004190144,
          0.8726930372609658,
          0.8731883301828834,
          0.8737455347200407,
          0.8829703653907566,
          0.8896258640290247,
          0.8906164498728599,
          0.8913284334481165,
          0.8913284334481165,
          0.906249132720885,
          0.9269276122109461,
          0.9314781159310642
         ],
         "yaxis": "y"
        }
       ],
       "layout": {
        "legend": {
         "title": {
          "text": "only_one_genre"
         },
         "tracegroupgap": 0
        },
        "margin": {
         "t": 60
        },
        "template": {
         "data": {
          "bar": [
           {
            "error_x": {
             "color": "#2a3f5f"
            },
            "error_y": {
             "color": "#2a3f5f"
            },
            "marker": {
             "line": {
              "color": "#E5ECF6",
              "width": 0.5
             }
            },
            "type": "bar"
           }
          ],
          "barpolar": [
           {
            "marker": {
             "line": {
              "color": "#E5ECF6",
              "width": 0.5
             }
            },
            "type": "barpolar"
           }
          ],
          "carpet": [
           {
            "aaxis": {
             "endlinecolor": "#2a3f5f",
             "gridcolor": "white",
             "linecolor": "white",
             "minorgridcolor": "white",
             "startlinecolor": "#2a3f5f"
            },
            "baxis": {
             "endlinecolor": "#2a3f5f",
             "gridcolor": "white",
             "linecolor": "white",
             "minorgridcolor": "white",
             "startlinecolor": "#2a3f5f"
            },
            "type": "carpet"
           }
          ],
          "choropleth": [
           {
            "colorbar": {
             "outlinewidth": 0,
             "ticks": ""
            },
            "type": "choropleth"
           }
          ],
          "contour": [
           {
            "colorbar": {
             "outlinewidth": 0,
             "ticks": ""
            },
            "colorscale": [
             [
              0,
              "#0d0887"
             ],
             [
              0.1111111111111111,
              "#46039f"
             ],
             [
              0.2222222222222222,
              "#7201a8"
             ],
             [
              0.3333333333333333,
              "#9c179e"
             ],
             [
              0.4444444444444444,
              "#bd3786"
             ],
             [
              0.5555555555555556,
              "#d8576b"
             ],
             [
              0.6666666666666666,
              "#ed7953"
             ],
             [
              0.7777777777777778,
              "#fb9f3a"
             ],
             [
              0.8888888888888888,
              "#fdca26"
             ],
             [
              1,
              "#f0f921"
             ]
            ],
            "type": "contour"
           }
          ],
          "contourcarpet": [
           {
            "colorbar": {
             "outlinewidth": 0,
             "ticks": ""
            },
            "type": "contourcarpet"
           }
          ],
          "heatmap": [
           {
            "colorbar": {
             "outlinewidth": 0,
             "ticks": ""
            },
            "colorscale": [
             [
              0,
              "#0d0887"
             ],
             [
              0.1111111111111111,
              "#46039f"
             ],
             [
              0.2222222222222222,
              "#7201a8"
             ],
             [
              0.3333333333333333,
              "#9c179e"
             ],
             [
              0.4444444444444444,
              "#bd3786"
             ],
             [
              0.5555555555555556,
              "#d8576b"
             ],
             [
              0.6666666666666666,
              "#ed7953"
             ],
             [
              0.7777777777777778,
              "#fb9f3a"
             ],
             [
              0.8888888888888888,
              "#fdca26"
             ],
             [
              1,
              "#f0f921"
             ]
            ],
            "type": "heatmap"
           }
          ],
          "heatmapgl": [
           {
            "colorbar": {
             "outlinewidth": 0,
             "ticks": ""
            },
            "colorscale": [
             [
              0,
              "#0d0887"
             ],
             [
              0.1111111111111111,
              "#46039f"
             ],
             [
              0.2222222222222222,
              "#7201a8"
             ],
             [
              0.3333333333333333,
              "#9c179e"
             ],
             [
              0.4444444444444444,
              "#bd3786"
             ],
             [
              0.5555555555555556,
              "#d8576b"
             ],
             [
              0.6666666666666666,
              "#ed7953"
             ],
             [
              0.7777777777777778,
              "#fb9f3a"
             ],
             [
              0.8888888888888888,
              "#fdca26"
             ],
             [
              1,
              "#f0f921"
             ]
            ],
            "type": "heatmapgl"
           }
          ],
          "histogram": [
           {
            "marker": {
             "colorbar": {
              "outlinewidth": 0,
              "ticks": ""
             }
            },
            "type": "histogram"
           }
          ],
          "histogram2d": [
           {
            "colorbar": {
             "outlinewidth": 0,
             "ticks": ""
            },
            "colorscale": [
             [
              0,
              "#0d0887"
             ],
             [
              0.1111111111111111,
              "#46039f"
             ],
             [
              0.2222222222222222,
              "#7201a8"
             ],
             [
              0.3333333333333333,
              "#9c179e"
             ],
             [
              0.4444444444444444,
              "#bd3786"
             ],
             [
              0.5555555555555556,
              "#d8576b"
             ],
             [
              0.6666666666666666,
              "#ed7953"
             ],
             [
              0.7777777777777778,
              "#fb9f3a"
             ],
             [
              0.8888888888888888,
              "#fdca26"
             ],
             [
              1,
              "#f0f921"
             ]
            ],
            "type": "histogram2d"
           }
          ],
          "histogram2dcontour": [
           {
            "colorbar": {
             "outlinewidth": 0,
             "ticks": ""
            },
            "colorscale": [
             [
              0,
              "#0d0887"
             ],
             [
              0.1111111111111111,
              "#46039f"
             ],
             [
              0.2222222222222222,
              "#7201a8"
             ],
             [
              0.3333333333333333,
              "#9c179e"
             ],
             [
              0.4444444444444444,
              "#bd3786"
             ],
             [
              0.5555555555555556,
              "#d8576b"
             ],
             [
              0.6666666666666666,
              "#ed7953"
             ],
             [
              0.7777777777777778,
              "#fb9f3a"
             ],
             [
              0.8888888888888888,
              "#fdca26"
             ],
             [
              1,
              "#f0f921"
             ]
            ],
            "type": "histogram2dcontour"
           }
          ],
          "mesh3d": [
           {
            "colorbar": {
             "outlinewidth": 0,
             "ticks": ""
            },
            "type": "mesh3d"
           }
          ],
          "parcoords": [
           {
            "line": {
             "colorbar": {
              "outlinewidth": 0,
              "ticks": ""
             }
            },
            "type": "parcoords"
           }
          ],
          "pie": [
           {
            "automargin": true,
            "type": "pie"
           }
          ],
          "scatter": [
           {
            "marker": {
             "colorbar": {
              "outlinewidth": 0,
              "ticks": ""
             }
            },
            "type": "scatter"
           }
          ],
          "scatter3d": [
           {
            "line": {
             "colorbar": {
              "outlinewidth": 0,
              "ticks": ""
             }
            },
            "marker": {
             "colorbar": {
              "outlinewidth": 0,
              "ticks": ""
             }
            },
            "type": "scatter3d"
           }
          ],
          "scattercarpet": [
           {
            "marker": {
             "colorbar": {
              "outlinewidth": 0,
              "ticks": ""
             }
            },
            "type": "scattercarpet"
           }
          ],
          "scattergeo": [
           {
            "marker": {
             "colorbar": {
              "outlinewidth": 0,
              "ticks": ""
             }
            },
            "type": "scattergeo"
           }
          ],
          "scattergl": [
           {
            "marker": {
             "colorbar": {
              "outlinewidth": 0,
              "ticks": ""
             }
            },
            "type": "scattergl"
           }
          ],
          "scattermapbox": [
           {
            "marker": {
             "colorbar": {
              "outlinewidth": 0,
              "ticks": ""
             }
            },
            "type": "scattermapbox"
           }
          ],
          "scatterpolar": [
           {
            "marker": {
             "colorbar": {
              "outlinewidth": 0,
              "ticks": ""
             }
            },
            "type": "scatterpolar"
           }
          ],
          "scatterpolargl": [
           {
            "marker": {
             "colorbar": {
              "outlinewidth": 0,
              "ticks": ""
             }
            },
            "type": "scatterpolargl"
           }
          ],
          "scatterternary": [
           {
            "marker": {
             "colorbar": {
              "outlinewidth": 0,
              "ticks": ""
             }
            },
            "type": "scatterternary"
           }
          ],
          "surface": [
           {
            "colorbar": {
             "outlinewidth": 0,
             "ticks": ""
            },
            "colorscale": [
             [
              0,
              "#0d0887"
             ],
             [
              0.1111111111111111,
              "#46039f"
             ],
             [
              0.2222222222222222,
              "#7201a8"
             ],
             [
              0.3333333333333333,
              "#9c179e"
             ],
             [
              0.4444444444444444,
              "#bd3786"
             ],
             [
              0.5555555555555556,
              "#d8576b"
             ],
             [
              0.6666666666666666,
              "#ed7953"
             ],
             [
              0.7777777777777778,
              "#fb9f3a"
             ],
             [
              0.8888888888888888,
              "#fdca26"
             ],
             [
              1,
              "#f0f921"
             ]
            ],
            "type": "surface"
           }
          ],
          "table": [
           {
            "cells": {
             "fill": {
              "color": "#EBF0F8"
             },
             "line": {
              "color": "white"
             }
            },
            "header": {
             "fill": {
              "color": "#C8D4E3"
             },
             "line": {
              "color": "white"
             }
            },
            "type": "table"
           }
          ]
         },
         "layout": {
          "annotationdefaults": {
           "arrowcolor": "#2a3f5f",
           "arrowhead": 0,
           "arrowwidth": 1
          },
          "coloraxis": {
           "colorbar": {
            "outlinewidth": 0,
            "ticks": ""
           }
          },
          "colorscale": {
           "diverging": [
            [
             0,
             "#8e0152"
            ],
            [
             0.1,
             "#c51b7d"
            ],
            [
             0.2,
             "#de77ae"
            ],
            [
             0.3,
             "#f1b6da"
            ],
            [
             0.4,
             "#fde0ef"
            ],
            [
             0.5,
             "#f7f7f7"
            ],
            [
             0.6,
             "#e6f5d0"
            ],
            [
             0.7,
             "#b8e186"
            ],
            [
             0.8,
             "#7fbc41"
            ],
            [
             0.9,
             "#4d9221"
            ],
            [
             1,
             "#276419"
            ]
           ],
           "sequential": [
            [
             0,
             "#0d0887"
            ],
            [
             0.1111111111111111,
             "#46039f"
            ],
            [
             0.2222222222222222,
             "#7201a8"
            ],
            [
             0.3333333333333333,
             "#9c179e"
            ],
            [
             0.4444444444444444,
             "#bd3786"
            ],
            [
             0.5555555555555556,
             "#d8576b"
            ],
            [
             0.6666666666666666,
             "#ed7953"
            ],
            [
             0.7777777777777778,
             "#fb9f3a"
            ],
            [
             0.8888888888888888,
             "#fdca26"
            ],
            [
             1,
             "#f0f921"
            ]
           ],
           "sequentialminus": [
            [
             0,
             "#0d0887"
            ],
            [
             0.1111111111111111,
             "#46039f"
            ],
            [
             0.2222222222222222,
             "#7201a8"
            ],
            [
             0.3333333333333333,
             "#9c179e"
            ],
            [
             0.4444444444444444,
             "#bd3786"
            ],
            [
             0.5555555555555556,
             "#d8576b"
            ],
            [
             0.6666666666666666,
             "#ed7953"
            ],
            [
             0.7777777777777778,
             "#fb9f3a"
            ],
            [
             0.8888888888888888,
             "#fdca26"
            ],
            [
             1,
             "#f0f921"
            ]
           ]
          },
          "colorway": [
           "#636efa",
           "#EF553B",
           "#00cc96",
           "#ab63fa",
           "#FFA15A",
           "#19d3f3",
           "#FF6692",
           "#B6E880",
           "#FF97FF",
           "#FECB52"
          ],
          "font": {
           "color": "#2a3f5f"
          },
          "geo": {
           "bgcolor": "white",
           "lakecolor": "white",
           "landcolor": "#E5ECF6",
           "showlakes": true,
           "showland": true,
           "subunitcolor": "white"
          },
          "hoverlabel": {
           "align": "left"
          },
          "hovermode": "closest",
          "mapbox": {
           "style": "light"
          },
          "paper_bgcolor": "white",
          "plot_bgcolor": "#E5ECF6",
          "polar": {
           "angularaxis": {
            "gridcolor": "white",
            "linecolor": "white",
            "ticks": ""
           },
           "bgcolor": "#E5ECF6",
           "radialaxis": {
            "gridcolor": "white",
            "linecolor": "white",
            "ticks": ""
           }
          },
          "scene": {
           "xaxis": {
            "backgroundcolor": "#E5ECF6",
            "gridcolor": "white",
            "gridwidth": 2,
            "linecolor": "white",
            "showbackground": true,
            "ticks": "",
            "zerolinecolor": "white"
           },
           "yaxis": {
            "backgroundcolor": "#E5ECF6",
            "gridcolor": "white",
            "gridwidth": 2,
            "linecolor": "white",
            "showbackground": true,
            "ticks": "",
            "zerolinecolor": "white"
           },
           "zaxis": {
            "backgroundcolor": "#E5ECF6",
            "gridcolor": "white",
            "gridwidth": 2,
            "linecolor": "white",
            "showbackground": true,
            "ticks": "",
            "zerolinecolor": "white"
           }
          },
          "shapedefaults": {
           "line": {
            "color": "#2a3f5f"
           }
          },
          "ternary": {
           "aaxis": {
            "gridcolor": "white",
            "linecolor": "white",
            "ticks": ""
           },
           "baxis": {
            "gridcolor": "white",
            "linecolor": "white",
            "ticks": ""
           },
           "bgcolor": "#E5ECF6",
           "caxis": {
            "gridcolor": "white",
            "linecolor": "white",
            "ticks": ""
           }
          },
          "title": {
           "x": 0.05
          },
          "xaxis": {
           "automargin": true,
           "gridcolor": "white",
           "linecolor": "white",
           "ticks": "",
           "title": {
            "standoff": 15
           },
           "zerolinecolor": "white",
           "zerolinewidth": 2
          },
          "yaxis": {
           "automargin": true,
           "gridcolor": "white",
           "linecolor": "white",
           "ticks": "",
           "title": {
            "standoff": 15
           },
           "zerolinecolor": "white",
           "zerolinewidth": 2
          }
         }
        },
        "xaxis": {
         "anchor": "y",
         "domain": [
          0,
          1
         ],
         "title": {
          "text": "loudness"
         }
        },
        "yaxis": {
         "anchor": "x",
         "domain": [
          0,
          1
         ],
         "title": {
          "text": "energy"
         }
        }
       }
      },
      "text/html": [
       "<div>                            <div id=\"ceb1d00c-05c5-454d-b800-17b3580cdfae\" class=\"plotly-graph-div\" style=\"height:525px; width:100%;\"></div>            <script type=\"text/javascript\">                require([\"plotly\"], function(Plotly) {                    window.PLOTLYENV=window.PLOTLYENV || {};                                    if (document.getElementById(\"ceb1d00c-05c5-454d-b800-17b3580cdfae\")) {                    Plotly.newPlot(                        \"ceb1d00c-05c5-454d-b800-17b3580cdfae\",                        [{\"customdata\": [[\"Faith Hill\", \"Breathe\"], [\"Lonestar\", \"Amazed\"], [\"LeAnn Rimes\", \"Can't Fight The Moonlight\"], [\"Lee Ann Womack\", \"I Hope You Dance\"], [\"LeAnn Rimes\", \"I Need You\"], [\"Faith Hill\", \"The Way You Love Me\"], [\"Lonestar\", \"I'm Already There\"], [\"The Chicks\", \"Landslide\"], [\"Tim McGraw\", \"Live Like You Were Dying\"], [\"Toby Keith\", \"As Good As I Once Was\"], [\"Rascal Flatts\", \"Life is a Highway\"], [\"Rascal Flatts\", \"What Hurts The Most\"], [\"Jason Aldean\", \"Big Green Tractor\"], [\"The Band Perry\", \"If I Die Young\"], [\"Sugarland\", \"Stuck Like Glue\"], [\"Eric Church\", \"Springsteen\"], [\"Jason Aldean\", \"Dirt Road Anthem\"], [\"The Band Perry\", \"If I Die Young\"], [\"Blake Shelton\", \"Honey Bee\"], [\"Lady A\", \"Just A Kiss\"], [\"Florida Georgia Line\", \"Cruise\"], [\"Thomas Rhett\", \"Die A Happy Man\"], [\"Florida Georgia Line\", \"H.O.L.Y.\"], [\"Jason Aldean\", \"You Make It Easy\"], [\"Dan + Shay\", \"Tequila\"], [\"Florida Georgia Line\", \"Simple\"], [\"Dan + Shay\", \"10,000 Hours (with Justin Bieber)\"], [\"Kane Brown\", \"Good as You\"]], \"hovertemplate\": \"only_one_genre=country<br>loudness=%{x}<br>energy=%{y}<br>artist_name=%{customdata[0]}<br>track_name=%{customdata[1]}<extra></extra>\", \"legendgroup\": \"country\", \"marker\": {\"color\": \"#636efa\", \"symbol\": \"circle\"}, \"mode\": \"markers\", \"name\": \"country\", \"orientation\": \"v\", \"showlegend\": true, \"type\": \"scatter\", \"x\": [-9.007, -8.498, -6.341, -9.627, -7.124, -7.175, -8.622, -7.007, -7.728, -4.461, -3.848, -5.134, -5.014, -6.611, -4.764, -5.935, -5.055, -6.611, -5.131, -5.826, -3.364, -9.245, -4.081, -5.305, -5.731, -3.717, -4.644, -6.05], \"xaxis\": \"x\", \"y\": [0.496, 0.543, 0.834, 0.443, 0.736, 0.716, 0.395, 0.438, 0.546, 0.87, 0.952, 0.674, 0.59, 0.497, 0.795, 0.809, 0.741, 0.497, 0.849, 0.639, 0.948, 0.389, 0.666, 0.574, 0.581, 0.882, 0.63, 0.516], \"yaxis\": \"y\"}, {\"hovertemplate\": \"<b>OLS trendline</b><br>energy = 0.0722112 * loudness + 1.09434<br>R<sup>2</sup>=0.563005<br><br>only_one_genre=country<br>loudness=%{x}<br>energy=%{y} <b>(trend)</b><extra></extra>\", \"legendgroup\": \"country\", \"marker\": {\"color\": \"#636efa\", \"symbol\": \"circle\"}, \"mode\": \"lines\", \"name\": \"country\", \"showlegend\": false, \"type\": \"scatter\", \"x\": [-9.627, -9.245, -9.007, -8.622, -8.498, -7.728, -7.175, -7.124, -7.007, -6.611, -6.611, -6.341, -6.05, -5.935, -5.826, -5.731, -5.305, -5.134, -5.131, -5.055, -5.014, -4.764, -4.644, -4.461, -4.081, -3.848, -3.717, -3.364], \"xaxis\": \"x\", \"y\": [0.3991614792474747, 0.4267461658457282, 0.44393243655354053, 0.47173375681617813, 0.48068794827739125, 0.5362905888026664, 0.5762233942708187, 0.5799061665653499, 0.5883548794763332, 0.6169505231750463, 0.6169505231750463, 0.6364475529696232, 0.6574610184148897, 0.6657653088829503, 0.6736363320222425, 0.680496398061075, 0.7112583784036299, 0.7236064972735287, 0.7238231309379128, 0.729311183768979, 0.7322718438488962, 0.7503246492142454, 0.7589899957896129, 0.7722046493170485, 0.7996449134723791, 0.8164701280728844, 0.8259297980843274, 0.8514203592602003], \"yaxis\": \"y\"}, {\"customdata\": [[\"Alice Deejay\", \"Better Off Alone\"], [\"Gigi D'Agostino\", \"L'Amour Toujours\"], [\"Darude\", \"Sandstorm\"], [\"Gigi D'Agostino\", \"The Riddle\"], [\"Bomfunk MC's\", \"Freestyler\"], [\"Lasgo\", \"Something\"], [\"DJ Sammy\", \"Heaven\"], [\"Scooter\", \"The Logical Song\"], [\"Scooter\", \"Nessaja\"], [\"Ultrabeat\", \"Pretty Green Eyes - Radio Edit\"], [\"Special D.\", \"Come With Me - Radio Edit\"], [\"Infernal\", \"From Paris to Berlin\"], [\"Basshunter\", \"All I Ever Wanted - Radio Edit\"], [\"Basshunter\", \"Now You're Gone (feat. DJ Mental Theo's Bazzheadz) - Video Edit\"]], \"hovertemplate\": \"only_one_genre=eurodance<br>loudness=%{x}<br>energy=%{y}<br>artist_name=%{customdata[0]}<br>track_name=%{customdata[1]}<extra></extra>\", \"legendgroup\": \"eurodance\", \"marker\": {\"color\": \"#EF553B\", \"symbol\": \"circle\"}, \"mode\": \"markers\", \"name\": \"eurodance\", \"orientation\": \"v\", \"showlegend\": true, \"type\": \"scatter\", \"x\": [-6.149, -4.449, -7.984, -6.87, -5.798, -6.644, -5.601, -6.489, -7.045, -10.284, -5.077, -6.534, -7.051, -5.503], \"xaxis\": \"x\", \"y\": [0.882, 0.877, 0.965, 0.876, 0.922, 0.981, 0.953, 0.934, 0.909, 0.775, 0.999, 0.869, 0.984, 0.976], \"yaxis\": \"y\"}, {\"hovertemplate\": \"<b>OLS trendline</b><br>energy = 0.0216315 * loudness + 1.06291<br>R<sup>2</sup>=0.245213<br><br>only_one_genre=eurodance<br>loudness=%{x}<br>energy=%{y} <b>(trend)</b><extra></extra>\", \"legendgroup\": \"eurodance\", \"marker\": {\"color\": \"#EF553B\", \"symbol\": \"circle\"}, \"mode\": \"lines\", \"name\": \"eurodance\", \"showlegend\": false, \"type\": \"scatter\", \"x\": [-10.284, -7.984, -7.051, -7.045, -6.87, -6.644, -6.534, -6.489, -6.149, -5.798, -5.601, -5.503, -5.077, -4.449], \"xaxis\": \"x\", \"y\": [0.8404565181819581, 0.8902088918826887, 0.9103910504317242, 0.9105208392326826, 0.9143063459273034, 0.9191950574300708, 0.9215745187809753, 0.9225479347881635, 0.9299026335091412, 0.9374952783652091, 0.9417566773300108, 0.9438765610789984, 0.9530915659470468, 0.9666761271140288], \"yaxis\": \"y\"}, {\"customdata\": [[\"Filter\", \"Take A Picture\"], [\"Fuel\", \"Hemorrhage (In My Hands)\"], [\"Nickelback\", \"How You Remind Me\"], [\"Alien Ant Farm\", \"Smooth Criminal\"], [\"Crazy Town\", \"Butterfly\"], [\"Staind\", \"It's Been Awhile\"], [\"Puddle Of Mudd\", \"She Hates Me\"], [\"Puddle Of Mudd\", \"Blurry\"], [\"Default\", \"Wasting My Time\"], [\"Trapt\", \"Headstrong\"], [\"Nickelback\", \"Someday\"], [\"Nickelback\", \"Photograph\"], [\"Nickelback\", \"Far Away\"], [\"Nickelback\", \"Savin' Me\"], [\"The Red Jumpsuit Apparatus\", \"Face Down\"], [\"Seether\", \"Fake It\"], [\"Finger Eleven\", \"Paralyzer\"], [\"Nickelback\", \"Rockstar\"], [\"Finger Eleven\", \"Paralyzer\"], [\"Saving Abel\", \"Addicted\"], [\"Skillet\", \"Monster\"], [\"Shinedown\", \"Second Chance\"], [\"Nickelback\", \"If Today Was Your Last Day\"], [\"Nickelback\", \"When We Stand Together\"]], \"hovertemplate\": \"only_one_genre=post-grunge<br>loudness=%{x}<br>energy=%{y}<br>artist_name=%{customdata[0]}<br>track_name=%{customdata[1]}<extra></extra>\", \"legendgroup\": \"post-grunge\", \"marker\": {\"color\": \"#00cc96\", \"symbol\": \"circle\"}, \"mode\": \"markers\", \"name\": \"post-grunge\", \"orientation\": \"v\", \"showlegend\": true, \"type\": \"scatter\", \"x\": [-8.042, -4.072, -5.042, -4.261, -4.17, -4.054, -5.433, -4.537, -5.594, -5.819, -5.659, -3.756, -5.153, -4.088, -2.189, -3.509, -3.486, -3.004, -3.486, -4.146, -2.336, -4.501, -5.749, -3.541], \"xaxis\": \"x\", \"y\": [0.776, 0.823, 0.764, 0.964, 0.811, 0.774, 0.748, 0.936, 0.776, 0.896, 0.858, 0.876, 0.797, 0.815, 0.932, 0.95, 0.939, 0.91, 0.939, 0.864, 0.957, 0.796, 0.911, 0.9], \"yaxis\": \"y\"}, {\"hovertemplate\": \"<b>OLS trendline</b><br>energy = 0.0309558 * loudness + 0.99924<br>R<sup>2</sup>=0.306111<br><br>only_one_genre=post-grunge<br>loudness=%{x}<br>energy=%{y} <b>(trend)</b><extra></extra>\", \"legendgroup\": \"post-grunge\", \"marker\": {\"color\": \"#00cc96\", \"symbol\": \"circle\"}, \"mode\": \"lines\", \"name\": \"post-grunge\", \"showlegend\": false, \"type\": \"scatter\", \"x\": [-8.042, -5.819, -5.749, -5.659, -5.594, -5.433, -5.153, -5.042, -4.537, -4.501, -4.261, -4.17, -4.146, -4.088, -4.072, -4.054, -3.756, -3.541, -3.509, -3.486, -3.486, -3.004, -2.336, -2.189], \"xaxis\": \"x\", \"y\": [0.750293773932072, 0.8191085342710024, 0.8212754408043921, 0.8240614634901787, 0.8260735909854691, 0.8310574760122652, 0.8397251021458236, 0.8431611967916273, 0.8587938796396524, 0.859908288713967, 0.8673376825427315, 0.8701546610361379, 0.8708976004190144, 0.8726930372609658, 0.8731883301828834, 0.8737455347200407, 0.8829703653907566, 0.8896258640290247, 0.8906164498728599, 0.8913284334481165, 0.8913284334481165, 0.906249132720885, 0.9269276122109461, 0.9314781159310642], \"yaxis\": \"y\"}],                        {\"legend\": {\"title\": {\"text\": \"only_one_genre\"}, \"tracegroupgap\": 0}, \"margin\": {\"t\": 60}, \"template\": {\"data\": {\"bar\": [{\"error_x\": {\"color\": \"#2a3f5f\"}, \"error_y\": {\"color\": \"#2a3f5f\"}, \"marker\": {\"line\": {\"color\": \"#E5ECF6\", \"width\": 0.5}}, \"type\": \"bar\"}], \"barpolar\": [{\"marker\": {\"line\": {\"color\": \"#E5ECF6\", \"width\": 0.5}}, \"type\": \"barpolar\"}], \"carpet\": [{\"aaxis\": {\"endlinecolor\": \"#2a3f5f\", \"gridcolor\": \"white\", \"linecolor\": \"white\", \"minorgridcolor\": \"white\", \"startlinecolor\": \"#2a3f5f\"}, \"baxis\": {\"endlinecolor\": \"#2a3f5f\", \"gridcolor\": \"white\", \"linecolor\": \"white\", \"minorgridcolor\": \"white\", \"startlinecolor\": \"#2a3f5f\"}, \"type\": \"carpet\"}], \"choropleth\": [{\"colorbar\": {\"outlinewidth\": 0, \"ticks\": \"\"}, \"type\": \"choropleth\"}], \"contour\": [{\"colorbar\": {\"outlinewidth\": 0, \"ticks\": \"\"}, \"colorscale\": [[0.0, \"#0d0887\"], [0.1111111111111111, \"#46039f\"], [0.2222222222222222, \"#7201a8\"], [0.3333333333333333, \"#9c179e\"], [0.4444444444444444, \"#bd3786\"], [0.5555555555555556, \"#d8576b\"], [0.6666666666666666, \"#ed7953\"], [0.7777777777777778, \"#fb9f3a\"], [0.8888888888888888, \"#fdca26\"], [1.0, \"#f0f921\"]], \"type\": \"contour\"}], \"contourcarpet\": [{\"colorbar\": {\"outlinewidth\": 0, \"ticks\": \"\"}, \"type\": \"contourcarpet\"}], \"heatmap\": [{\"colorbar\": {\"outlinewidth\": 0, \"ticks\": \"\"}, \"colorscale\": [[0.0, \"#0d0887\"], [0.1111111111111111, \"#46039f\"], [0.2222222222222222, \"#7201a8\"], [0.3333333333333333, \"#9c179e\"], [0.4444444444444444, \"#bd3786\"], [0.5555555555555556, \"#d8576b\"], [0.6666666666666666, \"#ed7953\"], [0.7777777777777778, \"#fb9f3a\"], [0.8888888888888888, \"#fdca26\"], [1.0, \"#f0f921\"]], \"type\": \"heatmap\"}], \"heatmapgl\": [{\"colorbar\": {\"outlinewidth\": 0, \"ticks\": \"\"}, \"colorscale\": [[0.0, \"#0d0887\"], [0.1111111111111111, \"#46039f\"], [0.2222222222222222, \"#7201a8\"], [0.3333333333333333, \"#9c179e\"], [0.4444444444444444, \"#bd3786\"], [0.5555555555555556, \"#d8576b\"], [0.6666666666666666, \"#ed7953\"], [0.7777777777777778, \"#fb9f3a\"], [0.8888888888888888, \"#fdca26\"], [1.0, \"#f0f921\"]], \"type\": \"heatmapgl\"}], \"histogram\": [{\"marker\": {\"colorbar\": {\"outlinewidth\": 0, \"ticks\": \"\"}}, \"type\": \"histogram\"}], \"histogram2d\": [{\"colorbar\": {\"outlinewidth\": 0, \"ticks\": \"\"}, \"colorscale\": [[0.0, \"#0d0887\"], [0.1111111111111111, \"#46039f\"], [0.2222222222222222, \"#7201a8\"], [0.3333333333333333, \"#9c179e\"], [0.4444444444444444, \"#bd3786\"], [0.5555555555555556, \"#d8576b\"], [0.6666666666666666, \"#ed7953\"], [0.7777777777777778, \"#fb9f3a\"], [0.8888888888888888, \"#fdca26\"], [1.0, \"#f0f921\"]], \"type\": \"histogram2d\"}], \"histogram2dcontour\": [{\"colorbar\": {\"outlinewidth\": 0, \"ticks\": \"\"}, \"colorscale\": [[0.0, \"#0d0887\"], [0.1111111111111111, \"#46039f\"], [0.2222222222222222, \"#7201a8\"], [0.3333333333333333, \"#9c179e\"], [0.4444444444444444, \"#bd3786\"], [0.5555555555555556, \"#d8576b\"], [0.6666666666666666, \"#ed7953\"], [0.7777777777777778, \"#fb9f3a\"], [0.8888888888888888, \"#fdca26\"], [1.0, \"#f0f921\"]], \"type\": \"histogram2dcontour\"}], \"mesh3d\": [{\"colorbar\": {\"outlinewidth\": 0, \"ticks\": \"\"}, \"type\": \"mesh3d\"}], \"parcoords\": [{\"line\": {\"colorbar\": {\"outlinewidth\": 0, \"ticks\": \"\"}}, \"type\": \"parcoords\"}], \"pie\": [{\"automargin\": true, \"type\": \"pie\"}], \"scatter\": [{\"marker\": {\"colorbar\": {\"outlinewidth\": 0, \"ticks\": \"\"}}, \"type\": \"scatter\"}], \"scatter3d\": [{\"line\": {\"colorbar\": {\"outlinewidth\": 0, \"ticks\": \"\"}}, \"marker\": {\"colorbar\": {\"outlinewidth\": 0, \"ticks\": \"\"}}, \"type\": \"scatter3d\"}], \"scattercarpet\": [{\"marker\": {\"colorbar\": {\"outlinewidth\": 0, \"ticks\": \"\"}}, \"type\": \"scattercarpet\"}], \"scattergeo\": [{\"marker\": {\"colorbar\": {\"outlinewidth\": 0, \"ticks\": \"\"}}, \"type\": \"scattergeo\"}], \"scattergl\": [{\"marker\": {\"colorbar\": {\"outlinewidth\": 0, \"ticks\": \"\"}}, \"type\": \"scattergl\"}], \"scattermapbox\": [{\"marker\": {\"colorbar\": {\"outlinewidth\": 0, \"ticks\": \"\"}}, \"type\": \"scattermapbox\"}], \"scatterpolar\": [{\"marker\": {\"colorbar\": {\"outlinewidth\": 0, \"ticks\": \"\"}}, \"type\": \"scatterpolar\"}], \"scatterpolargl\": [{\"marker\": {\"colorbar\": {\"outlinewidth\": 0, \"ticks\": \"\"}}, \"type\": \"scatterpolargl\"}], \"scatterternary\": [{\"marker\": {\"colorbar\": {\"outlinewidth\": 0, \"ticks\": \"\"}}, \"type\": \"scatterternary\"}], \"surface\": [{\"colorbar\": {\"outlinewidth\": 0, \"ticks\": \"\"}, \"colorscale\": [[0.0, \"#0d0887\"], [0.1111111111111111, \"#46039f\"], [0.2222222222222222, \"#7201a8\"], [0.3333333333333333, \"#9c179e\"], [0.4444444444444444, \"#bd3786\"], [0.5555555555555556, \"#d8576b\"], [0.6666666666666666, \"#ed7953\"], [0.7777777777777778, \"#fb9f3a\"], [0.8888888888888888, \"#fdca26\"], [1.0, \"#f0f921\"]], \"type\": \"surface\"}], \"table\": [{\"cells\": {\"fill\": {\"color\": \"#EBF0F8\"}, \"line\": {\"color\": \"white\"}}, \"header\": {\"fill\": {\"color\": \"#C8D4E3\"}, \"line\": {\"color\": \"white\"}}, \"type\": \"table\"}]}, \"layout\": {\"annotationdefaults\": {\"arrowcolor\": \"#2a3f5f\", \"arrowhead\": 0, \"arrowwidth\": 1}, \"coloraxis\": {\"colorbar\": {\"outlinewidth\": 0, \"ticks\": \"\"}}, \"colorscale\": {\"diverging\": [[0, \"#8e0152\"], [0.1, \"#c51b7d\"], [0.2, \"#de77ae\"], [0.3, \"#f1b6da\"], [0.4, \"#fde0ef\"], [0.5, \"#f7f7f7\"], [0.6, \"#e6f5d0\"], [0.7, \"#b8e186\"], [0.8, \"#7fbc41\"], [0.9, \"#4d9221\"], [1, \"#276419\"]], \"sequential\": [[0.0, \"#0d0887\"], [0.1111111111111111, \"#46039f\"], [0.2222222222222222, \"#7201a8\"], [0.3333333333333333, \"#9c179e\"], [0.4444444444444444, \"#bd3786\"], [0.5555555555555556, \"#d8576b\"], [0.6666666666666666, \"#ed7953\"], [0.7777777777777778, \"#fb9f3a\"], [0.8888888888888888, \"#fdca26\"], [1.0, \"#f0f921\"]], \"sequentialminus\": [[0.0, \"#0d0887\"], [0.1111111111111111, \"#46039f\"], [0.2222222222222222, \"#7201a8\"], [0.3333333333333333, \"#9c179e\"], [0.4444444444444444, \"#bd3786\"], [0.5555555555555556, \"#d8576b\"], [0.6666666666666666, \"#ed7953\"], [0.7777777777777778, \"#fb9f3a\"], [0.8888888888888888, \"#fdca26\"], [1.0, \"#f0f921\"]]}, \"colorway\": [\"#636efa\", \"#EF553B\", \"#00cc96\", \"#ab63fa\", \"#FFA15A\", \"#19d3f3\", \"#FF6692\", \"#B6E880\", \"#FF97FF\", \"#FECB52\"], \"font\": {\"color\": \"#2a3f5f\"}, \"geo\": {\"bgcolor\": \"white\", \"lakecolor\": \"white\", \"landcolor\": \"#E5ECF6\", \"showlakes\": true, \"showland\": true, \"subunitcolor\": \"white\"}, \"hoverlabel\": {\"align\": \"left\"}, \"hovermode\": \"closest\", \"mapbox\": {\"style\": \"light\"}, \"paper_bgcolor\": \"white\", \"plot_bgcolor\": \"#E5ECF6\", \"polar\": {\"angularaxis\": {\"gridcolor\": \"white\", \"linecolor\": \"white\", \"ticks\": \"\"}, \"bgcolor\": \"#E5ECF6\", \"radialaxis\": {\"gridcolor\": \"white\", \"linecolor\": \"white\", \"ticks\": \"\"}}, \"scene\": {\"xaxis\": {\"backgroundcolor\": \"#E5ECF6\", \"gridcolor\": \"white\", \"gridwidth\": 2, \"linecolor\": \"white\", \"showbackground\": true, \"ticks\": \"\", \"zerolinecolor\": \"white\"}, \"yaxis\": {\"backgroundcolor\": \"#E5ECF6\", \"gridcolor\": \"white\", \"gridwidth\": 2, \"linecolor\": \"white\", \"showbackground\": true, \"ticks\": \"\", \"zerolinecolor\": \"white\"}, \"zaxis\": {\"backgroundcolor\": \"#E5ECF6\", \"gridcolor\": \"white\", \"gridwidth\": 2, \"linecolor\": \"white\", \"showbackground\": true, \"ticks\": \"\", \"zerolinecolor\": \"white\"}}, \"shapedefaults\": {\"line\": {\"color\": \"#2a3f5f\"}}, \"ternary\": {\"aaxis\": {\"gridcolor\": \"white\", \"linecolor\": \"white\", \"ticks\": \"\"}, \"baxis\": {\"gridcolor\": \"white\", \"linecolor\": \"white\", \"ticks\": \"\"}, \"bgcolor\": \"#E5ECF6\", \"caxis\": {\"gridcolor\": \"white\", \"linecolor\": \"white\", \"ticks\": \"\"}}, \"title\": {\"x\": 0.05}, \"xaxis\": {\"automargin\": true, \"gridcolor\": \"white\", \"linecolor\": \"white\", \"ticks\": \"\", \"title\": {\"standoff\": 15}, \"zerolinecolor\": \"white\", \"zerolinewidth\": 2}, \"yaxis\": {\"automargin\": true, \"gridcolor\": \"white\", \"linecolor\": \"white\", \"ticks\": \"\", \"title\": {\"standoff\": 15}, \"zerolinecolor\": \"white\", \"zerolinewidth\": 2}}}, \"xaxis\": {\"anchor\": \"y\", \"domain\": [0.0, 1.0], \"title\": {\"text\": \"loudness\"}}, \"yaxis\": {\"anchor\": \"x\", \"domain\": [0.0, 1.0], \"title\": {\"text\": \"energy\"}}},                        {\"responsive\": true}                    ).then(function(){\n",
       "                            \n",
       "var gd = document.getElementById('ceb1d00c-05c5-454d-b800-17b3580cdfae');\n",
       "var x = new MutationObserver(function (mutations, observer) {{\n",
       "        var display = window.getComputedStyle(gd).display;\n",
       "        if (!display || display === 'none') {{\n",
       "            console.log([gd, 'removed!']);\n",
       "            Plotly.purge(gd);\n",
       "            observer.disconnect();\n",
       "        }}\n",
       "}});\n",
       "\n",
       "// Listen for the removal of the full notebook cells\n",
       "var notebookContainer = gd.closest('#notebook-container');\n",
       "if (notebookContainer) {{\n",
       "    x.observe(notebookContainer, {childList: true});\n",
       "}}\n",
       "\n",
       "// Listen for the clearing of the current output cell\n",
       "var outputEl = gd.closest('.output');\n",
       "if (outputEl) {{\n",
       "    x.observe(outputEl, {childList: true});\n",
       "}}\n",
       "\n",
       "                        })                };                });            </script>        </div>"
      ]
     },
     "metadata": {},
     "output_type": "display_data"
    },
    {
     "data": {
      "application/javascript": [
       "\n",
       "            setTimeout(function() {\n",
       "                var nbb_cell_id = 313;\n",
       "                var nbb_unformatted_code = \"px.scatter(\\n    df[df.only_one_genre.isin(target_genres)],\\n    x=\\\"loudness\\\",\\n    y=\\\"energy\\\",\\n    color=\\\"only_one_genre\\\",\\n    hover_data=[\\\"artist_name\\\", \\\"track_name\\\"],\\n    trendline=\\\"ols\\\",\\n)\";\n",
       "                var nbb_formatted_code = \"px.scatter(\\n    df[df.only_one_genre.isin(target_genres)],\\n    x=\\\"loudness\\\",\\n    y=\\\"energy\\\",\\n    color=\\\"only_one_genre\\\",\\n    hover_data=[\\\"artist_name\\\", \\\"track_name\\\"],\\n    trendline=\\\"ols\\\",\\n)\";\n",
       "                var nbb_cells = Jupyter.notebook.get_cells();\n",
       "                for (var i = 0; i < nbb_cells.length; ++i) {\n",
       "                    if (nbb_cells[i].input_prompt_number == nbb_cell_id) {\n",
       "                        if (nbb_cells[i].get_text() == nbb_unformatted_code) {\n",
       "                             nbb_cells[i].set_text(nbb_formatted_code);\n",
       "                        }\n",
       "                        break;\n",
       "                    }\n",
       "                }\n",
       "            }, 500);\n",
       "            "
      ],
      "text/plain": [
       "<IPython.core.display.Javascript object>"
      ]
     },
     "metadata": {},
     "output_type": "display_data"
    }
   ],
   "source": [
    "px.scatter(\n",
    "    df[df.only_one_genre.isin(target_genres)],\n",
    "    x=\"loudness\",\n",
    "    y=\"energy\",\n",
    "    color=\"only_one_genre\",\n",
    "    hover_data=[\"artist_name\", \"track_name\"],\n",
    "    trendline=\"ols\",\n",
    ")"
   ]
  },
  {
   "cell_type": "markdown",
   "metadata": {},
   "source": [
    "### Sunburst"
   ]
  },
  {
   "cell_type": "code",
   "execution_count": 168,
   "metadata": {},
   "outputs": [
    {
     "data": {
      "text/html": [
       "<div>\n",
       "<style scoped>\n",
       "    .dataframe tbody tr th:only-of-type {\n",
       "        vertical-align: middle;\n",
       "    }\n",
       "\n",
       "    .dataframe tbody tr th {\n",
       "        vertical-align: top;\n",
       "    }\n",
       "\n",
       "    .dataframe thead th {\n",
       "        text-align: right;\n",
       "    }\n",
       "</style>\n",
       "<table border=\"1\" class=\"dataframe\">\n",
       "  <thead>\n",
       "    <tr style=\"text-align: right;\">\n",
       "      <th></th>\n",
       "      <th>artist_name</th>\n",
       "      <th>track_name</th>\n",
       "      <th>only_one_genre</th>\n",
       "      <th>track_popularity</th>\n",
       "      <th>count</th>\n",
       "    </tr>\n",
       "  </thead>\n",
       "  <tbody>\n",
       "    <tr>\n",
       "      <th>1604</th>\n",
       "      <td>Adele</td>\n",
       "      <td>Hello</td>\n",
       "      <td>pop</td>\n",
       "      <td>75</td>\n",
       "      <td>1</td>\n",
       "    </tr>\n",
       "    <tr>\n",
       "      <th>1275</th>\n",
       "      <td>Adele</td>\n",
       "      <td>Rumour Has It</td>\n",
       "      <td>pop</td>\n",
       "      <td>69</td>\n",
       "      <td>1</td>\n",
       "    </tr>\n",
       "    <tr>\n",
       "      <th>1649</th>\n",
       "      <td>Adele</td>\n",
       "      <td>When We Were Young</td>\n",
       "      <td>pop</td>\n",
       "      <td>76</td>\n",
       "      <td>1</td>\n",
       "    </tr>\n",
       "    <tr>\n",
       "      <th>1655</th>\n",
       "      <td>Adele</td>\n",
       "      <td>Send My Love (To Your New Lover)</td>\n",
       "      <td>pop</td>\n",
       "      <td>76</td>\n",
       "      <td>1</td>\n",
       "    </tr>\n",
       "    <tr>\n",
       "      <th>1567</th>\n",
       "      <td>Adele</td>\n",
       "      <td>Hello</td>\n",
       "      <td>pop</td>\n",
       "      <td>75</td>\n",
       "      <td>1</td>\n",
       "    </tr>\n",
       "  </tbody>\n",
       "</table>\n",
       "</div>"
      ],
      "text/plain": [
       "     artist_name                        track_name only_one_genre  \\\n",
       "1604       Adele                             Hello            pop   \n",
       "1275       Adele                     Rumour Has It            pop   \n",
       "1649       Adele                When We Were Young            pop   \n",
       "1655       Adele  Send My Love (To Your New Lover)            pop   \n",
       "1567       Adele                             Hello            pop   \n",
       "\n",
       "      track_popularity  count  \n",
       "1604                75      1  \n",
       "1275                69      1  \n",
       "1649                76      1  \n",
       "1655                76      1  \n",
       "1567                75      1  "
      ]
     },
     "execution_count": 168,
     "metadata": {},
     "output_type": "execute_result"
    },
    {
     "data": {
      "application/javascript": [
       "\n",
       "            setTimeout(function() {\n",
       "                var nbb_cell_id = 168;\n",
       "                var nbb_unformatted_code = \"# \\u0441reate playlist for top 25 artist by their songs count and genre\\ntarget_artists = df.artist_name.value_counts().index[:25]\\nsdf = df[[\\\"artist_name\\\", \\\"track_name\\\", \\\"only_one_genre\\\", \\\"track_popularity\\\"]][\\n    df.artist_name.isin(target_artists)\\n].sort_values(by=\\\"artist_name\\\")\\nsdf[\\\"count\\\"] = 1\\nsdf.head()\";\n",
       "                var nbb_formatted_code = \"# \\u0441reate playlist for top 25 artist by their songs count and genre\\ntarget_artists = df.artist_name.value_counts().index[:25]\\nsdf = df[[\\\"artist_name\\\", \\\"track_name\\\", \\\"only_one_genre\\\", \\\"track_popularity\\\"]][\\n    df.artist_name.isin(target_artists)\\n].sort_values(by=\\\"artist_name\\\")\\nsdf[\\\"count\\\"] = 1\\nsdf.head()\";\n",
       "                var nbb_cells = Jupyter.notebook.get_cells();\n",
       "                for (var i = 0; i < nbb_cells.length; ++i) {\n",
       "                    if (nbb_cells[i].input_prompt_number == nbb_cell_id) {\n",
       "                        if (nbb_cells[i].get_text() == nbb_unformatted_code) {\n",
       "                             nbb_cells[i].set_text(nbb_formatted_code);\n",
       "                        }\n",
       "                        break;\n",
       "                    }\n",
       "                }\n",
       "            }, 500);\n",
       "            "
      ],
      "text/plain": [
       "<IPython.core.display.Javascript object>"
      ]
     },
     "metadata": {},
     "output_type": "display_data"
    }
   ],
   "source": [
    "# сreate playlist for top 25 artist by their songs count and genre\n",
    "target_artists = df.artist_name.value_counts().index[:25]\n",
    "sdf = df[[\"artist_name\", \"track_name\", \"only_one_genre\", \"track_popularity\"]][\n",
    "    df.artist_name.isin(target_artists)\n",
    "].sort_values(by=\"artist_name\")\n",
    "sdf[\"count\"] = 1\n",
    "sdf.head()"
   ]
  },
  {
   "cell_type": "code",
   "execution_count": 165,
   "metadata": {},
   "outputs": [
    {
     "data": {
      "application/vnd.plotly.v1+json": {
       "config": {
        "plotlyServerURL": "https://plot.ly"
       },
       "data": [
        {
         "branchvalues": "total",
         "domain": {
          "x": [
           0,
           1
          ],
          "y": [
           0,
           1
          ]
         },
         "hovertemplate": "labels=%{label}<br>count=%{value}<br>parent=%{parent}<br>id=%{id}<extra></extra>",
         "ids": [
          "pop/Taylor Swift/...Ready For It?",
          "pop/BeyoncÃ©/11-Jul",
          "pop/Taylor Swift/22",
          "pop/Bruno Mars/24K Magic",
          "pop/Ariana Grande/34+35",
          "pop/Ariana Grande/34+35 Remix (feat. Doja Cat, Megan Thee Stallion) - Remix",
          "pop/Coldplay/A Sky Full of Stars",
          "pop/BeyoncÃ©/ALIEN SUPERSTAR",
          "pop/Calvin Harris/Acceptable in the 80's",
          "pop/Coldplay/Adventure of a Lifetime",
          "pop/The Weeknd/After Hours",
          "pop/Ed Sheeran/Afterglow",
          "rap/Kanye West/All Of The Lights",
          "pop/Taylor Swift/All Too Well (10 Minute Version) (Taylor's Version) (From The Vault)",
          "pop/Maroon 5/Animals",
          "pop/Taylor Swift/Anti-Hero",
          "pop/Justin Bieber/Anyone",
          "pop/Justin Bieber/As I Am (feat. Khalid)",
          "pop/Justin Bieber/As Long As You Love Me",
          "rap/Eminem/Ass Like That",
          "rap/Chris Brown/Ayo",
          "pop/BeyoncÃ©/BREAK MY SOUL",
          "pop/Justin Bieber/Baby",
          "pop/BeyoncÃ©/Baby Boy (feat. Sean Paul)",
          "pop/Taylor Swift/Back To December",
          "pop/Taylor Swift/Bad Blood",
          "pop/Ed Sheeran/Bad Habits",
          "pop/BeyoncÃ©/Beautiful Liar",
          "pop/Maroon 5/Beautiful Mistakes (feat. Megan Thee Stallion)",
          "rap/Chris Brown/Beautiful People",
          "pop/Justin Bieber/Beauty And A Beat",
          "rap/Eminem/Berzerk",
          "rap/Drake/Best I Ever Had",
          "pop/BeyoncÃ©/Best Thing I Never Had",
          "pop/Post Malone/Better Now",
          "rap/Kanye West/Black Skinhead",
          "pop/Calvin Harris/Blame (feat. John Newman)",
          "pop/The Weeknd/Blinding Lights",
          "pop/P!nk/Blow Me (One Last Kiss)",
          "pop/Black Eyed Peas/Boom Boom Pow",
          "pop/Billie Eilish/Bored",
          "pop/Britney Spears/Born to Make You Happy",
          "pop/Calvin Harris/Bounce (feat. Kelis) - Radio Edit",
          "pop/Justin Bieber/Boyfriend",
          "pop/Ariana Grande/Break Free",
          "pop/Britney Spears/Break the Ice",
          "pop/BeyoncÃ©/CUFF IT",
          "pop/Katy Perry/California Gurls",
          "pop/The Weeknd/Can't Feel My Face",
          "rap/Kanye West/Can't Tell Me Nothing",
          "pop/Ed Sheeran/Castle on the Hill",
          "pop/USHER/Caught Up",
          "pop/Katy Perry/Chained To The Rhythm",
          "pop/Adele/Chasing Pavements",
          "pop/BeyoncÃ©/Check On It (feat. Bun B & Slim Thug)",
          "pop/Post Malone/Circles",
          "rap/Eminem/Cleanin' Out My Closet",
          "pop/Coldplay/Clocks",
          "pop/USHER/Confessions Part II",
          "pop/Post Malone/Congratulations",
          "rap/Drake/Controlla",
          "pop/BeyoncÃ©/Crazy In Love (feat. Jay-Z)",
          "pop/Taylor Swift/Cruel Summer",
          "pop/USHER/DJ Got Us Fallin' In Love (feat. Pitbull)",
          "pop/Ariana Grande/Dangerous Woman",
          "pop/Katy Perry/Dark Horse",
          "pop/Maroon 5/Daylight",
          "pop/BeyoncÃ©/Deja Vu (feat. Jay-Z)",
          "pop/Taylor Swift/Delicate",
          "rap/Chris Brown/Deuces (feat. Tyga & Kevin McCall)",
          "pop/Rihanna/Diamonds",
          "rap/Kanye West/Diamonds From Sierra Leone - Remix",
          "pop/Rihanna/Disturbia",
          "pop/Ed Sheeran/Don't",
          "pop/P!nk/Don't Let Me Get Me - Radio Edit",
          "pop/Black Eyed Peas/Don't Phunk With My Heart",
          "pop/Rihanna/Don't Stop The Music",
          "pop/Jason Derulo/Don't Wanna Go Home",
          "pop/Maroon 5/Don't Wanna Know (feat. Kendrick Lamar)",
          "pop/Calvin Harris/Drinking from the Bottle (feat. Tinie Tempah)",
          "pop/BeyoncÃ©/Drunk in Love (feat. Jay-Z)",
          "pop/Katy Perry/E.T.",
          "pop/The Weeknd/Earned It (Fifty Shades Of Grey) - From The \"Fifty Shades Of Grey\" Soundtrack",
          "pop/Adele/Easy On Me",
          "pop/Coldplay/Every Teardrop Is a Waterfall",
          "pop/Taylor Swift/Everything Has Changed",
          "pop/Britney Spears/Everytime",
          "pop/P!nk/F**kin' Perfect",
          "rap/Drake/Fair Trade (with Travis Scott)",
          "rap/Drake/Fake Love",
          "rap/Drake/Falling Back",
          "pop/Calvin Harris/Feel So Close - Radio Edit",
          "pop/Calvin Harris/Feels (feat. Pharrell Williams, Katy Perry & Big Sean)",
          "rap/Drake/Find Your Love",
          "rap/Chris Brown/Fine China",
          "pop/Bruno Mars/Finesse - Remix; feat. Cardi B",
          "pop/Katy Perry/Firework",
          "pop/Coldplay/Fix You",
          "rap/Kanye West/Flashing Lights",
          "rap/Chris Brown/Forever",
          "rap/Drake/Forever",
          "pop/Rihanna/FourFiveSeconds",
          "pop/Justin Bieber/Friends (with BloodPopÂ®)",
          "pop/Black Eyed Peas/GIRL LIKE ME",
          "pop/Ed Sheeran/Galway Girl",
          "pop/P!nk/Get the Party Started",
          "pop/Justin Bieber/Ghost",
          "pop/Calvin Harris/Giant (with Rag'n'Bone Man)",
          "pop/Britney Spears/Gimme More",
          "rap/Chris Brown/Gimme That",
          "pop/Maroon 5/Girls Like You (feat. Cardi B) - Cardi B Version",
          "rap/Drake/Girls Want Girls (with Lil Baby)",
          "rap/Chris Brown/Go Crazy",
          "pop/Ariana Grande/God is a woman",
          "rap/Drake/God's Plan",
          "rap/Eminem/Godzilla (feat. Juice WRLD)",
          "rap/Kanye West/Gold Digger",
          "rap/Kanye West/Good Life",
          "pop/Post Malone/Goodbyes (feat. Young Thug)",
          "pop/Bruno Mars/Grenade",
          "pop/BeyoncÃ©/Halo",
          "pop/Ed Sheeran/Happier",
          "pop/Billie Eilish/Happier Than Ever",
          "pop/Rihanna/Hate That I Love You",
          "rap/Drake/Headlines",
          "rap/Kanye West/Heartless",
          "pop/Adele/Hello",
          "pop/USHER/Hey Daddy (Daddy's Home)",
          "pop/Black Eyed Peas/Hey Mama",
          "pop/Justin Bieber/Hold On",
          "rap/Drake/Hold On, We're Going Home",
          "pop/Justin Bieber/Holy (feat. Chance The Rapper)",
          "rap/Kanye West/Homecoming",
          "pop/Justin Bieber/Honest (feat. Don Toliver)",
          "pop/Katy Perry/Hot N Cold",
          "rap/Drake/Hotline Bling",
          "pop/Calvin Harris/How Deep Is Your Love",
          "rap/Kanye West/Hurricane",
          "pop/Coldplay/Hymn for the Weekend",
          "pop/USHER/I Don't Mind (feat. Juicy J)",
          "pop/Post Malone/I Fall Apart",
          "pop/The Weeknd/I Feel It Coming",
          "pop/Black Eyed Peas/I Gotta Feeling",
          "pop/Katy Perry/I Kissed A Girl",
          "pop/Taylor Swift/I Knew You Were Trouble.",
          "pop/Shawn Mendes/I Know What You Did Last Summer",
          "pop/Post Malone/I Like You (A Happier Song) (with Doja Cat)",
          "pop/Calvin Harris/I Need Your Love (feat. Ellie Goulding)",
          "pop/Ed Sheeran/I See Fire",
          "pop/Britney Spears/I Wanna Go",
          "pop/Calvin Harris/I'm Not Alone - Radio Edit",
          "pop/Britney Spears/I'm Not a Girl, Not Yet a Woman",
          "rap/Drake/I'm Upset",
          "pop/Britney Spears/I'm a Slave 4 U",
          "pop/Shawn Mendes/If I Can't Have You",
          "pop/BeyoncÃ©/If I Were a Boy",
          "pop/Britney Spears/If U Seek Amy",
          "pop/Black Eyed Peas/Imma Be",
          "pop/Shawn Mendes/In My Blood",
          "rap/Drake/In My Feelings",
          "pop/Jason Derulo/In My Head",
          "pop/Coldplay/In My Place",
          "pop/The Weeknd/In The Night",
          "pop/The Weeknd/In Your Eyes",
          "pop/Justin Bieber/Intentions (feat. Quavo)",
          "pop/Ariana Grande/Into You",
          "pop/BeyoncÃ©/Irreplaceable",
          "pop/Jason Derulo/It Girl",
          "pop/Bruno Mars/It Will Rain",
          "pop/Shawn Mendes/It'll Be Okay",
          "rap/Kanye West/Jesus Walks",
          "rap/Drake/Jimmy Cooks (feat. 21 Savage)",
          "rap/Drake/Jumpman",
          "pop/Black Eyed Peas/Just Canâ€™t Get Enough",
          "pop/P!nk/Just Give Me a Reason (feat. Nate Ruess)",
          "pop/P!nk/Just Like Fire (From the Original Motion Picture \"Alice Through The Looking Glass\")",
          "pop/P!nk/Just Like a Pill",
          "rap/Eminem/Just Lose It",
          "pop/Bruno Mars/Just the Way You Are",
          "rap/Chris Brown/Kiss Kiss (feat. T-Pain)",
          "pop/Katy Perry/Last Friday Night (T.G.I.F.)",
          "rap/Drake/Laugh Now Cry Later (feat. Lil Durk)",
          "pop/Taylor Swift/Lavender Haze",
          "pop/Bruno Mars/Leave The Door Open",
          "pop/Ed Sheeran/Lego House",
          "pop/Black Eyed Peas/Let's Get It Started - Spike Mix",
          "pop/Calvin Harris/Let's Go (feat. Ne-Yo)",
          "pop/Rihanna/Lift Me Up - From Black Panther: Wakanda Forever - Music From and Inspired By",
          "rap/Eminem/Like Toy Soldiers",
          "pop/Bruno Mars/Locked out of Heaven",
          "pop/Justin Bieber/Lonely (with benny blanco)",
          "rap/Chris Brown/Look At Me Now (feat. Lil' Wayne & Busta Rhymes)",
          "pop/Taylor Swift/Look What You Made Me Do",
          "pop/Billie Eilish/Lost Cause",
          "rap/Kanye West/Love Lockdown",
          "pop/Ariana Grande/Love Me Harder",
          "pop/Rihanna/Love On The Brain",
          "pop/BeyoncÃ©/Love On Top",
          "pop/Taylor Swift/Love Story",
          "pop/Taylor Swift/Love Story (Taylorâ€™s Version)",
          "rap/Eminem/Love The Way You Lie",
          "pop/Justin Bieber/Love Yourself",
          "pop/USHER/Love in This Club (feat. Young Jeezy)",
          "pop/Taylor Swift/Lover",
          "rap/Chris Brown/Loyal (feat. Lil Wayne & Tyga)",
          "pop/Britney Spears/Lucky",
          "pop/Black Eyed Peas/MAMACITA",
          "pop/Coldplay/Magic",
          "pop/Maroon 5/Makes Me Wonder",
          "pop/Rihanna/Man Down",
          "pop/Maroon 5/Maps",
          "pop/Bruno Mars/Marry You",
          "rap/Drake/Massive",
          "pop/BeyoncÃ©/Me, Myself and I",
          "pop/Black Eyed Peas/Meet Me Halfway",
          "pop/Maroon 5/Memories",
          "rap/Kanye West/Mercy",
          "pop/Shawn Mendes/Mercy",
          "pop/Taylor Swift/Midnight Rain",
          "pop/Taylor Swift/Mine",
          "pop/Maroon 5/Misery",
          "rap/Eminem/Mockingbird",
          "rap/Drake/Money In The Grave (Drake ft. Rick Ross)",
          "pop/Shawn Mendes/Monster (Shawn Mendes & Justin Bieber)",
          "pop/USHER/More - RedOne Jimmy Joker Remix",
          "pop/P!nk/Most Girls",
          "pop/Post Malone/Motley Crew",
          "pop/Maroon 5/Moves Like Jagger - Studio Recording From \"The Voice\" Performance",
          "pop/USHER/My Boo",
          "pop/Black Eyed Peas/My Humps",
          "pop/Coldplay/My Universe",
          "pop/Calvin Harris/My Way",
          "pop/BeyoncÃ©/Naughty Girl",
          "pop/Rihanna/Needed Me",
          "pop/Katy Perry/Never Really Over",
          "rap/Drake/Nice For What",
          "rap/Drake/Nonstop",
          "rap/Eminem/Not Afraid",
          "pop/USHER/OMG (feat. will.i.am)",
          "pop/Adele/Oh My God",
          "rap/Drake/One Dance",
          "pop/Calvin Harris/One Kiss (with Dua Lipa)",
          "pop/Ariana Grande/One Last Time",
          "pop/Post Malone/One Right Now (with The Weeknd)",
          "pop/Justin Bieber/One Time",
          "pop/Rihanna/Only Girl (In The World)",
          "pop/The Weeknd/Out of Time",
          "pop/Calvin Harris/Outside (feat. Ellie Goulding)",
          "rap/Drake/Over",
          "pop/Britney Spears/Overprotected - Radio Edit",
          "pop/Coldplay/Paradise",
          "pop/Katy Perry/Part Of Me",
          "rap/Drake/Passionfruit",
          "pop/Maroon 5/Payphone",
          "pop/Justin Bieber/Peaches (feat. Daniel Caesar & Giveon)",
          "pop/Ed Sheeran/Perfect",
          "pop/Ed Sheeran/Photograph",
          "pop/Britney Spears/Piece of Me",
          "pop/P!nk/Please Don't Leave Me",
          "pop/Rihanna/Pon de Replay",
          "rap/Kanye West/Praise God",
          "pop/Coldplay/Princess of China",
          "pop/Ariana Grande/Problem",
          "pop/Post Malone/Psycho (feat. Ty Dolla $ign)",
          "pop/Black Eyed Peas/Pump It",
          "pop/Black Eyed Peas/RITMO (Bad Boys For Life)",
          "pop/P!nk/Raise Your Glass",
          "pop/Katy Perry/Roar",
          "pop/Adele/Rolling in the Deep",
          "pop/Rihanna/Rude Boy",
          "pop/Adele/Rumour Has It",
          "rap/Chris Brown/Run It! (feat. Juelz Santana)",
          "pop/Rihanna/Russian Roulette",
          "pop/Rihanna/S&M",
          "pop/BeyoncÃ©/SUMMER RENAISSANCE",
          "pop/The Weeknd/Sacrifice",
          "pop/The Weeknd/Save Your Tears",
          "pop/The Weeknd/Save Your Tears (Remix) (with Ariana Grande) - Bonus Track",
          "pop/The Weeknd/Save Your Tears (with Ariana Grande) (Remix)",
          "pop/USHER/Scream",
          "pop/Adele/Send My Love (To Your New Lover)",
          "pop/Adele/Set Fire to the Rain",
          "pop/Shawn Mendes/SeÃ±orita",
          "pop/Taylor Swift/Shake It Off",
          "rap/Eminem/Shake That",
          "pop/Ed Sheeran/Shape of You",
          "pop/Maroon 5/She Will Be Loved",
          "pop/Ed Sheeran/Shivers",
          "pop/Black Eyed Peas/Shut Up",
          "pop/Rihanna/Shut Up And Drive",
          "pop/Ariana Grande/Side To Side",
          "pop/Ed Sheeran/Sing",
          "rap/Eminem/Sing For The Moment",
          "pop/BeyoncÃ©/Single Ladies (Put a Ring on It)",
          "pop/Bruno Mars/Skate",
          "pop/Adele/Skyfall",
          "pop/Calvin Harris/Slide (feat. Frank Ocean & Migos)",
          "pop/Taylor Swift/Snow On The Beach (feat. Lana Del Rey)",
          "pop/P!nk/So What",
          "pop/P!nk/Sober",
          "pop/BeyoncÃ©/Sorry",
          "pop/Justin Bieber/Sorry",
          "pop/Coldplay/Speed of Sound",
          "rap/Eminem/Stan",
          "pop/The Weeknd/Starboy",
          "rap/Drake/Started From the Bottom",
          "pop/Rihanna/Stay",
          "pop/Shawn Mendes/Stitches",
          "rap/Kanye West/Stronger",
          "pop/Ariana Grande/Stuck with U (with Justin Bieber)",
          "pop/P!nk/Stupid Girls",
          "pop/Taylor Swift/Style",
          "pop/Maroon 5/Sugar",
          "pop/Calvin Harris/Summer",
          "pop/Shawn Mendes/Summer of Love (Shawn Mendes & Tainy)",
          "pop/Post Malone/Sunflower - Spider-Man: Into the Spider-Verse",
          "pop/BeyoncÃ©/Sweet Dreams",
          "pop/Calvin Harris/Sweet Nothing (feat. Florence Welch)",
          "pop/Billie Eilish/TV",
          "pop/Rihanna/Take A Bow",
          "rap/Drake/Take Care",
          "pop/Ed Sheeran/Take Me Back to London (feat. Stormzy)",
          "pop/Jason Derulo/Take You Dancing",
          "pop/Jason Derulo/Talk Dirty (feat. 2 Chainz)",
          "pop/Bruno Mars/Talking to the Moon",
          "pop/Rihanna/Te Amo",
          "pop/Katy Perry/Teenage Dream",
          "pop/Bruno Mars/That's What I Like",
          "pop/Ed Sheeran/The A Team",
          "pop/The Weeknd/The Hills",
          "pop/Ed Sheeran/The Joker And The Queen (feat. Taylor Swift)",
          "pop/Bruno Mars/The Lazy Song",
          "rap/Eminem/The Monster",
          "rap/Drake/The Motto",
          "pop/Katy Perry/The One That Got Away",
          "pop/Jason Derulo/The Other Side",
          "rap/Eminem/The Real Slim Shady",
          "pop/Coldplay/The Scientist",
          "pop/Black Eyed Peas/The Time (Dirty Bit)",
          "pop/Ariana Grande/The Way",
          "pop/P!nk/There You Go",
          "pop/Shawn Mendes/There's Nothing Holdin' Me Back",
          "pop/Billie Eilish/Therefore I Am",
          "pop/Calvin Harris/Thinking About You (feat. Ayah Marar)",
          "pop/Ed Sheeran/Thinking out Loud",
          "pop/Katy Perry/This Is How We Do",
          "pop/Calvin Harris/This Is What You Came For",
          "pop/Maroon 5/This Love",
          "rap/Kanye West/Through The Wire",
          "rap/Eminem/Till I Collapse",
          "pop/Britney Spears/Till the World Ends",
          "pop/Taylor Swift/Today Was A Fairytale",
          "rap/Drake/Too Good",
          "rap/Drake/Toosie Slide",
          "rap/Kanye West/Touch The Sky",
          "pop/Britney Spears/Toxic",
          "pop/Bruno Mars/Treasure",
          "pop/Shawn Mendes/Treat You Better",
          "pop/P!nk/True Love (feat. Lily Allen)",
          "pop/Jason Derulo/Trumpets",
          "pop/P!nk/Try",
          "rap/Chris Brown/Turn Up the Music",
          "pop/P!nk/U + Ur Hand",
          "pop/USHER/U Don't Have to Call",
          "pop/USHER/U Got It Bad",
          "pop/USHER/U Remind Me",
          "pop/Rihanna/Umbrella",
          "pop/Katy Perry/Unconditionally",
          "pop/Calvin Harris/Under Control (feat. Hurts)",
          "rap/Chris Brown/Under The Influence",
          "pop/Rihanna/Unfaithful",
          "pop/Coldplay/Violet Hill",
          "pop/Coldplay/Viva La Vida",
          "pop/Katy Perry/Waking Up In Vegas",
          "pop/Jason Derulo/Want to Want Me",
          "pop/Adele/Water Under the Bridge",
          "pop/Taylor Swift/We Are Never Ever Getting Back Together",
          "pop/Rihanna/We Found Love",
          "rap/Eminem/We Made You",
          "pop/Calvin Harris/We'll Be Coming Back (feat. Example)",
          "pop/P!nk/What About Us",
          "pop/Justin Bieber/What Do You Mean?",
          "pop/Rihanna/What's My Name?",
          "pop/Jason Derulo/Whatcha Say",
          "rap/Drake/Whatâ€™s Next",
          "pop/Bruno Mars/When I Was Your Man",
          "rap/Eminem/When I'm Gone",
          "pop/Adele/When We Were Young",
          "pop/Shawn Mendes/When You're Gone",
          "pop/Rihanna/Where Have You Been",
          "pop/Black Eyed Peas/Where Is The Love?",
          "pop/Post Malone/White Iverson",
          "pop/P!nk/Who Knew",
          "pop/Katy Perry/Wide Awake",
          "pop/Jason Derulo/Wiggle (feat. Snoop Dogg)",
          "pop/Taylor Swift/Wildest Dreams",
          "rap/Chris Brown/With You",
          "rap/Eminem/Without Me",
          "pop/Britney Spears/Womanizer",
          "pop/Shawn Mendes/Wonder",
          "pop/Rihanna/Work",
          "pop/Britney Spears/Work Bitch",
          "pop/Post Malone/Wow.",
          "pop/BeyoncÃ©/XO",
          "pop/USHER/Yeah! (feat. Lil Jon & Ludacris)",
          "pop/Coldplay/Yellow",
          "rap/Chris Brown/Yo (Excuse Me Miss)",
          "pop/Taylor Swift/You Belong With Me",
          "pop/Taylor Swift/You Need To Calm Down",
          "pop/Billie Eilish/Your Power",
          "pop/Justin Bieber/Yummy",
          "pop/Taylor Swift/august",
          "pop/Billie Eilish/bad guy",
          "pop/Ariana Grande/boyfriend (with Social House)",
          "pop/Ariana Grande/break up with your girlfriend, i'm bored",
          "pop/Billie Eilish/bury a friend",
          "pop/Taylor Swift/cardigan",
          "pop/Billie Eilish/everything i wanted",
          "pop/Billie Eilish/lovely (with Khalid)",
          "pop/Billie Eilish/my future",
          "pop/Ariana Grande/no tears left to cry",
          "pop/Ariana Grande/positions",
          "pop/Ariana Grande/pov",
          "pop/Post Malone/rockstar (feat. 21 Savage)",
          "pop/Ariana Grande/test drive",
          "pop/Ariana Grande/thank u, next",
          "pop/Billie Eilish/when the party's over",
          "pop/Taylor Swift/willow",
          "pop/Adele",
          "pop/Ariana Grande",
          "pop/BeyoncÃ©",
          "pop/Billie Eilish",
          "pop/Black Eyed Peas",
          "pop/Britney Spears",
          "pop/Bruno Mars",
          "pop/Calvin Harris",
          "rap/Chris Brown",
          "pop/Coldplay",
          "rap/Drake",
          "pop/Ed Sheeran",
          "rap/Eminem",
          "pop/Jason Derulo",
          "pop/Justin Bieber",
          "rap/Kanye West",
          "pop/Katy Perry",
          "pop/Maroon 5",
          "pop/P!nk",
          "pop/Post Malone",
          "pop/Rihanna",
          "pop/Shawn Mendes",
          "pop/Taylor Swift",
          "pop/The Weeknd",
          "pop/USHER",
          "pop",
          "rap"
         ],
         "labels": [
          "...Ready For It?",
          "11-Jul",
          "22",
          "24K Magic",
          "34+35",
          "34+35 Remix (feat. Doja Cat, Megan Thee Stallion) - Remix",
          "A Sky Full of Stars",
          "ALIEN SUPERSTAR",
          "Acceptable in the 80's",
          "Adventure of a Lifetime",
          "After Hours",
          "Afterglow",
          "All Of The Lights",
          "All Too Well (10 Minute Version) (Taylor's Version) (From The Vault)",
          "Animals",
          "Anti-Hero",
          "Anyone",
          "As I Am (feat. Khalid)",
          "As Long As You Love Me",
          "Ass Like That",
          "Ayo",
          "BREAK MY SOUL",
          "Baby",
          "Baby Boy (feat. Sean Paul)",
          "Back To December",
          "Bad Blood",
          "Bad Habits",
          "Beautiful Liar",
          "Beautiful Mistakes (feat. Megan Thee Stallion)",
          "Beautiful People",
          "Beauty And A Beat",
          "Berzerk",
          "Best I Ever Had",
          "Best Thing I Never Had",
          "Better Now",
          "Black Skinhead",
          "Blame (feat. John Newman)",
          "Blinding Lights",
          "Blow Me (One Last Kiss)",
          "Boom Boom Pow",
          "Bored",
          "Born to Make You Happy",
          "Bounce (feat. Kelis) - Radio Edit",
          "Boyfriend",
          "Break Free",
          "Break the Ice",
          "CUFF IT",
          "California Gurls",
          "Can't Feel My Face",
          "Can't Tell Me Nothing",
          "Castle on the Hill",
          "Caught Up",
          "Chained To The Rhythm",
          "Chasing Pavements",
          "Check On It (feat. Bun B & Slim Thug)",
          "Circles",
          "Cleanin' Out My Closet",
          "Clocks",
          "Confessions Part II",
          "Congratulations",
          "Controlla",
          "Crazy In Love (feat. Jay-Z)",
          "Cruel Summer",
          "DJ Got Us Fallin' In Love (feat. Pitbull)",
          "Dangerous Woman",
          "Dark Horse",
          "Daylight",
          "Deja Vu (feat. Jay-Z)",
          "Delicate",
          "Deuces (feat. Tyga & Kevin McCall)",
          "Diamonds",
          "Diamonds From Sierra Leone - Remix",
          "Disturbia",
          "Don't",
          "Don't Let Me Get Me - Radio Edit",
          "Don't Phunk With My Heart",
          "Don't Stop The Music",
          "Don't Wanna Go Home",
          "Don't Wanna Know (feat. Kendrick Lamar)",
          "Drinking from the Bottle (feat. Tinie Tempah)",
          "Drunk in Love (feat. Jay-Z)",
          "E.T.",
          "Earned It (Fifty Shades Of Grey) - From The \"Fifty Shades Of Grey\" Soundtrack",
          "Easy On Me",
          "Every Teardrop Is a Waterfall",
          "Everything Has Changed",
          "Everytime",
          "F**kin' Perfect",
          "Fair Trade (with Travis Scott)",
          "Fake Love",
          "Falling Back",
          "Feel So Close - Radio Edit",
          "Feels (feat. Pharrell Williams, Katy Perry & Big Sean)",
          "Find Your Love",
          "Fine China",
          "Finesse - Remix; feat. Cardi B",
          "Firework",
          "Fix You",
          "Flashing Lights",
          "Forever",
          "Forever",
          "FourFiveSeconds",
          "Friends (with BloodPopÂ®)",
          "GIRL LIKE ME",
          "Galway Girl",
          "Get the Party Started",
          "Ghost",
          "Giant (with Rag'n'Bone Man)",
          "Gimme More",
          "Gimme That",
          "Girls Like You (feat. Cardi B) - Cardi B Version",
          "Girls Want Girls (with Lil Baby)",
          "Go Crazy",
          "God is a woman",
          "God's Plan",
          "Godzilla (feat. Juice WRLD)",
          "Gold Digger",
          "Good Life",
          "Goodbyes (feat. Young Thug)",
          "Grenade",
          "Halo",
          "Happier",
          "Happier Than Ever",
          "Hate That I Love You",
          "Headlines",
          "Heartless",
          "Hello",
          "Hey Daddy (Daddy's Home)",
          "Hey Mama",
          "Hold On",
          "Hold On, We're Going Home",
          "Holy (feat. Chance The Rapper)",
          "Homecoming",
          "Honest (feat. Don Toliver)",
          "Hot N Cold",
          "Hotline Bling",
          "How Deep Is Your Love",
          "Hurricane",
          "Hymn for the Weekend",
          "I Don't Mind (feat. Juicy J)",
          "I Fall Apart",
          "I Feel It Coming",
          "I Gotta Feeling",
          "I Kissed A Girl",
          "I Knew You Were Trouble.",
          "I Know What You Did Last Summer",
          "I Like You (A Happier Song) (with Doja Cat)",
          "I Need Your Love (feat. Ellie Goulding)",
          "I See Fire",
          "I Wanna Go",
          "I'm Not Alone - Radio Edit",
          "I'm Not a Girl, Not Yet a Woman",
          "I'm Upset",
          "I'm a Slave 4 U",
          "If I Can't Have You",
          "If I Were a Boy",
          "If U Seek Amy",
          "Imma Be",
          "In My Blood",
          "In My Feelings",
          "In My Head",
          "In My Place",
          "In The Night",
          "In Your Eyes",
          "Intentions (feat. Quavo)",
          "Into You",
          "Irreplaceable",
          "It Girl",
          "It Will Rain",
          "It'll Be Okay",
          "Jesus Walks",
          "Jimmy Cooks (feat. 21 Savage)",
          "Jumpman",
          "Just Canâ€™t Get Enough",
          "Just Give Me a Reason (feat. Nate Ruess)",
          "Just Like Fire (From the Original Motion Picture \"Alice Through The Looking Glass\")",
          "Just Like a Pill",
          "Just Lose It",
          "Just the Way You Are",
          "Kiss Kiss (feat. T-Pain)",
          "Last Friday Night (T.G.I.F.)",
          "Laugh Now Cry Later (feat. Lil Durk)",
          "Lavender Haze",
          "Leave The Door Open",
          "Lego House",
          "Let's Get It Started - Spike Mix",
          "Let's Go (feat. Ne-Yo)",
          "Lift Me Up - From Black Panther: Wakanda Forever - Music From and Inspired By",
          "Like Toy Soldiers",
          "Locked out of Heaven",
          "Lonely (with benny blanco)",
          "Look At Me Now (feat. Lil' Wayne & Busta Rhymes)",
          "Look What You Made Me Do",
          "Lost Cause",
          "Love Lockdown",
          "Love Me Harder",
          "Love On The Brain",
          "Love On Top",
          "Love Story",
          "Love Story (Taylorâ€™s Version)",
          "Love The Way You Lie",
          "Love Yourself",
          "Love in This Club (feat. Young Jeezy)",
          "Lover",
          "Loyal (feat. Lil Wayne & Tyga)",
          "Lucky",
          "MAMACITA",
          "Magic",
          "Makes Me Wonder",
          "Man Down",
          "Maps",
          "Marry You",
          "Massive",
          "Me, Myself and I",
          "Meet Me Halfway",
          "Memories",
          "Mercy",
          "Mercy",
          "Midnight Rain",
          "Mine",
          "Misery",
          "Mockingbird",
          "Money In The Grave (Drake ft. Rick Ross)",
          "Monster (Shawn Mendes & Justin Bieber)",
          "More - RedOne Jimmy Joker Remix",
          "Most Girls",
          "Motley Crew",
          "Moves Like Jagger - Studio Recording From \"The Voice\" Performance",
          "My Boo",
          "My Humps",
          "My Universe",
          "My Way",
          "Naughty Girl",
          "Needed Me",
          "Never Really Over",
          "Nice For What",
          "Nonstop",
          "Not Afraid",
          "OMG (feat. will.i.am)",
          "Oh My God",
          "One Dance",
          "One Kiss (with Dua Lipa)",
          "One Last Time",
          "One Right Now (with The Weeknd)",
          "One Time",
          "Only Girl (In The World)",
          "Out of Time",
          "Outside (feat. Ellie Goulding)",
          "Over",
          "Overprotected - Radio Edit",
          "Paradise",
          "Part Of Me",
          "Passionfruit",
          "Payphone",
          "Peaches (feat. Daniel Caesar & Giveon)",
          "Perfect",
          "Photograph",
          "Piece of Me",
          "Please Don't Leave Me",
          "Pon de Replay",
          "Praise God",
          "Princess of China",
          "Problem",
          "Psycho (feat. Ty Dolla $ign)",
          "Pump It",
          "RITMO (Bad Boys For Life)",
          "Raise Your Glass",
          "Roar",
          "Rolling in the Deep",
          "Rude Boy",
          "Rumour Has It",
          "Run It! (feat. Juelz Santana)",
          "Russian Roulette",
          "S&M",
          "SUMMER RENAISSANCE",
          "Sacrifice",
          "Save Your Tears",
          "Save Your Tears (Remix) (with Ariana Grande) - Bonus Track",
          "Save Your Tears (with Ariana Grande) (Remix)",
          "Scream",
          "Send My Love (To Your New Lover)",
          "Set Fire to the Rain",
          "SeÃ±orita",
          "Shake It Off",
          "Shake That",
          "Shape of You",
          "She Will Be Loved",
          "Shivers",
          "Shut Up",
          "Shut Up And Drive",
          "Side To Side",
          "Sing",
          "Sing For The Moment",
          "Single Ladies (Put a Ring on It)",
          "Skate",
          "Skyfall",
          "Slide (feat. Frank Ocean & Migos)",
          "Snow On The Beach (feat. Lana Del Rey)",
          "So What",
          "Sober",
          "Sorry",
          "Sorry",
          "Speed of Sound",
          "Stan",
          "Starboy",
          "Started From the Bottom",
          "Stay",
          "Stitches",
          "Stronger",
          "Stuck with U (with Justin Bieber)",
          "Stupid Girls",
          "Style",
          "Sugar",
          "Summer",
          "Summer of Love (Shawn Mendes & Tainy)",
          "Sunflower - Spider-Man: Into the Spider-Verse",
          "Sweet Dreams",
          "Sweet Nothing (feat. Florence Welch)",
          "TV",
          "Take A Bow",
          "Take Care",
          "Take Me Back to London (feat. Stormzy)",
          "Take You Dancing",
          "Talk Dirty (feat. 2 Chainz)",
          "Talking to the Moon",
          "Te Amo",
          "Teenage Dream",
          "That's What I Like",
          "The A Team",
          "The Hills",
          "The Joker And The Queen (feat. Taylor Swift)",
          "The Lazy Song",
          "The Monster",
          "The Motto",
          "The One That Got Away",
          "The Other Side",
          "The Real Slim Shady",
          "The Scientist",
          "The Time (Dirty Bit)",
          "The Way",
          "There You Go",
          "There's Nothing Holdin' Me Back",
          "Therefore I Am",
          "Thinking About You (feat. Ayah Marar)",
          "Thinking out Loud",
          "This Is How We Do",
          "This Is What You Came For",
          "This Love",
          "Through The Wire",
          "Till I Collapse",
          "Till the World Ends",
          "Today Was A Fairytale",
          "Too Good",
          "Toosie Slide",
          "Touch The Sky",
          "Toxic",
          "Treasure",
          "Treat You Better",
          "True Love (feat. Lily Allen)",
          "Trumpets",
          "Try",
          "Turn Up the Music",
          "U + Ur Hand",
          "U Don't Have to Call",
          "U Got It Bad",
          "U Remind Me",
          "Umbrella",
          "Unconditionally",
          "Under Control (feat. Hurts)",
          "Under The Influence",
          "Unfaithful",
          "Violet Hill",
          "Viva La Vida",
          "Waking Up In Vegas",
          "Want to Want Me",
          "Water Under the Bridge",
          "We Are Never Ever Getting Back Together",
          "We Found Love",
          "We Made You",
          "We'll Be Coming Back (feat. Example)",
          "What About Us",
          "What Do You Mean?",
          "What's My Name?",
          "Whatcha Say",
          "Whatâ€™s Next",
          "When I Was Your Man",
          "When I'm Gone",
          "When We Were Young",
          "When You're Gone",
          "Where Have You Been",
          "Where Is The Love?",
          "White Iverson",
          "Who Knew",
          "Wide Awake",
          "Wiggle (feat. Snoop Dogg)",
          "Wildest Dreams",
          "With You",
          "Without Me",
          "Womanizer",
          "Wonder",
          "Work",
          "Work Bitch",
          "Wow.",
          "XO",
          "Yeah! (feat. Lil Jon & Ludacris)",
          "Yellow",
          "Yo (Excuse Me Miss)",
          "You Belong With Me",
          "You Need To Calm Down",
          "Your Power",
          "Yummy",
          "august",
          "bad guy",
          "boyfriend (with Social House)",
          "break up with your girlfriend, i'm bored",
          "bury a friend",
          "cardigan",
          "everything i wanted",
          "lovely (with Khalid)",
          "my future",
          "no tears left to cry",
          "positions",
          "pov",
          "rockstar (feat. 21 Savage)",
          "test drive",
          "thank u, next",
          "when the party's over",
          "willow",
          "Adele",
          "Ariana Grande",
          "BeyoncÃ©",
          "Billie Eilish",
          "Black Eyed Peas",
          "Britney Spears",
          "Bruno Mars",
          "Calvin Harris",
          "Chris Brown",
          "Coldplay",
          "Drake",
          "Ed Sheeran",
          "Eminem",
          "Jason Derulo",
          "Justin Bieber",
          "Kanye West",
          "Katy Perry",
          "Maroon 5",
          "P!nk",
          "Post Malone",
          "Rihanna",
          "Shawn Mendes",
          "Taylor Swift",
          "The Weeknd",
          "USHER",
          "pop",
          "rap"
         ],
         "name": "",
         "parents": [
          "pop/Taylor Swift",
          "pop/BeyoncÃ©",
          "pop/Taylor Swift",
          "pop/Bruno Mars",
          "pop/Ariana Grande",
          "pop/Ariana Grande",
          "pop/Coldplay",
          "pop/BeyoncÃ©",
          "pop/Calvin Harris",
          "pop/Coldplay",
          "pop/The Weeknd",
          "pop/Ed Sheeran",
          "rap/Kanye West",
          "pop/Taylor Swift",
          "pop/Maroon 5",
          "pop/Taylor Swift",
          "pop/Justin Bieber",
          "pop/Justin Bieber",
          "pop/Justin Bieber",
          "rap/Eminem",
          "rap/Chris Brown",
          "pop/BeyoncÃ©",
          "pop/Justin Bieber",
          "pop/BeyoncÃ©",
          "pop/Taylor Swift",
          "pop/Taylor Swift",
          "pop/Ed Sheeran",
          "pop/BeyoncÃ©",
          "pop/Maroon 5",
          "rap/Chris Brown",
          "pop/Justin Bieber",
          "rap/Eminem",
          "rap/Drake",
          "pop/BeyoncÃ©",
          "pop/Post Malone",
          "rap/Kanye West",
          "pop/Calvin Harris",
          "pop/The Weeknd",
          "pop/P!nk",
          "pop/Black Eyed Peas",
          "pop/Billie Eilish",
          "pop/Britney Spears",
          "pop/Calvin Harris",
          "pop/Justin Bieber",
          "pop/Ariana Grande",
          "pop/Britney Spears",
          "pop/BeyoncÃ©",
          "pop/Katy Perry",
          "pop/The Weeknd",
          "rap/Kanye West",
          "pop/Ed Sheeran",
          "pop/USHER",
          "pop/Katy Perry",
          "pop/Adele",
          "pop/BeyoncÃ©",
          "pop/Post Malone",
          "rap/Eminem",
          "pop/Coldplay",
          "pop/USHER",
          "pop/Post Malone",
          "rap/Drake",
          "pop/BeyoncÃ©",
          "pop/Taylor Swift",
          "pop/USHER",
          "pop/Ariana Grande",
          "pop/Katy Perry",
          "pop/Maroon 5",
          "pop/BeyoncÃ©",
          "pop/Taylor Swift",
          "rap/Chris Brown",
          "pop/Rihanna",
          "rap/Kanye West",
          "pop/Rihanna",
          "pop/Ed Sheeran",
          "pop/P!nk",
          "pop/Black Eyed Peas",
          "pop/Rihanna",
          "pop/Jason Derulo",
          "pop/Maroon 5",
          "pop/Calvin Harris",
          "pop/BeyoncÃ©",
          "pop/Katy Perry",
          "pop/The Weeknd",
          "pop/Adele",
          "pop/Coldplay",
          "pop/Taylor Swift",
          "pop/Britney Spears",
          "pop/P!nk",
          "rap/Drake",
          "rap/Drake",
          "rap/Drake",
          "pop/Calvin Harris",
          "pop/Calvin Harris",
          "rap/Drake",
          "rap/Chris Brown",
          "pop/Bruno Mars",
          "pop/Katy Perry",
          "pop/Coldplay",
          "rap/Kanye West",
          "rap/Chris Brown",
          "rap/Drake",
          "pop/Rihanna",
          "pop/Justin Bieber",
          "pop/Black Eyed Peas",
          "pop/Ed Sheeran",
          "pop/P!nk",
          "pop/Justin Bieber",
          "pop/Calvin Harris",
          "pop/Britney Spears",
          "rap/Chris Brown",
          "pop/Maroon 5",
          "rap/Drake",
          "rap/Chris Brown",
          "pop/Ariana Grande",
          "rap/Drake",
          "rap/Eminem",
          "rap/Kanye West",
          "rap/Kanye West",
          "pop/Post Malone",
          "pop/Bruno Mars",
          "pop/BeyoncÃ©",
          "pop/Ed Sheeran",
          "pop/Billie Eilish",
          "pop/Rihanna",
          "rap/Drake",
          "rap/Kanye West",
          "pop/Adele",
          "pop/USHER",
          "pop/Black Eyed Peas",
          "pop/Justin Bieber",
          "rap/Drake",
          "pop/Justin Bieber",
          "rap/Kanye West",
          "pop/Justin Bieber",
          "pop/Katy Perry",
          "rap/Drake",
          "pop/Calvin Harris",
          "rap/Kanye West",
          "pop/Coldplay",
          "pop/USHER",
          "pop/Post Malone",
          "pop/The Weeknd",
          "pop/Black Eyed Peas",
          "pop/Katy Perry",
          "pop/Taylor Swift",
          "pop/Shawn Mendes",
          "pop/Post Malone",
          "pop/Calvin Harris",
          "pop/Ed Sheeran",
          "pop/Britney Spears",
          "pop/Calvin Harris",
          "pop/Britney Spears",
          "rap/Drake",
          "pop/Britney Spears",
          "pop/Shawn Mendes",
          "pop/BeyoncÃ©",
          "pop/Britney Spears",
          "pop/Black Eyed Peas",
          "pop/Shawn Mendes",
          "rap/Drake",
          "pop/Jason Derulo",
          "pop/Coldplay",
          "pop/The Weeknd",
          "pop/The Weeknd",
          "pop/Justin Bieber",
          "pop/Ariana Grande",
          "pop/BeyoncÃ©",
          "pop/Jason Derulo",
          "pop/Bruno Mars",
          "pop/Shawn Mendes",
          "rap/Kanye West",
          "rap/Drake",
          "rap/Drake",
          "pop/Black Eyed Peas",
          "pop/P!nk",
          "pop/P!nk",
          "pop/P!nk",
          "rap/Eminem",
          "pop/Bruno Mars",
          "rap/Chris Brown",
          "pop/Katy Perry",
          "rap/Drake",
          "pop/Taylor Swift",
          "pop/Bruno Mars",
          "pop/Ed Sheeran",
          "pop/Black Eyed Peas",
          "pop/Calvin Harris",
          "pop/Rihanna",
          "rap/Eminem",
          "pop/Bruno Mars",
          "pop/Justin Bieber",
          "rap/Chris Brown",
          "pop/Taylor Swift",
          "pop/Billie Eilish",
          "rap/Kanye West",
          "pop/Ariana Grande",
          "pop/Rihanna",
          "pop/BeyoncÃ©",
          "pop/Taylor Swift",
          "pop/Taylor Swift",
          "rap/Eminem",
          "pop/Justin Bieber",
          "pop/USHER",
          "pop/Taylor Swift",
          "rap/Chris Brown",
          "pop/Britney Spears",
          "pop/Black Eyed Peas",
          "pop/Coldplay",
          "pop/Maroon 5",
          "pop/Rihanna",
          "pop/Maroon 5",
          "pop/Bruno Mars",
          "rap/Drake",
          "pop/BeyoncÃ©",
          "pop/Black Eyed Peas",
          "pop/Maroon 5",
          "rap/Kanye West",
          "pop/Shawn Mendes",
          "pop/Taylor Swift",
          "pop/Taylor Swift",
          "pop/Maroon 5",
          "rap/Eminem",
          "rap/Drake",
          "pop/Shawn Mendes",
          "pop/USHER",
          "pop/P!nk",
          "pop/Post Malone",
          "pop/Maroon 5",
          "pop/USHER",
          "pop/Black Eyed Peas",
          "pop/Coldplay",
          "pop/Calvin Harris",
          "pop/BeyoncÃ©",
          "pop/Rihanna",
          "pop/Katy Perry",
          "rap/Drake",
          "rap/Drake",
          "rap/Eminem",
          "pop/USHER",
          "pop/Adele",
          "rap/Drake",
          "pop/Calvin Harris",
          "pop/Ariana Grande",
          "pop/Post Malone",
          "pop/Justin Bieber",
          "pop/Rihanna",
          "pop/The Weeknd",
          "pop/Calvin Harris",
          "rap/Drake",
          "pop/Britney Spears",
          "pop/Coldplay",
          "pop/Katy Perry",
          "rap/Drake",
          "pop/Maroon 5",
          "pop/Justin Bieber",
          "pop/Ed Sheeran",
          "pop/Ed Sheeran",
          "pop/Britney Spears",
          "pop/P!nk",
          "pop/Rihanna",
          "rap/Kanye West",
          "pop/Coldplay",
          "pop/Ariana Grande",
          "pop/Post Malone",
          "pop/Black Eyed Peas",
          "pop/Black Eyed Peas",
          "pop/P!nk",
          "pop/Katy Perry",
          "pop/Adele",
          "pop/Rihanna",
          "pop/Adele",
          "rap/Chris Brown",
          "pop/Rihanna",
          "pop/Rihanna",
          "pop/BeyoncÃ©",
          "pop/The Weeknd",
          "pop/The Weeknd",
          "pop/The Weeknd",
          "pop/The Weeknd",
          "pop/USHER",
          "pop/Adele",
          "pop/Adele",
          "pop/Shawn Mendes",
          "pop/Taylor Swift",
          "rap/Eminem",
          "pop/Ed Sheeran",
          "pop/Maroon 5",
          "pop/Ed Sheeran",
          "pop/Black Eyed Peas",
          "pop/Rihanna",
          "pop/Ariana Grande",
          "pop/Ed Sheeran",
          "rap/Eminem",
          "pop/BeyoncÃ©",
          "pop/Bruno Mars",
          "pop/Adele",
          "pop/Calvin Harris",
          "pop/Taylor Swift",
          "pop/P!nk",
          "pop/P!nk",
          "pop/BeyoncÃ©",
          "pop/Justin Bieber",
          "pop/Coldplay",
          "rap/Eminem",
          "pop/The Weeknd",
          "rap/Drake",
          "pop/Rihanna",
          "pop/Shawn Mendes",
          "rap/Kanye West",
          "pop/Ariana Grande",
          "pop/P!nk",
          "pop/Taylor Swift",
          "pop/Maroon 5",
          "pop/Calvin Harris",
          "pop/Shawn Mendes",
          "pop/Post Malone",
          "pop/BeyoncÃ©",
          "pop/Calvin Harris",
          "pop/Billie Eilish",
          "pop/Rihanna",
          "rap/Drake",
          "pop/Ed Sheeran",
          "pop/Jason Derulo",
          "pop/Jason Derulo",
          "pop/Bruno Mars",
          "pop/Rihanna",
          "pop/Katy Perry",
          "pop/Bruno Mars",
          "pop/Ed Sheeran",
          "pop/The Weeknd",
          "pop/Ed Sheeran",
          "pop/Bruno Mars",
          "rap/Eminem",
          "rap/Drake",
          "pop/Katy Perry",
          "pop/Jason Derulo",
          "rap/Eminem",
          "pop/Coldplay",
          "pop/Black Eyed Peas",
          "pop/Ariana Grande",
          "pop/P!nk",
          "pop/Shawn Mendes",
          "pop/Billie Eilish",
          "pop/Calvin Harris",
          "pop/Ed Sheeran",
          "pop/Katy Perry",
          "pop/Calvin Harris",
          "pop/Maroon 5",
          "rap/Kanye West",
          "rap/Eminem",
          "pop/Britney Spears",
          "pop/Taylor Swift",
          "rap/Drake",
          "rap/Drake",
          "rap/Kanye West",
          "pop/Britney Spears",
          "pop/Bruno Mars",
          "pop/Shawn Mendes",
          "pop/P!nk",
          "pop/Jason Derulo",
          "pop/P!nk",
          "rap/Chris Brown",
          "pop/P!nk",
          "pop/USHER",
          "pop/USHER",
          "pop/USHER",
          "pop/Rihanna",
          "pop/Katy Perry",
          "pop/Calvin Harris",
          "rap/Chris Brown",
          "pop/Rihanna",
          "pop/Coldplay",
          "pop/Coldplay",
          "pop/Katy Perry",
          "pop/Jason Derulo",
          "pop/Adele",
          "pop/Taylor Swift",
          "pop/Rihanna",
          "rap/Eminem",
          "pop/Calvin Harris",
          "pop/P!nk",
          "pop/Justin Bieber",
          "pop/Rihanna",
          "pop/Jason Derulo",
          "rap/Drake",
          "pop/Bruno Mars",
          "rap/Eminem",
          "pop/Adele",
          "pop/Shawn Mendes",
          "pop/Rihanna",
          "pop/Black Eyed Peas",
          "pop/Post Malone",
          "pop/P!nk",
          "pop/Katy Perry",
          "pop/Jason Derulo",
          "pop/Taylor Swift",
          "rap/Chris Brown",
          "rap/Eminem",
          "pop/Britney Spears",
          "pop/Shawn Mendes",
          "pop/Rihanna",
          "pop/Britney Spears",
          "pop/Post Malone",
          "pop/BeyoncÃ©",
          "pop/USHER",
          "pop/Coldplay",
          "rap/Chris Brown",
          "pop/Taylor Swift",
          "pop/Taylor Swift",
          "pop/Billie Eilish",
          "pop/Justin Bieber",
          "pop/Taylor Swift",
          "pop/Billie Eilish",
          "pop/Ariana Grande",
          "pop/Ariana Grande",
          "pop/Billie Eilish",
          "pop/Taylor Swift",
          "pop/Billie Eilish",
          "pop/Billie Eilish",
          "pop/Billie Eilish",
          "pop/Ariana Grande",
          "pop/Ariana Grande",
          "pop/Ariana Grande",
          "pop/Post Malone",
          "pop/Ariana Grande",
          "pop/Ariana Grande",
          "pop/Billie Eilish",
          "pop/Taylor Swift",
          "pop",
          "pop",
          "pop",
          "pop",
          "pop",
          "pop",
          "pop",
          "pop",
          "rap",
          "pop",
          "rap",
          "pop",
          "rap",
          "pop",
          "pop",
          "rap",
          "pop",
          "pop",
          "pop",
          "pop",
          "pop",
          "pop",
          "pop",
          "pop",
          "pop",
          "",
          ""
         ],
         "type": "sunburst",
         "values": [
          1,
          1,
          1,
          1,
          2,
          1,
          1,
          1,
          1,
          1,
          1,
          1,
          1,
          1,
          1,
          1,
          1,
          1,
          1,
          1,
          1,
          1,
          1,
          1,
          1,
          2,
          1,
          1,
          1,
          1,
          1,
          1,
          1,
          1,
          2,
          1,
          1,
          2,
          1,
          1,
          1,
          1,
          1,
          1,
          1,
          1,
          1,
          1,
          1,
          1,
          1,
          1,
          1,
          1,
          1,
          2,
          1,
          2,
          1,
          1,
          1,
          1,
          1,
          1,
          1,
          1,
          1,
          1,
          1,
          1,
          1,
          1,
          1,
          1,
          1,
          1,
          1,
          1,
          1,
          1,
          1,
          1,
          1,
          2,
          1,
          1,
          1,
          1,
          1,
          1,
          1,
          1,
          1,
          1,
          1,
          1,
          1,
          1,
          1,
          1,
          1,
          1,
          1,
          1,
          1,
          1,
          1,
          1,
          1,
          1,
          1,
          1,
          1,
          1,
          1,
          1,
          1,
          1,
          1,
          1,
          1,
          1,
          1,
          2,
          1,
          1,
          2,
          1,
          1,
          1,
          1,
          1,
          1,
          1,
          1,
          2,
          1,
          1,
          1,
          1,
          1,
          1,
          1,
          1,
          2,
          1,
          1,
          1,
          1,
          1,
          1,
          1,
          1,
          1,
          1,
          1,
          1,
          1,
          1,
          1,
          1,
          1,
          1,
          1,
          1,
          1,
          1,
          1,
          1,
          1,
          1,
          1,
          2,
          1,
          1,
          1,
          1,
          1,
          1,
          2,
          1,
          1,
          1,
          1,
          1,
          1,
          1,
          1,
          1,
          2,
          1,
          1,
          1,
          1,
          2,
          2,
          1,
          1,
          1,
          1,
          1,
          2,
          1,
          1,
          1,
          1,
          1,
          1,
          1,
          1,
          1,
          1,
          1,
          1,
          1,
          1,
          1,
          1,
          1,
          1,
          1,
          1,
          1,
          1,
          1,
          1,
          1,
          1,
          1,
          1,
          1,
          1,
          1,
          1,
          1,
          1,
          1,
          1,
          1,
          1,
          1,
          1,
          1,
          1,
          1,
          1,
          1,
          1,
          1,
          1,
          2,
          1,
          1,
          1,
          1,
          1,
          1,
          1,
          1,
          1,
          1,
          1,
          1,
          1,
          1,
          1,
          1,
          1,
          1,
          1,
          1,
          1,
          1,
          1,
          1,
          1,
          1,
          1,
          1,
          1,
          2,
          1,
          1,
          1,
          1,
          1,
          1,
          2,
          1,
          1,
          1,
          1,
          1,
          1,
          1,
          1,
          1,
          1,
          1,
          1,
          1,
          2,
          1,
          1,
          1,
          1,
          1,
          1,
          1,
          1,
          1,
          2,
          1,
          1,
          1,
          1,
          1,
          1,
          1,
          1,
          1,
          1,
          1,
          2,
          1,
          1,
          1,
          1,
          1,
          1,
          1,
          1,
          1,
          1,
          1,
          1,
          1,
          1,
          1,
          1,
          1,
          1,
          2,
          1,
          2,
          1,
          1,
          1,
          1,
          1,
          1,
          1,
          1,
          1,
          1,
          1,
          1,
          1,
          1,
          1,
          2,
          1,
          1,
          1,
          1,
          1,
          1,
          1,
          1,
          1,
          1,
          1,
          1,
          1,
          1,
          1,
          1,
          2,
          1,
          1,
          1,
          1,
          2,
          2,
          1,
          1,
          1,
          2,
          1,
          1,
          1,
          1,
          1,
          1,
          1,
          1,
          1,
          1,
          1,
          1,
          1,
          1,
          1,
          1,
          1,
          1,
          1,
          1,
          1,
          1,
          1,
          1,
          2,
          1,
          1,
          1,
          1,
          1,
          2,
          1,
          1,
          2,
          1,
          1,
          1,
          1,
          1,
          1,
          15,
          22,
          22,
          15,
          16,
          15,
          15,
          21,
          16,
          18,
          32,
          19,
          18,
          12,
          21,
          18,
          17,
          14,
          20,
          15,
          27,
          13,
          31,
          15,
          14,
          377,
          84
         ]
        }
       ],
       "layout": {
        "legend": {
         "tracegroupgap": 0
        },
        "template": {
         "data": {
          "bar": [
           {
            "error_x": {
             "color": "#2a3f5f"
            },
            "error_y": {
             "color": "#2a3f5f"
            },
            "marker": {
             "line": {
              "color": "#E5ECF6",
              "width": 0.5
             }
            },
            "type": "bar"
           }
          ],
          "barpolar": [
           {
            "marker": {
             "line": {
              "color": "#E5ECF6",
              "width": 0.5
             }
            },
            "type": "barpolar"
           }
          ],
          "carpet": [
           {
            "aaxis": {
             "endlinecolor": "#2a3f5f",
             "gridcolor": "white",
             "linecolor": "white",
             "minorgridcolor": "white",
             "startlinecolor": "#2a3f5f"
            },
            "baxis": {
             "endlinecolor": "#2a3f5f",
             "gridcolor": "white",
             "linecolor": "white",
             "minorgridcolor": "white",
             "startlinecolor": "#2a3f5f"
            },
            "type": "carpet"
           }
          ],
          "choropleth": [
           {
            "colorbar": {
             "outlinewidth": 0,
             "ticks": ""
            },
            "type": "choropleth"
           }
          ],
          "contour": [
           {
            "colorbar": {
             "outlinewidth": 0,
             "ticks": ""
            },
            "colorscale": [
             [
              0,
              "#0d0887"
             ],
             [
              0.1111111111111111,
              "#46039f"
             ],
             [
              0.2222222222222222,
              "#7201a8"
             ],
             [
              0.3333333333333333,
              "#9c179e"
             ],
             [
              0.4444444444444444,
              "#bd3786"
             ],
             [
              0.5555555555555556,
              "#d8576b"
             ],
             [
              0.6666666666666666,
              "#ed7953"
             ],
             [
              0.7777777777777778,
              "#fb9f3a"
             ],
             [
              0.8888888888888888,
              "#fdca26"
             ],
             [
              1,
              "#f0f921"
             ]
            ],
            "type": "contour"
           }
          ],
          "contourcarpet": [
           {
            "colorbar": {
             "outlinewidth": 0,
             "ticks": ""
            },
            "type": "contourcarpet"
           }
          ],
          "heatmap": [
           {
            "colorbar": {
             "outlinewidth": 0,
             "ticks": ""
            },
            "colorscale": [
             [
              0,
              "#0d0887"
             ],
             [
              0.1111111111111111,
              "#46039f"
             ],
             [
              0.2222222222222222,
              "#7201a8"
             ],
             [
              0.3333333333333333,
              "#9c179e"
             ],
             [
              0.4444444444444444,
              "#bd3786"
             ],
             [
              0.5555555555555556,
              "#d8576b"
             ],
             [
              0.6666666666666666,
              "#ed7953"
             ],
             [
              0.7777777777777778,
              "#fb9f3a"
             ],
             [
              0.8888888888888888,
              "#fdca26"
             ],
             [
              1,
              "#f0f921"
             ]
            ],
            "type": "heatmap"
           }
          ],
          "heatmapgl": [
           {
            "colorbar": {
             "outlinewidth": 0,
             "ticks": ""
            },
            "colorscale": [
             [
              0,
              "#0d0887"
             ],
             [
              0.1111111111111111,
              "#46039f"
             ],
             [
              0.2222222222222222,
              "#7201a8"
             ],
             [
              0.3333333333333333,
              "#9c179e"
             ],
             [
              0.4444444444444444,
              "#bd3786"
             ],
             [
              0.5555555555555556,
              "#d8576b"
             ],
             [
              0.6666666666666666,
              "#ed7953"
             ],
             [
              0.7777777777777778,
              "#fb9f3a"
             ],
             [
              0.8888888888888888,
              "#fdca26"
             ],
             [
              1,
              "#f0f921"
             ]
            ],
            "type": "heatmapgl"
           }
          ],
          "histogram": [
           {
            "marker": {
             "colorbar": {
              "outlinewidth": 0,
              "ticks": ""
             }
            },
            "type": "histogram"
           }
          ],
          "histogram2d": [
           {
            "colorbar": {
             "outlinewidth": 0,
             "ticks": ""
            },
            "colorscale": [
             [
              0,
              "#0d0887"
             ],
             [
              0.1111111111111111,
              "#46039f"
             ],
             [
              0.2222222222222222,
              "#7201a8"
             ],
             [
              0.3333333333333333,
              "#9c179e"
             ],
             [
              0.4444444444444444,
              "#bd3786"
             ],
             [
              0.5555555555555556,
              "#d8576b"
             ],
             [
              0.6666666666666666,
              "#ed7953"
             ],
             [
              0.7777777777777778,
              "#fb9f3a"
             ],
             [
              0.8888888888888888,
              "#fdca26"
             ],
             [
              1,
              "#f0f921"
             ]
            ],
            "type": "histogram2d"
           }
          ],
          "histogram2dcontour": [
           {
            "colorbar": {
             "outlinewidth": 0,
             "ticks": ""
            },
            "colorscale": [
             [
              0,
              "#0d0887"
             ],
             [
              0.1111111111111111,
              "#46039f"
             ],
             [
              0.2222222222222222,
              "#7201a8"
             ],
             [
              0.3333333333333333,
              "#9c179e"
             ],
             [
              0.4444444444444444,
              "#bd3786"
             ],
             [
              0.5555555555555556,
              "#d8576b"
             ],
             [
              0.6666666666666666,
              "#ed7953"
             ],
             [
              0.7777777777777778,
              "#fb9f3a"
             ],
             [
              0.8888888888888888,
              "#fdca26"
             ],
             [
              1,
              "#f0f921"
             ]
            ],
            "type": "histogram2dcontour"
           }
          ],
          "mesh3d": [
           {
            "colorbar": {
             "outlinewidth": 0,
             "ticks": ""
            },
            "type": "mesh3d"
           }
          ],
          "parcoords": [
           {
            "line": {
             "colorbar": {
              "outlinewidth": 0,
              "ticks": ""
             }
            },
            "type": "parcoords"
           }
          ],
          "pie": [
           {
            "automargin": true,
            "type": "pie"
           }
          ],
          "scatter": [
           {
            "marker": {
             "colorbar": {
              "outlinewidth": 0,
              "ticks": ""
             }
            },
            "type": "scatter"
           }
          ],
          "scatter3d": [
           {
            "line": {
             "colorbar": {
              "outlinewidth": 0,
              "ticks": ""
             }
            },
            "marker": {
             "colorbar": {
              "outlinewidth": 0,
              "ticks": ""
             }
            },
            "type": "scatter3d"
           }
          ],
          "scattercarpet": [
           {
            "marker": {
             "colorbar": {
              "outlinewidth": 0,
              "ticks": ""
             }
            },
            "type": "scattercarpet"
           }
          ],
          "scattergeo": [
           {
            "marker": {
             "colorbar": {
              "outlinewidth": 0,
              "ticks": ""
             }
            },
            "type": "scattergeo"
           }
          ],
          "scattergl": [
           {
            "marker": {
             "colorbar": {
              "outlinewidth": 0,
              "ticks": ""
             }
            },
            "type": "scattergl"
           }
          ],
          "scattermapbox": [
           {
            "marker": {
             "colorbar": {
              "outlinewidth": 0,
              "ticks": ""
             }
            },
            "type": "scattermapbox"
           }
          ],
          "scatterpolar": [
           {
            "marker": {
             "colorbar": {
              "outlinewidth": 0,
              "ticks": ""
             }
            },
            "type": "scatterpolar"
           }
          ],
          "scatterpolargl": [
           {
            "marker": {
             "colorbar": {
              "outlinewidth": 0,
              "ticks": ""
             }
            },
            "type": "scatterpolargl"
           }
          ],
          "scatterternary": [
           {
            "marker": {
             "colorbar": {
              "outlinewidth": 0,
              "ticks": ""
             }
            },
            "type": "scatterternary"
           }
          ],
          "surface": [
           {
            "colorbar": {
             "outlinewidth": 0,
             "ticks": ""
            },
            "colorscale": [
             [
              0,
              "#0d0887"
             ],
             [
              0.1111111111111111,
              "#46039f"
             ],
             [
              0.2222222222222222,
              "#7201a8"
             ],
             [
              0.3333333333333333,
              "#9c179e"
             ],
             [
              0.4444444444444444,
              "#bd3786"
             ],
             [
              0.5555555555555556,
              "#d8576b"
             ],
             [
              0.6666666666666666,
              "#ed7953"
             ],
             [
              0.7777777777777778,
              "#fb9f3a"
             ],
             [
              0.8888888888888888,
              "#fdca26"
             ],
             [
              1,
              "#f0f921"
             ]
            ],
            "type": "surface"
           }
          ],
          "table": [
           {
            "cells": {
             "fill": {
              "color": "#EBF0F8"
             },
             "line": {
              "color": "white"
             }
            },
            "header": {
             "fill": {
              "color": "#C8D4E3"
             },
             "line": {
              "color": "white"
             }
            },
            "type": "table"
           }
          ]
         },
         "layout": {
          "annotationdefaults": {
           "arrowcolor": "#2a3f5f",
           "arrowhead": 0,
           "arrowwidth": 1
          },
          "coloraxis": {
           "colorbar": {
            "outlinewidth": 0,
            "ticks": ""
           }
          },
          "colorscale": {
           "diverging": [
            [
             0,
             "#8e0152"
            ],
            [
             0.1,
             "#c51b7d"
            ],
            [
             0.2,
             "#de77ae"
            ],
            [
             0.3,
             "#f1b6da"
            ],
            [
             0.4,
             "#fde0ef"
            ],
            [
             0.5,
             "#f7f7f7"
            ],
            [
             0.6,
             "#e6f5d0"
            ],
            [
             0.7,
             "#b8e186"
            ],
            [
             0.8,
             "#7fbc41"
            ],
            [
             0.9,
             "#4d9221"
            ],
            [
             1,
             "#276419"
            ]
           ],
           "sequential": [
            [
             0,
             "#0d0887"
            ],
            [
             0.1111111111111111,
             "#46039f"
            ],
            [
             0.2222222222222222,
             "#7201a8"
            ],
            [
             0.3333333333333333,
             "#9c179e"
            ],
            [
             0.4444444444444444,
             "#bd3786"
            ],
            [
             0.5555555555555556,
             "#d8576b"
            ],
            [
             0.6666666666666666,
             "#ed7953"
            ],
            [
             0.7777777777777778,
             "#fb9f3a"
            ],
            [
             0.8888888888888888,
             "#fdca26"
            ],
            [
             1,
             "#f0f921"
            ]
           ],
           "sequentialminus": [
            [
             0,
             "#0d0887"
            ],
            [
             0.1111111111111111,
             "#46039f"
            ],
            [
             0.2222222222222222,
             "#7201a8"
            ],
            [
             0.3333333333333333,
             "#9c179e"
            ],
            [
             0.4444444444444444,
             "#bd3786"
            ],
            [
             0.5555555555555556,
             "#d8576b"
            ],
            [
             0.6666666666666666,
             "#ed7953"
            ],
            [
             0.7777777777777778,
             "#fb9f3a"
            ],
            [
             0.8888888888888888,
             "#fdca26"
            ],
            [
             1,
             "#f0f921"
            ]
           ]
          },
          "colorway": [
           "#636efa",
           "#EF553B",
           "#00cc96",
           "#ab63fa",
           "#FFA15A",
           "#19d3f3",
           "#FF6692",
           "#B6E880",
           "#FF97FF",
           "#FECB52"
          ],
          "font": {
           "color": "#2a3f5f"
          },
          "geo": {
           "bgcolor": "white",
           "lakecolor": "white",
           "landcolor": "#E5ECF6",
           "showlakes": true,
           "showland": true,
           "subunitcolor": "white"
          },
          "hoverlabel": {
           "align": "left"
          },
          "hovermode": "closest",
          "mapbox": {
           "style": "light"
          },
          "paper_bgcolor": "white",
          "plot_bgcolor": "#E5ECF6",
          "polar": {
           "angularaxis": {
            "gridcolor": "white",
            "linecolor": "white",
            "ticks": ""
           },
           "bgcolor": "#E5ECF6",
           "radialaxis": {
            "gridcolor": "white",
            "linecolor": "white",
            "ticks": ""
           }
          },
          "scene": {
           "xaxis": {
            "backgroundcolor": "#E5ECF6",
            "gridcolor": "white",
            "gridwidth": 2,
            "linecolor": "white",
            "showbackground": true,
            "ticks": "",
            "zerolinecolor": "white"
           },
           "yaxis": {
            "backgroundcolor": "#E5ECF6",
            "gridcolor": "white",
            "gridwidth": 2,
            "linecolor": "white",
            "showbackground": true,
            "ticks": "",
            "zerolinecolor": "white"
           },
           "zaxis": {
            "backgroundcolor": "#E5ECF6",
            "gridcolor": "white",
            "gridwidth": 2,
            "linecolor": "white",
            "showbackground": true,
            "ticks": "",
            "zerolinecolor": "white"
           }
          },
          "shapedefaults": {
           "line": {
            "color": "#2a3f5f"
           }
          },
          "ternary": {
           "aaxis": {
            "gridcolor": "white",
            "linecolor": "white",
            "ticks": ""
           },
           "baxis": {
            "gridcolor": "white",
            "linecolor": "white",
            "ticks": ""
           },
           "bgcolor": "#E5ECF6",
           "caxis": {
            "gridcolor": "white",
            "linecolor": "white",
            "ticks": ""
           }
          },
          "title": {
           "x": 0.05
          },
          "xaxis": {
           "automargin": true,
           "gridcolor": "white",
           "linecolor": "white",
           "ticks": "",
           "title": {
            "standoff": 15
           },
           "zerolinecolor": "white",
           "zerolinewidth": 2
          },
          "yaxis": {
           "automargin": true,
           "gridcolor": "white",
           "linecolor": "white",
           "ticks": "",
           "title": {
            "standoff": 15
           },
           "zerolinecolor": "white",
           "zerolinewidth": 2
          }
         }
        },
        "title": {
         "text": "Playlist for top 25 artist by their songs count and genre"
        }
       }
      },
      "text/html": [
       "<div>                            <div id=\"88d5c07d-a89c-4a0b-9211-f38eafcea687\" class=\"plotly-graph-div\" style=\"height:525px; width:100%;\"></div>            <script type=\"text/javascript\">                require([\"plotly\"], function(Plotly) {                    window.PLOTLYENV=window.PLOTLYENV || {};                                    if (document.getElementById(\"88d5c07d-a89c-4a0b-9211-f38eafcea687\")) {                    Plotly.newPlot(                        \"88d5c07d-a89c-4a0b-9211-f38eafcea687\",                        [{\"branchvalues\": \"total\", \"domain\": {\"x\": [0.0, 1.0], \"y\": [0.0, 1.0]}, \"hovertemplate\": \"labels=%{label}<br>count=%{value}<br>parent=%{parent}<br>id=%{id}<extra></extra>\", \"ids\": [\"pop/Taylor Swift/...Ready For It?\", \"pop/Beyonc\\u00c3\\u00a9/11-Jul\", \"pop/Taylor Swift/22\", \"pop/Bruno Mars/24K Magic\", \"pop/Ariana Grande/34+35\", \"pop/Ariana Grande/34+35 Remix (feat. Doja Cat, Megan Thee Stallion) - Remix\", \"pop/Coldplay/A Sky Full of Stars\", \"pop/Beyonc\\u00c3\\u00a9/ALIEN SUPERSTAR\", \"pop/Calvin Harris/Acceptable in the 80's\", \"pop/Coldplay/Adventure of a Lifetime\", \"pop/The Weeknd/After Hours\", \"pop/Ed Sheeran/Afterglow\", \"rap/Kanye West/All Of The Lights\", \"pop/Taylor Swift/All Too Well (10 Minute Version) (Taylor's Version) (From The Vault)\", \"pop/Maroon 5/Animals\", \"pop/Taylor Swift/Anti-Hero\", \"pop/Justin Bieber/Anyone\", \"pop/Justin Bieber/As I Am (feat. Khalid)\", \"pop/Justin Bieber/As Long As You Love Me\", \"rap/Eminem/Ass Like That\", \"rap/Chris Brown/Ayo\", \"pop/Beyonc\\u00c3\\u00a9/BREAK MY SOUL\", \"pop/Justin Bieber/Baby\", \"pop/Beyonc\\u00c3\\u00a9/Baby Boy (feat. Sean Paul)\", \"pop/Taylor Swift/Back To December\", \"pop/Taylor Swift/Bad Blood\", \"pop/Ed Sheeran/Bad Habits\", \"pop/Beyonc\\u00c3\\u00a9/Beautiful Liar\", \"pop/Maroon 5/Beautiful Mistakes (feat. Megan Thee Stallion)\", \"rap/Chris Brown/Beautiful People\", \"pop/Justin Bieber/Beauty And A Beat\", \"rap/Eminem/Berzerk\", \"rap/Drake/Best I Ever Had\", \"pop/Beyonc\\u00c3\\u00a9/Best Thing I Never Had\", \"pop/Post Malone/Better Now\", \"rap/Kanye West/Black Skinhead\", \"pop/Calvin Harris/Blame (feat. John Newman)\", \"pop/The Weeknd/Blinding Lights\", \"pop/P!nk/Blow Me (One Last Kiss)\", \"pop/Black Eyed Peas/Boom Boom Pow\", \"pop/Billie Eilish/Bored\", \"pop/Britney Spears/Born to Make You Happy\", \"pop/Calvin Harris/Bounce (feat. Kelis) - Radio Edit\", \"pop/Justin Bieber/Boyfriend\", \"pop/Ariana Grande/Break Free\", \"pop/Britney Spears/Break the Ice\", \"pop/Beyonc\\u00c3\\u00a9/CUFF IT\", \"pop/Katy Perry/California Gurls\", \"pop/The Weeknd/Can't Feel My Face\", \"rap/Kanye West/Can't Tell Me Nothing\", \"pop/Ed Sheeran/Castle on the Hill\", \"pop/USHER/Caught Up\", \"pop/Katy Perry/Chained To The Rhythm\", \"pop/Adele/Chasing Pavements\", \"pop/Beyonc\\u00c3\\u00a9/Check On It (feat. Bun B & Slim Thug)\", \"pop/Post Malone/Circles\", \"rap/Eminem/Cleanin' Out My Closet\", \"pop/Coldplay/Clocks\", \"pop/USHER/Confessions Part II\", \"pop/Post Malone/Congratulations\", \"rap/Drake/Controlla\", \"pop/Beyonc\\u00c3\\u00a9/Crazy In Love (feat. Jay-Z)\", \"pop/Taylor Swift/Cruel Summer\", \"pop/USHER/DJ Got Us Fallin' In Love (feat. Pitbull)\", \"pop/Ariana Grande/Dangerous Woman\", \"pop/Katy Perry/Dark Horse\", \"pop/Maroon 5/Daylight\", \"pop/Beyonc\\u00c3\\u00a9/Deja Vu (feat. Jay-Z)\", \"pop/Taylor Swift/Delicate\", \"rap/Chris Brown/Deuces (feat. Tyga & Kevin McCall)\", \"pop/Rihanna/Diamonds\", \"rap/Kanye West/Diamonds From Sierra Leone - Remix\", \"pop/Rihanna/Disturbia\", \"pop/Ed Sheeran/Don't\", \"pop/P!nk/Don't Let Me Get Me - Radio Edit\", \"pop/Black Eyed Peas/Don't Phunk With My Heart\", \"pop/Rihanna/Don't Stop The Music\", \"pop/Jason Derulo/Don't Wanna Go Home\", \"pop/Maroon 5/Don't Wanna Know (feat. Kendrick Lamar)\", \"pop/Calvin Harris/Drinking from the Bottle (feat. Tinie Tempah)\", \"pop/Beyonc\\u00c3\\u00a9/Drunk in Love (feat. Jay-Z)\", \"pop/Katy Perry/E.T.\", \"pop/The Weeknd/Earned It (Fifty Shades Of Grey) - From The \\\"Fifty Shades Of Grey\\\" Soundtrack\", \"pop/Adele/Easy On Me\", \"pop/Coldplay/Every Teardrop Is a Waterfall\", \"pop/Taylor Swift/Everything Has Changed\", \"pop/Britney Spears/Everytime\", \"pop/P!nk/F**kin' Perfect\", \"rap/Drake/Fair Trade (with Travis Scott)\", \"rap/Drake/Fake Love\", \"rap/Drake/Falling Back\", \"pop/Calvin Harris/Feel So Close - Radio Edit\", \"pop/Calvin Harris/Feels (feat. Pharrell Williams, Katy Perry & Big Sean)\", \"rap/Drake/Find Your Love\", \"rap/Chris Brown/Fine China\", \"pop/Bruno Mars/Finesse - Remix; feat. Cardi B\", \"pop/Katy Perry/Firework\", \"pop/Coldplay/Fix You\", \"rap/Kanye West/Flashing Lights\", \"rap/Chris Brown/Forever\", \"rap/Drake/Forever\", \"pop/Rihanna/FourFiveSeconds\", \"pop/Justin Bieber/Friends (with BloodPop\\u00c2\\u00ae)\", \"pop/Black Eyed Peas/GIRL LIKE ME\", \"pop/Ed Sheeran/Galway Girl\", \"pop/P!nk/Get the Party Started\", \"pop/Justin Bieber/Ghost\", \"pop/Calvin Harris/Giant (with Rag'n'Bone Man)\", \"pop/Britney Spears/Gimme More\", \"rap/Chris Brown/Gimme That\", \"pop/Maroon 5/Girls Like You (feat. Cardi B) - Cardi B Version\", \"rap/Drake/Girls Want Girls (with Lil Baby)\", \"rap/Chris Brown/Go Crazy\", \"pop/Ariana Grande/God is a woman\", \"rap/Drake/God's Plan\", \"rap/Eminem/Godzilla (feat. Juice WRLD)\", \"rap/Kanye West/Gold Digger\", \"rap/Kanye West/Good Life\", \"pop/Post Malone/Goodbyes (feat. Young Thug)\", \"pop/Bruno Mars/Grenade\", \"pop/Beyonc\\u00c3\\u00a9/Halo\", \"pop/Ed Sheeran/Happier\", \"pop/Billie Eilish/Happier Than Ever\", \"pop/Rihanna/Hate That I Love You\", \"rap/Drake/Headlines\", \"rap/Kanye West/Heartless\", \"pop/Adele/Hello\", \"pop/USHER/Hey Daddy (Daddy's Home)\", \"pop/Black Eyed Peas/Hey Mama\", \"pop/Justin Bieber/Hold On\", \"rap/Drake/Hold On, We're Going Home\", \"pop/Justin Bieber/Holy (feat. Chance The Rapper)\", \"rap/Kanye West/Homecoming\", \"pop/Justin Bieber/Honest (feat. Don Toliver)\", \"pop/Katy Perry/Hot N Cold\", \"rap/Drake/Hotline Bling\", \"pop/Calvin Harris/How Deep Is Your Love\", \"rap/Kanye West/Hurricane\", \"pop/Coldplay/Hymn for the Weekend\", \"pop/USHER/I Don't Mind (feat. Juicy J)\", \"pop/Post Malone/I Fall Apart\", \"pop/The Weeknd/I Feel It Coming\", \"pop/Black Eyed Peas/I Gotta Feeling\", \"pop/Katy Perry/I Kissed A Girl\", \"pop/Taylor Swift/I Knew You Were Trouble.\", \"pop/Shawn Mendes/I Know What You Did Last Summer\", \"pop/Post Malone/I Like You (A Happier Song) (with Doja Cat)\", \"pop/Calvin Harris/I Need Your Love (feat. Ellie Goulding)\", \"pop/Ed Sheeran/I See Fire\", \"pop/Britney Spears/I Wanna Go\", \"pop/Calvin Harris/I'm Not Alone - Radio Edit\", \"pop/Britney Spears/I'm Not a Girl, Not Yet a Woman\", \"rap/Drake/I'm Upset\", \"pop/Britney Spears/I'm a Slave 4 U\", \"pop/Shawn Mendes/If I Can't Have You\", \"pop/Beyonc\\u00c3\\u00a9/If I Were a Boy\", \"pop/Britney Spears/If U Seek Amy\", \"pop/Black Eyed Peas/Imma Be\", \"pop/Shawn Mendes/In My Blood\", \"rap/Drake/In My Feelings\", \"pop/Jason Derulo/In My Head\", \"pop/Coldplay/In My Place\", \"pop/The Weeknd/In The Night\", \"pop/The Weeknd/In Your Eyes\", \"pop/Justin Bieber/Intentions (feat. Quavo)\", \"pop/Ariana Grande/Into You\", \"pop/Beyonc\\u00c3\\u00a9/Irreplaceable\", \"pop/Jason Derulo/It Girl\", \"pop/Bruno Mars/It Will Rain\", \"pop/Shawn Mendes/It'll Be Okay\", \"rap/Kanye West/Jesus Walks\", \"rap/Drake/Jimmy Cooks (feat. 21 Savage)\", \"rap/Drake/Jumpman\", \"pop/Black Eyed Peas/Just Can\\u00e2\\u20ac\\u2122t Get Enough\", \"pop/P!nk/Just Give Me a Reason (feat. Nate Ruess)\", \"pop/P!nk/Just Like Fire (From the Original Motion Picture \\\"Alice Through The Looking Glass\\\")\", \"pop/P!nk/Just Like a Pill\", \"rap/Eminem/Just Lose It\", \"pop/Bruno Mars/Just the Way You Are\", \"rap/Chris Brown/Kiss Kiss (feat. T-Pain)\", \"pop/Katy Perry/Last Friday Night (T.G.I.F.)\", \"rap/Drake/Laugh Now Cry Later (feat. Lil Durk)\", \"pop/Taylor Swift/Lavender Haze\", \"pop/Bruno Mars/Leave The Door Open\", \"pop/Ed Sheeran/Lego House\", \"pop/Black Eyed Peas/Let's Get It Started - Spike Mix\", \"pop/Calvin Harris/Let's Go (feat. Ne-Yo)\", \"pop/Rihanna/Lift Me Up - From Black Panther: Wakanda Forever - Music From and Inspired By\", \"rap/Eminem/Like Toy Soldiers\", \"pop/Bruno Mars/Locked out of Heaven\", \"pop/Justin Bieber/Lonely (with benny blanco)\", \"rap/Chris Brown/Look At Me Now (feat. Lil' Wayne & Busta Rhymes)\", \"pop/Taylor Swift/Look What You Made Me Do\", \"pop/Billie Eilish/Lost Cause\", \"rap/Kanye West/Love Lockdown\", \"pop/Ariana Grande/Love Me Harder\", \"pop/Rihanna/Love On The Brain\", \"pop/Beyonc\\u00c3\\u00a9/Love On Top\", \"pop/Taylor Swift/Love Story\", \"pop/Taylor Swift/Love Story (Taylor\\u00e2\\u20ac\\u2122s Version)\", \"rap/Eminem/Love The Way You Lie\", \"pop/Justin Bieber/Love Yourself\", \"pop/USHER/Love in This Club (feat. Young Jeezy)\", \"pop/Taylor Swift/Lover\", \"rap/Chris Brown/Loyal (feat. Lil Wayne & Tyga)\", \"pop/Britney Spears/Lucky\", \"pop/Black Eyed Peas/MAMACITA\", \"pop/Coldplay/Magic\", \"pop/Maroon 5/Makes Me Wonder\", \"pop/Rihanna/Man Down\", \"pop/Maroon 5/Maps\", \"pop/Bruno Mars/Marry You\", \"rap/Drake/Massive\", \"pop/Beyonc\\u00c3\\u00a9/Me, Myself and I\", \"pop/Black Eyed Peas/Meet Me Halfway\", \"pop/Maroon 5/Memories\", \"rap/Kanye West/Mercy\", \"pop/Shawn Mendes/Mercy\", \"pop/Taylor Swift/Midnight Rain\", \"pop/Taylor Swift/Mine\", \"pop/Maroon 5/Misery\", \"rap/Eminem/Mockingbird\", \"rap/Drake/Money In The Grave (Drake ft. Rick Ross)\", \"pop/Shawn Mendes/Monster (Shawn Mendes & Justin Bieber)\", \"pop/USHER/More - RedOne Jimmy Joker Remix\", \"pop/P!nk/Most Girls\", \"pop/Post Malone/Motley Crew\", \"pop/Maroon 5/Moves Like Jagger - Studio Recording From \\\"The Voice\\\" Performance\", \"pop/USHER/My Boo\", \"pop/Black Eyed Peas/My Humps\", \"pop/Coldplay/My Universe\", \"pop/Calvin Harris/My Way\", \"pop/Beyonc\\u00c3\\u00a9/Naughty Girl\", \"pop/Rihanna/Needed Me\", \"pop/Katy Perry/Never Really Over\", \"rap/Drake/Nice For What\", \"rap/Drake/Nonstop\", \"rap/Eminem/Not Afraid\", \"pop/USHER/OMG (feat. will.i.am)\", \"pop/Adele/Oh My God\", \"rap/Drake/One Dance\", \"pop/Calvin Harris/One Kiss (with Dua Lipa)\", \"pop/Ariana Grande/One Last Time\", \"pop/Post Malone/One Right Now (with The Weeknd)\", \"pop/Justin Bieber/One Time\", \"pop/Rihanna/Only Girl (In The World)\", \"pop/The Weeknd/Out of Time\", \"pop/Calvin Harris/Outside (feat. Ellie Goulding)\", \"rap/Drake/Over\", \"pop/Britney Spears/Overprotected - Radio Edit\", \"pop/Coldplay/Paradise\", \"pop/Katy Perry/Part Of Me\", \"rap/Drake/Passionfruit\", \"pop/Maroon 5/Payphone\", \"pop/Justin Bieber/Peaches (feat. Daniel Caesar & Giveon)\", \"pop/Ed Sheeran/Perfect\", \"pop/Ed Sheeran/Photograph\", \"pop/Britney Spears/Piece of Me\", \"pop/P!nk/Please Don't Leave Me\", \"pop/Rihanna/Pon de Replay\", \"rap/Kanye West/Praise God\", \"pop/Coldplay/Princess of China\", \"pop/Ariana Grande/Problem\", \"pop/Post Malone/Psycho (feat. Ty Dolla $ign)\", \"pop/Black Eyed Peas/Pump It\", \"pop/Black Eyed Peas/RITMO (Bad Boys For Life)\", \"pop/P!nk/Raise Your Glass\", \"pop/Katy Perry/Roar\", \"pop/Adele/Rolling in the Deep\", \"pop/Rihanna/Rude Boy\", \"pop/Adele/Rumour Has It\", \"rap/Chris Brown/Run It! (feat. Juelz Santana)\", \"pop/Rihanna/Russian Roulette\", \"pop/Rihanna/S&M\", \"pop/Beyonc\\u00c3\\u00a9/SUMMER RENAISSANCE\", \"pop/The Weeknd/Sacrifice\", \"pop/The Weeknd/Save Your Tears\", \"pop/The Weeknd/Save Your Tears (Remix) (with Ariana Grande) - Bonus Track\", \"pop/The Weeknd/Save Your Tears (with Ariana Grande) (Remix)\", \"pop/USHER/Scream\", \"pop/Adele/Send My Love (To Your New Lover)\", \"pop/Adele/Set Fire to the Rain\", \"pop/Shawn Mendes/Se\\u00c3\\u00b1orita\", \"pop/Taylor Swift/Shake It Off\", \"rap/Eminem/Shake That\", \"pop/Ed Sheeran/Shape of You\", \"pop/Maroon 5/She Will Be Loved\", \"pop/Ed Sheeran/Shivers\", \"pop/Black Eyed Peas/Shut Up\", \"pop/Rihanna/Shut Up And Drive\", \"pop/Ariana Grande/Side To Side\", \"pop/Ed Sheeran/Sing\", \"rap/Eminem/Sing For The Moment\", \"pop/Beyonc\\u00c3\\u00a9/Single Ladies (Put a Ring on It)\", \"pop/Bruno Mars/Skate\", \"pop/Adele/Skyfall\", \"pop/Calvin Harris/Slide (feat. Frank Ocean & Migos)\", \"pop/Taylor Swift/Snow On The Beach (feat. Lana Del Rey)\", \"pop/P!nk/So What\", \"pop/P!nk/Sober\", \"pop/Beyonc\\u00c3\\u00a9/Sorry\", \"pop/Justin Bieber/Sorry\", \"pop/Coldplay/Speed of Sound\", \"rap/Eminem/Stan\", \"pop/The Weeknd/Starboy\", \"rap/Drake/Started From the Bottom\", \"pop/Rihanna/Stay\", \"pop/Shawn Mendes/Stitches\", \"rap/Kanye West/Stronger\", \"pop/Ariana Grande/Stuck with U (with Justin Bieber)\", \"pop/P!nk/Stupid Girls\", \"pop/Taylor Swift/Style\", \"pop/Maroon 5/Sugar\", \"pop/Calvin Harris/Summer\", \"pop/Shawn Mendes/Summer of Love (Shawn Mendes & Tainy)\", \"pop/Post Malone/Sunflower - Spider-Man: Into the Spider-Verse\", \"pop/Beyonc\\u00c3\\u00a9/Sweet Dreams\", \"pop/Calvin Harris/Sweet Nothing (feat. Florence Welch)\", \"pop/Billie Eilish/TV\", \"pop/Rihanna/Take A Bow\", \"rap/Drake/Take Care\", \"pop/Ed Sheeran/Take Me Back to London (feat. Stormzy)\", \"pop/Jason Derulo/Take You Dancing\", \"pop/Jason Derulo/Talk Dirty (feat. 2 Chainz)\", \"pop/Bruno Mars/Talking to the Moon\", \"pop/Rihanna/Te Amo\", \"pop/Katy Perry/Teenage Dream\", \"pop/Bruno Mars/That's What I Like\", \"pop/Ed Sheeran/The A Team\", \"pop/The Weeknd/The Hills\", \"pop/Ed Sheeran/The Joker And The Queen (feat. Taylor Swift)\", \"pop/Bruno Mars/The Lazy Song\", \"rap/Eminem/The Monster\", \"rap/Drake/The Motto\", \"pop/Katy Perry/The One That Got Away\", \"pop/Jason Derulo/The Other Side\", \"rap/Eminem/The Real Slim Shady\", \"pop/Coldplay/The Scientist\", \"pop/Black Eyed Peas/The Time (Dirty Bit)\", \"pop/Ariana Grande/The Way\", \"pop/P!nk/There You Go\", \"pop/Shawn Mendes/There's Nothing Holdin' Me Back\", \"pop/Billie Eilish/Therefore I Am\", \"pop/Calvin Harris/Thinking About You (feat. Ayah Marar)\", \"pop/Ed Sheeran/Thinking out Loud\", \"pop/Katy Perry/This Is How We Do\", \"pop/Calvin Harris/This Is What You Came For\", \"pop/Maroon 5/This Love\", \"rap/Kanye West/Through The Wire\", \"rap/Eminem/Till I Collapse\", \"pop/Britney Spears/Till the World Ends\", \"pop/Taylor Swift/Today Was A Fairytale\", \"rap/Drake/Too Good\", \"rap/Drake/Toosie Slide\", \"rap/Kanye West/Touch The Sky\", \"pop/Britney Spears/Toxic\", \"pop/Bruno Mars/Treasure\", \"pop/Shawn Mendes/Treat You Better\", \"pop/P!nk/True Love (feat. Lily Allen)\", \"pop/Jason Derulo/Trumpets\", \"pop/P!nk/Try\", \"rap/Chris Brown/Turn Up the Music\", \"pop/P!nk/U + Ur Hand\", \"pop/USHER/U Don't Have to Call\", \"pop/USHER/U Got It Bad\", \"pop/USHER/U Remind Me\", \"pop/Rihanna/Umbrella\", \"pop/Katy Perry/Unconditionally\", \"pop/Calvin Harris/Under Control (feat. Hurts)\", \"rap/Chris Brown/Under The Influence\", \"pop/Rihanna/Unfaithful\", \"pop/Coldplay/Violet Hill\", \"pop/Coldplay/Viva La Vida\", \"pop/Katy Perry/Waking Up In Vegas\", \"pop/Jason Derulo/Want to Want Me\", \"pop/Adele/Water Under the Bridge\", \"pop/Taylor Swift/We Are Never Ever Getting Back Together\", \"pop/Rihanna/We Found Love\", \"rap/Eminem/We Made You\", \"pop/Calvin Harris/We'll Be Coming Back (feat. Example)\", \"pop/P!nk/What About Us\", \"pop/Justin Bieber/What Do You Mean?\", \"pop/Rihanna/What's My Name?\", \"pop/Jason Derulo/Whatcha Say\", \"rap/Drake/What\\u00e2\\u20ac\\u2122s Next\", \"pop/Bruno Mars/When I Was Your Man\", \"rap/Eminem/When I'm Gone\", \"pop/Adele/When We Were Young\", \"pop/Shawn Mendes/When You're Gone\", \"pop/Rihanna/Where Have You Been\", \"pop/Black Eyed Peas/Where Is The Love?\", \"pop/Post Malone/White Iverson\", \"pop/P!nk/Who Knew\", \"pop/Katy Perry/Wide Awake\", \"pop/Jason Derulo/Wiggle (feat. Snoop Dogg)\", \"pop/Taylor Swift/Wildest Dreams\", \"rap/Chris Brown/With You\", \"rap/Eminem/Without Me\", \"pop/Britney Spears/Womanizer\", \"pop/Shawn Mendes/Wonder\", \"pop/Rihanna/Work\", \"pop/Britney Spears/Work Bitch\", \"pop/Post Malone/Wow.\", \"pop/Beyonc\\u00c3\\u00a9/XO\", \"pop/USHER/Yeah! (feat. Lil Jon & Ludacris)\", \"pop/Coldplay/Yellow\", \"rap/Chris Brown/Yo (Excuse Me Miss)\", \"pop/Taylor Swift/You Belong With Me\", \"pop/Taylor Swift/You Need To Calm Down\", \"pop/Billie Eilish/Your Power\", \"pop/Justin Bieber/Yummy\", \"pop/Taylor Swift/august\", \"pop/Billie Eilish/bad guy\", \"pop/Ariana Grande/boyfriend (with Social House)\", \"pop/Ariana Grande/break up with your girlfriend, i'm bored\", \"pop/Billie Eilish/bury a friend\", \"pop/Taylor Swift/cardigan\", \"pop/Billie Eilish/everything i wanted\", \"pop/Billie Eilish/lovely (with Khalid)\", \"pop/Billie Eilish/my future\", \"pop/Ariana Grande/no tears left to cry\", \"pop/Ariana Grande/positions\", \"pop/Ariana Grande/pov\", \"pop/Post Malone/rockstar (feat. 21 Savage)\", \"pop/Ariana Grande/test drive\", \"pop/Ariana Grande/thank u, next\", \"pop/Billie Eilish/when the party's over\", \"pop/Taylor Swift/willow\", \"pop/Adele\", \"pop/Ariana Grande\", \"pop/Beyonc\\u00c3\\u00a9\", \"pop/Billie Eilish\", \"pop/Black Eyed Peas\", \"pop/Britney Spears\", \"pop/Bruno Mars\", \"pop/Calvin Harris\", \"rap/Chris Brown\", \"pop/Coldplay\", \"rap/Drake\", \"pop/Ed Sheeran\", \"rap/Eminem\", \"pop/Jason Derulo\", \"pop/Justin Bieber\", \"rap/Kanye West\", \"pop/Katy Perry\", \"pop/Maroon 5\", \"pop/P!nk\", \"pop/Post Malone\", \"pop/Rihanna\", \"pop/Shawn Mendes\", \"pop/Taylor Swift\", \"pop/The Weeknd\", \"pop/USHER\", \"pop\", \"rap\"], \"labels\": [\"...Ready For It?\", \"11-Jul\", \"22\", \"24K Magic\", \"34+35\", \"34+35 Remix (feat. Doja Cat, Megan Thee Stallion) - Remix\", \"A Sky Full of Stars\", \"ALIEN SUPERSTAR\", \"Acceptable in the 80's\", \"Adventure of a Lifetime\", \"After Hours\", \"Afterglow\", \"All Of The Lights\", \"All Too Well (10 Minute Version) (Taylor's Version) (From The Vault)\", \"Animals\", \"Anti-Hero\", \"Anyone\", \"As I Am (feat. Khalid)\", \"As Long As You Love Me\", \"Ass Like That\", \"Ayo\", \"BREAK MY SOUL\", \"Baby\", \"Baby Boy (feat. Sean Paul)\", \"Back To December\", \"Bad Blood\", \"Bad Habits\", \"Beautiful Liar\", \"Beautiful Mistakes (feat. Megan Thee Stallion)\", \"Beautiful People\", \"Beauty And A Beat\", \"Berzerk\", \"Best I Ever Had\", \"Best Thing I Never Had\", \"Better Now\", \"Black Skinhead\", \"Blame (feat. John Newman)\", \"Blinding Lights\", \"Blow Me (One Last Kiss)\", \"Boom Boom Pow\", \"Bored\", \"Born to Make You Happy\", \"Bounce (feat. Kelis) - Radio Edit\", \"Boyfriend\", \"Break Free\", \"Break the Ice\", \"CUFF IT\", \"California Gurls\", \"Can't Feel My Face\", \"Can't Tell Me Nothing\", \"Castle on the Hill\", \"Caught Up\", \"Chained To The Rhythm\", \"Chasing Pavements\", \"Check On It (feat. Bun B & Slim Thug)\", \"Circles\", \"Cleanin' Out My Closet\", \"Clocks\", \"Confessions Part II\", \"Congratulations\", \"Controlla\", \"Crazy In Love (feat. Jay-Z)\", \"Cruel Summer\", \"DJ Got Us Fallin' In Love (feat. Pitbull)\", \"Dangerous Woman\", \"Dark Horse\", \"Daylight\", \"Deja Vu (feat. Jay-Z)\", \"Delicate\", \"Deuces (feat. Tyga & Kevin McCall)\", \"Diamonds\", \"Diamonds From Sierra Leone - Remix\", \"Disturbia\", \"Don't\", \"Don't Let Me Get Me - Radio Edit\", \"Don't Phunk With My Heart\", \"Don't Stop The Music\", \"Don't Wanna Go Home\", \"Don't Wanna Know (feat. Kendrick Lamar)\", \"Drinking from the Bottle (feat. Tinie Tempah)\", \"Drunk in Love (feat. Jay-Z)\", \"E.T.\", \"Earned It (Fifty Shades Of Grey) - From The \\\"Fifty Shades Of Grey\\\" Soundtrack\", \"Easy On Me\", \"Every Teardrop Is a Waterfall\", \"Everything Has Changed\", \"Everytime\", \"F**kin' Perfect\", \"Fair Trade (with Travis Scott)\", \"Fake Love\", \"Falling Back\", \"Feel So Close - Radio Edit\", \"Feels (feat. Pharrell Williams, Katy Perry & Big Sean)\", \"Find Your Love\", \"Fine China\", \"Finesse - Remix; feat. Cardi B\", \"Firework\", \"Fix You\", \"Flashing Lights\", \"Forever\", \"Forever\", \"FourFiveSeconds\", \"Friends (with BloodPop\\u00c2\\u00ae)\", \"GIRL LIKE ME\", \"Galway Girl\", \"Get the Party Started\", \"Ghost\", \"Giant (with Rag'n'Bone Man)\", \"Gimme More\", \"Gimme That\", \"Girls Like You (feat. Cardi B) - Cardi B Version\", \"Girls Want Girls (with Lil Baby)\", \"Go Crazy\", \"God is a woman\", \"God's Plan\", \"Godzilla (feat. Juice WRLD)\", \"Gold Digger\", \"Good Life\", \"Goodbyes (feat. Young Thug)\", \"Grenade\", \"Halo\", \"Happier\", \"Happier Than Ever\", \"Hate That I Love You\", \"Headlines\", \"Heartless\", \"Hello\", \"Hey Daddy (Daddy's Home)\", \"Hey Mama\", \"Hold On\", \"Hold On, We're Going Home\", \"Holy (feat. Chance The Rapper)\", \"Homecoming\", \"Honest (feat. Don Toliver)\", \"Hot N Cold\", \"Hotline Bling\", \"How Deep Is Your Love\", \"Hurricane\", \"Hymn for the Weekend\", \"I Don't Mind (feat. Juicy J)\", \"I Fall Apart\", \"I Feel It Coming\", \"I Gotta Feeling\", \"I Kissed A Girl\", \"I Knew You Were Trouble.\", \"I Know What You Did Last Summer\", \"I Like You (A Happier Song) (with Doja Cat)\", \"I Need Your Love (feat. Ellie Goulding)\", \"I See Fire\", \"I Wanna Go\", \"I'm Not Alone - Radio Edit\", \"I'm Not a Girl, Not Yet a Woman\", \"I'm Upset\", \"I'm a Slave 4 U\", \"If I Can't Have You\", \"If I Were a Boy\", \"If U Seek Amy\", \"Imma Be\", \"In My Blood\", \"In My Feelings\", \"In My Head\", \"In My Place\", \"In The Night\", \"In Your Eyes\", \"Intentions (feat. Quavo)\", \"Into You\", \"Irreplaceable\", \"It Girl\", \"It Will Rain\", \"It'll Be Okay\", \"Jesus Walks\", \"Jimmy Cooks (feat. 21 Savage)\", \"Jumpman\", \"Just Can\\u00e2\\u20ac\\u2122t Get Enough\", \"Just Give Me a Reason (feat. Nate Ruess)\", \"Just Like Fire (From the Original Motion Picture \\\"Alice Through The Looking Glass\\\")\", \"Just Like a Pill\", \"Just Lose It\", \"Just the Way You Are\", \"Kiss Kiss (feat. T-Pain)\", \"Last Friday Night (T.G.I.F.)\", \"Laugh Now Cry Later (feat. Lil Durk)\", \"Lavender Haze\", \"Leave The Door Open\", \"Lego House\", \"Let's Get It Started - Spike Mix\", \"Let's Go (feat. Ne-Yo)\", \"Lift Me Up - From Black Panther: Wakanda Forever - Music From and Inspired By\", \"Like Toy Soldiers\", \"Locked out of Heaven\", \"Lonely (with benny blanco)\", \"Look At Me Now (feat. Lil' Wayne & Busta Rhymes)\", \"Look What You Made Me Do\", \"Lost Cause\", \"Love Lockdown\", \"Love Me Harder\", \"Love On The Brain\", \"Love On Top\", \"Love Story\", \"Love Story (Taylor\\u00e2\\u20ac\\u2122s Version)\", \"Love The Way You Lie\", \"Love Yourself\", \"Love in This Club (feat. Young Jeezy)\", \"Lover\", \"Loyal (feat. Lil Wayne & Tyga)\", \"Lucky\", \"MAMACITA\", \"Magic\", \"Makes Me Wonder\", \"Man Down\", \"Maps\", \"Marry You\", \"Massive\", \"Me, Myself and I\", \"Meet Me Halfway\", \"Memories\", \"Mercy\", \"Mercy\", \"Midnight Rain\", \"Mine\", \"Misery\", \"Mockingbird\", \"Money In The Grave (Drake ft. Rick Ross)\", \"Monster (Shawn Mendes & Justin Bieber)\", \"More - RedOne Jimmy Joker Remix\", \"Most Girls\", \"Motley Crew\", \"Moves Like Jagger - Studio Recording From \\\"The Voice\\\" Performance\", \"My Boo\", \"My Humps\", \"My Universe\", \"My Way\", \"Naughty Girl\", \"Needed Me\", \"Never Really Over\", \"Nice For What\", \"Nonstop\", \"Not Afraid\", \"OMG (feat. will.i.am)\", \"Oh My God\", \"One Dance\", \"One Kiss (with Dua Lipa)\", \"One Last Time\", \"One Right Now (with The Weeknd)\", \"One Time\", \"Only Girl (In The World)\", \"Out of Time\", \"Outside (feat. Ellie Goulding)\", \"Over\", \"Overprotected - Radio Edit\", \"Paradise\", \"Part Of Me\", \"Passionfruit\", \"Payphone\", \"Peaches (feat. Daniel Caesar & Giveon)\", \"Perfect\", \"Photograph\", \"Piece of Me\", \"Please Don't Leave Me\", \"Pon de Replay\", \"Praise God\", \"Princess of China\", \"Problem\", \"Psycho (feat. Ty Dolla $ign)\", \"Pump It\", \"RITMO (Bad Boys For Life)\", \"Raise Your Glass\", \"Roar\", \"Rolling in the Deep\", \"Rude Boy\", \"Rumour Has It\", \"Run It! (feat. Juelz Santana)\", \"Russian Roulette\", \"S&M\", \"SUMMER RENAISSANCE\", \"Sacrifice\", \"Save Your Tears\", \"Save Your Tears (Remix) (with Ariana Grande) - Bonus Track\", \"Save Your Tears (with Ariana Grande) (Remix)\", \"Scream\", \"Send My Love (To Your New Lover)\", \"Set Fire to the Rain\", \"Se\\u00c3\\u00b1orita\", \"Shake It Off\", \"Shake That\", \"Shape of You\", \"She Will Be Loved\", \"Shivers\", \"Shut Up\", \"Shut Up And Drive\", \"Side To Side\", \"Sing\", \"Sing For The Moment\", \"Single Ladies (Put a Ring on It)\", \"Skate\", \"Skyfall\", \"Slide (feat. Frank Ocean & Migos)\", \"Snow On The Beach (feat. Lana Del Rey)\", \"So What\", \"Sober\", \"Sorry\", \"Sorry\", \"Speed of Sound\", \"Stan\", \"Starboy\", \"Started From the Bottom\", \"Stay\", \"Stitches\", \"Stronger\", \"Stuck with U (with Justin Bieber)\", \"Stupid Girls\", \"Style\", \"Sugar\", \"Summer\", \"Summer of Love (Shawn Mendes & Tainy)\", \"Sunflower - Spider-Man: Into the Spider-Verse\", \"Sweet Dreams\", \"Sweet Nothing (feat. Florence Welch)\", \"TV\", \"Take A Bow\", \"Take Care\", \"Take Me Back to London (feat. Stormzy)\", \"Take You Dancing\", \"Talk Dirty (feat. 2 Chainz)\", \"Talking to the Moon\", \"Te Amo\", \"Teenage Dream\", \"That's What I Like\", \"The A Team\", \"The Hills\", \"The Joker And The Queen (feat. Taylor Swift)\", \"The Lazy Song\", \"The Monster\", \"The Motto\", \"The One That Got Away\", \"The Other Side\", \"The Real Slim Shady\", \"The Scientist\", \"The Time (Dirty Bit)\", \"The Way\", \"There You Go\", \"There's Nothing Holdin' Me Back\", \"Therefore I Am\", \"Thinking About You (feat. Ayah Marar)\", \"Thinking out Loud\", \"This Is How We Do\", \"This Is What You Came For\", \"This Love\", \"Through The Wire\", \"Till I Collapse\", \"Till the World Ends\", \"Today Was A Fairytale\", \"Too Good\", \"Toosie Slide\", \"Touch The Sky\", \"Toxic\", \"Treasure\", \"Treat You Better\", \"True Love (feat. Lily Allen)\", \"Trumpets\", \"Try\", \"Turn Up the Music\", \"U + Ur Hand\", \"U Don't Have to Call\", \"U Got It Bad\", \"U Remind Me\", \"Umbrella\", \"Unconditionally\", \"Under Control (feat. Hurts)\", \"Under The Influence\", \"Unfaithful\", \"Violet Hill\", \"Viva La Vida\", \"Waking Up In Vegas\", \"Want to Want Me\", \"Water Under the Bridge\", \"We Are Never Ever Getting Back Together\", \"We Found Love\", \"We Made You\", \"We'll Be Coming Back (feat. Example)\", \"What About Us\", \"What Do You Mean?\", \"What's My Name?\", \"Whatcha Say\", \"What\\u00e2\\u20ac\\u2122s Next\", \"When I Was Your Man\", \"When I'm Gone\", \"When We Were Young\", \"When You're Gone\", \"Where Have You Been\", \"Where Is The Love?\", \"White Iverson\", \"Who Knew\", \"Wide Awake\", \"Wiggle (feat. Snoop Dogg)\", \"Wildest Dreams\", \"With You\", \"Without Me\", \"Womanizer\", \"Wonder\", \"Work\", \"Work Bitch\", \"Wow.\", \"XO\", \"Yeah! (feat. Lil Jon & Ludacris)\", \"Yellow\", \"Yo (Excuse Me Miss)\", \"You Belong With Me\", \"You Need To Calm Down\", \"Your Power\", \"Yummy\", \"august\", \"bad guy\", \"boyfriend (with Social House)\", \"break up with your girlfriend, i'm bored\", \"bury a friend\", \"cardigan\", \"everything i wanted\", \"lovely (with Khalid)\", \"my future\", \"no tears left to cry\", \"positions\", \"pov\", \"rockstar (feat. 21 Savage)\", \"test drive\", \"thank u, next\", \"when the party's over\", \"willow\", \"Adele\", \"Ariana Grande\", \"Beyonc\\u00c3\\u00a9\", \"Billie Eilish\", \"Black Eyed Peas\", \"Britney Spears\", \"Bruno Mars\", \"Calvin Harris\", \"Chris Brown\", \"Coldplay\", \"Drake\", \"Ed Sheeran\", \"Eminem\", \"Jason Derulo\", \"Justin Bieber\", \"Kanye West\", \"Katy Perry\", \"Maroon 5\", \"P!nk\", \"Post Malone\", \"Rihanna\", \"Shawn Mendes\", \"Taylor Swift\", \"The Weeknd\", \"USHER\", \"pop\", \"rap\"], \"name\": \"\", \"parents\": [\"pop/Taylor Swift\", \"pop/Beyonc\\u00c3\\u00a9\", \"pop/Taylor Swift\", \"pop/Bruno Mars\", \"pop/Ariana Grande\", \"pop/Ariana Grande\", \"pop/Coldplay\", \"pop/Beyonc\\u00c3\\u00a9\", \"pop/Calvin Harris\", \"pop/Coldplay\", \"pop/The Weeknd\", \"pop/Ed Sheeran\", \"rap/Kanye West\", \"pop/Taylor Swift\", \"pop/Maroon 5\", \"pop/Taylor Swift\", \"pop/Justin Bieber\", \"pop/Justin Bieber\", \"pop/Justin Bieber\", \"rap/Eminem\", \"rap/Chris Brown\", \"pop/Beyonc\\u00c3\\u00a9\", \"pop/Justin Bieber\", \"pop/Beyonc\\u00c3\\u00a9\", \"pop/Taylor Swift\", \"pop/Taylor Swift\", \"pop/Ed Sheeran\", \"pop/Beyonc\\u00c3\\u00a9\", \"pop/Maroon 5\", \"rap/Chris Brown\", \"pop/Justin Bieber\", \"rap/Eminem\", \"rap/Drake\", \"pop/Beyonc\\u00c3\\u00a9\", \"pop/Post Malone\", \"rap/Kanye West\", \"pop/Calvin Harris\", \"pop/The Weeknd\", \"pop/P!nk\", \"pop/Black Eyed Peas\", \"pop/Billie Eilish\", \"pop/Britney Spears\", \"pop/Calvin Harris\", \"pop/Justin Bieber\", \"pop/Ariana Grande\", \"pop/Britney Spears\", \"pop/Beyonc\\u00c3\\u00a9\", \"pop/Katy Perry\", \"pop/The Weeknd\", \"rap/Kanye West\", \"pop/Ed Sheeran\", \"pop/USHER\", \"pop/Katy Perry\", \"pop/Adele\", \"pop/Beyonc\\u00c3\\u00a9\", \"pop/Post Malone\", \"rap/Eminem\", \"pop/Coldplay\", \"pop/USHER\", \"pop/Post Malone\", \"rap/Drake\", \"pop/Beyonc\\u00c3\\u00a9\", \"pop/Taylor Swift\", \"pop/USHER\", \"pop/Ariana Grande\", \"pop/Katy Perry\", \"pop/Maroon 5\", \"pop/Beyonc\\u00c3\\u00a9\", \"pop/Taylor Swift\", \"rap/Chris Brown\", \"pop/Rihanna\", \"rap/Kanye West\", \"pop/Rihanna\", \"pop/Ed Sheeran\", \"pop/P!nk\", \"pop/Black Eyed Peas\", \"pop/Rihanna\", \"pop/Jason Derulo\", \"pop/Maroon 5\", \"pop/Calvin Harris\", \"pop/Beyonc\\u00c3\\u00a9\", \"pop/Katy Perry\", \"pop/The Weeknd\", \"pop/Adele\", \"pop/Coldplay\", \"pop/Taylor Swift\", \"pop/Britney Spears\", \"pop/P!nk\", \"rap/Drake\", \"rap/Drake\", \"rap/Drake\", \"pop/Calvin Harris\", \"pop/Calvin Harris\", \"rap/Drake\", \"rap/Chris Brown\", \"pop/Bruno Mars\", \"pop/Katy Perry\", \"pop/Coldplay\", \"rap/Kanye West\", \"rap/Chris Brown\", \"rap/Drake\", \"pop/Rihanna\", \"pop/Justin Bieber\", \"pop/Black Eyed Peas\", \"pop/Ed Sheeran\", \"pop/P!nk\", \"pop/Justin Bieber\", \"pop/Calvin Harris\", \"pop/Britney Spears\", \"rap/Chris Brown\", \"pop/Maroon 5\", \"rap/Drake\", \"rap/Chris Brown\", \"pop/Ariana Grande\", \"rap/Drake\", \"rap/Eminem\", \"rap/Kanye West\", \"rap/Kanye West\", \"pop/Post Malone\", \"pop/Bruno Mars\", \"pop/Beyonc\\u00c3\\u00a9\", \"pop/Ed Sheeran\", \"pop/Billie Eilish\", \"pop/Rihanna\", \"rap/Drake\", \"rap/Kanye West\", \"pop/Adele\", \"pop/USHER\", \"pop/Black Eyed Peas\", \"pop/Justin Bieber\", \"rap/Drake\", \"pop/Justin Bieber\", \"rap/Kanye West\", \"pop/Justin Bieber\", \"pop/Katy Perry\", \"rap/Drake\", \"pop/Calvin Harris\", \"rap/Kanye West\", \"pop/Coldplay\", \"pop/USHER\", \"pop/Post Malone\", \"pop/The Weeknd\", \"pop/Black Eyed Peas\", \"pop/Katy Perry\", \"pop/Taylor Swift\", \"pop/Shawn Mendes\", \"pop/Post Malone\", \"pop/Calvin Harris\", \"pop/Ed Sheeran\", \"pop/Britney Spears\", \"pop/Calvin Harris\", \"pop/Britney Spears\", \"rap/Drake\", \"pop/Britney Spears\", \"pop/Shawn Mendes\", \"pop/Beyonc\\u00c3\\u00a9\", \"pop/Britney Spears\", \"pop/Black Eyed Peas\", \"pop/Shawn Mendes\", \"rap/Drake\", \"pop/Jason Derulo\", \"pop/Coldplay\", \"pop/The Weeknd\", \"pop/The Weeknd\", \"pop/Justin Bieber\", \"pop/Ariana Grande\", \"pop/Beyonc\\u00c3\\u00a9\", \"pop/Jason Derulo\", \"pop/Bruno Mars\", \"pop/Shawn Mendes\", \"rap/Kanye West\", \"rap/Drake\", \"rap/Drake\", \"pop/Black Eyed Peas\", \"pop/P!nk\", \"pop/P!nk\", \"pop/P!nk\", \"rap/Eminem\", \"pop/Bruno Mars\", \"rap/Chris Brown\", \"pop/Katy Perry\", \"rap/Drake\", \"pop/Taylor Swift\", \"pop/Bruno Mars\", \"pop/Ed Sheeran\", \"pop/Black Eyed Peas\", \"pop/Calvin Harris\", \"pop/Rihanna\", \"rap/Eminem\", \"pop/Bruno Mars\", \"pop/Justin Bieber\", \"rap/Chris Brown\", \"pop/Taylor Swift\", \"pop/Billie Eilish\", \"rap/Kanye West\", \"pop/Ariana Grande\", \"pop/Rihanna\", \"pop/Beyonc\\u00c3\\u00a9\", \"pop/Taylor Swift\", \"pop/Taylor Swift\", \"rap/Eminem\", \"pop/Justin Bieber\", \"pop/USHER\", \"pop/Taylor Swift\", \"rap/Chris Brown\", \"pop/Britney Spears\", \"pop/Black Eyed Peas\", \"pop/Coldplay\", \"pop/Maroon 5\", \"pop/Rihanna\", \"pop/Maroon 5\", \"pop/Bruno Mars\", \"rap/Drake\", \"pop/Beyonc\\u00c3\\u00a9\", \"pop/Black Eyed Peas\", \"pop/Maroon 5\", \"rap/Kanye West\", \"pop/Shawn Mendes\", \"pop/Taylor Swift\", \"pop/Taylor Swift\", \"pop/Maroon 5\", \"rap/Eminem\", \"rap/Drake\", \"pop/Shawn Mendes\", \"pop/USHER\", \"pop/P!nk\", \"pop/Post Malone\", \"pop/Maroon 5\", \"pop/USHER\", \"pop/Black Eyed Peas\", \"pop/Coldplay\", \"pop/Calvin Harris\", \"pop/Beyonc\\u00c3\\u00a9\", \"pop/Rihanna\", \"pop/Katy Perry\", \"rap/Drake\", \"rap/Drake\", \"rap/Eminem\", \"pop/USHER\", \"pop/Adele\", \"rap/Drake\", \"pop/Calvin Harris\", \"pop/Ariana Grande\", \"pop/Post Malone\", \"pop/Justin Bieber\", \"pop/Rihanna\", \"pop/The Weeknd\", \"pop/Calvin Harris\", \"rap/Drake\", \"pop/Britney Spears\", \"pop/Coldplay\", \"pop/Katy Perry\", \"rap/Drake\", \"pop/Maroon 5\", \"pop/Justin Bieber\", \"pop/Ed Sheeran\", \"pop/Ed Sheeran\", \"pop/Britney Spears\", \"pop/P!nk\", \"pop/Rihanna\", \"rap/Kanye West\", \"pop/Coldplay\", \"pop/Ariana Grande\", \"pop/Post Malone\", \"pop/Black Eyed Peas\", \"pop/Black Eyed Peas\", \"pop/P!nk\", \"pop/Katy Perry\", \"pop/Adele\", \"pop/Rihanna\", \"pop/Adele\", \"rap/Chris Brown\", \"pop/Rihanna\", \"pop/Rihanna\", \"pop/Beyonc\\u00c3\\u00a9\", \"pop/The Weeknd\", \"pop/The Weeknd\", \"pop/The Weeknd\", \"pop/The Weeknd\", \"pop/USHER\", \"pop/Adele\", \"pop/Adele\", \"pop/Shawn Mendes\", \"pop/Taylor Swift\", \"rap/Eminem\", \"pop/Ed Sheeran\", \"pop/Maroon 5\", \"pop/Ed Sheeran\", \"pop/Black Eyed Peas\", \"pop/Rihanna\", \"pop/Ariana Grande\", \"pop/Ed Sheeran\", \"rap/Eminem\", \"pop/Beyonc\\u00c3\\u00a9\", \"pop/Bruno Mars\", \"pop/Adele\", \"pop/Calvin Harris\", \"pop/Taylor Swift\", \"pop/P!nk\", \"pop/P!nk\", \"pop/Beyonc\\u00c3\\u00a9\", \"pop/Justin Bieber\", \"pop/Coldplay\", \"rap/Eminem\", \"pop/The Weeknd\", \"rap/Drake\", \"pop/Rihanna\", \"pop/Shawn Mendes\", \"rap/Kanye West\", \"pop/Ariana Grande\", \"pop/P!nk\", \"pop/Taylor Swift\", \"pop/Maroon 5\", \"pop/Calvin Harris\", \"pop/Shawn Mendes\", \"pop/Post Malone\", \"pop/Beyonc\\u00c3\\u00a9\", \"pop/Calvin Harris\", \"pop/Billie Eilish\", \"pop/Rihanna\", \"rap/Drake\", \"pop/Ed Sheeran\", \"pop/Jason Derulo\", \"pop/Jason Derulo\", \"pop/Bruno Mars\", \"pop/Rihanna\", \"pop/Katy Perry\", \"pop/Bruno Mars\", \"pop/Ed Sheeran\", \"pop/The Weeknd\", \"pop/Ed Sheeran\", \"pop/Bruno Mars\", \"rap/Eminem\", \"rap/Drake\", \"pop/Katy Perry\", \"pop/Jason Derulo\", \"rap/Eminem\", \"pop/Coldplay\", \"pop/Black Eyed Peas\", \"pop/Ariana Grande\", \"pop/P!nk\", \"pop/Shawn Mendes\", \"pop/Billie Eilish\", \"pop/Calvin Harris\", \"pop/Ed Sheeran\", \"pop/Katy Perry\", \"pop/Calvin Harris\", \"pop/Maroon 5\", \"rap/Kanye West\", \"rap/Eminem\", \"pop/Britney Spears\", \"pop/Taylor Swift\", \"rap/Drake\", \"rap/Drake\", \"rap/Kanye West\", \"pop/Britney Spears\", \"pop/Bruno Mars\", \"pop/Shawn Mendes\", \"pop/P!nk\", \"pop/Jason Derulo\", \"pop/P!nk\", \"rap/Chris Brown\", \"pop/P!nk\", \"pop/USHER\", \"pop/USHER\", \"pop/USHER\", \"pop/Rihanna\", \"pop/Katy Perry\", \"pop/Calvin Harris\", \"rap/Chris Brown\", \"pop/Rihanna\", \"pop/Coldplay\", \"pop/Coldplay\", \"pop/Katy Perry\", \"pop/Jason Derulo\", \"pop/Adele\", \"pop/Taylor Swift\", \"pop/Rihanna\", \"rap/Eminem\", \"pop/Calvin Harris\", \"pop/P!nk\", \"pop/Justin Bieber\", \"pop/Rihanna\", \"pop/Jason Derulo\", \"rap/Drake\", \"pop/Bruno Mars\", \"rap/Eminem\", \"pop/Adele\", \"pop/Shawn Mendes\", \"pop/Rihanna\", \"pop/Black Eyed Peas\", \"pop/Post Malone\", \"pop/P!nk\", \"pop/Katy Perry\", \"pop/Jason Derulo\", \"pop/Taylor Swift\", \"rap/Chris Brown\", \"rap/Eminem\", \"pop/Britney Spears\", \"pop/Shawn Mendes\", \"pop/Rihanna\", \"pop/Britney Spears\", \"pop/Post Malone\", \"pop/Beyonc\\u00c3\\u00a9\", \"pop/USHER\", \"pop/Coldplay\", \"rap/Chris Brown\", \"pop/Taylor Swift\", \"pop/Taylor Swift\", \"pop/Billie Eilish\", \"pop/Justin Bieber\", \"pop/Taylor Swift\", \"pop/Billie Eilish\", \"pop/Ariana Grande\", \"pop/Ariana Grande\", \"pop/Billie Eilish\", \"pop/Taylor Swift\", \"pop/Billie Eilish\", \"pop/Billie Eilish\", \"pop/Billie Eilish\", \"pop/Ariana Grande\", \"pop/Ariana Grande\", \"pop/Ariana Grande\", \"pop/Post Malone\", \"pop/Ariana Grande\", \"pop/Ariana Grande\", \"pop/Billie Eilish\", \"pop/Taylor Swift\", \"pop\", \"pop\", \"pop\", \"pop\", \"pop\", \"pop\", \"pop\", \"pop\", \"rap\", \"pop\", \"rap\", \"pop\", \"rap\", \"pop\", \"pop\", \"rap\", \"pop\", \"pop\", \"pop\", \"pop\", \"pop\", \"pop\", \"pop\", \"pop\", \"pop\", \"\", \"\"], \"type\": \"sunburst\", \"values\": [1, 1, 1, 1, 2, 1, 1, 1, 1, 1, 1, 1, 1, 1, 1, 1, 1, 1, 1, 1, 1, 1, 1, 1, 1, 2, 1, 1, 1, 1, 1, 1, 1, 1, 2, 1, 1, 2, 1, 1, 1, 1, 1, 1, 1, 1, 1, 1, 1, 1, 1, 1, 1, 1, 1, 2, 1, 2, 1, 1, 1, 1, 1, 1, 1, 1, 1, 1, 1, 1, 1, 1, 1, 1, 1, 1, 1, 1, 1, 1, 1, 1, 1, 2, 1, 1, 1, 1, 1, 1, 1, 1, 1, 1, 1, 1, 1, 1, 1, 1, 1, 1, 1, 1, 1, 1, 1, 1, 1, 1, 1, 1, 1, 1, 1, 1, 1, 1, 1, 1, 1, 1, 1, 2, 1, 1, 2, 1, 1, 1, 1, 1, 1, 1, 1, 2, 1, 1, 1, 1, 1, 1, 1, 1, 2, 1, 1, 1, 1, 1, 1, 1, 1, 1, 1, 1, 1, 1, 1, 1, 1, 1, 1, 1, 1, 1, 1, 1, 1, 1, 1, 1, 2, 1, 1, 1, 1, 1, 1, 2, 1, 1, 1, 1, 1, 1, 1, 1, 1, 2, 1, 1, 1, 1, 2, 2, 1, 1, 1, 1, 1, 2, 1, 1, 1, 1, 1, 1, 1, 1, 1, 1, 1, 1, 1, 1, 1, 1, 1, 1, 1, 1, 1, 1, 1, 1, 1, 1, 1, 1, 1, 1, 1, 1, 1, 1, 1, 1, 1, 1, 1, 1, 1, 1, 1, 1, 1, 1, 1, 1, 2, 1, 1, 1, 1, 1, 1, 1, 1, 1, 1, 1, 1, 1, 1, 1, 1, 1, 1, 1, 1, 1, 1, 1, 1, 1, 1, 1, 1, 1, 2, 1, 1, 1, 1, 1, 1, 2, 1, 1, 1, 1, 1, 1, 1, 1, 1, 1, 1, 1, 1, 2, 1, 1, 1, 1, 1, 1, 1, 1, 1, 2, 1, 1, 1, 1, 1, 1, 1, 1, 1, 1, 1, 2, 1, 1, 1, 1, 1, 1, 1, 1, 1, 1, 1, 1, 1, 1, 1, 1, 1, 1, 2, 1, 2, 1, 1, 1, 1, 1, 1, 1, 1, 1, 1, 1, 1, 1, 1, 1, 2, 1, 1, 1, 1, 1, 1, 1, 1, 1, 1, 1, 1, 1, 1, 1, 1, 2, 1, 1, 1, 1, 2, 2, 1, 1, 1, 2, 1, 1, 1, 1, 1, 1, 1, 1, 1, 1, 1, 1, 1, 1, 1, 1, 1, 1, 1, 1, 1, 1, 1, 1, 2, 1, 1, 1, 1, 1, 2, 1, 1, 2, 1, 1, 1, 1, 1, 1, 15, 22, 22, 15, 16, 15, 15, 21, 16, 18, 32, 19, 18, 12, 21, 18, 17, 14, 20, 15, 27, 13, 31, 15, 14, 377, 84]}],                        {\"legend\": {\"tracegroupgap\": 0}, \"template\": {\"data\": {\"bar\": [{\"error_x\": {\"color\": \"#2a3f5f\"}, \"error_y\": {\"color\": \"#2a3f5f\"}, \"marker\": {\"line\": {\"color\": \"#E5ECF6\", \"width\": 0.5}}, \"type\": \"bar\"}], \"barpolar\": [{\"marker\": {\"line\": {\"color\": \"#E5ECF6\", \"width\": 0.5}}, \"type\": \"barpolar\"}], \"carpet\": [{\"aaxis\": {\"endlinecolor\": \"#2a3f5f\", \"gridcolor\": \"white\", \"linecolor\": \"white\", \"minorgridcolor\": \"white\", \"startlinecolor\": \"#2a3f5f\"}, \"baxis\": {\"endlinecolor\": \"#2a3f5f\", \"gridcolor\": \"white\", \"linecolor\": \"white\", \"minorgridcolor\": \"white\", \"startlinecolor\": \"#2a3f5f\"}, \"type\": \"carpet\"}], \"choropleth\": [{\"colorbar\": {\"outlinewidth\": 0, \"ticks\": \"\"}, \"type\": \"choropleth\"}], \"contour\": [{\"colorbar\": {\"outlinewidth\": 0, \"ticks\": \"\"}, \"colorscale\": [[0.0, \"#0d0887\"], [0.1111111111111111, \"#46039f\"], [0.2222222222222222, \"#7201a8\"], [0.3333333333333333, \"#9c179e\"], [0.4444444444444444, \"#bd3786\"], [0.5555555555555556, \"#d8576b\"], [0.6666666666666666, \"#ed7953\"], [0.7777777777777778, \"#fb9f3a\"], [0.8888888888888888, \"#fdca26\"], [1.0, \"#f0f921\"]], \"type\": \"contour\"}], \"contourcarpet\": [{\"colorbar\": {\"outlinewidth\": 0, \"ticks\": \"\"}, \"type\": \"contourcarpet\"}], \"heatmap\": [{\"colorbar\": {\"outlinewidth\": 0, \"ticks\": \"\"}, \"colorscale\": [[0.0, \"#0d0887\"], [0.1111111111111111, \"#46039f\"], [0.2222222222222222, \"#7201a8\"], [0.3333333333333333, \"#9c179e\"], [0.4444444444444444, \"#bd3786\"], [0.5555555555555556, \"#d8576b\"], [0.6666666666666666, \"#ed7953\"], [0.7777777777777778, \"#fb9f3a\"], [0.8888888888888888, \"#fdca26\"], [1.0, \"#f0f921\"]], \"type\": \"heatmap\"}], \"heatmapgl\": [{\"colorbar\": {\"outlinewidth\": 0, \"ticks\": \"\"}, \"colorscale\": [[0.0, \"#0d0887\"], [0.1111111111111111, \"#46039f\"], [0.2222222222222222, \"#7201a8\"], [0.3333333333333333, \"#9c179e\"], [0.4444444444444444, \"#bd3786\"], [0.5555555555555556, \"#d8576b\"], [0.6666666666666666, \"#ed7953\"], [0.7777777777777778, \"#fb9f3a\"], [0.8888888888888888, \"#fdca26\"], [1.0, \"#f0f921\"]], \"type\": \"heatmapgl\"}], \"histogram\": [{\"marker\": {\"colorbar\": {\"outlinewidth\": 0, \"ticks\": \"\"}}, \"type\": \"histogram\"}], \"histogram2d\": [{\"colorbar\": {\"outlinewidth\": 0, \"ticks\": \"\"}, \"colorscale\": [[0.0, \"#0d0887\"], [0.1111111111111111, \"#46039f\"], [0.2222222222222222, \"#7201a8\"], [0.3333333333333333, \"#9c179e\"], [0.4444444444444444, \"#bd3786\"], [0.5555555555555556, \"#d8576b\"], [0.6666666666666666, \"#ed7953\"], [0.7777777777777778, \"#fb9f3a\"], [0.8888888888888888, \"#fdca26\"], [1.0, \"#f0f921\"]], \"type\": \"histogram2d\"}], \"histogram2dcontour\": [{\"colorbar\": {\"outlinewidth\": 0, \"ticks\": \"\"}, \"colorscale\": [[0.0, \"#0d0887\"], [0.1111111111111111, \"#46039f\"], [0.2222222222222222, \"#7201a8\"], [0.3333333333333333, \"#9c179e\"], [0.4444444444444444, \"#bd3786\"], [0.5555555555555556, \"#d8576b\"], [0.6666666666666666, \"#ed7953\"], [0.7777777777777778, \"#fb9f3a\"], [0.8888888888888888, \"#fdca26\"], [1.0, \"#f0f921\"]], \"type\": \"histogram2dcontour\"}], \"mesh3d\": [{\"colorbar\": {\"outlinewidth\": 0, \"ticks\": \"\"}, \"type\": \"mesh3d\"}], \"parcoords\": [{\"line\": {\"colorbar\": {\"outlinewidth\": 0, \"ticks\": \"\"}}, \"type\": \"parcoords\"}], \"pie\": [{\"automargin\": true, \"type\": \"pie\"}], \"scatter\": [{\"marker\": {\"colorbar\": {\"outlinewidth\": 0, \"ticks\": \"\"}}, \"type\": \"scatter\"}], \"scatter3d\": [{\"line\": {\"colorbar\": {\"outlinewidth\": 0, \"ticks\": \"\"}}, \"marker\": {\"colorbar\": {\"outlinewidth\": 0, \"ticks\": \"\"}}, \"type\": \"scatter3d\"}], \"scattercarpet\": [{\"marker\": {\"colorbar\": {\"outlinewidth\": 0, \"ticks\": \"\"}}, \"type\": \"scattercarpet\"}], \"scattergeo\": [{\"marker\": {\"colorbar\": {\"outlinewidth\": 0, \"ticks\": \"\"}}, \"type\": \"scattergeo\"}], \"scattergl\": [{\"marker\": {\"colorbar\": {\"outlinewidth\": 0, \"ticks\": \"\"}}, \"type\": \"scattergl\"}], \"scattermapbox\": [{\"marker\": {\"colorbar\": {\"outlinewidth\": 0, \"ticks\": \"\"}}, \"type\": \"scattermapbox\"}], \"scatterpolar\": [{\"marker\": {\"colorbar\": {\"outlinewidth\": 0, \"ticks\": \"\"}}, \"type\": \"scatterpolar\"}], \"scatterpolargl\": [{\"marker\": {\"colorbar\": {\"outlinewidth\": 0, \"ticks\": \"\"}}, \"type\": \"scatterpolargl\"}], \"scatterternary\": [{\"marker\": {\"colorbar\": {\"outlinewidth\": 0, \"ticks\": \"\"}}, \"type\": \"scatterternary\"}], \"surface\": [{\"colorbar\": {\"outlinewidth\": 0, \"ticks\": \"\"}, \"colorscale\": [[0.0, \"#0d0887\"], [0.1111111111111111, \"#46039f\"], [0.2222222222222222, \"#7201a8\"], [0.3333333333333333, \"#9c179e\"], [0.4444444444444444, \"#bd3786\"], [0.5555555555555556, \"#d8576b\"], [0.6666666666666666, \"#ed7953\"], [0.7777777777777778, \"#fb9f3a\"], [0.8888888888888888, \"#fdca26\"], [1.0, \"#f0f921\"]], \"type\": \"surface\"}], \"table\": [{\"cells\": {\"fill\": {\"color\": \"#EBF0F8\"}, \"line\": {\"color\": \"white\"}}, \"header\": {\"fill\": {\"color\": \"#C8D4E3\"}, \"line\": {\"color\": \"white\"}}, \"type\": \"table\"}]}, \"layout\": {\"annotationdefaults\": {\"arrowcolor\": \"#2a3f5f\", \"arrowhead\": 0, \"arrowwidth\": 1}, \"coloraxis\": {\"colorbar\": {\"outlinewidth\": 0, \"ticks\": \"\"}}, \"colorscale\": {\"diverging\": [[0, \"#8e0152\"], [0.1, \"#c51b7d\"], [0.2, \"#de77ae\"], [0.3, \"#f1b6da\"], [0.4, \"#fde0ef\"], [0.5, \"#f7f7f7\"], [0.6, \"#e6f5d0\"], [0.7, \"#b8e186\"], [0.8, \"#7fbc41\"], [0.9, \"#4d9221\"], [1, \"#276419\"]], \"sequential\": [[0.0, \"#0d0887\"], [0.1111111111111111, \"#46039f\"], [0.2222222222222222, \"#7201a8\"], [0.3333333333333333, \"#9c179e\"], [0.4444444444444444, \"#bd3786\"], [0.5555555555555556, \"#d8576b\"], [0.6666666666666666, \"#ed7953\"], [0.7777777777777778, \"#fb9f3a\"], [0.8888888888888888, \"#fdca26\"], [1.0, \"#f0f921\"]], \"sequentialminus\": [[0.0, \"#0d0887\"], [0.1111111111111111, \"#46039f\"], [0.2222222222222222, \"#7201a8\"], [0.3333333333333333, \"#9c179e\"], [0.4444444444444444, \"#bd3786\"], [0.5555555555555556, \"#d8576b\"], [0.6666666666666666, \"#ed7953\"], [0.7777777777777778, \"#fb9f3a\"], [0.8888888888888888, \"#fdca26\"], [1.0, \"#f0f921\"]]}, \"colorway\": [\"#636efa\", \"#EF553B\", \"#00cc96\", \"#ab63fa\", \"#FFA15A\", \"#19d3f3\", \"#FF6692\", \"#B6E880\", \"#FF97FF\", \"#FECB52\"], \"font\": {\"color\": \"#2a3f5f\"}, \"geo\": {\"bgcolor\": \"white\", \"lakecolor\": \"white\", \"landcolor\": \"#E5ECF6\", \"showlakes\": true, \"showland\": true, \"subunitcolor\": \"white\"}, \"hoverlabel\": {\"align\": \"left\"}, \"hovermode\": \"closest\", \"mapbox\": {\"style\": \"light\"}, \"paper_bgcolor\": \"white\", \"plot_bgcolor\": \"#E5ECF6\", \"polar\": {\"angularaxis\": {\"gridcolor\": \"white\", \"linecolor\": \"white\", \"ticks\": \"\"}, \"bgcolor\": \"#E5ECF6\", \"radialaxis\": {\"gridcolor\": \"white\", \"linecolor\": \"white\", \"ticks\": \"\"}}, \"scene\": {\"xaxis\": {\"backgroundcolor\": \"#E5ECF6\", \"gridcolor\": \"white\", \"gridwidth\": 2, \"linecolor\": \"white\", \"showbackground\": true, \"ticks\": \"\", \"zerolinecolor\": \"white\"}, \"yaxis\": {\"backgroundcolor\": \"#E5ECF6\", \"gridcolor\": \"white\", \"gridwidth\": 2, \"linecolor\": \"white\", \"showbackground\": true, \"ticks\": \"\", \"zerolinecolor\": \"white\"}, \"zaxis\": {\"backgroundcolor\": \"#E5ECF6\", \"gridcolor\": \"white\", \"gridwidth\": 2, \"linecolor\": \"white\", \"showbackground\": true, \"ticks\": \"\", \"zerolinecolor\": \"white\"}}, \"shapedefaults\": {\"line\": {\"color\": \"#2a3f5f\"}}, \"ternary\": {\"aaxis\": {\"gridcolor\": \"white\", \"linecolor\": \"white\", \"ticks\": \"\"}, \"baxis\": {\"gridcolor\": \"white\", \"linecolor\": \"white\", \"ticks\": \"\"}, \"bgcolor\": \"#E5ECF6\", \"caxis\": {\"gridcolor\": \"white\", \"linecolor\": \"white\", \"ticks\": \"\"}}, \"title\": {\"x\": 0.05}, \"xaxis\": {\"automargin\": true, \"gridcolor\": \"white\", \"linecolor\": \"white\", \"ticks\": \"\", \"title\": {\"standoff\": 15}, \"zerolinecolor\": \"white\", \"zerolinewidth\": 2}, \"yaxis\": {\"automargin\": true, \"gridcolor\": \"white\", \"linecolor\": \"white\", \"ticks\": \"\", \"title\": {\"standoff\": 15}, \"zerolinecolor\": \"white\", \"zerolinewidth\": 2}}}, \"title\": {\"text\": \"Playlist for top 25 artist by their songs count and genre\"}},                        {\"responsive\": true}                    ).then(function(){\n",
       "                            \n",
       "var gd = document.getElementById('88d5c07d-a89c-4a0b-9211-f38eafcea687');\n",
       "var x = new MutationObserver(function (mutations, observer) {{\n",
       "        var display = window.getComputedStyle(gd).display;\n",
       "        if (!display || display === 'none') {{\n",
       "            console.log([gd, 'removed!']);\n",
       "            Plotly.purge(gd);\n",
       "            observer.disconnect();\n",
       "        }}\n",
       "}});\n",
       "\n",
       "// Listen for the removal of the full notebook cells\n",
       "var notebookContainer = gd.closest('#notebook-container');\n",
       "if (notebookContainer) {{\n",
       "    x.observe(notebookContainer, {childList: true});\n",
       "}}\n",
       "\n",
       "// Listen for the clearing of the current output cell\n",
       "var outputEl = gd.closest('.output');\n",
       "if (outputEl) {{\n",
       "    x.observe(outputEl, {childList: true});\n",
       "}}\n",
       "\n",
       "                        })                };                });            </script>        </div>"
      ]
     },
     "metadata": {},
     "output_type": "display_data"
    },
    {
     "data": {
      "application/javascript": [
       "\n",
       "            setTimeout(function() {\n",
       "                var nbb_cell_id = 165;\n",
       "                var nbb_unformatted_code = \"px.sunburst(sdf, path=[\\\"only_one_genre\\\", \\\"artist_name\\\", \\\"track_name\\\"], values=\\\"count\\\",title=\\\"Playlist for top 25 artist by their songs count and genre\\\")\";\n",
       "                var nbb_formatted_code = \"px.sunburst(\\n    sdf,\\n    path=[\\\"only_one_genre\\\", \\\"artist_name\\\", \\\"track_name\\\"],\\n    values=\\\"count\\\",\\n    title=\\\"Playlist for top 25 artist by their songs count and genre\\\",\\n)\";\n",
       "                var nbb_cells = Jupyter.notebook.get_cells();\n",
       "                for (var i = 0; i < nbb_cells.length; ++i) {\n",
       "                    if (nbb_cells[i].input_prompt_number == nbb_cell_id) {\n",
       "                        if (nbb_cells[i].get_text() == nbb_unformatted_code) {\n",
       "                             nbb_cells[i].set_text(nbb_formatted_code);\n",
       "                        }\n",
       "                        break;\n",
       "                    }\n",
       "                }\n",
       "            }, 500);\n",
       "            "
      ],
      "text/plain": [
       "<IPython.core.display.Javascript object>"
      ]
     },
     "metadata": {},
     "output_type": "display_data"
    }
   ],
   "source": [
    "px.sunburst(\n",
    "    sdf,\n",
    "    path=[\"only_one_genre\", \"artist_name\", \"track_name\"],\n",
    "    values=\"count\",\n",
    "    title=\"Playlist for top 25 artist by their songs count and genre\",\n",
    ")"
   ]
  }
 ],
 "metadata": {
  "kernelspec": {
   "display_name": "Python 3 (ipykernel)",
   "language": "python",
   "name": "python3"
  },
  "language_info": {
   "codemirror_mode": {
    "name": "ipython",
    "version": 3
   },
   "file_extension": ".py",
   "mimetype": "text/x-python",
   "name": "python",
   "nbconvert_exporter": "python",
   "pygments_lexer": "ipython3",
   "version": "3.11.4"
  }
 },
 "nbformat": 4,
 "nbformat_minor": 4
}
